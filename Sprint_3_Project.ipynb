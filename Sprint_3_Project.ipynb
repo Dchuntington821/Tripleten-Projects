{
 "cells": [
  {
   "cell_type": "markdown",
   "metadata": {},
   "source": [
    "<div style=\"border:solid green 2px; padding: 20px\">\n",
    "    \n",
    "<b>Hello, Daniel!</b> We're glad to see you in code-reviewer territory. You've done a great job on the project, but let's get to know each other and make it even better! We have our own atmosphere here and a few rules:\n",
    "\n",
    "\n",
    "1. I work as a code reviewer, and my main goal is not to point out your mistakes, but to share my experience and help you become a data analyst.\n",
    "2. We speak on a first-come-first-served basis.\n",
    "3. if you want to write or ask a question, don't be shy. Just choose your color for your comment.  \n",
    "4. this is a training project, you don't have to be afraid of making a mistake.  \n",
    "5. You have an unlimited number of attempts to pass the project.  \n",
    "6. Let's Go!\n",
    "\n",
    "\n",
    "---\n",
    "I'll be color-coding comments, please don't delete them:\n",
    "\n",
    "<div class=\"alert alert-block alert-danger\">✍\n",
    "    \n",
    "\n",
    "__Reviewer's comment №1__\n",
    "\n",
    "Needs fixing. The block requires some corrections. Work can't be accepted with the red comments.\n",
    "</div>\n",
    "    \n",
    "---\n",
    "\n",
    "<div class=\"alert alert-block alert-warning\">📝\n",
    "    \n",
    "\n",
    "__Reviewer's comment №1__\n",
    "\n",
    "\n",
    "Remarks. Some recommendations.\n",
    "</div>\n",
    "\n",
    "---\n",
    "\n",
    "<div class=\"alert alert-block alert-success\">✔️\n",
    "    \n",
    "\n",
    "__Reviewer's comment №1__\n",
    "\n",
    "Success. Everything is done succesfully.\n",
    "</div>\n",
    "    \n",
    "---\n",
    "    \n",
    "I suggest that we work on the project in dialogue: if you change something in the project or respond to my comments, write about it. It will be easier for me to track changes if you highlight your comments:   \n",
    "    \n",
    "<div class=\"alert alert-info\"> <b>Student сomments:</b> Student answer..</div>\n",
    "    \n",
    "All this will help to make the recheck of your project faster. If you have any questions about my comments, let me know, we'll figure it out together :)   \n",
    "    \n",
    "---"
   ]
  },
  {
   "cell_type": "markdown",
   "metadata": {},
   "source": [
    "# Which one is a better plan?\n",
    "\n",
    "You work as an analyst for the telecom operator Megaline. The company offers its clients two prepaid plans, Surf and Ultimate. The commercial department wants to know which of the plans brings in more revenue in order to adjust the advertising budget.\n",
    "\n",
    "You are going to carry out a preliminary analysis of the plans based on a relatively small client selection. You'll have the data on 500 Megaline clients: who the clients are, where they're from, which plan they use, and the number of calls they made and text messages they sent in 2018. Your job is to analyze the clients' behavior and determine which prepaid plan brings in more revenue."
   ]
  },
  {
   "cell_type": "markdown",
   "metadata": {},
   "source": [
    "[We've provided you with some commentary to guide your thinking as you complete this project. However, make sure to remove all the bracketed comments before submitting your project.]\n",
    "\n",
    "[Before you dive into analyzing your data, explain for yourself the purpose of the project and actions you plan to take.]\n",
    "\n",
    "[Please bear in mind that studying, amending, and analyzing data is an iterative process. It is normal to return to previous steps and correct/expand them to allow for further steps.]"
   ]
  },
  {
   "cell_type": "markdown",
   "metadata": {},
   "source": []
  },
  {
   "cell_type": "markdown",
   "metadata": {},
   "source": [
    "# Megaline Data Analysis and Hypothesis Testing"
   ]
  },
  {
   "cell_type": "markdown",
   "metadata": {},
   "source": [
    "The goal of this project is to analyze how the users of each megaline plan use their plans, how much revenue is brought in by each plan on average, how many messages, calls, minutes and how much data in megabytes, the users of each plan use per month. \n",
    "\n",
    "I will clean each data set, combine the most important information from each data set making sure to include the plan information as well. I will then split the data into two groups, one with Surf plan users only, and one with the Ultimate users only. I will use these two data sets for most of the analysis, occassionally using the master data frame that contains all the information for users of both plans. "
   ]
  },
  {
   "cell_type": "markdown",
   "metadata": {},
   "source": [
    "<div class=\"alert alert-block alert-success\">✔️\n",
    "    \n",
    "\n",
    "__Reviewer's comment №1__\n",
    "\n",
    "An excellent practice is to describe the goal and main steps in your own words (a skill that will help a lot on a final project). It would be good to add the progress and purpose of the study."
   ]
  },
  {
   "cell_type": "markdown",
   "metadata": {},
   "source": [
    "## Initialization"
   ]
  },
  {
   "cell_type": "markdown",
   "metadata": {},
   "source": []
  },
  {
   "cell_type": "code",
   "execution_count": 1,
   "metadata": {},
   "outputs": [],
   "source": [
    "# Loading all the libraries\n",
    "import pandas as pd\n",
    "import numpy as np\n",
    "from scipy import stats as st\n",
    "import math as math\n",
    "import matplotlib.pyplot as plt"
   ]
  },
  {
   "cell_type": "markdown",
   "metadata": {},
   "source": [
    "## Load data"
   ]
  },
  {
   "cell_type": "markdown",
   "metadata": {},
   "source": [
    "All datasets loaded in as dataframes."
   ]
  },
  {
   "cell_type": "code",
   "execution_count": 2,
   "metadata": {},
   "outputs": [],
   "source": [
    "# Load the data files into different DataFrames\n",
    "df_users = pd.read_csv('/datasets/megaline_users.csv')"
   ]
  },
  {
   "cell_type": "code",
   "execution_count": 3,
   "metadata": {},
   "outputs": [],
   "source": [
    "df_calls = pd.read_csv('/datasets/megaline_calls.csv')"
   ]
  },
  {
   "cell_type": "code",
   "execution_count": 4,
   "metadata": {},
   "outputs": [],
   "source": [
    "df_messages = pd.read_csv('/datasets/megaline_messages.csv')"
   ]
  },
  {
   "cell_type": "code",
   "execution_count": 5,
   "metadata": {},
   "outputs": [],
   "source": [
    "df_plans = pd.read_csv('/datasets/megaline_plans.csv')"
   ]
  },
  {
   "cell_type": "code",
   "execution_count": 6,
   "metadata": {},
   "outputs": [],
   "source": [
    "df_internet = pd.read_csv('/datasets/megaline_internet.csv')"
   ]
  },
  {
   "cell_type": "markdown",
   "metadata": {},
   "source": [
    "## Prepare the data"
   ]
  },
  {
   "cell_type": "code",
   "execution_count": 7,
   "metadata": {},
   "outputs": [
    {
     "data": {
      "text/html": [
       "<div>\n",
       "<style scoped>\n",
       "    .dataframe tbody tr th:only-of-type {\n",
       "        vertical-align: middle;\n",
       "    }\n",
       "\n",
       "    .dataframe tbody tr th {\n",
       "        vertical-align: top;\n",
       "    }\n",
       "\n",
       "    .dataframe thead th {\n",
       "        text-align: right;\n",
       "    }\n",
       "</style>\n",
       "<table border=\"1\" class=\"dataframe\">\n",
       "  <thead>\n",
       "    <tr style=\"text-align: right;\">\n",
       "      <th></th>\n",
       "      <th>user_id</th>\n",
       "      <th>first_name</th>\n",
       "      <th>last_name</th>\n",
       "      <th>age</th>\n",
       "      <th>city</th>\n",
       "      <th>reg_date</th>\n",
       "      <th>plan</th>\n",
       "      <th>churn_date</th>\n",
       "    </tr>\n",
       "  </thead>\n",
       "  <tbody>\n",
       "    <tr>\n",
       "      <th>0</th>\n",
       "      <td>1000</td>\n",
       "      <td>Anamaria</td>\n",
       "      <td>Bauer</td>\n",
       "      <td>45</td>\n",
       "      <td>Atlanta-Sandy Springs-Roswell, GA MSA</td>\n",
       "      <td>2018-12-24</td>\n",
       "      <td>ultimate</td>\n",
       "      <td>NaN</td>\n",
       "    </tr>\n",
       "    <tr>\n",
       "      <th>1</th>\n",
       "      <td>1001</td>\n",
       "      <td>Mickey</td>\n",
       "      <td>Wilkerson</td>\n",
       "      <td>28</td>\n",
       "      <td>Seattle-Tacoma-Bellevue, WA MSA</td>\n",
       "      <td>2018-08-13</td>\n",
       "      <td>surf</td>\n",
       "      <td>NaN</td>\n",
       "    </tr>\n",
       "    <tr>\n",
       "      <th>2</th>\n",
       "      <td>1002</td>\n",
       "      <td>Carlee</td>\n",
       "      <td>Hoffman</td>\n",
       "      <td>36</td>\n",
       "      <td>Las Vegas-Henderson-Paradise, NV MSA</td>\n",
       "      <td>2018-10-21</td>\n",
       "      <td>surf</td>\n",
       "      <td>NaN</td>\n",
       "    </tr>\n",
       "    <tr>\n",
       "      <th>3</th>\n",
       "      <td>1003</td>\n",
       "      <td>Reynaldo</td>\n",
       "      <td>Jenkins</td>\n",
       "      <td>52</td>\n",
       "      <td>Tulsa, OK MSA</td>\n",
       "      <td>2018-01-28</td>\n",
       "      <td>surf</td>\n",
       "      <td>NaN</td>\n",
       "    </tr>\n",
       "    <tr>\n",
       "      <th>4</th>\n",
       "      <td>1004</td>\n",
       "      <td>Leonila</td>\n",
       "      <td>Thompson</td>\n",
       "      <td>40</td>\n",
       "      <td>Seattle-Tacoma-Bellevue, WA MSA</td>\n",
       "      <td>2018-05-23</td>\n",
       "      <td>surf</td>\n",
       "      <td>NaN</td>\n",
       "    </tr>\n",
       "  </tbody>\n",
       "</table>\n",
       "</div>"
      ],
      "text/plain": [
       "   user_id first_name  last_name  age                                   city  \\\n",
       "0     1000   Anamaria      Bauer   45  Atlanta-Sandy Springs-Roswell, GA MSA   \n",
       "1     1001     Mickey  Wilkerson   28        Seattle-Tacoma-Bellevue, WA MSA   \n",
       "2     1002     Carlee    Hoffman   36   Las Vegas-Henderson-Paradise, NV MSA   \n",
       "3     1003   Reynaldo    Jenkins   52                          Tulsa, OK MSA   \n",
       "4     1004    Leonila   Thompson   40        Seattle-Tacoma-Bellevue, WA MSA   \n",
       "\n",
       "     reg_date      plan churn_date  \n",
       "0  2018-12-24  ultimate        NaN  \n",
       "1  2018-08-13      surf        NaN  \n",
       "2  2018-10-21      surf        NaN  \n",
       "3  2018-01-28      surf        NaN  \n",
       "4  2018-05-23      surf        NaN  "
      ]
     },
     "execution_count": 7,
     "metadata": {},
     "output_type": "execute_result"
    }
   ],
   "source": [
    "df_users.head()"
   ]
  },
  {
   "cell_type": "code",
   "execution_count": 8,
   "metadata": {},
   "outputs": [
    {
     "data": {
      "text/html": [
       "<div>\n",
       "<style scoped>\n",
       "    .dataframe tbody tr th:only-of-type {\n",
       "        vertical-align: middle;\n",
       "    }\n",
       "\n",
       "    .dataframe tbody tr th {\n",
       "        vertical-align: top;\n",
       "    }\n",
       "\n",
       "    .dataframe thead th {\n",
       "        text-align: right;\n",
       "    }\n",
       "</style>\n",
       "<table border=\"1\" class=\"dataframe\">\n",
       "  <thead>\n",
       "    <tr style=\"text-align: right;\">\n",
       "      <th></th>\n",
       "      <th>id</th>\n",
       "      <th>user_id</th>\n",
       "      <th>call_date</th>\n",
       "      <th>duration</th>\n",
       "    </tr>\n",
       "  </thead>\n",
       "  <tbody>\n",
       "    <tr>\n",
       "      <th>0</th>\n",
       "      <td>1000_93</td>\n",
       "      <td>1000</td>\n",
       "      <td>2018-12-27</td>\n",
       "      <td>8.52</td>\n",
       "    </tr>\n",
       "    <tr>\n",
       "      <th>1</th>\n",
       "      <td>1000_145</td>\n",
       "      <td>1000</td>\n",
       "      <td>2018-12-27</td>\n",
       "      <td>13.66</td>\n",
       "    </tr>\n",
       "    <tr>\n",
       "      <th>2</th>\n",
       "      <td>1000_247</td>\n",
       "      <td>1000</td>\n",
       "      <td>2018-12-27</td>\n",
       "      <td>14.48</td>\n",
       "    </tr>\n",
       "    <tr>\n",
       "      <th>3</th>\n",
       "      <td>1000_309</td>\n",
       "      <td>1000</td>\n",
       "      <td>2018-12-28</td>\n",
       "      <td>5.76</td>\n",
       "    </tr>\n",
       "    <tr>\n",
       "      <th>4</th>\n",
       "      <td>1000_380</td>\n",
       "      <td>1000</td>\n",
       "      <td>2018-12-30</td>\n",
       "      <td>4.22</td>\n",
       "    </tr>\n",
       "  </tbody>\n",
       "</table>\n",
       "</div>"
      ],
      "text/plain": [
       "         id  user_id   call_date  duration\n",
       "0   1000_93     1000  2018-12-27      8.52\n",
       "1  1000_145     1000  2018-12-27     13.66\n",
       "2  1000_247     1000  2018-12-27     14.48\n",
       "3  1000_309     1000  2018-12-28      5.76\n",
       "4  1000_380     1000  2018-12-30      4.22"
      ]
     },
     "execution_count": 8,
     "metadata": {},
     "output_type": "execute_result"
    }
   ],
   "source": [
    "df_calls.head()"
   ]
  },
  {
   "cell_type": "code",
   "execution_count": 9,
   "metadata": {},
   "outputs": [
    {
     "data": {
      "text/html": [
       "<div>\n",
       "<style scoped>\n",
       "    .dataframe tbody tr th:only-of-type {\n",
       "        vertical-align: middle;\n",
       "    }\n",
       "\n",
       "    .dataframe tbody tr th {\n",
       "        vertical-align: top;\n",
       "    }\n",
       "\n",
       "    .dataframe thead th {\n",
       "        text-align: right;\n",
       "    }\n",
       "</style>\n",
       "<table border=\"1\" class=\"dataframe\">\n",
       "  <thead>\n",
       "    <tr style=\"text-align: right;\">\n",
       "      <th></th>\n",
       "      <th>id</th>\n",
       "      <th>user_id</th>\n",
       "      <th>message_date</th>\n",
       "    </tr>\n",
       "  </thead>\n",
       "  <tbody>\n",
       "    <tr>\n",
       "      <th>0</th>\n",
       "      <td>1000_125</td>\n",
       "      <td>1000</td>\n",
       "      <td>2018-12-27</td>\n",
       "    </tr>\n",
       "    <tr>\n",
       "      <th>1</th>\n",
       "      <td>1000_160</td>\n",
       "      <td>1000</td>\n",
       "      <td>2018-12-31</td>\n",
       "    </tr>\n",
       "    <tr>\n",
       "      <th>2</th>\n",
       "      <td>1000_223</td>\n",
       "      <td>1000</td>\n",
       "      <td>2018-12-31</td>\n",
       "    </tr>\n",
       "    <tr>\n",
       "      <th>3</th>\n",
       "      <td>1000_251</td>\n",
       "      <td>1000</td>\n",
       "      <td>2018-12-27</td>\n",
       "    </tr>\n",
       "    <tr>\n",
       "      <th>4</th>\n",
       "      <td>1000_255</td>\n",
       "      <td>1000</td>\n",
       "      <td>2018-12-26</td>\n",
       "    </tr>\n",
       "  </tbody>\n",
       "</table>\n",
       "</div>"
      ],
      "text/plain": [
       "         id  user_id message_date\n",
       "0  1000_125     1000   2018-12-27\n",
       "1  1000_160     1000   2018-12-31\n",
       "2  1000_223     1000   2018-12-31\n",
       "3  1000_251     1000   2018-12-27\n",
       "4  1000_255     1000   2018-12-26"
      ]
     },
     "execution_count": 9,
     "metadata": {},
     "output_type": "execute_result"
    }
   ],
   "source": [
    "df_messages.head()"
   ]
  },
  {
   "cell_type": "code",
   "execution_count": 10,
   "metadata": {},
   "outputs": [
    {
     "data": {
      "text/html": [
       "<div>\n",
       "<style scoped>\n",
       "    .dataframe tbody tr th:only-of-type {\n",
       "        vertical-align: middle;\n",
       "    }\n",
       "\n",
       "    .dataframe tbody tr th {\n",
       "        vertical-align: top;\n",
       "    }\n",
       "\n",
       "    .dataframe thead th {\n",
       "        text-align: right;\n",
       "    }\n",
       "</style>\n",
       "<table border=\"1\" class=\"dataframe\">\n",
       "  <thead>\n",
       "    <tr style=\"text-align: right;\">\n",
       "      <th></th>\n",
       "      <th>messages_included</th>\n",
       "      <th>mb_per_month_included</th>\n",
       "      <th>minutes_included</th>\n",
       "      <th>usd_monthly_pay</th>\n",
       "      <th>usd_per_gb</th>\n",
       "      <th>usd_per_message</th>\n",
       "      <th>usd_per_minute</th>\n",
       "      <th>plan_name</th>\n",
       "    </tr>\n",
       "  </thead>\n",
       "  <tbody>\n",
       "    <tr>\n",
       "      <th>0</th>\n",
       "      <td>50</td>\n",
       "      <td>15360</td>\n",
       "      <td>500</td>\n",
       "      <td>20</td>\n",
       "      <td>10</td>\n",
       "      <td>0.03</td>\n",
       "      <td>0.03</td>\n",
       "      <td>surf</td>\n",
       "    </tr>\n",
       "    <tr>\n",
       "      <th>1</th>\n",
       "      <td>1000</td>\n",
       "      <td>30720</td>\n",
       "      <td>3000</td>\n",
       "      <td>70</td>\n",
       "      <td>7</td>\n",
       "      <td>0.01</td>\n",
       "      <td>0.01</td>\n",
       "      <td>ultimate</td>\n",
       "    </tr>\n",
       "  </tbody>\n",
       "</table>\n",
       "</div>"
      ],
      "text/plain": [
       "   messages_included  mb_per_month_included  minutes_included  \\\n",
       "0                 50                  15360               500   \n",
       "1               1000                  30720              3000   \n",
       "\n",
       "   usd_monthly_pay  usd_per_gb  usd_per_message  usd_per_minute plan_name  \n",
       "0               20          10             0.03            0.03      surf  \n",
       "1               70           7             0.01            0.01  ultimate  "
      ]
     },
     "execution_count": 10,
     "metadata": {},
     "output_type": "execute_result"
    }
   ],
   "source": [
    "df_plans.head()"
   ]
  },
  {
   "cell_type": "markdown",
   "metadata": {},
   "source": [
    "Nothing to worry about here."
   ]
  },
  {
   "cell_type": "code",
   "execution_count": 11,
   "metadata": {},
   "outputs": [
    {
     "data": {
      "text/html": [
       "<div>\n",
       "<style scoped>\n",
       "    .dataframe tbody tr th:only-of-type {\n",
       "        vertical-align: middle;\n",
       "    }\n",
       "\n",
       "    .dataframe tbody tr th {\n",
       "        vertical-align: top;\n",
       "    }\n",
       "\n",
       "    .dataframe thead th {\n",
       "        text-align: right;\n",
       "    }\n",
       "</style>\n",
       "<table border=\"1\" class=\"dataframe\">\n",
       "  <thead>\n",
       "    <tr style=\"text-align: right;\">\n",
       "      <th></th>\n",
       "      <th>id</th>\n",
       "      <th>user_id</th>\n",
       "      <th>session_date</th>\n",
       "      <th>mb_used</th>\n",
       "    </tr>\n",
       "  </thead>\n",
       "  <tbody>\n",
       "    <tr>\n",
       "      <th>0</th>\n",
       "      <td>1000_13</td>\n",
       "      <td>1000</td>\n",
       "      <td>2018-12-29</td>\n",
       "      <td>89.86</td>\n",
       "    </tr>\n",
       "    <tr>\n",
       "      <th>1</th>\n",
       "      <td>1000_204</td>\n",
       "      <td>1000</td>\n",
       "      <td>2018-12-31</td>\n",
       "      <td>0.00</td>\n",
       "    </tr>\n",
       "    <tr>\n",
       "      <th>2</th>\n",
       "      <td>1000_379</td>\n",
       "      <td>1000</td>\n",
       "      <td>2018-12-28</td>\n",
       "      <td>660.40</td>\n",
       "    </tr>\n",
       "    <tr>\n",
       "      <th>3</th>\n",
       "      <td>1000_413</td>\n",
       "      <td>1000</td>\n",
       "      <td>2018-12-26</td>\n",
       "      <td>270.99</td>\n",
       "    </tr>\n",
       "    <tr>\n",
       "      <th>4</th>\n",
       "      <td>1000_442</td>\n",
       "      <td>1000</td>\n",
       "      <td>2018-12-27</td>\n",
       "      <td>880.22</td>\n",
       "    </tr>\n",
       "  </tbody>\n",
       "</table>\n",
       "</div>"
      ],
      "text/plain": [
       "         id  user_id session_date  mb_used\n",
       "0   1000_13     1000   2018-12-29    89.86\n",
       "1  1000_204     1000   2018-12-31     0.00\n",
       "2  1000_379     1000   2018-12-28   660.40\n",
       "3  1000_413     1000   2018-12-26   270.99\n",
       "4  1000_442     1000   2018-12-27   880.22"
      ]
     },
     "execution_count": 11,
     "metadata": {},
     "output_type": "execute_result"
    }
   ],
   "source": [
    "df_internet.head()"
   ]
  },
  {
   "cell_type": "markdown",
   "metadata": {},
   "source": [
    "Changed 'user_id' data to object for consistency. There are no duplicate rows or missing values. "
   ]
  },
  {
   "cell_type": "markdown",
   "metadata": {},
   "source": [
    "## Plans"
   ]
  },
  {
   "cell_type": "code",
   "execution_count": 12,
   "metadata": {},
   "outputs": [
    {
     "name": "stdout",
     "output_type": "stream",
     "text": [
      "<class 'pandas.core.frame.DataFrame'>\n",
      "RangeIndex: 2 entries, 0 to 1\n",
      "Data columns (total 8 columns):\n",
      " #   Column                 Non-Null Count  Dtype  \n",
      "---  ------                 --------------  -----  \n",
      " 0   messages_included      2 non-null      int64  \n",
      " 1   mb_per_month_included  2 non-null      int64  \n",
      " 2   minutes_included       2 non-null      int64  \n",
      " 3   usd_monthly_pay        2 non-null      int64  \n",
      " 4   usd_per_gb             2 non-null      int64  \n",
      " 5   usd_per_message        2 non-null      float64\n",
      " 6   usd_per_minute         2 non-null      float64\n",
      " 7   plan_name              2 non-null      object \n",
      "dtypes: float64(2), int64(5), object(1)\n",
      "memory usage: 256.0+ bytes\n"
     ]
    }
   ],
   "source": [
    "# Print the general/summary information about the plans' DataFrame\n",
    "df_plans.info()\n"
   ]
  },
  {
   "cell_type": "code",
   "execution_count": 13,
   "metadata": {},
   "outputs": [
    {
     "data": {
      "text/html": [
       "<div>\n",
       "<style scoped>\n",
       "    .dataframe tbody tr th:only-of-type {\n",
       "        vertical-align: middle;\n",
       "    }\n",
       "\n",
       "    .dataframe tbody tr th {\n",
       "        vertical-align: top;\n",
       "    }\n",
       "\n",
       "    .dataframe thead th {\n",
       "        text-align: right;\n",
       "    }\n",
       "</style>\n",
       "<table border=\"1\" class=\"dataframe\">\n",
       "  <thead>\n",
       "    <tr style=\"text-align: right;\">\n",
       "      <th></th>\n",
       "      <th>messages_included</th>\n",
       "      <th>mb_per_month_included</th>\n",
       "      <th>minutes_included</th>\n",
       "      <th>usd_monthly_pay</th>\n",
       "      <th>usd_per_gb</th>\n",
       "      <th>usd_per_message</th>\n",
       "      <th>usd_per_minute</th>\n",
       "      <th>plan_name</th>\n",
       "    </tr>\n",
       "  </thead>\n",
       "  <tbody>\n",
       "    <tr>\n",
       "      <th>0</th>\n",
       "      <td>50</td>\n",
       "      <td>15360</td>\n",
       "      <td>500</td>\n",
       "      <td>20</td>\n",
       "      <td>10</td>\n",
       "      <td>0.03</td>\n",
       "      <td>0.03</td>\n",
       "      <td>surf</td>\n",
       "    </tr>\n",
       "    <tr>\n",
       "      <th>1</th>\n",
       "      <td>1000</td>\n",
       "      <td>30720</td>\n",
       "      <td>3000</td>\n",
       "      <td>70</td>\n",
       "      <td>7</td>\n",
       "      <td>0.01</td>\n",
       "      <td>0.01</td>\n",
       "      <td>ultimate</td>\n",
       "    </tr>\n",
       "  </tbody>\n",
       "</table>\n",
       "</div>"
      ],
      "text/plain": [
       "   messages_included  mb_per_month_included  minutes_included  \\\n",
       "0                 50                  15360               500   \n",
       "1               1000                  30720              3000   \n",
       "\n",
       "   usd_monthly_pay  usd_per_gb  usd_per_message  usd_per_minute plan_name  \n",
       "0               20          10             0.03            0.03      surf  \n",
       "1               70           7             0.01            0.01  ultimate  "
      ]
     },
     "execution_count": 13,
     "metadata": {},
     "output_type": "execute_result"
    }
   ],
   "source": [
    "# Print a sample of data for plans\n",
    "df_plans.head()\n"
   ]
  },
  {
   "cell_type": "markdown",
   "metadata": {},
   "source": [
    "This data includes the information for the two different plans megaline offers. Surf is their more basic plan and is much more limited in terms of messages, minutes, and megabytes per month. As this dataframe only has two rows, it's clear to see that there are no duplicates or missing values, all of the data looks right. "
   ]
  },
  {
   "cell_type": "markdown",
   "metadata": {},
   "source": [
    " "
   ]
  },
  {
   "cell_type": "markdown",
   "metadata": {},
   "source": [
    "## Fix data"
   ]
  },
  {
   "cell_type": "markdown",
   "metadata": {},
   "source": [
    "It doesn't appear that there is anything to fix here. "
   ]
  },
  {
   "cell_type": "markdown",
   "metadata": {},
   "source": [
    "## Enrich data"
   ]
  },
  {
   "cell_type": "code",
   "execution_count": 14,
   "metadata": {},
   "outputs": [
    {
     "data": {
      "text/html": [
       "<div>\n",
       "<style scoped>\n",
       "    .dataframe tbody tr th:only-of-type {\n",
       "        vertical-align: middle;\n",
       "    }\n",
       "\n",
       "    .dataframe tbody tr th {\n",
       "        vertical-align: top;\n",
       "    }\n",
       "\n",
       "    .dataframe thead th {\n",
       "        text-align: right;\n",
       "    }\n",
       "</style>\n",
       "<table border=\"1\" class=\"dataframe\">\n",
       "  <thead>\n",
       "    <tr style=\"text-align: right;\">\n",
       "      <th></th>\n",
       "      <th>plan_name</th>\n",
       "      <th>messages_included</th>\n",
       "      <th>mb_per_month_included</th>\n",
       "      <th>minutes_included</th>\n",
       "      <th>usd_monthly_pay</th>\n",
       "      <th>usd_per_gb</th>\n",
       "      <th>usd_per_message</th>\n",
       "      <th>usd_per_minute</th>\n",
       "    </tr>\n",
       "  </thead>\n",
       "  <tbody>\n",
       "    <tr>\n",
       "      <th>0</th>\n",
       "      <td>surf</td>\n",
       "      <td>50</td>\n",
       "      <td>15360</td>\n",
       "      <td>500</td>\n",
       "      <td>20</td>\n",
       "      <td>10</td>\n",
       "      <td>0.03</td>\n",
       "      <td>0.03</td>\n",
       "    </tr>\n",
       "    <tr>\n",
       "      <th>1</th>\n",
       "      <td>ultimate</td>\n",
       "      <td>1000</td>\n",
       "      <td>30720</td>\n",
       "      <td>3000</td>\n",
       "      <td>70</td>\n",
       "      <td>7</td>\n",
       "      <td>0.01</td>\n",
       "      <td>0.01</td>\n",
       "    </tr>\n",
       "  </tbody>\n",
       "</table>\n",
       "</div>"
      ],
      "text/plain": [
       "  plan_name  messages_included  mb_per_month_included  minutes_included  \\\n",
       "0      surf                 50                  15360               500   \n",
       "1  ultimate               1000                  30720              3000   \n",
       "\n",
       "   usd_monthly_pay  usd_per_gb  usd_per_message  usd_per_minute  \n",
       "0               20          10             0.03            0.03  \n",
       "1               70           7             0.01            0.01  "
      ]
     },
     "execution_count": 14,
     "metadata": {},
     "output_type": "execute_result"
    }
   ],
   "source": [
    "new_cols=['plan_name','messages_included','mb_per_month_included', 'minutes_included','usd_monthly_pay','usd_per_gb','usd_per_message','usd_per_minute']\n",
    "\n",
    "df_plans = df_plans.reindex(columns=new_cols)\n",
    "         \n",
    "df_plans.head()         \n",
    "         "
   ]
  },
  {
   "cell_type": "markdown",
   "metadata": {},
   "source": [
    "I don't think there's anything that's helpful to add here, but I did reindex the columns because it's easier to understand this way. "
   ]
  },
  {
   "cell_type": "markdown",
   "metadata": {},
   "source": [
    "## Users"
   ]
  },
  {
   "cell_type": "code",
   "execution_count": 15,
   "metadata": {},
   "outputs": [
    {
     "name": "stdout",
     "output_type": "stream",
     "text": [
      "<class 'pandas.core.frame.DataFrame'>\n",
      "RangeIndex: 500 entries, 0 to 499\n",
      "Data columns (total 8 columns):\n",
      " #   Column      Non-Null Count  Dtype \n",
      "---  ------      --------------  ----- \n",
      " 0   user_id     500 non-null    int64 \n",
      " 1   first_name  500 non-null    object\n",
      " 2   last_name   500 non-null    object\n",
      " 3   age         500 non-null    int64 \n",
      " 4   city        500 non-null    object\n",
      " 5   reg_date    500 non-null    object\n",
      " 6   plan        500 non-null    object\n",
      " 7   churn_date  34 non-null     object\n",
      "dtypes: int64(2), object(6)\n",
      "memory usage: 31.4+ KB\n"
     ]
    }
   ],
   "source": [
    "# Print the general/summary information about the users' DataFrame\n",
    "df_users.info()\n"
   ]
  },
  {
   "cell_type": "code",
   "execution_count": 16,
   "metadata": {},
   "outputs": [
    {
     "data": {
      "text/html": [
       "<div>\n",
       "<style scoped>\n",
       "    .dataframe tbody tr th:only-of-type {\n",
       "        vertical-align: middle;\n",
       "    }\n",
       "\n",
       "    .dataframe tbody tr th {\n",
       "        vertical-align: top;\n",
       "    }\n",
       "\n",
       "    .dataframe thead th {\n",
       "        text-align: right;\n",
       "    }\n",
       "</style>\n",
       "<table border=\"1\" class=\"dataframe\">\n",
       "  <thead>\n",
       "    <tr style=\"text-align: right;\">\n",
       "      <th></th>\n",
       "      <th>user_id</th>\n",
       "      <th>first_name</th>\n",
       "      <th>last_name</th>\n",
       "      <th>age</th>\n",
       "      <th>city</th>\n",
       "      <th>reg_date</th>\n",
       "      <th>plan</th>\n",
       "      <th>churn_date</th>\n",
       "    </tr>\n",
       "  </thead>\n",
       "  <tbody>\n",
       "    <tr>\n",
       "      <th>0</th>\n",
       "      <td>1000</td>\n",
       "      <td>Anamaria</td>\n",
       "      <td>Bauer</td>\n",
       "      <td>45</td>\n",
       "      <td>Atlanta-Sandy Springs-Roswell, GA MSA</td>\n",
       "      <td>2018-12-24</td>\n",
       "      <td>ultimate</td>\n",
       "      <td>NaN</td>\n",
       "    </tr>\n",
       "    <tr>\n",
       "      <th>1</th>\n",
       "      <td>1001</td>\n",
       "      <td>Mickey</td>\n",
       "      <td>Wilkerson</td>\n",
       "      <td>28</td>\n",
       "      <td>Seattle-Tacoma-Bellevue, WA MSA</td>\n",
       "      <td>2018-08-13</td>\n",
       "      <td>surf</td>\n",
       "      <td>NaN</td>\n",
       "    </tr>\n",
       "    <tr>\n",
       "      <th>2</th>\n",
       "      <td>1002</td>\n",
       "      <td>Carlee</td>\n",
       "      <td>Hoffman</td>\n",
       "      <td>36</td>\n",
       "      <td>Las Vegas-Henderson-Paradise, NV MSA</td>\n",
       "      <td>2018-10-21</td>\n",
       "      <td>surf</td>\n",
       "      <td>NaN</td>\n",
       "    </tr>\n",
       "    <tr>\n",
       "      <th>3</th>\n",
       "      <td>1003</td>\n",
       "      <td>Reynaldo</td>\n",
       "      <td>Jenkins</td>\n",
       "      <td>52</td>\n",
       "      <td>Tulsa, OK MSA</td>\n",
       "      <td>2018-01-28</td>\n",
       "      <td>surf</td>\n",
       "      <td>NaN</td>\n",
       "    </tr>\n",
       "    <tr>\n",
       "      <th>4</th>\n",
       "      <td>1004</td>\n",
       "      <td>Leonila</td>\n",
       "      <td>Thompson</td>\n",
       "      <td>40</td>\n",
       "      <td>Seattle-Tacoma-Bellevue, WA MSA</td>\n",
       "      <td>2018-05-23</td>\n",
       "      <td>surf</td>\n",
       "      <td>NaN</td>\n",
       "    </tr>\n",
       "  </tbody>\n",
       "</table>\n",
       "</div>"
      ],
      "text/plain": [
       "   user_id first_name  last_name  age                                   city  \\\n",
       "0     1000   Anamaria      Bauer   45  Atlanta-Sandy Springs-Roswell, GA MSA   \n",
       "1     1001     Mickey  Wilkerson   28        Seattle-Tacoma-Bellevue, WA MSA   \n",
       "2     1002     Carlee    Hoffman   36   Las Vegas-Henderson-Paradise, NV MSA   \n",
       "3     1003   Reynaldo    Jenkins   52                          Tulsa, OK MSA   \n",
       "4     1004    Leonila   Thompson   40        Seattle-Tacoma-Bellevue, WA MSA   \n",
       "\n",
       "     reg_date      plan churn_date  \n",
       "0  2018-12-24  ultimate        NaN  \n",
       "1  2018-08-13      surf        NaN  \n",
       "2  2018-10-21      surf        NaN  \n",
       "3  2018-01-28      surf        NaN  \n",
       "4  2018-05-23      surf        NaN  "
      ]
     },
     "execution_count": 16,
     "metadata": {},
     "output_type": "execute_result"
    }
   ],
   "source": [
    "# Print a sample of data for users\n",
    "df_users.head()\n"
   ]
  },
  {
   "cell_type": "markdown",
   "metadata": {},
   "source": [
    "This data shows the information for each user, including the plan they have, when they subscribed to that plan, and when they stopped using the service. However the churn_date column (when they stopped using the service) appears to have many missing values. I think it would be best to leave them there for now but replace 'NaN' with 'Unknown'. It may be helpful to change the user_id Dtype to object as I'm not going to be doing calculations with an ID number. "
   ]
  },
  {
   "cell_type": "markdown",
   "metadata": {},
   "source": [
    " "
   ]
  },
  {
   "cell_type": "markdown",
   "metadata": {},
   "source": [
    "### Fix Data"
   ]
  },
  {
   "cell_type": "code",
   "execution_count": 17,
   "metadata": {},
   "outputs": [
    {
     "name": "stdout",
     "output_type": "stream",
     "text": [
      "466\n",
      "0\n"
     ]
    },
    {
     "data": {
      "text/plain": [
       "user_id       0\n",
       "first_name    0\n",
       "last_name     0\n",
       "age           0\n",
       "city          0\n",
       "reg_date      0\n",
       "plan          0\n",
       "churn_date    0\n",
       "dtype: int64"
      ]
     },
     "execution_count": 17,
     "metadata": {},
     "output_type": "execute_result"
    }
   ],
   "source": [
    "print(df_users['churn_date'].isna().sum())\n",
    "\n",
    "df_users['churn_date']=df_users['churn_date'].fillna('Unknown')\n",
    "print(df_users['churn_date'].isna().sum())\n",
    "df_users.isna().sum()"
   ]
  },
  {
   "cell_type": "code",
   "execution_count": 18,
   "metadata": {},
   "outputs": [
    {
     "name": "stdout",
     "output_type": "stream",
     "text": [
      "0\n"
     ]
    }
   ],
   "source": [
    "print(df_users.duplicated().sum())"
   ]
  },
  {
   "cell_type": "code",
   "execution_count": 19,
   "metadata": {},
   "outputs": [
    {
     "name": "stdout",
     "output_type": "stream",
     "text": [
      "<class 'pandas.core.frame.DataFrame'>\n",
      "RangeIndex: 500 entries, 0 to 499\n",
      "Data columns (total 8 columns):\n",
      " #   Column      Non-Null Count  Dtype \n",
      "---  ------      --------------  ----- \n",
      " 0   user_id     500 non-null    object\n",
      " 1   first_name  500 non-null    object\n",
      " 2   last_name   500 non-null    object\n",
      " 3   age         500 non-null    int64 \n",
      " 4   city        500 non-null    object\n",
      " 5   reg_date    500 non-null    object\n",
      " 6   plan        500 non-null    object\n",
      " 7   churn_date  500 non-null    object\n",
      "dtypes: int64(1), object(7)\n",
      "memory usage: 31.4+ KB\n"
     ]
    }
   ],
   "source": [
    "df_users['user_id'] = df_users['user_id'].astype('object')\n",
    "df_users.info()"
   ]
  },
  {
   "cell_type": "markdown",
   "metadata": {},
   "source": [
    "The users df has no duplicates but the 'churn_date' column was full of NA values, there's not a way to fill this data with a real date so it's best to leave it as Unknown. According to the description, the null values just indicate that the user's still had active service at the time the data was recorded."
   ]
  },
  {
   "cell_type": "markdown",
   "metadata": {},
   "source": [
    "### Enrich Data"
   ]
  },
  {
   "cell_type": "markdown",
   "metadata": {},
   "source": [
    "<div class=\"alert alert-block alert-success\">✔️\n",
    "    \n",
    "\n",
    "__Reviewer's comment №1__\n",
    "\n",
    "\n",
    "Great. First look at the data is done"
   ]
  },
  {
   "cell_type": "markdown",
   "metadata": {},
   "source": [
    "## Calls"
   ]
  },
  {
   "cell_type": "code",
   "execution_count": 20,
   "metadata": {},
   "outputs": [
    {
     "name": "stdout",
     "output_type": "stream",
     "text": [
      "<class 'pandas.core.frame.DataFrame'>\n",
      "RangeIndex: 137735 entries, 0 to 137734\n",
      "Data columns (total 4 columns):\n",
      " #   Column     Non-Null Count   Dtype  \n",
      "---  ------     --------------   -----  \n",
      " 0   id         137735 non-null  object \n",
      " 1   user_id    137735 non-null  int64  \n",
      " 2   call_date  137735 non-null  object \n",
      " 3   duration   137735 non-null  float64\n",
      "dtypes: float64(1), int64(1), object(2)\n",
      "memory usage: 4.2+ MB\n"
     ]
    }
   ],
   "source": [
    "# Print the general/summary information about the calls' DataFrame\n",
    "df_calls.info()\n"
   ]
  },
  {
   "cell_type": "code",
   "execution_count": 21,
   "metadata": {},
   "outputs": [
    {
     "data": {
      "text/html": [
       "<div>\n",
       "<style scoped>\n",
       "    .dataframe tbody tr th:only-of-type {\n",
       "        vertical-align: middle;\n",
       "    }\n",
       "\n",
       "    .dataframe tbody tr th {\n",
       "        vertical-align: top;\n",
       "    }\n",
       "\n",
       "    .dataframe thead th {\n",
       "        text-align: right;\n",
       "    }\n",
       "</style>\n",
       "<table border=\"1\" class=\"dataframe\">\n",
       "  <thead>\n",
       "    <tr style=\"text-align: right;\">\n",
       "      <th></th>\n",
       "      <th>id</th>\n",
       "      <th>user_id</th>\n",
       "      <th>call_date</th>\n",
       "      <th>duration</th>\n",
       "    </tr>\n",
       "  </thead>\n",
       "  <tbody>\n",
       "    <tr>\n",
       "      <th>0</th>\n",
       "      <td>1000_93</td>\n",
       "      <td>1000</td>\n",
       "      <td>2018-12-27</td>\n",
       "      <td>8.52</td>\n",
       "    </tr>\n",
       "    <tr>\n",
       "      <th>1</th>\n",
       "      <td>1000_145</td>\n",
       "      <td>1000</td>\n",
       "      <td>2018-12-27</td>\n",
       "      <td>13.66</td>\n",
       "    </tr>\n",
       "    <tr>\n",
       "      <th>2</th>\n",
       "      <td>1000_247</td>\n",
       "      <td>1000</td>\n",
       "      <td>2018-12-27</td>\n",
       "      <td>14.48</td>\n",
       "    </tr>\n",
       "    <tr>\n",
       "      <th>3</th>\n",
       "      <td>1000_309</td>\n",
       "      <td>1000</td>\n",
       "      <td>2018-12-28</td>\n",
       "      <td>5.76</td>\n",
       "    </tr>\n",
       "    <tr>\n",
       "      <th>4</th>\n",
       "      <td>1000_380</td>\n",
       "      <td>1000</td>\n",
       "      <td>2018-12-30</td>\n",
       "      <td>4.22</td>\n",
       "    </tr>\n",
       "  </tbody>\n",
       "</table>\n",
       "</div>"
      ],
      "text/plain": [
       "         id  user_id   call_date  duration\n",
       "0   1000_93     1000  2018-12-27      8.52\n",
       "1  1000_145     1000  2018-12-27     13.66\n",
       "2  1000_247     1000  2018-12-27     14.48\n",
       "3  1000_309     1000  2018-12-28      5.76\n",
       "4  1000_380     1000  2018-12-30      4.22"
      ]
     },
     "execution_count": 21,
     "metadata": {},
     "output_type": "execute_result"
    }
   ],
   "source": [
    "# Print a sample of data for calls\n",
    "df_calls.head()"
   ]
  },
  {
   "cell_type": "markdown",
   "metadata": {},
   "source": [
    "This dataframe records the dates and duration of each call from each user with the additional reference (id). It may be helpful to rename the 'id' column to \"call_id\" for clarity. Once again, I think it's helpful to change the user_id Dtype to object for consistency. There are no null values. "
   ]
  },
  {
   "cell_type": "markdown",
   "metadata": {},
   "source": [
    " "
   ]
  },
  {
   "cell_type": "markdown",
   "metadata": {},
   "source": [
    "### Fix data"
   ]
  },
  {
   "cell_type": "code",
   "execution_count": 22,
   "metadata": {},
   "outputs": [
    {
     "name": "stdout",
     "output_type": "stream",
     "text": [
      "0\n",
      "<class 'pandas.core.frame.DataFrame'>\n",
      "RangeIndex: 137735 entries, 0 to 137734\n",
      "Data columns (total 4 columns):\n",
      " #   Column     Non-Null Count   Dtype  \n",
      "---  ------     --------------   -----  \n",
      " 0   id         137735 non-null  object \n",
      " 1   user_id    137735 non-null  object \n",
      " 2   call_date  137735 non-null  object \n",
      " 3   duration   137735 non-null  float64\n",
      "dtypes: float64(1), object(3)\n",
      "memory usage: 4.2+ MB\n"
     ]
    }
   ],
   "source": [
    "print(df_calls.duplicated().sum())\n",
    "df_calls['user_id'] = df_calls['user_id'].astype('object')\n",
    "df_calls.info()"
   ]
  },
  {
   "cell_type": "code",
   "execution_count": 23,
   "metadata": {},
   "outputs": [
    {
     "name": "stdout",
     "output_type": "stream",
     "text": [
      "37214\n",
      "0\n"
     ]
    }
   ],
   "source": [
    "print(df_calls[['user_id','duration']].duplicated().sum())\n",
    "print(df_calls[['id','user_id']].duplicated().sum())"
   ]
  },
  {
   "cell_type": "code",
   "execution_count": 24,
   "metadata": {},
   "outputs": [
    {
     "data": {
      "text/html": [
       "<div>\n",
       "<style scoped>\n",
       "    .dataframe tbody tr th:only-of-type {\n",
       "        vertical-align: middle;\n",
       "    }\n",
       "\n",
       "    .dataframe tbody tr th {\n",
       "        vertical-align: top;\n",
       "    }\n",
       "\n",
       "    .dataframe thead th {\n",
       "        text-align: right;\n",
       "    }\n",
       "</style>\n",
       "<table border=\"1\" class=\"dataframe\">\n",
       "  <thead>\n",
       "    <tr style=\"text-align: right;\">\n",
       "      <th></th>\n",
       "      <th>call_id</th>\n",
       "      <th>user_id</th>\n",
       "      <th>call_date</th>\n",
       "      <th>duration</th>\n",
       "    </tr>\n",
       "  </thead>\n",
       "  <tbody>\n",
       "    <tr>\n",
       "      <th>0</th>\n",
       "      <td>1000_93</td>\n",
       "      <td>1000</td>\n",
       "      <td>2018-12-27</td>\n",
       "      <td>8.52</td>\n",
       "    </tr>\n",
       "    <tr>\n",
       "      <th>1</th>\n",
       "      <td>1000_145</td>\n",
       "      <td>1000</td>\n",
       "      <td>2018-12-27</td>\n",
       "      <td>13.66</td>\n",
       "    </tr>\n",
       "    <tr>\n",
       "      <th>2</th>\n",
       "      <td>1000_247</td>\n",
       "      <td>1000</td>\n",
       "      <td>2018-12-27</td>\n",
       "      <td>14.48</td>\n",
       "    </tr>\n",
       "    <tr>\n",
       "      <th>3</th>\n",
       "      <td>1000_309</td>\n",
       "      <td>1000</td>\n",
       "      <td>2018-12-28</td>\n",
       "      <td>5.76</td>\n",
       "    </tr>\n",
       "    <tr>\n",
       "      <th>4</th>\n",
       "      <td>1000_380</td>\n",
       "      <td>1000</td>\n",
       "      <td>2018-12-30</td>\n",
       "      <td>4.22</td>\n",
       "    </tr>\n",
       "  </tbody>\n",
       "</table>\n",
       "</div>"
      ],
      "text/plain": [
       "    call_id user_id   call_date  duration\n",
       "0   1000_93    1000  2018-12-27      8.52\n",
       "1  1000_145    1000  2018-12-27     13.66\n",
       "2  1000_247    1000  2018-12-27     14.48\n",
       "3  1000_309    1000  2018-12-28      5.76\n",
       "4  1000_380    1000  2018-12-30      4.22"
      ]
     },
     "execution_count": 24,
     "metadata": {},
     "output_type": "execute_result"
    }
   ],
   "source": [
    "df_calls.columns=['call_id','user_id','call_date','duration']\n",
    "df_calls.head()"
   ]
  },
  {
   "cell_type": "markdown",
   "metadata": {},
   "source": [
    "The calls data frame has no missing values and no fully duplicated rows. There are duplicates between the user_id and duration columns, however, it's hard to say whether this is an issue or not. There aren't duplicate call id's associated with each user which makes me think the other duplicates aren't issues. I changed the user_id data type to an object for consistency and changed the 'id' column name to 'call_id' for clarity."
   ]
  },
  {
   "cell_type": "markdown",
   "metadata": {},
   "source": [
    "### Enrich data"
   ]
  },
  {
   "cell_type": "code",
   "execution_count": 25,
   "metadata": {
    "scrolled": true
   },
   "outputs": [
    {
     "name": "stdout",
     "output_type": "stream",
     "text": [
      "    call_id user_id  call_date  duration  month\n",
      "0   1000_93    1000 2018-12-27      8.52     12\n",
      "1  1000_145    1000 2018-12-27     13.66     12\n",
      "2  1000_247    1000 2018-12-27     14.48     12\n",
      "3  1000_309    1000 2018-12-28      5.76     12\n",
      "4  1000_380    1000 2018-12-30      4.22     12\n",
      "    call_id user_id  call_date  duration  month\n",
      "0   1000_93    1000 2018-12-27         9     12\n",
      "1  1000_145    1000 2018-12-27        14     12\n",
      "2  1000_247    1000 2018-12-27        15     12\n",
      "3  1000_309    1000 2018-12-28         6     12\n",
      "4  1000_380    1000 2018-12-30         5     12\n"
     ]
    }
   ],
   "source": [
    "df_calls['call_date']=pd.to_datetime(df_calls['call_date'],format='%Y-%m-%d')\n",
    "df_calls['month']=df_calls['call_date'].dt.month\n",
    "print(df_calls.head())\n",
    "\n",
    "df_calls['duration'] = df_calls['duration'].apply(math.ceil)\n",
    "print(df_calls.head())\n",
    "\n"
   ]
  },
  {
   "cell_type": "markdown",
   "metadata": {},
   "source": [
    "<div class=\"alert alert-block alert-success\">✔️\n",
    "    \n",
    "\n",
    "__Reviewer's comment №1__\n",
    "\n",
    "Good for you for using the np.ceil() method\n",
    "    "
   ]
  },
  {
   "cell_type": "markdown",
   "metadata": {},
   "source": [
    "I changed the call_date column to datetime format and then added a column that contained just the month of the call date. I also rounded up the duration to a whole 'minute' as the description says that that is how megaline processes it. "
   ]
  },
  {
   "cell_type": "markdown",
   "metadata": {},
   "source": [
    "## Messages"
   ]
  },
  {
   "cell_type": "code",
   "execution_count": 26,
   "metadata": {},
   "outputs": [
    {
     "name": "stdout",
     "output_type": "stream",
     "text": [
      "<class 'pandas.core.frame.DataFrame'>\n",
      "RangeIndex: 76051 entries, 0 to 76050\n",
      "Data columns (total 3 columns):\n",
      " #   Column        Non-Null Count  Dtype \n",
      "---  ------        --------------  ----- \n",
      " 0   id            76051 non-null  object\n",
      " 1   user_id       76051 non-null  int64 \n",
      " 2   message_date  76051 non-null  object\n",
      "dtypes: int64(1), object(2)\n",
      "memory usage: 1.7+ MB\n"
     ]
    }
   ],
   "source": [
    "# Print the general/summary information about the messages' DataFrame\n",
    "df_messages.info()"
   ]
  },
  {
   "cell_type": "code",
   "execution_count": 27,
   "metadata": {},
   "outputs": [
    {
     "data": {
      "text/html": [
       "<div>\n",
       "<style scoped>\n",
       "    .dataframe tbody tr th:only-of-type {\n",
       "        vertical-align: middle;\n",
       "    }\n",
       "\n",
       "    .dataframe tbody tr th {\n",
       "        vertical-align: top;\n",
       "    }\n",
       "\n",
       "    .dataframe thead th {\n",
       "        text-align: right;\n",
       "    }\n",
       "</style>\n",
       "<table border=\"1\" class=\"dataframe\">\n",
       "  <thead>\n",
       "    <tr style=\"text-align: right;\">\n",
       "      <th></th>\n",
       "      <th>id</th>\n",
       "      <th>user_id</th>\n",
       "      <th>message_date</th>\n",
       "    </tr>\n",
       "  </thead>\n",
       "  <tbody>\n",
       "    <tr>\n",
       "      <th>0</th>\n",
       "      <td>1000_125</td>\n",
       "      <td>1000</td>\n",
       "      <td>2018-12-27</td>\n",
       "    </tr>\n",
       "    <tr>\n",
       "      <th>1</th>\n",
       "      <td>1000_160</td>\n",
       "      <td>1000</td>\n",
       "      <td>2018-12-31</td>\n",
       "    </tr>\n",
       "    <tr>\n",
       "      <th>2</th>\n",
       "      <td>1000_223</td>\n",
       "      <td>1000</td>\n",
       "      <td>2018-12-31</td>\n",
       "    </tr>\n",
       "    <tr>\n",
       "      <th>3</th>\n",
       "      <td>1000_251</td>\n",
       "      <td>1000</td>\n",
       "      <td>2018-12-27</td>\n",
       "    </tr>\n",
       "    <tr>\n",
       "      <th>4</th>\n",
       "      <td>1000_255</td>\n",
       "      <td>1000</td>\n",
       "      <td>2018-12-26</td>\n",
       "    </tr>\n",
       "  </tbody>\n",
       "</table>\n",
       "</div>"
      ],
      "text/plain": [
       "         id  user_id message_date\n",
       "0  1000_125     1000   2018-12-27\n",
       "1  1000_160     1000   2018-12-31\n",
       "2  1000_223     1000   2018-12-31\n",
       "3  1000_251     1000   2018-12-27\n",
       "4  1000_255     1000   2018-12-26"
      ]
     },
     "execution_count": 27,
     "metadata": {},
     "output_type": "execute_result"
    }
   ],
   "source": [
    "# Print a sample of data for messages\n",
    "df_messages.head()"
   ]
  },
  {
   "cell_type": "markdown",
   "metadata": {},
   "source": [
    "[Describe what you see and notice in the general information and the printed data sample for the above price of data. Are there any issues (inappropriate data types, missing data etc) that may need further investigation and changes? How that can be fixed?]"
   ]
  },
  {
   "cell_type": "markdown",
   "metadata": {},
   "source": [
    " "
   ]
  },
  {
   "cell_type": "markdown",
   "metadata": {},
   "source": [
    "### Fix data"
   ]
  },
  {
   "cell_type": "markdown",
   "metadata": {},
   "source": [
    "[Fix obvious issues with the data given the initial observations.]"
   ]
  },
  {
   "cell_type": "code",
   "execution_count": 28,
   "metadata": {},
   "outputs": [
    {
     "name": "stdout",
     "output_type": "stream",
     "text": [
      "0\n"
     ]
    }
   ],
   "source": [
    "print(df_messages.duplicated().sum())"
   ]
  },
  {
   "cell_type": "markdown",
   "metadata": {},
   "source": [
    "<div class=\"alert alert-block alert-success\">✔️\n",
    "    \n",
    "\n",
    "__Reviewer's comment №1__\n",
    "\n",
    "Duplicate checking is the basis of data preprocessing"
   ]
  },
  {
   "cell_type": "code",
   "execution_count": 29,
   "metadata": {},
   "outputs": [
    {
     "name": "stdout",
     "output_type": "stream",
     "text": [
      "<class 'pandas.core.frame.DataFrame'>\n",
      "RangeIndex: 76051 entries, 0 to 76050\n",
      "Data columns (total 3 columns):\n",
      " #   Column        Non-Null Count  Dtype \n",
      "---  ------        --------------  ----- \n",
      " 0   id            76051 non-null  object\n",
      " 1   user_id       76051 non-null  object\n",
      " 2   message_date  76051 non-null  object\n",
      "dtypes: object(3)\n",
      "memory usage: 1.7+ MB\n"
     ]
    }
   ],
   "source": [
    "df_messages['user_id']=df_messages['user_id'].astype('object')\n",
    "df_messages.info()"
   ]
  },
  {
   "cell_type": "code",
   "execution_count": 30,
   "metadata": {},
   "outputs": [
    {
     "data": {
      "text/html": [
       "<div>\n",
       "<style scoped>\n",
       "    .dataframe tbody tr th:only-of-type {\n",
       "        vertical-align: middle;\n",
       "    }\n",
       "\n",
       "    .dataframe tbody tr th {\n",
       "        vertical-align: top;\n",
       "    }\n",
       "\n",
       "    .dataframe thead th {\n",
       "        text-align: right;\n",
       "    }\n",
       "</style>\n",
       "<table border=\"1\" class=\"dataframe\">\n",
       "  <thead>\n",
       "    <tr style=\"text-align: right;\">\n",
       "      <th></th>\n",
       "      <th>text_id</th>\n",
       "      <th>user_id</th>\n",
       "      <th>message_date</th>\n",
       "    </tr>\n",
       "  </thead>\n",
       "  <tbody>\n",
       "    <tr>\n",
       "      <th>0</th>\n",
       "      <td>1000_125</td>\n",
       "      <td>1000</td>\n",
       "      <td>2018-12-27</td>\n",
       "    </tr>\n",
       "    <tr>\n",
       "      <th>1</th>\n",
       "      <td>1000_160</td>\n",
       "      <td>1000</td>\n",
       "      <td>2018-12-31</td>\n",
       "    </tr>\n",
       "  </tbody>\n",
       "</table>\n",
       "</div>"
      ],
      "text/plain": [
       "    text_id user_id message_date\n",
       "0  1000_125    1000   2018-12-27\n",
       "1  1000_160    1000   2018-12-31"
      ]
     },
     "execution_count": 30,
     "metadata": {},
     "output_type": "execute_result"
    }
   ],
   "source": [
    "df_messages.columns=['text_id','user_id','message_date']\n",
    "df_messages.head(2)"
   ]
  },
  {
   "cell_type": "markdown",
   "metadata": {},
   "source": [
    "There are no duplicates or missing values. I changed the user_id column from an int to an object for consistency. I also changed 'id' to 'text_id' for clarity"
   ]
  },
  {
   "cell_type": "markdown",
   "metadata": {},
   "source": [
    "### Enrich data"
   ]
  },
  {
   "cell_type": "code",
   "execution_count": 31,
   "metadata": {},
   "outputs": [
    {
     "data": {
      "text/html": [
       "<div>\n",
       "<style scoped>\n",
       "    .dataframe tbody tr th:only-of-type {\n",
       "        vertical-align: middle;\n",
       "    }\n",
       "\n",
       "    .dataframe tbody tr th {\n",
       "        vertical-align: top;\n",
       "    }\n",
       "\n",
       "    .dataframe thead th {\n",
       "        text-align: right;\n",
       "    }\n",
       "</style>\n",
       "<table border=\"1\" class=\"dataframe\">\n",
       "  <thead>\n",
       "    <tr style=\"text-align: right;\">\n",
       "      <th></th>\n",
       "      <th>text_id</th>\n",
       "      <th>user_id</th>\n",
       "      <th>message_date</th>\n",
       "      <th>month</th>\n",
       "    </tr>\n",
       "  </thead>\n",
       "  <tbody>\n",
       "    <tr>\n",
       "      <th>0</th>\n",
       "      <td>1000_125</td>\n",
       "      <td>1000</td>\n",
       "      <td>2018-12-27</td>\n",
       "      <td>12</td>\n",
       "    </tr>\n",
       "    <tr>\n",
       "      <th>1</th>\n",
       "      <td>1000_160</td>\n",
       "      <td>1000</td>\n",
       "      <td>2018-12-31</td>\n",
       "      <td>12</td>\n",
       "    </tr>\n",
       "    <tr>\n",
       "      <th>2</th>\n",
       "      <td>1000_223</td>\n",
       "      <td>1000</td>\n",
       "      <td>2018-12-31</td>\n",
       "      <td>12</td>\n",
       "    </tr>\n",
       "    <tr>\n",
       "      <th>3</th>\n",
       "      <td>1000_251</td>\n",
       "      <td>1000</td>\n",
       "      <td>2018-12-27</td>\n",
       "      <td>12</td>\n",
       "    </tr>\n",
       "    <tr>\n",
       "      <th>4</th>\n",
       "      <td>1000_255</td>\n",
       "      <td>1000</td>\n",
       "      <td>2018-12-26</td>\n",
       "      <td>12</td>\n",
       "    </tr>\n",
       "  </tbody>\n",
       "</table>\n",
       "</div>"
      ],
      "text/plain": [
       "    text_id user_id message_date  month\n",
       "0  1000_125    1000   2018-12-27     12\n",
       "1  1000_160    1000   2018-12-31     12\n",
       "2  1000_223    1000   2018-12-31     12\n",
       "3  1000_251    1000   2018-12-27     12\n",
       "4  1000_255    1000   2018-12-26     12"
      ]
     },
     "execution_count": 31,
     "metadata": {},
     "output_type": "execute_result"
    }
   ],
   "source": [
    "df_messages['message_date']=pd.to_datetime(df_messages['message_date'],format='%Y-%m-%d')\n",
    "df_messages['month']=df_messages['message_date'].dt.month\n",
    "df_messages.head()"
   ]
  },
  {
   "cell_type": "markdown",
   "metadata": {},
   "source": [
    "I changed the message_date column to datetime format and added a column that contained only the month of the message sent. "
   ]
  },
  {
   "cell_type": "markdown",
   "metadata": {},
   "source": [
    "## Internet"
   ]
  },
  {
   "cell_type": "code",
   "execution_count": 32,
   "metadata": {},
   "outputs": [
    {
     "name": "stdout",
     "output_type": "stream",
     "text": [
      "<class 'pandas.core.frame.DataFrame'>\n",
      "RangeIndex: 104825 entries, 0 to 104824\n",
      "Data columns (total 4 columns):\n",
      " #   Column        Non-Null Count   Dtype  \n",
      "---  ------        --------------   -----  \n",
      " 0   id            104825 non-null  object \n",
      " 1   user_id       104825 non-null  int64  \n",
      " 2   session_date  104825 non-null  object \n",
      " 3   mb_used       104825 non-null  float64\n",
      "dtypes: float64(1), int64(1), object(2)\n",
      "memory usage: 3.2+ MB\n"
     ]
    }
   ],
   "source": [
    "# Print the general/summary information about the internet DataFrame\n",
    "df_internet.info()\n"
   ]
  },
  {
   "cell_type": "code",
   "execution_count": 33,
   "metadata": {},
   "outputs": [
    {
     "data": {
      "text/html": [
       "<div>\n",
       "<style scoped>\n",
       "    .dataframe tbody tr th:only-of-type {\n",
       "        vertical-align: middle;\n",
       "    }\n",
       "\n",
       "    .dataframe tbody tr th {\n",
       "        vertical-align: top;\n",
       "    }\n",
       "\n",
       "    .dataframe thead th {\n",
       "        text-align: right;\n",
       "    }\n",
       "</style>\n",
       "<table border=\"1\" class=\"dataframe\">\n",
       "  <thead>\n",
       "    <tr style=\"text-align: right;\">\n",
       "      <th></th>\n",
       "      <th>id</th>\n",
       "      <th>user_id</th>\n",
       "      <th>session_date</th>\n",
       "      <th>mb_used</th>\n",
       "    </tr>\n",
       "  </thead>\n",
       "  <tbody>\n",
       "    <tr>\n",
       "      <th>0</th>\n",
       "      <td>1000_13</td>\n",
       "      <td>1000</td>\n",
       "      <td>2018-12-29</td>\n",
       "      <td>89.86</td>\n",
       "    </tr>\n",
       "    <tr>\n",
       "      <th>1</th>\n",
       "      <td>1000_204</td>\n",
       "      <td>1000</td>\n",
       "      <td>2018-12-31</td>\n",
       "      <td>0.00</td>\n",
       "    </tr>\n",
       "    <tr>\n",
       "      <th>2</th>\n",
       "      <td>1000_379</td>\n",
       "      <td>1000</td>\n",
       "      <td>2018-12-28</td>\n",
       "      <td>660.40</td>\n",
       "    </tr>\n",
       "    <tr>\n",
       "      <th>3</th>\n",
       "      <td>1000_413</td>\n",
       "      <td>1000</td>\n",
       "      <td>2018-12-26</td>\n",
       "      <td>270.99</td>\n",
       "    </tr>\n",
       "    <tr>\n",
       "      <th>4</th>\n",
       "      <td>1000_442</td>\n",
       "      <td>1000</td>\n",
       "      <td>2018-12-27</td>\n",
       "      <td>880.22</td>\n",
       "    </tr>\n",
       "  </tbody>\n",
       "</table>\n",
       "</div>"
      ],
      "text/plain": [
       "         id  user_id session_date  mb_used\n",
       "0   1000_13     1000   2018-12-29    89.86\n",
       "1  1000_204     1000   2018-12-31     0.00\n",
       "2  1000_379     1000   2018-12-28   660.40\n",
       "3  1000_413     1000   2018-12-26   270.99\n",
       "4  1000_442     1000   2018-12-27   880.22"
      ]
     },
     "execution_count": 33,
     "metadata": {},
     "output_type": "execute_result"
    }
   ],
   "source": [
    "# Print a sample of data for the internet traffic\n",
    "df_internet.head()\n"
   ]
  },
  {
   "cell_type": "markdown",
   "metadata": {},
   "source": [
    "This dataframe displays the date and megebytes used by each user during a specific web session. There are no missing values, it would be helpful to rename 'id' to 'session_id' for clarity, as well as again changing 'user_id' Dtype to an object for consistency."
   ]
  },
  {
   "cell_type": "markdown",
   "metadata": {},
   "source": [
    " "
   ]
  },
  {
   "cell_type": "markdown",
   "metadata": {},
   "source": [
    "### Fix data"
   ]
  },
  {
   "cell_type": "code",
   "execution_count": 34,
   "metadata": {},
   "outputs": [
    {
     "name": "stdout",
     "output_type": "stream",
     "text": [
      "0\n"
     ]
    }
   ],
   "source": [
    "df_internet['user_id']=df_internet['user_id'].astype('object')\n",
    "\n",
    "print(df_internet.duplicated().sum())"
   ]
  },
  {
   "cell_type": "code",
   "execution_count": 35,
   "metadata": {},
   "outputs": [
    {
     "data": {
      "text/html": [
       "<div>\n",
       "<style scoped>\n",
       "    .dataframe tbody tr th:only-of-type {\n",
       "        vertical-align: middle;\n",
       "    }\n",
       "\n",
       "    .dataframe tbody tr th {\n",
       "        vertical-align: top;\n",
       "    }\n",
       "\n",
       "    .dataframe thead th {\n",
       "        text-align: right;\n",
       "    }\n",
       "</style>\n",
       "<table border=\"1\" class=\"dataframe\">\n",
       "  <thead>\n",
       "    <tr style=\"text-align: right;\">\n",
       "      <th></th>\n",
       "      <th>session_id</th>\n",
       "      <th>user_id</th>\n",
       "      <th>session_date</th>\n",
       "      <th>mb_used</th>\n",
       "    </tr>\n",
       "  </thead>\n",
       "  <tbody>\n",
       "    <tr>\n",
       "      <th>0</th>\n",
       "      <td>1000_13</td>\n",
       "      <td>1000</td>\n",
       "      <td>2018-12-29</td>\n",
       "      <td>89.86</td>\n",
       "    </tr>\n",
       "    <tr>\n",
       "      <th>1</th>\n",
       "      <td>1000_204</td>\n",
       "      <td>1000</td>\n",
       "      <td>2018-12-31</td>\n",
       "      <td>0.00</td>\n",
       "    </tr>\n",
       "  </tbody>\n",
       "</table>\n",
       "</div>"
      ],
      "text/plain": [
       "  session_id user_id session_date  mb_used\n",
       "0    1000_13    1000   2018-12-29    89.86\n",
       "1   1000_204    1000   2018-12-31     0.00"
      ]
     },
     "execution_count": 35,
     "metadata": {},
     "output_type": "execute_result"
    }
   ],
   "source": [
    "df_internet.columns=['session_id','user_id','session_date','mb_used']\n",
    "df_internet.head(2)"
   ]
  },
  {
   "cell_type": "markdown",
   "metadata": {},
   "source": [
    "There are no duplicate rows or missing values. Renamed id column to 'session_id'. "
   ]
  },
  {
   "cell_type": "markdown",
   "metadata": {},
   "source": [
    "### Enrich data"
   ]
  },
  {
   "cell_type": "code",
   "execution_count": 36,
   "metadata": {},
   "outputs": [
    {
     "data": {
      "text/html": [
       "<div>\n",
       "<style scoped>\n",
       "    .dataframe tbody tr th:only-of-type {\n",
       "        vertical-align: middle;\n",
       "    }\n",
       "\n",
       "    .dataframe tbody tr th {\n",
       "        vertical-align: top;\n",
       "    }\n",
       "\n",
       "    .dataframe thead th {\n",
       "        text-align: right;\n",
       "    }\n",
       "</style>\n",
       "<table border=\"1\" class=\"dataframe\">\n",
       "  <thead>\n",
       "    <tr style=\"text-align: right;\">\n",
       "      <th></th>\n",
       "      <th>session_id</th>\n",
       "      <th>user_id</th>\n",
       "      <th>session_date</th>\n",
       "      <th>mb_used</th>\n",
       "      <th>month</th>\n",
       "    </tr>\n",
       "  </thead>\n",
       "  <tbody>\n",
       "    <tr>\n",
       "      <th>0</th>\n",
       "      <td>1000_13</td>\n",
       "      <td>1000</td>\n",
       "      <td>2018-12-29</td>\n",
       "      <td>89.86</td>\n",
       "      <td>12</td>\n",
       "    </tr>\n",
       "    <tr>\n",
       "      <th>1</th>\n",
       "      <td>1000_204</td>\n",
       "      <td>1000</td>\n",
       "      <td>2018-12-31</td>\n",
       "      <td>0.00</td>\n",
       "      <td>12</td>\n",
       "    </tr>\n",
       "    <tr>\n",
       "      <th>2</th>\n",
       "      <td>1000_379</td>\n",
       "      <td>1000</td>\n",
       "      <td>2018-12-28</td>\n",
       "      <td>660.40</td>\n",
       "      <td>12</td>\n",
       "    </tr>\n",
       "    <tr>\n",
       "      <th>3</th>\n",
       "      <td>1000_413</td>\n",
       "      <td>1000</td>\n",
       "      <td>2018-12-26</td>\n",
       "      <td>270.99</td>\n",
       "      <td>12</td>\n",
       "    </tr>\n",
       "    <tr>\n",
       "      <th>4</th>\n",
       "      <td>1000_442</td>\n",
       "      <td>1000</td>\n",
       "      <td>2018-12-27</td>\n",
       "      <td>880.22</td>\n",
       "      <td>12</td>\n",
       "    </tr>\n",
       "  </tbody>\n",
       "</table>\n",
       "</div>"
      ],
      "text/plain": [
       "  session_id user_id session_date  mb_used  month\n",
       "0    1000_13    1000   2018-12-29    89.86     12\n",
       "1   1000_204    1000   2018-12-31     0.00     12\n",
       "2   1000_379    1000   2018-12-28   660.40     12\n",
       "3   1000_413    1000   2018-12-26   270.99     12\n",
       "4   1000_442    1000   2018-12-27   880.22     12"
      ]
     },
     "execution_count": 36,
     "metadata": {},
     "output_type": "execute_result"
    }
   ],
   "source": [
    "df_internet['session_date']=pd.to_datetime(df_internet['session_date'],format='%Y-%m-%d')\n",
    "df_internet['month']=df_internet['session_date'].dt.month\n",
    "df_internet.head()"
   ]
  },
  {
   "cell_type": "markdown",
   "metadata": {},
   "source": [
    "I changed the session_date column to datetime format and added a column that contained only the month of the recorded session."
   ]
  },
  {
   "cell_type": "markdown",
   "metadata": {},
   "source": [
    "## Study plan conditions"
   ]
  },
  {
   "cell_type": "code",
   "execution_count": 37,
   "metadata": {},
   "outputs": [
    {
     "data": {
      "text/html": [
       "<div>\n",
       "<style scoped>\n",
       "    .dataframe tbody tr th:only-of-type {\n",
       "        vertical-align: middle;\n",
       "    }\n",
       "\n",
       "    .dataframe tbody tr th {\n",
       "        vertical-align: top;\n",
       "    }\n",
       "\n",
       "    .dataframe thead th {\n",
       "        text-align: right;\n",
       "    }\n",
       "</style>\n",
       "<table border=\"1\" class=\"dataframe\">\n",
       "  <thead>\n",
       "    <tr style=\"text-align: right;\">\n",
       "      <th></th>\n",
       "      <th>plan_name</th>\n",
       "      <th>messages_included</th>\n",
       "      <th>mb_per_month_included</th>\n",
       "      <th>minutes_included</th>\n",
       "      <th>usd_monthly_pay</th>\n",
       "      <th>usd_per_gb</th>\n",
       "      <th>usd_per_message</th>\n",
       "      <th>usd_per_minute</th>\n",
       "    </tr>\n",
       "  </thead>\n",
       "  <tbody>\n",
       "    <tr>\n",
       "      <th>0</th>\n",
       "      <td>surf</td>\n",
       "      <td>50</td>\n",
       "      <td>15360</td>\n",
       "      <td>500</td>\n",
       "      <td>20</td>\n",
       "      <td>10</td>\n",
       "      <td>0.03</td>\n",
       "      <td>0.03</td>\n",
       "    </tr>\n",
       "    <tr>\n",
       "      <th>1</th>\n",
       "      <td>ultimate</td>\n",
       "      <td>1000</td>\n",
       "      <td>30720</td>\n",
       "      <td>3000</td>\n",
       "      <td>70</td>\n",
       "      <td>7</td>\n",
       "      <td>0.01</td>\n",
       "      <td>0.01</td>\n",
       "    </tr>\n",
       "  </tbody>\n",
       "</table>\n",
       "</div>"
      ],
      "text/plain": [
       "  plan_name  messages_included  mb_per_month_included  minutes_included  \\\n",
       "0      surf                 50                  15360               500   \n",
       "1  ultimate               1000                  30720              3000   \n",
       "\n",
       "   usd_monthly_pay  usd_per_gb  usd_per_message  usd_per_minute  \n",
       "0               20          10             0.03            0.03  \n",
       "1               70           7             0.01            0.01  "
      ]
     },
     "execution_count": 37,
     "metadata": {},
     "output_type": "execute_result"
    }
   ],
   "source": [
    "# Print out the plan conditions and make sure they are clear for you\n",
    "df_plans.head()\n"
   ]
  },
  {
   "cell_type": "code",
   "execution_count": 38,
   "metadata": {},
   "outputs": [
    {
     "name": "stdout",
     "output_type": "stream",
     "text": [
      "    call_id user_id  call_date  duration  month\n",
      "0   1000_93    1000 2018-12-27         9     12\n",
      "1  1000_145    1000 2018-12-27        14     12\n",
      "2  1000_247    1000 2018-12-27        15     12\n",
      "3  1000_309    1000 2018-12-28         6     12\n",
      "4  1000_380    1000 2018-12-30         5     12\n",
      "\n",
      "               #_of_calls\n",
      "user_id month            \n",
      "1000    12             16\n",
      "1001    10             65\n",
      "        11             64\n",
      "        12             56\n",
      "        9              49\n",
      "...                   ...\n",
      "1498    5              35\n",
      "1499    12             65\n",
      "        10             53\n",
      "        11             45\n",
      "        9              41\n",
      "\n",
      "[2258 rows x 1 columns]\n"
     ]
    }
   ],
   "source": [
    "# Calculate the number of calls made by each user per month. Save the result.\n",
    "print(df_calls.head())\n",
    "print()\n",
    "calls_per_month=df_calls.groupby('user_id').agg({'month':'value_counts'})\n",
    "calls_per_month.head()\n",
    "calls_per_month.columns=['#_of_calls']\n",
    "print(calls_per_month)"
   ]
  },
  {
   "cell_type": "markdown",
   "metadata": {},
   "source": [
    "I created a separate column that conatins the number of calls for each user_id according to month."
   ]
  },
  {
   "cell_type": "code",
   "execution_count": 39,
   "metadata": {},
   "outputs": [
    {
     "data": {
      "text/html": [
       "<div>\n",
       "<style scoped>\n",
       "    .dataframe tbody tr th:only-of-type {\n",
       "        vertical-align: middle;\n",
       "    }\n",
       "\n",
       "    .dataframe tbody tr th {\n",
       "        vertical-align: top;\n",
       "    }\n",
       "\n",
       "    .dataframe thead th {\n",
       "        text-align: right;\n",
       "    }\n",
       "</style>\n",
       "<table border=\"1\" class=\"dataframe\">\n",
       "  <thead>\n",
       "    <tr style=\"text-align: right;\">\n",
       "      <th></th>\n",
       "      <th></th>\n",
       "      <th>duration</th>\n",
       "    </tr>\n",
       "    <tr>\n",
       "      <th>user_id</th>\n",
       "      <th>month</th>\n",
       "      <th></th>\n",
       "    </tr>\n",
       "  </thead>\n",
       "  <tbody>\n",
       "    <tr>\n",
       "      <th>1000</th>\n",
       "      <th>12</th>\n",
       "      <td>124</td>\n",
       "    </tr>\n",
       "    <tr>\n",
       "      <th rowspan=\"5\" valign=\"top\">1001</th>\n",
       "      <th>8</th>\n",
       "      <td>182</td>\n",
       "    </tr>\n",
       "    <tr>\n",
       "      <th>9</th>\n",
       "      <td>315</td>\n",
       "    </tr>\n",
       "    <tr>\n",
       "      <th>10</th>\n",
       "      <td>393</td>\n",
       "    </tr>\n",
       "    <tr>\n",
       "      <th>11</th>\n",
       "      <td>426</td>\n",
       "    </tr>\n",
       "    <tr>\n",
       "      <th>12</th>\n",
       "      <td>412</td>\n",
       "    </tr>\n",
       "    <tr>\n",
       "      <th rowspan=\"3\" valign=\"top\">1002</th>\n",
       "      <th>10</th>\n",
       "      <td>59</td>\n",
       "    </tr>\n",
       "    <tr>\n",
       "      <th>11</th>\n",
       "      <td>386</td>\n",
       "    </tr>\n",
       "    <tr>\n",
       "      <th>12</th>\n",
       "      <td>384</td>\n",
       "    </tr>\n",
       "    <tr>\n",
       "      <th>1003</th>\n",
       "      <th>12</th>\n",
       "      <td>1104</td>\n",
       "    </tr>\n",
       "  </tbody>\n",
       "</table>\n",
       "</div>"
      ],
      "text/plain": [
       "               duration\n",
       "user_id month          \n",
       "1000    12          124\n",
       "1001    8           182\n",
       "        9           315\n",
       "        10          393\n",
       "        11          426\n",
       "        12          412\n",
       "1002    10           59\n",
       "        11          386\n",
       "        12          384\n",
       "1003    12         1104"
      ]
     },
     "execution_count": 39,
     "metadata": {},
     "output_type": "execute_result"
    }
   ],
   "source": [
    "# Calculate the amount of minutes spent by each user per month. Save the result.\n",
    "df_calls.head()\n",
    "minutes_per_month = df_calls.groupby(['user_id','month']).agg({'duration':'sum'})\n",
    "minutes_per_month.head(10)"
   ]
  },
  {
   "cell_type": "markdown",
   "metadata": {},
   "source": [
    "I created a separate column that contains the total number of minutes used by each user, each month. "
   ]
  },
  {
   "cell_type": "code",
   "execution_count": 40,
   "metadata": {},
   "outputs": [
    {
     "name": "stdout",
     "output_type": "stream",
     "text": [
      "               #_of_messages\n",
      "user_id month               \n",
      "1000    12                11\n",
      "1001    10                53\n",
      "        9                 44\n",
      "        12                44\n",
      "        11                36\n",
      "...                      ...\n",
      "1496    10                18\n",
      "        11                13\n",
      "        12                11\n",
      "        8                  2\n",
      "1497    12                50\n",
      "\n",
      "[1806 rows x 1 columns]\n"
     ]
    }
   ],
   "source": [
    "# Calculate the number of messages sent by each user per month. Save the result.\n",
    "messages_per_month = df_messages.groupby(['user_id']).agg({'month':'value_counts'})\n",
    "messages_per_month.columns=['#_of_messages']\n",
    "print(messages_per_month)"
   ]
  },
  {
   "cell_type": "markdown",
   "metadata": {},
   "source": [
    "I created a separate column that conatins the number of messages sent from each user, each month. "
   ]
  },
  {
   "cell_type": "code",
   "execution_count": 41,
   "metadata": {},
   "outputs": [
    {
     "name": "stdout",
     "output_type": "stream",
     "text": [
      "  session_id user_id session_date  mb_used  month\n",
      "0    1000_13    1000   2018-12-29    89.86     12\n",
      "1   1000_204    1000   2018-12-31     0.00     12\n",
      "2   1000_379    1000   2018-12-28   660.40     12\n",
      "3   1000_413    1000   2018-12-26   270.99     12\n",
      "4   1000_442    1000   2018-12-27   880.22     12\n"
     ]
    },
    {
     "data": {
      "text/html": [
       "<div>\n",
       "<style scoped>\n",
       "    .dataframe tbody tr th:only-of-type {\n",
       "        vertical-align: middle;\n",
       "    }\n",
       "\n",
       "    .dataframe tbody tr th {\n",
       "        vertical-align: top;\n",
       "    }\n",
       "\n",
       "    .dataframe thead th {\n",
       "        text-align: right;\n",
       "    }\n",
       "</style>\n",
       "<table border=\"1\" class=\"dataframe\">\n",
       "  <thead>\n",
       "    <tr style=\"text-align: right;\">\n",
       "      <th></th>\n",
       "      <th></th>\n",
       "      <th>mb_used</th>\n",
       "    </tr>\n",
       "    <tr>\n",
       "      <th>user_id</th>\n",
       "      <th>month</th>\n",
       "      <th></th>\n",
       "    </tr>\n",
       "  </thead>\n",
       "  <tbody>\n",
       "    <tr>\n",
       "      <th>1000</th>\n",
       "      <th>12</th>\n",
       "      <td>1901.47</td>\n",
       "    </tr>\n",
       "    <tr>\n",
       "      <th rowspan=\"5\" valign=\"top\">1001</th>\n",
       "      <th>8</th>\n",
       "      <td>6919.15</td>\n",
       "    </tr>\n",
       "    <tr>\n",
       "      <th>9</th>\n",
       "      <td>13314.82</td>\n",
       "    </tr>\n",
       "    <tr>\n",
       "      <th>10</th>\n",
       "      <td>22330.49</td>\n",
       "    </tr>\n",
       "    <tr>\n",
       "      <th>11</th>\n",
       "      <td>18504.30</td>\n",
       "    </tr>\n",
       "    <tr>\n",
       "      <th>12</th>\n",
       "      <td>19369.18</td>\n",
       "    </tr>\n",
       "    <tr>\n",
       "      <th rowspan=\"3\" valign=\"top\">1002</th>\n",
       "      <th>10</th>\n",
       "      <td>6552.01</td>\n",
       "    </tr>\n",
       "    <tr>\n",
       "      <th>11</th>\n",
       "      <td>19345.08</td>\n",
       "    </tr>\n",
       "    <tr>\n",
       "      <th>12</th>\n",
       "      <td>14396.24</td>\n",
       "    </tr>\n",
       "    <tr>\n",
       "      <th>1003</th>\n",
       "      <th>12</th>\n",
       "      <td>27044.14</td>\n",
       "    </tr>\n",
       "  </tbody>\n",
       "</table>\n",
       "</div>"
      ],
      "text/plain": [
       "                mb_used\n",
       "user_id month          \n",
       "1000    12      1901.47\n",
       "1001    8       6919.15\n",
       "        9      13314.82\n",
       "        10     22330.49\n",
       "        11     18504.30\n",
       "        12     19369.18\n",
       "1002    10      6552.01\n",
       "        11     19345.08\n",
       "        12     14396.24\n",
       "1003    12     27044.14"
      ]
     },
     "execution_count": 41,
     "metadata": {},
     "output_type": "execute_result"
    }
   ],
   "source": [
    "# Calculate the volume of internet traffic used by each user per month. Save the result.\n",
    "print(df_internet.head())\n",
    "\n",
    "internet_volume = df_internet.groupby(['user_id','month']).agg({'mb_used':'sum'})\n",
    "internet_volume.head(10)"
   ]
  },
  {
   "cell_type": "markdown",
   "metadata": {},
   "source": [
    "I created a separate column that conatins the total mb used by each user, each month. "
   ]
  },
  {
   "cell_type": "code",
   "execution_count": 42,
   "metadata": {},
   "outputs": [
    {
     "name": "stdout",
     "output_type": "stream",
     "text": [
      "               gb_used\n",
      "user_id month         \n",
      "1000    12        2048\n",
      "1001    8         7168\n",
      "        9        14336\n",
      "        10       22528\n",
      "        11       19456\n",
      "        12       19456\n",
      "1002    10        7168\n",
      "        11       19456\n",
      "        12       15360\n",
      "1003    12       27648\n",
      "1004    5         7168\n",
      "        6        21504\n",
      "        7        24576\n",
      "        8        28672\n",
      "        9        19456\n"
     ]
    }
   ],
   "source": [
    "def round_up_to_thousand(x):\n",
    "    x = math.ceil(x / 1024)\n",
    "    return(x*1024)\n",
    "    \n",
    "internet_volume['mb_used'] = internet_volume['mb_used'].apply(round_up_to_thousand)\n",
    "internet_volume.columns=['gb_used']\n",
    "print(internet_volume.head(15))\n"
   ]
  },
  {
   "cell_type": "markdown",
   "metadata": {},
   "source": [
    "<div class=\"alert alert-block alert-danger\">✍\n",
    "    \n",
    "\n",
    "__Reviewer's comment №1__\n",
    "\n",
    "There are 1,024 megabytes in one gigabyte."
   ]
  },
  {
   "cell_type": "markdown",
   "metadata": {},
   "source": [
    "^ I'm not sure how to color cells blue to mark my return comments. However, I think I fixed the above issue by dividing the number of megabytes by 1024 and rounding them all up to the nearest whole number, effectively converting them to gigabytes. I then converted them back to megabytes by multiplying 1024 to it.\n"
   ]
  },
  {
   "cell_type": "markdown",
   "metadata": {},
   "source": [
    "<div class=\"alert alert-block alert-success\">✔️\n",
    "    \n",
    "\n",
    "__Reviewer's comment №2__\n",
    "\n",
    "Now correct"
   ]
  },
  {
   "cell_type": "markdown",
   "metadata": {},
   "source": [
    "Megaline rounds their users data up. Even if a user used 1025 megabytes, megaline charges for 2 gigabytes (2048mb).\n",
    "I divided the users megabytes usage by 1024, rounded up to the nearest number, then multiplied that number by 1024 to get the number of megabytes users would be charged for. "
   ]
  },
  {
   "cell_type": "code",
   "execution_count": 43,
   "metadata": {},
   "outputs": [
    {
     "data": {
      "text/html": [
       "<div>\n",
       "<style scoped>\n",
       "    .dataframe tbody tr th:only-of-type {\n",
       "        vertical-align: middle;\n",
       "    }\n",
       "\n",
       "    .dataframe tbody tr th {\n",
       "        vertical-align: top;\n",
       "    }\n",
       "\n",
       "    .dataframe thead th {\n",
       "        text-align: right;\n",
       "    }\n",
       "</style>\n",
       "<table border=\"1\" class=\"dataframe\">\n",
       "  <thead>\n",
       "    <tr style=\"text-align: right;\">\n",
       "      <th></th>\n",
       "      <th>user_id</th>\n",
       "      <th>month</th>\n",
       "      <th>minutes_used</th>\n",
       "      <th>mb_used</th>\n",
       "      <th>#_of_messages</th>\n",
       "      <th>#_of_calls</th>\n",
       "    </tr>\n",
       "  </thead>\n",
       "  <tbody>\n",
       "    <tr>\n",
       "      <th>0</th>\n",
       "      <td>1000</td>\n",
       "      <td>12</td>\n",
       "      <td>124</td>\n",
       "      <td>2048</td>\n",
       "      <td>11</td>\n",
       "      <td>16</td>\n",
       "    </tr>\n",
       "    <tr>\n",
       "      <th>1</th>\n",
       "      <td>1001</td>\n",
       "      <td>8</td>\n",
       "      <td>182</td>\n",
       "      <td>7168</td>\n",
       "      <td>30</td>\n",
       "      <td>27</td>\n",
       "    </tr>\n",
       "    <tr>\n",
       "      <th>2</th>\n",
       "      <td>1001</td>\n",
       "      <td>9</td>\n",
       "      <td>315</td>\n",
       "      <td>14336</td>\n",
       "      <td>44</td>\n",
       "      <td>49</td>\n",
       "    </tr>\n",
       "    <tr>\n",
       "      <th>3</th>\n",
       "      <td>1001</td>\n",
       "      <td>10</td>\n",
       "      <td>393</td>\n",
       "      <td>22528</td>\n",
       "      <td>53</td>\n",
       "      <td>65</td>\n",
       "    </tr>\n",
       "    <tr>\n",
       "      <th>4</th>\n",
       "      <td>1001</td>\n",
       "      <td>11</td>\n",
       "      <td>426</td>\n",
       "      <td>19456</td>\n",
       "      <td>36</td>\n",
       "      <td>64</td>\n",
       "    </tr>\n",
       "    <tr>\n",
       "      <th>5</th>\n",
       "      <td>1001</td>\n",
       "      <td>12</td>\n",
       "      <td>412</td>\n",
       "      <td>19456</td>\n",
       "      <td>44</td>\n",
       "      <td>56</td>\n",
       "    </tr>\n",
       "    <tr>\n",
       "      <th>6</th>\n",
       "      <td>1002</td>\n",
       "      <td>10</td>\n",
       "      <td>59</td>\n",
       "      <td>7168</td>\n",
       "      <td>15</td>\n",
       "      <td>11</td>\n",
       "    </tr>\n",
       "    <tr>\n",
       "      <th>7</th>\n",
       "      <td>1002</td>\n",
       "      <td>11</td>\n",
       "      <td>386</td>\n",
       "      <td>19456</td>\n",
       "      <td>32</td>\n",
       "      <td>55</td>\n",
       "    </tr>\n",
       "    <tr>\n",
       "      <th>8</th>\n",
       "      <td>1002</td>\n",
       "      <td>12</td>\n",
       "      <td>384</td>\n",
       "      <td>15360</td>\n",
       "      <td>41</td>\n",
       "      <td>47</td>\n",
       "    </tr>\n",
       "    <tr>\n",
       "      <th>9</th>\n",
       "      <td>1003</td>\n",
       "      <td>12</td>\n",
       "      <td>1104</td>\n",
       "      <td>27648</td>\n",
       "      <td>50</td>\n",
       "      <td>149</td>\n",
       "    </tr>\n",
       "    <tr>\n",
       "      <th>10</th>\n",
       "      <td>1004</td>\n",
       "      <td>5</td>\n",
       "      <td>193</td>\n",
       "      <td>7168</td>\n",
       "      <td>7</td>\n",
       "      <td>21</td>\n",
       "    </tr>\n",
       "    <tr>\n",
       "      <th>11</th>\n",
       "      <td>1004</td>\n",
       "      <td>6</td>\n",
       "      <td>275</td>\n",
       "      <td>21504</td>\n",
       "      <td>18</td>\n",
       "      <td>44</td>\n",
       "    </tr>\n",
       "    <tr>\n",
       "      <th>12</th>\n",
       "      <td>1004</td>\n",
       "      <td>7</td>\n",
       "      <td>381</td>\n",
       "      <td>24576</td>\n",
       "      <td>26</td>\n",
       "      <td>49</td>\n",
       "    </tr>\n",
       "    <tr>\n",
       "      <th>13</th>\n",
       "      <td>1004</td>\n",
       "      <td>8</td>\n",
       "      <td>354</td>\n",
       "      <td>28672</td>\n",
       "      <td>25</td>\n",
       "      <td>49</td>\n",
       "    </tr>\n",
       "    <tr>\n",
       "      <th>14</th>\n",
       "      <td>1004</td>\n",
       "      <td>9</td>\n",
       "      <td>301</td>\n",
       "      <td>19456</td>\n",
       "      <td>21</td>\n",
       "      <td>42</td>\n",
       "    </tr>\n",
       "  </tbody>\n",
       "</table>\n",
       "</div>"
      ],
      "text/plain": [
       "    user_id  month  minutes_used  mb_used  #_of_messages  #_of_calls\n",
       "0      1000     12           124     2048             11          16\n",
       "1      1001      8           182     7168             30          27\n",
       "2      1001      9           315    14336             44          49\n",
       "3      1001     10           393    22528             53          65\n",
       "4      1001     11           426    19456             36          64\n",
       "5      1001     12           412    19456             44          56\n",
       "6      1002     10            59     7168             15          11\n",
       "7      1002     11           386    19456             32          55\n",
       "8      1002     12           384    15360             41          47\n",
       "9      1003     12          1104    27648             50         149\n",
       "10     1004      5           193     7168              7          21\n",
       "11     1004      6           275    21504             18          44\n",
       "12     1004      7           381    24576             26          49\n",
       "13     1004      8           354    28672             25          49\n",
       "14     1004      9           301    19456             21          42"
      ]
     },
     "execution_count": 43,
     "metadata": {},
     "output_type": "execute_result"
    }
   ],
   "source": [
    "# Merge the data for calls, minutes, messages, internet based on user_id and month\n",
    "\n",
    "merged_data = minutes_per_month.merge(internet_volume, on=['user_id','month'])\n",
    "merged_data = merged_data.merge(messages_per_month, on=['user_id','month'])\n",
    "merged_data = merged_data.merge(calls_per_month, on=['user_id','month'])\n",
    "\n",
    "merged_data.columns=['minutes_used','mb_used','#_of_messages','#_of_calls']\n",
    "\n",
    "merged_data=merged_data.reset_index()\n",
    "merged_data.head(15)"
   ]
  },
  {
   "cell_type": "markdown",
   "metadata": {},
   "source": [
    "I merged all of the previous columns together using the user_id and month columns to sort it correctly."
   ]
  },
  {
   "cell_type": "code",
   "execution_count": 44,
   "metadata": {},
   "outputs": [
    {
     "data": {
      "text/html": [
       "<div>\n",
       "<style scoped>\n",
       "    .dataframe tbody tr th:only-of-type {\n",
       "        vertical-align: middle;\n",
       "    }\n",
       "\n",
       "    .dataframe tbody tr th {\n",
       "        vertical-align: top;\n",
       "    }\n",
       "\n",
       "    .dataframe thead th {\n",
       "        text-align: right;\n",
       "    }\n",
       "</style>\n",
       "<table border=\"1\" class=\"dataframe\">\n",
       "  <thead>\n",
       "    <tr style=\"text-align: right;\">\n",
       "      <th></th>\n",
       "      <th>user_id</th>\n",
       "      <th>month</th>\n",
       "      <th>minutes_used</th>\n",
       "      <th>mb_used</th>\n",
       "      <th>#_of_messages</th>\n",
       "      <th>#_of_calls</th>\n",
       "      <th>city</th>\n",
       "      <th>plan_name</th>\n",
       "      <th>messages_included</th>\n",
       "      <th>mb_per_month_included</th>\n",
       "      <th>minutes_included</th>\n",
       "      <th>usd_monthly_pay</th>\n",
       "      <th>usd_per_gb</th>\n",
       "      <th>usd_per_message</th>\n",
       "      <th>usd_per_minute</th>\n",
       "    </tr>\n",
       "  </thead>\n",
       "  <tbody>\n",
       "    <tr>\n",
       "      <th>0</th>\n",
       "      <td>1000</td>\n",
       "      <td>12</td>\n",
       "      <td>124</td>\n",
       "      <td>2048</td>\n",
       "      <td>11</td>\n",
       "      <td>16</td>\n",
       "      <td>Atlanta-Sandy Springs-Roswell, GA MSA</td>\n",
       "      <td>ultimate</td>\n",
       "      <td>1000</td>\n",
       "      <td>30720</td>\n",
       "      <td>3000</td>\n",
       "      <td>70</td>\n",
       "      <td>7</td>\n",
       "      <td>0.01</td>\n",
       "      <td>0.01</td>\n",
       "    </tr>\n",
       "    <tr>\n",
       "      <th>1</th>\n",
       "      <td>1006</td>\n",
       "      <td>11</td>\n",
       "      <td>10</td>\n",
       "      <td>3072</td>\n",
       "      <td>15</td>\n",
       "      <td>2</td>\n",
       "      <td>San Francisco-Oakland-Berkeley, CA MSA</td>\n",
       "      <td>ultimate</td>\n",
       "      <td>1000</td>\n",
       "      <td>30720</td>\n",
       "      <td>3000</td>\n",
       "      <td>70</td>\n",
       "      <td>7</td>\n",
       "      <td>0.01</td>\n",
       "      <td>0.01</td>\n",
       "    </tr>\n",
       "    <tr>\n",
       "      <th>2</th>\n",
       "      <td>1006</td>\n",
       "      <td>12</td>\n",
       "      <td>59</td>\n",
       "      <td>32768</td>\n",
       "      <td>139</td>\n",
       "      <td>9</td>\n",
       "      <td>San Francisco-Oakland-Berkeley, CA MSA</td>\n",
       "      <td>ultimate</td>\n",
       "      <td>1000</td>\n",
       "      <td>30720</td>\n",
       "      <td>3000</td>\n",
       "      <td>70</td>\n",
       "      <td>7</td>\n",
       "      <td>0.01</td>\n",
       "      <td>0.01</td>\n",
       "    </tr>\n",
       "    <tr>\n",
       "      <th>3</th>\n",
       "      <td>1008</td>\n",
       "      <td>10</td>\n",
       "      <td>476</td>\n",
       "      <td>17408</td>\n",
       "      <td>21</td>\n",
       "      <td>71</td>\n",
       "      <td>Orlando-Kissimmee-Sanford, FL MSA</td>\n",
       "      <td>ultimate</td>\n",
       "      <td>1000</td>\n",
       "      <td>30720</td>\n",
       "      <td>3000</td>\n",
       "      <td>70</td>\n",
       "      <td>7</td>\n",
       "      <td>0.01</td>\n",
       "      <td>0.01</td>\n",
       "    </tr>\n",
       "    <tr>\n",
       "      <th>4</th>\n",
       "      <td>1008</td>\n",
       "      <td>11</td>\n",
       "      <td>446</td>\n",
       "      <td>24576</td>\n",
       "      <td>37</td>\n",
       "      <td>63</td>\n",
       "      <td>Orlando-Kissimmee-Sanford, FL MSA</td>\n",
       "      <td>ultimate</td>\n",
       "      <td>1000</td>\n",
       "      <td>30720</td>\n",
       "      <td>3000</td>\n",
       "      <td>70</td>\n",
       "      <td>7</td>\n",
       "      <td>0.01</td>\n",
       "      <td>0.01</td>\n",
       "    </tr>\n",
       "  </tbody>\n",
       "</table>\n",
       "</div>"
      ],
      "text/plain": [
       "  user_id  month  minutes_used  mb_used  #_of_messages  #_of_calls  \\\n",
       "0    1000     12           124     2048             11          16   \n",
       "1    1006     11            10     3072             15           2   \n",
       "2    1006     12            59    32768            139           9   \n",
       "3    1008     10           476    17408             21          71   \n",
       "4    1008     11           446    24576             37          63   \n",
       "\n",
       "                                     city plan_name  messages_included  \\\n",
       "0   Atlanta-Sandy Springs-Roswell, GA MSA  ultimate               1000   \n",
       "1  San Francisco-Oakland-Berkeley, CA MSA  ultimate               1000   \n",
       "2  San Francisco-Oakland-Berkeley, CA MSA  ultimate               1000   \n",
       "3       Orlando-Kissimmee-Sanford, FL MSA  ultimate               1000   \n",
       "4       Orlando-Kissimmee-Sanford, FL MSA  ultimate               1000   \n",
       "\n",
       "   mb_per_month_included  minutes_included  usd_monthly_pay  usd_per_gb  \\\n",
       "0                  30720              3000               70           7   \n",
       "1                  30720              3000               70           7   \n",
       "2                  30720              3000               70           7   \n",
       "3                  30720              3000               70           7   \n",
       "4                  30720              3000               70           7   \n",
       "\n",
       "   usd_per_message  usd_per_minute  \n",
       "0             0.01            0.01  \n",
       "1             0.01            0.01  \n",
       "2             0.01            0.01  \n",
       "3             0.01            0.01  \n",
       "4             0.01            0.01  "
      ]
     },
     "execution_count": 44,
     "metadata": {},
     "output_type": "execute_result"
    }
   ],
   "source": [
    "# Add the plan information\n",
    "new_df = merged_data.merge(df_users, on='user_id')\n",
    "trimmed_df = new_df.drop(['first_name','last_name','age','reg_date','churn_date'], axis='columns')\n",
    "trimmed_df.columns=['user_id','month','minutes_used','mb_used','#_of_messages','#_of_calls', 'city', 'plan_name']\n",
    "\n",
    "full_df = trimmed_df.merge(df_plans, on='plan_name')\n",
    "full_df.head()"
   ]
  },
  {
   "cell_type": "markdown",
   "metadata": {},
   "source": [
    "I added the user information and the plan information to the previously made dataframe. I dropped the several columns I thought wouldn't be relevant, though I made sure to leave the dropped columns intact in the 'new_df' dataframe. "
   ]
  },
  {
   "cell_type": "code",
   "execution_count": 45,
   "metadata": {},
   "outputs": [],
   "source": [
    "# Calculate the monthly revenue for each user\n",
    "\n",
    "surf_users = full_df[full_df['plan_name'] == 'surf'].copy()\n",
    "ultimate_users = full_df[full_df['plan_name'] == 'ultimate'].copy()\n"
   ]
  },
  {
   "cell_type": "markdown",
   "metadata": {},
   "source": [
    "I separated the dataframe containing all of the users information into two separate dataframes. \n",
    "surf_users contains all the information for users with the surf plan. \n",
    "ultimate_users contains all the information for users with the ultimate plan. "
   ]
  },
  {
   "cell_type": "code",
   "execution_count": 46,
   "metadata": {},
   "outputs": [
    {
     "data": {
      "text/html": [
       "<div>\n",
       "<style scoped>\n",
       "    .dataframe tbody tr th:only-of-type {\n",
       "        vertical-align: middle;\n",
       "    }\n",
       "\n",
       "    .dataframe tbody tr th {\n",
       "        vertical-align: top;\n",
       "    }\n",
       "\n",
       "    .dataframe thead th {\n",
       "        text-align: right;\n",
       "    }\n",
       "</style>\n",
       "<table border=\"1\" class=\"dataframe\">\n",
       "  <thead>\n",
       "    <tr style=\"text-align: right;\">\n",
       "      <th></th>\n",
       "      <th>user_id</th>\n",
       "      <th>month</th>\n",
       "      <th>minutes_used</th>\n",
       "      <th>mb_used</th>\n",
       "      <th>#_of_messages</th>\n",
       "      <th>#_of_calls</th>\n",
       "      <th>city</th>\n",
       "      <th>plan_name</th>\n",
       "      <th>messages_included</th>\n",
       "      <th>mb_per_month_included</th>\n",
       "      <th>minutes_included</th>\n",
       "      <th>usd_monthly_pay</th>\n",
       "      <th>usd_per_gb</th>\n",
       "      <th>usd_per_message</th>\n",
       "      <th>usd_per_minute</th>\n",
       "      <th>monthly_revenue</th>\n",
       "    </tr>\n",
       "  </thead>\n",
       "  <tbody>\n",
       "    <tr>\n",
       "      <th>0</th>\n",
       "      <td>1000</td>\n",
       "      <td>12</td>\n",
       "      <td>124</td>\n",
       "      <td>2048</td>\n",
       "      <td>11</td>\n",
       "      <td>16</td>\n",
       "      <td>Atlanta-Sandy Springs-Roswell, GA MSA</td>\n",
       "      <td>ultimate</td>\n",
       "      <td>1000</td>\n",
       "      <td>30720</td>\n",
       "      <td>3000</td>\n",
       "      <td>70</td>\n",
       "      <td>7</td>\n",
       "      <td>0.01</td>\n",
       "      <td>0.01</td>\n",
       "      <td>70.0</td>\n",
       "    </tr>\n",
       "    <tr>\n",
       "      <th>1</th>\n",
       "      <td>1006</td>\n",
       "      <td>11</td>\n",
       "      <td>10</td>\n",
       "      <td>3072</td>\n",
       "      <td>15</td>\n",
       "      <td>2</td>\n",
       "      <td>San Francisco-Oakland-Berkeley, CA MSA</td>\n",
       "      <td>ultimate</td>\n",
       "      <td>1000</td>\n",
       "      <td>30720</td>\n",
       "      <td>3000</td>\n",
       "      <td>70</td>\n",
       "      <td>7</td>\n",
       "      <td>0.01</td>\n",
       "      <td>0.01</td>\n",
       "      <td>70.0</td>\n",
       "    </tr>\n",
       "  </tbody>\n",
       "</table>\n",
       "</div>"
      ],
      "text/plain": [
       "  user_id  month  minutes_used  mb_used  #_of_messages  #_of_calls  \\\n",
       "0    1000     12           124     2048             11          16   \n",
       "1    1006     11            10     3072             15           2   \n",
       "\n",
       "                                     city plan_name  messages_included  \\\n",
       "0   Atlanta-Sandy Springs-Roswell, GA MSA  ultimate               1000   \n",
       "1  San Francisco-Oakland-Berkeley, CA MSA  ultimate               1000   \n",
       "\n",
       "   mb_per_month_included  minutes_included  usd_monthly_pay  usd_per_gb  \\\n",
       "0                  30720              3000               70           7   \n",
       "1                  30720              3000               70           7   \n",
       "\n",
       "   usd_per_message  usd_per_minute  monthly_revenue  \n",
       "0             0.01            0.01             70.0  \n",
       "1             0.01            0.01             70.0  "
      ]
     },
     "execution_count": 46,
     "metadata": {},
     "output_type": "execute_result"
    }
   ],
   "source": [
    "def calculate_revenue(row):\n",
    "    plan_details = {\n",
    "        'surf': {'fee': 20, 'minutes': 500, 'texts': 50, 'data_gb': 15, 'extra_minute': 0.03, 'extra_text': 0.03, 'extra_gb': 10},\n",
    "        'ultimate': {'fee': 70, 'minutes': 3000, 'texts': 1000, 'data_gb': 30, 'extra_minute': 0.01, 'extra_text': 0.01, 'extra_gb': 7}\n",
    "    }\n",
    "    \n",
    "    plan = plan_details[row['plan_name']]\n",
    "    \n",
    "    extra_minutes = max(0, row['minutes_used'] - plan['minutes'])\n",
    "    extra_texts = max(0, row['#_of_messages'] - plan['texts'])\n",
    "    extra_data_gb = max(0, (row['mb_used'] / 1024) - plan['data_gb'])\n",
    "    \n",
    "    extra_cost = (\n",
    "        extra_minutes * plan['extra_minute'] + \n",
    "        extra_texts * plan['extra_text'] +\n",
    "        extra_data_gb * plan['extra_gb']\n",
    "    )\n",
    "    \n",
    "    total_cost = plan['fee'] + extra_cost\n",
    "    return total_cost\n",
    "\n",
    "# Apply the function to each row\n",
    "surf_users.loc[:, 'monthly_revenue'] = surf_users.apply(calculate_revenue, axis=1)\n",
    "ultimate_users.loc[:, 'monthly_revenue'] = ultimate_users.apply(calculate_revenue, axis=1)\n",
    "full_df.loc[:,'monthly_revenue'] = full_df.apply(calculate_revenue, axis=1)\n",
    "full_df.head(2)\n"
   ]
  },
  {
   "cell_type": "markdown",
   "metadata": {},
   "source": [
    "Created a function that would calculate the monthly revenue for each user of each plan, including the additional charges. This function also added a column at the end of each dataframe. This column conatains the new information. "
   ]
  },
  {
   "cell_type": "markdown",
   "metadata": {},
   "source": [
    "<div class=\"alert alert-block alert-success\">✔️\n",
    "    \n",
    "\n",
    "__Reviewer's comment №1__\n",
    "\n",
    "Great code"
   ]
  },
  {
   "cell_type": "markdown",
   "metadata": {},
   "source": [
    "## Study user behaviour"
   ]
  },
  {
   "cell_type": "markdown",
   "metadata": {},
   "source": [
    "### Calls"
   ]
  },
  {
   "cell_type": "code",
   "execution_count": 47,
   "metadata": {},
   "outputs": [
    {
     "data": {
      "image/png": "[encoded data removed]",
      "text/plain": [
       "<Figure size 640x480 with 1 Axes>"
      ]
     },
     "metadata": {},
     "output_type": "display_data"
    }
   ],
   "source": [
    "# Compare average duration of calls per each plan per each distinct month. Plot a bar plat to visualize it.\n",
    "test = full_df.merge(df_calls,on=['user_id','month'])\n",
    "test = test.drop(['call_id','call_date'],axis='columns')\n",
    "averages = test.groupby(['month','plan_name'])['duration'].mean().reset_index()\n",
    "surf_average = averages[averages['plan_name']=='surf']\n",
    "ultimate_average = averages[averages['plan_name']=='ultimate']\n",
    "surf_average\n",
    "\n",
    "plottable=surf_average.merge(ultimate_average, on='month')\n",
    "plottable.columns=['Month','plan_names','surf_average','plan_nameu','ultimate_average']\n",
    "plottable = plottable.drop(['plan_names','plan_nameu'],axis='columns')\n",
    "plottable.head()\n",
    "plottable.plot(kind='bar',x='Month', y=['surf_average','ultimate_average'], xlabel='Month',\n",
    "                ylabel='Average Minutes',title='Average Call Duration Per Month',rot=0)\n",
    "\n",
    "plt.legend(['Surf','Ultimate'], loc='center left',bbox_to_anchor=(1, 0.5))\n",
    "plt.show()\n"
   ]
  },
  {
   "cell_type": "markdown",
   "metadata": {},
   "source": [
    "It appears that on average, people with the Surf plan have longer calls. Which tells us that they they are likely using more minutes than the ultimate users. "
   ]
  },
  {
   "cell_type": "code",
   "execution_count": 48,
   "metadata": {},
   "outputs": [
    {
     "data": {
      "image/png": "[encoded data removed]",
      "text/plain": [
       "<Figure size 640x480 with 1 Axes>"
      ]
     },
     "metadata": {},
     "output_type": "display_data"
    }
   ],
   "source": [
    "surf_minutes = surf_users[['month','minutes_used']]\n",
    "surf_minutes.columns=['month','surf_minutes']\n",
    "ultimate_minutes = ultimate_users[['month','minutes_used']]\n",
    "ultimate_minutes.columns=['month','ultimate_minutes']\n",
    "\n",
    "df_minutes = surf_minutes.merge(ultimate_minutes, on='month')\n",
    "df_minutes.head()\n",
    "\n",
    "df_minutes['surf_minutes'].plot(kind='hist',bins=12)\n",
    "df_minutes['ultimate_minutes'].plot(kind='hist',bins=12, alpha=0.5, title='Minutes Required each Month')\n",
    "plt.legend(['Surf','Ultimate'])\n",
    "plt.show()"
   ]
  },
  {
   "cell_type": "markdown",
   "metadata": {},
   "source": [
    "This histogram confirms the previous bar plot. Surf users tend to use more minutes each month than ultimate users. "
   ]
  },
  {
   "cell_type": "code",
   "execution_count": 49,
   "metadata": {},
   "outputs": [
    {
     "name": "stdout",
     "output_type": "stream",
     "text": [
      "The Surf mean is: 445.77542372881356\n",
      "The Ultimate mean is: 442.51295336787564\n",
      "The Surf Variance is: 55274.530073972994\n",
      "The Ultimate Variance is: 62180.81978039679\n"
     ]
    }
   ],
   "source": [
    "# Calculate the mean and the variance of the monthly call duration\n",
    "surf_users.head()\n",
    "ultimate_users.head()\n",
    "\n",
    "surf_min_mean = surf_users['minutes_used'].mean()\n",
    "surf_min_var = np.var(surf_users['minutes_used'])\n",
    "\n",
    "ultimate_min_mean = ultimate_users['minutes_used'].mean()\n",
    "ultimate_min_var = np.var(ultimate_users['minutes_used'])\n",
    "\n",
    "print(\"The Surf mean is:\", surf_min_mean)\n",
    "print(\"The Ultimate mean is:\", ultimate_min_mean)\n",
    "print(\"The Surf Variance is:\", surf_min_var)\n",
    "print(\"The Ultimate Variance is:\", ultimate_min_var)"
   ]
  },
  {
   "cell_type": "code",
   "execution_count": 50,
   "metadata": {},
   "outputs": [
    {
     "data": {
      "image/png": "[encoded data removed]",
      "text/plain": [
       "<Figure size 1500x500 with 2 Axes>"
      ]
     },
     "metadata": {},
     "output_type": "display_data"
    }
   ],
   "source": [
    "# Plot a boxplot to visualize the distribution of the monthly call duration\n",
    "fig, axs = plt.subplots(1, 2, figsize=(15, 5))\n",
    "axs[0].boxplot(surf_users['minutes_used'])\n",
    "axs[0].set_title('Surf Users')\n",
    "\n",
    "axs[1].boxplot(ultimate_users['minutes_used'])\n",
    "axs[1].set_title('Ultimate Users')\n",
    "\n",
    "plt.show()\n",
    "\n"
   ]
  },
  {
   "cell_type": "markdown",
   "metadata": {},
   "source": [
    "It appears that the surf users tend to use more minutes and have longer call durations on average, although it's by a very small margin. The surf users mean minutes per month is 445 while the ultimate users mean is 442. The box plots above reflect how close the behaviors of users of both plans are."
   ]
  },
  {
   "cell_type": "markdown",
   "metadata": {},
   "source": [
    "<div class=\"alert alert-block alert-success\">✔️\n",
    "    \n",
    "\n",
    "__Reviewer's comment №1__\n",
    "\n",
    "Great visualization"
   ]
  },
  {
   "cell_type": "markdown",
   "metadata": {},
   "source": [
    " "
   ]
  },
  {
   "cell_type": "markdown",
   "metadata": {},
   "source": [
    "### Messages"
   ]
  },
  {
   "cell_type": "code",
   "execution_count": 51,
   "metadata": {},
   "outputs": [
    {
     "data": {
      "text/html": [
       "<div>\n",
       "<style scoped>\n",
       "    .dataframe tbody tr th:only-of-type {\n",
       "        vertical-align: middle;\n",
       "    }\n",
       "\n",
       "    .dataframe tbody tr th {\n",
       "        vertical-align: top;\n",
       "    }\n",
       "\n",
       "    .dataframe thead th {\n",
       "        text-align: right;\n",
       "    }\n",
       "</style>\n",
       "<table border=\"1\" class=\"dataframe\">\n",
       "  <thead>\n",
       "    <tr style=\"text-align: right;\">\n",
       "      <th></th>\n",
       "      <th>month</th>\n",
       "      <th>s_avg_messages</th>\n",
       "      <th>u_avg_messages</th>\n",
       "    </tr>\n",
       "  </thead>\n",
       "  <tbody>\n",
       "    <tr>\n",
       "      <th>0</th>\n",
       "      <td>1</td>\n",
       "      <td>21.000000</td>\n",
       "      <td>20.666667</td>\n",
       "    </tr>\n",
       "    <tr>\n",
       "      <th>1</th>\n",
       "      <td>2</td>\n",
       "      <td>21.600000</td>\n",
       "      <td>27.800000</td>\n",
       "    </tr>\n",
       "    <tr>\n",
       "      <th>2</th>\n",
       "      <td>3</td>\n",
       "      <td>21.937500</td>\n",
       "      <td>34.714286</td>\n",
       "    </tr>\n",
       "    <tr>\n",
       "      <th>3</th>\n",
       "      <td>4</td>\n",
       "      <td>24.685714</td>\n",
       "      <td>28.937500</td>\n",
       "    </tr>\n",
       "    <tr>\n",
       "      <th>4</th>\n",
       "      <td>5</td>\n",
       "      <td>33.547170</td>\n",
       "      <td>44.333333</td>\n",
       "    </tr>\n",
       "    <tr>\n",
       "      <th>5</th>\n",
       "      <td>6</td>\n",
       "      <td>32.742857</td>\n",
       "      <td>37.135135</td>\n",
       "    </tr>\n",
       "    <tr>\n",
       "      <th>6</th>\n",
       "      <td>7</td>\n",
       "      <td>34.786517</td>\n",
       "      <td>41.212766</td>\n",
       "    </tr>\n",
       "    <tr>\n",
       "      <th>7</th>\n",
       "      <td>8</td>\n",
       "      <td>37.302521</td>\n",
       "      <td>47.929825</td>\n",
       "    </tr>\n",
       "    <tr>\n",
       "      <th>8</th>\n",
       "      <td>9</td>\n",
       "      <td>38.585034</td>\n",
       "      <td>45.901408</td>\n",
       "    </tr>\n",
       "    <tr>\n",
       "      <th>9</th>\n",
       "      <td>10</td>\n",
       "      <td>41.475138</td>\n",
       "      <td>47.488636</td>\n",
       "    </tr>\n",
       "    <tr>\n",
       "      <th>10</th>\n",
       "      <td>11</td>\n",
       "      <td>40.087156</td>\n",
       "      <td>47.656863</td>\n",
       "    </tr>\n",
       "    <tr>\n",
       "      <th>11</th>\n",
       "      <td>12</td>\n",
       "      <td>47.686992</td>\n",
       "      <td>53.744000</td>\n",
       "    </tr>\n",
       "  </tbody>\n",
       "</table>\n",
       "</div>"
      ],
      "text/plain": [
       "    month  s_avg_messages  u_avg_messages\n",
       "0       1       21.000000       20.666667\n",
       "1       2       21.600000       27.800000\n",
       "2       3       21.937500       34.714286\n",
       "3       4       24.685714       28.937500\n",
       "4       5       33.547170       44.333333\n",
       "5       6       32.742857       37.135135\n",
       "6       7       34.786517       41.212766\n",
       "7       8       37.302521       47.929825\n",
       "8       9       38.585034       45.901408\n",
       "9      10       41.475138       47.488636\n",
       "10     11       40.087156       47.656863\n",
       "11     12       47.686992       53.744000"
      ]
     },
     "execution_count": 51,
     "metadata": {},
     "output_type": "execute_result"
    }
   ],
   "source": [
    "# Compare the number of messages users of each plan tend to send each month\n",
    "s_message_avg = surf_users.groupby('month')['#_of_messages'].mean().reset_index()\n",
    "s_message_avg.columns=['month','s_avg_messages']\n",
    "u_message_avg = ultimate_users.groupby('month')['#_of_messages'].mean().reset_index()\n",
    "u_message_avg.columns=['month','u_avg_messages']\n",
    "\n",
    "avg_messages = s_message_avg.merge(u_message_avg, on=\"month\")\n",
    "avg_messages"
   ]
  },
  {
   "cell_type": "code",
   "execution_count": 52,
   "metadata": {},
   "outputs": [
    {
     "data": {
      "image/png": "[encoded data removed]",
      "text/plain": [
       "<Figure size 640x480 with 1 Axes>"
      ]
     },
     "metadata": {},
     "output_type": "display_data"
    }
   ],
   "source": [
    "avg_messages.plot(kind='bar',x='month',y=['s_avg_messages','u_avg_messages'], xlabel='Month', title='Average Messages Per Month', rot=0)\n",
    "plt.legend(['Surf','Ultimate'])\n",
    "plt.show()"
   ]
  },
  {
   "cell_type": "code",
   "execution_count": 53,
   "metadata": {},
   "outputs": [
    {
     "data": {
      "text/html": [
       "<div>\n",
       "<style scoped>\n",
       "    .dataframe tbody tr th:only-of-type {\n",
       "        vertical-align: middle;\n",
       "    }\n",
       "\n",
       "    .dataframe tbody tr th {\n",
       "        vertical-align: top;\n",
       "    }\n",
       "\n",
       "    .dataframe thead th {\n",
       "        text-align: right;\n",
       "    }\n",
       "</style>\n",
       "<table border=\"1\" class=\"dataframe\">\n",
       "  <thead>\n",
       "    <tr style=\"text-align: right;\">\n",
       "      <th></th>\n",
       "      <th>Month</th>\n",
       "      <th>Surf_mb</th>\n",
       "      <th>Ultimate_mb</th>\n",
       "    </tr>\n",
       "  </thead>\n",
       "  <tbody>\n",
       "    <tr>\n",
       "      <th>0</th>\n",
       "      <td>1</td>\n",
       "      <td>8192.000000</td>\n",
       "      <td>7509.333333</td>\n",
       "    </tr>\n",
       "    <tr>\n",
       "      <th>1</th>\n",
       "      <td>2</td>\n",
       "      <td>9625.600000</td>\n",
       "      <td>17817.600000</td>\n",
       "    </tr>\n",
       "    <tr>\n",
       "      <th>2</th>\n",
       "      <td>3</td>\n",
       "      <td>12928.000000</td>\n",
       "      <td>24429.714286</td>\n",
       "    </tr>\n",
       "    <tr>\n",
       "      <th>3</th>\n",
       "      <td>4</td>\n",
       "      <td>12375.771429</td>\n",
       "      <td>14848.000000</td>\n",
       "    </tr>\n",
       "    <tr>\n",
       "      <th>4</th>\n",
       "      <td>5</td>\n",
       "      <td>15417.962264</td>\n",
       "      <td>17651.809524</td>\n",
       "    </tr>\n",
       "  </tbody>\n",
       "</table>\n",
       "</div>"
      ],
      "text/plain": [
       "   Month       Surf_mb   Ultimate_mb\n",
       "0      1   8192.000000   7509.333333\n",
       "1      2   9625.600000  17817.600000\n",
       "2      3  12928.000000  24429.714286\n",
       "3      4  12375.771429  14848.000000\n",
       "4      5  15417.962264  17651.809524"
      ]
     },
     "execution_count": 53,
     "metadata": {},
     "output_type": "execute_result"
    }
   ],
   "source": [
    "# Compare the amount of internet traffic consumed by users per plan\n",
    "surf_users.head()\n",
    "s_mb_avg=surf_users.groupby('month')['mb_used'].mean().reset_index()\n",
    "s_mb_avg.columns = ['Month','Surf_mb']\n",
    "u_mb_avg=ultimate_users.groupby('month')['mb_used'].mean().reset_index()\n",
    "u_mb_avg.columns=['Month','Ultimate_mb']\n",
    "\n",
    "mb_avg = s_mb_avg.merge(u_mb_avg, on='Month')\n",
    "mb_avg.head()"
   ]
  },
  {
   "cell_type": "code",
   "execution_count": 54,
   "metadata": {},
   "outputs": [
    {
     "data": {
      "image/png": "[encoded data removed]",
      "text/plain": [
       "<Figure size 640x480 with 1 Axes>"
      ]
     },
     "metadata": {},
     "output_type": "display_data"
    }
   ],
   "source": [
    "mb_avg.plot(kind='bar', x='Month',y=['Surf_mb','Ultimate_mb'],title='Average mb used per month', rot=0)\n",
    "plt.legend(['Surf','Ultimate'])\n",
    "plt.show()"
   ]
  },
  {
   "cell_type": "code",
   "execution_count": 55,
   "metadata": {},
   "outputs": [
    {
     "name": "stdout",
     "output_type": "stream",
     "text": [
      "The overall average amount of messages surf users sent in a year is: 39.49 while the ultimate users sent: 46.46\n",
      "\n",
      "The overall average amount of megabytes surf users used in a year is: 17154.6 while the ultimate users used: 17759.94\n"
     ]
    }
   ],
   "source": [
    "surf_message_avg = surf_users['#_of_messages'].mean().round(2)\n",
    "surf_mb_avg = surf_users['mb_used'].mean().round(2)\n",
    "ultimate_message_avg = ultimate_users['#_of_messages'].mean().round(2)\n",
    "ultimate_mb_avg = ultimate_users['mb_used'].mean().round(2)\n",
    "\n",
    "print('The overall average amount of messages surf users sent in a year is:',surf_message_avg,\n",
    "     'while the ultimate users sent:',ultimate_message_avg)\n",
    "print()\n",
    "print('The overall average amount of megabytes surf users used in a year is:', surf_mb_avg,\n",
    "      'while the ultimate users used:', ultimate_mb_avg)"
   ]
  },
  {
   "cell_type": "markdown",
   "metadata": {},
   "source": [
    "It's clear that ultimate users send more messages on average than surf users. Ultimate users also tend to use more megabytes than the surf users, especially in the months of February and March."
   ]
  },
  {
   "cell_type": "markdown",
   "metadata": {},
   "source": [
    " "
   ]
  },
  {
   "cell_type": "markdown",
   "metadata": {},
   "source": [
    "### Internet"
   ]
  },
  {
   "cell_type": "code",
   "execution_count": 56,
   "metadata": {},
   "outputs": [
    {
     "name": "stdout",
     "output_type": "stream",
     "text": [
      "user_id  session_date\n",
      "1001     2018-10-22      25\n",
      "         2018-12-27      25\n",
      "         2018-12-29      25\n",
      "         2018-09-08      20\n",
      "         2018-09-17      20\n",
      "Name: session_date, dtype: int64\n",
      "user_id  session_date\n",
      "1000     2018-12-26      1\n",
      "         2018-12-27      1\n",
      "         2018-12-28      1\n",
      "         2018-12-29      1\n",
      "         2018-12-31      1\n",
      "Name: session_date, dtype: int64\n"
     ]
    }
   ],
   "source": [
    "df_internet.head()\n",
    "trim_df_internet = df_internet.drop(['session_id','mb_used','month'],axis='columns')\n",
    "plan_names = full_df[['user_id','plan_name']]\n",
    "\n",
    "trim_df_internet = trim_df_internet.merge(plan_names, on='user_id')\n",
    "trim_df_internet\n",
    "\n",
    "surf_internet = trim_df_internet[trim_df_internet['plan_name']=='surf']\n",
    "ultimate_internet=trim_df_internet[trim_df_internet['plan_name']=='ultimate']\n",
    "\n",
    "surf_internet= surf_internet.groupby('user_id')['session_date'].value_counts()\n",
    "\n",
    "ultimate_internet = ultimate_internet.groupby('user_id')['session_date'].value_counts()\n",
    "\n",
    "print(surf_internet.head())\n",
    "print(ultimate_internet.head())\n"
   ]
  },
  {
   "cell_type": "code",
   "execution_count": 57,
   "metadata": {},
   "outputs": [
    {
     "data": {
      "text/plain": [
       "<matplotlib.legend.Legend at 0x7f0c592b1310>"
      ]
     },
     "execution_count": 57,
     "metadata": {},
     "output_type": "execute_result"
    },
    {
     "data": {
      "image/png": "[encoded data removed]",
      "text/plain": [
       "<Figure size 640x480 with 1 Axes>"
      ]
     },
     "metadata": {},
     "output_type": "display_data"
    }
   ],
   "source": [
    "surf_internet.plot(kind='hist', bins=25)\n",
    "ultimate_internet.plot(kind='hist',bins=25, alpha=0.7, title='Number of internet Sessions per user')\n",
    "plt.legend(['Surf','Ultimate'])"
   ]
  },
  {
   "cell_type": "markdown",
   "metadata": {},
   "source": [
    "Based on the last two charts, the surf users tend to have more frequent internet sessions than the ultimate users, however; ultimate users consume more data overall. "
   ]
  },
  {
   "cell_type": "markdown",
   "metadata": {},
   "source": [
    " "
   ]
  },
  {
   "cell_type": "markdown",
   "metadata": {},
   "source": [
    "## Revenue"
   ]
  },
  {
   "cell_type": "code",
   "execution_count": 58,
   "metadata": {},
   "outputs": [
    {
     "name": "stdout",
     "output_type": "stream",
     "text": [
      "count    1180.000000\n",
      "mean       60.415839\n",
      "std        53.595739\n",
      "min        20.000000\n",
      "25%        20.022500\n",
      "50%        41.035000\n",
      "75%        80.232500\n",
      "max       590.370000\n",
      "Name: monthly_revenue, dtype: float64\n",
      "count    579.000000\n",
      "mean      72.248705\n",
      "std       11.034406\n",
      "min       70.000000\n",
      "25%       70.000000\n",
      "50%       70.000000\n",
      "75%       70.000000\n",
      "max      182.000000\n",
      "Name: monthly_revenue, dtype: float64\n"
     ]
    },
    {
     "data": {
      "text/html": [
       "<div>\n",
       "<style scoped>\n",
       "    .dataframe tbody tr th:only-of-type {\n",
       "        vertical-align: middle;\n",
       "    }\n",
       "\n",
       "    .dataframe tbody tr th {\n",
       "        vertical-align: top;\n",
       "    }\n",
       "\n",
       "    .dataframe thead th {\n",
       "        text-align: right;\n",
       "    }\n",
       "</style>\n",
       "<table border=\"1\" class=\"dataframe\">\n",
       "  <thead>\n",
       "    <tr style=\"text-align: right;\">\n",
       "      <th></th>\n",
       "      <th>Month</th>\n",
       "      <th>Surf_rev</th>\n",
       "      <th>Ultimate_rev</th>\n",
       "    </tr>\n",
       "  </thead>\n",
       "  <tbody>\n",
       "    <tr>\n",
       "      <th>0</th>\n",
       "      <td>1</td>\n",
       "      <td>20.00</td>\n",
       "      <td>210.0</td>\n",
       "    </tr>\n",
       "    <tr>\n",
       "      <th>1</th>\n",
       "      <td>2</td>\n",
       "      <td>119.57</td>\n",
       "      <td>350.0</td>\n",
       "    </tr>\n",
       "    <tr>\n",
       "      <th>2</th>\n",
       "      <td>3</td>\n",
       "      <td>616.65</td>\n",
       "      <td>546.0</td>\n",
       "    </tr>\n",
       "    <tr>\n",
       "      <th>3</th>\n",
       "      <td>4</td>\n",
       "      <td>1420.70</td>\n",
       "      <td>1169.0</td>\n",
       "    </tr>\n",
       "    <tr>\n",
       "      <th>4</th>\n",
       "      <td>5</td>\n",
       "      <td>2695.43</td>\n",
       "      <td>1491.0</td>\n",
       "    </tr>\n",
       "  </tbody>\n",
       "</table>\n",
       "</div>"
      ],
      "text/plain": [
       "   Month  Surf_rev  Ultimate_rev\n",
       "0      1     20.00         210.0\n",
       "1      2    119.57         350.0\n",
       "2      3    616.65         546.0\n",
       "3      4   1420.70        1169.0\n",
       "4      5   2695.43        1491.0"
      ]
     },
     "execution_count": 58,
     "metadata": {},
     "output_type": "execute_result"
    }
   ],
   "source": [
    "print(surf_users['monthly_revenue'].describe())\n",
    "print(ultimate_users['monthly_revenue'].describe())\n",
    "\n",
    "surf_monthly_rev = surf_users.groupby('month')['monthly_revenue'].sum().reset_index()\n",
    "surf_monthly_rev.columns=['Month','Surf_rev']\n",
    "ultimate_monthly_rev = ultimate_users.groupby('month')['monthly_revenue'].sum().reset_index()\n",
    "ultimate_monthly_rev.columns=['Month','Ultimate_rev']\n",
    "\n",
    "monthly_rev = surf_monthly_rev.merge(ultimate_monthly_rev,on='Month')\n",
    "monthly_rev.head()"
   ]
  },
  {
   "cell_type": "code",
   "execution_count": 59,
   "metadata": {},
   "outputs": [
    {
     "data": {
      "image/png": "[encoded data removed]",
      "text/plain": [
       "<Figure size 640x480 with 1 Axes>"
      ]
     },
     "metadata": {},
     "output_type": "display_data"
    }
   ],
   "source": [
    "monthly_rev.plot(kind='bar', x='Month',y=['Surf_rev','Ultimate_rev'], rot=0, title='Total Monthly Revenue')\n",
    "plt.legend(['Surf','Ultimate'])\n",
    "plt.show()"
   ]
  },
  {
   "cell_type": "code",
   "execution_count": 60,
   "metadata": {},
   "outputs": [
    {
     "data": {
      "text/html": [
       "<div>\n",
       "<style scoped>\n",
       "    .dataframe tbody tr th:only-of-type {\n",
       "        vertical-align: middle;\n",
       "    }\n",
       "\n",
       "    .dataframe tbody tr th {\n",
       "        vertical-align: top;\n",
       "    }\n",
       "\n",
       "    .dataframe thead th {\n",
       "        text-align: right;\n",
       "    }\n",
       "</style>\n",
       "<table border=\"1\" class=\"dataframe\">\n",
       "  <thead>\n",
       "    <tr style=\"text-align: right;\">\n",
       "      <th></th>\n",
       "      <th>Month</th>\n",
       "      <th>Surf_avg</th>\n",
       "      <th>Ultimate_avg</th>\n",
       "    </tr>\n",
       "  </thead>\n",
       "  <tbody>\n",
       "    <tr>\n",
       "      <th>0</th>\n",
       "      <td>1</td>\n",
       "      <td>20.000000</td>\n",
       "      <td>70.0000</td>\n",
       "    </tr>\n",
       "    <tr>\n",
       "      <th>1</th>\n",
       "      <td>2</td>\n",
       "      <td>23.914000</td>\n",
       "      <td>70.0000</td>\n",
       "    </tr>\n",
       "    <tr>\n",
       "      <th>2</th>\n",
       "      <td>3</td>\n",
       "      <td>38.540625</td>\n",
       "      <td>78.0000</td>\n",
       "    </tr>\n",
       "    <tr>\n",
       "      <th>3</th>\n",
       "      <td>4</td>\n",
       "      <td>40.591429</td>\n",
       "      <td>73.0625</td>\n",
       "    </tr>\n",
       "    <tr>\n",
       "      <th>4</th>\n",
       "      <td>5</td>\n",
       "      <td>50.857170</td>\n",
       "      <td>71.0000</td>\n",
       "    </tr>\n",
       "  </tbody>\n",
       "</table>\n",
       "</div>"
      ],
      "text/plain": [
       "   Month   Surf_avg  Ultimate_avg\n",
       "0      1  20.000000       70.0000\n",
       "1      2  23.914000       70.0000\n",
       "2      3  38.540625       78.0000\n",
       "3      4  40.591429       73.0625\n",
       "4      5  50.857170       71.0000"
      ]
     },
     "execution_count": 60,
     "metadata": {},
     "output_type": "execute_result"
    }
   ],
   "source": [
    "surf_monthly_avg = surf_users.groupby('month')['monthly_revenue'].mean().reset_index()\n",
    "surf_monthly_avg.columns=['Month','Surf_avg']\n",
    "ultimate_monthly_avg = ultimate_users.groupby('month')['monthly_revenue'].mean().reset_index()\n",
    "ultimate_monthly_avg.columns=['Month','Ultimate_avg']\n",
    "\n",
    "monthly_avg = surf_monthly_avg.merge(ultimate_monthly_avg,on='Month')\n",
    "monthly_avg.head()"
   ]
  },
  {
   "cell_type": "code",
   "execution_count": 61,
   "metadata": {},
   "outputs": [
    {
     "data": {
      "image/png": "[encoded data removed]",
      "text/plain": [
       "<Figure size 640x480 with 1 Axes>"
      ]
     },
     "metadata": {},
     "output_type": "display_data"
    }
   ],
   "source": [
    "monthly_avg.plot(kind='bar', x='Month', y=['Surf_avg','Ultimate_avg'], rot=0, title='Average Monthly Revenue')\n",
    "plt.legend(['Surf','Ultimate'])\n",
    "plt.show()"
   ]
  },
  {
   "cell_type": "markdown",
   "metadata": {},
   "source": [
    "While the average revenue for the ultimate plan is higher, the surf plan brings in more total revenue each month. This makes sense as there's almost twice the amount of users on the surf plan than on the ultimate plan."
   ]
  },
  {
   "cell_type": "markdown",
   "metadata": {},
   "source": [
    "I will run two statistical hypotheses tests to test for two conditions of equality.\n",
    "The two null hypotheses (Ho) are as follows. \n",
    "1. The monthly averages of each plan are the same. \n",
    "2. The average revenue of the NY-NJ area is the same as other areas. \n",
    "\n",
    "The two alternative hypotheses (H1) are:\n",
    "1. The monthly average for each of the plans are different.\n",
    "2. The average monthly revenue of the NY-NJ are different. "
   ]
  },
  {
   "cell_type": "markdown",
   "metadata": {},
   "source": [
    "<div class=\"alert alert-block alert-danger\">✍\n",
    "    \n",
    "\n",
    "__Reviewer's comment №1__\n",
    "\n",
    "The wording of Ho and H1 is missing. Please add them to the section"
   ]
  },
  {
   "cell_type": "markdown",
   "metadata": {},
   "source": [
    " "
   ]
  },
  {
   "cell_type": "markdown",
   "metadata": {},
   "source": [
    "## Test statistical hypotheses"
   ]
  },
  {
   "cell_type": "code",
   "execution_count": 62,
   "metadata": {},
   "outputs": [
    {
     "name": "stdout",
     "output_type": "stream",
     "text": [
      "258.43987049635433\n",
      "4.228420038122426\n"
     ]
    }
   ],
   "source": [
    "s_var = surf_monthly_avg['Surf_avg'].var()\n",
    "u_var = ultimate_monthly_avg['Ultimate_avg'].var()\n",
    "print(s_var)\n",
    "print(u_var)"
   ]
  },
  {
   "cell_type": "code",
   "execution_count": 63,
   "metadata": {},
   "outputs": [
    {
     "name": "stdout",
     "output_type": "stream",
     "text": [
      "The p-value is: 0.0005476858128530602\n",
      "We reject the null hypothesis that the monthly average revenue of each plan are the same\n"
     ]
    }
   ],
   "source": [
    "# Test the hypotheses\n",
    "s_avg = surf_monthly_avg['Surf_avg']\n",
    "u_avg = ultimate_monthly_avg['Ultimate_avg']\n",
    "alpha = 0.05\n",
    "\n",
    "results = st.ttest_ind(s_avg, u_avg, equal_var = False)\n",
    "print(\"The p-value is:\", results.pvalue)\n",
    "\n",
    "if (results.pvalue < alpha):\n",
    "    print('We reject the null hypothesis that the monthly average revenue of each plan are the same')\n",
    "else: \n",
    "    print('We can\\'t reject the null hypothesis that the monthly average revenue of each plan are the same')\n",
    "    "
   ]
  },
  {
   "cell_type": "code",
   "execution_count": 64,
   "metadata": {},
   "outputs": [],
   "source": [
    "# Test the hypotheses\n",
    "full_df.head()\n",
    "\n",
    "full_df['city'].unique()\n",
    "\n",
    "NY_NJ = full_df[full_df['city']=='New York-Newark-Jersey City, NY-NJ-PA MSA']\n",
    "other_areas = full_df[full_df['city']!='New York-Newark-Jersey City, NY-NJ-PA MSA']\n",
    "NY_NJ_avg = NY_NJ['monthly_revenue']\n",
    "other_areas_avg = other_areas['monthly_revenue']"
   ]
  },
  {
   "cell_type": "code",
   "execution_count": 65,
   "metadata": {},
   "outputs": [
    {
     "name": "stdout",
     "output_type": "stream",
     "text": [
      "The p-value is: 0.004477811025531896\n",
      "We reject the null hypothesis that the average revenue of each of the NY-NJ area are the same as other areas\n"
     ]
    }
   ],
   "source": [
    "alpha  = 0.05\n",
    "\n",
    "results1 = st.ttest_ind(NY_NJ_avg, other_areas_avg, equal_var = False)\n",
    "print(\"The p-value is:\", results1.pvalue)\n",
    "\n",
    "if (results1.pvalue < alpha):\n",
    "    print('We reject the null hypothesis that the average revenue of each of the NY-NJ area are the same as other areas')\n",
    "else:\n",
    "    print('We can\\'t reject the null hypothesis that the average revenue of each of the NY-NJ area are the same as other areas')\n"
   ]
  },
  {
   "cell_type": "code",
   "execution_count": 66,
   "metadata": {},
   "outputs": [
    {
     "name": "stdout",
     "output_type": "stream",
     "text": [
      "<class 'pandas.core.frame.DataFrame'>\n",
      "Int64Index: 339 entries, 1 to 499\n",
      "Data columns (total 8 columns):\n",
      " #   Column      Non-Null Count  Dtype \n",
      "---  ------      --------------  ----- \n",
      " 0   user_id     339 non-null    object\n",
      " 1   first_name  339 non-null    object\n",
      " 2   last_name   339 non-null    object\n",
      " 3   age         339 non-null    int64 \n",
      " 4   city        339 non-null    object\n",
      " 5   reg_date    339 non-null    object\n",
      " 6   plan        339 non-null    object\n",
      " 7   churn_date  339 non-null    object\n",
      "dtypes: int64(1), object(7)\n",
      "memory usage: 23.8+ KB\n",
      "None\n",
      "<class 'pandas.core.frame.DataFrame'>\n",
      "Int64Index: 161 entries, 0 to 497\n",
      "Data columns (total 8 columns):\n",
      " #   Column      Non-Null Count  Dtype \n",
      "---  ------      --------------  ----- \n",
      " 0   user_id     161 non-null    object\n",
      " 1   first_name  161 non-null    object\n",
      " 2   last_name   161 non-null    object\n",
      " 3   age         161 non-null    int64 \n",
      " 4   city        161 non-null    object\n",
      " 5   reg_date    161 non-null    object\n",
      " 6   plan        161 non-null    object\n",
      " 7   churn_date  161 non-null    object\n",
      "dtypes: int64(1), object(7)\n",
      "memory usage: 11.3+ KB\n",
      "None\n"
     ]
    }
   ],
   "source": [
    "surf = df_users[df_users['plan']=='surf']\n",
    "print(surf.info())\n",
    "ultimate = df_users[df_users['plan']=='ultimate']\n",
    "print(ultimate.info())"
   ]
  },
  {
   "cell_type": "markdown",
   "metadata": {},
   "source": [
    "## General conclusion\n",
    "\n"
   ]
  },
  {
   "cell_type": "markdown",
   "metadata": {},
   "source": [
    "Although the average monthly revenue is higher for the ultimate plan, the surf plan brought in more revenue per month. Users of the surf plan tend to exceed their plans limits, especially in minutes and megabyte usage which causes them to be charged additional fees. Ultimate plan users tend to stay within their plans limits.\n",
    "\n",
    "Ultimate plan users tend to use more internet (megabyte consumption) in fewer sessions than the surf plan users.\n",
    "Ultimate plan users also send more messages on average than the surf plan users, this is one area where the surf plan users tend to stay more within their plans limits and avoid additional fees. \n",
    "\n",
    "For users, the surf plan is likely the better choice and will likely cost them less over time. Though they get charged additional fees when they exceed their plans limits, their monthly average is still lower than the cost of the ultimate plan.\n",
    "\n",
    "For the company however, based on the data, the surf plan seems to bring in more revenue overall. This is due to the fact that there are more than twice the amount of surf users in the data than ultimate users. With more ultimate users in the data and according to the monthly average, the ultimate plan's monthly revenue would likely exceed the surf users monthly revenue.\n",
    "\n",
    "It's probably in the companies best interest to look into how they can increase the number of ultimate plan users. \n",
    "\n",
    "Lastly, the results of the analysis could be improved with a data set that has closer to an equal number of surf and ultimate plan users. The cell above shows the discrepancy. 339 surf plan users and only 161 ultimate plan users. \n"
   ]
  },
  {
   "cell_type": "markdown",
   "metadata": {},
   "source": [
    "<div class=\"alert alert-block alert-success\">✔️\n",
    "    \n",
    "\n",
    "__Reviewer's comment №1__\n",
    "\n",
    "You've done a great job. There are a few things that need to be fixed"
   ]
  },
  {
   "cell_type": "markdown",
   "metadata": {},
   "source": []
  },
  {
   "cell_type": "markdown",
   "metadata": {},
   "source": [
    "<div class=\"alert alert-block alert-success\">✔️\n",
    "    \n",
    "\n",
    "__Reviewer's comment №2__\n",
    "\n",
    "\n",
    "Otherwise it's great😊. Your project is begging for github =)   \n",
    "    \n",
    "Congratulations on the successful completion of the project 😊👍\n",
    "And I wish you success in new works 😊"
   ]
  },
  {
   "cell_type": "markdown",
   "metadata": {},
   "source": [
    " "
   ]
  }
 ],
 "metadata": {
  "ExecuteTimeLog": [
   {
    "duration": 828,
    "start_time": "2021-11-16T09:21:11.304Z"
   },
   {
    "duration": 893,
    "start_time": "2021-11-16T09:21:17.728Z"
   },
   {
    "duration": 1150,
    "start_time": "2021-11-16T09:21:29.568Z"
   },
   {
    "duration": 3,
    "start_time": "2021-11-16T09:24:14.495Z"
   },
   {
    "duration": 120,
    "start_time": "2021-11-16T09:24:46.630Z"
   },
   {
    "duration": 3,
    "start_time": "2021-11-16T09:28:27.882Z"
   },
   {
    "duration": 4,
    "start_time": "2021-11-16T09:29:54.281Z"
   },
   {
    "duration": 3,
    "start_time": "2021-11-16T09:30:45.936Z"
   },
   {
    "duration": 4,
    "start_time": "2021-11-16T09:31:06.300Z"
   },
   {
    "duration": 113,
    "start_time": "2021-11-16T09:31:37.208Z"
   },
   {
    "duration": 143,
    "start_time": "2021-11-16T09:31:48.656Z"
   },
   {
    "duration": 98,
    "start_time": "2021-11-16T09:31:55.678Z"
   },
   {
    "duration": 3,
    "start_time": "2021-11-16T09:32:08.535Z"
   },
   {
    "duration": 111,
    "start_time": "2021-11-16T09:32:10.120Z"
   },
   {
    "duration": 3,
    "start_time": "2021-11-16T09:32:15.732Z"
   },
   {
    "duration": 4,
    "start_time": "2021-11-16T09:32:29.423Z"
   },
   {
    "duration": 3,
    "start_time": "2021-11-16T10:03:03.074Z"
   },
   {
    "duration": 3,
    "start_time": "2021-11-16T10:10:01.288Z"
   },
   {
    "duration": 3,
    "start_time": "2021-11-16T10:10:46.923Z"
   },
   {
    "duration": 121,
    "start_time": "2021-11-16T10:37:46.494Z"
   },
   {
    "duration": 125,
    "start_time": "2021-11-16T10:38:20.632Z"
   },
   {
    "duration": 112,
    "start_time": "2021-11-16T10:46:53.001Z"
   },
   {
    "duration": 110,
    "start_time": "2021-11-16T10:48:25.775Z"
   },
   {
    "duration": 3,
    "start_time": "2021-11-16T10:50:18.720Z"
   },
   {
    "duration": 4,
    "start_time": "2021-11-16T10:50:37.649Z"
   },
   {
    "duration": 2,
    "start_time": "2021-11-16T10:50:51.884Z"
   },
   {
    "duration": 3,
    "start_time": "2021-11-16T10:51:56.237Z"
   },
   {
    "duration": 101,
    "start_time": "2021-11-16T10:53:13.791Z"
   },
   {
    "duration": 3,
    "start_time": "2021-11-16T10:55:59.186Z"
   },
   {
    "duration": 3,
    "start_time": "2021-11-16T10:56:10.751Z"
   },
   {
    "duration": 3,
    "start_time": "2021-11-16T10:56:49.038Z"
   },
   {
    "duration": 3,
    "start_time": "2021-11-16T10:56:49.174Z"
   },
   {
    "duration": 4,
    "start_time": "2021-11-16T10:56:49.414Z"
   },
   {
    "duration": 3,
    "start_time": "2021-11-16T10:56:49.680Z"
   },
   {
    "duration": 3,
    "start_time": "2021-11-16T10:56:50.370Z"
   },
   {
    "duration": 114,
    "start_time": "2021-11-16T10:59:34.518Z"
   },
   {
    "duration": 3,
    "start_time": "2021-11-16T11:01:41.201Z"
   },
   {
    "duration": 116,
    "start_time": "2021-11-16T11:01:48.754Z"
   },
   {
    "duration": 3,
    "start_time": "2021-11-16T11:02:16.685Z"
   },
   {
    "duration": 3,
    "start_time": "2021-11-16T11:02:19.479Z"
   },
   {
    "duration": 3,
    "start_time": "2021-11-16T11:02:47.067Z"
   },
   {
    "duration": 3,
    "start_time": "2021-11-16T11:02:49.353Z"
   },
   {
    "duration": 3,
    "start_time": "2021-11-16T11:03:07.835Z"
   },
   {
    "duration": 3,
    "start_time": "2021-11-16T11:03:07.953Z"
   },
   {
    "duration": 112,
    "start_time": "2021-11-16T11:07:52.072Z"
   },
   {
    "duration": 187,
    "start_time": "2021-11-16T11:09:23.468Z"
   },
   {
    "duration": 4,
    "start_time": "2021-11-16T11:10:01.455Z"
   },
   {
    "duration": 3,
    "start_time": "2021-11-16T11:10:05.069Z"
   },
   {
    "duration": 4,
    "start_time": "2021-11-16T11:10:13.376Z"
   },
   {
    "duration": 3,
    "start_time": "2021-11-16T11:10:14.434Z"
   },
   {
    "duration": 3,
    "start_time": "2021-11-16T11:10:22.853Z"
   },
   {
    "duration": 4,
    "start_time": "2021-11-16T11:27:29.279Z"
   },
   {
    "duration": 4,
    "start_time": "2021-11-16T11:29:08.919Z"
   },
   {
    "duration": 118,
    "start_time": "2021-11-16T11:29:46.703Z"
   },
   {
    "duration": 437,
    "start_time": "2021-11-16T11:36:02.181Z"
   },
   {
    "duration": 157,
    "start_time": "2021-11-16T11:36:14.388Z"
   },
   {
    "duration": 207,
    "start_time": "2021-11-16T11:47:15.898Z"
   },
   {
    "duration": 3,
    "start_time": "2021-11-16T11:53:52.092Z"
   },
   {
    "duration": 3,
    "start_time": "2021-11-16T11:53:52.236Z"
   },
   {
    "duration": 3,
    "start_time": "2021-11-16T11:59:12.005Z"
   },
   {
    "duration": 112,
    "start_time": "2021-11-16T12:00:33.446Z"
   },
   {
    "duration": 3,
    "start_time": "2021-11-16T12:02:14.453Z"
   },
   {
    "duration": 3,
    "start_time": "2021-11-16T12:02:39.512Z"
   },
   {
    "duration": 106,
    "start_time": "2021-11-16T12:03:03.460Z"
   },
   {
    "duration": 3,
    "start_time": "2021-11-17T20:37:21.139Z"
   },
   {
    "duration": 3,
    "start_time": "2021-11-17T20:37:22.229Z"
   },
   {
    "duration": 3,
    "start_time": "2021-11-17T20:38:38.806Z"
   },
   {
    "duration": 3,
    "start_time": "2021-11-17T20:38:41.958Z"
   },
   {
    "duration": 3,
    "start_time": "2021-11-17T20:43:46.551Z"
   },
   {
    "duration": 4,
    "start_time": "2021-11-17T20:58:21.835Z"
   },
   {
    "duration": 3,
    "start_time": "2021-11-17T20:59:21.872Z"
   },
   {
    "duration": 4,
    "start_time": "2021-11-17T20:59:45.352Z"
   },
   {
    "duration": 4,
    "start_time": "2021-11-17T20:59:49.646Z"
   },
   {
    "duration": 159,
    "start_time": "2021-11-17T21:02:26.949Z"
   },
   {
    "duration": 3,
    "start_time": "2021-11-17T21:03:53.461Z"
   },
   {
    "duration": 3,
    "start_time": "2021-11-17T21:03:53.694Z"
   },
   {
    "duration": 3,
    "start_time": "2021-11-17T21:05:28.145Z"
   },
   {
    "duration": 116,
    "start_time": "2021-11-17T21:05:57.787Z"
   },
   {
    "duration": 3,
    "start_time": "2021-11-17T21:06:37.993Z"
   },
   {
    "duration": 3,
    "start_time": "2021-11-17T21:06:38.261Z"
   },
   {
    "duration": 3,
    "start_time": "2021-11-17T21:11:54.358Z"
   },
   {
    "duration": 3,
    "start_time": "2021-11-17T21:12:43.846Z"
   },
   {
    "duration": 4,
    "start_time": "2021-11-17T21:13:08.773Z"
   },
   {
    "duration": 3,
    "start_time": "2021-11-17T21:14:44.441Z"
   },
   {
    "duration": 3,
    "start_time": "2021-11-17T21:15:42.059Z"
   },
   {
    "duration": 4,
    "start_time": "2021-11-17T21:15:51.995Z"
   },
   {
    "duration": 3,
    "start_time": "2021-11-17T21:15:53.923Z"
   },
   {
    "duration": 3,
    "start_time": "2021-11-17T21:15:55.282Z"
   },
   {
    "duration": 3,
    "start_time": "2021-11-17T21:16:28.492Z"
   },
   {
    "duration": 3,
    "start_time": "2021-11-17T21:16:32.603Z"
   },
   {
    "duration": 3,
    "start_time": "2021-11-17T21:17:06.941Z"
   },
   {
    "duration": 98,
    "start_time": "2021-11-17T21:18:05.733Z"
   },
   {
    "duration": 4,
    "start_time": "2021-11-17T21:21:35.255Z"
   },
   {
    "duration": 3,
    "start_time": "2021-11-17T21:21:37.804Z"
   },
   {
    "duration": 4,
    "start_time": "2021-11-17T21:23:06.071Z"
   },
   {
    "duration": 3,
    "start_time": "2021-11-17T21:23:24.799Z"
   },
   {
    "duration": 3,
    "start_time": "2021-11-17T21:23:32.591Z"
   },
   {
    "duration": 98,
    "start_time": "2021-11-17T21:28:31.559Z"
   },
   {
    "duration": 3,
    "start_time": "2021-11-17T21:28:45.448Z"
   },
   {
    "duration": 3,
    "start_time": "2021-11-17T21:29:17.303Z"
   },
   {
    "duration": 3,
    "start_time": "2021-11-17T21:29:29.617Z"
   },
   {
    "duration": 3,
    "start_time": "2021-11-17T21:29:32.681Z"
   },
   {
    "duration": 3,
    "start_time": "2021-11-17T21:36:11.474Z"
   },
   {
    "duration": 3,
    "start_time": "2021-11-17T21:36:14.791Z"
   },
   {
    "duration": 3,
    "start_time": "2021-11-17T21:36:53.943Z"
   },
   {
    "duration": 3,
    "start_time": "2021-11-17T21:36:56.165Z"
   },
   {
    "duration": 4,
    "start_time": "2021-11-17T21:37:16.590Z"
   },
   {
    "duration": 3,
    "start_time": "2021-11-17T21:37:22.702Z"
   },
   {
    "duration": 4,
    "start_time": "2021-11-17T21:38:03.479Z"
   },
   {
    "duration": 3,
    "start_time": "2021-11-17T21:38:08.601Z"
   },
   {
    "duration": 3,
    "start_time": "2021-11-17T21:38:12.928Z"
   },
   {
    "duration": 3,
    "start_time": "2021-11-17T21:38:48.896Z"
   },
   {
    "duration": 2,
    "start_time": "2021-11-17T21:38:49.171Z"
   },
   {
    "duration": 4,
    "start_time": "2021-11-17T21:39:57.889Z"
   },
   {
    "duration": 3,
    "start_time": "2021-11-17T21:39:58.057Z"
   },
   {
    "duration": 3,
    "start_time": "2021-11-17T21:41:20.108Z"
   },
   {
    "duration": 3,
    "start_time": "2021-11-17T21:41:20.629Z"
   },
   {
    "duration": 3,
    "start_time": "2021-11-17T21:42:49.136Z"
   },
   {
    "duration": 3,
    "start_time": "2021-11-17T21:43:15.137Z"
   },
   {
    "duration": 4,
    "start_time": "2021-11-17T21:43:16.766Z"
   },
   {
    "duration": 4,
    "start_time": "2021-11-17T21:43:31.711Z"
   },
   {
    "duration": 3,
    "start_time": "2021-11-17T21:43:36.312Z"
   },
   {
    "duration": 4,
    "start_time": "2021-11-17T21:45:08.825Z"
   },
   {
    "duration": 4,
    "start_time": "2021-11-17T21:45:10.119Z"
   },
   {
    "duration": 4,
    "start_time": "2021-11-17T21:45:13.748Z"
   },
   {
    "duration": 3,
    "start_time": "2021-11-17T21:45:22.219Z"
   },
   {
    "duration": 3,
    "start_time": "2021-11-17T21:45:33.412Z"
   },
   {
    "duration": 2,
    "start_time": "2021-11-17T21:46:01.885Z"
   },
   {
    "duration": 3,
    "start_time": "2021-11-17T21:46:03.628Z"
   },
   {
    "duration": 107,
    "start_time": "2021-11-17T21:47:32.512Z"
   },
   {
    "duration": 103,
    "start_time": "2021-11-17T21:50:36.243Z"
   },
   {
    "duration": 3,
    "start_time": "2021-11-18T06:28:31.440Z"
   },
   {
    "duration": 3,
    "start_time": "2021-11-18T06:29:00.168Z"
   },
   {
    "duration": 3,
    "start_time": "2021-11-18T06:31:27.008Z"
   },
   {
    "duration": 2,
    "start_time": "2021-11-18T06:35:34.288Z"
   },
   {
    "duration": 2,
    "start_time": "2021-11-18T06:38:04.527Z"
   },
   {
    "duration": 7,
    "start_time": "2024-10-24T20:15:33.760Z"
   },
   {
    "duration": 2491,
    "start_time": "2024-10-24T20:17:23.701Z"
   },
   {
    "duration": 99,
    "start_time": "2024-10-24T20:18:28.309Z"
   },
   {
    "duration": 76,
    "start_time": "2024-10-24T20:18:34.595Z"
   },
   {
    "duration": 14,
    "start_time": "2024-10-24T20:19:26.952Z"
   },
   {
    "duration": 76,
    "start_time": "2024-10-24T20:19:44.514Z"
   },
   {
    "duration": 49,
    "start_time": "2024-10-24T20:20:21.674Z"
   },
   {
    "duration": 13,
    "start_time": "2024-10-24T20:20:56.243Z"
   },
   {
    "duration": 88,
    "start_time": "2024-10-24T20:21:21.738Z"
   },
   {
    "duration": 2,
    "start_time": "2024-10-24T20:25:06.130Z"
   },
   {
    "duration": 7,
    "start_time": "2024-10-24T20:25:06.137Z"
   },
   {
    "duration": 76,
    "start_time": "2024-10-24T20:25:06.146Z"
   },
   {
    "duration": 38,
    "start_time": "2024-10-24T20:25:06.224Z"
   },
   {
    "duration": 6,
    "start_time": "2024-10-24T20:25:06.264Z"
   },
   {
    "duration": 73,
    "start_time": "2024-10-24T20:25:06.273Z"
   },
   {
    "duration": 2,
    "start_time": "2024-10-24T20:25:06.348Z"
   },
   {
    "duration": 2,
    "start_time": "2024-10-24T20:25:06.352Z"
   },
   {
    "duration": 2,
    "start_time": "2024-10-24T20:25:06.356Z"
   },
   {
    "duration": 2,
    "start_time": "2024-10-24T20:25:06.360Z"
   },
   {
    "duration": 2,
    "start_time": "2024-10-24T20:25:06.364Z"
   },
   {
    "duration": 2,
    "start_time": "2024-10-24T20:25:06.368Z"
   },
   {
    "duration": 2,
    "start_time": "2024-10-24T20:25:06.373Z"
   },
   {
    "duration": 32,
    "start_time": "2024-10-24T20:25:06.377Z"
   },
   {
    "duration": 2,
    "start_time": "2024-10-24T20:25:06.413Z"
   },
   {
    "duration": 3,
    "start_time": "2024-10-24T20:25:06.416Z"
   },
   {
    "duration": 2,
    "start_time": "2024-10-24T20:25:06.421Z"
   },
   {
    "duration": 3,
    "start_time": "2024-10-24T20:25:06.425Z"
   },
   {
    "duration": 3,
    "start_time": "2024-10-24T20:25:06.429Z"
   },
   {
    "duration": 2,
    "start_time": "2024-10-24T20:25:06.434Z"
   },
   {
    "duration": 3,
    "start_time": "2024-10-24T20:25:06.437Z"
   },
   {
    "duration": 3,
    "start_time": "2024-10-24T20:25:06.442Z"
   },
   {
    "duration": 3,
    "start_time": "2024-10-24T20:25:06.446Z"
   },
   {
    "duration": 4,
    "start_time": "2024-10-24T20:25:06.450Z"
   },
   {
    "duration": 7,
    "start_time": "2024-10-24T20:25:06.455Z"
   },
   {
    "duration": 47,
    "start_time": "2024-10-24T20:25:06.464Z"
   },
   {
    "duration": 3,
    "start_time": "2024-10-24T20:25:06.512Z"
   },
   {
    "duration": 3,
    "start_time": "2024-10-24T20:25:06.517Z"
   },
   {
    "duration": 3,
    "start_time": "2024-10-24T20:25:06.521Z"
   },
   {
    "duration": 3,
    "start_time": "2024-10-24T20:25:06.526Z"
   },
   {
    "duration": 3,
    "start_time": "2024-10-24T20:25:06.530Z"
   },
   {
    "duration": 3,
    "start_time": "2024-10-24T20:25:06.535Z"
   },
   {
    "duration": 11,
    "start_time": "2024-10-24T20:25:24.502Z"
   },
   {
    "duration": 9,
    "start_time": "2024-10-24T20:25:29.886Z"
   },
   {
    "duration": 645,
    "start_time": "2024-10-24T20:26:03.231Z"
   },
   {
    "duration": 11,
    "start_time": "2024-10-24T20:26:11.534Z"
   },
   {
    "duration": 11,
    "start_time": "2024-10-24T20:26:19.482Z"
   },
   {
    "duration": 13,
    "start_time": "2024-10-24T20:26:31.272Z"
   },
   {
    "duration": 10,
    "start_time": "2024-10-24T20:26:46.787Z"
   },
   {
    "duration": 15,
    "start_time": "2024-10-24T20:27:24.291Z"
   },
   {
    "duration": 13,
    "start_time": "2024-10-24T20:27:28.910Z"
   },
   {
    "duration": 4,
    "start_time": "2024-10-24T20:30:41.636Z"
   },
   {
    "duration": 14,
    "start_time": "2024-10-24T20:31:03.575Z"
   },
   {
    "duration": 6,
    "start_time": "2024-10-24T20:31:32.169Z"
   },
   {
    "duration": 4,
    "start_time": "2024-10-24T20:31:59.896Z"
   },
   {
    "duration": 3,
    "start_time": "2024-10-24T20:33:43.824Z"
   },
   {
    "duration": 3,
    "start_time": "2024-10-24T20:33:47.434Z"
   },
   {
    "duration": 46,
    "start_time": "2024-10-24T20:34:06.529Z"
   },
   {
    "duration": 7,
    "start_time": "2024-10-24T20:34:15.714Z"
   },
   {
    "duration": 7,
    "start_time": "2024-10-24T20:34:23.639Z"
   },
   {
    "duration": 12,
    "start_time": "2024-10-24T20:35:40.122Z"
   },
   {
    "duration": 7,
    "start_time": "2024-10-24T20:35:44.238Z"
   },
   {
    "duration": 7,
    "start_time": "2024-10-24T20:36:26.997Z"
   },
   {
    "duration": 5,
    "start_time": "2024-10-24T20:36:39.129Z"
   },
   {
    "duration": 773,
    "start_time": "2024-10-24T20:36:46.070Z"
   },
   {
    "duration": 8,
    "start_time": "2024-10-24T20:36:46.846Z"
   },
   {
    "duration": 79,
    "start_time": "2024-10-24T20:36:46.856Z"
   },
   {
    "duration": 35,
    "start_time": "2024-10-24T20:36:46.937Z"
   },
   {
    "duration": 6,
    "start_time": "2024-10-24T20:36:46.974Z"
   },
   {
    "duration": 63,
    "start_time": "2024-10-24T20:36:46.981Z"
   },
   {
    "duration": 17,
    "start_time": "2024-10-24T20:36:47.046Z"
   },
   {
    "duration": 5,
    "start_time": "2024-10-24T20:36:47.064Z"
   },
   {
    "duration": 7,
    "start_time": "2024-10-24T20:36:47.070Z"
   },
   {
    "duration": 30,
    "start_time": "2024-10-24T20:36:47.080Z"
   },
   {
    "duration": 257,
    "start_time": "2024-10-24T20:36:47.112Z"
   },
   {
    "duration": 0,
    "start_time": "2024-10-24T20:36:47.372Z"
   },
   {
    "duration": 0,
    "start_time": "2024-10-24T20:36:47.373Z"
   },
   {
    "duration": 0,
    "start_time": "2024-10-24T20:36:47.375Z"
   },
   {
    "duration": 0,
    "start_time": "2024-10-24T20:36:47.375Z"
   },
   {
    "duration": 0,
    "start_time": "2024-10-24T20:36:47.377Z"
   },
   {
    "duration": 0,
    "start_time": "2024-10-24T20:36:47.378Z"
   },
   {
    "duration": 0,
    "start_time": "2024-10-24T20:36:47.379Z"
   },
   {
    "duration": 0,
    "start_time": "2024-10-24T20:36:47.380Z"
   },
   {
    "duration": 0,
    "start_time": "2024-10-24T20:36:47.381Z"
   },
   {
    "duration": 0,
    "start_time": "2024-10-24T20:36:47.382Z"
   },
   {
    "duration": 0,
    "start_time": "2024-10-24T20:36:47.383Z"
   },
   {
    "duration": 0,
    "start_time": "2024-10-24T20:36:47.384Z"
   },
   {
    "duration": 0,
    "start_time": "2024-10-24T20:36:47.385Z"
   },
   {
    "duration": 0,
    "start_time": "2024-10-24T20:36:47.410Z"
   },
   {
    "duration": 0,
    "start_time": "2024-10-24T20:36:47.414Z"
   },
   {
    "duration": 0,
    "start_time": "2024-10-24T20:36:47.415Z"
   },
   {
    "duration": 0,
    "start_time": "2024-10-24T20:36:47.416Z"
   },
   {
    "duration": 0,
    "start_time": "2024-10-24T20:36:47.418Z"
   },
   {
    "duration": 0,
    "start_time": "2024-10-24T20:36:47.419Z"
   },
   {
    "duration": 0,
    "start_time": "2024-10-24T20:36:47.420Z"
   },
   {
    "duration": 0,
    "start_time": "2024-10-24T20:36:47.421Z"
   },
   {
    "duration": 0,
    "start_time": "2024-10-24T20:36:47.422Z"
   },
   {
    "duration": 0,
    "start_time": "2024-10-24T20:36:47.424Z"
   },
   {
    "duration": 0,
    "start_time": "2024-10-24T20:36:47.425Z"
   },
   {
    "duration": 0,
    "start_time": "2024-10-24T20:36:47.426Z"
   },
   {
    "duration": 0,
    "start_time": "2024-10-24T20:36:47.427Z"
   },
   {
    "duration": 21,
    "start_time": "2024-10-24T20:38:17.969Z"
   },
   {
    "duration": 36,
    "start_time": "2024-10-24T20:38:55.085Z"
   },
   {
    "duration": 142,
    "start_time": "2024-10-24T20:39:41.719Z"
   },
   {
    "duration": 15,
    "start_time": "2024-10-24T20:40:29.612Z"
   },
   {
    "duration": 3,
    "start_time": "2024-10-24T20:42:16.034Z"
   },
   {
    "duration": 7,
    "start_time": "2024-10-24T20:42:26.843Z"
   },
   {
    "duration": 13,
    "start_time": "2024-10-24T20:44:00.240Z"
   },
   {
    "duration": 88,
    "start_time": "2024-10-24T20:44:08.932Z"
   },
   {
    "duration": 18,
    "start_time": "2024-10-24T20:44:25.080Z"
   },
   {
    "duration": 15,
    "start_time": "2024-10-24T20:44:36.229Z"
   },
   {
    "duration": 14,
    "start_time": "2024-10-24T20:44:56.644Z"
   },
   {
    "duration": 18,
    "start_time": "2024-10-24T20:45:06.039Z"
   },
   {
    "duration": 4,
    "start_time": "2024-10-24T20:46:42.438Z"
   },
   {
    "duration": 9,
    "start_time": "2024-10-24T20:46:50.413Z"
   },
   {
    "duration": 20,
    "start_time": "2024-10-24T20:48:44.768Z"
   },
   {
    "duration": 14,
    "start_time": "2024-10-24T20:48:53.266Z"
   },
   {
    "duration": 17,
    "start_time": "2024-10-24T20:49:07.294Z"
   },
   {
    "duration": 3,
    "start_time": "2024-10-24T20:51:06.463Z"
   },
   {
    "duration": 7,
    "start_time": "2024-10-24T20:51:06.471Z"
   },
   {
    "duration": 70,
    "start_time": "2024-10-24T20:51:06.480Z"
   },
   {
    "duration": 38,
    "start_time": "2024-10-24T20:51:06.551Z"
   },
   {
    "duration": 6,
    "start_time": "2024-10-24T20:51:06.591Z"
   },
   {
    "duration": 57,
    "start_time": "2024-10-24T20:51:06.608Z"
   },
   {
    "duration": 15,
    "start_time": "2024-10-24T20:51:06.667Z"
   },
   {
    "duration": 4,
    "start_time": "2024-10-24T20:51:06.685Z"
   },
   {
    "duration": 8,
    "start_time": "2024-10-24T20:51:06.710Z"
   },
   {
    "duration": 6,
    "start_time": "2024-10-24T20:51:06.719Z"
   },
   {
    "duration": 22,
    "start_time": "2024-10-24T20:51:06.727Z"
   },
   {
    "duration": 59,
    "start_time": "2024-10-24T20:51:06.751Z"
   },
   {
    "duration": 2,
    "start_time": "2024-10-24T20:51:06.812Z"
   },
   {
    "duration": 2,
    "start_time": "2024-10-24T20:51:06.816Z"
   },
   {
    "duration": 2,
    "start_time": "2024-10-24T20:51:06.823Z"
   },
   {
    "duration": 2,
    "start_time": "2024-10-24T20:51:06.827Z"
   },
   {
    "duration": 3,
    "start_time": "2024-10-24T20:51:06.831Z"
   },
   {
    "duration": 3,
    "start_time": "2024-10-24T20:51:06.835Z"
   },
   {
    "duration": 2,
    "start_time": "2024-10-24T20:51:06.840Z"
   },
   {
    "duration": 3,
    "start_time": "2024-10-24T20:51:06.844Z"
   },
   {
    "duration": 3,
    "start_time": "2024-10-24T20:51:06.848Z"
   },
   {
    "duration": 2,
    "start_time": "2024-10-24T20:51:06.854Z"
   },
   {
    "duration": 2,
    "start_time": "2024-10-24T20:51:06.858Z"
   },
   {
    "duration": 2,
    "start_time": "2024-10-24T20:51:06.910Z"
   },
   {
    "duration": 3,
    "start_time": "2024-10-24T20:51:06.914Z"
   },
   {
    "duration": 3,
    "start_time": "2024-10-24T20:51:06.919Z"
   },
   {
    "duration": 3,
    "start_time": "2024-10-24T20:51:06.925Z"
   },
   {
    "duration": 3,
    "start_time": "2024-10-24T20:51:06.929Z"
   },
   {
    "duration": 3,
    "start_time": "2024-10-24T20:51:06.934Z"
   },
   {
    "duration": 3,
    "start_time": "2024-10-24T20:51:06.939Z"
   },
   {
    "duration": 3,
    "start_time": "2024-10-24T20:51:06.944Z"
   },
   {
    "duration": 3,
    "start_time": "2024-10-24T20:51:06.949Z"
   },
   {
    "duration": 2,
    "start_time": "2024-10-24T20:51:06.954Z"
   },
   {
    "duration": 2,
    "start_time": "2024-10-24T20:51:06.958Z"
   },
   {
    "duration": 48,
    "start_time": "2024-10-24T20:51:06.962Z"
   },
   {
    "duration": 2,
    "start_time": "2024-10-24T20:51:07.013Z"
   },
   {
    "duration": 2,
    "start_time": "2024-10-24T20:51:07.017Z"
   },
   {
    "duration": 3,
    "start_time": "2024-10-24T20:51:07.021Z"
   },
   {
    "duration": 12,
    "start_time": "2024-10-24T20:51:38.497Z"
   },
   {
    "duration": 21,
    "start_time": "2024-10-24T20:53:02.760Z"
   },
   {
    "duration": 23,
    "start_time": "2024-10-24T20:53:13.024Z"
   },
   {
    "duration": 29,
    "start_time": "2024-10-24T20:53:20.030Z"
   },
   {
    "duration": 23,
    "start_time": "2024-10-24T20:53:27.063Z"
   },
   {
    "duration": 22,
    "start_time": "2024-10-24T20:53:31.472Z"
   },
   {
    "duration": 18,
    "start_time": "2024-10-24T20:53:39.763Z"
   },
   {
    "duration": 14,
    "start_time": "2024-10-24T20:54:04.409Z"
   },
   {
    "duration": 35,
    "start_time": "2024-10-24T20:56:13.269Z"
   },
   {
    "duration": 34,
    "start_time": "2024-10-24T20:56:22.406Z"
   },
   {
    "duration": 36,
    "start_time": "2024-10-24T20:56:29.529Z"
   },
   {
    "duration": 17,
    "start_time": "2024-10-24T20:58:07.153Z"
   },
   {
    "duration": 17,
    "start_time": "2024-10-24T20:59:42.424Z"
   },
   {
    "duration": 5,
    "start_time": "2024-10-24T21:00:23.466Z"
   },
   {
    "duration": 16,
    "start_time": "2024-10-24T21:00:29.534Z"
   },
   {
    "duration": 606,
    "start_time": "2024-10-24T21:01:16.169Z"
   },
   {
    "duration": 33,
    "start_time": "2024-10-24T21:01:18.804Z"
   },
   {
    "duration": 50,
    "start_time": "2024-10-24T21:01:25.671Z"
   },
   {
    "duration": 14,
    "start_time": "2024-10-24T21:04:13.060Z"
   },
   {
    "duration": 19,
    "start_time": "2024-10-24T21:05:35.535Z"
   },
   {
    "duration": 6,
    "start_time": "2024-10-24T21:06:18.688Z"
   },
   {
    "duration": 39,
    "start_time": "2024-10-24T21:06:35.468Z"
   },
   {
    "duration": 26,
    "start_time": "2024-10-24T21:07:17.603Z"
   },
   {
    "duration": 16,
    "start_time": "2024-10-24T21:08:44.963Z"
   },
   {
    "duration": 18,
    "start_time": "2024-10-24T21:09:42.169Z"
   },
   {
    "duration": 21,
    "start_time": "2024-10-24T21:09:45.882Z"
   },
   {
    "duration": 20,
    "start_time": "2024-10-24T21:09:51.610Z"
   },
   {
    "duration": 29,
    "start_time": "2024-10-24T21:10:04.955Z"
   },
   {
    "duration": 18,
    "start_time": "2024-10-24T21:10:16.670Z"
   },
   {
    "duration": 28,
    "start_time": "2024-10-24T21:11:12.643Z"
   },
   {
    "duration": 158,
    "start_time": "2024-10-24T21:12:07.005Z"
   },
   {
    "duration": 799,
    "start_time": "2024-10-24T21:12:14.785Z"
   },
   {
    "duration": 9,
    "start_time": "2024-10-24T21:12:15.586Z"
   },
   {
    "duration": 107,
    "start_time": "2024-10-24T21:12:15.598Z"
   },
   {
    "duration": 47,
    "start_time": "2024-10-24T21:12:15.707Z"
   },
   {
    "duration": 7,
    "start_time": "2024-10-24T21:12:15.755Z"
   },
   {
    "duration": 82,
    "start_time": "2024-10-24T21:12:15.763Z"
   },
   {
    "duration": 18,
    "start_time": "2024-10-24T21:12:15.847Z"
   },
   {
    "duration": 5,
    "start_time": "2024-10-24T21:12:15.866Z"
   },
   {
    "duration": 7,
    "start_time": "2024-10-24T21:12:15.873Z"
   },
   {
    "duration": 29,
    "start_time": "2024-10-24T21:12:15.884Z"
   },
   {
    "duration": 23,
    "start_time": "2024-10-24T21:12:15.915Z"
   },
   {
    "duration": 80,
    "start_time": "2024-10-24T21:12:15.940Z"
   },
   {
    "duration": 53,
    "start_time": "2024-10-24T21:12:16.022Z"
   },
   {
    "duration": 36,
    "start_time": "2024-10-24T21:12:16.077Z"
   },
   {
    "duration": 15,
    "start_time": "2024-10-24T21:12:16.114Z"
   },
   {
    "duration": 16,
    "start_time": "2024-10-24T21:12:16.130Z"
   },
   {
    "duration": 15,
    "start_time": "2024-10-24T21:12:16.148Z"
   },
   {
    "duration": 48,
    "start_time": "2024-10-24T21:12:16.165Z"
   },
   {
    "duration": 7,
    "start_time": "2024-10-24T21:12:16.215Z"
   },
   {
    "duration": 36,
    "start_time": "2024-10-24T21:12:16.225Z"
   },
   {
    "duration": 160,
    "start_time": "2024-10-24T21:12:26.373Z"
   },
   {
    "duration": 743,
    "start_time": "2024-10-24T21:12:35.181Z"
   },
   {
    "duration": 7,
    "start_time": "2024-10-24T21:12:35.927Z"
   },
   {
    "duration": 90,
    "start_time": "2024-10-24T21:12:35.936Z"
   },
   {
    "duration": 43,
    "start_time": "2024-10-24T21:12:36.028Z"
   },
   {
    "duration": 6,
    "start_time": "2024-10-24T21:12:36.072Z"
   },
   {
    "duration": 75,
    "start_time": "2024-10-24T21:12:36.080Z"
   },
   {
    "duration": 17,
    "start_time": "2024-10-24T21:12:36.157Z"
   },
   {
    "duration": 4,
    "start_time": "2024-10-24T21:12:36.176Z"
   },
   {
    "duration": 6,
    "start_time": "2024-10-24T21:12:36.182Z"
   },
   {
    "duration": 5,
    "start_time": "2024-10-24T21:12:36.208Z"
   },
   {
    "duration": 20,
    "start_time": "2024-10-24T21:12:36.214Z"
   },
   {
    "duration": 53,
    "start_time": "2024-10-24T21:12:36.235Z"
   },
   {
    "duration": 53,
    "start_time": "2024-10-24T21:12:36.310Z"
   },
   {
    "duration": 18,
    "start_time": "2024-10-24T21:12:36.365Z"
   },
   {
    "duration": 32,
    "start_time": "2024-10-24T21:12:36.384Z"
   },
   {
    "duration": 17,
    "start_time": "2024-10-24T21:12:36.418Z"
   },
   {
    "duration": 13,
    "start_time": "2024-10-24T21:12:36.437Z"
   },
   {
    "duration": 19,
    "start_time": "2024-10-24T21:12:36.452Z"
   },
   {
    "duration": 37,
    "start_time": "2024-10-24T21:12:36.473Z"
   },
   {
    "duration": 38,
    "start_time": "2024-10-24T21:12:36.512Z"
   },
   {
    "duration": 31,
    "start_time": "2024-10-24T21:12:38.879Z"
   },
   {
    "duration": 13,
    "start_time": "2024-10-24T21:15:42.713Z"
   },
   {
    "duration": 12,
    "start_time": "2024-10-24T21:15:46.486Z"
   },
   {
    "duration": 161,
    "start_time": "2024-10-24T22:46:26.904Z"
   },
   {
    "duration": 2587,
    "start_time": "2024-10-24T22:46:36.221Z"
   },
   {
    "duration": 9,
    "start_time": "2024-10-24T22:46:38.810Z"
   },
   {
    "duration": 90,
    "start_time": "2024-10-24T22:46:38.821Z"
   },
   {
    "duration": 43,
    "start_time": "2024-10-24T22:46:38.913Z"
   },
   {
    "duration": 6,
    "start_time": "2024-10-24T22:46:38.958Z"
   },
   {
    "duration": 74,
    "start_time": "2024-10-24T22:46:38.965Z"
   },
   {
    "duration": 17,
    "start_time": "2024-10-24T22:46:39.040Z"
   },
   {
    "duration": 4,
    "start_time": "2024-10-24T22:46:39.058Z"
   },
   {
    "duration": 6,
    "start_time": "2024-10-24T22:46:39.065Z"
   },
   {
    "duration": 4,
    "start_time": "2024-10-24T22:46:39.073Z"
   },
   {
    "duration": 21,
    "start_time": "2024-10-24T22:46:39.079Z"
   },
   {
    "duration": 68,
    "start_time": "2024-10-24T22:46:39.102Z"
   },
   {
    "duration": 48,
    "start_time": "2024-10-24T22:46:39.172Z"
   },
   {
    "duration": 15,
    "start_time": "2024-10-24T22:46:39.222Z"
   },
   {
    "duration": 36,
    "start_time": "2024-10-24T22:46:39.239Z"
   },
   {
    "duration": 17,
    "start_time": "2024-10-24T22:46:39.276Z"
   },
   {
    "duration": 13,
    "start_time": "2024-10-24T22:46:39.294Z"
   },
   {
    "duration": 17,
    "start_time": "2024-10-24T22:46:39.309Z"
   },
   {
    "duration": 5,
    "start_time": "2024-10-24T22:46:39.327Z"
   },
   {
    "duration": 66,
    "start_time": "2024-10-24T22:46:39.334Z"
   },
   {
    "duration": 8,
    "start_time": "2024-10-24T22:46:39.402Z"
   },
   {
    "duration": 5,
    "start_time": "2024-10-24T22:47:53.820Z"
   },
   {
    "duration": 6,
    "start_time": "2024-10-24T22:48:15.047Z"
   },
   {
    "duration": 8,
    "start_time": "2024-10-24T22:48:22.464Z"
   },
   {
    "duration": 4,
    "start_time": "2024-10-24T22:58:51.590Z"
   },
   {
    "duration": 8,
    "start_time": "2024-10-24T22:58:59.364Z"
   },
   {
    "duration": 76,
    "start_time": "2024-10-24T23:00:23.723Z"
   },
   {
    "duration": 14,
    "start_time": "2024-10-24T23:00:29.707Z"
   },
   {
    "duration": 10,
    "start_time": "2024-10-24T23:00:35.147Z"
   },
   {
    "duration": 9,
    "start_time": "2024-10-24T23:00:39.368Z"
   },
   {
    "duration": 7,
    "start_time": "2024-10-24T23:01:47.360Z"
   },
   {
    "duration": 6,
    "start_time": "2024-10-24T23:01:49.160Z"
   },
   {
    "duration": 3,
    "start_time": "2024-10-24T23:03:11.479Z"
   },
   {
    "duration": 7,
    "start_time": "2024-10-24T23:03:11.485Z"
   },
   {
    "duration": 68,
    "start_time": "2024-10-24T23:03:11.494Z"
   },
   {
    "duration": 35,
    "start_time": "2024-10-24T23:03:11.569Z"
   },
   {
    "duration": 6,
    "start_time": "2024-10-24T23:03:11.605Z"
   },
   {
    "duration": 65,
    "start_time": "2024-10-24T23:03:11.613Z"
   },
   {
    "duration": 13,
    "start_time": "2024-10-24T23:03:11.680Z"
   },
   {
    "duration": 18,
    "start_time": "2024-10-24T23:03:11.696Z"
   },
   {
    "duration": 67,
    "start_time": "2024-10-24T23:03:11.716Z"
   },
   {
    "duration": 40,
    "start_time": "2024-10-24T23:03:11.784Z"
   },
   {
    "duration": 15,
    "start_time": "2024-10-24T23:03:11.826Z"
   },
   {
    "duration": 34,
    "start_time": "2024-10-24T23:03:11.844Z"
   },
   {
    "duration": 16,
    "start_time": "2024-10-24T23:03:11.880Z"
   },
   {
    "duration": 12,
    "start_time": "2024-10-24T23:03:11.898Z"
   },
   {
    "duration": 17,
    "start_time": "2024-10-24T23:03:11.914Z"
   },
   {
    "duration": 6,
    "start_time": "2024-10-24T23:03:11.932Z"
   },
   {
    "duration": 56,
    "start_time": "2024-10-24T23:03:11.941Z"
   },
   {
    "duration": 8,
    "start_time": "2024-10-24T23:03:11.999Z"
   },
   {
    "duration": 7,
    "start_time": "2024-10-24T23:03:12.009Z"
   },
   {
    "duration": 8,
    "start_time": "2024-10-24T23:03:12.019Z"
   },
   {
    "duration": 7,
    "start_time": "2024-10-24T23:03:12.029Z"
   },
   {
    "duration": 39,
    "start_time": "2024-10-24T23:03:12.038Z"
   },
   {
    "duration": 6,
    "start_time": "2024-10-24T23:03:12.079Z"
   },
   {
    "duration": 4,
    "start_time": "2024-10-24T23:03:12.087Z"
   },
   {
    "duration": 14,
    "start_time": "2024-10-24T23:10:05.647Z"
   },
   {
    "duration": 4,
    "start_time": "2024-10-24T23:10:11.375Z"
   },
   {
    "duration": 9,
    "start_time": "2024-10-24T23:10:16.611Z"
   },
   {
    "duration": 21,
    "start_time": "2024-10-24T23:10:36.768Z"
   },
   {
    "duration": 7,
    "start_time": "2024-10-24T23:10:44.911Z"
   },
   {
    "duration": 3,
    "start_time": "2024-10-24T23:12:01.911Z"
   },
   {
    "duration": 7,
    "start_time": "2024-10-24T23:12:01.918Z"
   },
   {
    "duration": 63,
    "start_time": "2024-10-24T23:12:01.927Z"
   },
   {
    "duration": 34,
    "start_time": "2024-10-24T23:12:01.991Z"
   },
   {
    "duration": 5,
    "start_time": "2024-10-24T23:12:02.027Z"
   },
   {
    "duration": 67,
    "start_time": "2024-10-24T23:12:02.034Z"
   },
   {
    "duration": 13,
    "start_time": "2024-10-24T23:12:02.103Z"
   },
   {
    "duration": 24,
    "start_time": "2024-10-24T23:12:02.118Z"
   },
   {
    "duration": 27,
    "start_time": "2024-10-24T23:12:02.144Z"
   },
   {
    "duration": 15,
    "start_time": "2024-10-24T23:12:02.172Z"
   },
   {
    "duration": 17,
    "start_time": "2024-10-24T23:12:02.188Z"
   },
   {
    "duration": 19,
    "start_time": "2024-10-24T23:12:02.207Z"
   },
   {
    "duration": 42,
    "start_time": "2024-10-24T23:12:02.229Z"
   },
   {
    "duration": 6,
    "start_time": "2024-10-24T23:12:02.275Z"
   },
   {
    "duration": 58,
    "start_time": "2024-10-24T23:12:02.282Z"
   },
   {
    "duration": 8,
    "start_time": "2024-10-24T23:12:02.342Z"
   },
   {
    "duration": 8,
    "start_time": "2024-10-24T23:12:02.352Z"
   },
   {
    "duration": 9,
    "start_time": "2024-10-24T23:12:02.362Z"
   },
   {
    "duration": 7,
    "start_time": "2024-10-24T23:12:02.372Z"
   },
   {
    "duration": 8,
    "start_time": "2024-10-24T23:12:02.380Z"
   },
   {
    "duration": 7,
    "start_time": "2024-10-24T23:12:02.390Z"
   },
   {
    "duration": 5,
    "start_time": "2024-10-24T23:12:02.399Z"
   },
   {
    "duration": 8,
    "start_time": "2024-10-24T23:12:02.405Z"
   },
   {
    "duration": 56,
    "start_time": "2024-10-24T23:12:02.414Z"
   },
   {
    "duration": 7,
    "start_time": "2024-10-24T23:12:02.472Z"
   },
   {
    "duration": 44,
    "start_time": "2024-10-24T23:12:02.480Z"
   },
   {
    "duration": 62,
    "start_time": "2024-10-24T23:12:02.526Z"
   },
   {
    "duration": 29,
    "start_time": "2024-10-24T23:19:45.368Z"
   },
   {
    "duration": 29,
    "start_time": "2024-10-24T23:19:50.075Z"
   },
   {
    "duration": 4,
    "start_time": "2024-10-24T23:20:03.819Z"
   },
   {
    "duration": 58,
    "start_time": "2024-10-24T23:20:13.314Z"
   },
   {
    "duration": 2,
    "start_time": "2024-10-24T23:20:19.930Z"
   },
   {
    "duration": 7,
    "start_time": "2024-10-24T23:20:19.938Z"
   },
   {
    "duration": 66,
    "start_time": "2024-10-24T23:20:19.947Z"
   },
   {
    "duration": 33,
    "start_time": "2024-10-24T23:20:20.015Z"
   },
   {
    "duration": 6,
    "start_time": "2024-10-24T23:20:20.050Z"
   },
   {
    "duration": 59,
    "start_time": "2024-10-24T23:20:20.058Z"
   },
   {
    "duration": 13,
    "start_time": "2024-10-24T23:20:20.119Z"
   },
   {
    "duration": 20,
    "start_time": "2024-10-24T23:20:20.133Z"
   },
   {
    "duration": 14,
    "start_time": "2024-10-24T23:20:20.171Z"
   },
   {
    "duration": 14,
    "start_time": "2024-10-24T23:20:20.187Z"
   },
   {
    "duration": 16,
    "start_time": "2024-10-24T23:20:20.203Z"
   },
   {
    "duration": 12,
    "start_time": "2024-10-24T23:20:20.220Z"
   },
   {
    "duration": 46,
    "start_time": "2024-10-24T23:20:20.234Z"
   },
   {
    "duration": 6,
    "start_time": "2024-10-24T23:20:20.282Z"
   },
   {
    "duration": 37,
    "start_time": "2024-10-24T23:20:20.291Z"
   },
   {
    "duration": 11,
    "start_time": "2024-10-24T23:20:20.332Z"
   },
   {
    "duration": 32,
    "start_time": "2024-10-24T23:20:20.344Z"
   },
   {
    "duration": 8,
    "start_time": "2024-10-24T23:20:20.377Z"
   },
   {
    "duration": 8,
    "start_time": "2024-10-24T23:20:20.386Z"
   },
   {
    "duration": 7,
    "start_time": "2024-10-24T23:20:20.396Z"
   },
   {
    "duration": 7,
    "start_time": "2024-10-24T23:20:20.404Z"
   },
   {
    "duration": 4,
    "start_time": "2024-10-24T23:20:20.413Z"
   },
   {
    "duration": 10,
    "start_time": "2024-10-24T23:20:20.419Z"
   },
   {
    "duration": 16,
    "start_time": "2024-10-24T23:20:20.470Z"
   },
   {
    "duration": 6,
    "start_time": "2024-10-24T23:20:20.488Z"
   },
   {
    "duration": 45,
    "start_time": "2024-10-24T23:20:20.496Z"
   },
   {
    "duration": 60,
    "start_time": "2024-10-24T23:20:20.542Z"
   },
   {
    "duration": 41,
    "start_time": "2024-10-24T23:20:23.089Z"
   },
   {
    "duration": 408,
    "start_time": "2024-10-24T23:20:40.368Z"
   },
   {
    "duration": 3,
    "start_time": "2024-10-24T23:20:51.715Z"
   },
   {
    "duration": 7,
    "start_time": "2024-10-24T23:20:51.724Z"
   },
   {
    "duration": 67,
    "start_time": "2024-10-24T23:20:51.733Z"
   },
   {
    "duration": 34,
    "start_time": "2024-10-24T23:20:51.802Z"
   },
   {
    "duration": 5,
    "start_time": "2024-10-24T23:20:51.838Z"
   },
   {
    "duration": 59,
    "start_time": "2024-10-24T23:20:51.846Z"
   },
   {
    "duration": 15,
    "start_time": "2024-10-24T23:20:51.906Z"
   },
   {
    "duration": 21,
    "start_time": "2024-10-24T23:20:51.923Z"
   },
   {
    "duration": 36,
    "start_time": "2024-10-24T23:20:51.945Z"
   },
   {
    "duration": 17,
    "start_time": "2024-10-24T23:20:51.983Z"
   },
   {
    "duration": 16,
    "start_time": "2024-10-24T23:20:52.002Z"
   },
   {
    "duration": 13,
    "start_time": "2024-10-24T23:20:52.019Z"
   },
   {
    "duration": 47,
    "start_time": "2024-10-24T23:20:52.033Z"
   },
   {
    "duration": 5,
    "start_time": "2024-10-24T23:20:52.082Z"
   },
   {
    "duration": 33,
    "start_time": "2024-10-24T23:20:52.091Z"
   },
   {
    "duration": 7,
    "start_time": "2024-10-24T23:20:52.126Z"
   },
   {
    "duration": 36,
    "start_time": "2024-10-24T23:20:52.135Z"
   },
   {
    "duration": 9,
    "start_time": "2024-10-24T23:20:52.173Z"
   },
   {
    "duration": 8,
    "start_time": "2024-10-24T23:20:52.184Z"
   },
   {
    "duration": 7,
    "start_time": "2024-10-24T23:20:52.194Z"
   },
   {
    "duration": 7,
    "start_time": "2024-10-24T23:20:52.203Z"
   },
   {
    "duration": 5,
    "start_time": "2024-10-24T23:20:52.212Z"
   },
   {
    "duration": 8,
    "start_time": "2024-10-24T23:20:52.218Z"
   },
   {
    "duration": 51,
    "start_time": "2024-10-24T23:20:52.228Z"
   },
   {
    "duration": 6,
    "start_time": "2024-10-24T23:20:52.281Z"
   },
   {
    "duration": 46,
    "start_time": "2024-10-24T23:20:52.289Z"
   },
   {
    "duration": 66,
    "start_time": "2024-10-24T23:20:52.337Z"
   },
   {
    "duration": 2,
    "start_time": "2024-10-24T23:21:58.262Z"
   },
   {
    "duration": 7,
    "start_time": "2024-10-24T23:22:03.045Z"
   },
   {
    "duration": 3,
    "start_time": "2024-10-24T23:22:10.478Z"
   },
   {
    "duration": 7,
    "start_time": "2024-10-24T23:22:10.485Z"
   },
   {
    "duration": 65,
    "start_time": "2024-10-24T23:22:10.493Z"
   },
   {
    "duration": 44,
    "start_time": "2024-10-24T23:22:10.560Z"
   },
   {
    "duration": 6,
    "start_time": "2024-10-24T23:22:10.606Z"
   },
   {
    "duration": 59,
    "start_time": "2024-10-24T23:22:10.613Z"
   },
   {
    "duration": 14,
    "start_time": "2024-10-24T23:22:10.673Z"
   },
   {
    "duration": 18,
    "start_time": "2024-10-24T23:22:10.689Z"
   },
   {
    "duration": 15,
    "start_time": "2024-10-24T23:22:10.708Z"
   },
   {
    "duration": 13,
    "start_time": "2024-10-24T23:22:10.727Z"
   },
   {
    "duration": 16,
    "start_time": "2024-10-24T23:22:10.770Z"
   },
   {
    "duration": 12,
    "start_time": "2024-10-24T23:22:10.788Z"
   },
   {
    "duration": 18,
    "start_time": "2024-10-24T23:22:10.802Z"
   },
   {
    "duration": 6,
    "start_time": "2024-10-24T23:22:10.822Z"
   },
   {
    "duration": 62,
    "start_time": "2024-10-24T23:22:10.829Z"
   },
   {
    "duration": 8,
    "start_time": "2024-10-24T23:22:10.893Z"
   },
   {
    "duration": 7,
    "start_time": "2024-10-24T23:22:10.903Z"
   },
   {
    "duration": 8,
    "start_time": "2024-10-24T23:22:10.911Z"
   },
   {
    "duration": 8,
    "start_time": "2024-10-24T23:22:10.920Z"
   },
   {
    "duration": 8,
    "start_time": "2024-10-24T23:22:10.930Z"
   },
   {
    "duration": 7,
    "start_time": "2024-10-24T23:22:10.970Z"
   },
   {
    "duration": 6,
    "start_time": "2024-10-24T23:22:10.978Z"
   },
   {
    "duration": 10,
    "start_time": "2024-10-24T23:22:10.987Z"
   },
   {
    "duration": 18,
    "start_time": "2024-10-24T23:22:10.999Z"
   },
   {
    "duration": 7,
    "start_time": "2024-10-24T23:22:11.021Z"
   },
   {
    "duration": 78,
    "start_time": "2024-10-24T23:22:11.029Z"
   },
   {
    "duration": 40,
    "start_time": "2024-10-24T23:22:11.108Z"
   },
   {
    "duration": 24,
    "start_time": "2024-10-24T23:22:11.150Z"
   },
   {
    "duration": 47,
    "start_time": "2024-10-24T23:26:36.476Z"
   },
   {
    "duration": 10,
    "start_time": "2024-10-24T23:26:50.862Z"
   },
   {
    "duration": 13,
    "start_time": "2024-10-24T23:26:56.660Z"
   },
   {
    "duration": 427,
    "start_time": "2024-10-24T23:27:15.681Z"
   },
   {
    "duration": 9,
    "start_time": "2024-10-24T23:27:59.107Z"
   },
   {
    "duration": 135,
    "start_time": "2024-10-24T23:28:16.713Z"
   },
   {
    "duration": 3,
    "start_time": "2024-10-24T23:28:24.905Z"
   },
   {
    "duration": 6,
    "start_time": "2024-10-24T23:28:24.913Z"
   },
   {
    "duration": 67,
    "start_time": "2024-10-24T23:28:24.921Z"
   },
   {
    "duration": 31,
    "start_time": "2024-10-24T23:28:24.990Z"
   },
   {
    "duration": 5,
    "start_time": "2024-10-24T23:28:25.022Z"
   },
   {
    "duration": 58,
    "start_time": "2024-10-24T23:28:25.029Z"
   },
   {
    "duration": 14,
    "start_time": "2024-10-24T23:28:25.089Z"
   },
   {
    "duration": 17,
    "start_time": "2024-10-24T23:28:25.105Z"
   },
   {
    "duration": 15,
    "start_time": "2024-10-24T23:28:25.124Z"
   },
   {
    "duration": 43,
    "start_time": "2024-10-24T23:28:25.141Z"
   },
   {
    "duration": 15,
    "start_time": "2024-10-24T23:28:25.186Z"
   },
   {
    "duration": 14,
    "start_time": "2024-10-24T23:28:25.204Z"
   },
   {
    "duration": 17,
    "start_time": "2024-10-24T23:28:25.220Z"
   },
   {
    "duration": 33,
    "start_time": "2024-10-24T23:28:25.239Z"
   },
   {
    "duration": 35,
    "start_time": "2024-10-24T23:28:25.276Z"
   },
   {
    "duration": 8,
    "start_time": "2024-10-24T23:28:25.313Z"
   },
   {
    "duration": 7,
    "start_time": "2024-10-24T23:28:25.323Z"
   },
   {
    "duration": 9,
    "start_time": "2024-10-24T23:28:25.331Z"
   },
   {
    "duration": 9,
    "start_time": "2024-10-24T23:28:25.370Z"
   },
   {
    "duration": 10,
    "start_time": "2024-10-24T23:28:25.381Z"
   },
   {
    "duration": 7,
    "start_time": "2024-10-24T23:28:25.393Z"
   },
   {
    "duration": 5,
    "start_time": "2024-10-24T23:28:25.402Z"
   },
   {
    "duration": 10,
    "start_time": "2024-10-24T23:28:25.409Z"
   },
   {
    "duration": 53,
    "start_time": "2024-10-24T23:28:25.420Z"
   },
   {
    "duration": 6,
    "start_time": "2024-10-24T23:28:25.475Z"
   },
   {
    "duration": 44,
    "start_time": "2024-10-24T23:28:25.484Z"
   },
   {
    "duration": 54,
    "start_time": "2024-10-24T23:28:25.530Z"
   },
   {
    "duration": 8,
    "start_time": "2024-10-24T23:28:25.585Z"
   },
   {
    "duration": 65,
    "start_time": "2024-10-24T23:28:27.219Z"
   },
   {
    "duration": 9,
    "start_time": "2024-10-24T23:28:35.385Z"
   },
   {
    "duration": 3,
    "start_time": "2024-10-24T23:30:38.840Z"
   },
   {
    "duration": 6,
    "start_time": "2024-10-24T23:30:43.166Z"
   },
   {
    "duration": 105,
    "start_time": "2024-10-24T23:31:29.496Z"
   },
   {
    "duration": 158,
    "start_time": "2024-10-24T23:32:04.937Z"
   },
   {
    "duration": 7,
    "start_time": "2024-10-24T23:32:11.857Z"
   },
   {
    "duration": 3,
    "start_time": "2024-10-24T23:32:27.444Z"
   },
   {
    "duration": 4,
    "start_time": "2024-10-24T23:32:30.106Z"
   },
   {
    "duration": 5,
    "start_time": "2024-10-24T23:32:33.506Z"
   },
   {
    "duration": 3,
    "start_time": "2024-10-24T23:32:46.139Z"
   },
   {
    "duration": 6,
    "start_time": "2024-10-24T23:32:46.144Z"
   },
   {
    "duration": 59,
    "start_time": "2024-10-24T23:32:46.152Z"
   },
   {
    "duration": 31,
    "start_time": "2024-10-24T23:32:46.213Z"
   },
   {
    "duration": 10,
    "start_time": "2024-10-24T23:32:46.246Z"
   },
   {
    "duration": 57,
    "start_time": "2024-10-24T23:32:46.258Z"
   },
   {
    "duration": 17,
    "start_time": "2024-10-24T23:32:46.317Z"
   },
   {
    "duration": 38,
    "start_time": "2024-10-24T23:32:46.337Z"
   },
   {
    "duration": 15,
    "start_time": "2024-10-24T23:32:46.377Z"
   },
   {
    "duration": 15,
    "start_time": "2024-10-24T23:32:46.395Z"
   },
   {
    "duration": 15,
    "start_time": "2024-10-24T23:32:46.412Z"
   },
   {
    "duration": 41,
    "start_time": "2024-10-24T23:32:46.429Z"
   },
   {
    "duration": 17,
    "start_time": "2024-10-24T23:32:46.472Z"
   },
   {
    "duration": 7,
    "start_time": "2024-10-24T23:32:46.490Z"
   },
   {
    "duration": 34,
    "start_time": "2024-10-24T23:32:46.498Z"
   },
   {
    "duration": 14,
    "start_time": "2024-10-24T23:32:46.536Z"
   },
   {
    "duration": 9,
    "start_time": "2024-10-24T23:32:46.572Z"
   },
   {
    "duration": 9,
    "start_time": "2024-10-24T23:32:46.582Z"
   },
   {
    "duration": 7,
    "start_time": "2024-10-24T23:32:46.593Z"
   },
   {
    "duration": 8,
    "start_time": "2024-10-24T23:32:46.601Z"
   },
   {
    "duration": 6,
    "start_time": "2024-10-24T23:32:46.611Z"
   },
   {
    "duration": 5,
    "start_time": "2024-10-24T23:32:46.619Z"
   },
   {
    "duration": 50,
    "start_time": "2024-10-24T23:32:46.626Z"
   },
   {
    "duration": 16,
    "start_time": "2024-10-24T23:32:46.677Z"
   },
   {
    "duration": 6,
    "start_time": "2024-10-24T23:32:46.695Z"
   },
   {
    "duration": 71,
    "start_time": "2024-10-24T23:32:46.703Z"
   },
   {
    "duration": 40,
    "start_time": "2024-10-24T23:32:46.776Z"
   },
   {
    "duration": 7,
    "start_time": "2024-10-24T23:32:46.820Z"
   },
   {
    "duration": 13,
    "start_time": "2024-10-24T23:33:20.655Z"
   },
   {
    "duration": 7,
    "start_time": "2024-10-24T23:33:27.374Z"
   },
   {
    "duration": 14,
    "start_time": "2024-10-24T23:34:02.149Z"
   },
   {
    "duration": 6,
    "start_time": "2024-10-24T23:34:42.478Z"
   },
   {
    "duration": 9,
    "start_time": "2024-10-24T23:34:47.173Z"
   },
   {
    "duration": 9,
    "start_time": "2024-10-24T23:34:51.524Z"
   },
   {
    "duration": 7,
    "start_time": "2024-10-24T23:34:57.087Z"
   },
   {
    "duration": 7,
    "start_time": "2024-10-24T23:35:00.756Z"
   },
   {
    "duration": 2,
    "start_time": "2024-10-24T23:36:48.560Z"
   },
   {
    "duration": 7,
    "start_time": "2024-10-24T23:37:15.667Z"
   },
   {
    "duration": 18,
    "start_time": "2024-10-24T23:37:24.815Z"
   },
   {
    "duration": 16,
    "start_time": "2024-10-24T23:37:26.298Z"
   },
   {
    "duration": 3,
    "start_time": "2024-10-24T23:39:28.076Z"
   },
   {
    "duration": 7,
    "start_time": "2024-10-24T23:39:28.083Z"
   },
   {
    "duration": 63,
    "start_time": "2024-10-24T23:39:28.092Z"
   },
   {
    "duration": 32,
    "start_time": "2024-10-24T23:39:28.170Z"
   },
   {
    "duration": 5,
    "start_time": "2024-10-24T23:39:28.204Z"
   },
   {
    "duration": 47,
    "start_time": "2024-10-24T23:39:28.211Z"
   },
   {
    "duration": 9,
    "start_time": "2024-10-24T23:39:28.270Z"
   },
   {
    "duration": 7,
    "start_time": "2024-10-24T23:39:28.280Z"
   },
   {
    "duration": 5,
    "start_time": "2024-10-24T23:39:28.288Z"
   },
   {
    "duration": 7,
    "start_time": "2024-10-24T23:39:28.295Z"
   },
   {
    "duration": 7,
    "start_time": "2024-10-24T23:39:28.304Z"
   },
   {
    "duration": 6,
    "start_time": "2024-10-24T23:39:28.313Z"
   },
   {
    "duration": 69,
    "start_time": "2024-10-24T23:39:28.320Z"
   },
   {
    "duration": 9,
    "start_time": "2024-10-24T23:39:28.390Z"
   },
   {
    "duration": 6,
    "start_time": "2024-10-24T23:39:28.403Z"
   },
   {
    "duration": 7,
    "start_time": "2024-10-24T23:39:28.411Z"
   },
   {
    "duration": 8,
    "start_time": "2024-10-24T23:39:28.420Z"
   },
   {
    "duration": 42,
    "start_time": "2024-10-24T23:39:28.429Z"
   },
   {
    "duration": 7,
    "start_time": "2024-10-24T23:39:28.472Z"
   },
   {
    "duration": 4,
    "start_time": "2024-10-24T23:39:28.481Z"
   },
   {
    "duration": 9,
    "start_time": "2024-10-24T23:39:28.486Z"
   },
   {
    "duration": 15,
    "start_time": "2024-10-24T23:39:28.496Z"
   },
   {
    "duration": 7,
    "start_time": "2024-10-24T23:39:28.512Z"
   },
   {
    "duration": 82,
    "start_time": "2024-10-24T23:39:28.520Z"
   },
   {
    "duration": 37,
    "start_time": "2024-10-24T23:39:28.604Z"
   },
   {
    "duration": 7,
    "start_time": "2024-10-24T23:39:28.643Z"
   },
   {
    "duration": 29,
    "start_time": "2024-10-24T23:39:28.652Z"
   },
   {
    "duration": 6,
    "start_time": "2024-10-24T23:39:28.682Z"
   },
   {
    "duration": 15,
    "start_time": "2024-10-24T23:39:28.689Z"
   },
   {
    "duration": 16,
    "start_time": "2024-10-24T23:39:28.706Z"
   },
   {
    "duration": 93,
    "start_time": "2024-10-24T23:41:00.741Z"
   },
   {
    "duration": 3,
    "start_time": "2024-10-24T23:41:22.052Z"
   },
   {
    "duration": 18,
    "start_time": "2024-10-24T23:41:22.059Z"
   },
   {
    "duration": 60,
    "start_time": "2024-10-24T23:41:22.079Z"
   },
   {
    "duration": 39,
    "start_time": "2024-10-24T23:41:22.141Z"
   },
   {
    "duration": 13,
    "start_time": "2024-10-24T23:41:22.182Z"
   },
   {
    "duration": 55,
    "start_time": "2024-10-24T23:41:22.196Z"
   },
   {
    "duration": 8,
    "start_time": "2024-10-24T23:41:22.252Z"
   },
   {
    "duration": 9,
    "start_time": "2024-10-24T23:41:22.262Z"
   },
   {
    "duration": 5,
    "start_time": "2024-10-24T23:41:22.272Z"
   },
   {
    "duration": 7,
    "start_time": "2024-10-24T23:41:22.279Z"
   },
   {
    "duration": 6,
    "start_time": "2024-10-24T23:41:22.290Z"
   },
   {
    "duration": 6,
    "start_time": "2024-10-24T23:41:22.297Z"
   },
   {
    "duration": 33,
    "start_time": "2024-10-24T23:41:22.305Z"
   },
   {
    "duration": 37,
    "start_time": "2024-10-24T23:41:22.340Z"
   },
   {
    "duration": 7,
    "start_time": "2024-10-24T23:41:22.380Z"
   },
   {
    "duration": 8,
    "start_time": "2024-10-24T23:41:22.388Z"
   },
   {
    "duration": 7,
    "start_time": "2024-10-24T23:41:22.398Z"
   },
   {
    "duration": 8,
    "start_time": "2024-10-24T23:41:22.407Z"
   },
   {
    "duration": 7,
    "start_time": "2024-10-24T23:41:22.416Z"
   },
   {
    "duration": 45,
    "start_time": "2024-10-24T23:41:22.425Z"
   },
   {
    "duration": 8,
    "start_time": "2024-10-24T23:41:22.472Z"
   },
   {
    "duration": 14,
    "start_time": "2024-10-24T23:41:22.482Z"
   },
   {
    "duration": 6,
    "start_time": "2024-10-24T23:41:22.498Z"
   },
   {
    "duration": 69,
    "start_time": "2024-10-24T23:41:22.506Z"
   },
   {
    "duration": 43,
    "start_time": "2024-10-24T23:41:22.577Z"
   },
   {
    "duration": 8,
    "start_time": "2024-10-24T23:41:22.622Z"
   },
   {
    "duration": 12,
    "start_time": "2024-10-24T23:41:22.633Z"
   },
   {
    "duration": 26,
    "start_time": "2024-10-24T23:41:22.646Z"
   },
   {
    "duration": 14,
    "start_time": "2024-10-24T23:41:22.675Z"
   },
   {
    "duration": 16,
    "start_time": "2024-10-24T23:41:22.690Z"
   },
   {
    "duration": 6,
    "start_time": "2024-10-24T23:41:22.707Z"
   },
   {
    "duration": 9,
    "start_time": "2024-10-24T23:41:24.604Z"
   },
   {
    "duration": 11,
    "start_time": "2024-10-24T23:41:32.588Z"
   },
   {
    "duration": 158,
    "start_time": "2024-10-24T23:41:52.259Z"
   },
   {
    "duration": 3,
    "start_time": "2024-10-24T23:44:34.160Z"
   },
   {
    "duration": 7,
    "start_time": "2024-10-24T23:44:34.165Z"
   },
   {
    "duration": 61,
    "start_time": "2024-10-24T23:44:34.173Z"
   },
   {
    "duration": 43,
    "start_time": "2024-10-24T23:44:34.238Z"
   },
   {
    "duration": 6,
    "start_time": "2024-10-24T23:44:34.282Z"
   },
   {
    "duration": 51,
    "start_time": "2024-10-24T23:44:34.289Z"
   },
   {
    "duration": 7,
    "start_time": "2024-10-24T23:44:34.342Z"
   },
   {
    "duration": 23,
    "start_time": "2024-10-24T23:44:34.351Z"
   },
   {
    "duration": 6,
    "start_time": "2024-10-24T23:44:34.376Z"
   },
   {
    "duration": 6,
    "start_time": "2024-10-24T23:44:34.386Z"
   },
   {
    "duration": 7,
    "start_time": "2024-10-24T23:44:34.394Z"
   },
   {
    "duration": 6,
    "start_time": "2024-10-24T23:44:34.403Z"
   },
   {
    "duration": 65,
    "start_time": "2024-10-24T23:44:34.411Z"
   },
   {
    "duration": 8,
    "start_time": "2024-10-24T23:44:34.478Z"
   },
   {
    "duration": 7,
    "start_time": "2024-10-24T23:44:34.488Z"
   },
   {
    "duration": 8,
    "start_time": "2024-10-24T23:44:34.496Z"
   },
   {
    "duration": 8,
    "start_time": "2024-10-24T23:44:34.505Z"
   },
   {
    "duration": 8,
    "start_time": "2024-10-24T23:44:34.514Z"
   },
   {
    "duration": 7,
    "start_time": "2024-10-24T23:44:34.523Z"
   },
   {
    "duration": 5,
    "start_time": "2024-10-24T23:44:34.570Z"
   },
   {
    "duration": 8,
    "start_time": "2024-10-24T23:44:34.577Z"
   },
   {
    "duration": 14,
    "start_time": "2024-10-24T23:44:34.587Z"
   },
   {
    "duration": 6,
    "start_time": "2024-10-24T23:44:34.603Z"
   },
   {
    "duration": 74,
    "start_time": "2024-10-24T23:44:34.611Z"
   },
   {
    "duration": 37,
    "start_time": "2024-10-24T23:44:34.687Z"
   },
   {
    "duration": 7,
    "start_time": "2024-10-24T23:44:34.727Z"
   },
   {
    "duration": 35,
    "start_time": "2024-10-24T23:44:34.736Z"
   },
   {
    "duration": 6,
    "start_time": "2024-10-24T23:44:34.775Z"
   },
   {
    "duration": 15,
    "start_time": "2024-10-24T23:44:34.783Z"
   },
   {
    "duration": 17,
    "start_time": "2024-10-24T23:44:34.799Z"
   },
   {
    "duration": 8,
    "start_time": "2024-10-24T23:44:34.819Z"
   },
   {
    "duration": 7,
    "start_time": "2024-10-24T23:45:16.943Z"
   },
   {
    "duration": 2527,
    "start_time": "2024-10-25T19:28:06.267Z"
   },
   {
    "duration": 9,
    "start_time": "2024-10-25T19:28:08.797Z"
   },
   {
    "duration": 85,
    "start_time": "2024-10-25T19:28:08.808Z"
   },
   {
    "duration": 43,
    "start_time": "2024-10-25T19:28:08.895Z"
   },
   {
    "duration": 7,
    "start_time": "2024-10-25T19:28:08.941Z"
   },
   {
    "duration": 74,
    "start_time": "2024-10-25T19:28:08.949Z"
   },
   {
    "duration": 11,
    "start_time": "2024-10-25T19:28:09.025Z"
   },
   {
    "duration": 6,
    "start_time": "2024-10-25T19:28:09.037Z"
   },
   {
    "duration": 7,
    "start_time": "2024-10-25T19:28:09.045Z"
   },
   {
    "duration": 7,
    "start_time": "2024-10-25T19:28:09.053Z"
   },
   {
    "duration": 7,
    "start_time": "2024-10-25T19:28:09.062Z"
   },
   {
    "duration": 6,
    "start_time": "2024-10-25T19:28:09.070Z"
   },
   {
    "duration": 65,
    "start_time": "2024-10-25T19:28:09.078Z"
   },
   {
    "duration": 9,
    "start_time": "2024-10-25T19:28:09.147Z"
   },
   {
    "duration": 7,
    "start_time": "2024-10-25T19:28:09.158Z"
   },
   {
    "duration": 8,
    "start_time": "2024-10-25T19:28:09.167Z"
   },
   {
    "duration": 8,
    "start_time": "2024-10-25T19:28:09.176Z"
   },
   {
    "duration": 7,
    "start_time": "2024-10-25T19:28:09.186Z"
   },
   {
    "duration": 7,
    "start_time": "2024-10-25T19:28:09.196Z"
   },
   {
    "duration": 5,
    "start_time": "2024-10-25T19:28:09.244Z"
   },
   {
    "duration": 10,
    "start_time": "2024-10-25T19:28:09.251Z"
   },
   {
    "duration": 16,
    "start_time": "2024-10-25T19:28:09.263Z"
   },
   {
    "duration": 7,
    "start_time": "2024-10-25T19:28:09.281Z"
   },
   {
    "duration": 86,
    "start_time": "2024-10-25T19:28:09.291Z"
   },
   {
    "duration": 49,
    "start_time": "2024-10-25T19:28:09.378Z"
   },
   {
    "duration": 20,
    "start_time": "2024-10-25T19:28:09.428Z"
   },
   {
    "duration": 12,
    "start_time": "2024-10-25T19:28:09.449Z"
   },
   {
    "duration": 5,
    "start_time": "2024-10-25T19:28:09.463Z"
   },
   {
    "duration": 14,
    "start_time": "2024-10-25T19:28:09.470Z"
   },
   {
    "duration": 16,
    "start_time": "2024-10-25T19:28:09.486Z"
   },
   {
    "duration": 40,
    "start_time": "2024-10-25T19:28:09.504Z"
   },
   {
    "duration": 3,
    "start_time": "2024-10-25T19:28:09.546Z"
   },
   {
    "duration": 2,
    "start_time": "2024-10-25T19:28:09.551Z"
   },
   {
    "duration": 9,
    "start_time": "2024-10-25T19:28:09.555Z"
   },
   {
    "duration": 2,
    "start_time": "2024-10-25T19:28:09.565Z"
   },
   {
    "duration": 3,
    "start_time": "2024-10-25T19:28:09.569Z"
   },
   {
    "duration": 2,
    "start_time": "2024-10-25T19:28:09.573Z"
   },
   {
    "duration": 2,
    "start_time": "2024-10-25T19:28:09.577Z"
   },
   {
    "duration": 3,
    "start_time": "2024-10-25T19:28:09.581Z"
   },
   {
    "duration": 3,
    "start_time": "2024-10-25T19:28:09.585Z"
   },
   {
    "duration": 2,
    "start_time": "2024-10-25T19:28:09.592Z"
   },
   {
    "duration": 2,
    "start_time": "2024-10-25T19:28:09.644Z"
   },
   {
    "duration": 3,
    "start_time": "2024-10-25T19:28:09.647Z"
   },
   {
    "duration": 2,
    "start_time": "2024-10-25T19:28:09.651Z"
   },
   {
    "duration": 2,
    "start_time": "2024-10-25T19:28:09.655Z"
   },
   {
    "duration": 2,
    "start_time": "2024-10-25T19:28:09.660Z"
   },
   {
    "duration": 2,
    "start_time": "2024-10-25T19:28:09.664Z"
   },
   {
    "duration": 3,
    "start_time": "2024-10-25T19:28:09.667Z"
   },
   {
    "duration": 3,
    "start_time": "2024-10-25T19:28:09.671Z"
   },
   {
    "duration": 16,
    "start_time": "2024-10-25T19:29:18.626Z"
   },
   {
    "duration": 5,
    "start_time": "2024-10-25T19:29:20.519Z"
   },
   {
    "duration": 7,
    "start_time": "2024-10-25T19:29:25.106Z"
   },
   {
    "duration": 40,
    "start_time": "2024-10-25T19:29:43.421Z"
   },
   {
    "duration": 4,
    "start_time": "2024-10-25T19:30:37.596Z"
   },
   {
    "duration": 7,
    "start_time": "2024-10-25T19:30:37.602Z"
   },
   {
    "duration": 67,
    "start_time": "2024-10-25T19:30:37.611Z"
   },
   {
    "duration": 34,
    "start_time": "2024-10-25T19:30:37.679Z"
   },
   {
    "duration": 5,
    "start_time": "2024-10-25T19:30:37.716Z"
   },
   {
    "duration": 61,
    "start_time": "2024-10-25T19:30:37.723Z"
   },
   {
    "duration": 10,
    "start_time": "2024-10-25T19:30:37.785Z"
   },
   {
    "duration": 6,
    "start_time": "2024-10-25T19:30:37.797Z"
   },
   {
    "duration": 5,
    "start_time": "2024-10-25T19:30:37.805Z"
   },
   {
    "duration": 7,
    "start_time": "2024-10-25T19:30:37.813Z"
   },
   {
    "duration": 7,
    "start_time": "2024-10-25T19:30:37.845Z"
   },
   {
    "duration": 9,
    "start_time": "2024-10-25T19:30:37.854Z"
   },
   {
    "duration": 7,
    "start_time": "2024-10-25T19:30:37.865Z"
   },
   {
    "duration": 8,
    "start_time": "2024-10-25T19:30:37.873Z"
   },
   {
    "duration": 8,
    "start_time": "2024-10-25T19:30:37.883Z"
   },
   {
    "duration": 8,
    "start_time": "2024-10-25T19:30:37.893Z"
   },
   {
    "duration": 8,
    "start_time": "2024-10-25T19:30:37.942Z"
   },
   {
    "duration": 5,
    "start_time": "2024-10-25T19:30:37.953Z"
   },
   {
    "duration": 8,
    "start_time": "2024-10-25T19:30:37.960Z"
   },
   {
    "duration": 16,
    "start_time": "2024-10-25T19:30:37.970Z"
   },
   {
    "duration": 6,
    "start_time": "2024-10-25T19:30:37.987Z"
   },
   {
    "duration": 85,
    "start_time": "2024-10-25T19:30:37.995Z"
   },
   {
    "duration": 43,
    "start_time": "2024-10-25T19:30:38.082Z"
   },
   {
    "duration": 19,
    "start_time": "2024-10-25T19:30:38.127Z"
   },
   {
    "duration": 12,
    "start_time": "2024-10-25T19:30:38.148Z"
   },
   {
    "duration": 6,
    "start_time": "2024-10-25T19:30:38.162Z"
   },
   {
    "duration": 15,
    "start_time": "2024-10-25T19:30:38.169Z"
   },
   {
    "duration": 16,
    "start_time": "2024-10-25T19:30:38.187Z"
   },
   {
    "duration": 37,
    "start_time": "2024-10-25T19:30:38.206Z"
   },
   {
    "duration": 15,
    "start_time": "2024-10-25T19:30:38.245Z"
   },
   {
    "duration": 7,
    "start_time": "2024-10-25T19:30:38.262Z"
   },
   {
    "duration": 7,
    "start_time": "2024-10-25T19:32:03.187Z"
   },
   {
    "duration": 5,
    "start_time": "2024-10-25T19:32:06.285Z"
   },
   {
    "duration": 40,
    "start_time": "2024-10-25T19:32:10.578Z"
   },
   {
    "duration": 7,
    "start_time": "2024-10-25T19:38:08.562Z"
   },
   {
    "duration": 638,
    "start_time": "2024-10-25T19:39:56.885Z"
   },
   {
    "duration": 58,
    "start_time": "2024-10-25T19:40:10.381Z"
   },
   {
    "duration": 15,
    "start_time": "2024-10-25T19:40:34.255Z"
   },
   {
    "duration": 16,
    "start_time": "2024-10-25T19:40:40.978Z"
   },
   {
    "duration": 6,
    "start_time": "2024-10-25T19:41:03.040Z"
   },
   {
    "duration": 5,
    "start_time": "2024-10-25T19:41:35.267Z"
   },
   {
    "duration": 8,
    "start_time": "2024-10-25T19:41:38.990Z"
   },
   {
    "duration": 22,
    "start_time": "2024-10-25T19:41:42.473Z"
   },
   {
    "duration": 324,
    "start_time": "2024-10-25T19:43:23.280Z"
   },
   {
    "duration": 39,
    "start_time": "2024-10-25T19:43:29.316Z"
   },
   {
    "duration": 13,
    "start_time": "2024-10-25T19:46:35.099Z"
   },
   {
    "duration": 170,
    "start_time": "2024-10-25T19:46:42.967Z"
   },
   {
    "duration": 15,
    "start_time": "2024-10-25T19:46:54.474Z"
   },
   {
    "duration": 18,
    "start_time": "2024-10-25T19:46:58.862Z"
   },
   {
    "duration": 16,
    "start_time": "2024-10-25T19:47:04.698Z"
   },
   {
    "duration": 23,
    "start_time": "2024-10-25T19:47:07.815Z"
   },
   {
    "duration": 17,
    "start_time": "2024-10-25T19:47:30.367Z"
   },
   {
    "duration": 21,
    "start_time": "2024-10-25T19:47:36.133Z"
   },
   {
    "duration": 5,
    "start_time": "2024-10-25T19:48:34.579Z"
   },
   {
    "duration": 20,
    "start_time": "2024-10-25T19:48:45.978Z"
   },
   {
    "duration": 6,
    "start_time": "2024-10-25T19:48:53.672Z"
   },
   {
    "duration": 33,
    "start_time": "2024-10-25T19:50:38.769Z"
   },
   {
    "duration": 34,
    "start_time": "2024-10-25T19:50:44.478Z"
   },
   {
    "duration": 18,
    "start_time": "2024-10-25T19:51:33.514Z"
   },
   {
    "duration": 37,
    "start_time": "2024-10-25T19:51:40.306Z"
   },
   {
    "duration": 34,
    "start_time": "2024-10-25T19:52:00.877Z"
   },
   {
    "duration": 16,
    "start_time": "2024-10-25T19:53:09.167Z"
   },
   {
    "duration": 35,
    "start_time": "2024-10-25T19:54:15.307Z"
   },
   {
    "duration": 43,
    "start_time": "2024-10-25T19:55:14.140Z"
   },
   {
    "duration": 44,
    "start_time": "2024-10-25T19:55:22.877Z"
   },
   {
    "duration": 46,
    "start_time": "2024-10-25T19:55:32.627Z"
   },
   {
    "duration": 15,
    "start_time": "2024-10-25T19:55:54.604Z"
   },
   {
    "duration": 40,
    "start_time": "2024-10-25T19:55:56.547Z"
   },
   {
    "duration": 66,
    "start_time": "2024-10-25T19:56:43.710Z"
   },
   {
    "duration": 59,
    "start_time": "2024-10-25T19:56:56.321Z"
   },
   {
    "duration": 36,
    "start_time": "2024-10-25T19:57:01.315Z"
   },
   {
    "duration": 43,
    "start_time": "2024-10-25T19:57:06.178Z"
   },
   {
    "duration": 36,
    "start_time": "2024-10-25T19:57:11.928Z"
   },
   {
    "duration": 4,
    "start_time": "2024-10-25T19:57:46.610Z"
   },
   {
    "duration": 65,
    "start_time": "2024-10-25T19:57:52.462Z"
   },
   {
    "duration": 42,
    "start_time": "2024-10-25T19:57:59.606Z"
   },
   {
    "duration": 61,
    "start_time": "2024-10-25T19:58:08.648Z"
   },
   {
    "duration": 49,
    "start_time": "2024-10-25T19:58:36.883Z"
   },
   {
    "duration": 102,
    "start_time": "2024-10-25T19:58:58.500Z"
   },
   {
    "duration": 53,
    "start_time": "2024-10-25T19:59:31.097Z"
   },
   {
    "duration": 7,
    "start_time": "2024-10-25T19:59:50.576Z"
   },
   {
    "duration": 661,
    "start_time": "2024-10-25T20:00:06.599Z"
   },
   {
    "duration": 14,
    "start_time": "2024-10-25T20:00:25.367Z"
   },
   {
    "duration": 5,
    "start_time": "2024-10-25T20:00:44.788Z"
   },
   {
    "duration": 4,
    "start_time": "2024-10-25T20:00:48.436Z"
   },
   {
    "duration": 7,
    "start_time": "2024-10-25T20:00:48.443Z"
   },
   {
    "duration": 78,
    "start_time": "2024-10-25T20:00:48.452Z"
   },
   {
    "duration": 35,
    "start_time": "2024-10-25T20:00:48.542Z"
   },
   {
    "duration": 6,
    "start_time": "2024-10-25T20:00:48.580Z"
   },
   {
    "duration": 64,
    "start_time": "2024-10-25T20:00:48.587Z"
   },
   {
    "duration": 11,
    "start_time": "2024-10-25T20:00:48.653Z"
   },
   {
    "duration": 8,
    "start_time": "2024-10-25T20:00:48.666Z"
   },
   {
    "duration": 8,
    "start_time": "2024-10-25T20:00:48.676Z"
   },
   {
    "duration": 9,
    "start_time": "2024-10-25T20:00:48.686Z"
   },
   {
    "duration": 8,
    "start_time": "2024-10-25T20:00:48.699Z"
   },
   {
    "duration": 42,
    "start_time": "2024-10-25T20:00:48.709Z"
   },
   {
    "duration": 7,
    "start_time": "2024-10-25T20:00:48.752Z"
   },
   {
    "duration": 8,
    "start_time": "2024-10-25T20:00:48.761Z"
   },
   {
    "duration": 10,
    "start_time": "2024-10-25T20:00:48.771Z"
   },
   {
    "duration": 11,
    "start_time": "2024-10-25T20:00:48.783Z"
   },
   {
    "duration": 8,
    "start_time": "2024-10-25T20:00:48.796Z"
   },
   {
    "duration": 42,
    "start_time": "2024-10-25T20:00:48.805Z"
   },
   {
    "duration": 10,
    "start_time": "2024-10-25T20:00:48.848Z"
   },
   {
    "duration": 15,
    "start_time": "2024-10-25T20:00:48.860Z"
   },
   {
    "duration": 6,
    "start_time": "2024-10-25T20:00:48.877Z"
   },
   {
    "duration": 80,
    "start_time": "2024-10-25T20:00:48.885Z"
   },
   {
    "duration": 76,
    "start_time": "2024-10-25T20:00:48.967Z"
   },
   {
    "duration": 11,
    "start_time": "2024-10-25T20:00:49.045Z"
   },
   {
    "duration": 34,
    "start_time": "2024-10-25T20:00:49.058Z"
   },
   {
    "duration": 16,
    "start_time": "2024-10-25T20:00:49.094Z"
   },
   {
    "duration": 7,
    "start_time": "2024-10-25T20:00:49.113Z"
   },
   {
    "duration": 23,
    "start_time": "2024-10-25T20:00:49.142Z"
   },
   {
    "duration": 23,
    "start_time": "2024-10-25T20:00:49.170Z"
   },
   {
    "duration": 8,
    "start_time": "2024-10-25T20:00:49.195Z"
   },
   {
    "duration": 39,
    "start_time": "2024-10-25T20:00:49.205Z"
   },
   {
    "duration": 10,
    "start_time": "2024-10-25T20:00:49.246Z"
   },
   {
    "duration": 56,
    "start_time": "2024-10-25T20:00:49.258Z"
   },
   {
    "duration": 26,
    "start_time": "2024-10-25T20:00:49.316Z"
   },
   {
    "duration": 9,
    "start_time": "2024-10-25T20:00:49.345Z"
   },
   {
    "duration": 5,
    "start_time": "2024-10-25T20:01:07.501Z"
   },
   {
    "duration": 6,
    "start_time": "2024-10-25T20:03:29.273Z"
   },
   {
    "duration": 31,
    "start_time": "2024-10-25T20:03:46.072Z"
   },
   {
    "duration": 28,
    "start_time": "2024-10-25T20:03:51.138Z"
   },
   {
    "duration": 52,
    "start_time": "2024-10-25T20:04:23.444Z"
   },
   {
    "duration": 25,
    "start_time": "2024-10-25T20:04:38.678Z"
   },
   {
    "duration": 24,
    "start_time": "2024-10-25T20:05:16.572Z"
   },
   {
    "duration": 32,
    "start_time": "2024-10-25T20:05:43.861Z"
   },
   {
    "duration": 23,
    "start_time": "2024-10-25T20:07:32.251Z"
   },
   {
    "duration": 37,
    "start_time": "2024-10-25T20:07:39.787Z"
   },
   {
    "duration": 44,
    "start_time": "2024-10-25T20:07:53.615Z"
   },
   {
    "duration": 15,
    "start_time": "2024-10-25T20:09:37.864Z"
   },
   {
    "duration": 339,
    "start_time": "2024-10-25T20:10:57.544Z"
   },
   {
    "duration": 4,
    "start_time": "2024-10-25T20:11:24.378Z"
   },
   {
    "duration": 48,
    "start_time": "2024-10-25T20:11:26.522Z"
   },
   {
    "duration": 19,
    "start_time": "2024-10-25T20:11:39.631Z"
   },
   {
    "duration": 15,
    "start_time": "2024-10-25T20:12:19.131Z"
   },
   {
    "duration": 5,
    "start_time": "2024-10-25T20:12:26.239Z"
   },
   {
    "duration": 15,
    "start_time": "2024-10-25T20:13:07.133Z"
   },
   {
    "duration": 8,
    "start_time": "2024-10-25T20:13:37.565Z"
   },
   {
    "duration": 21,
    "start_time": "2024-10-25T20:14:50.711Z"
   },
   {
    "duration": 8,
    "start_time": "2024-10-25T20:15:45.824Z"
   },
   {
    "duration": 14,
    "start_time": "2024-10-25T20:16:52.991Z"
   },
   {
    "duration": 5,
    "start_time": "2024-10-25T20:16:59.736Z"
   },
   {
    "duration": 14,
    "start_time": "2024-10-25T20:17:02.760Z"
   },
   {
    "duration": 14,
    "start_time": "2024-10-25T20:17:06.236Z"
   },
   {
    "duration": 24,
    "start_time": "2024-10-25T20:17:11.965Z"
   },
   {
    "duration": 30,
    "start_time": "2024-10-25T20:17:19.602Z"
   },
   {
    "duration": 27,
    "start_time": "2024-10-25T20:17:23.842Z"
   },
   {
    "duration": 30,
    "start_time": "2024-10-25T20:18:59.469Z"
   },
   {
    "duration": 29,
    "start_time": "2024-10-25T20:29:27.112Z"
   },
   {
    "duration": 3,
    "start_time": "2024-10-25T20:29:34.779Z"
   },
   {
    "duration": 43,
    "start_time": "2024-10-25T20:29:43.150Z"
   },
   {
    "duration": 46,
    "start_time": "2024-10-25T20:29:49.136Z"
   },
   {
    "duration": 2,
    "start_time": "2024-10-25T20:30:06.628Z"
   },
   {
    "duration": 8,
    "start_time": "2024-10-25T20:30:06.633Z"
   },
   {
    "duration": 72,
    "start_time": "2024-10-25T20:30:06.642Z"
   },
   {
    "duration": 45,
    "start_time": "2024-10-25T20:30:06.717Z"
   },
   {
    "duration": 6,
    "start_time": "2024-10-25T20:30:06.764Z"
   },
   {
    "duration": 54,
    "start_time": "2024-10-25T20:30:06.771Z"
   },
   {
    "duration": 18,
    "start_time": "2024-10-25T20:30:06.826Z"
   },
   {
    "duration": 8,
    "start_time": "2024-10-25T20:30:06.846Z"
   },
   {
    "duration": 6,
    "start_time": "2024-10-25T20:30:06.858Z"
   },
   {
    "duration": 7,
    "start_time": "2024-10-25T20:30:06.866Z"
   },
   {
    "duration": 7,
    "start_time": "2024-10-25T20:30:06.875Z"
   },
   {
    "duration": 9,
    "start_time": "2024-10-25T20:30:06.884Z"
   },
   {
    "duration": 7,
    "start_time": "2024-10-25T20:30:06.894Z"
   },
   {
    "duration": 9,
    "start_time": "2024-10-25T20:30:06.944Z"
   },
   {
    "duration": 10,
    "start_time": "2024-10-25T20:30:06.955Z"
   },
   {
    "duration": 9,
    "start_time": "2024-10-25T20:30:06.967Z"
   },
   {
    "duration": 8,
    "start_time": "2024-10-25T20:30:06.978Z"
   },
   {
    "duration": 5,
    "start_time": "2024-10-25T20:30:06.988Z"
   },
   {
    "duration": 51,
    "start_time": "2024-10-25T20:30:06.995Z"
   },
   {
    "duration": 17,
    "start_time": "2024-10-25T20:30:07.048Z"
   },
   {
    "duration": 8,
    "start_time": "2024-10-25T20:30:07.066Z"
   },
   {
    "duration": 68,
    "start_time": "2024-10-25T20:30:07.076Z"
   },
   {
    "duration": 45,
    "start_time": "2024-10-25T20:30:07.146Z"
   },
   {
    "duration": 7,
    "start_time": "2024-10-25T20:30:07.195Z"
   },
   {
    "duration": 50,
    "start_time": "2024-10-25T20:30:09.147Z"
   },
   {
    "duration": 121,
    "start_time": "2024-10-25T20:43:32.269Z"
   },
   {
    "duration": 26,
    "start_time": "2024-10-25T20:43:48.888Z"
   },
   {
    "duration": 3,
    "start_time": "2024-10-25T20:43:53.407Z"
   },
   {
    "duration": 7,
    "start_time": "2024-10-25T20:43:53.415Z"
   },
   {
    "duration": 67,
    "start_time": "2024-10-25T20:43:53.425Z"
   },
   {
    "duration": 35,
    "start_time": "2024-10-25T20:43:53.494Z"
   },
   {
    "duration": 12,
    "start_time": "2024-10-25T20:43:53.531Z"
   },
   {
    "duration": 54,
    "start_time": "2024-10-25T20:43:53.546Z"
   },
   {
    "duration": 8,
    "start_time": "2024-10-25T20:43:53.602Z"
   },
   {
    "duration": 7,
    "start_time": "2024-10-25T20:43:53.612Z"
   },
   {
    "duration": 25,
    "start_time": "2024-10-25T20:43:53.621Z"
   },
   {
    "duration": 7,
    "start_time": "2024-10-25T20:43:53.648Z"
   },
   {
    "duration": 7,
    "start_time": "2024-10-25T20:43:53.657Z"
   },
   {
    "duration": 9,
    "start_time": "2024-10-25T20:43:53.665Z"
   },
   {
    "duration": 7,
    "start_time": "2024-10-25T20:43:53.675Z"
   },
   {
    "duration": 9,
    "start_time": "2024-10-25T20:43:53.684Z"
   },
   {
    "duration": 49,
    "start_time": "2024-10-25T20:43:53.698Z"
   },
   {
    "duration": 7,
    "start_time": "2024-10-25T20:43:53.749Z"
   },
   {
    "duration": 8,
    "start_time": "2024-10-25T20:43:53.758Z"
   },
   {
    "duration": 5,
    "start_time": "2024-10-25T20:43:53.767Z"
   },
   {
    "duration": 8,
    "start_time": "2024-10-25T20:43:53.774Z"
   },
   {
    "duration": 16,
    "start_time": "2024-10-25T20:43:53.784Z"
   },
   {
    "duration": 8,
    "start_time": "2024-10-25T20:43:53.842Z"
   },
   {
    "duration": 51,
    "start_time": "2024-10-25T20:43:53.852Z"
   },
   {
    "duration": 64,
    "start_time": "2024-10-25T20:43:53.905Z"
   },
   {
    "duration": 8,
    "start_time": "2024-10-25T20:43:53.971Z"
   },
   {
    "duration": 68,
    "start_time": "2024-10-25T20:43:53.981Z"
   },
   {
    "duration": 14,
    "start_time": "2024-10-25T20:43:54.051Z"
   },
   {
    "duration": 6,
    "start_time": "2024-10-25T20:43:54.068Z"
   },
   {
    "duration": 16,
    "start_time": "2024-10-25T20:43:54.076Z"
   },
   {
    "duration": 17,
    "start_time": "2024-10-25T20:43:54.094Z"
   },
   {
    "duration": 7,
    "start_time": "2024-10-25T20:43:54.143Z"
   },
   {
    "duration": 18,
    "start_time": "2024-10-25T20:43:54.152Z"
   },
   {
    "duration": 14,
    "start_time": "2024-10-25T20:43:54.171Z"
   },
   {
    "duration": 8,
    "start_time": "2024-10-25T20:43:54.186Z"
   },
   {
    "duration": 67,
    "start_time": "2024-10-25T20:43:54.196Z"
   },
   {
    "duration": 7,
    "start_time": "2024-10-25T20:43:54.266Z"
   },
   {
    "duration": 21,
    "start_time": "2024-10-25T20:43:54.275Z"
   },
   {
    "duration": 6,
    "start_time": "2024-10-25T20:43:54.298Z"
   },
   {
    "duration": 47,
    "start_time": "2024-10-25T20:43:54.306Z"
   },
   {
    "duration": 33,
    "start_time": "2024-10-25T20:43:54.355Z"
   },
   {
    "duration": 14,
    "start_time": "2024-10-25T20:43:54.390Z"
   },
   {
    "duration": 25,
    "start_time": "2024-10-25T20:43:56.256Z"
   },
   {
    "duration": 21,
    "start_time": "2024-10-25T20:44:06.336Z"
   },
   {
    "duration": 4,
    "start_time": "2024-10-25T20:44:33.533Z"
   },
   {
    "duration": 6,
    "start_time": "2024-10-25T20:44:33.541Z"
   },
   {
    "duration": 70,
    "start_time": "2024-10-25T20:44:33.550Z"
   },
   {
    "duration": 52,
    "start_time": "2024-10-25T20:44:33.622Z"
   },
   {
    "duration": 5,
    "start_time": "2024-10-25T20:44:33.676Z"
   },
   {
    "duration": 63,
    "start_time": "2024-10-25T20:44:33.684Z"
   },
   {
    "duration": 8,
    "start_time": "2024-10-25T20:44:33.749Z"
   },
   {
    "duration": 7,
    "start_time": "2024-10-25T20:44:33.760Z"
   },
   {
    "duration": 6,
    "start_time": "2024-10-25T20:44:33.769Z"
   },
   {
    "duration": 7,
    "start_time": "2024-10-25T20:44:33.777Z"
   },
   {
    "duration": 7,
    "start_time": "2024-10-25T20:44:33.786Z"
   },
   {
    "duration": 48,
    "start_time": "2024-10-25T20:44:33.795Z"
   },
   {
    "duration": 8,
    "start_time": "2024-10-25T20:44:33.845Z"
   },
   {
    "duration": 8,
    "start_time": "2024-10-25T20:44:33.855Z"
   },
   {
    "duration": 8,
    "start_time": "2024-10-25T20:44:33.867Z"
   },
   {
    "duration": 9,
    "start_time": "2024-10-25T20:44:33.876Z"
   },
   {
    "duration": 8,
    "start_time": "2024-10-25T20:44:33.887Z"
   },
   {
    "duration": 5,
    "start_time": "2024-10-25T20:44:33.897Z"
   },
   {
    "duration": 10,
    "start_time": "2024-10-25T20:44:33.942Z"
   },
   {
    "duration": 16,
    "start_time": "2024-10-25T20:44:33.954Z"
   },
   {
    "duration": 7,
    "start_time": "2024-10-25T20:44:33.972Z"
   },
   {
    "duration": 71,
    "start_time": "2024-10-25T20:44:33.981Z"
   },
   {
    "duration": 45,
    "start_time": "2024-10-25T20:44:34.053Z"
   },
   {
    "duration": 8,
    "start_time": "2024-10-25T20:44:34.100Z"
   },
   {
    "duration": 78,
    "start_time": "2024-10-25T20:44:34.111Z"
   },
   {
    "duration": 14,
    "start_time": "2024-10-25T20:44:34.191Z"
   },
   {
    "duration": 9,
    "start_time": "2024-10-25T20:44:34.207Z"
   },
   {
    "duration": 37,
    "start_time": "2024-10-25T20:44:34.218Z"
   },
   {
    "duration": 17,
    "start_time": "2024-10-25T20:44:34.256Z"
   },
   {
    "duration": 7,
    "start_time": "2024-10-25T20:44:34.275Z"
   },
   {
    "duration": 19,
    "start_time": "2024-10-25T20:44:34.284Z"
   },
   {
    "duration": 44,
    "start_time": "2024-10-25T20:44:34.304Z"
   },
   {
    "duration": 8,
    "start_time": "2024-10-25T20:44:34.350Z"
   },
   {
    "duration": 41,
    "start_time": "2024-10-25T20:44:34.360Z"
   },
   {
    "duration": 9,
    "start_time": "2024-10-25T20:44:34.403Z"
   },
   {
    "duration": 50,
    "start_time": "2024-10-25T20:44:34.413Z"
   },
   {
    "duration": 10,
    "start_time": "2024-10-25T20:44:34.464Z"
   },
   {
    "duration": 25,
    "start_time": "2024-10-25T20:44:34.476Z"
   },
   {
    "duration": 55,
    "start_time": "2024-10-25T20:44:34.503Z"
   },
   {
    "duration": 18,
    "start_time": "2024-10-25T20:44:34.560Z"
   },
   {
    "duration": 25,
    "start_time": "2024-10-25T20:44:36.545Z"
   },
   {
    "duration": 26,
    "start_time": "2024-10-25T20:44:43.705Z"
   },
   {
    "duration": 13,
    "start_time": "2024-10-25T20:44:54.273Z"
   },
   {
    "duration": 27,
    "start_time": "2024-10-25T20:45:06.917Z"
   },
   {
    "duration": 20,
    "start_time": "2024-10-25T20:45:16.656Z"
   },
   {
    "duration": 59,
    "start_time": "2024-10-25T20:45:32.019Z"
   },
   {
    "duration": 59,
    "start_time": "2024-10-25T20:45:51.393Z"
   },
   {
    "duration": 18,
    "start_time": "2024-10-25T20:45:58.745Z"
   },
   {
    "duration": 23,
    "start_time": "2024-10-25T20:47:17.461Z"
   },
   {
    "duration": 6,
    "start_time": "2024-10-25T20:47:51.398Z"
   },
   {
    "duration": 23,
    "start_time": "2024-10-25T20:48:00.092Z"
   },
   {
    "duration": 21,
    "start_time": "2024-10-25T20:48:39.885Z"
   },
   {
    "duration": 19,
    "start_time": "2024-10-25T20:48:43.407Z"
   },
   {
    "duration": 20,
    "start_time": "2024-10-25T20:49:55.430Z"
   },
   {
    "duration": 19,
    "start_time": "2024-10-25T20:50:02.329Z"
   },
   {
    "duration": 5,
    "start_time": "2024-10-25T20:50:10.174Z"
   },
   {
    "duration": 5,
    "start_time": "2024-10-25T20:50:16.344Z"
   },
   {
    "duration": 18,
    "start_time": "2024-10-25T20:50:20.315Z"
   },
   {
    "duration": 16,
    "start_time": "2024-10-25T20:50:27.716Z"
   },
   {
    "duration": 4,
    "start_time": "2024-10-25T20:50:40.461Z"
   },
   {
    "duration": 4,
    "start_time": "2024-10-25T20:50:44.921Z"
   },
   {
    "duration": 6,
    "start_time": "2024-10-25T20:51:33.108Z"
   },
   {
    "duration": 5,
    "start_time": "2024-10-25T20:51:48.078Z"
   },
   {
    "duration": 44,
    "start_time": "2024-10-25T20:51:53.654Z"
   },
   {
    "duration": 23,
    "start_time": "2024-10-25T20:52:27.295Z"
   },
   {
    "duration": 33,
    "start_time": "2024-10-25T20:52:40.483Z"
   },
   {
    "duration": 21,
    "start_time": "2024-10-25T20:52:44.637Z"
   },
   {
    "duration": 3,
    "start_time": "2024-10-25T20:52:48.672Z"
   },
   {
    "duration": 7,
    "start_time": "2024-10-25T20:52:48.677Z"
   },
   {
    "duration": 67,
    "start_time": "2024-10-25T20:52:48.685Z"
   },
   {
    "duration": 34,
    "start_time": "2024-10-25T20:52:48.755Z"
   },
   {
    "duration": 5,
    "start_time": "2024-10-25T20:52:48.791Z"
   },
   {
    "duration": 61,
    "start_time": "2024-10-25T20:52:48.798Z"
   },
   {
    "duration": 8,
    "start_time": "2024-10-25T20:52:48.861Z"
   },
   {
    "duration": 7,
    "start_time": "2024-10-25T20:52:48.871Z"
   },
   {
    "duration": 5,
    "start_time": "2024-10-25T20:52:48.882Z"
   },
   {
    "duration": 7,
    "start_time": "2024-10-25T20:52:48.889Z"
   },
   {
    "duration": 7,
    "start_time": "2024-10-25T20:52:48.898Z"
   },
   {
    "duration": 42,
    "start_time": "2024-10-25T20:52:48.907Z"
   },
   {
    "duration": 7,
    "start_time": "2024-10-25T20:52:48.951Z"
   },
   {
    "duration": 8,
    "start_time": "2024-10-25T20:52:48.960Z"
   },
   {
    "duration": 8,
    "start_time": "2024-10-25T20:52:48.970Z"
   },
   {
    "duration": 8,
    "start_time": "2024-10-25T20:52:48.980Z"
   },
   {
    "duration": 7,
    "start_time": "2024-10-25T20:52:48.990Z"
   },
   {
    "duration": 43,
    "start_time": "2024-10-25T20:52:49.000Z"
   },
   {
    "duration": 9,
    "start_time": "2024-10-25T20:52:49.044Z"
   },
   {
    "duration": 15,
    "start_time": "2024-10-25T20:52:49.055Z"
   },
   {
    "duration": 8,
    "start_time": "2024-10-25T20:52:49.072Z"
   },
   {
    "duration": 78,
    "start_time": "2024-10-25T20:52:49.082Z"
   },
   {
    "duration": 42,
    "start_time": "2024-10-25T20:52:49.162Z"
   },
   {
    "duration": 8,
    "start_time": "2024-10-25T20:52:49.209Z"
   },
   {
    "duration": 67,
    "start_time": "2024-10-25T20:52:49.220Z"
   },
   {
    "duration": 13,
    "start_time": "2024-10-25T20:52:49.289Z"
   },
   {
    "duration": 6,
    "start_time": "2024-10-25T20:52:49.304Z"
   },
   {
    "duration": 41,
    "start_time": "2024-10-25T20:52:49.311Z"
   },
   {
    "duration": 17,
    "start_time": "2024-10-25T20:52:49.354Z"
   },
   {
    "duration": 7,
    "start_time": "2024-10-25T20:52:49.372Z"
   },
   {
    "duration": 17,
    "start_time": "2024-10-25T20:52:49.380Z"
   },
   {
    "duration": 14,
    "start_time": "2024-10-25T20:52:49.399Z"
   },
   {
    "duration": 32,
    "start_time": "2024-10-25T20:52:49.415Z"
   },
   {
    "duration": 39,
    "start_time": "2024-10-25T20:52:49.449Z"
   },
   {
    "duration": 8,
    "start_time": "2024-10-25T20:52:49.489Z"
   },
   {
    "duration": 44,
    "start_time": "2024-10-25T20:52:49.498Z"
   },
   {
    "duration": 7,
    "start_time": "2024-10-25T20:52:49.545Z"
   },
   {
    "duration": 24,
    "start_time": "2024-10-25T20:52:49.554Z"
   },
   {
    "duration": 35,
    "start_time": "2024-10-25T20:52:49.580Z"
   },
   {
    "duration": 39,
    "start_time": "2024-10-25T20:52:49.617Z"
   },
   {
    "duration": 24,
    "start_time": "2024-10-25T20:52:52.022Z"
   },
   {
    "duration": 19,
    "start_time": "2024-10-25T20:54:06.005Z"
   },
   {
    "duration": 18,
    "start_time": "2024-10-25T20:54:14.767Z"
   },
   {
    "duration": 18,
    "start_time": "2024-10-25T20:54:27.414Z"
   },
   {
    "duration": 18,
    "start_time": "2024-10-25T20:54:32.894Z"
   },
   {
    "duration": 8,
    "start_time": "2024-10-25T20:55:29.160Z"
   },
   {
    "duration": 19,
    "start_time": "2024-10-25T20:56:09.395Z"
   },
   {
    "duration": 17,
    "start_time": "2024-10-25T20:56:57.688Z"
   },
   {
    "duration": 16,
    "start_time": "2024-10-25T20:57:08.682Z"
   },
   {
    "duration": 2937,
    "start_time": "2024-10-25T21:47:17.343Z"
   },
   {
    "duration": 12,
    "start_time": "2024-10-25T21:47:20.282Z"
   },
   {
    "duration": 111,
    "start_time": "2024-10-25T21:47:20.297Z"
   },
   {
    "duration": 76,
    "start_time": "2024-10-25T21:47:20.415Z"
   },
   {
    "duration": 10,
    "start_time": "2024-10-25T21:47:20.493Z"
   },
   {
    "duration": 122,
    "start_time": "2024-10-25T21:47:20.505Z"
   },
   {
    "duration": 17,
    "start_time": "2024-10-25T21:47:20.634Z"
   },
   {
    "duration": 8,
    "start_time": "2024-10-25T21:47:20.652Z"
   },
   {
    "duration": 7,
    "start_time": "2024-10-25T21:47:20.662Z"
   },
   {
    "duration": 6,
    "start_time": "2024-10-25T21:47:20.673Z"
   },
   {
    "duration": 8,
    "start_time": "2024-10-25T21:47:20.681Z"
   },
   {
    "duration": 10,
    "start_time": "2024-10-25T21:47:20.690Z"
   },
   {
    "duration": 11,
    "start_time": "2024-10-25T21:47:20.713Z"
   },
   {
    "duration": 18,
    "start_time": "2024-10-25T21:47:20.725Z"
   },
   {
    "duration": 9,
    "start_time": "2024-10-25T21:47:20.751Z"
   },
   {
    "duration": 8,
    "start_time": "2024-10-25T21:47:20.761Z"
   },
   {
    "duration": 7,
    "start_time": "2024-10-25T21:47:20.772Z"
   },
   {
    "duration": 6,
    "start_time": "2024-10-25T21:47:20.781Z"
   },
   {
    "duration": 12,
    "start_time": "2024-10-25T21:47:20.789Z"
   },
   {
    "duration": 35,
    "start_time": "2024-10-25T21:47:20.821Z"
   },
   {
    "duration": 7,
    "start_time": "2024-10-25T21:47:20.858Z"
   },
   {
    "duration": 77,
    "start_time": "2024-10-25T21:47:20.867Z"
   },
   {
    "duration": 85,
    "start_time": "2024-10-25T21:47:20.946Z"
   },
   {
    "duration": 8,
    "start_time": "2024-10-25T21:47:21.044Z"
   },
   {
    "duration": 93,
    "start_time": "2024-10-25T21:47:21.054Z"
   },
   {
    "duration": 13,
    "start_time": "2024-10-25T21:47:21.153Z"
   },
   {
    "duration": 6,
    "start_time": "2024-10-25T21:47:21.168Z"
   },
   {
    "duration": 18,
    "start_time": "2024-10-25T21:47:21.179Z"
   },
   {
    "duration": 41,
    "start_time": "2024-10-25T21:47:21.199Z"
   },
   {
    "duration": 8,
    "start_time": "2024-10-25T21:47:21.250Z"
   },
   {
    "duration": 17,
    "start_time": "2024-10-25T21:47:21.260Z"
   },
   {
    "duration": 17,
    "start_time": "2024-10-25T21:47:21.279Z"
   },
   {
    "duration": 10,
    "start_time": "2024-10-25T21:47:21.299Z"
   },
   {
    "duration": 71,
    "start_time": "2024-10-25T21:47:21.310Z"
   },
   {
    "duration": 9,
    "start_time": "2024-10-25T21:47:21.383Z"
   },
   {
    "duration": 47,
    "start_time": "2024-10-25T21:47:21.395Z"
   },
   {
    "duration": 8,
    "start_time": "2024-10-25T21:47:21.452Z"
   },
   {
    "duration": 31,
    "start_time": "2024-10-25T21:47:21.461Z"
   },
   {
    "duration": 49,
    "start_time": "2024-10-25T21:47:21.494Z"
   },
   {
    "duration": 15,
    "start_time": "2024-10-25T21:47:21.548Z"
   },
   {
    "duration": 20,
    "start_time": "2024-10-25T21:47:21.565Z"
   },
   {
    "duration": 2,
    "start_time": "2024-10-25T21:47:21.587Z"
   },
   {
    "duration": 3,
    "start_time": "2024-10-25T21:47:21.591Z"
   },
   {
    "duration": 2,
    "start_time": "2024-10-25T21:47:21.596Z"
   },
   {
    "duration": 3,
    "start_time": "2024-10-25T21:47:21.599Z"
   },
   {
    "duration": 19,
    "start_time": "2024-10-25T21:47:21.604Z"
   },
   {
    "duration": 12,
    "start_time": "2024-10-25T21:47:21.635Z"
   },
   {
    "duration": 2,
    "start_time": "2024-10-25T21:47:21.649Z"
   },
   {
    "duration": 4,
    "start_time": "2024-10-25T21:47:21.653Z"
   },
   {
    "duration": 3,
    "start_time": "2024-10-25T21:47:21.658Z"
   },
   {
    "duration": 3,
    "start_time": "2024-10-25T21:47:21.664Z"
   },
   {
    "duration": 2,
    "start_time": "2024-10-25T21:47:21.669Z"
   },
   {
    "duration": 31,
    "start_time": "2024-10-25T21:48:32.816Z"
   },
   {
    "duration": 12,
    "start_time": "2024-10-25T21:48:50.535Z"
   },
   {
    "duration": 7,
    "start_time": "2024-10-25T21:49:03.397Z"
   },
   {
    "duration": 8,
    "start_time": "2024-10-25T21:49:44.433Z"
   },
   {
    "duration": 7,
    "start_time": "2024-10-25T21:49:46.744Z"
   },
   {
    "duration": 20,
    "start_time": "2024-10-25T21:52:39.752Z"
   },
   {
    "duration": 5,
    "start_time": "2024-10-25T21:52:41.689Z"
   },
   {
    "duration": 6,
    "start_time": "2024-10-25T21:53:49.052Z"
   },
   {
    "duration": 7,
    "start_time": "2024-10-25T21:54:19.599Z"
   },
   {
    "duration": 423,
    "start_time": "2024-10-25T21:54:48.268Z"
   },
   {
    "duration": 6,
    "start_time": "2024-10-25T21:55:41.397Z"
   },
   {
    "duration": 41,
    "start_time": "2024-10-25T21:55:45.410Z"
   },
   {
    "duration": 34,
    "start_time": "2024-10-25T21:56:11.020Z"
   },
   {
    "duration": 36,
    "start_time": "2024-10-25T21:56:59.440Z"
   },
   {
    "duration": 35,
    "start_time": "2024-10-25T21:57:19.874Z"
   },
   {
    "duration": 2,
    "start_time": "2024-10-25T21:57:55.452Z"
   },
   {
    "duration": 7,
    "start_time": "2024-10-25T21:57:55.459Z"
   },
   {
    "duration": 91,
    "start_time": "2024-10-25T21:57:55.469Z"
   },
   {
    "duration": 48,
    "start_time": "2024-10-25T21:57:55.562Z"
   },
   {
    "duration": 18,
    "start_time": "2024-10-25T21:57:55.631Z"
   },
   {
    "duration": 57,
    "start_time": "2024-10-25T21:57:55.651Z"
   },
   {
    "duration": 8,
    "start_time": "2024-10-25T21:57:55.710Z"
   },
   {
    "duration": 9,
    "start_time": "2024-10-25T21:57:55.721Z"
   },
   {
    "duration": 7,
    "start_time": "2024-10-25T21:57:55.731Z"
   },
   {
    "duration": 8,
    "start_time": "2024-10-25T21:57:55.739Z"
   },
   {
    "duration": 7,
    "start_time": "2024-10-25T21:57:55.749Z"
   },
   {
    "duration": 9,
    "start_time": "2024-10-25T21:57:55.757Z"
   },
   {
    "duration": 11,
    "start_time": "2024-10-25T21:57:55.768Z"
   },
   {
    "duration": 42,
    "start_time": "2024-10-25T21:57:55.781Z"
   },
   {
    "duration": 13,
    "start_time": "2024-10-25T21:57:55.827Z"
   },
   {
    "duration": 15,
    "start_time": "2024-10-25T21:57:55.841Z"
   },
   {
    "duration": 9,
    "start_time": "2024-10-25T21:57:55.859Z"
   },
   {
    "duration": 5,
    "start_time": "2024-10-25T21:57:55.870Z"
   },
   {
    "duration": 12,
    "start_time": "2024-10-25T21:57:55.877Z"
   },
   {
    "duration": 27,
    "start_time": "2024-10-25T21:57:55.892Z"
   },
   {
    "duration": 8,
    "start_time": "2024-10-25T21:57:55.921Z"
   },
   {
    "duration": 67,
    "start_time": "2024-10-25T21:57:55.930Z"
   },
   {
    "duration": 64,
    "start_time": "2024-10-25T21:57:56.014Z"
   },
   {
    "duration": 7,
    "start_time": "2024-10-25T21:57:56.081Z"
   },
   {
    "duration": 76,
    "start_time": "2024-10-25T21:57:56.090Z"
   },
   {
    "duration": 15,
    "start_time": "2024-10-25T21:57:56.168Z"
   },
   {
    "duration": 7,
    "start_time": "2024-10-25T21:57:56.184Z"
   },
   {
    "duration": 30,
    "start_time": "2024-10-25T21:57:56.193Z"
   },
   {
    "duration": 20,
    "start_time": "2024-10-25T21:57:56.225Z"
   },
   {
    "duration": 17,
    "start_time": "2024-10-25T21:57:56.246Z"
   },
   {
    "duration": 17,
    "start_time": "2024-10-25T21:57:56.264Z"
   },
   {
    "duration": 16,
    "start_time": "2024-10-25T21:57:56.283Z"
   },
   {
    "duration": 30,
    "start_time": "2024-10-25T21:57:56.301Z"
   },
   {
    "duration": 54,
    "start_time": "2024-10-25T21:57:56.332Z"
   },
   {
    "duration": 9,
    "start_time": "2024-10-25T21:57:56.388Z"
   },
   {
    "duration": 38,
    "start_time": "2024-10-25T21:57:56.399Z"
   },
   {
    "duration": 12,
    "start_time": "2024-10-25T21:57:56.438Z"
   },
   {
    "duration": 32,
    "start_time": "2024-10-25T21:57:56.452Z"
   },
   {
    "duration": 53,
    "start_time": "2024-10-25T21:57:56.486Z"
   },
   {
    "duration": 21,
    "start_time": "2024-10-25T21:57:56.548Z"
   },
   {
    "duration": 43,
    "start_time": "2024-10-25T21:57:58.600Z"
   },
   {
    "duration": 27,
    "start_time": "2024-10-25T21:58:22.345Z"
   },
   {
    "duration": 59,
    "start_time": "2024-10-25T22:00:16.882Z"
   },
   {
    "duration": 3,
    "start_time": "2024-10-25T22:00:23.788Z"
   },
   {
    "duration": 7,
    "start_time": "2024-10-25T22:00:23.796Z"
   },
   {
    "duration": 140,
    "start_time": "2024-10-25T22:00:23.805Z"
   },
   {
    "duration": 47,
    "start_time": "2024-10-25T22:00:23.947Z"
   },
   {
    "duration": 6,
    "start_time": "2024-10-25T22:00:23.995Z"
   },
   {
    "duration": 66,
    "start_time": "2024-10-25T22:00:24.004Z"
   },
   {
    "duration": 8,
    "start_time": "2024-10-25T22:00:24.072Z"
   },
   {
    "duration": 7,
    "start_time": "2024-10-25T22:00:24.082Z"
   },
   {
    "duration": 6,
    "start_time": "2024-10-25T22:00:24.090Z"
   },
   {
    "duration": 25,
    "start_time": "2024-10-25T22:00:24.098Z"
   },
   {
    "duration": 23,
    "start_time": "2024-10-25T22:00:24.124Z"
   },
   {
    "duration": 10,
    "start_time": "2024-10-25T22:00:24.148Z"
   },
   {
    "duration": 88,
    "start_time": "2024-10-25T22:00:24.160Z"
   },
   {
    "duration": 12,
    "start_time": "2024-10-25T22:00:24.250Z"
   },
   {
    "duration": 9,
    "start_time": "2024-10-25T22:00:24.268Z"
   },
   {
    "duration": 8,
    "start_time": "2024-10-25T22:00:24.279Z"
   },
   {
    "duration": 46,
    "start_time": "2024-10-25T22:00:24.289Z"
   },
   {
    "duration": 5,
    "start_time": "2024-10-25T22:00:24.344Z"
   },
   {
    "duration": 11,
    "start_time": "2024-10-25T22:00:24.351Z"
   },
   {
    "duration": 20,
    "start_time": "2024-10-25T22:00:24.364Z"
   },
   {
    "duration": 7,
    "start_time": "2024-10-25T22:00:24.386Z"
   },
   {
    "duration": 79,
    "start_time": "2024-10-25T22:00:24.396Z"
   },
   {
    "duration": 59,
    "start_time": "2024-10-25T22:00:24.476Z"
   },
   {
    "duration": 17,
    "start_time": "2024-10-25T22:00:24.539Z"
   },
   {
    "duration": 52,
    "start_time": "2024-10-25T22:00:24.558Z"
   },
   {
    "duration": 36,
    "start_time": "2024-10-25T22:00:24.615Z"
   },
   {
    "duration": 7,
    "start_time": "2024-10-25T22:00:24.654Z"
   },
   {
    "duration": 19,
    "start_time": "2024-10-25T22:00:24.663Z"
   },
   {
    "duration": 25,
    "start_time": "2024-10-25T22:00:24.683Z"
   },
   {
    "duration": 14,
    "start_time": "2024-10-25T22:00:24.710Z"
   },
   {
    "duration": 21,
    "start_time": "2024-10-25T22:00:24.732Z"
   },
   {
    "duration": 18,
    "start_time": "2024-10-25T22:00:24.754Z"
   },
   {
    "duration": 10,
    "start_time": "2024-10-25T22:00:24.774Z"
   },
   {
    "duration": 66,
    "start_time": "2024-10-25T22:00:24.785Z"
   },
   {
    "duration": 6,
    "start_time": "2024-10-25T22:00:24.862Z"
   },
   {
    "duration": 29,
    "start_time": "2024-10-25T22:00:24.870Z"
   },
   {
    "duration": 10,
    "start_time": "2024-10-25T22:00:24.903Z"
   },
   {
    "duration": 50,
    "start_time": "2024-10-25T22:00:24.915Z"
   },
   {
    "duration": 22,
    "start_time": "2024-10-25T22:00:24.967Z"
   },
   {
    "duration": 17,
    "start_time": "2024-10-25T22:00:24.991Z"
   },
   {
    "duration": 605,
    "start_time": "2024-10-25T22:00:56.545Z"
   },
   {
    "duration": 23,
    "start_time": "2024-10-25T22:01:23.844Z"
   },
   {
    "duration": 46,
    "start_time": "2024-10-25T22:01:46.309Z"
   },
   {
    "duration": 70,
    "start_time": "2024-10-25T22:01:56.183Z"
   },
   {
    "duration": 5,
    "start_time": "2024-10-25T22:03:17.856Z"
   },
   {
    "duration": 7,
    "start_time": "2024-10-25T22:03:17.864Z"
   },
   {
    "duration": 77,
    "start_time": "2024-10-25T22:03:17.873Z"
   },
   {
    "duration": 36,
    "start_time": "2024-10-25T22:03:17.952Z"
   },
   {
    "duration": 6,
    "start_time": "2024-10-25T22:03:17.990Z"
   },
   {
    "duration": 79,
    "start_time": "2024-10-25T22:03:18.000Z"
   },
   {
    "duration": 8,
    "start_time": "2024-10-25T22:03:18.083Z"
   },
   {
    "duration": 6,
    "start_time": "2024-10-25T22:03:18.093Z"
   },
   {
    "duration": 6,
    "start_time": "2024-10-25T22:03:18.101Z"
   },
   {
    "duration": 7,
    "start_time": "2024-10-25T22:03:18.109Z"
   },
   {
    "duration": 7,
    "start_time": "2024-10-25T22:03:18.117Z"
   },
   {
    "duration": 7,
    "start_time": "2024-10-25T22:03:18.125Z"
   },
   {
    "duration": 6,
    "start_time": "2024-10-25T22:03:18.134Z"
   },
   {
    "duration": 7,
    "start_time": "2024-10-25T22:03:18.142Z"
   },
   {
    "duration": 7,
    "start_time": "2024-10-25T22:03:18.153Z"
   },
   {
    "duration": 7,
    "start_time": "2024-10-25T22:03:18.161Z"
   },
   {
    "duration": 6,
    "start_time": "2024-10-25T22:03:18.170Z"
   },
   {
    "duration": 35,
    "start_time": "2024-10-25T22:03:18.177Z"
   },
   {
    "duration": 11,
    "start_time": "2024-10-25T22:03:18.214Z"
   },
   {
    "duration": 28,
    "start_time": "2024-10-25T22:03:18.227Z"
   },
   {
    "duration": 6,
    "start_time": "2024-10-25T22:03:18.256Z"
   },
   {
    "duration": 56,
    "start_time": "2024-10-25T22:03:18.264Z"
   },
   {
    "duration": 56,
    "start_time": "2024-10-25T22:03:18.322Z"
   },
   {
    "duration": 8,
    "start_time": "2024-10-25T22:03:18.380Z"
   },
   {
    "duration": 73,
    "start_time": "2024-10-25T22:03:18.390Z"
   },
   {
    "duration": 15,
    "start_time": "2024-10-25T22:03:18.465Z"
   },
   {
    "duration": 5,
    "start_time": "2024-10-25T22:03:18.482Z"
   },
   {
    "duration": 34,
    "start_time": "2024-10-25T22:03:18.489Z"
   },
   {
    "duration": 23,
    "start_time": "2024-10-25T22:03:18.524Z"
   },
   {
    "duration": 9,
    "start_time": "2024-10-25T22:03:18.548Z"
   },
   {
    "duration": 18,
    "start_time": "2024-10-25T22:03:18.559Z"
   },
   {
    "duration": 14,
    "start_time": "2024-10-25T22:03:18.579Z"
   },
   {
    "duration": 35,
    "start_time": "2024-10-25T22:03:18.595Z"
   },
   {
    "duration": 55,
    "start_time": "2024-10-25T22:03:18.641Z"
   },
   {
    "duration": 8,
    "start_time": "2024-10-25T22:03:18.698Z"
   },
   {
    "duration": 49,
    "start_time": "2024-10-25T22:03:18.708Z"
   },
   {
    "duration": 7,
    "start_time": "2024-10-25T22:03:18.759Z"
   },
   {
    "duration": 23,
    "start_time": "2024-10-25T22:03:18.767Z"
   },
   {
    "duration": 26,
    "start_time": "2024-10-25T22:03:18.793Z"
   },
   {
    "duration": 31,
    "start_time": "2024-10-25T22:03:18.820Z"
   },
   {
    "duration": 60,
    "start_time": "2024-10-25T22:03:21.796Z"
   },
   {
    "duration": 58,
    "start_time": "2024-10-25T22:04:13.102Z"
   },
   {
    "duration": 3,
    "start_time": "2024-10-25T22:04:23.949Z"
   },
   {
    "duration": 9,
    "start_time": "2024-10-25T22:04:23.954Z"
   },
   {
    "duration": 86,
    "start_time": "2024-10-25T22:04:23.967Z"
   },
   {
    "duration": 34,
    "start_time": "2024-10-25T22:04:24.055Z"
   },
   {
    "duration": 5,
    "start_time": "2024-10-25T22:04:24.093Z"
   },
   {
    "duration": 63,
    "start_time": "2024-10-25T22:04:24.100Z"
   },
   {
    "duration": 12,
    "start_time": "2024-10-25T22:04:24.167Z"
   },
   {
    "duration": 8,
    "start_time": "2024-10-25T22:04:24.180Z"
   },
   {
    "duration": 7,
    "start_time": "2024-10-25T22:04:24.190Z"
   },
   {
    "duration": 32,
    "start_time": "2024-10-25T22:04:24.216Z"
   },
   {
    "duration": 8,
    "start_time": "2024-10-25T22:04:24.249Z"
   },
   {
    "duration": 9,
    "start_time": "2024-10-25T22:04:24.260Z"
   },
   {
    "duration": 7,
    "start_time": "2024-10-25T22:04:24.271Z"
   },
   {
    "duration": 11,
    "start_time": "2024-10-25T22:04:24.284Z"
   },
   {
    "duration": 9,
    "start_time": "2024-10-25T22:04:24.298Z"
   },
   {
    "duration": 37,
    "start_time": "2024-10-25T22:04:24.316Z"
   },
   {
    "duration": 9,
    "start_time": "2024-10-25T22:04:24.355Z"
   },
   {
    "duration": 6,
    "start_time": "2024-10-25T22:04:24.367Z"
   },
   {
    "duration": 12,
    "start_time": "2024-10-25T22:04:24.375Z"
   },
   {
    "duration": 33,
    "start_time": "2024-10-25T22:04:24.390Z"
   },
   {
    "duration": 25,
    "start_time": "2024-10-25T22:04:24.430Z"
   },
   {
    "duration": 64,
    "start_time": "2024-10-25T22:04:24.458Z"
   },
   {
    "duration": 59,
    "start_time": "2024-10-25T22:04:24.524Z"
   },
   {
    "duration": 8,
    "start_time": "2024-10-25T22:04:24.585Z"
   },
   {
    "duration": 60,
    "start_time": "2024-10-25T22:04:24.596Z"
   },
   {
    "duration": 16,
    "start_time": "2024-10-25T22:04:24.658Z"
   },
   {
    "duration": 11,
    "start_time": "2024-10-25T22:04:24.676Z"
   },
   {
    "duration": 53,
    "start_time": "2024-10-25T22:04:24.690Z"
   },
   {
    "duration": 21,
    "start_time": "2024-10-25T22:04:24.752Z"
   },
   {
    "duration": 6,
    "start_time": "2024-10-25T22:04:24.774Z"
   },
   {
    "duration": 18,
    "start_time": "2024-10-25T22:04:24.782Z"
   },
   {
    "duration": 20,
    "start_time": "2024-10-25T22:04:24.802Z"
   },
   {
    "duration": 17,
    "start_time": "2024-10-25T22:04:24.824Z"
   },
   {
    "duration": 45,
    "start_time": "2024-10-25T22:04:24.848Z"
   },
   {
    "duration": 7,
    "start_time": "2024-10-25T22:04:24.895Z"
   },
   {
    "duration": 53,
    "start_time": "2024-10-25T22:04:24.904Z"
   },
   {
    "duration": 9,
    "start_time": "2024-10-25T22:04:24.965Z"
   },
   {
    "duration": 32,
    "start_time": "2024-10-25T22:04:24.976Z"
   },
   {
    "duration": 24,
    "start_time": "2024-10-25T22:04:25.010Z"
   },
   {
    "duration": 23,
    "start_time": "2024-10-25T22:04:25.036Z"
   },
   {
    "duration": 69,
    "start_time": "2024-10-25T22:04:26.533Z"
   },
   {
    "duration": 52,
    "start_time": "2024-10-25T22:04:59.595Z"
   },
   {
    "duration": 5,
    "start_time": "2024-10-25T22:05:11.551Z"
   },
   {
    "duration": 7,
    "start_time": "2024-10-25T22:05:11.558Z"
   },
   {
    "duration": 104,
    "start_time": "2024-10-25T22:05:11.566Z"
   },
   {
    "duration": 43,
    "start_time": "2024-10-25T22:05:11.672Z"
   },
   {
    "duration": 20,
    "start_time": "2024-10-25T22:05:11.728Z"
   },
   {
    "duration": 55,
    "start_time": "2024-10-25T22:05:11.750Z"
   },
   {
    "duration": 33,
    "start_time": "2024-10-25T22:05:11.806Z"
   },
   {
    "duration": 8,
    "start_time": "2024-10-25T22:05:11.852Z"
   },
   {
    "duration": 8,
    "start_time": "2024-10-25T22:05:11.862Z"
   },
   {
    "duration": 9,
    "start_time": "2024-10-25T22:05:11.872Z"
   },
   {
    "duration": 7,
    "start_time": "2024-10-25T22:05:11.883Z"
   },
   {
    "duration": 8,
    "start_time": "2024-10-25T22:05:11.894Z"
   },
   {
    "duration": 26,
    "start_time": "2024-10-25T22:05:11.908Z"
   },
   {
    "duration": 9,
    "start_time": "2024-10-25T22:05:11.936Z"
   },
   {
    "duration": 8,
    "start_time": "2024-10-25T22:05:11.946Z"
   },
   {
    "duration": 7,
    "start_time": "2024-10-25T22:05:11.957Z"
   },
   {
    "duration": 6,
    "start_time": "2024-10-25T22:05:11.966Z"
   },
   {
    "duration": 4,
    "start_time": "2024-10-25T22:05:11.975Z"
   },
   {
    "duration": 8,
    "start_time": "2024-10-25T22:05:11.981Z"
   },
   {
    "duration": 41,
    "start_time": "2024-10-25T22:05:11.990Z"
   },
   {
    "duration": 8,
    "start_time": "2024-10-25T22:05:12.032Z"
   },
   {
    "duration": 77,
    "start_time": "2024-10-25T22:05:12.041Z"
   },
   {
    "duration": 67,
    "start_time": "2024-10-25T22:05:12.124Z"
   },
   {
    "duration": 9,
    "start_time": "2024-10-25T22:05:12.193Z"
   },
   {
    "duration": 65,
    "start_time": "2024-10-25T22:05:12.204Z"
   },
   {
    "duration": 14,
    "start_time": "2024-10-25T22:05:12.270Z"
   },
   {
    "duration": 6,
    "start_time": "2024-10-25T22:05:12.286Z"
   },
   {
    "duration": 37,
    "start_time": "2024-10-25T22:05:12.294Z"
   },
   {
    "duration": 20,
    "start_time": "2024-10-25T22:05:12.332Z"
   },
   {
    "duration": 13,
    "start_time": "2024-10-25T22:05:12.353Z"
   },
   {
    "duration": 16,
    "start_time": "2024-10-25T22:05:12.368Z"
   },
   {
    "duration": 33,
    "start_time": "2024-10-25T22:05:12.386Z"
   },
   {
    "duration": 8,
    "start_time": "2024-10-25T22:05:12.420Z"
   },
   {
    "duration": 59,
    "start_time": "2024-10-25T22:05:12.429Z"
   },
   {
    "duration": 7,
    "start_time": "2024-10-25T22:05:12.490Z"
   },
   {
    "duration": 45,
    "start_time": "2024-10-25T22:05:12.498Z"
   },
   {
    "duration": 13,
    "start_time": "2024-10-25T22:05:12.546Z"
   },
   {
    "duration": 32,
    "start_time": "2024-10-25T22:05:12.560Z"
   },
   {
    "duration": 32,
    "start_time": "2024-10-25T22:05:12.594Z"
   },
   {
    "duration": 24,
    "start_time": "2024-10-25T22:05:12.628Z"
   },
   {
    "duration": 27,
    "start_time": "2024-10-25T22:06:19.278Z"
   },
   {
    "duration": 7,
    "start_time": "2024-10-25T22:06:23.408Z"
   },
   {
    "duration": 21,
    "start_time": "2024-10-25T22:06:23.421Z"
   },
   {
    "duration": 109,
    "start_time": "2024-10-25T22:06:23.445Z"
   },
   {
    "duration": 36,
    "start_time": "2024-10-25T22:06:23.556Z"
   },
   {
    "duration": 6,
    "start_time": "2024-10-25T22:06:23.595Z"
   },
   {
    "duration": 75,
    "start_time": "2024-10-25T22:06:23.603Z"
   },
   {
    "duration": 10,
    "start_time": "2024-10-25T22:06:23.679Z"
   },
   {
    "duration": 10,
    "start_time": "2024-10-25T22:06:23.693Z"
   },
   {
    "duration": 32,
    "start_time": "2024-10-25T22:06:23.716Z"
   },
   {
    "duration": 7,
    "start_time": "2024-10-25T22:06:23.751Z"
   },
   {
    "duration": 6,
    "start_time": "2024-10-25T22:06:23.762Z"
   },
   {
    "duration": 9,
    "start_time": "2024-10-25T22:06:23.770Z"
   },
   {
    "duration": 8,
    "start_time": "2024-10-25T22:06:23.780Z"
   },
   {
    "duration": 8,
    "start_time": "2024-10-25T22:06:23.790Z"
   },
   {
    "duration": 39,
    "start_time": "2024-10-25T22:06:23.800Z"
   },
   {
    "duration": 9,
    "start_time": "2024-10-25T22:06:23.845Z"
   },
   {
    "duration": 8,
    "start_time": "2024-10-25T22:06:23.856Z"
   },
   {
    "duration": 4,
    "start_time": "2024-10-25T22:06:23.866Z"
   },
   {
    "duration": 10,
    "start_time": "2024-10-25T22:06:23.872Z"
   },
   {
    "duration": 15,
    "start_time": "2024-10-25T22:06:23.883Z"
   },
   {
    "duration": 16,
    "start_time": "2024-10-25T22:06:23.900Z"
   },
   {
    "duration": 59,
    "start_time": "2024-10-25T22:06:23.917Z"
   },
   {
    "duration": 55,
    "start_time": "2024-10-25T22:06:23.978Z"
   },
   {
    "duration": 21,
    "start_time": "2024-10-25T22:06:24.034Z"
   },
   {
    "duration": 51,
    "start_time": "2024-10-25T22:06:24.056Z"
   },
   {
    "duration": 41,
    "start_time": "2024-10-25T22:06:24.110Z"
   },
   {
    "duration": 7,
    "start_time": "2024-10-25T22:06:24.152Z"
   },
   {
    "duration": 15,
    "start_time": "2024-10-25T22:06:24.161Z"
   },
   {
    "duration": 16,
    "start_time": "2024-10-25T22:06:24.181Z"
   },
   {
    "duration": 6,
    "start_time": "2024-10-25T22:06:24.200Z"
   },
   {
    "duration": 46,
    "start_time": "2024-10-25T22:06:24.208Z"
   },
   {
    "duration": 18,
    "start_time": "2024-10-25T22:06:24.258Z"
   },
   {
    "duration": 7,
    "start_time": "2024-10-25T22:06:24.280Z"
   },
   {
    "duration": 62,
    "start_time": "2024-10-25T22:06:24.289Z"
   },
   {
    "duration": 7,
    "start_time": "2024-10-25T22:06:24.353Z"
   },
   {
    "duration": 21,
    "start_time": "2024-10-25T22:06:24.361Z"
   },
   {
    "duration": 7,
    "start_time": "2024-10-25T22:06:24.385Z"
   },
   {
    "duration": 45,
    "start_time": "2024-10-25T22:06:24.394Z"
   },
   {
    "duration": 27,
    "start_time": "2024-10-25T22:06:24.440Z"
   },
   {
    "duration": 16,
    "start_time": "2024-10-25T22:06:24.469Z"
   },
   {
    "duration": 19,
    "start_time": "2024-10-25T22:06:26.544Z"
   },
   {
    "duration": 7,
    "start_time": "2024-10-25T22:06:36.849Z"
   },
   {
    "duration": 7,
    "start_time": "2024-10-25T22:06:49.669Z"
   },
   {
    "duration": 6,
    "start_time": "2024-10-25T22:07:09.290Z"
   },
   {
    "duration": 154,
    "start_time": "2024-10-25T22:09:44.944Z"
   },
   {
    "duration": 42,
    "start_time": "2024-10-25T22:10:03.845Z"
   },
   {
    "duration": 22,
    "start_time": "2024-10-25T22:10:13.181Z"
   },
   {
    "duration": 21,
    "start_time": "2024-10-25T22:10:30.846Z"
   },
   {
    "duration": 12,
    "start_time": "2024-10-25T22:10:40.553Z"
   },
   {
    "duration": 15,
    "start_time": "2024-10-25T22:10:53.056Z"
   },
   {
    "duration": 16,
    "start_time": "2024-10-25T22:11:17.362Z"
   },
   {
    "duration": 15,
    "start_time": "2024-10-25T22:11:30.079Z"
   },
   {
    "duration": 35,
    "start_time": "2024-10-25T22:11:57.530Z"
   },
   {
    "duration": 21,
    "start_time": "2024-10-25T22:13:40.104Z"
   },
   {
    "duration": 3,
    "start_time": "2024-10-25T22:13:56.006Z"
   },
   {
    "duration": 42,
    "start_time": "2024-10-25T22:13:56.011Z"
   },
   {
    "duration": 84,
    "start_time": "2024-10-25T22:13:56.055Z"
   },
   {
    "duration": 42,
    "start_time": "2024-10-25T22:13:56.141Z"
   },
   {
    "duration": 5,
    "start_time": "2024-10-25T22:13:56.186Z"
   },
   {
    "duration": 64,
    "start_time": "2024-10-25T22:13:56.193Z"
   },
   {
    "duration": 8,
    "start_time": "2024-10-25T22:13:56.259Z"
   },
   {
    "duration": 7,
    "start_time": "2024-10-25T22:13:56.269Z"
   },
   {
    "duration": 7,
    "start_time": "2024-10-25T22:13:56.279Z"
   },
   {
    "duration": 7,
    "start_time": "2024-10-25T22:13:56.287Z"
   },
   {
    "duration": 54,
    "start_time": "2024-10-25T22:13:56.295Z"
   },
   {
    "duration": 8,
    "start_time": "2024-10-25T22:13:56.350Z"
   },
   {
    "duration": 9,
    "start_time": "2024-10-25T22:13:56.360Z"
   },
   {
    "duration": 8,
    "start_time": "2024-10-25T22:13:56.370Z"
   },
   {
    "duration": 9,
    "start_time": "2024-10-25T22:13:56.380Z"
   },
   {
    "duration": 8,
    "start_time": "2024-10-25T22:13:56.390Z"
   },
   {
    "duration": 34,
    "start_time": "2024-10-25T22:13:56.400Z"
   },
   {
    "duration": 9,
    "start_time": "2024-10-25T22:13:56.436Z"
   },
   {
    "duration": 9,
    "start_time": "2024-10-25T22:13:56.448Z"
   },
   {
    "duration": 15,
    "start_time": "2024-10-25T22:13:56.459Z"
   },
   {
    "duration": 6,
    "start_time": "2024-10-25T22:13:56.476Z"
   },
   {
    "duration": 63,
    "start_time": "2024-10-25T22:13:56.484Z"
   },
   {
    "duration": 74,
    "start_time": "2024-10-25T22:13:56.549Z"
   },
   {
    "duration": 24,
    "start_time": "2024-10-25T22:13:56.628Z"
   },
   {
    "duration": 70,
    "start_time": "2024-10-25T22:13:56.653Z"
   },
   {
    "duration": 27,
    "start_time": "2024-10-25T22:13:56.726Z"
   },
   {
    "duration": 6,
    "start_time": "2024-10-25T22:13:56.755Z"
   },
   {
    "duration": 20,
    "start_time": "2024-10-25T22:13:56.763Z"
   },
   {
    "duration": 19,
    "start_time": "2024-10-25T22:13:56.786Z"
   },
   {
    "duration": 38,
    "start_time": "2024-10-25T22:13:56.807Z"
   },
   {
    "duration": 20,
    "start_time": "2024-10-25T22:13:56.847Z"
   },
   {
    "duration": 17,
    "start_time": "2024-10-25T22:13:56.869Z"
   },
   {
    "duration": 7,
    "start_time": "2024-10-25T22:13:56.887Z"
   },
   {
    "duration": 57,
    "start_time": "2024-10-25T22:13:56.896Z"
   },
   {
    "duration": 8,
    "start_time": "2024-10-25T22:13:56.955Z"
   },
   {
    "duration": 30,
    "start_time": "2024-10-25T22:13:56.965Z"
   },
   {
    "duration": 9,
    "start_time": "2024-10-25T22:13:56.996Z"
   },
   {
    "duration": 39,
    "start_time": "2024-10-25T22:13:57.019Z"
   },
   {
    "duration": 21,
    "start_time": "2024-10-25T22:13:57.060Z"
   },
   {
    "duration": 17,
    "start_time": "2024-10-25T22:13:57.083Z"
   },
   {
    "duration": 29,
    "start_time": "2024-10-25T22:13:57.115Z"
   },
   {
    "duration": 9,
    "start_time": "2024-10-25T22:13:57.146Z"
   },
   {
    "duration": 11,
    "start_time": "2024-10-25T22:13:58.740Z"
   },
   {
    "duration": 131,
    "start_time": "2024-10-25T22:14:31.901Z"
   },
   {
    "duration": 27,
    "start_time": "2024-10-25T22:14:50.535Z"
   },
   {
    "duration": 32,
    "start_time": "2024-10-25T22:15:23.078Z"
   },
   {
    "duration": 4,
    "start_time": "2024-10-25T22:15:42.040Z"
   },
   {
    "duration": 39,
    "start_time": "2024-10-25T22:15:48.308Z"
   },
   {
    "duration": 36,
    "start_time": "2024-10-25T22:16:28.397Z"
   },
   {
    "duration": 28,
    "start_time": "2024-10-25T22:16:50.606Z"
   },
   {
    "duration": 45,
    "start_time": "2024-10-25T22:16:54.931Z"
   },
   {
    "duration": 28,
    "start_time": "2024-10-25T22:17:17.501Z"
   },
   {
    "duration": 19,
    "start_time": "2024-10-25T22:17:25.178Z"
   },
   {
    "duration": 43,
    "start_time": "2024-10-25T22:17:34.812Z"
   },
   {
    "duration": 29,
    "start_time": "2024-10-25T22:17:39.862Z"
   },
   {
    "duration": 36,
    "start_time": "2024-10-25T22:18:02.237Z"
   },
   {
    "duration": 25,
    "start_time": "2024-10-25T22:18:14.659Z"
   },
   {
    "duration": 41,
    "start_time": "2024-10-25T22:18:26.086Z"
   },
   {
    "duration": 29,
    "start_time": "2024-10-25T22:18:58.079Z"
   },
   {
    "duration": 24,
    "start_time": "2024-10-25T22:19:20.009Z"
   },
   {
    "duration": 52,
    "start_time": "2024-10-25T22:19:40.322Z"
   },
   {
    "duration": 14,
    "start_time": "2024-10-25T22:20:12.170Z"
   },
   {
    "duration": 4,
    "start_time": "2024-10-25T22:20:15.276Z"
   },
   {
    "duration": 8,
    "start_time": "2024-10-25T22:20:15.282Z"
   },
   {
    "duration": 92,
    "start_time": "2024-10-25T22:20:15.293Z"
   },
   {
    "duration": 38,
    "start_time": "2024-10-25T22:20:15.387Z"
   },
   {
    "duration": 12,
    "start_time": "2024-10-25T22:20:15.427Z"
   },
   {
    "duration": 56,
    "start_time": "2024-10-25T22:20:15.440Z"
   },
   {
    "duration": 10,
    "start_time": "2024-10-25T22:20:15.498Z"
   },
   {
    "duration": 25,
    "start_time": "2024-10-25T22:20:15.515Z"
   },
   {
    "duration": 6,
    "start_time": "2024-10-25T22:20:15.542Z"
   },
   {
    "duration": 8,
    "start_time": "2024-10-25T22:20:15.550Z"
   },
   {
    "duration": 6,
    "start_time": "2024-10-25T22:20:15.559Z"
   },
   {
    "duration": 8,
    "start_time": "2024-10-25T22:20:15.567Z"
   },
   {
    "duration": 7,
    "start_time": "2024-10-25T22:20:15.576Z"
   },
   {
    "duration": 8,
    "start_time": "2024-10-25T22:20:15.584Z"
   },
   {
    "duration": 8,
    "start_time": "2024-10-25T22:20:15.627Z"
   },
   {
    "duration": 8,
    "start_time": "2024-10-25T22:20:15.640Z"
   },
   {
    "duration": 7,
    "start_time": "2024-10-25T22:20:15.649Z"
   },
   {
    "duration": 5,
    "start_time": "2024-10-25T22:20:15.658Z"
   },
   {
    "duration": 8,
    "start_time": "2024-10-25T22:20:15.664Z"
   },
   {
    "duration": 15,
    "start_time": "2024-10-25T22:20:15.674Z"
   },
   {
    "duration": 8,
    "start_time": "2024-10-25T22:20:15.716Z"
   },
   {
    "duration": 51,
    "start_time": "2024-10-25T22:20:15.726Z"
   },
   {
    "duration": 54,
    "start_time": "2024-10-25T22:20:15.778Z"
   },
   {
    "duration": 11,
    "start_time": "2024-10-25T22:20:15.833Z"
   },
   {
    "duration": 51,
    "start_time": "2024-10-25T22:20:15.846Z"
   },
   {
    "duration": 38,
    "start_time": "2024-10-25T22:20:15.899Z"
   },
   {
    "duration": 6,
    "start_time": "2024-10-25T22:20:15.939Z"
   },
   {
    "duration": 15,
    "start_time": "2024-10-25T22:20:15.947Z"
   },
   {
    "duration": 16,
    "start_time": "2024-10-25T22:20:15.963Z"
   },
   {
    "duration": 8,
    "start_time": "2024-10-25T22:20:15.980Z"
   },
   {
    "duration": 35,
    "start_time": "2024-10-25T22:20:15.989Z"
   },
   {
    "duration": 17,
    "start_time": "2024-10-25T22:20:16.025Z"
   },
   {
    "duration": 9,
    "start_time": "2024-10-25T22:20:16.044Z"
   },
   {
    "duration": 84,
    "start_time": "2024-10-25T22:20:16.055Z"
   },
   {
    "duration": 8,
    "start_time": "2024-10-25T22:20:16.144Z"
   },
   {
    "duration": 22,
    "start_time": "2024-10-25T22:20:16.154Z"
   },
   {
    "duration": 7,
    "start_time": "2024-10-25T22:20:16.178Z"
   },
   {
    "duration": 48,
    "start_time": "2024-10-25T22:20:16.187Z"
   },
   {
    "duration": 17,
    "start_time": "2024-10-25T22:20:16.239Z"
   },
   {
    "duration": 19,
    "start_time": "2024-10-25T22:20:41.638Z"
   },
   {
    "duration": 30,
    "start_time": "2024-10-25T22:20:51.993Z"
   },
   {
    "duration": 2,
    "start_time": "2024-10-25T22:21:08.953Z"
   },
   {
    "duration": 6,
    "start_time": "2024-10-25T22:21:08.960Z"
   },
   {
    "duration": 79,
    "start_time": "2024-10-25T22:21:08.968Z"
   },
   {
    "duration": 40,
    "start_time": "2024-10-25T22:21:09.049Z"
   },
   {
    "duration": 5,
    "start_time": "2024-10-25T22:21:09.091Z"
   },
   {
    "duration": 67,
    "start_time": "2024-10-25T22:21:09.098Z"
   },
   {
    "duration": 8,
    "start_time": "2024-10-25T22:21:09.167Z"
   },
   {
    "duration": 7,
    "start_time": "2024-10-25T22:21:09.176Z"
   },
   {
    "duration": 6,
    "start_time": "2024-10-25T22:21:09.184Z"
   },
   {
    "duration": 44,
    "start_time": "2024-10-25T22:21:09.191Z"
   },
   {
    "duration": 6,
    "start_time": "2024-10-25T22:21:09.237Z"
   },
   {
    "duration": 8,
    "start_time": "2024-10-25T22:21:09.245Z"
   },
   {
    "duration": 7,
    "start_time": "2024-10-25T22:21:09.255Z"
   },
   {
    "duration": 8,
    "start_time": "2024-10-25T22:21:09.263Z"
   },
   {
    "duration": 8,
    "start_time": "2024-10-25T22:21:09.275Z"
   },
   {
    "duration": 8,
    "start_time": "2024-10-25T22:21:09.284Z"
   },
   {
    "duration": 43,
    "start_time": "2024-10-25T22:21:09.294Z"
   },
   {
    "duration": 5,
    "start_time": "2024-10-25T22:21:09.338Z"
   },
   {
    "duration": 9,
    "start_time": "2024-10-25T22:21:09.344Z"
   },
   {
    "duration": 15,
    "start_time": "2024-10-25T22:21:09.355Z"
   },
   {
    "duration": 6,
    "start_time": "2024-10-25T22:21:09.371Z"
   },
   {
    "duration": 69,
    "start_time": "2024-10-25T22:21:09.379Z"
   },
   {
    "duration": 39,
    "start_time": "2024-10-25T22:21:09.450Z"
   },
   {
    "duration": 8,
    "start_time": "2024-10-25T22:21:09.491Z"
   },
   {
    "duration": 68,
    "start_time": "2024-10-25T22:21:09.500Z"
   },
   {
    "duration": 11,
    "start_time": "2024-10-25T22:21:09.571Z"
   },
   {
    "duration": 5,
    "start_time": "2024-10-25T22:21:09.584Z"
   },
   {
    "duration": 31,
    "start_time": "2024-10-25T22:21:09.591Z"
   },
   {
    "duration": 21,
    "start_time": "2024-10-25T22:21:09.624Z"
   },
   {
    "duration": 7,
    "start_time": "2024-10-25T22:21:09.646Z"
   },
   {
    "duration": 17,
    "start_time": "2024-10-25T22:21:09.654Z"
   },
   {
    "duration": 13,
    "start_time": "2024-10-25T22:21:09.672Z"
   },
   {
    "duration": 26,
    "start_time": "2024-10-25T22:21:09.687Z"
   },
   {
    "duration": 44,
    "start_time": "2024-10-25T22:21:09.714Z"
   },
   {
    "duration": 7,
    "start_time": "2024-10-25T22:21:09.760Z"
   },
   {
    "duration": 21,
    "start_time": "2024-10-25T22:21:09.768Z"
   },
   {
    "duration": 46,
    "start_time": "2024-10-25T22:21:09.791Z"
   },
   {
    "duration": 22,
    "start_time": "2024-10-25T22:21:09.838Z"
   },
   {
    "duration": 18,
    "start_time": "2024-10-25T22:21:09.861Z"
   },
   {
    "duration": 5,
    "start_time": "2024-10-25T22:22:53.048Z"
   },
   {
    "duration": 4,
    "start_time": "2024-10-25T22:22:58.738Z"
   },
   {
    "duration": 13,
    "start_time": "2024-10-25T22:23:17.193Z"
   },
   {
    "duration": 14,
    "start_time": "2024-10-25T22:23:28.747Z"
   },
   {
    "duration": 28,
    "start_time": "2024-10-25T22:23:55.742Z"
   },
   {
    "duration": 14,
    "start_time": "2024-10-25T22:24:25.368Z"
   },
   {
    "duration": 12,
    "start_time": "2024-10-25T22:25:14.954Z"
   },
   {
    "duration": 96,
    "start_time": "2024-10-25T22:25:48.091Z"
   },
   {
    "duration": 18,
    "start_time": "2024-10-25T22:26:51.860Z"
   },
   {
    "duration": 16,
    "start_time": "2024-10-25T22:27:23.449Z"
   },
   {
    "duration": 29,
    "start_time": "2024-10-25T22:27:37.670Z"
   },
   {
    "duration": 17,
    "start_time": "2024-10-25T22:28:13.332Z"
   },
   {
    "duration": 19,
    "start_time": "2024-10-25T22:28:19.494Z"
   },
   {
    "duration": 32,
    "start_time": "2024-10-25T22:28:28.763Z"
   },
   {
    "duration": 5,
    "start_time": "2024-10-25T22:28:44.750Z"
   },
   {
    "duration": 15,
    "start_time": "2024-10-25T22:28:53.977Z"
   },
   {
    "duration": 30,
    "start_time": "2024-10-25T22:28:57.937Z"
   },
   {
    "duration": 2388,
    "start_time": "2024-10-26T17:49:45.482Z"
   },
   {
    "duration": 9,
    "start_time": "2024-10-26T17:49:47.872Z"
   },
   {
    "duration": 89,
    "start_time": "2024-10-26T17:49:47.882Z"
   },
   {
    "duration": 42,
    "start_time": "2024-10-26T17:49:47.974Z"
   },
   {
    "duration": 6,
    "start_time": "2024-10-26T17:49:48.018Z"
   },
   {
    "duration": 72,
    "start_time": "2024-10-26T17:49:48.026Z"
   },
   {
    "duration": 11,
    "start_time": "2024-10-26T17:49:48.100Z"
   },
   {
    "duration": 7,
    "start_time": "2024-10-26T17:49:48.113Z"
   },
   {
    "duration": 6,
    "start_time": "2024-10-26T17:49:48.121Z"
   },
   {
    "duration": 7,
    "start_time": "2024-10-26T17:49:48.131Z"
   },
   {
    "duration": 7,
    "start_time": "2024-10-26T17:49:48.139Z"
   },
   {
    "duration": 9,
    "start_time": "2024-10-26T17:49:48.148Z"
   },
   {
    "duration": 7,
    "start_time": "2024-10-26T17:49:48.158Z"
   },
   {
    "duration": 40,
    "start_time": "2024-10-26T17:49:48.167Z"
   },
   {
    "duration": 7,
    "start_time": "2024-10-26T17:49:48.209Z"
   },
   {
    "duration": 8,
    "start_time": "2024-10-26T17:49:48.218Z"
   },
   {
    "duration": 7,
    "start_time": "2024-10-26T17:49:48.227Z"
   },
   {
    "duration": 6,
    "start_time": "2024-10-26T17:49:48.235Z"
   },
   {
    "duration": 8,
    "start_time": "2024-10-26T17:49:48.243Z"
   },
   {
    "duration": 52,
    "start_time": "2024-10-26T17:49:48.253Z"
   },
   {
    "duration": 6,
    "start_time": "2024-10-26T17:49:48.307Z"
   },
   {
    "duration": 50,
    "start_time": "2024-10-26T17:49:48.315Z"
   },
   {
    "duration": 67,
    "start_time": "2024-10-26T17:49:48.367Z"
   },
   {
    "duration": 7,
    "start_time": "2024-10-26T17:49:48.436Z"
   },
   {
    "duration": 68,
    "start_time": "2024-10-26T17:49:48.445Z"
   },
   {
    "duration": 13,
    "start_time": "2024-10-26T17:49:48.514Z"
   },
   {
    "duration": 5,
    "start_time": "2024-10-26T17:49:48.528Z"
   },
   {
    "duration": 15,
    "start_time": "2024-10-26T17:49:48.538Z"
   },
   {
    "duration": 15,
    "start_time": "2024-10-26T17:49:48.555Z"
   },
   {
    "duration": 36,
    "start_time": "2024-10-26T17:49:48.571Z"
   },
   {
    "duration": 17,
    "start_time": "2024-10-26T17:49:48.608Z"
   },
   {
    "duration": 13,
    "start_time": "2024-10-26T17:49:48.626Z"
   },
   {
    "duration": 6,
    "start_time": "2024-10-26T17:49:48.641Z"
   },
   {
    "duration": 62,
    "start_time": "2024-10-26T17:49:48.648Z"
   },
   {
    "duration": 10,
    "start_time": "2024-10-26T17:49:48.711Z"
   },
   {
    "duration": 20,
    "start_time": "2024-10-26T17:49:48.723Z"
   },
   {
    "duration": 6,
    "start_time": "2024-10-26T17:49:48.745Z"
   },
   {
    "duration": 22,
    "start_time": "2024-10-26T17:49:48.753Z"
   },
   {
    "duration": 20,
    "start_time": "2024-10-26T17:49:48.805Z"
   },
   {
    "duration": 17,
    "start_time": "2024-10-26T17:49:48.826Z"
   },
   {
    "duration": 17,
    "start_time": "2024-10-26T17:49:48.845Z"
   },
   {
    "duration": 5,
    "start_time": "2024-10-26T17:49:48.864Z"
   },
   {
    "duration": 167,
    "start_time": "2024-10-26T17:49:48.871Z"
   },
   {
    "duration": 0,
    "start_time": "2024-10-26T17:49:49.040Z"
   },
   {
    "duration": 0,
    "start_time": "2024-10-26T17:49:49.041Z"
   },
   {
    "duration": 0,
    "start_time": "2024-10-26T17:49:49.042Z"
   },
   {
    "duration": 0,
    "start_time": "2024-10-26T17:49:49.043Z"
   },
   {
    "duration": 0,
    "start_time": "2024-10-26T17:49:49.044Z"
   },
   {
    "duration": 0,
    "start_time": "2024-10-26T17:49:49.046Z"
   },
   {
    "duration": 0,
    "start_time": "2024-10-26T17:49:49.047Z"
   },
   {
    "duration": 0,
    "start_time": "2024-10-26T17:49:49.049Z"
   },
   {
    "duration": 0,
    "start_time": "2024-10-26T17:49:49.051Z"
   },
   {
    "duration": 0,
    "start_time": "2024-10-26T17:49:49.052Z"
   },
   {
    "duration": 15,
    "start_time": "2024-10-26T17:50:22.053Z"
   },
   {
    "duration": 25,
    "start_time": "2024-10-26T17:51:47.592Z"
   },
   {
    "duration": 125,
    "start_time": "2024-10-26T17:52:02.545Z"
   },
   {
    "duration": 31,
    "start_time": "2024-10-26T17:52:08.599Z"
   },
   {
    "duration": 27,
    "start_time": "2024-10-26T17:53:06.955Z"
   },
   {
    "duration": 29,
    "start_time": "2024-10-26T17:54:12.044Z"
   },
   {
    "duration": 25,
    "start_time": "2024-10-26T17:55:00.575Z"
   },
   {
    "duration": 23,
    "start_time": "2024-10-26T17:57:10.070Z"
   },
   {
    "duration": 18,
    "start_time": "2024-10-26T17:57:37.970Z"
   },
   {
    "duration": 3,
    "start_time": "2024-10-26T17:57:54.763Z"
   },
   {
    "duration": 27,
    "start_time": "2024-10-26T17:58:04.582Z"
   },
   {
    "duration": 16,
    "start_time": "2024-10-26T17:58:32.914Z"
   },
   {
    "duration": 28,
    "start_time": "2024-10-26T17:59:33.883Z"
   },
   {
    "duration": 22,
    "start_time": "2024-10-26T17:59:53.375Z"
   },
   {
    "duration": 22,
    "start_time": "2024-10-26T18:03:32.059Z"
   },
   {
    "duration": 17,
    "start_time": "2024-10-26T18:03:38.063Z"
   },
   {
    "duration": 17,
    "start_time": "2024-10-26T18:03:45.236Z"
   },
   {
    "duration": 15,
    "start_time": "2024-10-26T18:03:49.650Z"
   },
   {
    "duration": 30,
    "start_time": "2024-10-26T18:04:34.618Z"
   },
   {
    "duration": 25,
    "start_time": "2024-10-26T18:04:47.513Z"
   },
   {
    "duration": 53,
    "start_time": "2024-10-26T18:05:16.479Z"
   },
   {
    "duration": 51,
    "start_time": "2024-10-26T18:05:25.553Z"
   },
   {
    "duration": 132,
    "start_time": "2024-10-26T18:05:41.198Z"
   },
   {
    "duration": 39,
    "start_time": "2024-10-26T18:05:51.471Z"
   },
   {
    "duration": 3,
    "start_time": "2024-10-26T18:06:01.119Z"
   },
   {
    "duration": 8,
    "start_time": "2024-10-26T18:06:01.124Z"
   },
   {
    "duration": 62,
    "start_time": "2024-10-26T18:06:01.134Z"
   },
   {
    "duration": 35,
    "start_time": "2024-10-26T18:06:01.198Z"
   },
   {
    "duration": 5,
    "start_time": "2024-10-26T18:06:01.236Z"
   },
   {
    "duration": 75,
    "start_time": "2024-10-26T18:06:01.242Z"
   },
   {
    "duration": 8,
    "start_time": "2024-10-26T18:06:01.318Z"
   },
   {
    "duration": 6,
    "start_time": "2024-10-26T18:06:01.328Z"
   },
   {
    "duration": 5,
    "start_time": "2024-10-26T18:06:01.336Z"
   },
   {
    "duration": 6,
    "start_time": "2024-10-26T18:06:01.343Z"
   },
   {
    "duration": 6,
    "start_time": "2024-10-26T18:06:01.351Z"
   },
   {
    "duration": 8,
    "start_time": "2024-10-26T18:06:01.359Z"
   },
   {
    "duration": 42,
    "start_time": "2024-10-26T18:06:01.368Z"
   },
   {
    "duration": 8,
    "start_time": "2024-10-26T18:06:01.414Z"
   },
   {
    "duration": 8,
    "start_time": "2024-10-26T18:06:01.423Z"
   },
   {
    "duration": 7,
    "start_time": "2024-10-26T18:06:01.433Z"
   },
   {
    "duration": 7,
    "start_time": "2024-10-26T18:06:01.442Z"
   },
   {
    "duration": 5,
    "start_time": "2024-10-26T18:06:01.450Z"
   },
   {
    "duration": 8,
    "start_time": "2024-10-26T18:06:01.456Z"
   },
   {
    "duration": 14,
    "start_time": "2024-10-26T18:06:01.505Z"
   },
   {
    "duration": 6,
    "start_time": "2024-10-26T18:06:01.522Z"
   },
   {
    "duration": 43,
    "start_time": "2024-10-26T18:06:01.530Z"
   },
   {
    "duration": 64,
    "start_time": "2024-10-26T18:06:01.575Z"
   },
   {
    "duration": 8,
    "start_time": "2024-10-26T18:06:01.641Z"
   },
   {
    "duration": 61,
    "start_time": "2024-10-26T18:06:01.651Z"
   },
   {
    "duration": 12,
    "start_time": "2024-10-26T18:06:01.714Z"
   },
   {
    "duration": 5,
    "start_time": "2024-10-26T18:06:01.729Z"
   },
   {
    "duration": 14,
    "start_time": "2024-10-26T18:06:01.736Z"
   },
   {
    "duration": 15,
    "start_time": "2024-10-26T18:06:01.751Z"
   },
   {
    "duration": 37,
    "start_time": "2024-10-26T18:06:01.768Z"
   },
   {
    "duration": 17,
    "start_time": "2024-10-26T18:06:01.806Z"
   },
   {
    "duration": 12,
    "start_time": "2024-10-26T18:06:01.826Z"
   },
   {
    "duration": 6,
    "start_time": "2024-10-26T18:06:01.839Z"
   },
   {
    "duration": 34,
    "start_time": "2024-10-26T18:06:01.847Z"
   },
   {
    "duration": 7,
    "start_time": "2024-10-26T18:06:01.904Z"
   },
   {
    "duration": 27,
    "start_time": "2024-10-26T18:06:01.913Z"
   },
   {
    "duration": 7,
    "start_time": "2024-10-26T18:06:01.942Z"
   },
   {
    "duration": 20,
    "start_time": "2024-10-26T18:06:01.951Z"
   },
   {
    "duration": 45,
    "start_time": "2024-10-26T18:06:01.972Z"
   },
   {
    "duration": 16,
    "start_time": "2024-10-26T18:06:03.829Z"
   },
   {
    "duration": 365,
    "start_time": "2024-10-26T18:06:51.840Z"
   },
   {
    "duration": 16,
    "start_time": "2024-10-26T18:07:01.596Z"
   },
   {
    "duration": 27,
    "start_time": "2024-10-26T18:07:08.792Z"
   },
   {
    "duration": 19,
    "start_time": "2024-10-26T18:07:14.751Z"
   },
   {
    "duration": 14,
    "start_time": "2024-10-26T18:07:40.035Z"
   },
   {
    "duration": 26,
    "start_time": "2024-10-26T18:07:58.599Z"
   },
   {
    "duration": 360,
    "start_time": "2024-10-26T18:08:18.618Z"
   },
   {
    "duration": 15,
    "start_time": "2024-10-26T18:08:37.166Z"
   },
   {
    "duration": 15,
    "start_time": "2024-10-26T18:09:02.642Z"
   },
   {
    "duration": 16,
    "start_time": "2024-10-26T18:09:37.073Z"
   },
   {
    "duration": 22,
    "start_time": "2024-10-26T18:10:37.868Z"
   },
   {
    "duration": 21,
    "start_time": "2024-10-26T18:10:42.855Z"
   },
   {
    "duration": 19,
    "start_time": "2024-10-26T18:11:00.849Z"
   },
   {
    "duration": 22,
    "start_time": "2024-10-26T18:11:12.050Z"
   },
   {
    "duration": 16,
    "start_time": "2024-10-26T18:11:38.951Z"
   },
   {
    "duration": 20,
    "start_time": "2024-10-26T18:12:04.535Z"
   },
   {
    "duration": 2,
    "start_time": "2024-10-26T18:13:28.528Z"
   },
   {
    "duration": 8,
    "start_time": "2024-10-26T18:13:28.532Z"
   },
   {
    "duration": 61,
    "start_time": "2024-10-26T18:13:28.541Z"
   },
   {
    "duration": 32,
    "start_time": "2024-10-26T18:13:28.605Z"
   },
   {
    "duration": 6,
    "start_time": "2024-10-26T18:13:28.638Z"
   },
   {
    "duration": 63,
    "start_time": "2024-10-26T18:13:28.645Z"
   },
   {
    "duration": 14,
    "start_time": "2024-10-26T18:13:28.710Z"
   },
   {
    "duration": 8,
    "start_time": "2024-10-26T18:13:28.725Z"
   },
   {
    "duration": 5,
    "start_time": "2024-10-26T18:13:28.735Z"
   },
   {
    "duration": 8,
    "start_time": "2024-10-26T18:13:28.742Z"
   },
   {
    "duration": 6,
    "start_time": "2024-10-26T18:13:28.752Z"
   },
   {
    "duration": 8,
    "start_time": "2024-10-26T18:13:28.759Z"
   },
   {
    "duration": 39,
    "start_time": "2024-10-26T18:13:28.769Z"
   },
   {
    "duration": 8,
    "start_time": "2024-10-26T18:13:28.809Z"
   },
   {
    "duration": 8,
    "start_time": "2024-10-26T18:13:28.819Z"
   },
   {
    "duration": 8,
    "start_time": "2024-10-26T18:13:28.829Z"
   },
   {
    "duration": 6,
    "start_time": "2024-10-26T18:13:28.838Z"
   },
   {
    "duration": 5,
    "start_time": "2024-10-26T18:13:28.846Z"
   },
   {
    "duration": 8,
    "start_time": "2024-10-26T18:13:28.853Z"
   },
   {
    "duration": 16,
    "start_time": "2024-10-26T18:13:28.906Z"
   },
   {
    "duration": 7,
    "start_time": "2024-10-26T18:13:28.923Z"
   },
   {
    "duration": 45,
    "start_time": "2024-10-26T18:13:28.932Z"
   },
   {
    "duration": 59,
    "start_time": "2024-10-26T18:13:28.979Z"
   },
   {
    "duration": 7,
    "start_time": "2024-10-26T18:13:29.042Z"
   },
   {
    "duration": 68,
    "start_time": "2024-10-26T18:13:29.052Z"
   },
   {
    "duration": 14,
    "start_time": "2024-10-26T18:13:29.122Z"
   },
   {
    "duration": 5,
    "start_time": "2024-10-26T18:13:29.138Z"
   },
   {
    "duration": 15,
    "start_time": "2024-10-26T18:13:29.145Z"
   },
   {
    "duration": 15,
    "start_time": "2024-10-26T18:13:29.162Z"
   },
   {
    "duration": 6,
    "start_time": "2024-10-26T18:13:29.206Z"
   },
   {
    "duration": 17,
    "start_time": "2024-10-26T18:13:29.213Z"
   },
   {
    "duration": 13,
    "start_time": "2024-10-26T18:13:29.232Z"
   },
   {
    "duration": 6,
    "start_time": "2024-10-26T18:13:29.246Z"
   },
   {
    "duration": 61,
    "start_time": "2024-10-26T18:13:29.253Z"
   },
   {
    "duration": 8,
    "start_time": "2024-10-26T18:13:29.315Z"
   },
   {
    "duration": 20,
    "start_time": "2024-10-26T18:13:29.326Z"
   },
   {
    "duration": 6,
    "start_time": "2024-10-26T18:13:29.348Z"
   },
   {
    "duration": 49,
    "start_time": "2024-10-26T18:13:29.356Z"
   },
   {
    "duration": 17,
    "start_time": "2024-10-26T18:13:29.407Z"
   },
   {
    "duration": 18,
    "start_time": "2024-10-26T18:13:29.425Z"
   },
   {
    "duration": 17,
    "start_time": "2024-10-26T18:13:29.444Z"
   },
   {
    "duration": 5,
    "start_time": "2024-10-26T18:13:29.463Z"
   },
   {
    "duration": 20,
    "start_time": "2024-10-26T18:13:30.799Z"
   },
   {
    "duration": 25,
    "start_time": "2024-10-26T18:13:53.214Z"
   },
   {
    "duration": 48,
    "start_time": "2024-10-26T18:15:36.756Z"
   },
   {
    "duration": 18,
    "start_time": "2024-10-26T18:15:49.930Z"
   },
   {
    "duration": 23,
    "start_time": "2024-10-26T18:16:02.715Z"
   },
   {
    "duration": 20,
    "start_time": "2024-10-26T18:16:57.750Z"
   },
   {
    "duration": 22,
    "start_time": "2024-10-26T18:17:03.938Z"
   },
   {
    "duration": 24,
    "start_time": "2024-10-26T18:17:24.347Z"
   },
   {
    "duration": 5,
    "start_time": "2024-10-26T18:18:39.611Z"
   },
   {
    "duration": 24,
    "start_time": "2024-10-26T18:18:42.692Z"
   },
   {
    "duration": 16,
    "start_time": "2024-10-26T18:19:15.653Z"
   },
   {
    "duration": 18,
    "start_time": "2024-10-26T18:20:45.930Z"
   },
   {
    "duration": 18,
    "start_time": "2024-10-26T18:25:08.245Z"
   },
   {
    "duration": 317,
    "start_time": "2024-10-26T18:25:38.594Z"
   },
   {
    "duration": 17,
    "start_time": "2024-10-26T18:25:50.229Z"
   },
   {
    "duration": 18,
    "start_time": "2024-10-26T18:25:54.842Z"
   },
   {
    "duration": 14,
    "start_time": "2024-10-26T18:26:00.936Z"
   },
   {
    "duration": 25,
    "start_time": "2024-10-26T18:28:05.582Z"
   },
   {
    "duration": 10,
    "start_time": "2024-10-26T18:28:31.578Z"
   },
   {
    "duration": 12,
    "start_time": "2024-10-26T18:28:41.721Z"
   },
   {
    "duration": 12,
    "start_time": "2024-10-26T18:28:56.704Z"
   },
   {
    "duration": 12,
    "start_time": "2024-10-26T18:29:04.487Z"
   },
   {
    "duration": 15,
    "start_time": "2024-10-26T18:29:08.412Z"
   },
   {
    "duration": 15,
    "start_time": "2024-10-26T18:31:01.783Z"
   },
   {
    "duration": 14,
    "start_time": "2024-10-26T18:32:22.570Z"
   },
   {
    "duration": 22,
    "start_time": "2024-10-26T18:32:26.619Z"
   },
   {
    "duration": 23,
    "start_time": "2024-10-26T18:32:34.037Z"
   },
   {
    "duration": 23,
    "start_time": "2024-10-26T18:32:40.460Z"
   },
   {
    "duration": 23,
    "start_time": "2024-10-26T18:33:17.938Z"
   },
   {
    "duration": 23,
    "start_time": "2024-10-26T18:35:00.736Z"
   },
   {
    "duration": 15,
    "start_time": "2024-10-26T18:35:21.056Z"
   },
   {
    "duration": 20,
    "start_time": "2024-10-26T18:35:27.115Z"
   },
   {
    "duration": 18,
    "start_time": "2024-10-26T18:35:42.063Z"
   },
   {
    "duration": 19,
    "start_time": "2024-10-26T18:35:49.764Z"
   },
   {
    "duration": 18,
    "start_time": "2024-10-26T18:36:10.920Z"
   },
   {
    "duration": 34,
    "start_time": "2024-10-26T18:36:26.922Z"
   },
   {
    "duration": 16,
    "start_time": "2024-10-26T18:36:46.732Z"
   },
   {
    "duration": 13,
    "start_time": "2024-10-26T18:37:04.861Z"
   },
   {
    "duration": 19,
    "start_time": "2024-10-26T18:37:15.704Z"
   },
   {
    "duration": 17,
    "start_time": "2024-10-26T18:37:49.213Z"
   },
   {
    "duration": 19,
    "start_time": "2024-10-26T18:38:02.521Z"
   },
   {
    "duration": 23,
    "start_time": "2024-10-26T18:38:43.240Z"
   },
   {
    "duration": 25,
    "start_time": "2024-10-26T18:38:48.382Z"
   },
   {
    "duration": 22,
    "start_time": "2024-10-26T18:38:50.995Z"
   },
   {
    "duration": 13,
    "start_time": "2024-10-26T18:39:02.328Z"
   },
   {
    "duration": 25,
    "start_time": "2024-10-26T18:39:09.285Z"
   },
   {
    "duration": 25,
    "start_time": "2024-10-26T18:39:11.814Z"
   },
   {
    "duration": 2,
    "start_time": "2024-10-26T18:39:21.166Z"
   },
   {
    "duration": 7,
    "start_time": "2024-10-26T18:39:21.174Z"
   },
   {
    "duration": 67,
    "start_time": "2024-10-26T18:39:21.183Z"
   },
   {
    "duration": 32,
    "start_time": "2024-10-26T18:39:21.252Z"
   },
   {
    "duration": 6,
    "start_time": "2024-10-26T18:39:21.286Z"
   },
   {
    "duration": 55,
    "start_time": "2024-10-26T18:39:21.295Z"
   },
   {
    "duration": 8,
    "start_time": "2024-10-26T18:39:21.352Z"
   },
   {
    "duration": 6,
    "start_time": "2024-10-26T18:39:21.362Z"
   },
   {
    "duration": 6,
    "start_time": "2024-10-26T18:39:21.369Z"
   },
   {
    "duration": 30,
    "start_time": "2024-10-26T18:39:21.376Z"
   },
   {
    "duration": 6,
    "start_time": "2024-10-26T18:39:21.407Z"
   },
   {
    "duration": 9,
    "start_time": "2024-10-26T18:39:21.415Z"
   },
   {
    "duration": 7,
    "start_time": "2024-10-26T18:39:21.425Z"
   },
   {
    "duration": 9,
    "start_time": "2024-10-26T18:39:21.434Z"
   },
   {
    "duration": 8,
    "start_time": "2024-10-26T18:39:21.447Z"
   },
   {
    "duration": 7,
    "start_time": "2024-10-26T18:39:21.457Z"
   },
   {
    "duration": 8,
    "start_time": "2024-10-26T18:39:21.505Z"
   },
   {
    "duration": 6,
    "start_time": "2024-10-26T18:39:21.515Z"
   },
   {
    "duration": 10,
    "start_time": "2024-10-26T18:39:21.522Z"
   },
   {
    "duration": 15,
    "start_time": "2024-10-26T18:39:21.535Z"
   },
   {
    "duration": 6,
    "start_time": "2024-10-26T18:39:21.551Z"
   },
   {
    "duration": 81,
    "start_time": "2024-10-26T18:39:21.559Z"
   },
   {
    "duration": 40,
    "start_time": "2024-10-26T18:39:21.641Z"
   },
   {
    "duration": 25,
    "start_time": "2024-10-26T18:39:21.682Z"
   },
   {
    "duration": 50,
    "start_time": "2024-10-26T18:39:21.709Z"
   },
   {
    "duration": 12,
    "start_time": "2024-10-26T18:39:21.761Z"
   },
   {
    "duration": 7,
    "start_time": "2024-10-26T18:39:21.774Z"
   },
   {
    "duration": 16,
    "start_time": "2024-10-26T18:39:21.806Z"
   },
   {
    "duration": 16,
    "start_time": "2024-10-26T18:39:21.823Z"
   },
   {
    "duration": 6,
    "start_time": "2024-10-26T18:39:21.841Z"
   },
   {
    "duration": 17,
    "start_time": "2024-10-26T18:39:21.849Z"
   },
   {
    "duration": 43,
    "start_time": "2024-10-26T18:39:21.868Z"
   },
   {
    "duration": 11,
    "start_time": "2024-10-26T18:39:21.914Z"
   },
   {
    "duration": 41,
    "start_time": "2024-10-26T18:39:21.928Z"
   },
   {
    "duration": 7,
    "start_time": "2024-10-26T18:39:21.971Z"
   },
   {
    "duration": 38,
    "start_time": "2024-10-26T18:39:21.979Z"
   },
   {
    "duration": 7,
    "start_time": "2024-10-26T18:39:22.019Z"
   },
   {
    "duration": 24,
    "start_time": "2024-10-26T18:39:22.028Z"
   },
   {
    "duration": 16,
    "start_time": "2024-10-26T18:39:22.054Z"
   },
   {
    "duration": 46,
    "start_time": "2024-10-26T18:39:22.071Z"
   },
   {
    "duration": 16,
    "start_time": "2024-10-26T18:39:22.119Z"
   },
   {
    "duration": 5,
    "start_time": "2024-10-26T18:39:22.139Z"
   },
   {
    "duration": 23,
    "start_time": "2024-10-26T18:39:22.146Z"
   },
   {
    "duration": 20,
    "start_time": "2024-10-26T18:39:24.137Z"
   },
   {
    "duration": 20,
    "start_time": "2024-10-26T18:39:39.119Z"
   },
   {
    "duration": 10,
    "start_time": "2024-10-26T18:40:14.190Z"
   },
   {
    "duration": 4,
    "start_time": "2024-10-26T18:44:10.662Z"
   },
   {
    "duration": 14,
    "start_time": "2024-10-26T18:44:32.202Z"
   },
   {
    "duration": 5,
    "start_time": "2024-10-26T18:44:36.152Z"
   },
   {
    "duration": 9,
    "start_time": "2024-10-26T18:45:12.088Z"
   },
   {
    "duration": 11,
    "start_time": "2024-10-26T18:45:49.956Z"
   },
   {
    "duration": 11,
    "start_time": "2024-10-26T18:46:01.291Z"
   },
   {
    "duration": 13,
    "start_time": "2024-10-26T18:47:17.895Z"
   },
   {
    "duration": 132,
    "start_time": "2024-10-26T18:47:34.054Z"
   },
   {
    "duration": 30,
    "start_time": "2024-10-26T18:47:38.896Z"
   },
   {
    "duration": 4,
    "start_time": "2024-10-26T18:47:50.226Z"
   },
   {
    "duration": 4,
    "start_time": "2024-10-26T18:47:55.705Z"
   },
   {
    "duration": 149,
    "start_time": "2024-10-26T18:49:11.311Z"
   },
   {
    "duration": 40,
    "start_time": "2024-10-26T18:49:18.737Z"
   },
   {
    "duration": 4,
    "start_time": "2024-10-26T18:49:30.744Z"
   },
   {
    "duration": 7,
    "start_time": "2024-10-26T18:49:30.752Z"
   },
   {
    "duration": 66,
    "start_time": "2024-10-26T18:49:30.761Z"
   },
   {
    "duration": 34,
    "start_time": "2024-10-26T18:49:30.829Z"
   },
   {
    "duration": 6,
    "start_time": "2024-10-26T18:49:30.864Z"
   },
   {
    "duration": 57,
    "start_time": "2024-10-26T18:49:30.872Z"
   },
   {
    "duration": 8,
    "start_time": "2024-10-26T18:49:30.931Z"
   },
   {
    "duration": 8,
    "start_time": "2024-10-26T18:49:30.941Z"
   },
   {
    "duration": 6,
    "start_time": "2024-10-26T18:49:30.950Z"
   },
   {
    "duration": 7,
    "start_time": "2024-10-26T18:49:30.957Z"
   },
   {
    "duration": 8,
    "start_time": "2024-10-26T18:49:30.966Z"
   },
   {
    "duration": 8,
    "start_time": "2024-10-26T18:49:31.006Z"
   },
   {
    "duration": 9,
    "start_time": "2024-10-26T18:49:31.015Z"
   },
   {
    "duration": 8,
    "start_time": "2024-10-26T18:49:31.025Z"
   },
   {
    "duration": 8,
    "start_time": "2024-10-26T18:49:31.038Z"
   },
   {
    "duration": 9,
    "start_time": "2024-10-26T18:49:31.048Z"
   },
   {
    "duration": 47,
    "start_time": "2024-10-26T18:49:31.058Z"
   },
   {
    "duration": 5,
    "start_time": "2024-10-26T18:49:31.107Z"
   },
   {
    "duration": 9,
    "start_time": "2024-10-26T18:49:31.114Z"
   },
   {
    "duration": 15,
    "start_time": "2024-10-26T18:49:31.124Z"
   },
   {
    "duration": 6,
    "start_time": "2024-10-26T18:49:31.140Z"
   },
   {
    "duration": 74,
    "start_time": "2024-10-26T18:49:31.148Z"
   },
   {
    "duration": 44,
    "start_time": "2024-10-26T18:49:31.224Z"
   },
   {
    "duration": 10,
    "start_time": "2024-10-26T18:49:31.270Z"
   },
   {
    "duration": 66,
    "start_time": "2024-10-26T18:49:31.286Z"
   },
   {
    "duration": 12,
    "start_time": "2024-10-26T18:49:31.354Z"
   },
   {
    "duration": 5,
    "start_time": "2024-10-26T18:49:31.368Z"
   },
   {
    "duration": 36,
    "start_time": "2024-10-26T18:49:31.375Z"
   },
   {
    "duration": 17,
    "start_time": "2024-10-26T18:49:31.412Z"
   },
   {
    "duration": 6,
    "start_time": "2024-10-26T18:49:31.431Z"
   },
   {
    "duration": 18,
    "start_time": "2024-10-26T18:49:31.438Z"
   },
   {
    "duration": 14,
    "start_time": "2024-10-26T18:49:31.457Z"
   },
   {
    "duration": 36,
    "start_time": "2024-10-26T18:49:31.473Z"
   },
   {
    "duration": 36,
    "start_time": "2024-10-26T18:49:31.511Z"
   },
   {
    "duration": 7,
    "start_time": "2024-10-26T18:49:31.549Z"
   },
   {
    "duration": 21,
    "start_time": "2024-10-26T18:49:31.557Z"
   },
   {
    "duration": 32,
    "start_time": "2024-10-26T18:49:31.579Z"
   },
   {
    "duration": 23,
    "start_time": "2024-10-26T18:49:31.612Z"
   },
   {
    "duration": 15,
    "start_time": "2024-10-26T18:49:31.637Z"
   },
   {
    "duration": 17,
    "start_time": "2024-10-26T18:49:31.654Z"
   },
   {
    "duration": 47,
    "start_time": "2024-10-26T18:49:31.673Z"
   },
   {
    "duration": 6,
    "start_time": "2024-10-26T18:49:31.724Z"
   },
   {
    "duration": 24,
    "start_time": "2024-10-26T18:49:31.731Z"
   },
   {
    "duration": 18,
    "start_time": "2024-10-26T18:49:31.756Z"
   },
   {
    "duration": 52,
    "start_time": "2024-10-26T18:49:34.090Z"
   },
   {
    "duration": 51,
    "start_time": "2024-10-26T18:50:11.673Z"
   },
   {
    "duration": 3,
    "start_time": "2024-10-26T18:50:14.897Z"
   },
   {
    "duration": 7,
    "start_time": "2024-10-26T18:50:14.905Z"
   },
   {
    "duration": 64,
    "start_time": "2024-10-26T18:50:14.914Z"
   },
   {
    "duration": 49,
    "start_time": "2024-10-26T18:50:14.979Z"
   },
   {
    "duration": 7,
    "start_time": "2024-10-26T18:50:15.029Z"
   },
   {
    "duration": 48,
    "start_time": "2024-10-26T18:50:15.038Z"
   },
   {
    "duration": 22,
    "start_time": "2024-10-26T18:50:15.088Z"
   },
   {
    "duration": 7,
    "start_time": "2024-10-26T18:50:15.112Z"
   },
   {
    "duration": 6,
    "start_time": "2024-10-26T18:50:15.122Z"
   },
   {
    "duration": 7,
    "start_time": "2024-10-26T18:50:15.129Z"
   },
   {
    "duration": 6,
    "start_time": "2024-10-26T18:50:15.138Z"
   },
   {
    "duration": 8,
    "start_time": "2024-10-26T18:50:15.147Z"
   },
   {
    "duration": 8,
    "start_time": "2024-10-26T18:50:15.156Z"
   },
   {
    "duration": 39,
    "start_time": "2024-10-26T18:50:15.167Z"
   },
   {
    "duration": 8,
    "start_time": "2024-10-26T18:50:15.210Z"
   },
   {
    "duration": 8,
    "start_time": "2024-10-26T18:50:15.220Z"
   },
   {
    "duration": 7,
    "start_time": "2024-10-26T18:50:15.229Z"
   },
   {
    "duration": 4,
    "start_time": "2024-10-26T18:50:15.238Z"
   },
   {
    "duration": 9,
    "start_time": "2024-10-26T18:50:15.243Z"
   },
   {
    "duration": 56,
    "start_time": "2024-10-26T18:50:15.254Z"
   },
   {
    "duration": 6,
    "start_time": "2024-10-26T18:50:15.311Z"
   },
   {
    "duration": 45,
    "start_time": "2024-10-26T18:50:15.319Z"
   },
   {
    "duration": 60,
    "start_time": "2024-10-26T18:50:15.365Z"
   },
   {
    "duration": 7,
    "start_time": "2024-10-26T18:50:15.427Z"
   },
   {
    "duration": 48,
    "start_time": "2024-10-26T18:50:15.436Z"
   },
   {
    "duration": 11,
    "start_time": "2024-10-26T18:50:15.504Z"
   },
   {
    "duration": 11,
    "start_time": "2024-10-26T18:50:15.517Z"
   },
   {
    "duration": 15,
    "start_time": "2024-10-26T18:50:15.529Z"
   },
   {
    "duration": 15,
    "start_time": "2024-10-26T18:50:15.546Z"
   },
   {
    "duration": 7,
    "start_time": "2024-10-26T18:50:15.563Z"
   },
   {
    "duration": 44,
    "start_time": "2024-10-26T18:50:15.572Z"
   },
   {
    "duration": 13,
    "start_time": "2024-10-26T18:50:15.618Z"
   },
   {
    "duration": 6,
    "start_time": "2024-10-26T18:50:15.633Z"
   },
   {
    "duration": 37,
    "start_time": "2024-10-26T18:50:15.640Z"
   },
   {
    "duration": 31,
    "start_time": "2024-10-26T18:50:15.679Z"
   },
   {
    "duration": 21,
    "start_time": "2024-10-26T18:50:15.711Z"
   },
   {
    "duration": 7,
    "start_time": "2024-10-26T18:50:15.733Z"
   },
   {
    "duration": 24,
    "start_time": "2024-10-26T18:50:15.742Z"
   },
   {
    "duration": 40,
    "start_time": "2024-10-26T18:50:15.768Z"
   },
   {
    "duration": 18,
    "start_time": "2024-10-26T18:50:15.810Z"
   },
   {
    "duration": 18,
    "start_time": "2024-10-26T18:50:15.829Z"
   },
   {
    "duration": 8,
    "start_time": "2024-10-26T18:50:15.853Z"
   },
   {
    "duration": 50,
    "start_time": "2024-10-26T18:50:15.863Z"
   },
   {
    "duration": 20,
    "start_time": "2024-10-26T18:50:15.914Z"
   },
   {
    "duration": 10,
    "start_time": "2024-10-26T18:50:15.936Z"
   },
   {
    "duration": 3,
    "start_time": "2024-10-26T18:50:18.348Z"
   },
   {
    "duration": 4,
    "start_time": "2024-10-26T18:50:36.516Z"
   },
   {
    "duration": 3,
    "start_time": "2024-10-26T18:50:44.321Z"
   },
   {
    "duration": 5,
    "start_time": "2024-10-26T18:52:26.121Z"
   },
   {
    "duration": 4,
    "start_time": "2024-10-26T18:53:00.996Z"
   },
   {
    "duration": 5,
    "start_time": "2024-10-26T18:54:06.411Z"
   },
   {
    "duration": 5,
    "start_time": "2024-10-26T18:54:09.899Z"
   },
   {
    "duration": 18,
    "start_time": "2024-10-26T18:54:22.638Z"
   },
   {
    "duration": 6,
    "start_time": "2024-10-26T18:55:18.689Z"
   },
   {
    "duration": 5,
    "start_time": "2024-10-26T18:55:37.983Z"
   },
   {
    "duration": 5,
    "start_time": "2024-10-26T18:57:00.011Z"
   },
   {
    "duration": 13,
    "start_time": "2024-10-26T18:57:06.061Z"
   },
   {
    "duration": 12,
    "start_time": "2024-10-26T18:57:12.925Z"
   },
   {
    "duration": 12,
    "start_time": "2024-10-26T18:57:58.359Z"
   },
   {
    "duration": 15,
    "start_time": "2024-10-26T18:58:21.905Z"
   },
   {
    "duration": 57,
    "start_time": "2024-10-26T18:58:27.570Z"
   },
   {
    "duration": 5,
    "start_time": "2024-10-26T18:59:41.315Z"
   },
   {
    "duration": 19,
    "start_time": "2024-10-26T18:59:47.239Z"
   },
   {
    "duration": 14,
    "start_time": "2024-10-26T19:00:16.652Z"
   },
   {
    "duration": 17,
    "start_time": "2024-10-26T19:00:24.588Z"
   },
   {
    "duration": 17,
    "start_time": "2024-10-26T19:00:51.877Z"
   },
   {
    "duration": 13,
    "start_time": "2024-10-26T19:01:05.308Z"
   },
   {
    "duration": 14,
    "start_time": "2024-10-26T19:02:02.068Z"
   },
   {
    "duration": 3,
    "start_time": "2024-10-26T19:02:17.536Z"
   },
   {
    "duration": 8,
    "start_time": "2024-10-26T19:02:22.703Z"
   },
   {
    "duration": 3,
    "start_time": "2024-10-26T19:02:38.824Z"
   },
   {
    "duration": 5,
    "start_time": "2024-10-26T19:02:44.689Z"
   },
   {
    "duration": 3,
    "start_time": "2024-10-26T19:03:06.906Z"
   },
   {
    "duration": 5,
    "start_time": "2024-10-26T19:03:12.553Z"
   },
   {
    "duration": 6,
    "start_time": "2024-10-26T19:03:30.904Z"
   },
   {
    "duration": 4,
    "start_time": "2024-10-26T19:03:48.203Z"
   },
   {
    "duration": 6,
    "start_time": "2024-10-26T19:03:57.292Z"
   },
   {
    "duration": 691,
    "start_time": "2024-10-26T19:32:16.495Z"
   },
   {
    "duration": 7,
    "start_time": "2024-10-26T19:32:17.188Z"
   },
   {
    "duration": 67,
    "start_time": "2024-10-26T19:32:17.197Z"
   },
   {
    "duration": 32,
    "start_time": "2024-10-26T19:32:17.266Z"
   },
   {
    "duration": 5,
    "start_time": "2024-10-26T19:32:17.305Z"
   },
   {
    "duration": 53,
    "start_time": "2024-10-26T19:32:17.311Z"
   },
   {
    "duration": 11,
    "start_time": "2024-10-26T19:32:17.366Z"
   },
   {
    "duration": 26,
    "start_time": "2024-10-26T19:32:17.379Z"
   },
   {
    "duration": 6,
    "start_time": "2024-10-26T19:32:17.407Z"
   },
   {
    "duration": 8,
    "start_time": "2024-10-26T19:32:17.417Z"
   },
   {
    "duration": 6,
    "start_time": "2024-10-26T19:32:17.427Z"
   },
   {
    "duration": 8,
    "start_time": "2024-10-26T19:32:17.435Z"
   },
   {
    "duration": 7,
    "start_time": "2024-10-26T19:32:17.445Z"
   },
   {
    "duration": 8,
    "start_time": "2024-10-26T19:32:17.453Z"
   },
   {
    "duration": 45,
    "start_time": "2024-10-26T19:32:17.463Z"
   },
   {
    "duration": 8,
    "start_time": "2024-10-26T19:32:17.510Z"
   },
   {
    "duration": 7,
    "start_time": "2024-10-26T19:32:17.519Z"
   },
   {
    "duration": 4,
    "start_time": "2024-10-26T19:32:17.527Z"
   },
   {
    "duration": 8,
    "start_time": "2024-10-26T19:32:17.533Z"
   },
   {
    "duration": 14,
    "start_time": "2024-10-26T19:32:17.542Z"
   },
   {
    "duration": 6,
    "start_time": "2024-10-26T19:32:17.558Z"
   },
   {
    "duration": 50,
    "start_time": "2024-10-26T19:32:17.605Z"
   },
   {
    "duration": 70,
    "start_time": "2024-10-26T19:32:17.657Z"
   },
   {
    "duration": 7,
    "start_time": "2024-10-26T19:32:17.730Z"
   },
   {
    "duration": 52,
    "start_time": "2024-10-26T19:32:17.739Z"
   },
   {
    "duration": 22,
    "start_time": "2024-10-26T19:32:17.793Z"
   },
   {
    "duration": 7,
    "start_time": "2024-10-26T19:32:17.816Z"
   },
   {
    "duration": 14,
    "start_time": "2024-10-26T19:32:17.829Z"
   },
   {
    "duration": 16,
    "start_time": "2024-10-26T19:32:17.844Z"
   },
   {
    "duration": 6,
    "start_time": "2024-10-26T19:32:17.862Z"
   },
   {
    "duration": 49,
    "start_time": "2024-10-26T19:32:17.869Z"
   },
   {
    "duration": 13,
    "start_time": "2024-10-26T19:32:17.920Z"
   },
   {
    "duration": 6,
    "start_time": "2024-10-26T19:32:17.935Z"
   },
   {
    "duration": 37,
    "start_time": "2024-10-26T19:32:17.942Z"
   },
   {
    "duration": 29,
    "start_time": "2024-10-26T19:32:17.981Z"
   },
   {
    "duration": 22,
    "start_time": "2024-10-26T19:32:18.012Z"
   },
   {
    "duration": 7,
    "start_time": "2024-10-26T19:32:18.035Z"
   },
   {
    "duration": 25,
    "start_time": "2024-10-26T19:32:18.044Z"
   },
   {
    "duration": 52,
    "start_time": "2024-10-26T19:32:18.070Z"
   },
   {
    "duration": 18,
    "start_time": "2024-10-26T19:32:18.124Z"
   },
   {
    "duration": 18,
    "start_time": "2024-10-26T19:32:18.143Z"
   },
   {
    "duration": 5,
    "start_time": "2024-10-26T19:32:18.162Z"
   },
   {
    "duration": 55,
    "start_time": "2024-10-26T19:32:18.169Z"
   },
   {
    "duration": 18,
    "start_time": "2024-10-26T19:32:18.226Z"
   },
   {
    "duration": 11,
    "start_time": "2024-10-26T19:32:18.245Z"
   },
   {
    "duration": 6,
    "start_time": "2024-10-26T19:32:18.257Z"
   },
   {
    "duration": 2,
    "start_time": "2024-10-26T19:32:18.265Z"
   },
   {
    "duration": 2,
    "start_time": "2024-10-26T19:32:18.269Z"
   },
   {
    "duration": 33,
    "start_time": "2024-10-26T19:32:18.273Z"
   },
   {
    "duration": 2,
    "start_time": "2024-10-26T19:32:18.308Z"
   },
   {
    "duration": 3,
    "start_time": "2024-10-26T19:32:18.312Z"
   },
   {
    "duration": 5,
    "start_time": "2024-10-26T19:32:18.317Z"
   },
   {
    "duration": 2,
    "start_time": "2024-10-26T19:32:18.324Z"
   },
   {
    "duration": 3,
    "start_time": "2024-10-26T19:32:18.328Z"
   },
   {
    "duration": 4,
    "start_time": "2024-10-26T19:33:36.478Z"
   },
   {
    "duration": 3,
    "start_time": "2024-10-26T19:33:38.850Z"
   },
   {
    "duration": 7,
    "start_time": "2024-10-26T19:33:54.556Z"
   },
   {
    "duration": 6,
    "start_time": "2024-10-26T19:34:19.545Z"
   },
   {
    "duration": 6,
    "start_time": "2024-10-26T19:34:24.516Z"
   },
   {
    "duration": 7,
    "start_time": "2024-10-26T19:35:31.442Z"
   },
   {
    "duration": 7,
    "start_time": "2024-10-26T19:35:43.373Z"
   },
   {
    "duration": 7,
    "start_time": "2024-10-26T19:35:48.900Z"
   },
   {
    "duration": 7,
    "start_time": "2024-10-26T19:36:09.303Z"
   },
   {
    "duration": 8,
    "start_time": "2024-10-26T19:36:24.216Z"
   },
   {
    "duration": 2,
    "start_time": "2024-10-26T19:36:24.226Z"
   },
   {
    "duration": 2,
    "start_time": "2024-10-26T19:36:24.230Z"
   },
   {
    "duration": 2,
    "start_time": "2024-10-26T19:36:24.234Z"
   },
   {
    "duration": 2,
    "start_time": "2024-10-26T19:36:24.238Z"
   },
   {
    "duration": 2,
    "start_time": "2024-10-26T19:36:24.243Z"
   },
   {
    "duration": 3,
    "start_time": "2024-10-26T19:36:24.246Z"
   },
   {
    "duration": 3,
    "start_time": "2024-10-26T19:36:24.250Z"
   },
   {
    "duration": 2,
    "start_time": "2024-10-26T19:36:24.255Z"
   },
   {
    "duration": 7,
    "start_time": "2024-10-26T19:37:03.515Z"
   },
   {
    "duration": 5,
    "start_time": "2024-10-26T19:37:33.846Z"
   },
   {
    "duration": 9,
    "start_time": "2024-10-26T19:37:40.347Z"
   },
   {
    "duration": 7,
    "start_time": "2024-10-26T19:37:59.330Z"
   },
   {
    "duration": 6,
    "start_time": "2024-10-26T19:38:41.225Z"
   },
   {
    "duration": 210,
    "start_time": "2024-10-26T19:39:05.632Z"
   },
   {
    "duration": 18,
    "start_time": "2024-10-26T19:39:07.631Z"
   },
   {
    "duration": 17,
    "start_time": "2024-10-26T19:39:15.777Z"
   },
   {
    "duration": 7,
    "start_time": "2024-10-26T19:39:18.248Z"
   },
   {
    "duration": 8,
    "start_time": "2024-10-26T19:39:58.381Z"
   },
   {
    "duration": 5,
    "start_time": "2024-10-26T19:40:01.891Z"
   },
   {
    "duration": 6,
    "start_time": "2024-10-26T19:40:04.125Z"
   },
   {
    "duration": 7,
    "start_time": "2024-10-26T19:40:44.842Z"
   },
   {
    "duration": 11,
    "start_time": "2024-10-26T19:40:52.385Z"
   },
   {
    "duration": 10,
    "start_time": "2024-10-26T19:40:59.054Z"
   },
   {
    "duration": 7,
    "start_time": "2024-10-26T19:41:12.322Z"
   },
   {
    "duration": 9,
    "start_time": "2024-10-26T19:41:17.557Z"
   },
   {
    "duration": 9,
    "start_time": "2024-10-26T19:41:36.601Z"
   },
   {
    "duration": 9,
    "start_time": "2024-10-26T19:42:09.561Z"
   },
   {
    "duration": 9,
    "start_time": "2024-10-26T19:42:58.789Z"
   },
   {
    "duration": 28,
    "start_time": "2024-10-26T19:43:53.957Z"
   },
   {
    "duration": 24,
    "start_time": "2024-10-26T19:44:14.761Z"
   },
   {
    "duration": 68,
    "start_time": "2024-10-26T19:44:21.767Z"
   },
   {
    "duration": 10,
    "start_time": "2024-10-26T19:44:26.076Z"
   },
   {
    "duration": 7,
    "start_time": "2024-10-26T19:44:29.895Z"
   },
   {
    "duration": 6,
    "start_time": "2024-10-26T19:45:04.656Z"
   },
   {
    "duration": 9,
    "start_time": "2024-10-26T19:45:12.501Z"
   },
   {
    "duration": 10,
    "start_time": "2024-10-26T19:45:24.099Z"
   },
   {
    "duration": 11,
    "start_time": "2024-10-26T19:45:46.284Z"
   },
   {
    "duration": 7,
    "start_time": "2024-10-26T19:46:07.518Z"
   },
   {
    "duration": 7,
    "start_time": "2024-10-26T19:46:49.497Z"
   },
   {
    "duration": 10,
    "start_time": "2024-10-26T19:46:59.478Z"
   },
   {
    "duration": 8,
    "start_time": "2024-10-26T19:47:05.924Z"
   },
   {
    "duration": 3,
    "start_time": "2024-10-26T19:49:24.136Z"
   },
   {
    "duration": 267,
    "start_time": "2024-10-26T19:49:28.000Z"
   },
   {
    "duration": 2,
    "start_time": "2024-10-26T19:49:43.013Z"
   },
   {
    "duration": 7,
    "start_time": "2024-10-26T19:49:43.020Z"
   },
   {
    "duration": 81,
    "start_time": "2024-10-26T19:49:43.029Z"
   },
   {
    "duration": 33,
    "start_time": "2024-10-26T19:49:43.113Z"
   },
   {
    "duration": 5,
    "start_time": "2024-10-26T19:49:43.148Z"
   },
   {
    "duration": 57,
    "start_time": "2024-10-26T19:49:43.156Z"
   },
   {
    "duration": 8,
    "start_time": "2024-10-26T19:49:43.215Z"
   },
   {
    "duration": 6,
    "start_time": "2024-10-26T19:49:43.225Z"
   },
   {
    "duration": 6,
    "start_time": "2024-10-26T19:49:43.233Z"
   },
   {
    "duration": 6,
    "start_time": "2024-10-26T19:49:43.241Z"
   },
   {
    "duration": 7,
    "start_time": "2024-10-26T19:49:43.249Z"
   },
   {
    "duration": 48,
    "start_time": "2024-10-26T19:49:43.257Z"
   },
   {
    "duration": 6,
    "start_time": "2024-10-26T19:49:43.307Z"
   },
   {
    "duration": 8,
    "start_time": "2024-10-26T19:49:43.315Z"
   },
   {
    "duration": 7,
    "start_time": "2024-10-26T19:49:43.327Z"
   },
   {
    "duration": 8,
    "start_time": "2024-10-26T19:49:43.336Z"
   },
   {
    "duration": 7,
    "start_time": "2024-10-26T19:49:43.345Z"
   },
   {
    "duration": 5,
    "start_time": "2024-10-26T19:49:43.353Z"
   },
   {
    "duration": 50,
    "start_time": "2024-10-26T19:49:43.359Z"
   },
   {
    "duration": 14,
    "start_time": "2024-10-26T19:49:43.411Z"
   },
   {
    "duration": 6,
    "start_time": "2024-10-26T19:49:43.427Z"
   },
   {
    "duration": 46,
    "start_time": "2024-10-26T19:49:43.434Z"
   },
   {
    "duration": 38,
    "start_time": "2024-10-26T19:49:43.505Z"
   },
   {
    "duration": 7,
    "start_time": "2024-10-26T19:49:43.545Z"
   },
   {
    "duration": 69,
    "start_time": "2024-10-26T19:49:43.554Z"
   },
   {
    "duration": 12,
    "start_time": "2024-10-26T19:49:43.625Z"
   },
   {
    "duration": 5,
    "start_time": "2024-10-26T19:49:43.639Z"
   },
   {
    "duration": 14,
    "start_time": "2024-10-26T19:49:43.646Z"
   },
   {
    "duration": 15,
    "start_time": "2024-10-26T19:49:43.662Z"
   },
   {
    "duration": 32,
    "start_time": "2024-10-26T19:49:43.678Z"
   },
   {
    "duration": 17,
    "start_time": "2024-10-26T19:49:43.711Z"
   },
   {
    "duration": 14,
    "start_time": "2024-10-26T19:49:43.730Z"
   },
   {
    "duration": 8,
    "start_time": "2024-10-26T19:49:43.746Z"
   },
   {
    "duration": 68,
    "start_time": "2024-10-26T19:49:43.755Z"
   },
   {
    "duration": 8,
    "start_time": "2024-10-26T19:49:43.824Z"
   },
   {
    "duration": 21,
    "start_time": "2024-10-26T19:49:43.833Z"
   },
   {
    "duration": 8,
    "start_time": "2024-10-26T19:49:43.855Z"
   },
   {
    "duration": 50,
    "start_time": "2024-10-26T19:49:43.864Z"
   },
   {
    "duration": 20,
    "start_time": "2024-10-26T19:49:43.915Z"
   },
   {
    "duration": 19,
    "start_time": "2024-10-26T19:49:43.936Z"
   },
   {
    "duration": 17,
    "start_time": "2024-10-26T19:49:43.957Z"
   },
   {
    "duration": 5,
    "start_time": "2024-10-26T19:49:44.005Z"
   },
   {
    "duration": 23,
    "start_time": "2024-10-26T19:49:44.012Z"
   },
   {
    "duration": 19,
    "start_time": "2024-10-26T19:49:44.037Z"
   },
   {
    "duration": 11,
    "start_time": "2024-10-26T19:49:44.058Z"
   },
   {
    "duration": 5,
    "start_time": "2024-10-26T19:49:46.858Z"
   },
   {
    "duration": 3,
    "start_time": "2024-10-26T19:49:55.660Z"
   },
   {
    "duration": 6,
    "start_time": "2024-10-26T19:49:55.667Z"
   },
   {
    "duration": 64,
    "start_time": "2024-10-26T19:49:55.675Z"
   },
   {
    "duration": 33,
    "start_time": "2024-10-26T19:49:55.740Z"
   },
   {
    "duration": 5,
    "start_time": "2024-10-26T19:49:55.774Z"
   },
   {
    "duration": 58,
    "start_time": "2024-10-26T19:49:55.781Z"
   },
   {
    "duration": 8,
    "start_time": "2024-10-26T19:49:55.840Z"
   },
   {
    "duration": 6,
    "start_time": "2024-10-26T19:49:55.850Z"
   },
   {
    "duration": 7,
    "start_time": "2024-10-26T19:49:55.857Z"
   },
   {
    "duration": 7,
    "start_time": "2024-10-26T19:49:55.865Z"
   },
   {
    "duration": 36,
    "start_time": "2024-10-26T19:49:55.874Z"
   },
   {
    "duration": 9,
    "start_time": "2024-10-26T19:49:55.911Z"
   },
   {
    "duration": 7,
    "start_time": "2024-10-26T19:49:55.921Z"
   },
   {
    "duration": 7,
    "start_time": "2024-10-26T19:49:55.930Z"
   },
   {
    "duration": 7,
    "start_time": "2024-10-26T19:49:55.942Z"
   },
   {
    "duration": 8,
    "start_time": "2024-10-26T19:49:55.951Z"
   },
   {
    "duration": 47,
    "start_time": "2024-10-26T19:49:55.960Z"
   },
   {
    "duration": 5,
    "start_time": "2024-10-26T19:49:56.008Z"
   },
   {
    "duration": 9,
    "start_time": "2024-10-26T19:49:56.015Z"
   },
   {
    "duration": 15,
    "start_time": "2024-10-26T19:49:56.026Z"
   },
   {
    "duration": 7,
    "start_time": "2024-10-26T19:49:56.042Z"
   },
   {
    "duration": 68,
    "start_time": "2024-10-26T19:49:56.052Z"
   },
   {
    "duration": 38,
    "start_time": "2024-10-26T19:49:56.122Z"
   },
   {
    "duration": 7,
    "start_time": "2024-10-26T19:49:56.162Z"
   },
   {
    "duration": 69,
    "start_time": "2024-10-26T19:49:56.171Z"
   },
   {
    "duration": 11,
    "start_time": "2024-10-26T19:49:56.242Z"
   },
   {
    "duration": 6,
    "start_time": "2024-10-26T19:49:56.255Z"
   },
   {
    "duration": 13,
    "start_time": "2024-10-26T19:49:56.263Z"
   },
   {
    "duration": 41,
    "start_time": "2024-10-26T19:49:56.279Z"
   },
   {
    "duration": 6,
    "start_time": "2024-10-26T19:49:56.321Z"
   },
   {
    "duration": 18,
    "start_time": "2024-10-26T19:49:56.329Z"
   },
   {
    "duration": 13,
    "start_time": "2024-10-26T19:49:56.348Z"
   },
   {
    "duration": 6,
    "start_time": "2024-10-26T19:49:56.363Z"
   },
   {
    "duration": 67,
    "start_time": "2024-10-26T19:49:56.370Z"
   },
   {
    "duration": 7,
    "start_time": "2024-10-26T19:49:56.439Z"
   },
   {
    "duration": 21,
    "start_time": "2024-10-26T19:49:56.448Z"
   },
   {
    "duration": 7,
    "start_time": "2024-10-26T19:49:56.470Z"
   },
   {
    "duration": 28,
    "start_time": "2024-10-26T19:49:56.505Z"
   },
   {
    "duration": 23,
    "start_time": "2024-10-26T19:49:56.535Z"
   },
   {
    "duration": 23,
    "start_time": "2024-10-26T19:49:56.560Z"
   },
   {
    "duration": 17,
    "start_time": "2024-10-26T19:49:56.605Z"
   },
   {
    "duration": 5,
    "start_time": "2024-10-26T19:49:56.626Z"
   },
   {
    "duration": 23,
    "start_time": "2024-10-26T19:49:56.633Z"
   },
   {
    "duration": 19,
    "start_time": "2024-10-26T19:49:56.658Z"
   },
   {
    "duration": 36,
    "start_time": "2024-10-26T19:49:56.678Z"
   },
   {
    "duration": 13,
    "start_time": "2024-10-26T19:50:24.165Z"
   },
   {
    "duration": 3,
    "start_time": "2024-10-26T19:50:27.587Z"
   },
   {
    "duration": 14,
    "start_time": "2024-10-26T19:50:44.645Z"
   },
   {
    "duration": 5,
    "start_time": "2024-10-26T19:52:23.229Z"
   },
   {
    "duration": 4,
    "start_time": "2024-10-26T19:52:44.659Z"
   },
   {
    "duration": 3,
    "start_time": "2024-10-26T19:52:50.663Z"
   },
   {
    "duration": 7,
    "start_time": "2024-10-26T19:52:50.668Z"
   },
   {
    "duration": 64,
    "start_time": "2024-10-26T19:52:50.677Z"
   },
   {
    "duration": 32,
    "start_time": "2024-10-26T19:52:50.743Z"
   },
   {
    "duration": 5,
    "start_time": "2024-10-26T19:52:50.778Z"
   },
   {
    "duration": 55,
    "start_time": "2024-10-26T19:52:50.784Z"
   },
   {
    "duration": 8,
    "start_time": "2024-10-26T19:52:50.841Z"
   },
   {
    "duration": 6,
    "start_time": "2024-10-26T19:52:50.851Z"
   },
   {
    "duration": 7,
    "start_time": "2024-10-26T19:52:50.858Z"
   },
   {
    "duration": 7,
    "start_time": "2024-10-26T19:52:50.866Z"
   },
   {
    "duration": 34,
    "start_time": "2024-10-26T19:52:50.875Z"
   },
   {
    "duration": 8,
    "start_time": "2024-10-26T19:52:50.911Z"
   },
   {
    "duration": 6,
    "start_time": "2024-10-26T19:52:50.921Z"
   },
   {
    "duration": 7,
    "start_time": "2024-10-26T19:52:50.931Z"
   },
   {
    "duration": 7,
    "start_time": "2024-10-26T19:52:50.940Z"
   },
   {
    "duration": 7,
    "start_time": "2024-10-26T19:52:50.949Z"
   },
   {
    "duration": 7,
    "start_time": "2024-10-26T19:52:50.958Z"
   },
   {
    "duration": 42,
    "start_time": "2024-10-26T19:52:50.966Z"
   },
   {
    "duration": 9,
    "start_time": "2024-10-26T19:52:51.010Z"
   },
   {
    "duration": 15,
    "start_time": "2024-10-26T19:52:51.021Z"
   },
   {
    "duration": 6,
    "start_time": "2024-10-26T19:52:51.037Z"
   },
   {
    "duration": 68,
    "start_time": "2024-10-26T19:52:51.045Z"
   },
   {
    "duration": 38,
    "start_time": "2024-10-26T19:52:51.115Z"
   },
   {
    "duration": 8,
    "start_time": "2024-10-26T19:52:51.155Z"
   },
   {
    "duration": 70,
    "start_time": "2024-10-26T19:52:51.165Z"
   },
   {
    "duration": 11,
    "start_time": "2024-10-26T19:52:51.237Z"
   },
   {
    "duration": 6,
    "start_time": "2024-10-26T19:52:51.250Z"
   },
   {
    "duration": 14,
    "start_time": "2024-10-26T19:52:51.257Z"
   },
   {
    "duration": 40,
    "start_time": "2024-10-26T19:52:51.272Z"
   },
   {
    "duration": 6,
    "start_time": "2024-10-26T19:52:51.314Z"
   },
   {
    "duration": 17,
    "start_time": "2024-10-26T19:52:51.322Z"
   },
   {
    "duration": 13,
    "start_time": "2024-10-26T19:52:51.340Z"
   },
   {
    "duration": 6,
    "start_time": "2024-10-26T19:52:51.354Z"
   },
   {
    "duration": 73,
    "start_time": "2024-10-26T19:52:51.362Z"
   },
   {
    "duration": 7,
    "start_time": "2024-10-26T19:52:51.436Z"
   },
   {
    "duration": 20,
    "start_time": "2024-10-26T19:52:51.445Z"
   },
   {
    "duration": 7,
    "start_time": "2024-10-26T19:52:51.466Z"
   },
   {
    "duration": 44,
    "start_time": "2024-10-26T19:52:51.474Z"
   },
   {
    "duration": 19,
    "start_time": "2024-10-26T19:52:51.520Z"
   },
   {
    "duration": 20,
    "start_time": "2024-10-26T19:52:51.540Z"
   },
   {
    "duration": 42,
    "start_time": "2024-10-26T19:52:51.564Z"
   },
   {
    "duration": 5,
    "start_time": "2024-10-26T19:52:51.608Z"
   },
   {
    "duration": 27,
    "start_time": "2024-10-26T19:52:51.615Z"
   },
   {
    "duration": 19,
    "start_time": "2024-10-26T19:52:51.643Z"
   },
   {
    "duration": 11,
    "start_time": "2024-10-26T19:52:51.663Z"
   },
   {
    "duration": 4,
    "start_time": "2024-10-26T19:52:53.213Z"
   },
   {
    "duration": 5,
    "start_time": "2024-10-26T19:53:04.446Z"
   },
   {
    "duration": 4,
    "start_time": "2024-10-26T19:53:43.502Z"
   },
   {
    "duration": 705,
    "start_time": "2024-10-26T19:53:49.676Z"
   },
   {
    "duration": 7,
    "start_time": "2024-10-26T19:53:50.383Z"
   },
   {
    "duration": 75,
    "start_time": "2024-10-26T19:53:50.391Z"
   },
   {
    "duration": 36,
    "start_time": "2024-10-26T19:53:50.469Z"
   },
   {
    "duration": 5,
    "start_time": "2024-10-26T19:53:50.507Z"
   },
   {
    "duration": 53,
    "start_time": "2024-10-26T19:53:50.514Z"
   },
   {
    "duration": 10,
    "start_time": "2024-10-26T19:53:50.568Z"
   },
   {
    "duration": 25,
    "start_time": "2024-10-26T19:53:50.580Z"
   },
   {
    "duration": 6,
    "start_time": "2024-10-26T19:53:50.607Z"
   },
   {
    "duration": 7,
    "start_time": "2024-10-26T19:53:50.616Z"
   },
   {
    "duration": 8,
    "start_time": "2024-10-26T19:53:50.625Z"
   },
   {
    "duration": 9,
    "start_time": "2024-10-26T19:53:50.634Z"
   },
   {
    "duration": 7,
    "start_time": "2024-10-26T19:53:50.645Z"
   },
   {
    "duration": 10,
    "start_time": "2024-10-26T19:53:50.654Z"
   },
   {
    "duration": 43,
    "start_time": "2024-10-26T19:53:50.666Z"
   },
   {
    "duration": 9,
    "start_time": "2024-10-26T19:53:50.711Z"
   },
   {
    "duration": 6,
    "start_time": "2024-10-26T19:53:50.721Z"
   },
   {
    "duration": 4,
    "start_time": "2024-10-26T19:53:50.729Z"
   },
   {
    "duration": 8,
    "start_time": "2024-10-26T19:53:50.735Z"
   },
   {
    "duration": 14,
    "start_time": "2024-10-26T19:53:50.745Z"
   },
   {
    "duration": 45,
    "start_time": "2024-10-26T19:53:50.761Z"
   },
   {
    "duration": 49,
    "start_time": "2024-10-26T19:53:50.808Z"
   },
   {
    "duration": 60,
    "start_time": "2024-10-26T19:53:50.858Z"
   },
   {
    "duration": 7,
    "start_time": "2024-10-26T19:53:50.920Z"
   },
   {
    "duration": 52,
    "start_time": "2024-10-26T19:53:50.929Z"
   },
   {
    "duration": 31,
    "start_time": "2024-10-26T19:53:50.983Z"
   },
   {
    "duration": 8,
    "start_time": "2024-10-26T19:53:51.015Z"
   },
   {
    "duration": 14,
    "start_time": "2024-10-26T19:53:51.029Z"
   },
   {
    "duration": 16,
    "start_time": "2024-10-26T19:53:51.044Z"
   },
   {
    "duration": 6,
    "start_time": "2024-10-26T19:53:51.061Z"
   },
   {
    "duration": 49,
    "start_time": "2024-10-26T19:53:51.069Z"
   },
   {
    "duration": 12,
    "start_time": "2024-10-26T19:53:51.121Z"
   },
   {
    "duration": 6,
    "start_time": "2024-10-26T19:53:51.135Z"
   },
   {
    "duration": 37,
    "start_time": "2024-10-26T19:53:51.143Z"
   },
   {
    "duration": 27,
    "start_time": "2024-10-26T19:53:51.182Z"
   },
   {
    "duration": 20,
    "start_time": "2024-10-26T19:53:51.211Z"
   },
   {
    "duration": 7,
    "start_time": "2024-10-26T19:53:51.232Z"
   },
   {
    "duration": 23,
    "start_time": "2024-10-26T19:53:51.241Z"
   },
   {
    "duration": 48,
    "start_time": "2024-10-26T19:53:51.266Z"
   },
   {
    "duration": 18,
    "start_time": "2024-10-26T19:53:51.316Z"
   },
   {
    "duration": 16,
    "start_time": "2024-10-26T19:53:51.337Z"
   },
   {
    "duration": 5,
    "start_time": "2024-10-26T19:53:51.356Z"
   },
   {
    "duration": 44,
    "start_time": "2024-10-26T19:53:51.362Z"
   },
   {
    "duration": 19,
    "start_time": "2024-10-26T19:53:51.408Z"
   },
   {
    "duration": 11,
    "start_time": "2024-10-26T19:53:51.429Z"
   },
   {
    "duration": 5,
    "start_time": "2024-10-26T19:53:51.441Z"
   },
   {
    "duration": 6,
    "start_time": "2024-10-26T19:53:51.447Z"
   },
   {
    "duration": 2,
    "start_time": "2024-10-26T19:53:51.455Z"
   },
   {
    "duration": 3,
    "start_time": "2024-10-26T19:53:51.458Z"
   },
   {
    "duration": 2,
    "start_time": "2024-10-26T19:53:51.463Z"
   },
   {
    "duration": 2,
    "start_time": "2024-10-26T19:53:51.506Z"
   },
   {
    "duration": 2,
    "start_time": "2024-10-26T19:53:51.510Z"
   },
   {
    "duration": 2,
    "start_time": "2024-10-26T19:53:51.514Z"
   },
   {
    "duration": 2,
    "start_time": "2024-10-26T19:53:51.518Z"
   },
   {
    "duration": 3,
    "start_time": "2024-10-26T19:53:51.522Z"
   },
   {
    "duration": 3,
    "start_time": "2024-10-26T19:55:44.174Z"
   },
   {
    "duration": 206,
    "start_time": "2024-10-26T19:55:50.226Z"
   },
   {
    "duration": 3,
    "start_time": "2024-10-26T19:55:58.776Z"
   },
   {
    "duration": 9,
    "start_time": "2024-10-26T19:57:33.363Z"
   },
   {
    "duration": 3,
    "start_time": "2024-10-26T19:57:47.595Z"
   },
   {
    "duration": 7,
    "start_time": "2024-10-26T19:57:47.600Z"
   },
   {
    "duration": 64,
    "start_time": "2024-10-26T19:57:47.608Z"
   },
   {
    "duration": 45,
    "start_time": "2024-10-26T19:57:47.674Z"
   },
   {
    "duration": 5,
    "start_time": "2024-10-26T19:57:47.721Z"
   },
   {
    "duration": 50,
    "start_time": "2024-10-26T19:57:47.728Z"
   },
   {
    "duration": 8,
    "start_time": "2024-10-26T19:57:47.779Z"
   },
   {
    "duration": 21,
    "start_time": "2024-10-26T19:57:47.789Z"
   },
   {
    "duration": 6,
    "start_time": "2024-10-26T19:57:47.813Z"
   },
   {
    "duration": 7,
    "start_time": "2024-10-26T19:57:47.821Z"
   },
   {
    "duration": 6,
    "start_time": "2024-10-26T19:57:47.829Z"
   },
   {
    "duration": 9,
    "start_time": "2024-10-26T19:57:47.837Z"
   },
   {
    "duration": 8,
    "start_time": "2024-10-26T19:57:47.847Z"
   },
   {
    "duration": 8,
    "start_time": "2024-10-26T19:57:47.859Z"
   },
   {
    "duration": 8,
    "start_time": "2024-10-26T19:57:47.905Z"
   },
   {
    "duration": 7,
    "start_time": "2024-10-26T19:57:47.915Z"
   },
   {
    "duration": 6,
    "start_time": "2024-10-26T19:57:47.925Z"
   },
   {
    "duration": 8,
    "start_time": "2024-10-26T19:57:47.932Z"
   },
   {
    "duration": 9,
    "start_time": "2024-10-26T19:57:47.941Z"
   },
   {
    "duration": 14,
    "start_time": "2024-10-26T19:57:47.952Z"
   },
   {
    "duration": 42,
    "start_time": "2024-10-26T19:57:47.968Z"
   },
   {
    "duration": 46,
    "start_time": "2024-10-26T19:57:48.011Z"
   },
   {
    "duration": 60,
    "start_time": "2024-10-26T19:57:48.059Z"
   },
   {
    "duration": 8,
    "start_time": "2024-10-26T19:57:48.121Z"
   },
   {
    "duration": 48,
    "start_time": "2024-10-26T19:57:48.130Z"
   },
   {
    "duration": 33,
    "start_time": "2024-10-26T19:57:48.180Z"
   },
   {
    "duration": 9,
    "start_time": "2024-10-26T19:57:48.215Z"
   },
   {
    "duration": 14,
    "start_time": "2024-10-26T19:57:48.226Z"
   },
   {
    "duration": 15,
    "start_time": "2024-10-26T19:57:48.242Z"
   },
   {
    "duration": 5,
    "start_time": "2024-10-26T19:57:48.259Z"
   },
   {
    "duration": 47,
    "start_time": "2024-10-26T19:57:48.266Z"
   },
   {
    "duration": 13,
    "start_time": "2024-10-26T19:57:48.314Z"
   },
   {
    "duration": 7,
    "start_time": "2024-10-26T19:57:48.329Z"
   },
   {
    "duration": 36,
    "start_time": "2024-10-26T19:57:48.337Z"
   },
   {
    "duration": 30,
    "start_time": "2024-10-26T19:57:48.376Z"
   },
   {
    "duration": 20,
    "start_time": "2024-10-26T19:57:48.407Z"
   },
   {
    "duration": 7,
    "start_time": "2024-10-26T19:57:48.429Z"
   },
   {
    "duration": 24,
    "start_time": "2024-10-26T19:57:48.437Z"
   },
   {
    "duration": 48,
    "start_time": "2024-10-26T19:57:48.463Z"
   },
   {
    "duration": 18,
    "start_time": "2024-10-26T19:57:48.512Z"
   },
   {
    "duration": 18,
    "start_time": "2024-10-26T19:57:48.534Z"
   },
   {
    "duration": 6,
    "start_time": "2024-10-26T19:57:48.553Z"
   },
   {
    "duration": 52,
    "start_time": "2024-10-26T19:57:48.560Z"
   },
   {
    "duration": 19,
    "start_time": "2024-10-26T19:57:48.613Z"
   },
   {
    "duration": 11,
    "start_time": "2024-10-26T19:57:48.634Z"
   },
   {
    "duration": 5,
    "start_time": "2024-10-26T19:57:50.557Z"
   },
   {
    "duration": 22,
    "start_time": "2024-10-26T19:57:57.885Z"
   },
   {
    "duration": 3,
    "start_time": "2024-10-26T19:58:36.390Z"
   },
   {
    "duration": 6,
    "start_time": "2024-10-26T19:58:36.395Z"
   },
   {
    "duration": 66,
    "start_time": "2024-10-26T19:58:36.402Z"
   },
   {
    "duration": 52,
    "start_time": "2024-10-26T19:58:36.471Z"
   },
   {
    "duration": 5,
    "start_time": "2024-10-26T19:58:36.524Z"
   },
   {
    "duration": 49,
    "start_time": "2024-10-26T19:58:36.531Z"
   },
   {
    "duration": 23,
    "start_time": "2024-10-26T19:58:36.582Z"
   },
   {
    "duration": 6,
    "start_time": "2024-10-26T19:58:36.607Z"
   },
   {
    "duration": 7,
    "start_time": "2024-10-26T19:58:36.614Z"
   },
   {
    "duration": 7,
    "start_time": "2024-10-26T19:58:36.624Z"
   },
   {
    "duration": 7,
    "start_time": "2024-10-26T19:58:36.633Z"
   },
   {
    "duration": 9,
    "start_time": "2024-10-26T19:58:36.641Z"
   },
   {
    "duration": 6,
    "start_time": "2024-10-26T19:58:36.652Z"
   },
   {
    "duration": 49,
    "start_time": "2024-10-26T19:58:36.660Z"
   },
   {
    "duration": 8,
    "start_time": "2024-10-26T19:58:36.712Z"
   },
   {
    "duration": 7,
    "start_time": "2024-10-26T19:58:36.722Z"
   },
   {
    "duration": 7,
    "start_time": "2024-10-26T19:58:36.730Z"
   },
   {
    "duration": 4,
    "start_time": "2024-10-26T19:58:36.739Z"
   },
   {
    "duration": 8,
    "start_time": "2024-10-26T19:58:36.745Z"
   },
   {
    "duration": 14,
    "start_time": "2024-10-26T19:58:36.754Z"
   },
   {
    "duration": 38,
    "start_time": "2024-10-26T19:58:36.769Z"
   },
   {
    "duration": 45,
    "start_time": "2024-10-26T19:58:36.809Z"
   },
   {
    "duration": 59,
    "start_time": "2024-10-26T19:58:36.856Z"
   },
   {
    "duration": 7,
    "start_time": "2024-10-26T19:58:36.917Z"
   },
   {
    "duration": 49,
    "start_time": "2024-10-26T19:58:36.926Z"
   },
   {
    "duration": 31,
    "start_time": "2024-10-26T19:58:36.976Z"
   },
   {
    "duration": 6,
    "start_time": "2024-10-26T19:58:37.010Z"
   },
   {
    "duration": 14,
    "start_time": "2024-10-26T19:58:37.021Z"
   },
   {
    "duration": 16,
    "start_time": "2024-10-26T19:58:37.036Z"
   },
   {
    "duration": 6,
    "start_time": "2024-10-26T19:58:37.054Z"
   },
   {
    "duration": 45,
    "start_time": "2024-10-26T19:58:37.061Z"
   },
   {
    "duration": 13,
    "start_time": "2024-10-26T19:58:37.108Z"
   },
   {
    "duration": 6,
    "start_time": "2024-10-26T19:58:37.123Z"
   },
   {
    "duration": 35,
    "start_time": "2024-10-26T19:58:37.131Z"
   },
   {
    "duration": 37,
    "start_time": "2024-10-26T19:58:37.168Z"
   },
   {
    "duration": 23,
    "start_time": "2024-10-26T19:58:37.206Z"
   },
   {
    "duration": 9,
    "start_time": "2024-10-26T19:58:37.231Z"
   },
   {
    "duration": 21,
    "start_time": "2024-10-26T19:58:37.242Z"
   },
   {
    "duration": 42,
    "start_time": "2024-10-26T19:58:37.265Z"
   },
   {
    "duration": 19,
    "start_time": "2024-10-26T19:58:37.309Z"
   },
   {
    "duration": 17,
    "start_time": "2024-10-26T19:58:37.330Z"
   },
   {
    "duration": 5,
    "start_time": "2024-10-26T19:58:37.348Z"
   },
   {
    "duration": 52,
    "start_time": "2024-10-26T19:58:37.355Z"
   },
   {
    "duration": 21,
    "start_time": "2024-10-26T19:58:37.409Z"
   },
   {
    "duration": 11,
    "start_time": "2024-10-26T19:58:37.431Z"
   },
   {
    "duration": 19,
    "start_time": "2024-10-26T20:14:03.199Z"
   },
   {
    "duration": 18,
    "start_time": "2024-10-26T20:14:06.067Z"
   },
   {
    "duration": 7,
    "start_time": "2024-10-26T20:14:09.094Z"
   },
   {
    "duration": 7,
    "start_time": "2024-10-26T20:14:18.798Z"
   },
   {
    "duration": 2571,
    "start_time": "2024-10-27T02:20:12.747Z"
   },
   {
    "duration": 12,
    "start_time": "2024-10-27T02:20:15.320Z"
   },
   {
    "duration": 87,
    "start_time": "2024-10-27T02:20:15.333Z"
   },
   {
    "duration": 48,
    "start_time": "2024-10-27T02:20:15.423Z"
   },
   {
    "duration": 7,
    "start_time": "2024-10-27T02:20:15.473Z"
   },
   {
    "duration": 81,
    "start_time": "2024-10-27T02:20:15.481Z"
   },
   {
    "duration": 13,
    "start_time": "2024-10-27T02:20:15.564Z"
   },
   {
    "duration": 7,
    "start_time": "2024-10-27T02:20:15.578Z"
   },
   {
    "duration": 6,
    "start_time": "2024-10-27T02:20:15.587Z"
   },
   {
    "duration": 7,
    "start_time": "2024-10-27T02:20:15.596Z"
   },
   {
    "duration": 32,
    "start_time": "2024-10-27T02:20:15.604Z"
   },
   {
    "duration": 9,
    "start_time": "2024-10-27T02:20:15.639Z"
   },
   {
    "duration": 7,
    "start_time": "2024-10-27T02:20:15.650Z"
   },
   {
    "duration": 8,
    "start_time": "2024-10-27T02:20:15.659Z"
   },
   {
    "duration": 8,
    "start_time": "2024-10-27T02:20:15.668Z"
   },
   {
    "duration": 8,
    "start_time": "2024-10-27T02:20:15.677Z"
   },
   {
    "duration": 6,
    "start_time": "2024-10-27T02:20:15.688Z"
   },
   {
    "duration": 5,
    "start_time": "2024-10-27T02:20:15.732Z"
   },
   {
    "duration": 9,
    "start_time": "2024-10-27T02:20:15.739Z"
   },
   {
    "duration": 17,
    "start_time": "2024-10-27T02:20:15.750Z"
   },
   {
    "duration": 11,
    "start_time": "2024-10-27T02:20:15.768Z"
   },
   {
    "duration": 77,
    "start_time": "2024-10-27T02:20:15.781Z"
   },
   {
    "duration": 52,
    "start_time": "2024-10-27T02:20:15.860Z"
   },
   {
    "duration": 25,
    "start_time": "2024-10-27T02:20:15.913Z"
   },
   {
    "duration": 54,
    "start_time": "2024-10-27T02:20:15.939Z"
   },
   {
    "duration": 12,
    "start_time": "2024-10-27T02:20:15.995Z"
   },
   {
    "duration": 27,
    "start_time": "2024-10-27T02:20:16.008Z"
   },
   {
    "duration": 15,
    "start_time": "2024-10-27T02:20:16.040Z"
   },
   {
    "duration": 17,
    "start_time": "2024-10-27T02:20:16.056Z"
   },
   {
    "duration": 7,
    "start_time": "2024-10-27T02:20:16.075Z"
   },
   {
    "duration": 16,
    "start_time": "2024-10-27T02:20:16.084Z"
   },
   {
    "duration": 15,
    "start_time": "2024-10-27T02:20:16.130Z"
   },
   {
    "duration": 6,
    "start_time": "2024-10-27T02:20:16.147Z"
   },
   {
    "duration": 43,
    "start_time": "2024-10-27T02:20:16.155Z"
   },
   {
    "duration": 7,
    "start_time": "2024-10-27T02:20:16.200Z"
   },
   {
    "duration": 21,
    "start_time": "2024-10-27T02:20:16.232Z"
   },
   {
    "duration": 7,
    "start_time": "2024-10-27T02:20:16.254Z"
   },
   {
    "duration": 27,
    "start_time": "2024-10-27T02:20:16.263Z"
   },
   {
    "duration": 45,
    "start_time": "2024-10-27T02:20:16.292Z"
   },
   {
    "duration": 21,
    "start_time": "2024-10-27T02:20:16.338Z"
   },
   {
    "duration": 20,
    "start_time": "2024-10-27T02:20:16.360Z"
   },
   {
    "duration": 6,
    "start_time": "2024-10-27T02:20:16.382Z"
   },
   {
    "duration": 58,
    "start_time": "2024-10-27T02:20:16.390Z"
   },
   {
    "duration": 19,
    "start_time": "2024-10-27T02:20:16.449Z"
   },
   {
    "duration": 12,
    "start_time": "2024-10-27T02:20:16.470Z"
   },
   {
    "duration": 7,
    "start_time": "2024-10-27T02:20:16.484Z"
   },
   {
    "duration": 2,
    "start_time": "2024-10-27T02:20:16.493Z"
   },
   {
    "duration": 3,
    "start_time": "2024-10-27T02:20:16.496Z"
   },
   {
    "duration": 3,
    "start_time": "2024-10-27T02:20:16.531Z"
   },
   {
    "duration": 3,
    "start_time": "2024-10-27T02:20:16.535Z"
   },
   {
    "duration": 2,
    "start_time": "2024-10-27T02:20:16.540Z"
   },
   {
    "duration": 2,
    "start_time": "2024-10-27T02:20:16.544Z"
   },
   {
    "duration": 2,
    "start_time": "2024-10-27T02:20:16.548Z"
   },
   {
    "duration": 2,
    "start_time": "2024-10-27T02:20:16.552Z"
   },
   {
    "duration": 5,
    "start_time": "2024-10-27T02:20:58.123Z"
   },
   {
    "duration": 3,
    "start_time": "2024-10-27T02:21:15.811Z"
   },
   {
    "duration": 3,
    "start_time": "2024-10-27T02:21:48.104Z"
   },
   {
    "duration": 9,
    "start_time": "2024-10-27T02:22:05.620Z"
   },
   {
    "duration": 540,
    "start_time": "2024-10-27T02:22:28.491Z"
   },
   {
    "duration": 17,
    "start_time": "2024-10-27T02:22:59.757Z"
   },
   {
    "duration": 5,
    "start_time": "2024-10-27T02:23:10.055Z"
   },
   {
    "duration": 82,
    "start_time": "2024-10-27T02:23:13.461Z"
   },
   {
    "duration": 10,
    "start_time": "2024-10-27T02:23:24.732Z"
   },
   {
    "duration": 6,
    "start_time": "2024-10-27T02:23:54.174Z"
   },
   {
    "duration": 9,
    "start_time": "2024-10-27T02:24:00.385Z"
   },
   {
    "duration": 5,
    "start_time": "2024-10-27T02:24:26.833Z"
   },
   {
    "duration": 12,
    "start_time": "2024-10-27T02:24:31.166Z"
   },
   {
    "duration": 27,
    "start_time": "2024-10-27T02:24:38.798Z"
   },
   {
    "duration": 5,
    "start_time": "2024-10-27T02:25:00.108Z"
   },
   {
    "duration": 368,
    "start_time": "2024-10-27T02:25:06.154Z"
   },
   {
    "duration": 9,
    "start_time": "2024-10-27T02:25:15.068Z"
   },
   {
    "duration": 139,
    "start_time": "2024-10-27T02:32:22.638Z"
   },
   {
    "duration": 13,
    "start_time": "2024-10-27T02:32:50.370Z"
   },
   {
    "duration": 12,
    "start_time": "2024-10-27T02:33:11.398Z"
   },
   {
    "duration": 3,
    "start_time": "2024-10-27T02:34:06.079Z"
   },
   {
    "duration": 10,
    "start_time": "2024-10-27T02:34:06.088Z"
   },
   {
    "duration": 75,
    "start_time": "2024-10-27T02:34:06.101Z"
   },
   {
    "duration": 36,
    "start_time": "2024-10-27T02:34:06.178Z"
   },
   {
    "duration": 6,
    "start_time": "2024-10-27T02:34:06.215Z"
   },
   {
    "duration": 58,
    "start_time": "2024-10-27T02:34:06.224Z"
   },
   {
    "duration": 10,
    "start_time": "2024-10-27T02:34:06.284Z"
   },
   {
    "duration": 7,
    "start_time": "2024-10-27T02:34:06.296Z"
   },
   {
    "duration": 6,
    "start_time": "2024-10-27T02:34:06.305Z"
   },
   {
    "duration": 8,
    "start_time": "2024-10-27T02:34:06.331Z"
   },
   {
    "duration": 6,
    "start_time": "2024-10-27T02:34:06.341Z"
   },
   {
    "duration": 8,
    "start_time": "2024-10-27T02:34:06.349Z"
   },
   {
    "duration": 7,
    "start_time": "2024-10-27T02:34:06.359Z"
   },
   {
    "duration": 10,
    "start_time": "2024-10-27T02:34:06.367Z"
   },
   {
    "duration": 9,
    "start_time": "2024-10-27T02:34:06.380Z"
   },
   {
    "duration": 45,
    "start_time": "2024-10-27T02:34:06.390Z"
   },
   {
    "duration": 7,
    "start_time": "2024-10-27T02:34:06.437Z"
   },
   {
    "duration": 5,
    "start_time": "2024-10-27T02:34:06.445Z"
   },
   {
    "duration": 9,
    "start_time": "2024-10-27T02:34:06.452Z"
   },
   {
    "duration": 16,
    "start_time": "2024-10-27T02:34:06.463Z"
   },
   {
    "duration": 7,
    "start_time": "2024-10-27T02:34:06.481Z"
   },
   {
    "duration": 87,
    "start_time": "2024-10-27T02:34:06.490Z"
   },
   {
    "duration": 56,
    "start_time": "2024-10-27T02:34:06.579Z"
   },
   {
    "duration": 7,
    "start_time": "2024-10-27T02:34:06.637Z"
   },
   {
    "duration": 52,
    "start_time": "2024-10-27T02:34:06.646Z"
   },
   {
    "duration": 33,
    "start_time": "2024-10-27T02:34:06.700Z"
   },
   {
    "duration": 6,
    "start_time": "2024-10-27T02:34:06.735Z"
   },
   {
    "duration": 16,
    "start_time": "2024-10-27T02:34:06.743Z"
   },
   {
    "duration": 18,
    "start_time": "2024-10-27T02:34:06.760Z"
   },
   {
    "duration": 6,
    "start_time": "2024-10-27T02:34:06.780Z"
   },
   {
    "duration": 47,
    "start_time": "2024-10-27T02:34:06.788Z"
   },
   {
    "duration": 14,
    "start_time": "2024-10-27T02:34:06.837Z"
   },
   {
    "duration": 6,
    "start_time": "2024-10-27T02:34:06.853Z"
   },
   {
    "duration": 39,
    "start_time": "2024-10-27T02:34:06.861Z"
   },
   {
    "duration": 35,
    "start_time": "2024-10-27T02:34:06.902Z"
   },
   {
    "duration": 21,
    "start_time": "2024-10-27T02:34:06.939Z"
   },
   {
    "duration": 7,
    "start_time": "2024-10-27T02:34:06.962Z"
   },
   {
    "duration": 25,
    "start_time": "2024-10-27T02:34:06.971Z"
   },
   {
    "duration": 49,
    "start_time": "2024-10-27T02:34:06.998Z"
   },
   {
    "duration": 19,
    "start_time": "2024-10-27T02:34:07.049Z"
   },
   {
    "duration": 19,
    "start_time": "2024-10-27T02:34:07.069Z"
   },
   {
    "duration": 5,
    "start_time": "2024-10-27T02:34:07.093Z"
   },
   {
    "duration": 48,
    "start_time": "2024-10-27T02:34:07.100Z"
   },
   {
    "duration": 20,
    "start_time": "2024-10-27T02:34:07.150Z"
   },
   {
    "duration": 11,
    "start_time": "2024-10-27T02:34:07.172Z"
   },
   {
    "duration": 29,
    "start_time": "2024-10-27T02:34:09.219Z"
   },
   {
    "duration": 53,
    "start_time": "2024-10-27T02:35:32.735Z"
   },
   {
    "duration": 28,
    "start_time": "2024-10-27T02:35:42.947Z"
   },
   {
    "duration": 29,
    "start_time": "2024-10-27T02:35:45.239Z"
   },
   {
    "duration": 3,
    "start_time": "2024-10-27T02:35:58.501Z"
   },
   {
    "duration": 8,
    "start_time": "2024-10-27T02:35:58.506Z"
   },
   {
    "duration": 66,
    "start_time": "2024-10-27T02:35:58.515Z"
   },
   {
    "duration": 35,
    "start_time": "2024-10-27T02:35:58.583Z"
   },
   {
    "duration": 11,
    "start_time": "2024-10-27T02:35:58.620Z"
   },
   {
    "duration": 57,
    "start_time": "2024-10-27T02:35:58.633Z"
   },
   {
    "duration": 8,
    "start_time": "2024-10-27T02:35:58.692Z"
   },
   {
    "duration": 7,
    "start_time": "2024-10-27T02:35:58.701Z"
   },
   {
    "duration": 25,
    "start_time": "2024-10-27T02:35:58.710Z"
   },
   {
    "duration": 7,
    "start_time": "2024-10-27T02:35:58.737Z"
   },
   {
    "duration": 7,
    "start_time": "2024-10-27T02:35:58.746Z"
   },
   {
    "duration": 8,
    "start_time": "2024-10-27T02:35:58.754Z"
   },
   {
    "duration": 7,
    "start_time": "2024-10-27T02:35:58.765Z"
   },
   {
    "duration": 8,
    "start_time": "2024-10-27T02:35:58.776Z"
   },
   {
    "duration": 45,
    "start_time": "2024-10-27T02:35:58.786Z"
   },
   {
    "duration": 8,
    "start_time": "2024-10-27T02:35:58.833Z"
   },
   {
    "duration": 8,
    "start_time": "2024-10-27T02:35:58.843Z"
   },
   {
    "duration": 5,
    "start_time": "2024-10-27T02:35:58.852Z"
   },
   {
    "duration": 10,
    "start_time": "2024-10-27T02:35:58.858Z"
   },
   {
    "duration": 17,
    "start_time": "2024-10-27T02:35:58.870Z"
   },
   {
    "duration": 6,
    "start_time": "2024-10-27T02:35:58.889Z"
   },
   {
    "duration": 49,
    "start_time": "2024-10-27T02:35:58.932Z"
   },
   {
    "duration": 60,
    "start_time": "2024-10-27T02:35:58.983Z"
   },
   {
    "duration": 8,
    "start_time": "2024-10-27T02:35:59.045Z"
   },
   {
    "duration": 51,
    "start_time": "2024-10-27T02:35:59.055Z"
   },
   {
    "duration": 33,
    "start_time": "2024-10-27T02:35:59.109Z"
   },
   {
    "duration": 6,
    "start_time": "2024-10-27T02:35:59.144Z"
   },
   {
    "duration": 14,
    "start_time": "2024-10-27T02:35:59.152Z"
   },
   {
    "duration": 16,
    "start_time": "2024-10-27T02:35:59.168Z"
   },
   {
    "duration": 6,
    "start_time": "2024-10-27T02:35:59.186Z"
   },
   {
    "duration": 55,
    "start_time": "2024-10-27T02:35:59.194Z"
   },
   {
    "duration": 14,
    "start_time": "2024-10-27T02:35:59.251Z"
   },
   {
    "duration": 6,
    "start_time": "2024-10-27T02:35:59.267Z"
   },
   {
    "duration": 59,
    "start_time": "2024-10-27T02:35:59.276Z"
   },
   {
    "duration": 7,
    "start_time": "2024-10-27T02:35:59.337Z"
   },
   {
    "duration": 21,
    "start_time": "2024-10-27T02:35:59.346Z"
   },
   {
    "duration": 7,
    "start_time": "2024-10-27T02:35:59.369Z"
   },
   {
    "duration": 53,
    "start_time": "2024-10-27T02:35:59.378Z"
   },
   {
    "duration": 21,
    "start_time": "2024-10-27T02:35:59.433Z"
   },
   {
    "duration": 22,
    "start_time": "2024-10-27T02:35:59.456Z"
   },
   {
    "duration": 19,
    "start_time": "2024-10-27T02:35:59.482Z"
   },
   {
    "duration": 31,
    "start_time": "2024-10-27T02:35:59.503Z"
   },
   {
    "duration": 24,
    "start_time": "2024-10-27T02:35:59.536Z"
   },
   {
    "duration": 21,
    "start_time": "2024-10-27T02:35:59.562Z"
   },
   {
    "duration": 11,
    "start_time": "2024-10-27T02:35:59.585Z"
   },
   {
    "duration": 27,
    "start_time": "2024-10-27T02:36:01.323Z"
   },
   {
    "duration": 27,
    "start_time": "2024-10-27T02:36:03.520Z"
   },
   {
    "duration": 36,
    "start_time": "2024-10-27T02:36:12.595Z"
   },
   {
    "duration": 5,
    "start_time": "2024-10-27T02:36:22.840Z"
   },
   {
    "duration": 7,
    "start_time": "2024-10-27T02:36:29.294Z"
   },
   {
    "duration": 8,
    "start_time": "2024-10-27T02:36:32.274Z"
   },
   {
    "duration": 7,
    "start_time": "2024-10-27T02:36:33.690Z"
   },
   {
    "duration": 8,
    "start_time": "2024-10-27T02:36:52.650Z"
   },
   {
    "duration": 8,
    "start_time": "2024-10-27T02:37:05.730Z"
   },
   {
    "duration": 8,
    "start_time": "2024-10-27T02:37:13.122Z"
   },
   {
    "duration": 12,
    "start_time": "2024-10-27T02:37:20.654Z"
   },
   {
    "duration": 37,
    "start_time": "2024-10-27T02:37:33.870Z"
   },
   {
    "duration": 37,
    "start_time": "2024-10-27T02:38:02.630Z"
   },
   {
    "duration": 35,
    "start_time": "2024-10-27T02:38:05.968Z"
   },
   {
    "duration": 37,
    "start_time": "2024-10-27T02:38:09.427Z"
   },
   {
    "duration": 3,
    "start_time": "2024-10-27T02:38:27.288Z"
   },
   {
    "duration": 6,
    "start_time": "2024-10-27T02:38:27.296Z"
   },
   {
    "duration": 66,
    "start_time": "2024-10-27T02:38:27.304Z"
   },
   {
    "duration": 35,
    "start_time": "2024-10-27T02:38:27.372Z"
   },
   {
    "duration": 5,
    "start_time": "2024-10-27T02:38:27.409Z"
   },
   {
    "duration": 61,
    "start_time": "2024-10-27T02:38:27.417Z"
   },
   {
    "duration": 8,
    "start_time": "2024-10-27T02:38:27.480Z"
   },
   {
    "duration": 7,
    "start_time": "2024-10-27T02:38:27.489Z"
   },
   {
    "duration": 6,
    "start_time": "2024-10-27T02:38:27.498Z"
   },
   {
    "duration": 33,
    "start_time": "2024-10-27T02:38:27.506Z"
   },
   {
    "duration": 9,
    "start_time": "2024-10-27T02:38:27.541Z"
   },
   {
    "duration": 9,
    "start_time": "2024-10-27T02:38:27.552Z"
   },
   {
    "duration": 8,
    "start_time": "2024-10-27T02:38:27.562Z"
   },
   {
    "duration": 8,
    "start_time": "2024-10-27T02:38:27.572Z"
   },
   {
    "duration": 7,
    "start_time": "2024-10-27T02:38:27.584Z"
   },
   {
    "duration": 45,
    "start_time": "2024-10-27T02:38:27.593Z"
   },
   {
    "duration": 10,
    "start_time": "2024-10-27T02:38:27.640Z"
   },
   {
    "duration": 7,
    "start_time": "2024-10-27T02:38:27.652Z"
   },
   {
    "duration": 16,
    "start_time": "2024-10-27T02:38:27.660Z"
   },
   {
    "duration": 18,
    "start_time": "2024-10-27T02:38:27.678Z"
   },
   {
    "duration": 7,
    "start_time": "2024-10-27T02:38:27.697Z"
   },
   {
    "duration": 81,
    "start_time": "2024-10-27T02:38:27.705Z"
   },
   {
    "duration": 55,
    "start_time": "2024-10-27T02:38:27.788Z"
   },
   {
    "duration": 10,
    "start_time": "2024-10-27T02:38:27.845Z"
   },
   {
    "duration": 51,
    "start_time": "2024-10-27T02:38:27.856Z"
   },
   {
    "duration": 29,
    "start_time": "2024-10-27T02:38:27.909Z"
   },
   {
    "duration": 7,
    "start_time": "2024-10-27T02:38:27.940Z"
   },
   {
    "duration": 15,
    "start_time": "2024-10-27T02:38:27.948Z"
   },
   {
    "duration": 17,
    "start_time": "2024-10-27T02:38:27.965Z"
   },
   {
    "duration": 7,
    "start_time": "2024-10-27T02:38:27.984Z"
   },
   {
    "duration": 51,
    "start_time": "2024-10-27T02:38:27.993Z"
   },
   {
    "duration": 13,
    "start_time": "2024-10-27T02:38:28.046Z"
   },
   {
    "duration": 6,
    "start_time": "2024-10-27T02:38:28.061Z"
   },
   {
    "duration": 39,
    "start_time": "2024-10-27T02:38:28.069Z"
   },
   {
    "duration": 9,
    "start_time": "2024-10-27T02:38:28.132Z"
   },
   {
    "duration": 21,
    "start_time": "2024-10-27T02:38:28.145Z"
   },
   {
    "duration": 9,
    "start_time": "2024-10-27T02:38:28.168Z"
   },
   {
    "duration": 25,
    "start_time": "2024-10-27T02:38:28.179Z"
   },
   {
    "duration": 22,
    "start_time": "2024-10-27T02:38:28.231Z"
   },
   {
    "duration": 23,
    "start_time": "2024-10-27T02:38:28.255Z"
   },
   {
    "duration": 19,
    "start_time": "2024-10-27T02:38:28.280Z"
   },
   {
    "duration": 5,
    "start_time": "2024-10-27T02:38:28.303Z"
   },
   {
    "duration": 50,
    "start_time": "2024-10-27T02:38:28.310Z"
   },
   {
    "duration": 22,
    "start_time": "2024-10-27T02:38:28.361Z"
   },
   {
    "duration": 13,
    "start_time": "2024-10-27T02:38:28.385Z"
   },
   {
    "duration": 38,
    "start_time": "2024-10-27T02:38:31.741Z"
   },
   {
    "duration": 38,
    "start_time": "2024-10-27T02:40:13.629Z"
   },
   {
    "duration": 29,
    "start_time": "2024-10-27T02:41:30.809Z"
   },
   {
    "duration": 38,
    "start_time": "2024-10-27T02:41:33.713Z"
   },
   {
    "duration": 27,
    "start_time": "2024-10-27T02:41:44.384Z"
   },
   {
    "duration": 36,
    "start_time": "2024-10-27T02:41:47.133Z"
   },
   {
    "duration": 5,
    "start_time": "2024-10-27T02:42:04.530Z"
   },
   {
    "duration": 37,
    "start_time": "2024-10-27T02:42:06.459Z"
   },
   {
    "duration": 37,
    "start_time": "2024-10-27T02:45:28.403Z"
   },
   {
    "duration": 37,
    "start_time": "2024-10-27T02:45:38.720Z"
   },
   {
    "duration": 3,
    "start_time": "2024-10-27T02:48:51.331Z"
   },
   {
    "duration": 4,
    "start_time": "2024-10-27T02:50:07.230Z"
   },
   {
    "duration": 3,
    "start_time": "2024-10-27T02:51:15.831Z"
   },
   {
    "duration": 5,
    "start_time": "2024-10-27T02:51:20.514Z"
   },
   {
    "duration": 6,
    "start_time": "2024-10-27T02:51:57.170Z"
   },
   {
    "duration": 5,
    "start_time": "2024-10-27T02:52:08.501Z"
   },
   {
    "duration": 10,
    "start_time": "2024-10-27T02:54:02.254Z"
   },
   {
    "duration": 107,
    "start_time": "2024-10-27T02:55:32.114Z"
   },
   {
    "duration": 440,
    "start_time": "2024-10-27T02:55:54.520Z"
   },
   {
    "duration": 12,
    "start_time": "2024-10-27T02:56:05.028Z"
   },
   {
    "duration": 161,
    "start_time": "2024-10-27T02:56:13.934Z"
   },
   {
    "duration": 159,
    "start_time": "2024-10-27T02:56:38.249Z"
   },
   {
    "duration": 169,
    "start_time": "2024-10-27T02:56:56.625Z"
   },
   {
    "duration": 160,
    "start_time": "2024-10-27T02:57:06.090Z"
   },
   {
    "duration": 707,
    "start_time": "2024-10-27T02:57:13.693Z"
   },
   {
    "duration": 157,
    "start_time": "2024-10-27T02:57:25.340Z"
   },
   {
    "duration": 210,
    "start_time": "2024-10-27T02:58:31.044Z"
   },
   {
    "duration": 160,
    "start_time": "2024-10-27T02:58:52.007Z"
   },
   {
    "duration": 161,
    "start_time": "2024-10-27T02:59:17.500Z"
   },
   {
    "duration": 154,
    "start_time": "2024-10-27T02:59:22.822Z"
   },
   {
    "duration": 28,
    "start_time": "2024-10-27T03:01:09.122Z"
   },
   {
    "duration": 61,
    "start_time": "2024-10-27T03:03:12.297Z"
   },
   {
    "duration": 173,
    "start_time": "2024-10-27T03:03:22.132Z"
   },
   {
    "duration": 50,
    "start_time": "2024-10-27T03:03:31.101Z"
   },
   {
    "duration": 54,
    "start_time": "2024-10-27T03:03:36.172Z"
   },
   {
    "duration": 33,
    "start_time": "2024-10-27T03:04:12.607Z"
   },
   {
    "duration": 3,
    "start_time": "2024-10-27T03:04:34.835Z"
   },
   {
    "duration": 8,
    "start_time": "2024-10-27T03:04:34.841Z"
   },
   {
    "duration": 82,
    "start_time": "2024-10-27T03:04:34.850Z"
   },
   {
    "duration": 35,
    "start_time": "2024-10-27T03:04:34.934Z"
   },
   {
    "duration": 7,
    "start_time": "2024-10-27T03:04:34.973Z"
   },
   {
    "duration": 61,
    "start_time": "2024-10-27T03:04:34.981Z"
   },
   {
    "duration": 9,
    "start_time": "2024-10-27T03:04:35.043Z"
   },
   {
    "duration": 8,
    "start_time": "2024-10-27T03:04:35.054Z"
   },
   {
    "duration": 6,
    "start_time": "2024-10-27T03:04:35.063Z"
   },
   {
    "duration": 8,
    "start_time": "2024-10-27T03:04:35.071Z"
   },
   {
    "duration": 7,
    "start_time": "2024-10-27T03:04:35.080Z"
   },
   {
    "duration": 42,
    "start_time": "2024-10-27T03:04:35.089Z"
   },
   {
    "duration": 9,
    "start_time": "2024-10-27T03:04:35.133Z"
   },
   {
    "duration": 7,
    "start_time": "2024-10-27T03:04:35.146Z"
   },
   {
    "duration": 7,
    "start_time": "2024-10-27T03:04:35.155Z"
   },
   {
    "duration": 8,
    "start_time": "2024-10-27T03:04:35.164Z"
   },
   {
    "duration": 7,
    "start_time": "2024-10-27T03:04:35.174Z"
   },
   {
    "duration": 5,
    "start_time": "2024-10-27T03:04:35.183Z"
   },
   {
    "duration": 10,
    "start_time": "2024-10-27T03:04:35.230Z"
   },
   {
    "duration": 15,
    "start_time": "2024-10-27T03:04:35.242Z"
   },
   {
    "duration": 7,
    "start_time": "2024-10-27T03:04:35.259Z"
   },
   {
    "duration": 75,
    "start_time": "2024-10-27T03:04:35.268Z"
   },
   {
    "duration": 47,
    "start_time": "2024-10-27T03:04:35.345Z"
   },
   {
    "duration": 8,
    "start_time": "2024-10-27T03:04:35.394Z"
   },
   {
    "duration": 81,
    "start_time": "2024-10-27T03:04:35.404Z"
   },
   {
    "duration": 13,
    "start_time": "2024-10-27T03:04:35.487Z"
   },
   {
    "duration": 6,
    "start_time": "2024-10-27T03:04:35.501Z"
   },
   {
    "duration": 31,
    "start_time": "2024-10-27T03:04:35.510Z"
   },
   {
    "duration": 17,
    "start_time": "2024-10-27T03:04:35.542Z"
   },
   {
    "duration": 7,
    "start_time": "2024-10-27T03:04:35.560Z"
   },
   {
    "duration": 17,
    "start_time": "2024-10-27T03:04:35.568Z"
   },
   {
    "duration": 47,
    "start_time": "2024-10-27T03:04:35.587Z"
   },
   {
    "duration": 6,
    "start_time": "2024-10-27T03:04:35.636Z"
   },
   {
    "duration": 39,
    "start_time": "2024-10-27T03:04:35.644Z"
   },
   {
    "duration": 7,
    "start_time": "2024-10-27T03:04:35.685Z"
   },
   {
    "duration": 41,
    "start_time": "2024-10-27T03:04:35.694Z"
   },
   {
    "duration": 7,
    "start_time": "2024-10-27T03:04:35.737Z"
   },
   {
    "duration": 26,
    "start_time": "2024-10-27T03:04:35.746Z"
   },
   {
    "duration": 824,
    "start_time": "2024-10-27T03:05:04.231Z"
   },
   {
    "duration": 7,
    "start_time": "2024-10-27T03:05:05.058Z"
   },
   {
    "duration": 87,
    "start_time": "2024-10-27T03:05:05.067Z"
   },
   {
    "duration": 43,
    "start_time": "2024-10-27T03:05:05.156Z"
   },
   {
    "duration": 6,
    "start_time": "2024-10-27T03:05:05.201Z"
   },
   {
    "duration": 78,
    "start_time": "2024-10-27T03:05:05.209Z"
   },
   {
    "duration": 11,
    "start_time": "2024-10-27T03:05:05.289Z"
   },
   {
    "duration": 7,
    "start_time": "2024-10-27T03:05:05.302Z"
   },
   {
    "duration": 12,
    "start_time": "2024-10-27T03:05:05.311Z"
   },
   {
    "duration": 7,
    "start_time": "2024-10-27T03:05:05.335Z"
   },
   {
    "duration": 7,
    "start_time": "2024-10-27T03:05:05.344Z"
   },
   {
    "duration": 8,
    "start_time": "2024-10-27T03:05:05.353Z"
   },
   {
    "duration": 9,
    "start_time": "2024-10-27T03:05:05.363Z"
   },
   {
    "duration": 9,
    "start_time": "2024-10-27T03:05:05.374Z"
   },
   {
    "duration": 9,
    "start_time": "2024-10-27T03:05:05.384Z"
   },
   {
    "duration": 10,
    "start_time": "2024-10-27T03:05:05.430Z"
   },
   {
    "duration": 8,
    "start_time": "2024-10-27T03:05:05.441Z"
   },
   {
    "duration": 4,
    "start_time": "2024-10-27T03:05:05.451Z"
   },
   {
    "duration": 9,
    "start_time": "2024-10-27T03:05:05.456Z"
   },
   {
    "duration": 20,
    "start_time": "2024-10-27T03:05:05.466Z"
   },
   {
    "duration": 7,
    "start_time": "2024-10-27T03:05:05.488Z"
   },
   {
    "duration": 54,
    "start_time": "2024-10-27T03:05:05.532Z"
   },
   {
    "duration": 64,
    "start_time": "2024-10-27T03:05:05.588Z"
   },
   {
    "duration": 7,
    "start_time": "2024-10-27T03:05:05.654Z"
   },
   {
    "duration": 79,
    "start_time": "2024-10-27T03:05:05.663Z"
   },
   {
    "duration": 12,
    "start_time": "2024-10-27T03:05:05.744Z"
   },
   {
    "duration": 6,
    "start_time": "2024-10-27T03:05:05.759Z"
   },
   {
    "duration": 15,
    "start_time": "2024-10-27T03:05:05.769Z"
   },
   {
    "duration": 15,
    "start_time": "2024-10-27T03:05:05.786Z"
   },
   {
    "duration": 31,
    "start_time": "2024-10-27T03:05:05.803Z"
   },
   {
    "duration": 18,
    "start_time": "2024-10-27T03:05:05.836Z"
   },
   {
    "duration": 13,
    "start_time": "2024-10-27T03:05:05.856Z"
   },
   {
    "duration": 7,
    "start_time": "2024-10-27T03:05:05.871Z"
   },
   {
    "duration": 71,
    "start_time": "2024-10-27T03:05:05.880Z"
   },
   {
    "duration": 6,
    "start_time": "2024-10-27T03:05:05.953Z"
   },
   {
    "duration": 24,
    "start_time": "2024-10-27T03:05:05.961Z"
   },
   {
    "duration": 8,
    "start_time": "2024-10-27T03:05:05.987Z"
   },
   {
    "duration": 50,
    "start_time": "2024-10-27T03:05:05.997Z"
   },
   {
    "duration": 20,
    "start_time": "2024-10-27T03:05:06.051Z"
   },
   {
    "duration": 20,
    "start_time": "2024-10-27T03:05:06.072Z"
   },
   {
    "duration": 40,
    "start_time": "2024-10-27T03:05:06.093Z"
   },
   {
    "duration": 6,
    "start_time": "2024-10-27T03:05:06.135Z"
   },
   {
    "duration": 162,
    "start_time": "2024-10-27T03:05:17.473Z"
   },
   {
    "duration": 790,
    "start_time": "2024-10-27T03:05:22.467Z"
   },
   {
    "duration": 8,
    "start_time": "2024-10-27T03:05:23.258Z"
   },
   {
    "duration": 86,
    "start_time": "2024-10-27T03:05:23.268Z"
   },
   {
    "duration": 45,
    "start_time": "2024-10-27T03:05:23.356Z"
   },
   {
    "duration": 6,
    "start_time": "2024-10-27T03:05:23.403Z"
   },
   {
    "duration": 76,
    "start_time": "2024-10-27T03:05:23.411Z"
   },
   {
    "duration": 10,
    "start_time": "2024-10-27T03:05:23.489Z"
   },
   {
    "duration": 6,
    "start_time": "2024-10-27T03:05:23.501Z"
   },
   {
    "duration": 5,
    "start_time": "2024-10-27T03:05:23.509Z"
   },
   {
    "duration": 12,
    "start_time": "2024-10-27T03:05:23.530Z"
   },
   {
    "duration": 8,
    "start_time": "2024-10-27T03:05:23.544Z"
   },
   {
    "duration": 10,
    "start_time": "2024-10-27T03:05:23.554Z"
   },
   {
    "duration": 9,
    "start_time": "2024-10-27T03:05:23.565Z"
   },
   {
    "duration": 9,
    "start_time": "2024-10-27T03:05:23.576Z"
   },
   {
    "duration": 8,
    "start_time": "2024-10-27T03:05:23.587Z"
   },
   {
    "duration": 41,
    "start_time": "2024-10-27T03:05:23.596Z"
   },
   {
    "duration": 7,
    "start_time": "2024-10-27T03:05:23.640Z"
   },
   {
    "duration": 5,
    "start_time": "2024-10-27T03:05:23.648Z"
   },
   {
    "duration": 8,
    "start_time": "2024-10-27T03:05:23.655Z"
   },
   {
    "duration": 15,
    "start_time": "2024-10-27T03:05:23.665Z"
   },
   {
    "duration": 7,
    "start_time": "2024-10-27T03:05:23.681Z"
   },
   {
    "duration": 92,
    "start_time": "2024-10-27T03:05:23.690Z"
   },
   {
    "duration": 67,
    "start_time": "2024-10-27T03:05:23.784Z"
   },
   {
    "duration": 8,
    "start_time": "2024-10-27T03:05:23.853Z"
   },
   {
    "duration": 76,
    "start_time": "2024-10-27T03:05:23.863Z"
   },
   {
    "duration": 12,
    "start_time": "2024-10-27T03:05:23.941Z"
   },
   {
    "duration": 8,
    "start_time": "2024-10-27T03:05:23.955Z"
   },
   {
    "duration": 15,
    "start_time": "2024-10-27T03:05:23.966Z"
   },
   {
    "duration": 17,
    "start_time": "2024-10-27T03:05:23.983Z"
   },
   {
    "duration": 35,
    "start_time": "2024-10-27T03:05:24.002Z"
   },
   {
    "duration": 18,
    "start_time": "2024-10-27T03:05:24.039Z"
   },
   {
    "duration": 13,
    "start_time": "2024-10-27T03:05:24.059Z"
   },
   {
    "duration": 6,
    "start_time": "2024-10-27T03:05:24.074Z"
   },
   {
    "duration": 78,
    "start_time": "2024-10-27T03:05:24.082Z"
   },
   {
    "duration": 7,
    "start_time": "2024-10-27T03:05:24.162Z"
   },
   {
    "duration": 22,
    "start_time": "2024-10-27T03:05:24.171Z"
   },
   {
    "duration": 9,
    "start_time": "2024-10-27T03:05:24.195Z"
   },
   {
    "duration": 52,
    "start_time": "2024-10-27T03:05:24.205Z"
   },
   {
    "duration": 21,
    "start_time": "2024-10-27T03:05:24.259Z"
   },
   {
    "duration": 20,
    "start_time": "2024-10-27T03:05:24.282Z"
   },
   {
    "duration": 39,
    "start_time": "2024-10-27T03:05:24.303Z"
   },
   {
    "duration": 6,
    "start_time": "2024-10-27T03:05:24.343Z"
   },
   {
    "duration": 165,
    "start_time": "2024-10-27T03:06:12.878Z"
   },
   {
    "duration": 756,
    "start_time": "2024-10-27T03:06:19.004Z"
   },
   {
    "duration": 11,
    "start_time": "2024-10-27T03:06:19.763Z"
   },
   {
    "duration": 92,
    "start_time": "2024-10-27T03:06:19.776Z"
   },
   {
    "duration": 43,
    "start_time": "2024-10-27T03:06:19.870Z"
   },
   {
    "duration": 7,
    "start_time": "2024-10-27T03:06:19.914Z"
   },
   {
    "duration": 79,
    "start_time": "2024-10-27T03:06:19.922Z"
   },
   {
    "duration": 11,
    "start_time": "2024-10-27T03:06:20.003Z"
   },
   {
    "duration": 7,
    "start_time": "2024-10-27T03:06:20.016Z"
   },
   {
    "duration": 7,
    "start_time": "2024-10-27T03:06:20.025Z"
   },
   {
    "duration": 8,
    "start_time": "2024-10-27T03:06:20.036Z"
   },
   {
    "duration": 7,
    "start_time": "2024-10-27T03:06:20.045Z"
   },
   {
    "duration": 9,
    "start_time": "2024-10-27T03:06:20.054Z"
   },
   {
    "duration": 8,
    "start_time": "2024-10-27T03:06:20.065Z"
   },
   {
    "duration": 9,
    "start_time": "2024-10-27T03:06:20.074Z"
   },
   {
    "duration": 48,
    "start_time": "2024-10-27T03:06:20.084Z"
   },
   {
    "duration": 10,
    "start_time": "2024-10-27T03:06:20.134Z"
   },
   {
    "duration": 7,
    "start_time": "2024-10-27T03:06:20.146Z"
   },
   {
    "duration": 5,
    "start_time": "2024-10-27T03:06:20.154Z"
   },
   {
    "duration": 9,
    "start_time": "2024-10-27T03:06:20.161Z"
   },
   {
    "duration": 17,
    "start_time": "2024-10-27T03:06:20.172Z"
   },
   {
    "duration": 43,
    "start_time": "2024-10-27T03:06:20.190Z"
   },
   {
    "duration": 55,
    "start_time": "2024-10-27T03:06:20.235Z"
   },
   {
    "duration": 72,
    "start_time": "2024-10-27T03:06:20.292Z"
   },
   {
    "duration": 11,
    "start_time": "2024-10-27T03:06:20.367Z"
   },
   {
    "duration": 126,
    "start_time": "2024-10-27T03:06:22.421Z"
   },
   {
    "duration": 53,
    "start_time": "2024-10-27T03:06:26.266Z"
   },
   {
    "duration": 3,
    "start_time": "2024-10-27T03:06:50.396Z"
   },
   {
    "duration": 7,
    "start_time": "2024-10-27T03:06:50.403Z"
   },
   {
    "duration": 77,
    "start_time": "2024-10-27T03:06:50.415Z"
   },
   {
    "duration": 34,
    "start_time": "2024-10-27T03:06:50.494Z"
   },
   {
    "duration": 5,
    "start_time": "2024-10-27T03:06:50.531Z"
   },
   {
    "duration": 54,
    "start_time": "2024-10-27T03:06:50.538Z"
   },
   {
    "duration": 8,
    "start_time": "2024-10-27T03:06:50.594Z"
   },
   {
    "duration": 13,
    "start_time": "2024-10-27T03:06:50.605Z"
   },
   {
    "duration": 7,
    "start_time": "2024-10-27T03:06:50.631Z"
   },
   {
    "duration": 7,
    "start_time": "2024-10-27T03:06:50.640Z"
   },
   {
    "duration": 7,
    "start_time": "2024-10-27T03:06:50.651Z"
   },
   {
    "duration": 8,
    "start_time": "2024-10-27T03:06:50.660Z"
   },
   {
    "duration": 7,
    "start_time": "2024-10-27T03:06:50.670Z"
   },
   {
    "duration": 9,
    "start_time": "2024-10-27T03:06:50.679Z"
   },
   {
    "duration": 51,
    "start_time": "2024-10-27T03:06:50.689Z"
   },
   {
    "duration": 8,
    "start_time": "2024-10-27T03:06:50.741Z"
   },
   {
    "duration": 7,
    "start_time": "2024-10-27T03:06:50.750Z"
   },
   {
    "duration": 4,
    "start_time": "2024-10-27T03:06:50.759Z"
   },
   {
    "duration": 8,
    "start_time": "2024-10-27T03:06:50.765Z"
   },
   {
    "duration": 15,
    "start_time": "2024-10-27T03:06:50.775Z"
   },
   {
    "duration": 44,
    "start_time": "2024-10-27T03:06:50.792Z"
   },
   {
    "duration": 49,
    "start_time": "2024-10-27T03:06:50.838Z"
   },
   {
    "duration": 60,
    "start_time": "2024-10-27T03:06:50.889Z"
   },
   {
    "duration": 7,
    "start_time": "2024-10-27T03:06:50.951Z"
   },
   {
    "duration": 73,
    "start_time": "2024-10-27T03:06:50.960Z"
   },
   {
    "duration": 12,
    "start_time": "2024-10-27T03:06:51.035Z"
   },
   {
    "duration": 6,
    "start_time": "2024-10-27T03:06:51.048Z"
   },
   {
    "duration": 15,
    "start_time": "2024-10-27T03:06:51.056Z"
   },
   {
    "duration": 17,
    "start_time": "2024-10-27T03:06:51.074Z"
   },
   {
    "duration": 39,
    "start_time": "2024-10-27T03:06:51.093Z"
   },
   {
    "duration": 18,
    "start_time": "2024-10-27T03:06:51.134Z"
   },
   {
    "duration": 13,
    "start_time": "2024-10-27T03:06:51.154Z"
   },
   {
    "duration": 6,
    "start_time": "2024-10-27T03:06:51.169Z"
   },
   {
    "duration": 68,
    "start_time": "2024-10-27T03:06:51.177Z"
   },
   {
    "duration": 7,
    "start_time": "2024-10-27T03:06:51.246Z"
   },
   {
    "duration": 21,
    "start_time": "2024-10-27T03:06:51.255Z"
   },
   {
    "duration": 7,
    "start_time": "2024-10-27T03:06:51.278Z"
   },
   {
    "duration": 26,
    "start_time": "2024-10-27T03:06:53.758Z"
   },
   {
    "duration": 22,
    "start_time": "2024-10-27T03:06:58.897Z"
   },
   {
    "duration": 19,
    "start_time": "2024-10-27T03:07:09.577Z"
   },
   {
    "duration": 3,
    "start_time": "2024-10-27T03:07:21.731Z"
   },
   {
    "duration": 6,
    "start_time": "2024-10-27T03:07:21.739Z"
   },
   {
    "duration": 90,
    "start_time": "2024-10-27T03:07:21.747Z"
   },
   {
    "duration": 34,
    "start_time": "2024-10-27T03:07:21.839Z"
   },
   {
    "duration": 5,
    "start_time": "2024-10-27T03:07:21.875Z"
   },
   {
    "duration": 70,
    "start_time": "2024-10-27T03:07:21.882Z"
   },
   {
    "duration": 10,
    "start_time": "2024-10-27T03:07:21.954Z"
   },
   {
    "duration": 8,
    "start_time": "2024-10-27T03:07:21.967Z"
   },
   {
    "duration": 6,
    "start_time": "2024-10-27T03:07:21.977Z"
   },
   {
    "duration": 8,
    "start_time": "2024-10-27T03:07:21.985Z"
   },
   {
    "duration": 7,
    "start_time": "2024-10-27T03:07:21.995Z"
   },
   {
    "duration": 9,
    "start_time": "2024-10-27T03:07:22.031Z"
   },
   {
    "duration": 8,
    "start_time": "2024-10-27T03:07:22.041Z"
   },
   {
    "duration": 8,
    "start_time": "2024-10-27T03:07:22.051Z"
   },
   {
    "duration": 87,
    "start_time": "2024-10-27T03:07:22.063Z"
   },
   {
    "duration": 7,
    "start_time": "2024-10-27T03:07:22.152Z"
   },
   {
    "duration": 7,
    "start_time": "2024-10-27T03:07:22.161Z"
   },
   {
    "duration": 5,
    "start_time": "2024-10-27T03:07:22.169Z"
   },
   {
    "duration": 9,
    "start_time": "2024-10-27T03:07:22.178Z"
   },
   {
    "duration": 45,
    "start_time": "2024-10-27T03:07:22.188Z"
   },
   {
    "duration": 7,
    "start_time": "2024-10-27T03:07:22.235Z"
   },
   {
    "duration": 54,
    "start_time": "2024-10-27T03:07:22.244Z"
   },
   {
    "duration": 62,
    "start_time": "2024-10-27T03:07:22.300Z"
   },
   {
    "duration": 7,
    "start_time": "2024-10-27T03:07:22.364Z"
   },
   {
    "duration": 74,
    "start_time": "2024-10-27T03:07:22.373Z"
   },
   {
    "duration": 12,
    "start_time": "2024-10-27T03:07:22.449Z"
   },
   {
    "duration": 6,
    "start_time": "2024-10-27T03:07:22.463Z"
   },
   {
    "duration": 15,
    "start_time": "2024-10-27T03:07:22.470Z"
   },
   {
    "duration": 45,
    "start_time": "2024-10-27T03:07:22.487Z"
   },
   {
    "duration": 7,
    "start_time": "2024-10-27T03:07:22.534Z"
   },
   {
    "duration": 18,
    "start_time": "2024-10-27T03:07:22.542Z"
   },
   {
    "duration": 13,
    "start_time": "2024-10-27T03:07:22.562Z"
   },
   {
    "duration": 7,
    "start_time": "2024-10-27T03:07:22.577Z"
   },
   {
    "duration": 78,
    "start_time": "2024-10-27T03:07:22.586Z"
   },
   {
    "duration": 7,
    "start_time": "2024-10-27T03:07:22.666Z"
   },
   {
    "duration": 22,
    "start_time": "2024-10-27T03:07:22.675Z"
   },
   {
    "duration": 7,
    "start_time": "2024-10-27T03:07:22.700Z"
   },
   {
    "duration": 46,
    "start_time": "2024-10-27T03:07:22.709Z"
   },
   {
    "duration": 19,
    "start_time": "2024-10-27T03:07:22.757Z"
   },
   {
    "duration": 19,
    "start_time": "2024-10-27T03:07:22.779Z"
   },
   {
    "duration": 40,
    "start_time": "2024-10-27T03:07:22.801Z"
   },
   {
    "duration": 5,
    "start_time": "2024-10-27T03:07:22.846Z"
   },
   {
    "duration": 15,
    "start_time": "2024-10-27T03:07:26.314Z"
   },
   {
    "duration": 27,
    "start_time": "2024-10-27T03:07:34.320Z"
   },
   {
    "duration": 25,
    "start_time": "2024-10-27T03:07:56.251Z"
   },
   {
    "duration": 357,
    "start_time": "2024-10-27T03:08:44.515Z"
   },
   {
    "duration": 72,
    "start_time": "2024-10-27T03:08:58.573Z"
   },
   {
    "duration": 151,
    "start_time": "2024-10-27T03:09:18.269Z"
   },
   {
    "duration": 103,
    "start_time": "2024-10-27T03:09:26.716Z"
   },
   {
    "duration": 56,
    "start_time": "2024-10-27T03:09:58.466Z"
   },
   {
    "duration": 52,
    "start_time": "2024-10-27T03:10:05.897Z"
   },
   {
    "duration": 83,
    "start_time": "2024-10-27T03:10:09.298Z"
   },
   {
    "duration": 47,
    "start_time": "2024-10-27T03:12:43.798Z"
   },
   {
    "duration": 0,
    "start_time": "2024-10-27T03:12:43.848Z"
   },
   {
    "duration": 0,
    "start_time": "2024-10-27T03:12:43.849Z"
   },
   {
    "duration": 0,
    "start_time": "2024-10-27T03:12:43.850Z"
   },
   {
    "duration": 0,
    "start_time": "2024-10-27T03:12:43.851Z"
   },
   {
    "duration": 0,
    "start_time": "2024-10-27T03:12:43.852Z"
   },
   {
    "duration": 0,
    "start_time": "2024-10-27T03:12:43.853Z"
   },
   {
    "duration": 0,
    "start_time": "2024-10-27T03:12:43.854Z"
   },
   {
    "duration": 0,
    "start_time": "2024-10-27T03:12:43.855Z"
   },
   {
    "duration": 0,
    "start_time": "2024-10-27T03:12:43.856Z"
   },
   {
    "duration": 0,
    "start_time": "2024-10-27T03:12:43.857Z"
   },
   {
    "duration": 0,
    "start_time": "2024-10-27T03:12:43.858Z"
   },
   {
    "duration": 3,
    "start_time": "2024-10-27T03:12:49.828Z"
   },
   {
    "duration": 6,
    "start_time": "2024-10-27T03:12:49.836Z"
   },
   {
    "duration": 81,
    "start_time": "2024-10-27T03:12:49.844Z"
   },
   {
    "duration": 33,
    "start_time": "2024-10-27T03:12:49.927Z"
   },
   {
    "duration": 7,
    "start_time": "2024-10-27T03:12:49.962Z"
   },
   {
    "duration": 67,
    "start_time": "2024-10-27T03:12:49.972Z"
   },
   {
    "duration": 9,
    "start_time": "2024-10-27T03:12:50.041Z"
   },
   {
    "duration": 7,
    "start_time": "2024-10-27T03:12:50.051Z"
   },
   {
    "duration": 7,
    "start_time": "2024-10-27T03:12:50.060Z"
   },
   {
    "duration": 7,
    "start_time": "2024-10-27T03:12:50.069Z"
   },
   {
    "duration": 9,
    "start_time": "2024-10-27T03:12:50.077Z"
   },
   {
    "duration": 51,
    "start_time": "2024-10-27T03:12:50.088Z"
   },
   {
    "duration": 7,
    "start_time": "2024-10-27T03:12:50.141Z"
   },
   {
    "duration": 8,
    "start_time": "2024-10-27T03:12:50.150Z"
   },
   {
    "duration": 7,
    "start_time": "2024-10-27T03:12:50.162Z"
   },
   {
    "duration": 8,
    "start_time": "2024-10-27T03:12:50.172Z"
   },
   {
    "duration": 49,
    "start_time": "2024-10-27T03:12:50.182Z"
   },
   {
    "duration": 6,
    "start_time": "2024-10-27T03:12:50.234Z"
   },
   {
    "duration": 9,
    "start_time": "2024-10-27T03:12:50.242Z"
   },
   {
    "duration": 14,
    "start_time": "2024-10-27T03:12:50.253Z"
   },
   {
    "duration": 6,
    "start_time": "2024-10-27T03:12:50.269Z"
   },
   {
    "duration": 86,
    "start_time": "2024-10-27T03:12:50.277Z"
   },
   {
    "duration": 43,
    "start_time": "2024-10-27T03:12:50.365Z"
   },
   {
    "duration": 21,
    "start_time": "2024-10-27T03:12:50.414Z"
   },
   {
    "duration": 53,
    "start_time": "2024-10-27T03:12:50.437Z"
   },
   {
    "duration": 15,
    "start_time": "2024-10-27T03:12:50.492Z"
   },
   {
    "duration": 7,
    "start_time": "2024-10-27T03:12:50.530Z"
   },
   {
    "duration": 16,
    "start_time": "2024-10-27T03:12:50.539Z"
   },
   {
    "duration": 17,
    "start_time": "2024-10-27T03:12:50.557Z"
   },
   {
    "duration": 6,
    "start_time": "2024-10-27T03:12:50.577Z"
   },
   {
    "duration": 54,
    "start_time": "2024-10-27T03:12:50.585Z"
   },
   {
    "duration": 13,
    "start_time": "2024-10-27T03:12:50.641Z"
   },
   {
    "duration": 6,
    "start_time": "2024-10-27T03:12:50.656Z"
   },
   {
    "duration": 38,
    "start_time": "2024-10-27T03:12:50.664Z"
   },
   {
    "duration": 8,
    "start_time": "2024-10-27T03:12:50.730Z"
   },
   {
    "duration": 23,
    "start_time": "2024-10-27T03:12:50.740Z"
   },
   {
    "duration": 7,
    "start_time": "2024-10-27T03:12:50.765Z"
   },
   {
    "duration": 22,
    "start_time": "2024-10-27T03:12:50.775Z"
   },
   {
    "duration": 17,
    "start_time": "2024-10-27T03:12:50.832Z"
   },
   {
    "duration": 19,
    "start_time": "2024-10-27T03:12:50.851Z"
   },
   {
    "duration": 19,
    "start_time": "2024-10-27T03:12:50.872Z"
   },
   {
    "duration": 38,
    "start_time": "2024-10-27T03:12:50.895Z"
   },
   {
    "duration": 44,
    "start_time": "2024-10-27T03:12:50.935Z"
   },
   {
    "duration": 0,
    "start_time": "2024-10-27T03:12:50.981Z"
   },
   {
    "duration": 0,
    "start_time": "2024-10-27T03:12:50.983Z"
   },
   {
    "duration": 0,
    "start_time": "2024-10-27T03:12:50.985Z"
   },
   {
    "duration": 23,
    "start_time": "2024-10-27T03:13:12.355Z"
   },
   {
    "duration": 14,
    "start_time": "2024-10-27T03:13:22.768Z"
   },
   {
    "duration": 23,
    "start_time": "2024-10-27T03:13:39.938Z"
   },
   {
    "duration": 752,
    "start_time": "2024-10-27T03:14:02.998Z"
   },
   {
    "duration": 8,
    "start_time": "2024-10-27T03:14:03.752Z"
   },
   {
    "duration": 77,
    "start_time": "2024-10-27T03:14:03.761Z"
   },
   {
    "duration": 32,
    "start_time": "2024-10-27T03:14:03.840Z"
   },
   {
    "duration": 6,
    "start_time": "2024-10-27T03:14:03.875Z"
   },
   {
    "duration": 74,
    "start_time": "2024-10-27T03:14:03.882Z"
   },
   {
    "duration": 11,
    "start_time": "2024-10-27T03:14:03.958Z"
   },
   {
    "duration": 7,
    "start_time": "2024-10-27T03:14:03.973Z"
   },
   {
    "duration": 6,
    "start_time": "2024-10-27T03:14:03.981Z"
   },
   {
    "duration": 7,
    "start_time": "2024-10-27T03:14:03.989Z"
   },
   {
    "duration": 35,
    "start_time": "2024-10-27T03:14:03.998Z"
   },
   {
    "duration": 10,
    "start_time": "2024-10-27T03:14:04.035Z"
   },
   {
    "duration": 8,
    "start_time": "2024-10-27T03:14:04.046Z"
   },
   {
    "duration": 8,
    "start_time": "2024-10-27T03:14:04.058Z"
   },
   {
    "duration": 8,
    "start_time": "2024-10-27T03:14:04.067Z"
   },
   {
    "duration": 56,
    "start_time": "2024-10-27T03:14:04.077Z"
   },
   {
    "duration": 7,
    "start_time": "2024-10-27T03:14:04.135Z"
   },
   {
    "duration": 4,
    "start_time": "2024-10-27T03:14:04.144Z"
   },
   {
    "duration": 10,
    "start_time": "2024-10-27T03:14:04.150Z"
   },
   {
    "duration": 16,
    "start_time": "2024-10-27T03:14:04.161Z"
   },
   {
    "duration": 7,
    "start_time": "2024-10-27T03:14:04.178Z"
   },
   {
    "duration": 95,
    "start_time": "2024-10-27T03:14:04.186Z"
   },
   {
    "duration": 67,
    "start_time": "2024-10-27T03:14:04.283Z"
   },
   {
    "duration": 7,
    "start_time": "2024-10-27T03:14:04.351Z"
   },
   {
    "duration": 71,
    "start_time": "2024-10-27T03:14:04.360Z"
   },
   {
    "duration": 12,
    "start_time": "2024-10-27T03:14:04.433Z"
   },
   {
    "duration": 6,
    "start_time": "2024-10-27T03:14:04.447Z"
   },
   {
    "duration": 15,
    "start_time": "2024-10-27T03:14:04.456Z"
   },
   {
    "duration": 17,
    "start_time": "2024-10-27T03:14:04.473Z"
   },
   {
    "duration": 43,
    "start_time": "2024-10-27T03:14:04.492Z"
   },
   {
    "duration": 23,
    "start_time": "2024-10-27T03:14:04.537Z"
   },
   {
    "duration": 13,
    "start_time": "2024-10-27T03:14:04.562Z"
   },
   {
    "duration": 7,
    "start_time": "2024-10-27T03:14:04.577Z"
   },
   {
    "duration": 77,
    "start_time": "2024-10-27T03:14:04.586Z"
   },
   {
    "duration": 7,
    "start_time": "2024-10-27T03:14:04.665Z"
   },
   {
    "duration": 22,
    "start_time": "2024-10-27T03:14:04.674Z"
   },
   {
    "duration": 8,
    "start_time": "2024-10-27T03:14:04.698Z"
   },
   {
    "duration": 26,
    "start_time": "2024-10-27T03:14:04.732Z"
   },
   {
    "duration": 22,
    "start_time": "2024-10-27T03:14:04.760Z"
   },
   {
    "duration": 18,
    "start_time": "2024-10-27T03:14:04.785Z"
   },
   {
    "duration": 19,
    "start_time": "2024-10-27T03:14:04.833Z"
   },
   {
    "duration": 5,
    "start_time": "2024-10-27T03:14:04.854Z"
   },
   {
    "duration": 24,
    "start_time": "2024-10-27T03:14:04.861Z"
   },
   {
    "duration": 58,
    "start_time": "2024-10-27T03:14:04.887Z"
   },
   {
    "duration": 5,
    "start_time": "2024-10-27T03:14:04.947Z"
   },
   {
    "duration": 39,
    "start_time": "2024-10-27T03:14:04.955Z"
   },
   {
    "duration": 212,
    "start_time": "2024-10-27T03:14:04.996Z"
   },
   {
    "duration": 2,
    "start_time": "2024-10-27T03:14:05.210Z"
   },
   {
    "duration": 20,
    "start_time": "2024-10-27T03:14:05.214Z"
   },
   {
    "duration": 3,
    "start_time": "2024-10-27T03:14:05.235Z"
   },
   {
    "duration": 3,
    "start_time": "2024-10-27T03:14:05.239Z"
   },
   {
    "duration": 2,
    "start_time": "2024-10-27T03:14:05.244Z"
   },
   {
    "duration": 2,
    "start_time": "2024-10-27T03:14:05.248Z"
   },
   {
    "duration": 3,
    "start_time": "2024-10-27T03:14:05.251Z"
   },
   {
    "duration": 139,
    "start_time": "2024-10-27T03:14:47.586Z"
   },
   {
    "duration": 7,
    "start_time": "2024-10-27T03:15:13.555Z"
   },
   {
    "duration": 171,
    "start_time": "2024-10-27T03:15:32.204Z"
   },
   {
    "duration": 185,
    "start_time": "2024-10-27T03:15:44.362Z"
   },
   {
    "duration": 91,
    "start_time": "2024-10-27T03:16:49.112Z"
   },
   {
    "duration": 37,
    "start_time": "2024-10-27T03:16:56.289Z"
   },
   {
    "duration": 524,
    "start_time": "2024-10-27T03:17:32.388Z"
   },
   {
    "duration": 38,
    "start_time": "2024-10-27T03:17:47.487Z"
   },
   {
    "duration": 59,
    "start_time": "2024-10-27T03:18:14.001Z"
   },
   {
    "duration": 37,
    "start_time": "2024-10-27T03:18:28.252Z"
   },
   {
    "duration": 2,
    "start_time": "2024-10-27T03:18:46.103Z"
   },
   {
    "duration": 6,
    "start_time": "2024-10-27T03:18:46.110Z"
   },
   {
    "duration": 75,
    "start_time": "2024-10-27T03:18:46.118Z"
   },
   {
    "duration": 40,
    "start_time": "2024-10-27T03:18:46.194Z"
   },
   {
    "duration": 6,
    "start_time": "2024-10-27T03:18:46.235Z"
   },
   {
    "duration": 53,
    "start_time": "2024-10-27T03:18:46.243Z"
   },
   {
    "duration": 8,
    "start_time": "2024-10-27T03:18:46.298Z"
   },
   {
    "duration": 9,
    "start_time": "2024-10-27T03:18:46.331Z"
   },
   {
    "duration": 6,
    "start_time": "2024-10-27T03:18:46.342Z"
   },
   {
    "duration": 8,
    "start_time": "2024-10-27T03:18:46.350Z"
   },
   {
    "duration": 7,
    "start_time": "2024-10-27T03:18:46.361Z"
   },
   {
    "duration": 10,
    "start_time": "2024-10-27T03:18:46.369Z"
   },
   {
    "duration": 8,
    "start_time": "2024-10-27T03:18:46.380Z"
   },
   {
    "duration": 8,
    "start_time": "2024-10-27T03:18:46.432Z"
   },
   {
    "duration": 7,
    "start_time": "2024-10-27T03:18:46.447Z"
   },
   {
    "duration": 8,
    "start_time": "2024-10-27T03:18:46.456Z"
   },
   {
    "duration": 7,
    "start_time": "2024-10-27T03:18:46.466Z"
   },
   {
    "duration": 5,
    "start_time": "2024-10-27T03:18:46.475Z"
   },
   {
    "duration": 56,
    "start_time": "2024-10-27T03:18:46.482Z"
   },
   {
    "duration": 16,
    "start_time": "2024-10-27T03:18:46.540Z"
   },
   {
    "duration": 6,
    "start_time": "2024-10-27T03:18:46.558Z"
   },
   {
    "duration": 71,
    "start_time": "2024-10-27T03:18:46.566Z"
   },
   {
    "duration": 41,
    "start_time": "2024-10-27T03:18:46.639Z"
   },
   {
    "duration": 8,
    "start_time": "2024-10-27T03:18:46.682Z"
   },
   {
    "duration": 80,
    "start_time": "2024-10-27T03:18:46.691Z"
   },
   {
    "duration": 18,
    "start_time": "2024-10-27T03:18:46.772Z"
   },
   {
    "duration": 6,
    "start_time": "2024-10-27T03:18:46.791Z"
   },
   {
    "duration": 35,
    "start_time": "2024-10-27T03:18:46.799Z"
   },
   {
    "duration": 16,
    "start_time": "2024-10-27T03:18:46.836Z"
   },
   {
    "duration": 7,
    "start_time": "2024-10-27T03:18:46.853Z"
   },
   {
    "duration": 17,
    "start_time": "2024-10-27T03:18:46.862Z"
   },
   {
    "duration": 14,
    "start_time": "2024-10-27T03:18:46.881Z"
   },
   {
    "duration": 6,
    "start_time": "2024-10-27T03:18:46.932Z"
   },
   {
    "duration": 39,
    "start_time": "2024-10-27T03:18:46.940Z"
   },
   {
    "duration": 8,
    "start_time": "2024-10-27T03:18:46.980Z"
   },
   {
    "duration": 50,
    "start_time": "2024-10-27T03:18:46.990Z"
   },
   {
    "duration": 7,
    "start_time": "2024-10-27T03:18:47.042Z"
   },
   {
    "duration": 25,
    "start_time": "2024-10-27T03:18:47.051Z"
   },
   {
    "duration": 21,
    "start_time": "2024-10-27T03:18:47.077Z"
   },
   {
    "duration": 50,
    "start_time": "2024-10-27T03:18:47.099Z"
   },
   {
    "duration": 19,
    "start_time": "2024-10-27T03:18:47.151Z"
   },
   {
    "duration": 7,
    "start_time": "2024-10-27T03:18:47.176Z"
   },
   {
    "duration": 69,
    "start_time": "2024-10-27T03:18:47.185Z"
   },
   {
    "duration": 36,
    "start_time": "2024-10-27T03:18:47.256Z"
   },
   {
    "duration": 0,
    "start_time": "2024-10-27T03:18:47.294Z"
   },
   {
    "duration": 0,
    "start_time": "2024-10-27T03:18:47.295Z"
   },
   {
    "duration": 21,
    "start_time": "2024-10-27T03:19:20.675Z"
   },
   {
    "duration": 6,
    "start_time": "2024-10-27T03:19:31.695Z"
   },
   {
    "duration": 38,
    "start_time": "2024-10-27T03:19:33.787Z"
   },
   {
    "duration": 56,
    "start_time": "2024-10-27T03:20:46.180Z"
   },
   {
    "duration": 5,
    "start_time": "2024-10-27T03:21:02.755Z"
   },
   {
    "duration": 4,
    "start_time": "2024-10-27T03:21:06.570Z"
   },
   {
    "duration": 7,
    "start_time": "2024-10-27T03:21:10.218Z"
   },
   {
    "duration": 8,
    "start_time": "2024-10-27T03:21:32.357Z"
   },
   {
    "duration": 7,
    "start_time": "2024-10-27T03:23:23.851Z"
   },
   {
    "duration": 19,
    "start_time": "2024-10-27T03:27:09.000Z"
   },
   {
    "duration": 15,
    "start_time": "2024-10-27T03:27:12.554Z"
   },
   {
    "duration": 14,
    "start_time": "2024-10-27T03:27:20.241Z"
   },
   {
    "duration": 11,
    "start_time": "2024-10-27T03:27:29.633Z"
   },
   {
    "duration": 11,
    "start_time": "2024-10-27T03:27:33.842Z"
   },
   {
    "duration": 16,
    "start_time": "2024-10-27T03:27:39.002Z"
   },
   {
    "duration": 11,
    "start_time": "2024-10-27T03:27:50.691Z"
   },
   {
    "duration": 14,
    "start_time": "2024-10-27T03:27:56.021Z"
   },
   {
    "duration": 4,
    "start_time": "2024-10-27T03:27:57.993Z"
   },
   {
    "duration": 13,
    "start_time": "2024-10-27T03:27:59.900Z"
   },
   {
    "duration": 17,
    "start_time": "2024-10-27T03:28:08.220Z"
   },
   {
    "duration": 15,
    "start_time": "2024-10-27T03:28:12.914Z"
   },
   {
    "duration": 3,
    "start_time": "2024-10-27T03:29:03.934Z"
   },
   {
    "duration": 8,
    "start_time": "2024-10-27T03:29:03.942Z"
   },
   {
    "duration": 88,
    "start_time": "2024-10-27T03:29:03.952Z"
   },
   {
    "duration": 36,
    "start_time": "2024-10-27T03:29:04.042Z"
   },
   {
    "duration": 7,
    "start_time": "2024-10-27T03:29:04.080Z"
   },
   {
    "duration": 67,
    "start_time": "2024-10-27T03:29:04.089Z"
   },
   {
    "duration": 8,
    "start_time": "2024-10-27T03:29:04.158Z"
   },
   {
    "duration": 7,
    "start_time": "2024-10-27T03:29:04.167Z"
   },
   {
    "duration": 6,
    "start_time": "2024-10-27T03:29:04.176Z"
   },
   {
    "duration": 6,
    "start_time": "2024-10-27T03:29:04.185Z"
   },
   {
    "duration": 40,
    "start_time": "2024-10-27T03:29:04.193Z"
   },
   {
    "duration": 8,
    "start_time": "2024-10-27T03:29:04.235Z"
   },
   {
    "duration": 7,
    "start_time": "2024-10-27T03:29:04.245Z"
   },
   {
    "duration": 9,
    "start_time": "2024-10-27T03:29:04.253Z"
   },
   {
    "duration": 8,
    "start_time": "2024-10-27T03:29:04.267Z"
   },
   {
    "duration": 7,
    "start_time": "2024-10-27T03:29:04.277Z"
   },
   {
    "duration": 7,
    "start_time": "2024-10-27T03:29:04.332Z"
   },
   {
    "duration": 5,
    "start_time": "2024-10-27T03:29:04.341Z"
   },
   {
    "duration": 9,
    "start_time": "2024-10-27T03:29:04.348Z"
   },
   {
    "duration": 16,
    "start_time": "2024-10-27T03:29:04.359Z"
   },
   {
    "duration": 7,
    "start_time": "2024-10-27T03:29:04.377Z"
   },
   {
    "duration": 88,
    "start_time": "2024-10-27T03:29:04.385Z"
   },
   {
    "duration": 58,
    "start_time": "2024-10-27T03:29:04.475Z"
   },
   {
    "duration": 9,
    "start_time": "2024-10-27T03:29:04.535Z"
   },
   {
    "duration": 52,
    "start_time": "2024-10-27T03:29:04.545Z"
   },
   {
    "duration": 34,
    "start_time": "2024-10-27T03:29:04.599Z"
   },
   {
    "duration": 6,
    "start_time": "2024-10-27T03:29:04.635Z"
   },
   {
    "duration": 17,
    "start_time": "2024-10-27T03:29:04.643Z"
   },
   {
    "duration": 17,
    "start_time": "2024-10-27T03:29:04.662Z"
   },
   {
    "duration": 8,
    "start_time": "2024-10-27T03:29:04.680Z"
   },
   {
    "duration": 58,
    "start_time": "2024-10-27T03:29:04.689Z"
   },
   {
    "duration": 14,
    "start_time": "2024-10-27T03:29:04.749Z"
   },
   {
    "duration": 7,
    "start_time": "2024-10-27T03:29:04.765Z"
   },
   {
    "duration": 69,
    "start_time": "2024-10-27T03:29:04.774Z"
   },
   {
    "duration": 7,
    "start_time": "2024-10-27T03:29:04.844Z"
   },
   {
    "duration": 22,
    "start_time": "2024-10-27T03:29:04.853Z"
   },
   {
    "duration": 8,
    "start_time": "2024-10-27T03:29:04.878Z"
   },
   {
    "duration": 54,
    "start_time": "2024-10-27T03:29:04.889Z"
   },
   {
    "duration": 22,
    "start_time": "2024-10-27T03:29:04.945Z"
   },
   {
    "duration": 20,
    "start_time": "2024-10-27T03:29:04.970Z"
   },
   {
    "duration": 45,
    "start_time": "2024-10-27T03:29:04.992Z"
   },
   {
    "duration": 5,
    "start_time": "2024-10-27T03:29:05.042Z"
   },
   {
    "duration": 21,
    "start_time": "2024-10-27T03:29:05.050Z"
   },
   {
    "duration": 19,
    "start_time": "2024-10-27T03:29:07.557Z"
   },
   {
    "duration": 6,
    "start_time": "2024-10-27T03:29:10.351Z"
   },
   {
    "duration": 39,
    "start_time": "2024-10-27T03:29:12.383Z"
   },
   {
    "duration": 16,
    "start_time": "2024-10-27T03:30:18.189Z"
   },
   {
    "duration": 48,
    "start_time": "2024-10-27T03:31:27.975Z"
   },
   {
    "duration": 46,
    "start_time": "2024-10-27T03:31:34.438Z"
   },
   {
    "duration": 518,
    "start_time": "2024-10-27T03:32:14.641Z"
   },
   {
    "duration": 47,
    "start_time": "2024-10-27T03:32:30.268Z"
   },
   {
    "duration": 58,
    "start_time": "2024-10-27T03:32:37.378Z"
   },
   {
    "duration": 65,
    "start_time": "2024-10-27T03:32:52.403Z"
   },
   {
    "duration": 47,
    "start_time": "2024-10-27T03:32:55.080Z"
   },
   {
    "duration": 46,
    "start_time": "2024-10-27T03:32:57.820Z"
   },
   {
    "duration": 45,
    "start_time": "2024-10-27T03:33:12.374Z"
   },
   {
    "duration": 41,
    "start_time": "2024-10-27T03:34:04.898Z"
   },
   {
    "duration": 61,
    "start_time": "2024-10-27T03:34:07.732Z"
   },
   {
    "duration": 48,
    "start_time": "2024-10-27T03:34:12.372Z"
   },
   {
    "duration": 53,
    "start_time": "2024-10-27T03:34:17.440Z"
   },
   {
    "duration": 52,
    "start_time": "2024-10-27T03:34:31.069Z"
   },
   {
    "duration": 486,
    "start_time": "2024-10-27T03:35:00.357Z"
   },
   {
    "duration": 110,
    "start_time": "2024-10-27T03:35:08.462Z"
   },
   {
    "duration": 50,
    "start_time": "2024-10-27T03:35:16.437Z"
   },
   {
    "duration": 50,
    "start_time": "2024-10-27T03:35:19.953Z"
   },
   {
    "duration": 53,
    "start_time": "2024-10-27T03:35:49.497Z"
   },
   {
    "duration": 4,
    "start_time": "2024-10-27T03:36:12.889Z"
   },
   {
    "duration": 61,
    "start_time": "2024-10-27T03:36:15.765Z"
   },
   {
    "duration": 200,
    "start_time": "2024-10-27T03:36:21.710Z"
   },
   {
    "duration": 44,
    "start_time": "2024-10-27T03:36:55.994Z"
   },
   {
    "duration": 53,
    "start_time": "2024-10-27T03:36:57.924Z"
   },
   {
    "duration": 235,
    "start_time": "2024-10-27T03:37:27.829Z"
   },
   {
    "duration": 47,
    "start_time": "2024-10-27T03:38:08.212Z"
   },
   {
    "duration": 46,
    "start_time": "2024-10-27T03:38:25.673Z"
   },
   {
    "duration": 57,
    "start_time": "2024-10-27T03:38:29.883Z"
   },
   {
    "duration": 55,
    "start_time": "2024-10-27T03:38:32.356Z"
   },
   {
    "duration": 58,
    "start_time": "2024-10-27T03:39:37.543Z"
   },
   {
    "duration": 56,
    "start_time": "2024-10-27T03:39:46.805Z"
   },
   {
    "duration": 47,
    "start_time": "2024-10-27T03:40:15.021Z"
   },
   {
    "duration": 53,
    "start_time": "2024-10-27T03:40:19.913Z"
   },
   {
    "duration": 126,
    "start_time": "2024-10-27T03:41:23.220Z"
   },
   {
    "duration": 4,
    "start_time": "2024-10-27T03:41:31.315Z"
   },
   {
    "duration": 50,
    "start_time": "2024-10-27T03:41:34.755Z"
   },
   {
    "duration": 51,
    "start_time": "2024-10-27T03:41:39.121Z"
   },
   {
    "duration": 62,
    "start_time": "2024-10-27T03:42:01.201Z"
   },
   {
    "duration": 54,
    "start_time": "2024-10-27T03:42:14.298Z"
   },
   {
    "duration": 54,
    "start_time": "2024-10-27T03:42:21.998Z"
   },
   {
    "duration": 5,
    "start_time": "2024-10-27T03:42:42.454Z"
   },
   {
    "duration": 57,
    "start_time": "2024-10-27T03:42:46.719Z"
   },
   {
    "duration": 210,
    "start_time": "2024-10-27T03:43:21.167Z"
   },
   {
    "duration": 202,
    "start_time": "2024-10-27T03:43:30.931Z"
   },
   {
    "duration": 210,
    "start_time": "2024-10-27T03:45:28.869Z"
   },
   {
    "duration": 205,
    "start_time": "2024-10-27T03:45:32.009Z"
   },
   {
    "duration": 215,
    "start_time": "2024-10-27T03:45:35.295Z"
   },
   {
    "duration": 5,
    "start_time": "2024-10-27T03:46:52.412Z"
   },
   {
    "duration": 204,
    "start_time": "2024-10-27T03:46:54.359Z"
   },
   {
    "duration": 204,
    "start_time": "2024-10-27T03:47:00.174Z"
   },
   {
    "duration": 200,
    "start_time": "2024-10-27T03:47:04.957Z"
   },
   {
    "duration": 10,
    "start_time": "2024-10-27T03:53:13.301Z"
   },
   {
    "duration": 4,
    "start_time": "2024-10-27T03:55:04.882Z"
   },
   {
    "duration": 7,
    "start_time": "2024-10-27T03:55:08.533Z"
   },
   {
    "duration": 10,
    "start_time": "2024-10-27T03:55:29.315Z"
   },
   {
    "duration": 8,
    "start_time": "2024-10-27T03:55:42.704Z"
   },
   {
    "duration": 7,
    "start_time": "2024-10-27T03:56:24.422Z"
   },
   {
    "duration": 6,
    "start_time": "2024-10-27T03:57:04.465Z"
   },
   {
    "duration": 6,
    "start_time": "2024-10-27T03:57:06.189Z"
   },
   {
    "duration": 7,
    "start_time": "2024-10-27T03:57:12.272Z"
   },
   {
    "duration": 17,
    "start_time": "2024-10-27T03:57:44.852Z"
   },
   {
    "duration": 3,
    "start_time": "2024-10-27T03:58:07.914Z"
   },
   {
    "duration": 6,
    "start_time": "2024-10-27T03:58:07.923Z"
   },
   {
    "duration": 72,
    "start_time": "2024-10-27T03:58:07.931Z"
   },
   {
    "duration": 51,
    "start_time": "2024-10-27T03:58:08.005Z"
   },
   {
    "duration": 6,
    "start_time": "2024-10-27T03:58:08.058Z"
   },
   {
    "duration": 47,
    "start_time": "2024-10-27T03:58:08.068Z"
   },
   {
    "duration": 19,
    "start_time": "2024-10-27T03:58:08.117Z"
   },
   {
    "duration": 9,
    "start_time": "2024-10-27T03:58:08.138Z"
   },
   {
    "duration": 6,
    "start_time": "2024-10-27T03:58:08.149Z"
   },
   {
    "duration": 7,
    "start_time": "2024-10-27T03:58:08.157Z"
   },
   {
    "duration": 6,
    "start_time": "2024-10-27T03:58:08.166Z"
   },
   {
    "duration": 8,
    "start_time": "2024-10-27T03:58:08.177Z"
   },
   {
    "duration": 53,
    "start_time": "2024-10-27T03:58:08.187Z"
   },
   {
    "duration": 8,
    "start_time": "2024-10-27T03:58:08.241Z"
   },
   {
    "duration": 8,
    "start_time": "2024-10-27T03:58:08.255Z"
   },
   {
    "duration": 8,
    "start_time": "2024-10-27T03:58:08.265Z"
   },
   {
    "duration": 8,
    "start_time": "2024-10-27T03:58:08.275Z"
   },
   {
    "duration": 46,
    "start_time": "2024-10-27T03:58:08.285Z"
   },
   {
    "duration": 11,
    "start_time": "2024-10-27T03:58:08.334Z"
   },
   {
    "duration": 17,
    "start_time": "2024-10-27T03:58:08.346Z"
   },
   {
    "duration": 7,
    "start_time": "2024-10-27T03:58:08.364Z"
   },
   {
    "duration": 89,
    "start_time": "2024-10-27T03:58:08.372Z"
   },
   {
    "duration": 46,
    "start_time": "2024-10-27T03:58:08.463Z"
   },
   {
    "duration": 24,
    "start_time": "2024-10-27T03:58:08.512Z"
   },
   {
    "duration": 52,
    "start_time": "2024-10-27T03:58:08.538Z"
   },
   {
    "duration": 13,
    "start_time": "2024-10-27T03:58:08.592Z"
   },
   {
    "duration": 7,
    "start_time": "2024-10-27T03:58:08.632Z"
   },
   {
    "duration": 14,
    "start_time": "2024-10-27T03:58:08.641Z"
   },
   {
    "duration": 16,
    "start_time": "2024-10-27T03:58:08.657Z"
   },
   {
    "duration": 7,
    "start_time": "2024-10-27T03:58:08.674Z"
   },
   {
    "duration": 54,
    "start_time": "2024-10-27T03:58:08.682Z"
   },
   {
    "duration": 13,
    "start_time": "2024-10-27T03:58:08.738Z"
   },
   {
    "duration": 7,
    "start_time": "2024-10-27T03:58:08.753Z"
   },
   {
    "duration": 37,
    "start_time": "2024-10-27T03:58:08.762Z"
   },
   {
    "duration": 36,
    "start_time": "2024-10-27T03:58:08.801Z"
   },
   {
    "duration": 22,
    "start_time": "2024-10-27T03:58:08.839Z"
   },
   {
    "duration": 7,
    "start_time": "2024-10-27T03:58:08.863Z"
   },
   {
    "duration": 23,
    "start_time": "2024-10-27T03:58:08.873Z"
   },
   {
    "duration": 47,
    "start_time": "2024-10-27T03:58:08.898Z"
   },
   {
    "duration": 18,
    "start_time": "2024-10-27T03:58:08.947Z"
   },
   {
    "duration": 19,
    "start_time": "2024-10-27T03:58:08.967Z"
   },
   {
    "duration": 40,
    "start_time": "2024-10-27T03:58:08.991Z"
   },
   {
    "duration": 19,
    "start_time": "2024-10-27T03:58:09.033Z"
   },
   {
    "duration": 20,
    "start_time": "2024-10-27T03:58:09.054Z"
   },
   {
    "duration": 4,
    "start_time": "2024-10-27T03:58:09.076Z"
   },
   {
    "duration": 71,
    "start_time": "2024-10-27T03:58:09.082Z"
   },
   {
    "duration": 215,
    "start_time": "2024-10-27T03:58:09.154Z"
   },
   {
    "duration": 18,
    "start_time": "2024-10-27T03:58:11.726Z"
   },
   {
    "duration": 17,
    "start_time": "2024-10-27T03:58:30.545Z"
   },
   {
    "duration": 8,
    "start_time": "2024-10-27T03:58:34.396Z"
   },
   {
    "duration": 11,
    "start_time": "2024-10-27T03:58:44.607Z"
   },
   {
    "duration": 7,
    "start_time": "2024-10-27T03:59:01.282Z"
   },
   {
    "duration": 13,
    "start_time": "2024-10-27T03:59:46.835Z"
   },
   {
    "duration": 153,
    "start_time": "2024-10-27T04:00:04.352Z"
   },
   {
    "duration": 289,
    "start_time": "2024-10-27T04:00:22.778Z"
   },
   {
    "duration": 147,
    "start_time": "2024-10-27T04:00:57.124Z"
   },
   {
    "duration": 126,
    "start_time": "2024-10-27T04:01:37.269Z"
   },
   {
    "duration": 120,
    "start_time": "2024-10-27T04:01:42.602Z"
   },
   {
    "duration": 978,
    "start_time": "2024-10-27T04:02:46.357Z"
   },
   {
    "duration": 121,
    "start_time": "2024-10-27T04:02:58.950Z"
   },
   {
    "duration": 124,
    "start_time": "2024-10-27T04:03:02.518Z"
   },
   {
    "duration": 117,
    "start_time": "2024-10-27T04:03:06.309Z"
   },
   {
    "duration": 136,
    "start_time": "2024-10-27T04:03:40.562Z"
   },
   {
    "duration": 157,
    "start_time": "2024-10-27T04:03:45.705Z"
   },
   {
    "duration": 156,
    "start_time": "2024-10-27T04:04:26.349Z"
   },
   {
    "duration": 157,
    "start_time": "2024-10-27T04:04:49.049Z"
   },
   {
    "duration": 243,
    "start_time": "2024-10-27T04:05:17.413Z"
   },
   {
    "duration": 158,
    "start_time": "2024-10-27T04:05:21.721Z"
   },
   {
    "duration": 12,
    "start_time": "2024-10-27T04:06:12.634Z"
   },
   {
    "duration": 14,
    "start_time": "2024-10-27T04:06:35.157Z"
   },
   {
    "duration": 11,
    "start_time": "2024-10-27T04:06:51.503Z"
   },
   {
    "duration": 156,
    "start_time": "2024-10-27T04:07:02.442Z"
   },
   {
    "duration": 166,
    "start_time": "2024-10-27T04:07:24.684Z"
   },
   {
    "duration": 2458,
    "start_time": "2024-10-27T19:27:35.612Z"
   },
   {
    "duration": 10,
    "start_time": "2024-10-27T19:27:38.072Z"
   },
   {
    "duration": 92,
    "start_time": "2024-10-27T19:27:38.083Z"
   },
   {
    "duration": 46,
    "start_time": "2024-10-27T19:27:38.177Z"
   },
   {
    "duration": 8,
    "start_time": "2024-10-27T19:27:38.225Z"
   },
   {
    "duration": 76,
    "start_time": "2024-10-27T19:27:38.234Z"
   },
   {
    "duration": 10,
    "start_time": "2024-10-27T19:27:38.312Z"
   },
   {
    "duration": 6,
    "start_time": "2024-10-27T19:27:38.324Z"
   },
   {
    "duration": 6,
    "start_time": "2024-10-27T19:27:38.332Z"
   },
   {
    "duration": 7,
    "start_time": "2024-10-27T19:27:38.340Z"
   },
   {
    "duration": 7,
    "start_time": "2024-10-27T19:27:38.349Z"
   },
   {
    "duration": 10,
    "start_time": "2024-10-27T19:27:38.357Z"
   },
   {
    "duration": 7,
    "start_time": "2024-10-27T19:27:38.368Z"
   },
   {
    "duration": 48,
    "start_time": "2024-10-27T19:27:38.380Z"
   },
   {
    "duration": 8,
    "start_time": "2024-10-27T19:27:38.430Z"
   },
   {
    "duration": 8,
    "start_time": "2024-10-27T19:27:38.439Z"
   },
   {
    "duration": 8,
    "start_time": "2024-10-27T19:27:38.448Z"
   },
   {
    "duration": 4,
    "start_time": "2024-10-27T19:27:38.458Z"
   },
   {
    "duration": 9,
    "start_time": "2024-10-27T19:27:38.463Z"
   },
   {
    "duration": 51,
    "start_time": "2024-10-27T19:27:38.474Z"
   },
   {
    "duration": 6,
    "start_time": "2024-10-27T19:27:38.527Z"
   },
   {
    "duration": 50,
    "start_time": "2024-10-27T19:27:38.535Z"
   },
   {
    "duration": 70,
    "start_time": "2024-10-27T19:27:38.586Z"
   },
   {
    "duration": 7,
    "start_time": "2024-10-27T19:27:38.658Z"
   },
   {
    "duration": 69,
    "start_time": "2024-10-27T19:27:38.667Z"
   },
   {
    "duration": 12,
    "start_time": "2024-10-27T19:27:38.738Z"
   },
   {
    "duration": 8,
    "start_time": "2024-10-27T19:27:38.751Z"
   },
   {
    "duration": 15,
    "start_time": "2024-10-27T19:27:38.761Z"
   },
   {
    "duration": 15,
    "start_time": "2024-10-27T19:27:38.778Z"
   },
   {
    "duration": 31,
    "start_time": "2024-10-27T19:27:38.794Z"
   },
   {
    "duration": 17,
    "start_time": "2024-10-27T19:27:38.827Z"
   },
   {
    "duration": 14,
    "start_time": "2024-10-27T19:27:38.846Z"
   },
   {
    "duration": 6,
    "start_time": "2024-10-27T19:27:38.862Z"
   },
   {
    "duration": 62,
    "start_time": "2024-10-27T19:27:38.869Z"
   },
   {
    "duration": 7,
    "start_time": "2024-10-27T19:27:38.933Z"
   },
   {
    "duration": 22,
    "start_time": "2024-10-27T19:27:38.941Z"
   },
   {
    "duration": 6,
    "start_time": "2024-10-27T19:27:38.965Z"
   },
   {
    "duration": 51,
    "start_time": "2024-10-27T19:27:38.973Z"
   },
   {
    "duration": 19,
    "start_time": "2024-10-27T19:27:39.026Z"
   },
   {
    "duration": 20,
    "start_time": "2024-10-27T19:27:39.047Z"
   },
   {
    "duration": 20,
    "start_time": "2024-10-27T19:27:39.072Z"
   },
   {
    "duration": 28,
    "start_time": "2024-10-27T19:27:39.096Z"
   },
   {
    "duration": 19,
    "start_time": "2024-10-27T19:27:39.126Z"
   },
   {
    "duration": 19,
    "start_time": "2024-10-27T19:27:39.146Z"
   },
   {
    "duration": 5,
    "start_time": "2024-10-27T19:27:39.167Z"
   },
   {
    "duration": 61,
    "start_time": "2024-10-27T19:27:39.173Z"
   },
   {
    "duration": 226,
    "start_time": "2024-10-27T19:27:39.236Z"
   },
   {
    "duration": 160,
    "start_time": "2024-10-27T19:27:39.464Z"
   },
   {
    "duration": 3,
    "start_time": "2024-10-27T19:27:39.625Z"
   },
   {
    "duration": 2,
    "start_time": "2024-10-27T19:27:39.630Z"
   },
   {
    "duration": 2,
    "start_time": "2024-10-27T19:27:39.634Z"
   },
   {
    "duration": 3,
    "start_time": "2024-10-27T19:27:39.637Z"
   },
   {
    "duration": 3,
    "start_time": "2024-10-27T19:27:39.641Z"
   },
   {
    "duration": 3,
    "start_time": "2024-10-27T19:27:39.646Z"
   },
   {
    "duration": 339,
    "start_time": "2024-10-27T19:28:55.986Z"
   },
   {
    "duration": 21,
    "start_time": "2024-10-27T19:29:36.810Z"
   },
   {
    "duration": 3,
    "start_time": "2024-10-27T19:29:53.751Z"
   },
   {
    "duration": 5,
    "start_time": "2024-10-27T19:30:01.897Z"
   },
   {
    "duration": 18,
    "start_time": "2024-10-27T19:30:34.054Z"
   },
   {
    "duration": 19,
    "start_time": "2024-10-27T19:30:38.742Z"
   },
   {
    "duration": 20,
    "start_time": "2024-10-27T19:30:49.724Z"
   },
   {
    "duration": 5,
    "start_time": "2024-10-27T19:30:54.310Z"
   },
   {
    "duration": 21,
    "start_time": "2024-10-27T19:31:41.752Z"
   },
   {
    "duration": 483,
    "start_time": "2024-10-27T19:32:51.851Z"
   },
   {
    "duration": 10,
    "start_time": "2024-10-27T19:33:02.052Z"
   },
   {
    "duration": 40,
    "start_time": "2024-10-27T19:33:32.349Z"
   },
   {
    "duration": 6,
    "start_time": "2024-10-27T19:33:57.641Z"
   },
   {
    "duration": 13,
    "start_time": "2024-10-27T19:35:34.166Z"
   },
   {
    "duration": 154,
    "start_time": "2024-10-27T19:36:32.520Z"
   },
   {
    "duration": 3,
    "start_time": "2024-10-27T19:36:55.209Z"
   },
   {
    "duration": 6,
    "start_time": "2024-10-27T19:36:55.217Z"
   },
   {
    "duration": 68,
    "start_time": "2024-10-27T19:36:55.225Z"
   },
   {
    "duration": 50,
    "start_time": "2024-10-27T19:36:55.295Z"
   },
   {
    "duration": 5,
    "start_time": "2024-10-27T19:36:55.346Z"
   },
   {
    "duration": 47,
    "start_time": "2024-10-27T19:36:55.354Z"
   },
   {
    "duration": 21,
    "start_time": "2024-10-27T19:36:55.403Z"
   },
   {
    "duration": 7,
    "start_time": "2024-10-27T19:36:55.426Z"
   },
   {
    "duration": 7,
    "start_time": "2024-10-27T19:36:55.434Z"
   },
   {
    "duration": 7,
    "start_time": "2024-10-27T19:36:55.442Z"
   },
   {
    "duration": 6,
    "start_time": "2024-10-27T19:36:55.450Z"
   },
   {
    "duration": 8,
    "start_time": "2024-10-27T19:36:55.458Z"
   },
   {
    "duration": 7,
    "start_time": "2024-10-27T19:36:55.467Z"
   },
   {
    "duration": 8,
    "start_time": "2024-10-27T19:36:55.475Z"
   },
   {
    "duration": 8,
    "start_time": "2024-10-27T19:36:55.527Z"
   },
   {
    "duration": 7,
    "start_time": "2024-10-27T19:36:55.537Z"
   },
   {
    "duration": 7,
    "start_time": "2024-10-27T19:36:55.546Z"
   },
   {
    "duration": 5,
    "start_time": "2024-10-27T19:36:55.554Z"
   },
   {
    "duration": 8,
    "start_time": "2024-10-27T19:36:55.561Z"
   },
   {
    "duration": 53,
    "start_time": "2024-10-27T19:36:55.570Z"
   },
   {
    "duration": 7,
    "start_time": "2024-10-27T19:36:55.625Z"
   },
   {
    "duration": 46,
    "start_time": "2024-10-27T19:36:55.634Z"
   },
   {
    "duration": 59,
    "start_time": "2024-10-27T19:36:55.682Z"
   },
   {
    "duration": 9,
    "start_time": "2024-10-27T19:36:55.742Z"
   },
   {
    "duration": 49,
    "start_time": "2024-10-27T19:36:55.753Z"
   },
   {
    "duration": 12,
    "start_time": "2024-10-27T19:36:55.824Z"
   },
   {
    "duration": 7,
    "start_time": "2024-10-27T19:36:55.837Z"
   },
   {
    "duration": 15,
    "start_time": "2024-10-27T19:36:55.846Z"
   },
   {
    "duration": 16,
    "start_time": "2024-10-27T19:36:55.862Z"
   },
   {
    "duration": 6,
    "start_time": "2024-10-27T19:36:55.880Z"
   },
   {
    "duration": 46,
    "start_time": "2024-10-27T19:36:55.888Z"
   },
   {
    "duration": 13,
    "start_time": "2024-10-27T19:36:55.936Z"
   },
   {
    "duration": 6,
    "start_time": "2024-10-27T19:36:55.950Z"
   },
   {
    "duration": 35,
    "start_time": "2024-10-27T19:36:55.959Z"
   },
   {
    "duration": 32,
    "start_time": "2024-10-27T19:36:55.996Z"
   },
   {
    "duration": 21,
    "start_time": "2024-10-27T19:36:56.030Z"
   },
   {
    "duration": 8,
    "start_time": "2024-10-27T19:36:56.052Z"
   },
   {
    "duration": 21,
    "start_time": "2024-10-27T19:36:56.062Z"
   },
   {
    "duration": 41,
    "start_time": "2024-10-27T19:36:56.085Z"
   },
   {
    "duration": 18,
    "start_time": "2024-10-27T19:36:56.128Z"
   },
   {
    "duration": 19,
    "start_time": "2024-10-27T19:36:56.148Z"
   },
   {
    "duration": 6,
    "start_time": "2024-10-27T19:36:56.172Z"
   },
   {
    "duration": 50,
    "start_time": "2024-10-27T19:36:56.180Z"
   },
   {
    "duration": 19,
    "start_time": "2024-10-27T19:36:56.232Z"
   },
   {
    "duration": 5,
    "start_time": "2024-10-27T19:36:56.253Z"
   },
   {
    "duration": 35,
    "start_time": "2024-10-27T19:36:56.260Z"
   },
   {
    "duration": 220,
    "start_time": "2024-10-27T19:36:56.299Z"
   },
   {
    "duration": 152,
    "start_time": "2024-10-27T19:36:58.699Z"
   },
   {
    "duration": 163,
    "start_time": "2024-10-27T19:38:16.923Z"
   },
   {
    "duration": 148,
    "start_time": "2024-10-27T19:39:08.663Z"
   },
   {
    "duration": 153,
    "start_time": "2024-10-27T19:39:51.593Z"
   },
   {
    "duration": 158,
    "start_time": "2024-10-27T19:39:57.954Z"
   },
   {
    "duration": 176,
    "start_time": "2024-10-27T19:40:38.996Z"
   },
   {
    "duration": 187,
    "start_time": "2024-10-27T19:40:42.625Z"
   },
   {
    "duration": 250,
    "start_time": "2024-10-27T19:40:50.329Z"
   },
   {
    "duration": 9,
    "start_time": "2024-10-27T19:43:51.399Z"
   },
   {
    "duration": 10,
    "start_time": "2024-10-27T19:44:38.044Z"
   },
   {
    "duration": 7,
    "start_time": "2024-10-27T19:44:49.212Z"
   },
   {
    "duration": 7,
    "start_time": "2024-10-27T19:45:41.477Z"
   },
   {
    "duration": 8,
    "start_time": "2024-10-27T19:45:47.018Z"
   },
   {
    "duration": 8,
    "start_time": "2024-10-27T19:45:52.552Z"
   },
   {
    "duration": 7,
    "start_time": "2024-10-27T19:48:46.861Z"
   },
   {
    "duration": 5,
    "start_time": "2024-10-27T19:49:02.481Z"
   },
   {
    "duration": 5,
    "start_time": "2024-10-27T19:49:13.081Z"
   },
   {
    "duration": 4,
    "start_time": "2024-10-27T19:49:50.871Z"
   },
   {
    "duration": 4,
    "start_time": "2024-10-27T19:51:03.396Z"
   },
   {
    "duration": 4,
    "start_time": "2024-10-27T19:51:49.724Z"
   },
   {
    "duration": 13,
    "start_time": "2024-10-27T19:54:04.182Z"
   },
   {
    "duration": 77,
    "start_time": "2024-10-27T19:54:12.706Z"
   },
   {
    "duration": 84,
    "start_time": "2024-10-27T19:54:25.913Z"
   },
   {
    "duration": 14,
    "start_time": "2024-10-27T19:56:38.281Z"
   },
   {
    "duration": 567,
    "start_time": "2024-10-27T19:56:59.452Z"
   },
   {
    "duration": 84,
    "start_time": "2024-10-27T19:57:15.131Z"
   },
   {
    "duration": 170,
    "start_time": "2024-10-27T19:58:11.740Z"
   },
   {
    "duration": 159,
    "start_time": "2024-10-27T19:58:22.529Z"
   },
   {
    "duration": 154,
    "start_time": "2024-10-27T19:58:40.387Z"
   },
   {
    "duration": 83,
    "start_time": "2024-10-27T19:58:50.882Z"
   },
   {
    "duration": 162,
    "start_time": "2024-10-27T20:01:01.534Z"
   },
   {
    "duration": 150,
    "start_time": "2024-10-27T20:01:48.134Z"
   },
   {
    "duration": 145,
    "start_time": "2024-10-27T20:03:09.997Z"
   },
   {
    "duration": 154,
    "start_time": "2024-10-27T20:06:11.075Z"
   },
   {
    "duration": 2474,
    "start_time": "2024-10-27T20:47:16.600Z"
   },
   {
    "duration": 11,
    "start_time": "2024-10-27T20:47:19.076Z"
   },
   {
    "duration": 88,
    "start_time": "2024-10-27T20:47:19.088Z"
   },
   {
    "duration": 43,
    "start_time": "2024-10-27T20:47:19.179Z"
   },
   {
    "duration": 7,
    "start_time": "2024-10-27T20:47:19.223Z"
   },
   {
    "duration": 74,
    "start_time": "2024-10-27T20:47:19.231Z"
   },
   {
    "duration": 10,
    "start_time": "2024-10-27T20:47:19.307Z"
   },
   {
    "duration": 7,
    "start_time": "2024-10-27T20:47:19.319Z"
   },
   {
    "duration": 7,
    "start_time": "2024-10-27T20:47:19.327Z"
   },
   {
    "duration": 7,
    "start_time": "2024-10-27T20:47:19.337Z"
   },
   {
    "duration": 6,
    "start_time": "2024-10-27T20:47:19.346Z"
   },
   {
    "duration": 8,
    "start_time": "2024-10-27T20:47:19.387Z"
   },
   {
    "duration": 7,
    "start_time": "2024-10-27T20:47:19.397Z"
   },
   {
    "duration": 7,
    "start_time": "2024-10-27T20:47:19.406Z"
   },
   {
    "duration": 8,
    "start_time": "2024-10-27T20:47:19.415Z"
   },
   {
    "duration": 8,
    "start_time": "2024-10-27T20:47:19.424Z"
   },
   {
    "duration": 7,
    "start_time": "2024-10-27T20:47:19.433Z"
   },
   {
    "duration": 45,
    "start_time": "2024-10-27T20:47:19.442Z"
   },
   {
    "duration": 11,
    "start_time": "2024-10-27T20:47:19.489Z"
   },
   {
    "duration": 17,
    "start_time": "2024-10-27T20:47:19.502Z"
   },
   {
    "duration": 6,
    "start_time": "2024-10-27T20:47:19.521Z"
   },
   {
    "duration": 77,
    "start_time": "2024-10-27T20:47:19.529Z"
   },
   {
    "duration": 46,
    "start_time": "2024-10-27T20:47:19.608Z"
   },
   {
    "duration": 8,
    "start_time": "2024-10-27T20:47:19.656Z"
   },
   {
    "duration": 52,
    "start_time": "2024-10-27T20:47:19.686Z"
   },
   {
    "duration": 12,
    "start_time": "2024-10-27T20:47:19.740Z"
   },
   {
    "duration": 6,
    "start_time": "2024-10-27T20:47:19.754Z"
   },
   {
    "duration": 34,
    "start_time": "2024-10-27T20:47:19.764Z"
   },
   {
    "duration": 16,
    "start_time": "2024-10-27T20:47:19.800Z"
   },
   {
    "duration": 8,
    "start_time": "2024-10-27T20:47:19.818Z"
   },
   {
    "duration": 16,
    "start_time": "2024-10-27T20:47:19.827Z"
   },
   {
    "duration": 14,
    "start_time": "2024-10-27T20:47:19.845Z"
   },
   {
    "duration": 7,
    "start_time": "2024-10-27T20:47:19.887Z"
   },
   {
    "duration": 38,
    "start_time": "2024-10-27T20:47:19.895Z"
   },
   {
    "duration": 7,
    "start_time": "2024-10-27T20:47:19.935Z"
   },
   {
    "duration": 45,
    "start_time": "2024-10-27T20:47:19.944Z"
   },
   {
    "duration": 7,
    "start_time": "2024-10-27T20:47:19.991Z"
   },
   {
    "duration": 24,
    "start_time": "2024-10-27T20:47:20.000Z"
   },
   {
    "duration": 19,
    "start_time": "2024-10-27T20:47:20.026Z"
   },
   {
    "duration": 46,
    "start_time": "2024-10-27T20:47:20.047Z"
   },
   {
    "duration": 18,
    "start_time": "2024-10-27T20:47:20.094Z"
   },
   {
    "duration": 5,
    "start_time": "2024-10-27T20:47:20.114Z"
   },
   {
    "duration": 19,
    "start_time": "2024-10-27T20:47:20.121Z"
   },
   {
    "duration": 46,
    "start_time": "2024-10-27T20:47:20.142Z"
   },
   {
    "duration": 4,
    "start_time": "2024-10-27T20:47:20.190Z"
   },
   {
    "duration": 35,
    "start_time": "2024-10-27T20:47:20.196Z"
   },
   {
    "duration": 232,
    "start_time": "2024-10-27T20:47:20.233Z"
   },
   {
    "duration": 172,
    "start_time": "2024-10-27T20:47:20.467Z"
   },
   {
    "duration": 5,
    "start_time": "2024-10-27T20:47:20.641Z"
   },
   {
    "duration": 169,
    "start_time": "2024-10-27T20:47:20.648Z"
   },
   {
    "duration": 2,
    "start_time": "2024-10-27T20:47:20.819Z"
   },
   {
    "duration": 3,
    "start_time": "2024-10-27T20:47:20.825Z"
   },
   {
    "duration": 2,
    "start_time": "2024-10-27T20:47:20.829Z"
   },
   {
    "duration": 2,
    "start_time": "2024-10-27T20:47:20.833Z"
   },
   {
    "duration": 10,
    "start_time": "2024-10-27T20:54:45.574Z"
   },
   {
    "duration": 10,
    "start_time": "2024-10-27T20:55:41.370Z"
   },
   {
    "duration": 4,
    "start_time": "2024-10-27T20:55:43.799Z"
   },
   {
    "duration": 3,
    "start_time": "2024-10-27T20:55:47.819Z"
   },
   {
    "duration": 3,
    "start_time": "2024-10-27T20:56:10.530Z"
   },
   {
    "duration": 5,
    "start_time": "2024-10-27T20:57:29.742Z"
   },
   {
    "duration": 7,
    "start_time": "2024-10-27T20:58:11.645Z"
   },
   {
    "duration": 10,
    "start_time": "2024-10-27T20:58:30.944Z"
   },
   {
    "duration": 10,
    "start_time": "2024-10-27T20:59:12.041Z"
   },
   {
    "duration": 16,
    "start_time": "2024-10-27T20:59:44.846Z"
   },
   {
    "duration": 8,
    "start_time": "2024-10-27T20:59:59.118Z"
   },
   {
    "duration": 10,
    "start_time": "2024-10-27T21:00:00.879Z"
   },
   {
    "duration": 14,
    "start_time": "2024-10-27T21:00:05.488Z"
   },
   {
    "duration": 154,
    "start_time": "2024-10-27T21:00:56.513Z"
   },
   {
    "duration": 4,
    "start_time": "2024-10-27T21:01:38.468Z"
   },
   {
    "duration": 205,
    "start_time": "2024-10-27T21:01:43.322Z"
   },
   {
    "duration": 144,
    "start_time": "2024-10-27T21:02:11.275Z"
   },
   {
    "duration": 10,
    "start_time": "2024-10-27T21:03:57.395Z"
   },
   {
    "duration": 10,
    "start_time": "2024-10-27T21:05:11.544Z"
   },
   {
    "duration": 13,
    "start_time": "2024-10-27T21:05:35.266Z"
   },
   {
    "duration": 11,
    "start_time": "2024-10-27T21:05:55.026Z"
   },
   {
    "duration": 4,
    "start_time": "2024-10-27T21:06:14.390Z"
   },
   {
    "duration": 4,
    "start_time": "2024-10-27T21:06:35.550Z"
   },
   {
    "duration": 5,
    "start_time": "2024-10-27T21:07:40.634Z"
   },
   {
    "duration": 12,
    "start_time": "2024-10-27T21:08:06.084Z"
   },
   {
    "duration": 144,
    "start_time": "2024-10-27T21:09:21.261Z"
   },
   {
    "duration": 153,
    "start_time": "2024-10-27T21:09:34.903Z"
   },
   {
    "duration": 3,
    "start_time": "2024-10-27T21:10:42.491Z"
   },
   {
    "duration": 3,
    "start_time": "2024-10-27T21:11:00.399Z"
   },
   {
    "duration": 4,
    "start_time": "2024-10-27T21:12:16.948Z"
   },
   {
    "duration": 4,
    "start_time": "2024-10-27T21:12:51.705Z"
   },
   {
    "duration": 4,
    "start_time": "2024-10-27T21:12:59.424Z"
   },
   {
    "duration": 4,
    "start_time": "2024-10-27T21:13:06.798Z"
   },
   {
    "duration": 5,
    "start_time": "2024-10-27T21:13:55.145Z"
   },
   {
    "duration": 4,
    "start_time": "2024-10-27T21:14:03.358Z"
   },
   {
    "duration": 10,
    "start_time": "2024-10-27T21:18:26.503Z"
   },
   {
    "duration": 8,
    "start_time": "2024-10-27T21:18:28.656Z"
   },
   {
    "duration": 10,
    "start_time": "2024-10-27T21:18:30.152Z"
   },
   {
    "duration": 2,
    "start_time": "2024-10-27T21:18:36.140Z"
   },
   {
    "duration": 8,
    "start_time": "2024-10-27T21:18:36.146Z"
   },
   {
    "duration": 67,
    "start_time": "2024-10-27T21:18:36.155Z"
   },
   {
    "duration": 33,
    "start_time": "2024-10-27T21:18:36.223Z"
   },
   {
    "duration": 6,
    "start_time": "2024-10-27T21:18:36.258Z"
   },
   {
    "duration": 51,
    "start_time": "2024-10-27T21:18:36.266Z"
   },
   {
    "duration": 8,
    "start_time": "2024-10-27T21:18:36.319Z"
   },
   {
    "duration": 7,
    "start_time": "2024-10-27T21:18:36.329Z"
   },
   {
    "duration": 6,
    "start_time": "2024-10-27T21:18:36.338Z"
   },
   {
    "duration": 8,
    "start_time": "2024-10-27T21:18:36.345Z"
   },
   {
    "duration": 35,
    "start_time": "2024-10-27T21:18:36.355Z"
   },
   {
    "duration": 9,
    "start_time": "2024-10-27T21:18:36.391Z"
   },
   {
    "duration": 7,
    "start_time": "2024-10-27T21:18:36.401Z"
   },
   {
    "duration": 7,
    "start_time": "2024-10-27T21:18:36.410Z"
   },
   {
    "duration": 9,
    "start_time": "2024-10-27T21:18:36.421Z"
   },
   {
    "duration": 8,
    "start_time": "2024-10-27T21:18:36.432Z"
   },
   {
    "duration": 46,
    "start_time": "2024-10-27T21:18:36.442Z"
   },
   {
    "duration": 5,
    "start_time": "2024-10-27T21:18:36.489Z"
   },
   {
    "duration": 10,
    "start_time": "2024-10-27T21:18:36.495Z"
   },
   {
    "duration": 15,
    "start_time": "2024-10-27T21:18:36.506Z"
   },
   {
    "duration": 6,
    "start_time": "2024-10-27T21:18:36.523Z"
   },
   {
    "duration": 79,
    "start_time": "2024-10-27T21:18:36.531Z"
   },
   {
    "duration": 45,
    "start_time": "2024-10-27T21:18:36.611Z"
   },
   {
    "duration": 9,
    "start_time": "2024-10-27T21:18:36.658Z"
   },
   {
    "duration": 49,
    "start_time": "2024-10-27T21:18:36.687Z"
   },
   {
    "duration": 11,
    "start_time": "2024-10-27T21:18:36.737Z"
   },
   {
    "duration": 5,
    "start_time": "2024-10-27T21:18:36.750Z"
   },
   {
    "duration": 42,
    "start_time": "2024-10-27T21:18:36.757Z"
   },
   {
    "duration": 16,
    "start_time": "2024-10-27T21:18:36.800Z"
   },
   {
    "duration": 6,
    "start_time": "2024-10-27T21:18:36.817Z"
   },
   {
    "duration": 17,
    "start_time": "2024-10-27T21:18:36.824Z"
   },
   {
    "duration": 13,
    "start_time": "2024-10-27T21:18:36.843Z"
   },
   {
    "duration": 6,
    "start_time": "2024-10-27T21:18:36.886Z"
   },
   {
    "duration": 37,
    "start_time": "2024-10-27T21:18:36.894Z"
   },
   {
    "duration": 7,
    "start_time": "2024-10-27T21:18:36.932Z"
   },
   {
    "duration": 21,
    "start_time": "2024-10-27T21:18:36.941Z"
   },
   {
    "duration": 9,
    "start_time": "2024-10-27T21:18:36.986Z"
   },
   {
    "duration": 22,
    "start_time": "2024-10-27T21:18:36.996Z"
   },
   {
    "duration": 17,
    "start_time": "2024-10-27T21:18:37.020Z"
   },
   {
    "duration": 17,
    "start_time": "2024-10-27T21:18:37.039Z"
   },
   {
    "duration": 44,
    "start_time": "2024-10-27T21:18:37.058Z"
   },
   {
    "duration": 6,
    "start_time": "2024-10-27T21:18:37.107Z"
   },
   {
    "duration": 18,
    "start_time": "2024-10-27T21:18:37.115Z"
   },
   {
    "duration": 17,
    "start_time": "2024-10-27T21:18:37.136Z"
   },
   {
    "duration": 33,
    "start_time": "2024-10-27T21:18:37.155Z"
   },
   {
    "duration": 35,
    "start_time": "2024-10-27T21:18:37.190Z"
   },
   {
    "duration": 216,
    "start_time": "2024-10-27T21:18:37.227Z"
   },
   {
    "duration": 165,
    "start_time": "2024-10-27T21:18:37.444Z"
   },
   {
    "duration": 4,
    "start_time": "2024-10-27T21:18:37.612Z"
   },
   {
    "duration": 170,
    "start_time": "2024-10-27T21:18:37.618Z"
   },
   {
    "duration": 14,
    "start_time": "2024-10-27T21:18:37.790Z"
   },
   {
    "duration": 169,
    "start_time": "2024-10-27T21:18:37.806Z"
   },
   {
    "duration": 18,
    "start_time": "2024-10-27T21:18:37.977Z"
   },
   {
    "duration": 172,
    "start_time": "2024-10-27T21:18:37.997Z"
   },
   {
    "duration": 5,
    "start_time": "2024-10-27T21:18:38.170Z"
   },
   {
    "duration": 8,
    "start_time": "2024-10-27T21:18:38.187Z"
   },
   {
    "duration": 9,
    "start_time": "2024-10-27T21:18:38.197Z"
   },
   {
    "duration": 10,
    "start_time": "2024-10-27T21:18:38.208Z"
   },
   {
    "duration": 936,
    "start_time": "2024-10-27T21:21:05.366Z"
   },
   {
    "duration": 2,
    "start_time": "2024-10-27T21:21:47.629Z"
   },
   {
    "duration": 7,
    "start_time": "2024-10-27T21:21:47.636Z"
   },
   {
    "duration": 67,
    "start_time": "2024-10-27T21:21:47.645Z"
   },
   {
    "duration": 30,
    "start_time": "2024-10-27T21:21:47.713Z"
   },
   {
    "duration": 5,
    "start_time": "2024-10-27T21:21:47.744Z"
   },
   {
    "duration": 53,
    "start_time": "2024-10-27T21:21:47.752Z"
   },
   {
    "duration": 8,
    "start_time": "2024-10-27T21:21:47.807Z"
   },
   {
    "duration": 7,
    "start_time": "2024-10-27T21:21:47.817Z"
   },
   {
    "duration": 6,
    "start_time": "2024-10-27T21:21:47.825Z"
   },
   {
    "duration": 6,
    "start_time": "2024-10-27T21:21:47.833Z"
   },
   {
    "duration": 6,
    "start_time": "2024-10-27T21:21:47.841Z"
   },
   {
    "duration": 42,
    "start_time": "2024-10-27T21:21:47.849Z"
   },
   {
    "duration": 7,
    "start_time": "2024-10-27T21:21:47.893Z"
   },
   {
    "duration": 8,
    "start_time": "2024-10-27T21:21:47.902Z"
   },
   {
    "duration": 7,
    "start_time": "2024-10-27T21:21:47.914Z"
   },
   {
    "duration": 8,
    "start_time": "2024-10-27T21:21:47.923Z"
   },
   {
    "duration": 7,
    "start_time": "2024-10-27T21:21:47.932Z"
   },
   {
    "duration": 46,
    "start_time": "2024-10-27T21:21:47.940Z"
   },
   {
    "duration": 8,
    "start_time": "2024-10-27T21:21:47.988Z"
   },
   {
    "duration": 14,
    "start_time": "2024-10-27T21:21:47.998Z"
   },
   {
    "duration": 6,
    "start_time": "2024-10-27T21:21:48.014Z"
   },
   {
    "duration": 67,
    "start_time": "2024-10-27T21:21:48.022Z"
   },
   {
    "duration": 45,
    "start_time": "2024-10-27T21:21:48.091Z"
   },
   {
    "duration": 8,
    "start_time": "2024-10-27T21:21:48.138Z"
   },
   {
    "duration": 65,
    "start_time": "2024-10-27T21:21:48.147Z"
   },
   {
    "duration": 11,
    "start_time": "2024-10-27T21:21:48.214Z"
   },
   {
    "duration": 5,
    "start_time": "2024-10-27T21:21:48.227Z"
   },
   {
    "duration": 15,
    "start_time": "2024-10-27T21:21:48.234Z"
   },
   {
    "duration": 41,
    "start_time": "2024-10-27T21:21:48.251Z"
   },
   {
    "duration": 8,
    "start_time": "2024-10-27T21:21:48.293Z"
   },
   {
    "duration": 17,
    "start_time": "2024-10-27T21:21:48.303Z"
   },
   {
    "duration": 13,
    "start_time": "2024-10-27T21:21:48.321Z"
   },
   {
    "duration": 6,
    "start_time": "2024-10-27T21:21:48.336Z"
   },
   {
    "duration": 65,
    "start_time": "2024-10-27T21:21:48.344Z"
   },
   {
    "duration": 7,
    "start_time": "2024-10-27T21:21:48.411Z"
   },
   {
    "duration": 20,
    "start_time": "2024-10-27T21:21:48.420Z"
   },
   {
    "duration": 7,
    "start_time": "2024-10-27T21:21:48.441Z"
   },
   {
    "duration": 46,
    "start_time": "2024-10-27T21:21:48.450Z"
   },
   {
    "duration": 16,
    "start_time": "2024-10-27T21:21:48.497Z"
   },
   {
    "duration": 18,
    "start_time": "2024-10-27T21:21:48.514Z"
   },
   {
    "duration": 16,
    "start_time": "2024-10-27T21:21:48.533Z"
   },
   {
    "duration": 33,
    "start_time": "2024-10-27T21:21:48.553Z"
   },
   {
    "duration": 19,
    "start_time": "2024-10-27T21:21:48.589Z"
   },
   {
    "duration": 92,
    "start_time": "2024-10-27T21:21:50.468Z"
   },
   {
    "duration": 64,
    "start_time": "2024-10-27T21:22:06.834Z"
   },
   {
    "duration": 3,
    "start_time": "2024-10-27T21:22:55.828Z"
   },
   {
    "duration": 6,
    "start_time": "2024-10-27T21:22:55.835Z"
   },
   {
    "duration": 64,
    "start_time": "2024-10-27T21:22:55.842Z"
   },
   {
    "duration": 32,
    "start_time": "2024-10-27T21:22:55.908Z"
   },
   {
    "duration": 5,
    "start_time": "2024-10-27T21:22:55.942Z"
   },
   {
    "duration": 69,
    "start_time": "2024-10-27T21:22:55.951Z"
   },
   {
    "duration": 10,
    "start_time": "2024-10-27T21:22:56.021Z"
   },
   {
    "duration": 6,
    "start_time": "2024-10-27T21:22:56.033Z"
   },
   {
    "duration": 6,
    "start_time": "2024-10-27T21:22:56.040Z"
   },
   {
    "duration": 7,
    "start_time": "2024-10-27T21:22:56.049Z"
   },
   {
    "duration": 29,
    "start_time": "2024-10-27T21:22:56.058Z"
   },
   {
    "duration": 8,
    "start_time": "2024-10-27T21:22:56.088Z"
   },
   {
    "duration": 8,
    "start_time": "2024-10-27T21:22:56.098Z"
   },
   {
    "duration": 8,
    "start_time": "2024-10-27T21:22:56.108Z"
   },
   {
    "duration": 8,
    "start_time": "2024-10-27T21:22:56.119Z"
   },
   {
    "duration": 8,
    "start_time": "2024-10-27T21:22:56.129Z"
   },
   {
    "duration": 6,
    "start_time": "2024-10-27T21:22:56.139Z"
   },
   {
    "duration": 44,
    "start_time": "2024-10-27T21:22:56.146Z"
   },
   {
    "duration": 8,
    "start_time": "2024-10-27T21:22:56.192Z"
   },
   {
    "duration": 15,
    "start_time": "2024-10-27T21:22:56.202Z"
   },
   {
    "duration": 6,
    "start_time": "2024-10-27T21:22:56.219Z"
   },
   {
    "duration": 78,
    "start_time": "2024-10-27T21:22:56.226Z"
   },
   {
    "duration": 39,
    "start_time": "2024-10-27T21:22:56.306Z"
   },
   {
    "duration": 8,
    "start_time": "2024-10-27T21:22:56.346Z"
   },
   {
    "duration": 69,
    "start_time": "2024-10-27T21:22:56.356Z"
   },
   {
    "duration": 12,
    "start_time": "2024-10-27T21:22:56.427Z"
   },
   {
    "duration": 5,
    "start_time": "2024-10-27T21:22:56.440Z"
   },
   {
    "duration": 15,
    "start_time": "2024-10-27T21:22:56.447Z"
   },
   {
    "duration": 38,
    "start_time": "2024-10-27T21:22:56.463Z"
   },
   {
    "duration": 8,
    "start_time": "2024-10-27T21:22:56.502Z"
   },
   {
    "duration": 21,
    "start_time": "2024-10-27T21:22:56.513Z"
   },
   {
    "duration": 15,
    "start_time": "2024-10-27T21:22:56.536Z"
   },
   {
    "duration": 33,
    "start_time": "2024-10-27T21:22:56.553Z"
   },
   {
    "duration": 36,
    "start_time": "2024-10-27T21:22:56.588Z"
   },
   {
    "duration": 7,
    "start_time": "2024-10-27T21:22:56.626Z"
   },
   {
    "duration": 22,
    "start_time": "2024-10-27T21:22:56.635Z"
   },
   {
    "duration": 32,
    "start_time": "2024-10-27T21:22:56.659Z"
   },
   {
    "duration": 22,
    "start_time": "2024-10-27T21:22:56.692Z"
   },
   {
    "duration": 16,
    "start_time": "2024-10-27T21:22:56.716Z"
   },
   {
    "duration": 18,
    "start_time": "2024-10-27T21:22:56.734Z"
   },
   {
    "duration": 46,
    "start_time": "2024-10-27T21:22:56.754Z"
   },
   {
    "duration": 5,
    "start_time": "2024-10-27T21:22:56.805Z"
   },
   {
    "duration": 20,
    "start_time": "2024-10-27T21:22:56.812Z"
   },
   {
    "duration": 54,
    "start_time": "2024-10-27T21:22:59.188Z"
   },
   {
    "duration": 18,
    "start_time": "2024-10-27T21:24:41.804Z"
   },
   {
    "duration": 41,
    "start_time": "2024-10-27T21:24:55.442Z"
   },
   {
    "duration": 39,
    "start_time": "2024-10-27T21:25:06.522Z"
   },
   {
    "duration": 73,
    "start_time": "2024-10-27T21:25:16.472Z"
   },
   {
    "duration": 3,
    "start_time": "2024-10-27T21:25:39.901Z"
   },
   {
    "duration": 7,
    "start_time": "2024-10-27T21:25:39.906Z"
   },
   {
    "duration": 60,
    "start_time": "2024-10-27T21:25:39.915Z"
   },
   {
    "duration": 39,
    "start_time": "2024-10-27T21:25:39.977Z"
   },
   {
    "duration": 6,
    "start_time": "2024-10-27T21:25:40.019Z"
   },
   {
    "duration": 62,
    "start_time": "2024-10-27T21:25:40.026Z"
   },
   {
    "duration": 8,
    "start_time": "2024-10-27T21:25:40.090Z"
   },
   {
    "duration": 6,
    "start_time": "2024-10-27T21:25:40.100Z"
   },
   {
    "duration": 7,
    "start_time": "2024-10-27T21:25:40.108Z"
   },
   {
    "duration": 7,
    "start_time": "2024-10-27T21:25:40.117Z"
   },
   {
    "duration": 6,
    "start_time": "2024-10-27T21:25:40.128Z"
   },
   {
    "duration": 8,
    "start_time": "2024-10-27T21:25:40.135Z"
   },
   {
    "duration": 44,
    "start_time": "2024-10-27T21:25:40.144Z"
   },
   {
    "duration": 8,
    "start_time": "2024-10-27T21:25:40.189Z"
   },
   {
    "duration": 8,
    "start_time": "2024-10-27T21:25:40.199Z"
   },
   {
    "duration": 9,
    "start_time": "2024-10-27T21:25:40.209Z"
   },
   {
    "duration": 7,
    "start_time": "2024-10-27T21:25:40.220Z"
   },
   {
    "duration": 5,
    "start_time": "2024-10-27T21:25:40.229Z"
   },
   {
    "duration": 51,
    "start_time": "2024-10-27T21:25:40.236Z"
   },
   {
    "duration": 15,
    "start_time": "2024-10-27T21:25:40.289Z"
   },
   {
    "duration": 7,
    "start_time": "2024-10-27T21:25:40.306Z"
   },
   {
    "duration": 47,
    "start_time": "2024-10-27T21:25:40.314Z"
   },
   {
    "duration": 38,
    "start_time": "2024-10-27T21:25:40.386Z"
   },
   {
    "duration": 7,
    "start_time": "2024-10-27T21:25:40.426Z"
   },
   {
    "duration": 68,
    "start_time": "2024-10-27T21:25:40.435Z"
   },
   {
    "duration": 12,
    "start_time": "2024-10-27T21:25:40.505Z"
   },
   {
    "duration": 5,
    "start_time": "2024-10-27T21:25:40.519Z"
   },
   {
    "duration": 13,
    "start_time": "2024-10-27T21:25:40.526Z"
   },
   {
    "duration": 16,
    "start_time": "2024-10-27T21:25:40.544Z"
   },
   {
    "duration": 7,
    "start_time": "2024-10-27T21:25:40.587Z"
   },
   {
    "duration": 18,
    "start_time": "2024-10-27T21:25:40.595Z"
   },
   {
    "duration": 14,
    "start_time": "2024-10-27T21:25:40.614Z"
   },
   {
    "duration": 6,
    "start_time": "2024-10-27T21:25:40.629Z"
   },
   {
    "duration": 65,
    "start_time": "2024-10-27T21:25:40.637Z"
   },
   {
    "duration": 7,
    "start_time": "2024-10-27T21:25:40.704Z"
   },
   {
    "duration": 21,
    "start_time": "2024-10-27T21:25:40.712Z"
   },
   {
    "duration": 7,
    "start_time": "2024-10-27T21:25:40.734Z"
   },
   {
    "duration": 46,
    "start_time": "2024-10-27T21:25:40.742Z"
   },
   {
    "duration": 15,
    "start_time": "2024-10-27T21:25:40.790Z"
   },
   {
    "duration": 17,
    "start_time": "2024-10-27T21:25:40.807Z"
   },
   {
    "duration": 17,
    "start_time": "2024-10-27T21:25:40.826Z"
   },
   {
    "duration": 5,
    "start_time": "2024-10-27T21:25:40.846Z"
   },
   {
    "duration": 47,
    "start_time": "2024-10-27T21:25:40.853Z"
   },
   {
    "duration": 86,
    "start_time": "2024-10-27T21:25:43.580Z"
   },
   {
    "duration": 77,
    "start_time": "2024-10-27T21:26:09.457Z"
   },
   {
    "duration": 3,
    "start_time": "2024-10-27T21:26:37.093Z"
   },
   {
    "duration": 8,
    "start_time": "2024-10-27T21:26:37.098Z"
   },
   {
    "duration": 63,
    "start_time": "2024-10-27T21:26:37.107Z"
   },
   {
    "duration": 32,
    "start_time": "2024-10-27T21:26:37.187Z"
   },
   {
    "duration": 6,
    "start_time": "2024-10-27T21:26:37.222Z"
   },
   {
    "duration": 62,
    "start_time": "2024-10-27T21:26:37.230Z"
   },
   {
    "duration": 8,
    "start_time": "2024-10-27T21:26:37.294Z"
   },
   {
    "duration": 7,
    "start_time": "2024-10-27T21:26:37.304Z"
   },
   {
    "duration": 8,
    "start_time": "2024-10-27T21:26:37.312Z"
   },
   {
    "duration": 6,
    "start_time": "2024-10-27T21:26:37.322Z"
   },
   {
    "duration": 7,
    "start_time": "2024-10-27T21:26:37.330Z"
   },
   {
    "duration": 8,
    "start_time": "2024-10-27T21:26:37.339Z"
   },
   {
    "duration": 44,
    "start_time": "2024-10-27T21:26:37.348Z"
   },
   {
    "duration": 7,
    "start_time": "2024-10-27T21:26:37.396Z"
   },
   {
    "duration": 103,
    "start_time": "2024-10-27T21:26:37.405Z"
   },
   {
    "duration": 8,
    "start_time": "2024-10-27T21:26:37.510Z"
   },
   {
    "duration": 7,
    "start_time": "2024-10-27T21:26:37.520Z"
   },
   {
    "duration": 5,
    "start_time": "2024-10-27T21:26:37.528Z"
   },
   {
    "duration": 10,
    "start_time": "2024-10-27T21:26:37.535Z"
   },
   {
    "duration": 48,
    "start_time": "2024-10-27T21:26:37.546Z"
   },
   {
    "duration": 7,
    "start_time": "2024-10-27T21:26:37.596Z"
   },
   {
    "duration": 50,
    "start_time": "2024-10-27T21:26:37.605Z"
   },
   {
    "duration": 56,
    "start_time": "2024-10-27T21:26:37.657Z"
   },
   {
    "duration": 7,
    "start_time": "2024-10-27T21:26:37.715Z"
   },
   {
    "duration": 64,
    "start_time": "2024-10-27T21:26:37.724Z"
   },
   {
    "duration": 12,
    "start_time": "2024-10-27T21:26:37.791Z"
   },
   {
    "duration": 6,
    "start_time": "2024-10-27T21:26:37.805Z"
   },
   {
    "duration": 15,
    "start_time": "2024-10-27T21:26:37.812Z"
   },
   {
    "duration": 15,
    "start_time": "2024-10-27T21:26:37.829Z"
   },
   {
    "duration": 9,
    "start_time": "2024-10-27T21:26:37.845Z"
   },
   {
    "duration": 47,
    "start_time": "2024-10-27T21:26:37.856Z"
   },
   {
    "duration": 33,
    "start_time": "2024-10-27T21:26:37.905Z"
   },
   {
    "duration": 19,
    "start_time": "2024-10-27T21:26:37.940Z"
   },
   {
    "duration": 35,
    "start_time": "2024-10-27T21:26:37.960Z"
   },
   {
    "duration": 7,
    "start_time": "2024-10-27T21:26:37.997Z"
   },
   {
    "duration": 21,
    "start_time": "2024-10-27T21:26:38.006Z"
   },
   {
    "duration": 7,
    "start_time": "2024-10-27T21:26:38.028Z"
   },
   {
    "duration": 22,
    "start_time": "2024-10-27T21:26:38.037Z"
   },
   {
    "duration": 40,
    "start_time": "2024-10-27T21:26:38.061Z"
   },
   {
    "duration": 19,
    "start_time": "2024-10-27T21:26:38.102Z"
   },
   {
    "duration": 23,
    "start_time": "2024-10-27T21:26:38.126Z"
   },
   {
    "duration": 6,
    "start_time": "2024-10-27T21:26:38.151Z"
   },
   {
    "duration": 44,
    "start_time": "2024-10-27T21:26:38.158Z"
   },
   {
    "duration": 73,
    "start_time": "2024-10-27T21:26:40.245Z"
   },
   {
    "duration": 3,
    "start_time": "2024-10-27T21:26:46.021Z"
   },
   {
    "duration": 8,
    "start_time": "2024-10-27T21:26:46.056Z"
   },
   {
    "duration": 57,
    "start_time": "2024-10-27T21:26:46.066Z"
   },
   {
    "duration": 30,
    "start_time": "2024-10-27T21:26:46.126Z"
   },
   {
    "duration": 6,
    "start_time": "2024-10-27T21:26:46.158Z"
   },
   {
    "duration": 49,
    "start_time": "2024-10-27T21:26:46.167Z"
   },
   {
    "duration": 9,
    "start_time": "2024-10-27T21:26:46.218Z"
   },
   {
    "duration": 6,
    "start_time": "2024-10-27T21:26:46.229Z"
   },
   {
    "duration": 6,
    "start_time": "2024-10-27T21:26:46.236Z"
   },
   {
    "duration": 7,
    "start_time": "2024-10-27T21:26:46.244Z"
   },
   {
    "duration": 34,
    "start_time": "2024-10-27T21:26:46.253Z"
   },
   {
    "duration": 9,
    "start_time": "2024-10-27T21:26:46.289Z"
   },
   {
    "duration": 7,
    "start_time": "2024-10-27T21:26:46.300Z"
   },
   {
    "duration": 10,
    "start_time": "2024-10-27T21:26:46.308Z"
   },
   {
    "duration": 8,
    "start_time": "2024-10-27T21:26:46.321Z"
   },
   {
    "duration": 7,
    "start_time": "2024-10-27T21:26:46.331Z"
   },
   {
    "duration": 7,
    "start_time": "2024-10-27T21:26:46.340Z"
   },
   {
    "duration": 40,
    "start_time": "2024-10-27T21:26:46.349Z"
   },
   {
    "duration": 9,
    "start_time": "2024-10-27T21:26:46.391Z"
   },
   {
    "duration": 15,
    "start_time": "2024-10-27T21:26:46.401Z"
   },
   {
    "duration": 6,
    "start_time": "2024-10-27T21:26:46.417Z"
   },
   {
    "duration": 73,
    "start_time": "2024-10-27T21:26:46.425Z"
   },
   {
    "duration": 41,
    "start_time": "2024-10-27T21:26:46.500Z"
   },
   {
    "duration": 7,
    "start_time": "2024-10-27T21:26:46.543Z"
   },
   {
    "duration": 68,
    "start_time": "2024-10-27T21:26:46.552Z"
   },
   {
    "duration": 11,
    "start_time": "2024-10-27T21:26:46.622Z"
   },
   {
    "duration": 5,
    "start_time": "2024-10-27T21:26:46.635Z"
   },
   {
    "duration": 14,
    "start_time": "2024-10-27T21:26:46.642Z"
   },
   {
    "duration": 42,
    "start_time": "2024-10-27T21:26:46.658Z"
   },
   {
    "duration": 6,
    "start_time": "2024-10-27T21:26:46.702Z"
   },
   {
    "duration": 16,
    "start_time": "2024-10-27T21:26:46.710Z"
   },
   {
    "duration": 14,
    "start_time": "2024-10-27T21:26:46.728Z"
   },
   {
    "duration": 6,
    "start_time": "2024-10-27T21:26:46.744Z"
   },
   {
    "duration": 67,
    "start_time": "2024-10-27T21:26:46.752Z"
   },
   {
    "duration": 7,
    "start_time": "2024-10-27T21:26:46.821Z"
   },
   {
    "duration": 21,
    "start_time": "2024-10-27T21:26:46.830Z"
   },
   {
    "duration": 35,
    "start_time": "2024-10-27T21:26:46.852Z"
   },
   {
    "duration": 22,
    "start_time": "2024-10-27T21:26:46.888Z"
   },
   {
    "duration": 17,
    "start_time": "2024-10-27T21:26:46.912Z"
   },
   {
    "duration": 18,
    "start_time": "2024-10-27T21:26:46.931Z"
   },
   {
    "duration": 44,
    "start_time": "2024-10-27T21:26:46.951Z"
   },
   {
    "duration": 6,
    "start_time": "2024-10-27T21:26:47.000Z"
   },
   {
    "duration": 21,
    "start_time": "2024-10-27T21:26:47.008Z"
   },
   {
    "duration": 96,
    "start_time": "2024-10-27T21:26:47.031Z"
   },
   {
    "duration": 0,
    "start_time": "2024-10-27T21:26:47.129Z"
   },
   {
    "duration": 0,
    "start_time": "2024-10-27T21:26:47.131Z"
   },
   {
    "duration": 3,
    "start_time": "2024-10-27T21:28:01.747Z"
   },
   {
    "duration": 7,
    "start_time": "2024-10-27T21:28:01.758Z"
   },
   {
    "duration": 62,
    "start_time": "2024-10-27T21:28:01.767Z"
   },
   {
    "duration": 31,
    "start_time": "2024-10-27T21:28:01.831Z"
   },
   {
    "duration": 6,
    "start_time": "2024-10-27T21:28:01.864Z"
   },
   {
    "duration": 49,
    "start_time": "2024-10-27T21:28:01.886Z"
   },
   {
    "duration": 9,
    "start_time": "2024-10-27T21:28:01.937Z"
   },
   {
    "duration": 6,
    "start_time": "2024-10-27T21:28:01.948Z"
   },
   {
    "duration": 6,
    "start_time": "2024-10-27T21:28:01.955Z"
   },
   {
    "duration": 30,
    "start_time": "2024-10-27T21:28:01.963Z"
   },
   {
    "duration": 6,
    "start_time": "2024-10-27T21:28:01.995Z"
   },
   {
    "duration": 9,
    "start_time": "2024-10-27T21:28:02.003Z"
   },
   {
    "duration": 7,
    "start_time": "2024-10-27T21:28:02.014Z"
   },
   {
    "duration": 8,
    "start_time": "2024-10-27T21:28:02.023Z"
   },
   {
    "duration": 9,
    "start_time": "2024-10-27T21:28:02.034Z"
   },
   {
    "duration": 45,
    "start_time": "2024-10-27T21:28:02.044Z"
   },
   {
    "duration": 8,
    "start_time": "2024-10-27T21:28:02.091Z"
   },
   {
    "duration": 6,
    "start_time": "2024-10-27T21:28:02.101Z"
   },
   {
    "duration": 9,
    "start_time": "2024-10-27T21:28:02.109Z"
   },
   {
    "duration": 18,
    "start_time": "2024-10-27T21:28:02.120Z"
   },
   {
    "duration": 8,
    "start_time": "2024-10-27T21:28:02.140Z"
   },
   {
    "duration": 46,
    "start_time": "2024-10-27T21:28:02.187Z"
   },
   {
    "duration": 57,
    "start_time": "2024-10-27T21:28:02.235Z"
   },
   {
    "duration": 8,
    "start_time": "2024-10-27T21:28:02.294Z"
   },
   {
    "duration": 50,
    "start_time": "2024-10-27T21:28:02.304Z"
   },
   {
    "duration": 34,
    "start_time": "2024-10-27T21:28:02.356Z"
   },
   {
    "duration": 8,
    "start_time": "2024-10-27T21:28:02.392Z"
   },
   {
    "duration": 16,
    "start_time": "2024-10-27T21:28:02.401Z"
   },
   {
    "duration": 17,
    "start_time": "2024-10-27T21:28:02.418Z"
   },
   {
    "duration": 6,
    "start_time": "2024-10-27T21:28:02.437Z"
   },
   {
    "duration": 51,
    "start_time": "2024-10-27T21:28:02.445Z"
   },
   {
    "duration": 14,
    "start_time": "2024-10-27T21:28:02.498Z"
   },
   {
    "duration": 6,
    "start_time": "2024-10-27T21:28:02.514Z"
   },
   {
    "duration": 36,
    "start_time": "2024-10-27T21:28:02.523Z"
   },
   {
    "duration": 30,
    "start_time": "2024-10-27T21:28:02.561Z"
   },
   {
    "duration": 22,
    "start_time": "2024-10-27T21:28:02.593Z"
   },
   {
    "duration": 7,
    "start_time": "2024-10-27T21:28:02.616Z"
   },
   {
    "duration": 21,
    "start_time": "2024-10-27T21:28:02.626Z"
   },
   {
    "duration": 46,
    "start_time": "2024-10-27T21:28:02.649Z"
   },
   {
    "duration": 19,
    "start_time": "2024-10-27T21:28:02.697Z"
   },
   {
    "duration": 18,
    "start_time": "2024-10-27T21:28:02.717Z"
   },
   {
    "duration": 5,
    "start_time": "2024-10-27T21:28:02.740Z"
   },
   {
    "duration": 52,
    "start_time": "2024-10-27T21:28:02.747Z"
   },
   {
    "duration": 86,
    "start_time": "2024-10-27T21:28:02.801Z"
   },
   {
    "duration": 0,
    "start_time": "2024-10-27T21:28:02.890Z"
   },
   {
    "duration": 0,
    "start_time": "2024-10-27T21:28:02.891Z"
   },
   {
    "duration": 0,
    "start_time": "2024-10-27T21:28:02.892Z"
   },
   {
    "duration": 0,
    "start_time": "2024-10-27T21:28:02.894Z"
   },
   {
    "duration": 0,
    "start_time": "2024-10-27T21:28:02.896Z"
   },
   {
    "duration": 0,
    "start_time": "2024-10-27T21:28:02.897Z"
   },
   {
    "duration": 0,
    "start_time": "2024-10-27T21:28:02.898Z"
   },
   {
    "duration": 0,
    "start_time": "2024-10-27T21:28:02.900Z"
   },
   {
    "duration": 0,
    "start_time": "2024-10-27T21:28:02.902Z"
   },
   {
    "duration": 0,
    "start_time": "2024-10-27T21:28:02.903Z"
   },
   {
    "duration": 0,
    "start_time": "2024-10-27T21:28:02.905Z"
   },
   {
    "duration": 0,
    "start_time": "2024-10-27T21:28:02.906Z"
   },
   {
    "duration": 195,
    "start_time": "2024-10-27T21:28:14.118Z"
   },
   {
    "duration": 36,
    "start_time": "2024-10-27T21:28:30.830Z"
   },
   {
    "duration": 5,
    "start_time": "2024-10-27T21:28:40.215Z"
   },
   {
    "duration": 22,
    "start_time": "2024-10-27T21:30:20.767Z"
   },
   {
    "duration": 20,
    "start_time": "2024-10-27T21:30:25.042Z"
   },
   {
    "duration": 16,
    "start_time": "2024-10-27T21:30:47.815Z"
   },
   {
    "duration": 16,
    "start_time": "2024-10-27T21:30:59.832Z"
   },
   {
    "duration": 16,
    "start_time": "2024-10-27T21:31:02.786Z"
   },
   {
    "duration": 14,
    "start_time": "2024-10-27T21:31:24.599Z"
   },
   {
    "duration": 3,
    "start_time": "2024-10-27T21:31:31.880Z"
   },
   {
    "duration": 7,
    "start_time": "2024-10-27T21:31:31.890Z"
   },
   {
    "duration": 102,
    "start_time": "2024-10-27T21:31:31.899Z"
   },
   {
    "duration": 32,
    "start_time": "2024-10-27T21:31:32.002Z"
   },
   {
    "duration": 6,
    "start_time": "2024-10-27T21:31:32.036Z"
   },
   {
    "duration": 65,
    "start_time": "2024-10-27T21:31:32.045Z"
   },
   {
    "duration": 9,
    "start_time": "2024-10-27T21:31:32.112Z"
   },
   {
    "duration": 8,
    "start_time": "2024-10-27T21:31:32.122Z"
   },
   {
    "duration": 6,
    "start_time": "2024-10-27T21:31:32.132Z"
   },
   {
    "duration": 7,
    "start_time": "2024-10-27T21:31:32.139Z"
   },
   {
    "duration": 40,
    "start_time": "2024-10-27T21:31:32.148Z"
   },
   {
    "duration": 9,
    "start_time": "2024-10-27T21:31:32.189Z"
   },
   {
    "duration": 6,
    "start_time": "2024-10-27T21:31:32.200Z"
   },
   {
    "duration": 7,
    "start_time": "2024-10-27T21:31:32.208Z"
   },
   {
    "duration": 8,
    "start_time": "2024-10-27T21:31:32.220Z"
   },
   {
    "duration": 8,
    "start_time": "2024-10-27T21:31:32.230Z"
   },
   {
    "duration": 50,
    "start_time": "2024-10-27T21:31:32.240Z"
   },
   {
    "duration": 5,
    "start_time": "2024-10-27T21:31:32.291Z"
   },
   {
    "duration": 8,
    "start_time": "2024-10-27T21:31:32.298Z"
   },
   {
    "duration": 15,
    "start_time": "2024-10-27T21:31:32.308Z"
   },
   {
    "duration": 6,
    "start_time": "2024-10-27T21:31:32.325Z"
   },
   {
    "duration": 86,
    "start_time": "2024-10-27T21:31:32.333Z"
   },
   {
    "duration": 40,
    "start_time": "2024-10-27T21:31:32.421Z"
   },
   {
    "duration": 30,
    "start_time": "2024-10-27T21:31:32.462Z"
   },
   {
    "duration": 50,
    "start_time": "2024-10-27T21:31:32.493Z"
   },
   {
    "duration": 13,
    "start_time": "2024-10-27T21:31:32.545Z"
   },
   {
    "duration": 30,
    "start_time": "2024-10-27T21:31:32.560Z"
   },
   {
    "duration": 16,
    "start_time": "2024-10-27T21:31:32.592Z"
   },
   {
    "duration": 16,
    "start_time": "2024-10-27T21:31:32.610Z"
   },
   {
    "duration": 7,
    "start_time": "2024-10-27T21:31:32.627Z"
   },
   {
    "duration": 53,
    "start_time": "2024-10-27T21:31:32.635Z"
   },
   {
    "duration": 14,
    "start_time": "2024-10-27T21:31:32.690Z"
   },
   {
    "duration": 7,
    "start_time": "2024-10-27T21:31:32.706Z"
   },
   {
    "duration": 35,
    "start_time": "2024-10-27T21:31:32.715Z"
   },
   {
    "duration": 37,
    "start_time": "2024-10-27T21:31:32.752Z"
   },
   {
    "duration": 21,
    "start_time": "2024-10-27T21:31:32.790Z"
   },
   {
    "duration": 7,
    "start_time": "2024-10-27T21:31:32.813Z"
   },
   {
    "duration": 20,
    "start_time": "2024-10-27T21:31:32.822Z"
   },
   {
    "duration": 49,
    "start_time": "2024-10-27T21:31:32.844Z"
   },
   {
    "duration": 17,
    "start_time": "2024-10-27T21:31:32.895Z"
   },
   {
    "duration": 17,
    "start_time": "2024-10-27T21:31:32.914Z"
   },
   {
    "duration": 5,
    "start_time": "2024-10-27T21:31:32.936Z"
   },
   {
    "duration": 59,
    "start_time": "2024-10-27T21:31:32.943Z"
   },
   {
    "duration": 14,
    "start_time": "2024-10-27T21:31:33.004Z"
   },
   {
    "duration": 6,
    "start_time": "2024-10-27T21:31:33.020Z"
   },
   {
    "duration": 62,
    "start_time": "2024-10-27T21:31:33.028Z"
   },
   {
    "duration": 218,
    "start_time": "2024-10-27T21:31:33.091Z"
   },
   {
    "duration": 171,
    "start_time": "2024-10-27T21:31:33.311Z"
   },
   {
    "duration": 6,
    "start_time": "2024-10-27T21:31:33.484Z"
   },
   {
    "duration": 169,
    "start_time": "2024-10-27T21:31:33.492Z"
   },
   {
    "duration": 24,
    "start_time": "2024-10-27T21:31:33.663Z"
   },
   {
    "duration": 160,
    "start_time": "2024-10-27T21:31:33.689Z"
   },
   {
    "duration": 13,
    "start_time": "2024-10-27T21:31:33.851Z"
   },
   {
    "duration": 184,
    "start_time": "2024-10-27T21:31:33.865Z"
   },
   {
    "duration": 8,
    "start_time": "2024-10-27T21:31:34.051Z"
   },
   {
    "duration": 24,
    "start_time": "2024-10-27T21:31:34.062Z"
   },
   {
    "duration": 9,
    "start_time": "2024-10-27T21:31:34.088Z"
   },
   {
    "duration": 9,
    "start_time": "2024-10-27T21:31:34.099Z"
   },
   {
    "duration": 17,
    "start_time": "2024-10-27T21:31:48.395Z"
   },
   {
    "duration": 3,
    "start_time": "2024-10-27T21:32:00.417Z"
   },
   {
    "duration": 7,
    "start_time": "2024-10-27T21:32:00.425Z"
   },
   {
    "duration": 68,
    "start_time": "2024-10-27T21:32:00.435Z"
   },
   {
    "duration": 32,
    "start_time": "2024-10-27T21:32:00.505Z"
   },
   {
    "duration": 6,
    "start_time": "2024-10-27T21:32:00.538Z"
   },
   {
    "duration": 63,
    "start_time": "2024-10-27T21:32:00.546Z"
   },
   {
    "duration": 8,
    "start_time": "2024-10-27T21:32:00.611Z"
   },
   {
    "duration": 8,
    "start_time": "2024-10-27T21:32:00.621Z"
   },
   {
    "duration": 6,
    "start_time": "2024-10-27T21:32:00.631Z"
   },
   {
    "duration": 6,
    "start_time": "2024-10-27T21:32:00.641Z"
   },
   {
    "duration": 39,
    "start_time": "2024-10-27T21:32:00.649Z"
   },
   {
    "duration": 8,
    "start_time": "2024-10-27T21:32:00.690Z"
   },
   {
    "duration": 8,
    "start_time": "2024-10-27T21:32:00.700Z"
   },
   {
    "duration": 8,
    "start_time": "2024-10-27T21:32:00.710Z"
   },
   {
    "duration": 7,
    "start_time": "2024-10-27T21:32:00.722Z"
   },
   {
    "duration": 8,
    "start_time": "2024-10-27T21:32:00.731Z"
   },
   {
    "duration": 51,
    "start_time": "2024-10-27T21:32:00.741Z"
   },
   {
    "duration": 5,
    "start_time": "2024-10-27T21:32:00.794Z"
   },
   {
    "duration": 10,
    "start_time": "2024-10-27T21:32:00.801Z"
   },
   {
    "duration": 16,
    "start_time": "2024-10-27T21:32:00.813Z"
   },
   {
    "duration": 7,
    "start_time": "2024-10-27T21:32:00.830Z"
   },
   {
    "duration": 103,
    "start_time": "2024-10-27T21:32:00.838Z"
   },
   {
    "duration": 57,
    "start_time": "2024-10-27T21:32:00.943Z"
   },
   {
    "duration": 9,
    "start_time": "2024-10-27T21:32:01.002Z"
   },
   {
    "duration": 49,
    "start_time": "2024-10-27T21:32:01.013Z"
   },
   {
    "duration": 33,
    "start_time": "2024-10-27T21:32:01.064Z"
   },
   {
    "duration": 5,
    "start_time": "2024-10-27T21:32:01.103Z"
   },
   {
    "duration": 15,
    "start_time": "2024-10-27T21:32:01.110Z"
   },
   {
    "duration": 17,
    "start_time": "2024-10-27T21:32:01.127Z"
   },
   {
    "duration": 41,
    "start_time": "2024-10-27T21:32:01.145Z"
   },
   {
    "duration": 18,
    "start_time": "2024-10-27T21:32:01.189Z"
   },
   {
    "duration": 13,
    "start_time": "2024-10-27T21:32:01.210Z"
   },
   {
    "duration": 7,
    "start_time": "2024-10-27T21:32:01.225Z"
   },
   {
    "duration": 61,
    "start_time": "2024-10-27T21:32:01.234Z"
   },
   {
    "duration": 7,
    "start_time": "2024-10-27T21:32:01.296Z"
   },
   {
    "duration": 22,
    "start_time": "2024-10-27T21:32:01.305Z"
   },
   {
    "duration": 6,
    "start_time": "2024-10-27T21:32:01.329Z"
   },
   {
    "duration": 54,
    "start_time": "2024-10-27T21:32:01.337Z"
   },
   {
    "duration": 16,
    "start_time": "2024-10-27T21:32:01.393Z"
   },
   {
    "duration": 18,
    "start_time": "2024-10-27T21:32:01.411Z"
   },
   {
    "duration": 22,
    "start_time": "2024-10-27T21:32:01.431Z"
   },
   {
    "duration": 6,
    "start_time": "2024-10-27T21:32:01.491Z"
   },
   {
    "duration": 20,
    "start_time": "2024-10-27T21:32:01.499Z"
   },
   {
    "duration": 741,
    "start_time": "2024-10-27T21:32:12.228Z"
   },
   {
    "duration": 6,
    "start_time": "2024-10-27T21:32:12.971Z"
   },
   {
    "duration": 68,
    "start_time": "2024-10-27T21:32:12.978Z"
   },
   {
    "duration": 41,
    "start_time": "2024-10-27T21:32:13.049Z"
   },
   {
    "duration": 4,
    "start_time": "2024-10-27T21:32:13.091Z"
   },
   {
    "duration": 70,
    "start_time": "2024-10-27T21:32:13.097Z"
   },
   {
    "duration": 25,
    "start_time": "2024-10-27T21:32:13.169Z"
   },
   {
    "duration": 7,
    "start_time": "2024-10-27T21:32:13.196Z"
   },
   {
    "duration": 7,
    "start_time": "2024-10-27T21:32:13.205Z"
   },
   {
    "duration": 6,
    "start_time": "2024-10-27T21:32:13.217Z"
   },
   {
    "duration": 9,
    "start_time": "2024-10-27T21:32:13.225Z"
   },
   {
    "duration": 51,
    "start_time": "2024-10-27T21:32:13.236Z"
   },
   {
    "duration": 7,
    "start_time": "2024-10-27T21:32:13.289Z"
   },
   {
    "duration": 10,
    "start_time": "2024-10-27T21:32:13.298Z"
   },
   {
    "duration": 8,
    "start_time": "2024-10-27T21:32:13.309Z"
   },
   {
    "duration": 8,
    "start_time": "2024-10-27T21:32:13.319Z"
   },
   {
    "duration": 7,
    "start_time": "2024-10-27T21:32:13.328Z"
   },
   {
    "duration": 50,
    "start_time": "2024-10-27T21:32:13.337Z"
   },
   {
    "duration": 11,
    "start_time": "2024-10-27T21:32:13.389Z"
   },
   {
    "duration": 15,
    "start_time": "2024-10-27T21:32:13.402Z"
   },
   {
    "duration": 7,
    "start_time": "2024-10-27T21:32:13.418Z"
   },
   {
    "duration": 85,
    "start_time": "2024-10-27T21:32:13.427Z"
   },
   {
    "duration": 46,
    "start_time": "2024-10-27T21:32:13.514Z"
   },
   {
    "duration": 8,
    "start_time": "2024-10-27T21:32:13.562Z"
   },
   {
    "duration": 56,
    "start_time": "2024-10-27T21:32:13.587Z"
   },
   {
    "duration": 11,
    "start_time": "2024-10-27T21:32:13.645Z"
   },
   {
    "duration": 31,
    "start_time": "2024-10-27T21:32:13.658Z"
   },
   {
    "duration": 16,
    "start_time": "2024-10-27T21:32:13.696Z"
   },
   {
    "duration": 19,
    "start_time": "2024-10-27T21:32:13.713Z"
   },
   {
    "duration": 6,
    "start_time": "2024-10-27T21:32:13.734Z"
   },
   {
    "duration": 53,
    "start_time": "2024-10-27T21:32:13.741Z"
   },
   {
    "duration": 16,
    "start_time": "2024-10-27T21:32:13.796Z"
   },
   {
    "duration": 6,
    "start_time": "2024-10-27T21:32:13.814Z"
   },
   {
    "duration": 65,
    "start_time": "2024-10-27T21:32:13.822Z"
   },
   {
    "duration": 8,
    "start_time": "2024-10-27T21:32:13.889Z"
   },
   {
    "duration": 23,
    "start_time": "2024-10-27T21:32:13.899Z"
   },
   {
    "duration": 7,
    "start_time": "2024-10-27T21:32:13.923Z"
   },
   {
    "duration": 55,
    "start_time": "2024-10-27T21:32:13.932Z"
   },
   {
    "duration": 20,
    "start_time": "2024-10-27T21:32:13.988Z"
   },
   {
    "duration": 18,
    "start_time": "2024-10-27T21:32:14.010Z"
   },
   {
    "duration": 17,
    "start_time": "2024-10-27T21:32:14.031Z"
   },
   {
    "duration": 39,
    "start_time": "2024-10-27T21:32:14.050Z"
   },
   {
    "duration": 19,
    "start_time": "2024-10-27T21:32:14.091Z"
   },
   {
    "duration": 17,
    "start_time": "2024-10-27T21:32:14.111Z"
   },
   {
    "duration": 5,
    "start_time": "2024-10-27T21:32:14.130Z"
   },
   {
    "duration": 69,
    "start_time": "2024-10-27T21:32:14.136Z"
   },
   {
    "duration": 222,
    "start_time": "2024-10-27T21:32:14.206Z"
   },
   {
    "duration": 166,
    "start_time": "2024-10-27T21:32:14.430Z"
   },
   {
    "duration": 5,
    "start_time": "2024-10-27T21:32:14.598Z"
   },
   {
    "duration": 167,
    "start_time": "2024-10-27T21:32:14.605Z"
   },
   {
    "duration": 23,
    "start_time": "2024-10-27T21:32:14.774Z"
   },
   {
    "duration": 197,
    "start_time": "2024-10-27T21:32:14.799Z"
   },
   {
    "duration": 12,
    "start_time": "2024-10-27T21:32:14.997Z"
   },
   {
    "duration": 168,
    "start_time": "2024-10-27T21:32:15.011Z"
   },
   {
    "duration": 9,
    "start_time": "2024-10-27T21:32:15.180Z"
   },
   {
    "duration": 9,
    "start_time": "2024-10-27T21:32:15.191Z"
   },
   {
    "duration": 9,
    "start_time": "2024-10-27T21:32:15.202Z"
   },
   {
    "duration": 35,
    "start_time": "2024-10-27T21:32:15.213Z"
   },
   {
    "duration": 2,
    "start_time": "2024-10-27T21:32:15.250Z"
   },
   {
    "duration": 2,
    "start_time": "2024-10-27T21:32:15.254Z"
   },
   {
    "duration": 896,
    "start_time": "2024-10-27T21:34:18.310Z"
   },
   {
    "duration": 7,
    "start_time": "2024-10-27T21:34:29.436Z"
   },
   {
    "duration": 10,
    "start_time": "2024-10-27T21:34:38.848Z"
   },
   {
    "duration": 8,
    "start_time": "2024-10-27T21:37:36.112Z"
   },
   {
    "duration": 37,
    "start_time": "2024-10-27T21:37:48.509Z"
   },
   {
    "duration": 45,
    "start_time": "2024-10-27T21:37:54.822Z"
   },
   {
    "duration": 66,
    "start_time": "2024-10-27T21:41:54.007Z"
   },
   {
    "duration": 98,
    "start_time": "2024-10-27T21:42:24.041Z"
   },
   {
    "duration": 120,
    "start_time": "2024-10-27T21:43:05.227Z"
   },
   {
    "duration": 142,
    "start_time": "2024-10-27T21:43:08.948Z"
   },
   {
    "duration": 365,
    "start_time": "2024-10-27T21:43:38.154Z"
   },
   {
    "duration": 132,
    "start_time": "2024-10-27T21:43:42.839Z"
   },
   {
    "duration": 147,
    "start_time": "2024-10-27T21:44:05.925Z"
   },
   {
    "duration": 141,
    "start_time": "2024-10-27T21:44:20.198Z"
   },
   {
    "duration": 151,
    "start_time": "2024-10-27T21:44:32.313Z"
   },
   {
    "duration": 681,
    "start_time": "2024-10-27T21:45:27.270Z"
   },
   {
    "duration": 159,
    "start_time": "2024-10-27T21:46:00.705Z"
   },
   {
    "duration": 4,
    "start_time": "2024-10-27T21:46:12.206Z"
   },
   {
    "duration": 258,
    "start_time": "2024-10-27T21:46:16.759Z"
   },
   {
    "duration": 281,
    "start_time": "2024-10-27T21:46:28.091Z"
   },
   {
    "duration": 346,
    "start_time": "2024-10-27T21:46:38.651Z"
   },
   {
    "duration": 189,
    "start_time": "2024-10-27T21:47:00.175Z"
   },
   {
    "duration": 153,
    "start_time": "2024-10-27T21:47:03.403Z"
   },
   {
    "duration": 5,
    "start_time": "2024-10-27T21:47:11.134Z"
   },
   {
    "duration": 187,
    "start_time": "2024-10-27T21:47:14.609Z"
   },
   {
    "duration": 191,
    "start_time": "2024-10-27T21:47:18.642Z"
   },
   {
    "duration": 334,
    "start_time": "2024-10-27T21:47:30.945Z"
   },
   {
    "duration": 197,
    "start_time": "2024-10-27T21:47:34.765Z"
   },
   {
    "duration": 231,
    "start_time": "2024-10-27T21:47:42.281Z"
   },
   {
    "duration": 227,
    "start_time": "2024-10-27T21:48:05.809Z"
   },
   {
    "duration": 156,
    "start_time": "2024-10-27T21:48:32.976Z"
   },
   {
    "duration": 148,
    "start_time": "2024-10-27T21:48:41.376Z"
   },
   {
    "duration": 158,
    "start_time": "2024-10-27T22:04:54.992Z"
   },
   {
    "duration": 137,
    "start_time": "2024-10-27T22:05:24.014Z"
   },
   {
    "duration": 140,
    "start_time": "2024-10-27T22:05:33.433Z"
   },
   {
    "duration": 131,
    "start_time": "2024-10-27T22:05:43.805Z"
   },
   {
    "duration": 211,
    "start_time": "2024-10-27T22:05:53.414Z"
   },
   {
    "duration": 175,
    "start_time": "2024-10-27T22:05:55.903Z"
   },
   {
    "duration": 9,
    "start_time": "2024-10-27T22:08:56.725Z"
   },
   {
    "duration": 10,
    "start_time": "2024-10-27T22:08:59.747Z"
   },
   {
    "duration": 8,
    "start_time": "2024-10-27T22:09:13.794Z"
   },
   {
    "duration": 80,
    "start_time": "2024-10-27T22:09:38.622Z"
   },
   {
    "duration": 5,
    "start_time": "2024-10-27T22:09:42.995Z"
   },
   {
    "duration": 9,
    "start_time": "2024-10-27T22:10:01.295Z"
   },
   {
    "duration": 9,
    "start_time": "2024-10-27T22:11:04.986Z"
   },
   {
    "duration": 16,
    "start_time": "2024-10-27T22:11:16.598Z"
   },
   {
    "duration": 6,
    "start_time": "2024-10-27T22:11:30.840Z"
   },
   {
    "duration": 5,
    "start_time": "2024-10-27T22:11:55.304Z"
   },
   {
    "duration": 13,
    "start_time": "2024-10-27T22:12:23.748Z"
   },
   {
    "duration": 7,
    "start_time": "2024-10-27T22:12:34.195Z"
   },
   {
    "duration": 9,
    "start_time": "2024-10-27T22:12:37.819Z"
   },
   {
    "duration": 7,
    "start_time": "2024-10-27T22:13:30.726Z"
   },
   {
    "duration": 9,
    "start_time": "2024-10-27T22:13:56.669Z"
   },
   {
    "duration": 2,
    "start_time": "2024-10-27T22:14:21.887Z"
   },
   {
    "duration": 6,
    "start_time": "2024-10-27T22:14:57.810Z"
   },
   {
    "duration": 8,
    "start_time": "2024-10-27T22:15:05.730Z"
   },
   {
    "duration": 5,
    "start_time": "2024-10-27T22:15:21.369Z"
   },
   {
    "duration": 7,
    "start_time": "2024-10-27T22:16:10.792Z"
   },
   {
    "duration": 7,
    "start_time": "2024-10-27T22:16:16.132Z"
   },
   {
    "duration": 7,
    "start_time": "2024-10-27T22:16:26.163Z"
   },
   {
    "duration": 8,
    "start_time": "2024-10-27T22:16:30.800Z"
   },
   {
    "duration": 7,
    "start_time": "2024-10-27T22:16:43.010Z"
   },
   {
    "duration": 13,
    "start_time": "2024-10-27T22:17:15.547Z"
   },
   {
    "duration": 18,
    "start_time": "2024-10-27T22:18:09.593Z"
   },
   {
    "duration": 158,
    "start_time": "2024-10-27T22:19:24.638Z"
   },
   {
    "duration": 133,
    "start_time": "2024-10-27T22:20:38.969Z"
   },
   {
    "duration": 134,
    "start_time": "2024-10-27T22:20:45.409Z"
   },
   {
    "duration": 12,
    "start_time": "2024-10-27T22:21:45.064Z"
   },
   {
    "duration": 11,
    "start_time": "2024-10-27T22:21:47.282Z"
   },
   {
    "duration": 16,
    "start_time": "2024-10-27T22:21:59.982Z"
   },
   {
    "duration": 17,
    "start_time": "2024-10-27T22:22:05.030Z"
   },
   {
    "duration": 135,
    "start_time": "2024-10-27T22:23:29.120Z"
   },
   {
    "duration": 156,
    "start_time": "2024-10-27T22:23:42.415Z"
   },
   {
    "duration": 13,
    "start_time": "2024-10-27T22:24:07.281Z"
   },
   {
    "duration": 14,
    "start_time": "2024-10-27T22:24:46.494Z"
   },
   {
    "duration": 156,
    "start_time": "2024-10-27T22:25:22.098Z"
   },
   {
    "duration": 3,
    "start_time": "2024-10-27T22:26:21.545Z"
   },
   {
    "duration": 9,
    "start_time": "2024-10-27T22:27:47.843Z"
   },
   {
    "duration": 17,
    "start_time": "2024-10-27T22:27:55.020Z"
   },
   {
    "duration": 4,
    "start_time": "2024-10-27T22:33:10.224Z"
   },
   {
    "duration": 6,
    "start_time": "2024-10-27T22:33:28.995Z"
   },
   {
    "duration": 41,
    "start_time": "2024-10-27T22:34:05.851Z"
   },
   {
    "duration": 3,
    "start_time": "2024-10-27T22:34:25.738Z"
   },
   {
    "duration": 5,
    "start_time": "2024-10-27T22:34:39.633Z"
   },
   {
    "duration": 15,
    "start_time": "2024-10-27T22:36:29.959Z"
   },
   {
    "duration": 14,
    "start_time": "2024-10-27T22:37:22.342Z"
   },
   {
    "duration": 4,
    "start_time": "2024-10-27T22:40:41.087Z"
   },
   {
    "duration": 5,
    "start_time": "2024-10-27T22:40:53.656Z"
   },
   {
    "duration": 4,
    "start_time": "2024-10-27T22:40:55.633Z"
   },
   {
    "duration": 4,
    "start_time": "2024-10-27T22:41:25.602Z"
   },
   {
    "duration": 4,
    "start_time": "2024-10-27T22:44:18.985Z"
   },
   {
    "duration": 4,
    "start_time": "2024-10-27T22:44:31.067Z"
   },
   {
    "duration": 12,
    "start_time": "2024-10-27T22:44:37.558Z"
   },
   {
    "duration": 18,
    "start_time": "2024-10-27T22:44:57.000Z"
   },
   {
    "duration": 17,
    "start_time": "2024-10-27T22:45:05.746Z"
   },
   {
    "duration": 2,
    "start_time": "2024-10-27T22:45:13.914Z"
   },
   {
    "duration": 7,
    "start_time": "2024-10-27T22:45:13.918Z"
   },
   {
    "duration": 71,
    "start_time": "2024-10-27T22:45:13.927Z"
   },
   {
    "duration": 31,
    "start_time": "2024-10-27T22:45:13.999Z"
   },
   {
    "duration": 6,
    "start_time": "2024-10-27T22:45:14.032Z"
   },
   {
    "duration": 63,
    "start_time": "2024-10-27T22:45:14.040Z"
   },
   {
    "duration": 9,
    "start_time": "2024-10-27T22:45:14.104Z"
   },
   {
    "duration": 7,
    "start_time": "2024-10-27T22:45:14.115Z"
   },
   {
    "duration": 6,
    "start_time": "2024-10-27T22:45:14.123Z"
   },
   {
    "duration": 7,
    "start_time": "2024-10-27T22:45:14.130Z"
   },
   {
    "duration": 5,
    "start_time": "2024-10-27T22:45:14.142Z"
   },
   {
    "duration": 8,
    "start_time": "2024-10-27T22:45:14.187Z"
   },
   {
    "duration": 7,
    "start_time": "2024-10-27T22:45:14.197Z"
   },
   {
    "duration": 7,
    "start_time": "2024-10-27T22:45:14.206Z"
   },
   {
    "duration": 8,
    "start_time": "2024-10-27T22:45:14.215Z"
   },
   {
    "duration": 8,
    "start_time": "2024-10-27T22:45:14.225Z"
   },
   {
    "duration": 6,
    "start_time": "2024-10-27T22:45:14.235Z"
   },
   {
    "duration": 5,
    "start_time": "2024-10-27T22:45:14.286Z"
   },
   {
    "duration": 9,
    "start_time": "2024-10-27T22:45:14.293Z"
   },
   {
    "duration": 14,
    "start_time": "2024-10-27T22:45:14.304Z"
   },
   {
    "duration": 6,
    "start_time": "2024-10-27T22:45:14.319Z"
   },
   {
    "duration": 80,
    "start_time": "2024-10-27T22:45:14.327Z"
   },
   {
    "duration": 38,
    "start_time": "2024-10-27T22:45:14.408Z"
   },
   {
    "duration": 7,
    "start_time": "2024-10-27T22:45:14.448Z"
   },
   {
    "duration": 72,
    "start_time": "2024-10-27T22:45:14.457Z"
   },
   {
    "duration": 11,
    "start_time": "2024-10-27T22:45:14.532Z"
   },
   {
    "duration": 6,
    "start_time": "2024-10-27T22:45:14.545Z"
   },
   {
    "duration": 43,
    "start_time": "2024-10-27T22:45:14.553Z"
   },
   {
    "duration": 15,
    "start_time": "2024-10-27T22:45:14.602Z"
   },
   {
    "duration": 6,
    "start_time": "2024-10-27T22:45:14.618Z"
   },
   {
    "duration": 16,
    "start_time": "2024-10-27T22:45:14.626Z"
   },
   {
    "duration": 43,
    "start_time": "2024-10-27T22:45:14.643Z"
   },
   {
    "duration": 6,
    "start_time": "2024-10-27T22:45:14.688Z"
   },
   {
    "duration": 36,
    "start_time": "2024-10-27T22:45:14.695Z"
   },
   {
    "duration": 8,
    "start_time": "2024-10-27T22:45:14.733Z"
   },
   {
    "duration": 56,
    "start_time": "2024-10-27T22:45:14.742Z"
   },
   {
    "duration": 7,
    "start_time": "2024-10-27T22:45:14.800Z"
   },
   {
    "duration": 21,
    "start_time": "2024-10-27T22:45:14.808Z"
   },
   {
    "duration": 16,
    "start_time": "2024-10-27T22:45:14.831Z"
   },
   {
    "duration": 49,
    "start_time": "2024-10-27T22:45:14.848Z"
   },
   {
    "duration": 16,
    "start_time": "2024-10-27T22:45:14.900Z"
   },
   {
    "duration": 6,
    "start_time": "2024-10-27T22:45:14.918Z"
   },
   {
    "duration": 20,
    "start_time": "2024-10-27T22:45:14.926Z"
   },
   {
    "duration": 52,
    "start_time": "2024-10-27T22:45:14.947Z"
   },
   {
    "duration": 5,
    "start_time": "2024-10-27T22:45:15.001Z"
   },
   {
    "duration": 37,
    "start_time": "2024-10-27T22:45:15.008Z"
   },
   {
    "duration": 229,
    "start_time": "2024-10-27T22:45:15.047Z"
   },
   {
    "duration": 162,
    "start_time": "2024-10-27T22:45:15.278Z"
   },
   {
    "duration": 5,
    "start_time": "2024-10-27T22:45:15.441Z"
   },
   {
    "duration": 171,
    "start_time": "2024-10-27T22:45:15.448Z"
   },
   {
    "duration": 13,
    "start_time": "2024-10-27T22:45:15.621Z"
   },
   {
    "duration": 346,
    "start_time": "2024-10-27T22:45:15.635Z"
   },
   {
    "duration": 14,
    "start_time": "2024-10-27T22:45:15.987Z"
   },
   {
    "duration": 164,
    "start_time": "2024-10-27T22:45:16.002Z"
   },
   {
    "duration": 5,
    "start_time": "2024-10-27T22:45:16.168Z"
   },
   {
    "duration": 159,
    "start_time": "2024-10-27T22:45:16.174Z"
   },
   {
    "duration": 198,
    "start_time": "2024-10-27T22:45:16.335Z"
   },
   {
    "duration": 16,
    "start_time": "2024-10-27T22:45:16.535Z"
   },
   {
    "duration": 177,
    "start_time": "2024-10-27T22:45:16.552Z"
   },
   {
    "duration": 13,
    "start_time": "2024-10-27T22:45:16.730Z"
   },
   {
    "duration": 179,
    "start_time": "2024-10-27T22:45:16.744Z"
   },
   {
    "duration": 4,
    "start_time": "2024-10-27T22:45:16.924Z"
   },
   {
    "duration": 5,
    "start_time": "2024-10-27T22:45:16.929Z"
   },
   {
    "duration": 11,
    "start_time": "2024-10-27T22:47:27.480Z"
   },
   {
    "duration": 14,
    "start_time": "2024-10-27T22:50:44.379Z"
   },
   {
    "duration": 5,
    "start_time": "2024-10-27T22:50:54.132Z"
   },
   {
    "duration": 12,
    "start_time": "2024-10-27T22:50:58.747Z"
   },
   {
    "duration": 14,
    "start_time": "2024-10-27T22:51:14.586Z"
   },
   {
    "duration": 21,
    "start_time": "2024-10-27T22:51:20.028Z"
   },
   {
    "duration": 56,
    "start_time": "2024-10-27T22:52:35.508Z"
   },
   {
    "duration": 56,
    "start_time": "2024-10-27T22:52:41.952Z"
   },
   {
    "duration": 51,
    "start_time": "2024-10-27T22:53:08.393Z"
   },
   {
    "duration": 10,
    "start_time": "2024-10-27T22:53:22.062Z"
   },
   {
    "duration": 3,
    "start_time": "2024-10-27T22:53:25.292Z"
   },
   {
    "duration": 7,
    "start_time": "2024-10-27T22:53:25.301Z"
   },
   {
    "duration": 84,
    "start_time": "2024-10-27T22:53:25.310Z"
   },
   {
    "duration": 31,
    "start_time": "2024-10-27T22:53:25.396Z"
   },
   {
    "duration": 6,
    "start_time": "2024-10-27T22:53:25.429Z"
   },
   {
    "duration": 67,
    "start_time": "2024-10-27T22:53:25.437Z"
   },
   {
    "duration": 8,
    "start_time": "2024-10-27T22:53:25.506Z"
   },
   {
    "duration": 7,
    "start_time": "2024-10-27T22:53:25.516Z"
   },
   {
    "duration": 6,
    "start_time": "2024-10-27T22:53:25.524Z"
   },
   {
    "duration": 6,
    "start_time": "2024-10-27T22:53:25.532Z"
   },
   {
    "duration": 6,
    "start_time": "2024-10-27T22:53:25.540Z"
   },
   {
    "duration": 8,
    "start_time": "2024-10-27T22:53:25.586Z"
   },
   {
    "duration": 7,
    "start_time": "2024-10-27T22:53:25.596Z"
   },
   {
    "duration": 8,
    "start_time": "2024-10-27T22:53:25.604Z"
   },
   {
    "duration": 8,
    "start_time": "2024-10-27T22:53:25.616Z"
   },
   {
    "duration": 9,
    "start_time": "2024-10-27T22:53:25.625Z"
   },
   {
    "duration": 50,
    "start_time": "2024-10-27T22:53:25.636Z"
   },
   {
    "duration": 5,
    "start_time": "2024-10-27T22:53:25.688Z"
   },
   {
    "duration": 9,
    "start_time": "2024-10-27T22:53:25.694Z"
   },
   {
    "duration": 17,
    "start_time": "2024-10-27T22:53:25.704Z"
   },
   {
    "duration": 5,
    "start_time": "2024-10-27T22:53:25.723Z"
   },
   {
    "duration": 85,
    "start_time": "2024-10-27T22:53:25.730Z"
   },
   {
    "duration": 39,
    "start_time": "2024-10-27T22:53:25.817Z"
   },
   {
    "duration": 28,
    "start_time": "2024-10-27T22:53:25.859Z"
   },
   {
    "duration": 50,
    "start_time": "2024-10-27T22:53:25.889Z"
   },
   {
    "duration": 12,
    "start_time": "2024-10-27T22:53:25.940Z"
   },
   {
    "duration": 37,
    "start_time": "2024-10-27T22:53:25.953Z"
   },
   {
    "duration": 13,
    "start_time": "2024-10-27T22:53:25.992Z"
   },
   {
    "duration": 15,
    "start_time": "2024-10-27T22:53:26.007Z"
   },
   {
    "duration": 5,
    "start_time": "2024-10-27T22:53:26.024Z"
   },
   {
    "duration": 19,
    "start_time": "2024-10-27T22:53:26.031Z"
   },
   {
    "duration": 47,
    "start_time": "2024-10-27T22:53:26.051Z"
   },
   {
    "duration": 7,
    "start_time": "2024-10-27T22:53:26.099Z"
   },
   {
    "duration": 35,
    "start_time": "2024-10-27T22:53:26.108Z"
   },
   {
    "duration": 8,
    "start_time": "2024-10-27T22:53:26.144Z"
   },
   {
    "duration": 49,
    "start_time": "2024-10-27T22:53:26.153Z"
   },
   {
    "duration": 7,
    "start_time": "2024-10-27T22:53:26.203Z"
   },
   {
    "duration": 23,
    "start_time": "2024-10-27T22:53:26.212Z"
   },
   {
    "duration": 50,
    "start_time": "2024-10-27T22:53:26.238Z"
   },
   {
    "duration": 20,
    "start_time": "2024-10-27T22:53:26.290Z"
   },
   {
    "duration": 17,
    "start_time": "2024-10-27T22:53:26.312Z"
   },
   {
    "duration": 5,
    "start_time": "2024-10-27T22:53:26.335Z"
   },
   {
    "duration": 57,
    "start_time": "2024-10-27T22:53:26.342Z"
   },
   {
    "duration": 18,
    "start_time": "2024-10-27T22:53:26.400Z"
   },
   {
    "duration": 6,
    "start_time": "2024-10-27T22:53:26.419Z"
   },
   {
    "duration": 75,
    "start_time": "2024-10-27T22:53:26.427Z"
   },
   {
    "duration": 208,
    "start_time": "2024-10-27T22:53:26.504Z"
   },
   {
    "duration": 166,
    "start_time": "2024-10-27T22:53:26.714Z"
   },
   {
    "duration": 5,
    "start_time": "2024-10-27T22:53:26.882Z"
   },
   {
    "duration": 158,
    "start_time": "2024-10-27T22:53:26.889Z"
   },
   {
    "duration": 13,
    "start_time": "2024-10-27T22:53:27.049Z"
   },
   {
    "duration": 167,
    "start_time": "2024-10-27T22:53:27.063Z"
   },
   {
    "duration": 12,
    "start_time": "2024-10-27T22:53:27.231Z"
   },
   {
    "duration": 168,
    "start_time": "2024-10-27T22:53:27.245Z"
   },
   {
    "duration": 4,
    "start_time": "2024-10-27T22:53:27.415Z"
   },
   {
    "duration": 152,
    "start_time": "2024-10-27T22:53:27.420Z"
   },
   {
    "duration": 186,
    "start_time": "2024-10-27T22:53:27.574Z"
   },
   {
    "duration": 30,
    "start_time": "2024-10-27T22:53:27.762Z"
   },
   {
    "duration": 176,
    "start_time": "2024-10-27T22:53:27.793Z"
   },
   {
    "duration": 20,
    "start_time": "2024-10-27T22:53:27.971Z"
   },
   {
    "duration": 183,
    "start_time": "2024-10-27T22:53:27.992Z"
   },
   {
    "duration": 8,
    "start_time": "2024-10-27T22:53:28.181Z"
   },
   {
    "duration": 4,
    "start_time": "2024-10-27T22:53:28.192Z"
   },
   {
    "duration": 5,
    "start_time": "2024-10-27T22:53:57.722Z"
   },
   {
    "duration": 5,
    "start_time": "2024-10-27T22:55:01.751Z"
   },
   {
    "duration": 4,
    "start_time": "2024-10-27T22:55:09.359Z"
   },
   {
    "duration": 8,
    "start_time": "2024-10-27T22:55:24.566Z"
   },
   {
    "duration": 4,
    "start_time": "2024-10-27T22:56:03.266Z"
   },
   {
    "duration": 17,
    "start_time": "2024-10-27T22:56:09.845Z"
   },
   {
    "duration": 15,
    "start_time": "2024-10-27T22:56:14.725Z"
   },
   {
    "duration": 5,
    "start_time": "2024-10-27T22:58:01.300Z"
   },
   {
    "duration": 14,
    "start_time": "2024-10-27T22:59:57.811Z"
   },
   {
    "duration": 14,
    "start_time": "2024-10-27T23:00:02.367Z"
   },
   {
    "duration": 15,
    "start_time": "2024-10-27T23:00:08.087Z"
   },
   {
    "duration": 5,
    "start_time": "2024-10-27T23:00:15.092Z"
   },
   {
    "duration": 3,
    "start_time": "2024-10-27T23:27:12.065Z"
   },
   {
    "duration": 4,
    "start_time": "2024-10-27T23:27:33.651Z"
   },
   {
    "duration": 7,
    "start_time": "2024-10-27T23:27:33.659Z"
   },
   {
    "duration": 59,
    "start_time": "2024-10-27T23:27:33.668Z"
   },
   {
    "duration": 31,
    "start_time": "2024-10-27T23:27:33.729Z"
   },
   {
    "duration": 5,
    "start_time": "2024-10-27T23:27:33.762Z"
   },
   {
    "duration": 51,
    "start_time": "2024-10-27T23:27:33.787Z"
   },
   {
    "duration": 8,
    "start_time": "2024-10-27T23:27:33.840Z"
   },
   {
    "duration": 36,
    "start_time": "2024-10-27T23:27:33.850Z"
   },
   {
    "duration": 8,
    "start_time": "2024-10-27T23:27:33.888Z"
   },
   {
    "duration": 7,
    "start_time": "2024-10-27T23:27:33.898Z"
   },
   {
    "duration": 7,
    "start_time": "2024-10-27T23:27:33.907Z"
   },
   {
    "duration": 8,
    "start_time": "2024-10-27T23:27:33.916Z"
   },
   {
    "duration": 7,
    "start_time": "2024-10-27T23:27:33.925Z"
   },
   {
    "duration": 7,
    "start_time": "2024-10-27T23:27:33.934Z"
   },
   {
    "duration": 9,
    "start_time": "2024-10-27T23:27:33.994Z"
   },
   {
    "duration": 8,
    "start_time": "2024-10-27T23:27:34.006Z"
   },
   {
    "duration": 7,
    "start_time": "2024-10-27T23:27:34.015Z"
   },
   {
    "duration": 4,
    "start_time": "2024-10-27T23:27:34.024Z"
   },
   {
    "duration": 8,
    "start_time": "2024-10-27T23:27:34.030Z"
   },
   {
    "duration": 15,
    "start_time": "2024-10-27T23:27:34.039Z"
   },
   {
    "duration": 6,
    "start_time": "2024-10-27T23:27:34.088Z"
   },
   {
    "duration": 44,
    "start_time": "2024-10-27T23:27:34.095Z"
   },
   {
    "duration": 59,
    "start_time": "2024-10-27T23:27:34.141Z"
   },
   {
    "duration": 7,
    "start_time": "2024-10-27T23:27:34.201Z"
   },
   {
    "duration": 49,
    "start_time": "2024-10-27T23:27:34.210Z"
   },
   {
    "duration": 29,
    "start_time": "2024-10-27T23:27:34.261Z"
   },
   {
    "duration": 7,
    "start_time": "2024-10-27T23:27:34.291Z"
   },
   {
    "duration": 14,
    "start_time": "2024-10-27T23:27:34.299Z"
   },
   {
    "duration": 15,
    "start_time": "2024-10-27T23:27:34.315Z"
   },
   {
    "duration": 6,
    "start_time": "2024-10-27T23:27:34.332Z"
   },
   {
    "duration": 48,
    "start_time": "2024-10-27T23:27:34.340Z"
   },
   {
    "duration": 14,
    "start_time": "2024-10-27T23:27:34.389Z"
   },
   {
    "duration": 6,
    "start_time": "2024-10-27T23:27:34.404Z"
   },
   {
    "duration": 35,
    "start_time": "2024-10-27T23:27:34.411Z"
   },
   {
    "duration": 7,
    "start_time": "2024-10-27T23:27:34.448Z"
   },
   {
    "duration": 46,
    "start_time": "2024-10-27T23:27:34.457Z"
   },
   {
    "duration": 7,
    "start_time": "2024-10-27T23:27:34.504Z"
   },
   {
    "duration": 23,
    "start_time": "2024-10-27T23:27:34.513Z"
   },
   {
    "duration": 17,
    "start_time": "2024-10-27T23:27:34.538Z"
   },
   {
    "duration": 47,
    "start_time": "2024-10-27T23:27:34.556Z"
   },
   {
    "duration": 17,
    "start_time": "2024-10-27T23:27:34.606Z"
   },
   {
    "duration": 5,
    "start_time": "2024-10-27T23:27:34.627Z"
   },
   {
    "duration": 18,
    "start_time": "2024-10-27T23:27:34.634Z"
   },
   {
    "duration": 43,
    "start_time": "2024-10-27T23:27:34.653Z"
   },
   {
    "duration": 4,
    "start_time": "2024-10-27T23:27:34.697Z"
   },
   {
    "duration": 49,
    "start_time": "2024-10-27T23:27:34.703Z"
   },
   {
    "duration": 232,
    "start_time": "2024-10-27T23:27:34.754Z"
   },
   {
    "duration": 166,
    "start_time": "2024-10-27T23:27:34.988Z"
   },
   {
    "duration": 5,
    "start_time": "2024-10-27T23:27:35.156Z"
   },
   {
    "duration": 165,
    "start_time": "2024-10-27T23:27:35.162Z"
   },
   {
    "duration": 13,
    "start_time": "2024-10-27T23:27:35.329Z"
   },
   {
    "duration": 167,
    "start_time": "2024-10-27T23:27:35.344Z"
   },
   {
    "duration": 15,
    "start_time": "2024-10-27T23:27:35.513Z"
   },
   {
    "duration": 177,
    "start_time": "2024-10-27T23:27:35.530Z"
   },
   {
    "duration": 5,
    "start_time": "2024-10-27T23:27:35.709Z"
   },
   {
    "duration": 165,
    "start_time": "2024-10-27T23:27:35.716Z"
   },
   {
    "duration": 180,
    "start_time": "2024-10-27T23:27:35.886Z"
   },
   {
    "duration": 30,
    "start_time": "2024-10-27T23:27:36.068Z"
   },
   {
    "duration": 350,
    "start_time": "2024-10-27T23:27:36.099Z"
   },
   {
    "duration": 12,
    "start_time": "2024-10-27T23:27:36.451Z"
   },
   {
    "duration": 177,
    "start_time": "2024-10-27T23:27:36.464Z"
   },
   {
    "duration": 4,
    "start_time": "2024-10-27T23:27:36.643Z"
   },
   {
    "duration": 5,
    "start_time": "2024-10-27T23:27:36.649Z"
   },
   {
    "duration": 5,
    "start_time": "2024-10-27T23:27:38.374Z"
   },
   {
    "duration": 4,
    "start_time": "2024-10-27T23:27:39.900Z"
   },
   {
    "duration": 3,
    "start_time": "2024-10-27T23:30:24.559Z"
   },
   {
    "duration": 4,
    "start_time": "2024-10-27T23:39:34.164Z"
   },
   {
    "duration": 17,
    "start_time": "2024-10-27T23:41:01.418Z"
   },
   {
    "duration": 15,
    "start_time": "2024-10-27T23:41:07.319Z"
   },
   {
    "duration": 17,
    "start_time": "2024-10-27T23:41:38.944Z"
   },
   {
    "duration": 55,
    "start_time": "2024-10-27T23:49:06.754Z"
   },
   {
    "duration": 3,
    "start_time": "2024-10-28T00:04:28.039Z"
   },
   {
    "duration": 4,
    "start_time": "2024-10-28T00:04:31.139Z"
   },
   {
    "duration": 4,
    "start_time": "2024-10-28T00:05:05.552Z"
   },
   {
    "duration": 4,
    "start_time": "2024-10-28T00:05:09.141Z"
   },
   {
    "duration": 10,
    "start_time": "2024-10-28T00:05:20.778Z"
   },
   {
    "duration": 9,
    "start_time": "2024-10-28T00:05:56.212Z"
   },
   {
    "duration": 16,
    "start_time": "2024-10-28T00:06:03.611Z"
   },
   {
    "duration": 19,
    "start_time": "2024-10-28T00:12:39.431Z"
   },
   {
    "duration": 15,
    "start_time": "2024-10-28T00:12:45.117Z"
   },
   {
    "duration": 8,
    "start_time": "2024-10-28T00:12:50.262Z"
   },
   {
    "duration": 9,
    "start_time": "2024-10-28T00:13:05.075Z"
   },
   {
    "duration": 19,
    "start_time": "2024-10-28T00:13:57.098Z"
   },
   {
    "duration": 15,
    "start_time": "2024-10-28T00:14:02.992Z"
   },
   {
    "duration": 726,
    "start_time": "2024-10-28T04:32:15.587Z"
   },
   {
    "duration": 8,
    "start_time": "2024-10-28T04:32:16.315Z"
   },
   {
    "duration": 84,
    "start_time": "2024-10-28T04:32:16.325Z"
   },
   {
    "duration": 31,
    "start_time": "2024-10-28T04:32:16.412Z"
   },
   {
    "duration": 5,
    "start_time": "2024-10-28T04:32:16.445Z"
   },
   {
    "duration": 65,
    "start_time": "2024-10-28T04:32:16.451Z"
   },
   {
    "duration": 12,
    "start_time": "2024-10-28T04:32:16.518Z"
   },
   {
    "duration": 7,
    "start_time": "2024-10-28T04:32:16.531Z"
   },
   {
    "duration": 6,
    "start_time": "2024-10-28T04:32:16.539Z"
   },
   {
    "duration": 9,
    "start_time": "2024-10-28T04:32:16.548Z"
   },
   {
    "duration": 6,
    "start_time": "2024-10-28T04:32:16.558Z"
   },
   {
    "duration": 9,
    "start_time": "2024-10-28T04:32:16.567Z"
   },
   {
    "duration": 7,
    "start_time": "2024-10-28T04:32:16.609Z"
   },
   {
    "duration": 8,
    "start_time": "2024-10-28T04:32:16.618Z"
   },
   {
    "duration": 8,
    "start_time": "2024-10-28T04:32:16.628Z"
   },
   {
    "duration": 8,
    "start_time": "2024-10-28T04:32:16.637Z"
   },
   {
    "duration": 8,
    "start_time": "2024-10-28T04:32:16.646Z"
   },
   {
    "duration": 5,
    "start_time": "2024-10-28T04:32:16.656Z"
   },
   {
    "duration": 50,
    "start_time": "2024-10-28T04:32:16.662Z"
   },
   {
    "duration": 16,
    "start_time": "2024-10-28T04:32:16.713Z"
   },
   {
    "duration": 6,
    "start_time": "2024-10-28T04:32:16.730Z"
   },
   {
    "duration": 72,
    "start_time": "2024-10-28T04:32:16.738Z"
   },
   {
    "duration": 49,
    "start_time": "2024-10-28T04:32:16.811Z"
   },
   {
    "duration": 7,
    "start_time": "2024-10-28T04:32:16.862Z"
   },
   {
    "duration": 72,
    "start_time": "2024-10-28T04:32:16.871Z"
   },
   {
    "duration": 11,
    "start_time": "2024-10-28T04:32:16.945Z"
   },
   {
    "duration": 6,
    "start_time": "2024-10-28T04:32:16.959Z"
   },
   {
    "duration": 15,
    "start_time": "2024-10-28T04:32:16.970Z"
   },
   {
    "duration": 37,
    "start_time": "2024-10-28T04:32:16.986Z"
   },
   {
    "duration": 6,
    "start_time": "2024-10-28T04:32:17.024Z"
   },
   {
    "duration": 17,
    "start_time": "2024-10-28T04:32:17.033Z"
   },
   {
    "duration": 13,
    "start_time": "2024-10-28T04:32:17.051Z"
   },
   {
    "duration": 7,
    "start_time": "2024-10-28T04:32:17.067Z"
   },
   {
    "duration": 71,
    "start_time": "2024-10-28T04:32:17.076Z"
   },
   {
    "duration": 10,
    "start_time": "2024-10-28T04:32:17.149Z"
   },
   {
    "duration": 23,
    "start_time": "2024-10-28T04:32:17.160Z"
   },
   {
    "duration": 27,
    "start_time": "2024-10-28T04:32:17.185Z"
   },
   {
    "duration": 40,
    "start_time": "2024-10-28T04:32:17.215Z"
   },
   {
    "duration": 27,
    "start_time": "2024-10-28T04:32:17.257Z"
   },
   {
    "duration": 38,
    "start_time": "2024-10-28T04:32:17.286Z"
   },
   {
    "duration": 18,
    "start_time": "2024-10-28T04:32:17.325Z"
   },
   {
    "duration": 6,
    "start_time": "2024-10-28T04:32:17.344Z"
   },
   {
    "duration": 20,
    "start_time": "2024-10-28T04:32:17.351Z"
   },
   {
    "duration": 45,
    "start_time": "2024-10-28T04:32:17.373Z"
   },
   {
    "duration": 7,
    "start_time": "2024-10-28T04:32:17.421Z"
   },
   {
    "duration": 60,
    "start_time": "2024-10-28T04:32:17.430Z"
   },
   {
    "duration": 245,
    "start_time": "2024-10-28T04:32:17.510Z"
   },
   {
    "duration": 182,
    "start_time": "2024-10-28T04:32:17.757Z"
   },
   {
    "duration": 5,
    "start_time": "2024-10-28T04:32:17.942Z"
   },
   {
    "duration": 178,
    "start_time": "2024-10-28T04:32:17.949Z"
   },
   {
    "duration": 14,
    "start_time": "2024-10-28T04:32:18.129Z"
   },
   {
    "duration": 227,
    "start_time": "2024-10-28T04:32:18.145Z"
   },
   {
    "duration": 13,
    "start_time": "2024-10-28T04:32:18.374Z"
   },
   {
    "duration": 169,
    "start_time": "2024-10-28T04:32:18.389Z"
   },
   {
    "duration": 5,
    "start_time": "2024-10-28T04:32:18.560Z"
   },
   {
    "duration": 174,
    "start_time": "2024-10-28T04:32:18.567Z"
   },
   {
    "duration": 184,
    "start_time": "2024-10-28T04:32:18.743Z"
   },
   {
    "duration": 18,
    "start_time": "2024-10-28T04:32:18.929Z"
   },
   {
    "duration": 186,
    "start_time": "2024-10-28T04:32:18.948Z"
   },
   {
    "duration": 14,
    "start_time": "2024-10-28T04:32:19.136Z"
   },
   {
    "duration": 168,
    "start_time": "2024-10-28T04:32:19.152Z"
   },
   {
    "duration": 6,
    "start_time": "2024-10-28T04:32:19.321Z"
   },
   {
    "duration": 5,
    "start_time": "2024-10-28T04:32:19.329Z"
   },
   {
    "duration": 5,
    "start_time": "2024-10-28T04:32:19.336Z"
   },
   {
    "duration": 5,
    "start_time": "2024-10-28T04:32:19.342Z"
   },
   {
    "duration": 15,
    "start_time": "2024-10-28T04:32:19.348Z"
   },
   {
    "duration": 157,
    "start_time": "2024-10-29T03:32:53.394Z"
   },
   {
    "duration": 2704,
    "start_time": "2024-10-29T03:32:59.227Z"
   },
   {
    "duration": 11,
    "start_time": "2024-10-29T03:33:01.940Z"
   },
   {
    "duration": 107,
    "start_time": "2024-10-29T03:33:01.952Z"
   },
   {
    "duration": 42,
    "start_time": "2024-10-29T03:33:02.061Z"
   },
   {
    "duration": 32,
    "start_time": "2024-10-29T03:33:02.106Z"
   },
   {
    "duration": 80,
    "start_time": "2024-10-29T03:33:02.140Z"
   },
   {
    "duration": 14,
    "start_time": "2024-10-29T03:33:02.222Z"
   },
   {
    "duration": 8,
    "start_time": "2024-10-29T03:33:02.239Z"
   },
   {
    "duration": 9,
    "start_time": "2024-10-29T03:33:02.249Z"
   },
   {
    "duration": 7,
    "start_time": "2024-10-29T03:33:02.259Z"
   },
   {
    "duration": 7,
    "start_time": "2024-10-29T03:33:02.268Z"
   },
   {
    "duration": 39,
    "start_time": "2024-10-29T03:33:02.276Z"
   },
   {
    "duration": 8,
    "start_time": "2024-10-29T03:33:02.320Z"
   },
   {
    "duration": 7,
    "start_time": "2024-10-29T03:33:02.333Z"
   },
   {
    "duration": 8,
    "start_time": "2024-10-29T03:33:02.342Z"
   },
   {
    "duration": 9,
    "start_time": "2024-10-29T03:33:02.352Z"
   },
   {
    "duration": 8,
    "start_time": "2024-10-29T03:33:02.362Z"
   },
   {
    "duration": 6,
    "start_time": "2024-10-29T03:33:02.374Z"
   },
   {
    "duration": 37,
    "start_time": "2024-10-29T03:33:02.382Z"
   },
   {
    "duration": 16,
    "start_time": "2024-10-29T03:33:02.421Z"
   },
   {
    "duration": 9,
    "start_time": "2024-10-29T03:33:02.439Z"
   },
   {
    "duration": 99,
    "start_time": "2024-10-29T03:33:02.450Z"
   },
   {
    "duration": 68,
    "start_time": "2024-10-29T03:33:02.551Z"
   },
   {
    "duration": 8,
    "start_time": "2024-10-29T03:33:02.620Z"
   },
   {
    "duration": 61,
    "start_time": "2024-10-29T03:33:02.630Z"
   },
   {
    "duration": 23,
    "start_time": "2024-10-29T03:33:02.693Z"
   },
   {
    "duration": 7,
    "start_time": "2024-10-29T03:33:02.717Z"
   },
   {
    "duration": 17,
    "start_time": "2024-10-29T03:33:02.726Z"
   },
   {
    "duration": 17,
    "start_time": "2024-10-29T03:33:02.745Z"
   },
   {
    "duration": 6,
    "start_time": "2024-10-29T03:33:02.764Z"
   },
   {
    "duration": 68,
    "start_time": "2024-10-29T03:33:02.772Z"
   },
   {
    "duration": 13,
    "start_time": "2024-10-29T03:33:02.843Z"
   },
   {
    "duration": 7,
    "start_time": "2024-10-29T03:33:02.858Z"
   },
   {
    "duration": 38,
    "start_time": "2024-10-29T03:33:02.866Z"
   },
   {
    "duration": 16,
    "start_time": "2024-10-29T03:33:02.923Z"
   },
   {
    "duration": 21,
    "start_time": "2024-10-29T03:33:02.941Z"
   },
   {
    "duration": 6,
    "start_time": "2024-10-29T03:33:02.964Z"
   },
   {
    "duration": 24,
    "start_time": "2024-10-29T03:33:02.972Z"
   },
   {
    "duration": 34,
    "start_time": "2024-10-29T03:33:02.998Z"
   },
   {
    "duration": 17,
    "start_time": "2024-10-29T03:33:03.034Z"
   },
   {
    "duration": 22,
    "start_time": "2024-10-29T03:33:03.055Z"
   },
   {
    "duration": 6,
    "start_time": "2024-10-29T03:33:05.840Z"
   },
   {
    "duration": 8,
    "start_time": "2024-10-29T03:36:15.732Z"
   },
   {
    "duration": 6,
    "start_time": "2024-10-29T03:36:59.838Z"
   },
   {
    "duration": 2,
    "start_time": "2024-10-29T03:37:12.497Z"
   },
   {
    "duration": 10,
    "start_time": "2024-10-29T03:37:12.504Z"
   },
   {
    "duration": 70,
    "start_time": "2024-10-29T03:37:12.532Z"
   },
   {
    "duration": 51,
    "start_time": "2024-10-29T03:37:12.603Z"
   },
   {
    "duration": 5,
    "start_time": "2024-10-29T03:37:12.655Z"
   },
   {
    "duration": 73,
    "start_time": "2024-10-29T03:37:12.662Z"
   },
   {
    "duration": 8,
    "start_time": "2024-10-29T03:37:12.737Z"
   },
   {
    "duration": 7,
    "start_time": "2024-10-29T03:37:12.747Z"
   },
   {
    "duration": 5,
    "start_time": "2024-10-29T03:37:12.756Z"
   },
   {
    "duration": 7,
    "start_time": "2024-10-29T03:37:12.763Z"
   },
   {
    "duration": 7,
    "start_time": "2024-10-29T03:37:12.771Z"
   },
   {
    "duration": 7,
    "start_time": "2024-10-29T03:37:12.779Z"
   },
   {
    "duration": 7,
    "start_time": "2024-10-29T03:37:12.788Z"
   },
   {
    "duration": 17,
    "start_time": "2024-10-29T03:37:12.823Z"
   },
   {
    "duration": 8,
    "start_time": "2024-10-29T03:37:12.844Z"
   },
   {
    "duration": 7,
    "start_time": "2024-10-29T03:37:12.853Z"
   },
   {
    "duration": 7,
    "start_time": "2024-10-29T03:37:12.862Z"
   },
   {
    "duration": 4,
    "start_time": "2024-10-29T03:37:12.870Z"
   },
   {
    "duration": 8,
    "start_time": "2024-10-29T03:37:12.876Z"
   },
   {
    "duration": 52,
    "start_time": "2024-10-29T03:37:12.886Z"
   },
   {
    "duration": 8,
    "start_time": "2024-10-29T03:37:12.941Z"
   },
   {
    "duration": 46,
    "start_time": "2024-10-29T03:37:12.950Z"
   },
   {
    "duration": 65,
    "start_time": "2024-10-29T03:37:12.998Z"
   },
   {
    "duration": 8,
    "start_time": "2024-10-29T03:37:13.064Z"
   },
   {
    "duration": 67,
    "start_time": "2024-10-29T03:37:13.074Z"
   },
   {
    "duration": 15,
    "start_time": "2024-10-29T03:37:13.143Z"
   },
   {
    "duration": 7,
    "start_time": "2024-10-29T03:37:13.160Z"
   },
   {
    "duration": 17,
    "start_time": "2024-10-29T03:37:13.169Z"
   },
   {
    "duration": 50,
    "start_time": "2024-10-29T03:37:13.187Z"
   },
   {
    "duration": 7,
    "start_time": "2024-10-29T03:37:13.239Z"
   },
   {
    "duration": 17,
    "start_time": "2024-10-29T03:37:13.248Z"
   },
   {
    "duration": 13,
    "start_time": "2024-10-29T03:37:13.267Z"
   },
   {
    "duration": 6,
    "start_time": "2024-10-29T03:37:13.282Z"
   },
   {
    "duration": 54,
    "start_time": "2024-10-29T03:37:13.290Z"
   },
   {
    "duration": 7,
    "start_time": "2024-10-29T03:37:13.346Z"
   },
   {
    "duration": 21,
    "start_time": "2024-10-29T03:37:13.355Z"
   },
   {
    "duration": 6,
    "start_time": "2024-10-29T03:37:13.378Z"
   },
   {
    "duration": 64,
    "start_time": "2024-10-29T03:37:13.386Z"
   },
   {
    "duration": 18,
    "start_time": "2024-10-29T03:37:13.452Z"
   },
   {
    "duration": 15,
    "start_time": "2024-10-29T03:37:13.471Z"
   },
   {
    "duration": 47,
    "start_time": "2024-10-29T03:37:13.488Z"
   },
   {
    "duration": 8,
    "start_time": "2024-10-29T03:37:16.033Z"
   },
   {
    "duration": 6,
    "start_time": "2024-10-29T03:38:55.279Z"
   },
   {
    "duration": 6,
    "start_time": "2024-10-29T03:38:59.097Z"
   },
   {
    "duration": 12,
    "start_time": "2024-10-29T03:39:36.328Z"
   },
   {
    "duration": 2,
    "start_time": "2024-10-29T03:39:40.371Z"
   },
   {
    "duration": 8,
    "start_time": "2024-10-29T03:39:40.375Z"
   },
   {
    "duration": 74,
    "start_time": "2024-10-29T03:39:40.384Z"
   },
   {
    "duration": 32,
    "start_time": "2024-10-29T03:39:40.461Z"
   },
   {
    "duration": 5,
    "start_time": "2024-10-29T03:39:40.495Z"
   },
   {
    "duration": 69,
    "start_time": "2024-10-29T03:39:40.515Z"
   },
   {
    "duration": 8,
    "start_time": "2024-10-29T03:39:40.588Z"
   },
   {
    "duration": 7,
    "start_time": "2024-10-29T03:39:40.597Z"
   },
   {
    "duration": 20,
    "start_time": "2024-10-29T03:39:40.620Z"
   },
   {
    "duration": 10,
    "start_time": "2024-10-29T03:39:40.641Z"
   },
   {
    "duration": 6,
    "start_time": "2024-10-29T03:39:40.652Z"
   },
   {
    "duration": 8,
    "start_time": "2024-10-29T03:39:40.660Z"
   },
   {
    "duration": 7,
    "start_time": "2024-10-29T03:39:40.669Z"
   },
   {
    "duration": 9,
    "start_time": "2024-10-29T03:39:40.677Z"
   },
   {
    "duration": 9,
    "start_time": "2024-10-29T03:39:40.687Z"
   },
   {
    "duration": 20,
    "start_time": "2024-10-29T03:39:40.719Z"
   },
   {
    "duration": 8,
    "start_time": "2024-10-29T03:39:40.740Z"
   },
   {
    "duration": 5,
    "start_time": "2024-10-29T03:39:40.749Z"
   },
   {
    "duration": 10,
    "start_time": "2024-10-29T03:39:40.756Z"
   },
   {
    "duration": 14,
    "start_time": "2024-10-29T03:39:40.768Z"
   },
   {
    "duration": 6,
    "start_time": "2024-10-29T03:39:40.784Z"
   },
   {
    "duration": 51,
    "start_time": "2024-10-29T03:39:40.819Z"
   },
   {
    "duration": 62,
    "start_time": "2024-10-29T03:39:40.872Z"
   },
   {
    "duration": 8,
    "start_time": "2024-10-29T03:39:40.949Z"
   },
   {
    "duration": 49,
    "start_time": "2024-10-29T03:39:40.959Z"
   },
   {
    "duration": 12,
    "start_time": "2024-10-29T03:39:41.010Z"
   },
   {
    "duration": 5,
    "start_time": "2024-10-29T03:39:41.023Z"
   },
   {
    "duration": 17,
    "start_time": "2024-10-29T03:39:41.029Z"
   },
   {
    "duration": 15,
    "start_time": "2024-10-29T03:39:41.048Z"
   },
   {
    "duration": 6,
    "start_time": "2024-10-29T03:39:41.065Z"
   },
   {
    "duration": 66,
    "start_time": "2024-10-29T03:39:41.073Z"
   },
   {
    "duration": 14,
    "start_time": "2024-10-29T03:39:41.140Z"
   },
   {
    "duration": 6,
    "start_time": "2024-10-29T03:39:41.156Z"
   },
   {
    "duration": 37,
    "start_time": "2024-10-29T03:39:41.164Z"
   },
   {
    "duration": 7,
    "start_time": "2024-10-29T03:39:41.203Z"
   },
   {
    "duration": 27,
    "start_time": "2024-10-29T03:39:41.223Z"
   },
   {
    "duration": 7,
    "start_time": "2024-10-29T03:39:41.251Z"
   },
   {
    "duration": 25,
    "start_time": "2024-10-29T03:39:41.259Z"
   },
   {
    "duration": 55,
    "start_time": "2024-10-29T03:39:41.286Z"
   },
   {
    "duration": 16,
    "start_time": "2024-10-29T03:39:41.343Z"
   },
   {
    "duration": 17,
    "start_time": "2024-10-29T03:39:41.360Z"
   },
   {
    "duration": 6,
    "start_time": "2024-10-29T03:39:43.372Z"
   },
   {
    "duration": 471,
    "start_time": "2024-10-29T03:40:53.303Z"
   },
   {
    "duration": 11,
    "start_time": "2024-10-29T03:41:01.724Z"
   },
   {
    "duration": 3,
    "start_time": "2024-10-29T03:41:05.669Z"
   },
   {
    "duration": 8,
    "start_time": "2024-10-29T03:41:05.674Z"
   },
   {
    "duration": 85,
    "start_time": "2024-10-29T03:41:05.683Z"
   },
   {
    "duration": 34,
    "start_time": "2024-10-29T03:41:05.770Z"
   },
   {
    "duration": 25,
    "start_time": "2024-10-29T03:41:05.807Z"
   },
   {
    "duration": 57,
    "start_time": "2024-10-29T03:41:05.834Z"
   },
   {
    "duration": 8,
    "start_time": "2024-10-29T03:41:05.892Z"
   },
   {
    "duration": 6,
    "start_time": "2024-10-29T03:41:05.902Z"
   },
   {
    "duration": 31,
    "start_time": "2024-10-29T03:41:05.910Z"
   },
   {
    "duration": 8,
    "start_time": "2024-10-29T03:41:05.943Z"
   },
   {
    "duration": 6,
    "start_time": "2024-10-29T03:41:05.954Z"
   },
   {
    "duration": 8,
    "start_time": "2024-10-29T03:41:05.961Z"
   },
   {
    "duration": 6,
    "start_time": "2024-10-29T03:41:05.971Z"
   },
   {
    "duration": 7,
    "start_time": "2024-10-29T03:41:05.982Z"
   },
   {
    "duration": 40,
    "start_time": "2024-10-29T03:41:05.991Z"
   },
   {
    "duration": 8,
    "start_time": "2024-10-29T03:41:06.036Z"
   },
   {
    "duration": 7,
    "start_time": "2024-10-29T03:41:06.046Z"
   },
   {
    "duration": 5,
    "start_time": "2024-10-29T03:41:06.054Z"
   },
   {
    "duration": 9,
    "start_time": "2024-10-29T03:41:06.061Z"
   },
   {
    "duration": 14,
    "start_time": "2024-10-29T03:41:06.072Z"
   },
   {
    "duration": 9,
    "start_time": "2024-10-29T03:41:06.087Z"
   },
   {
    "duration": 63,
    "start_time": "2024-10-29T03:41:06.115Z"
   },
   {
    "duration": 62,
    "start_time": "2024-10-29T03:41:06.181Z"
   },
   {
    "duration": 8,
    "start_time": "2024-10-29T03:41:06.245Z"
   },
   {
    "duration": 49,
    "start_time": "2024-10-29T03:41:06.255Z"
   },
   {
    "duration": 33,
    "start_time": "2024-10-29T03:41:06.306Z"
   },
   {
    "duration": 6,
    "start_time": "2024-10-29T03:41:06.341Z"
   },
   {
    "duration": 18,
    "start_time": "2024-10-29T03:41:06.349Z"
   },
   {
    "duration": 19,
    "start_time": "2024-10-29T03:41:06.369Z"
   },
   {
    "duration": 8,
    "start_time": "2024-10-29T03:41:06.390Z"
   },
   {
    "duration": 42,
    "start_time": "2024-10-29T03:41:06.400Z"
   },
   {
    "duration": 13,
    "start_time": "2024-10-29T03:41:06.444Z"
   },
   {
    "duration": 7,
    "start_time": "2024-10-29T03:41:06.459Z"
   },
   {
    "duration": 37,
    "start_time": "2024-10-29T03:41:06.468Z"
   },
   {
    "duration": 24,
    "start_time": "2024-10-29T03:41:06.515Z"
   },
   {
    "duration": 21,
    "start_time": "2024-10-29T03:41:06.542Z"
   },
   {
    "duration": 6,
    "start_time": "2024-10-29T03:41:06.565Z"
   },
   {
    "duration": 25,
    "start_time": "2024-10-29T03:41:06.573Z"
   },
   {
    "duration": 46,
    "start_time": "2024-10-29T03:41:06.599Z"
   },
   {
    "duration": 15,
    "start_time": "2024-10-29T03:41:06.647Z"
   },
   {
    "duration": 17,
    "start_time": "2024-10-29T03:41:06.665Z"
   },
   {
    "duration": 6,
    "start_time": "2024-10-29T03:41:08.651Z"
   },
   {
    "duration": 41,
    "start_time": "2024-10-29T03:41:15.900Z"
   },
   {
    "duration": 497,
    "start_time": "2024-10-29T03:41:33.086Z"
   },
   {
    "duration": 3,
    "start_time": "2024-10-29T03:41:44.142Z"
   },
   {
    "duration": 8,
    "start_time": "2024-10-29T03:41:44.147Z"
   },
   {
    "duration": 89,
    "start_time": "2024-10-29T03:41:44.157Z"
   },
   {
    "duration": 34,
    "start_time": "2024-10-29T03:41:44.249Z"
   },
   {
    "duration": 5,
    "start_time": "2024-10-29T03:41:44.285Z"
   },
   {
    "duration": 63,
    "start_time": "2024-10-29T03:41:44.292Z"
   },
   {
    "duration": 8,
    "start_time": "2024-10-29T03:41:44.357Z"
   },
   {
    "duration": 7,
    "start_time": "2024-10-29T03:41:44.367Z"
   },
   {
    "duration": 5,
    "start_time": "2024-10-29T03:41:44.377Z"
   },
   {
    "duration": 7,
    "start_time": "2024-10-29T03:41:44.383Z"
   },
   {
    "duration": 13,
    "start_time": "2024-10-29T03:41:44.427Z"
   },
   {
    "duration": 9,
    "start_time": "2024-10-29T03:41:44.442Z"
   },
   {
    "duration": 7,
    "start_time": "2024-10-29T03:41:44.453Z"
   },
   {
    "duration": 8,
    "start_time": "2024-10-29T03:41:44.462Z"
   },
   {
    "duration": 8,
    "start_time": "2024-10-29T03:41:44.472Z"
   },
   {
    "duration": 8,
    "start_time": "2024-10-29T03:41:44.482Z"
   },
   {
    "duration": 22,
    "start_time": "2024-10-29T03:41:44.516Z"
   },
   {
    "duration": 10,
    "start_time": "2024-10-29T03:41:44.540Z"
   },
   {
    "duration": 9,
    "start_time": "2024-10-29T03:41:44.552Z"
   },
   {
    "duration": 16,
    "start_time": "2024-10-29T03:41:44.562Z"
   },
   {
    "duration": 7,
    "start_time": "2024-10-29T03:41:44.580Z"
   },
   {
    "duration": 68,
    "start_time": "2024-10-29T03:41:44.588Z"
   },
   {
    "duration": 59,
    "start_time": "2024-10-29T03:41:44.658Z"
   },
   {
    "duration": 9,
    "start_time": "2024-10-29T03:41:44.724Z"
   },
   {
    "duration": 59,
    "start_time": "2024-10-29T03:41:44.735Z"
   },
   {
    "duration": 31,
    "start_time": "2024-10-29T03:41:44.796Z"
   },
   {
    "duration": 18,
    "start_time": "2024-10-29T03:41:44.828Z"
   },
   {
    "duration": 16,
    "start_time": "2024-10-29T03:41:44.850Z"
   },
   {
    "duration": 15,
    "start_time": "2024-10-29T03:41:44.868Z"
   },
   {
    "duration": 7,
    "start_time": "2024-10-29T03:41:44.885Z"
   },
   {
    "duration": 37,
    "start_time": "2024-10-29T03:41:44.894Z"
   },
   {
    "duration": 21,
    "start_time": "2024-10-29T03:41:44.932Z"
   },
   {
    "duration": 6,
    "start_time": "2024-10-29T03:41:44.956Z"
   },
   {
    "duration": 60,
    "start_time": "2024-10-29T03:41:44.964Z"
   },
   {
    "duration": 9,
    "start_time": "2024-10-29T03:41:45.025Z"
   },
   {
    "duration": 30,
    "start_time": "2024-10-29T03:41:45.036Z"
   },
   {
    "duration": 8,
    "start_time": "2024-10-29T03:41:45.068Z"
   },
   {
    "duration": 25,
    "start_time": "2024-10-29T03:41:45.078Z"
   },
   {
    "duration": 46,
    "start_time": "2024-10-29T03:41:45.105Z"
   },
   {
    "duration": 15,
    "start_time": "2024-10-29T03:41:45.153Z"
   },
   {
    "duration": 18,
    "start_time": "2024-10-29T03:41:45.170Z"
   },
   {
    "duration": 6,
    "start_time": "2024-10-29T03:41:46.990Z"
   },
   {
    "duration": 3,
    "start_time": "2024-10-29T03:50:16.490Z"
   },
   {
    "duration": 8,
    "start_time": "2024-10-29T03:50:16.497Z"
   },
   {
    "duration": 67,
    "start_time": "2024-10-29T03:50:16.507Z"
   },
   {
    "duration": 46,
    "start_time": "2024-10-29T03:50:16.575Z"
   },
   {
    "duration": 6,
    "start_time": "2024-10-29T03:50:16.623Z"
   },
   {
    "duration": 51,
    "start_time": "2024-10-29T03:50:16.631Z"
   },
   {
    "duration": 10,
    "start_time": "2024-10-29T03:50:16.684Z"
   },
   {
    "duration": 23,
    "start_time": "2024-10-29T03:50:16.696Z"
   },
   {
    "duration": 5,
    "start_time": "2024-10-29T03:50:16.722Z"
   },
   {
    "duration": 7,
    "start_time": "2024-10-29T03:50:16.729Z"
   },
   {
    "duration": 7,
    "start_time": "2024-10-29T03:50:16.737Z"
   },
   {
    "duration": 9,
    "start_time": "2024-10-29T03:50:16.745Z"
   },
   {
    "duration": 6,
    "start_time": "2024-10-29T03:50:16.756Z"
   },
   {
    "duration": 7,
    "start_time": "2024-10-29T03:50:16.764Z"
   },
   {
    "duration": 43,
    "start_time": "2024-10-29T03:50:16.774Z"
   },
   {
    "duration": 8,
    "start_time": "2024-10-29T03:50:16.819Z"
   },
   {
    "duration": 7,
    "start_time": "2024-10-29T03:50:16.828Z"
   },
   {
    "duration": 4,
    "start_time": "2024-10-29T03:50:16.838Z"
   },
   {
    "duration": 9,
    "start_time": "2024-10-29T03:50:16.844Z"
   },
   {
    "duration": 14,
    "start_time": "2024-10-29T03:50:16.855Z"
   },
   {
    "duration": 7,
    "start_time": "2024-10-29T03:50:16.870Z"
   },
   {
    "duration": 45,
    "start_time": "2024-10-29T03:50:16.911Z"
   },
   {
    "duration": 54,
    "start_time": "2024-10-29T03:50:16.958Z"
   },
   {
    "duration": 8,
    "start_time": "2024-10-29T03:50:17.013Z"
   },
   {
    "duration": 49,
    "start_time": "2024-10-29T03:50:17.022Z"
   },
   {
    "duration": 11,
    "start_time": "2024-10-29T03:50:17.073Z"
   },
   {
    "duration": 30,
    "start_time": "2024-10-29T03:50:17.086Z"
   },
   {
    "duration": 15,
    "start_time": "2024-10-29T03:50:17.118Z"
   },
   {
    "duration": 16,
    "start_time": "2024-10-29T03:50:17.134Z"
   },
   {
    "duration": 6,
    "start_time": "2024-10-29T03:50:17.152Z"
   },
   {
    "duration": 17,
    "start_time": "2024-10-29T03:50:17.160Z"
   },
   {
    "duration": 42,
    "start_time": "2024-10-29T03:50:17.179Z"
   },
   {
    "duration": 7,
    "start_time": "2024-10-29T03:50:17.222Z"
   },
   {
    "duration": 36,
    "start_time": "2024-10-29T03:50:17.231Z"
   },
   {
    "duration": 6,
    "start_time": "2024-10-29T03:50:17.270Z"
   },
   {
    "duration": 46,
    "start_time": "2024-10-29T03:50:17.278Z"
   },
   {
    "duration": 7,
    "start_time": "2024-10-29T03:50:17.325Z"
   },
   {
    "duration": 25,
    "start_time": "2024-10-29T03:50:17.333Z"
   },
   {
    "duration": 18,
    "start_time": "2024-10-29T03:50:17.360Z"
   },
   {
    "duration": 41,
    "start_time": "2024-10-29T03:50:17.380Z"
   },
   {
    "duration": 18,
    "start_time": "2024-10-29T03:50:17.422Z"
   },
   {
    "duration": 6,
    "start_time": "2024-10-29T03:50:20.020Z"
   },
   {
    "duration": 19,
    "start_time": "2024-10-29T03:50:23.456Z"
   },
   {
    "duration": 25,
    "start_time": "2024-10-29T03:50:31.776Z"
   },
   {
    "duration": 45,
    "start_time": "2024-10-29T03:51:09.263Z"
   },
   {
    "duration": 2,
    "start_time": "2024-10-29T03:51:19.086Z"
   },
   {
    "duration": 8,
    "start_time": "2024-10-29T03:51:19.091Z"
   },
   {
    "duration": 67,
    "start_time": "2024-10-29T03:51:19.100Z"
   },
   {
    "duration": 33,
    "start_time": "2024-10-29T03:51:19.169Z"
   },
   {
    "duration": 9,
    "start_time": "2024-10-29T03:51:19.206Z"
   },
   {
    "duration": 52,
    "start_time": "2024-10-29T03:51:19.217Z"
   },
   {
    "duration": 9,
    "start_time": "2024-10-29T03:51:19.271Z"
   },
   {
    "duration": 6,
    "start_time": "2024-10-29T03:51:19.281Z"
   },
   {
    "duration": 28,
    "start_time": "2024-10-29T03:51:19.289Z"
   },
   {
    "duration": 7,
    "start_time": "2024-10-29T03:51:19.318Z"
   },
   {
    "duration": 6,
    "start_time": "2024-10-29T03:51:19.326Z"
   },
   {
    "duration": 8,
    "start_time": "2024-10-29T03:51:19.334Z"
   },
   {
    "duration": 7,
    "start_time": "2024-10-29T03:51:19.346Z"
   },
   {
    "duration": 8,
    "start_time": "2024-10-29T03:51:19.354Z"
   },
   {
    "duration": 8,
    "start_time": "2024-10-29T03:51:19.363Z"
   },
   {
    "duration": 44,
    "start_time": "2024-10-29T03:51:19.374Z"
   },
   {
    "duration": 7,
    "start_time": "2024-10-29T03:51:19.421Z"
   },
   {
    "duration": 5,
    "start_time": "2024-10-29T03:51:19.429Z"
   },
   {
    "duration": 9,
    "start_time": "2024-10-29T03:51:19.436Z"
   },
   {
    "duration": 16,
    "start_time": "2024-10-29T03:51:19.446Z"
   },
   {
    "duration": 6,
    "start_time": "2024-10-29T03:51:19.463Z"
   },
   {
    "duration": 85,
    "start_time": "2024-10-29T03:51:19.471Z"
   },
   {
    "duration": 38,
    "start_time": "2024-10-29T03:51:19.558Z"
   },
   {
    "duration": 19,
    "start_time": "2024-10-29T03:51:19.598Z"
   },
   {
    "duration": 48,
    "start_time": "2024-10-29T03:51:19.619Z"
   },
   {
    "duration": 12,
    "start_time": "2024-10-29T03:51:19.669Z"
   },
   {
    "duration": 5,
    "start_time": "2024-10-29T03:51:19.683Z"
   },
   {
    "duration": 14,
    "start_time": "2024-10-29T03:51:19.713Z"
   },
   {
    "duration": 15,
    "start_time": "2024-10-29T03:51:19.728Z"
   },
   {
    "duration": 7,
    "start_time": "2024-10-29T03:51:19.745Z"
   },
   {
    "duration": 17,
    "start_time": "2024-10-29T03:51:19.753Z"
   },
   {
    "duration": 42,
    "start_time": "2024-10-29T03:51:19.772Z"
   },
   {
    "duration": 6,
    "start_time": "2024-10-29T03:51:19.817Z"
   },
   {
    "duration": 37,
    "start_time": "2024-10-29T03:51:19.825Z"
   },
   {
    "duration": 7,
    "start_time": "2024-10-29T03:51:19.863Z"
   },
   {
    "duration": 42,
    "start_time": "2024-10-29T03:51:19.872Z"
   },
   {
    "duration": 6,
    "start_time": "2024-10-29T03:51:19.918Z"
   },
   {
    "duration": 30,
    "start_time": "2024-10-29T03:51:19.926Z"
   },
   {
    "duration": 22,
    "start_time": "2024-10-29T03:51:19.957Z"
   },
   {
    "duration": 38,
    "start_time": "2024-10-29T03:51:19.980Z"
   },
   {
    "duration": 18,
    "start_time": "2024-10-29T03:51:20.020Z"
   },
   {
    "duration": 6,
    "start_time": "2024-10-29T03:51:22.464Z"
   },
   {
    "duration": 20,
    "start_time": "2024-10-29T03:51:38.975Z"
   },
   {
    "duration": 18,
    "start_time": "2024-10-29T03:51:42.468Z"
   },
   {
    "duration": 3,
    "start_time": "2024-10-29T03:51:52.719Z"
   },
   {
    "duration": 7,
    "start_time": "2024-10-29T03:51:52.724Z"
   },
   {
    "duration": 83,
    "start_time": "2024-10-29T03:51:52.732Z"
   },
   {
    "duration": 33,
    "start_time": "2024-10-29T03:51:52.817Z"
   },
   {
    "duration": 5,
    "start_time": "2024-10-29T03:51:52.853Z"
   },
   {
    "duration": 65,
    "start_time": "2024-10-29T03:51:52.860Z"
   },
   {
    "duration": 8,
    "start_time": "2024-10-29T03:51:52.926Z"
   },
   {
    "duration": 7,
    "start_time": "2024-10-29T03:51:52.936Z"
   },
   {
    "duration": 6,
    "start_time": "2024-10-29T03:51:52.944Z"
   },
   {
    "duration": 8,
    "start_time": "2024-10-29T03:51:52.951Z"
   },
   {
    "duration": 7,
    "start_time": "2024-10-29T03:51:52.961Z"
   },
   {
    "duration": 43,
    "start_time": "2024-10-29T03:51:52.969Z"
   },
   {
    "duration": 7,
    "start_time": "2024-10-29T03:51:53.014Z"
   },
   {
    "duration": 7,
    "start_time": "2024-10-29T03:51:53.025Z"
   },
   {
    "duration": 8,
    "start_time": "2024-10-29T03:51:53.034Z"
   },
   {
    "duration": 8,
    "start_time": "2024-10-29T03:51:53.043Z"
   },
   {
    "duration": 7,
    "start_time": "2024-10-29T03:51:53.052Z"
   },
   {
    "duration": 4,
    "start_time": "2024-10-29T03:51:53.061Z"
   },
   {
    "duration": 45,
    "start_time": "2024-10-29T03:51:53.067Z"
   },
   {
    "duration": 15,
    "start_time": "2024-10-29T03:51:53.114Z"
   },
   {
    "duration": 7,
    "start_time": "2024-10-29T03:51:53.130Z"
   },
   {
    "duration": 76,
    "start_time": "2024-10-29T03:51:53.139Z"
   },
   {
    "duration": 42,
    "start_time": "2024-10-29T03:51:53.216Z"
   },
   {
    "duration": 11,
    "start_time": "2024-10-29T03:51:53.261Z"
   },
   {
    "duration": 73,
    "start_time": "2024-10-29T03:51:53.274Z"
   },
   {
    "duration": 11,
    "start_time": "2024-10-29T03:51:53.349Z"
   },
   {
    "duration": 5,
    "start_time": "2024-10-29T03:51:53.362Z"
   },
   {
    "duration": 15,
    "start_time": "2024-10-29T03:51:53.370Z"
   },
   {
    "duration": 16,
    "start_time": "2024-10-29T03:51:53.411Z"
   },
   {
    "duration": 6,
    "start_time": "2024-10-29T03:51:53.428Z"
   },
   {
    "duration": 16,
    "start_time": "2024-10-29T03:51:53.437Z"
   },
   {
    "duration": 13,
    "start_time": "2024-10-29T03:51:53.454Z"
   },
   {
    "duration": 7,
    "start_time": "2024-10-29T03:51:53.468Z"
   },
   {
    "duration": 67,
    "start_time": "2024-10-29T03:51:53.477Z"
   },
   {
    "duration": 7,
    "start_time": "2024-10-29T03:51:53.546Z"
   },
   {
    "duration": 21,
    "start_time": "2024-10-29T03:51:53.554Z"
   },
   {
    "duration": 7,
    "start_time": "2024-10-29T03:51:53.577Z"
   },
   {
    "duration": 49,
    "start_time": "2024-10-29T03:51:53.585Z"
   },
   {
    "duration": 18,
    "start_time": "2024-10-29T03:51:53.636Z"
   },
   {
    "duration": 15,
    "start_time": "2024-10-29T03:51:53.656Z"
   },
   {
    "duration": 42,
    "start_time": "2024-10-29T03:51:53.675Z"
   },
   {
    "duration": 6,
    "start_time": "2024-10-29T03:51:53.718Z"
   },
   {
    "duration": 18,
    "start_time": "2024-10-29T03:51:53.725Z"
   },
   {
    "duration": 17,
    "start_time": "2024-10-29T03:51:53.744Z"
   },
   {
    "duration": 5,
    "start_time": "2024-10-29T03:51:53.763Z"
   },
   {
    "duration": 57,
    "start_time": "2024-10-29T03:51:55.238Z"
   },
   {
    "duration": 6,
    "start_time": "2024-10-29T03:54:57.500Z"
   },
   {
    "duration": 3,
    "start_time": "2024-10-29T03:54:58.983Z"
   },
   {
    "duration": 3,
    "start_time": "2024-10-29T03:59:40.796Z"
   },
   {
    "duration": 7,
    "start_time": "2024-10-29T03:59:40.803Z"
   },
   {
    "duration": 67,
    "start_time": "2024-10-29T03:59:40.811Z"
   },
   {
    "duration": 58,
    "start_time": "2024-10-29T03:59:40.879Z"
   },
   {
    "duration": 5,
    "start_time": "2024-10-29T03:59:40.939Z"
   },
   {
    "duration": 52,
    "start_time": "2024-10-29T03:59:40.947Z"
   },
   {
    "duration": 17,
    "start_time": "2024-10-29T03:59:41.001Z"
   },
   {
    "duration": 6,
    "start_time": "2024-10-29T03:59:41.020Z"
   },
   {
    "duration": 6,
    "start_time": "2024-10-29T03:59:41.027Z"
   },
   {
    "duration": 7,
    "start_time": "2024-10-29T03:59:41.034Z"
   },
   {
    "duration": 7,
    "start_time": "2024-10-29T03:59:41.042Z"
   },
   {
    "duration": 9,
    "start_time": "2024-10-29T03:59:41.050Z"
   },
   {
    "duration": 7,
    "start_time": "2024-10-29T03:59:41.060Z"
   },
   {
    "duration": 8,
    "start_time": "2024-10-29T03:59:41.111Z"
   },
   {
    "duration": 7,
    "start_time": "2024-10-29T03:59:41.123Z"
   },
   {
    "duration": 8,
    "start_time": "2024-10-29T03:59:41.132Z"
   },
   {
    "duration": 6,
    "start_time": "2024-10-29T03:59:41.142Z"
   },
   {
    "duration": 4,
    "start_time": "2024-10-29T03:59:41.150Z"
   },
   {
    "duration": 9,
    "start_time": "2024-10-29T03:59:41.155Z"
   },
   {
    "duration": 58,
    "start_time": "2024-10-29T03:59:41.166Z"
   },
   {
    "duration": 6,
    "start_time": "2024-10-29T03:59:41.225Z"
   },
   {
    "duration": 46,
    "start_time": "2024-10-29T03:59:41.233Z"
   },
   {
    "duration": 58,
    "start_time": "2024-10-29T03:59:41.281Z"
   },
   {
    "duration": 7,
    "start_time": "2024-10-29T03:59:41.341Z"
   },
   {
    "duration": 64,
    "start_time": "2024-10-29T03:59:41.349Z"
   },
   {
    "duration": 13,
    "start_time": "2024-10-29T03:59:41.415Z"
   },
   {
    "duration": 6,
    "start_time": "2024-10-29T03:59:41.430Z"
   },
   {
    "duration": 15,
    "start_time": "2024-10-29T03:59:41.439Z"
   },
   {
    "duration": 17,
    "start_time": "2024-10-29T03:59:41.456Z"
   },
   {
    "duration": 36,
    "start_time": "2024-10-29T03:59:41.476Z"
   },
   {
    "duration": 16,
    "start_time": "2024-10-29T03:59:41.514Z"
   },
   {
    "duration": 13,
    "start_time": "2024-10-29T03:59:41.532Z"
   },
   {
    "duration": 6,
    "start_time": "2024-10-29T03:59:41.547Z"
   },
   {
    "duration": 62,
    "start_time": "2024-10-29T03:59:41.555Z"
   },
   {
    "duration": 8,
    "start_time": "2024-10-29T03:59:41.618Z"
   },
   {
    "duration": 21,
    "start_time": "2024-10-29T03:59:41.627Z"
   },
   {
    "duration": 7,
    "start_time": "2024-10-29T03:59:41.650Z"
   },
   {
    "duration": 24,
    "start_time": "2024-10-29T03:59:41.659Z"
   },
   {
    "duration": 45,
    "start_time": "2024-10-29T03:59:41.684Z"
   },
   {
    "duration": 14,
    "start_time": "2024-10-29T03:59:41.730Z"
   },
   {
    "duration": 18,
    "start_time": "2024-10-29T03:59:41.746Z"
   },
   {
    "duration": 5,
    "start_time": "2024-10-29T03:59:41.769Z"
   },
   {
    "duration": 48,
    "start_time": "2024-10-29T03:59:41.776Z"
   },
   {
    "duration": 16,
    "start_time": "2024-10-29T03:59:41.826Z"
   },
   {
    "duration": 5,
    "start_time": "2024-10-29T03:59:41.844Z"
   },
   {
    "duration": 83,
    "start_time": "2024-10-29T03:59:41.851Z"
   },
   {
    "duration": 222,
    "start_time": "2024-10-29T03:59:41.936Z"
   },
   {
    "duration": 162,
    "start_time": "2024-10-29T03:59:42.160Z"
   },
   {
    "duration": 6,
    "start_time": "2024-10-29T03:59:42.324Z"
   },
   {
    "duration": 167,
    "start_time": "2024-10-29T03:59:42.331Z"
   },
   {
    "duration": 19,
    "start_time": "2024-10-29T03:59:42.502Z"
   },
   {
    "duration": 152,
    "start_time": "2024-10-29T03:59:42.527Z"
   },
   {
    "duration": 12,
    "start_time": "2024-10-29T03:59:42.681Z"
   },
   {
    "duration": 167,
    "start_time": "2024-10-29T03:59:42.695Z"
   },
   {
    "duration": 4,
    "start_time": "2024-10-29T03:59:42.866Z"
   },
   {
    "duration": 161,
    "start_time": "2024-10-29T03:59:42.871Z"
   },
   {
    "duration": 186,
    "start_time": "2024-10-29T03:59:43.035Z"
   },
   {
    "duration": 17,
    "start_time": "2024-10-29T03:59:43.222Z"
   },
   {
    "duration": 163,
    "start_time": "2024-10-29T03:59:43.241Z"
   },
   {
    "duration": 16,
    "start_time": "2024-10-29T03:59:43.406Z"
   },
   {
    "duration": 178,
    "start_time": "2024-10-29T03:59:43.424Z"
   },
   {
    "duration": 8,
    "start_time": "2024-10-29T03:59:43.605Z"
   },
   {
    "duration": 6,
    "start_time": "2024-10-29T03:59:43.614Z"
   },
   {
    "duration": 5,
    "start_time": "2024-10-29T03:59:43.622Z"
   },
   {
    "duration": 4,
    "start_time": "2024-10-29T03:59:43.629Z"
   },
   {
    "duration": 14,
    "start_time": "2024-10-29T03:59:43.635Z"
   },
   {
    "duration": 2,
    "start_time": "2024-10-29T04:10:38.136Z"
   },
   {
    "duration": 7,
    "start_time": "2024-10-29T04:10:38.141Z"
   },
   {
    "duration": 63,
    "start_time": "2024-10-29T04:10:38.149Z"
   },
   {
    "duration": 30,
    "start_time": "2024-10-29T04:10:38.214Z"
   },
   {
    "duration": 6,
    "start_time": "2024-10-29T04:10:38.247Z"
   },
   {
    "duration": 58,
    "start_time": "2024-10-29T04:10:38.254Z"
   },
   {
    "duration": 9,
    "start_time": "2024-10-29T04:10:38.313Z"
   },
   {
    "duration": 7,
    "start_time": "2024-10-29T04:10:38.323Z"
   },
   {
    "duration": 6,
    "start_time": "2024-10-29T04:10:38.331Z"
   },
   {
    "duration": 8,
    "start_time": "2024-10-29T04:10:38.339Z"
   },
   {
    "duration": 6,
    "start_time": "2024-10-29T04:10:38.348Z"
   },
   {
    "duration": 8,
    "start_time": "2024-10-29T04:10:38.358Z"
   },
   {
    "duration": 44,
    "start_time": "2024-10-29T04:10:38.367Z"
   },
   {
    "duration": 9,
    "start_time": "2024-10-29T04:10:38.413Z"
   },
   {
    "duration": 9,
    "start_time": "2024-10-29T04:10:38.423Z"
   },
   {
    "duration": 8,
    "start_time": "2024-10-29T04:10:38.433Z"
   },
   {
    "duration": 7,
    "start_time": "2024-10-29T04:10:38.442Z"
   },
   {
    "duration": 4,
    "start_time": "2024-10-29T04:10:38.451Z"
   },
   {
    "duration": 8,
    "start_time": "2024-10-29T04:10:38.457Z"
   },
   {
    "duration": 55,
    "start_time": "2024-10-29T04:10:38.466Z"
   },
   {
    "duration": 6,
    "start_time": "2024-10-29T04:10:38.523Z"
   },
   {
    "duration": 46,
    "start_time": "2024-10-29T04:10:38.530Z"
   },
   {
    "duration": 60,
    "start_time": "2024-10-29T04:10:38.578Z"
   },
   {
    "duration": 7,
    "start_time": "2024-10-29T04:10:38.640Z"
   },
   {
    "duration": 63,
    "start_time": "2024-10-29T04:10:38.649Z"
   },
   {
    "duration": 11,
    "start_time": "2024-10-29T04:10:38.714Z"
   },
   {
    "duration": 6,
    "start_time": "2024-10-29T04:10:38.727Z"
   },
   {
    "duration": 15,
    "start_time": "2024-10-29T04:10:38.734Z"
   },
   {
    "duration": 16,
    "start_time": "2024-10-29T04:10:38.751Z"
   },
   {
    "duration": 6,
    "start_time": "2024-10-29T04:10:38.768Z"
   },
   {
    "duration": 51,
    "start_time": "2024-10-29T04:10:38.776Z"
   },
   {
    "duration": 13,
    "start_time": "2024-10-29T04:10:38.829Z"
   },
   {
    "duration": 6,
    "start_time": "2024-10-29T04:10:38.847Z"
   },
   {
    "duration": 57,
    "start_time": "2024-10-29T04:10:38.855Z"
   },
   {
    "duration": 8,
    "start_time": "2024-10-29T04:10:38.914Z"
   },
   {
    "duration": 20,
    "start_time": "2024-10-29T04:10:38.924Z"
   },
   {
    "duration": 6,
    "start_time": "2024-10-29T04:10:38.946Z"
   },
   {
    "duration": 21,
    "start_time": "2024-10-29T04:10:38.954Z"
   },
   {
    "duration": 44,
    "start_time": "2024-10-29T04:10:38.976Z"
   },
   {
    "duration": 14,
    "start_time": "2024-10-29T04:10:39.021Z"
   },
   {
    "duration": 16,
    "start_time": "2024-10-29T04:10:39.037Z"
   },
   {
    "duration": 5,
    "start_time": "2024-10-29T04:10:39.055Z"
   },
   {
    "duration": 19,
    "start_time": "2024-10-29T04:10:39.062Z"
   },
   {
    "duration": 43,
    "start_time": "2024-10-29T04:10:39.083Z"
   },
   {
    "duration": 5,
    "start_time": "2024-10-29T04:10:39.127Z"
   },
   {
    "duration": 55,
    "start_time": "2024-10-29T04:10:39.134Z"
   },
   {
    "duration": 224,
    "start_time": "2024-10-29T04:10:39.190Z"
   },
   {
    "duration": 162,
    "start_time": "2024-10-29T04:10:39.416Z"
   },
   {
    "duration": 5,
    "start_time": "2024-10-29T04:10:39.579Z"
   },
   {
    "duration": 391,
    "start_time": "2024-10-29T04:10:39.586Z"
   },
   {
    "duration": 33,
    "start_time": "2024-10-29T04:10:39.979Z"
   },
   {
    "duration": 147,
    "start_time": "2024-10-29T04:10:40.014Z"
   },
   {
    "duration": 13,
    "start_time": "2024-10-29T04:10:40.163Z"
   },
   {
    "duration": 163,
    "start_time": "2024-10-29T04:10:40.177Z"
   },
   {
    "duration": 4,
    "start_time": "2024-10-29T04:10:40.342Z"
   },
   {
    "duration": 149,
    "start_time": "2024-10-29T04:10:40.348Z"
   },
   {
    "duration": 178,
    "start_time": "2024-10-29T04:10:40.498Z"
   },
   {
    "duration": 17,
    "start_time": "2024-10-29T04:10:40.678Z"
   },
   {
    "duration": 177,
    "start_time": "2024-10-29T04:10:40.697Z"
   },
   {
    "duration": 11,
    "start_time": "2024-10-29T04:10:40.877Z"
   },
   {
    "duration": 167,
    "start_time": "2024-10-29T04:10:40.889Z"
   },
   {
    "duration": 3,
    "start_time": "2024-10-29T04:10:41.058Z"
   },
   {
    "duration": 5,
    "start_time": "2024-10-29T04:10:41.063Z"
   },
   {
    "duration": 5,
    "start_time": "2024-10-29T04:10:41.070Z"
   },
   {
    "duration": 4,
    "start_time": "2024-10-29T04:10:41.076Z"
   },
   {
    "duration": 41,
    "start_time": "2024-10-29T04:10:41.082Z"
   },
   {
    "duration": 782,
    "start_time": "2024-10-29T04:30:00.684Z"
   },
   {
    "duration": 8,
    "start_time": "2024-10-29T04:30:01.470Z"
   },
   {
    "duration": 88,
    "start_time": "2024-10-29T04:30:01.479Z"
   },
   {
    "duration": 43,
    "start_time": "2024-10-29T04:30:01.569Z"
   },
   {
    "duration": 8,
    "start_time": "2024-10-29T04:30:01.614Z"
   },
   {
    "duration": 74,
    "start_time": "2024-10-29T04:30:01.623Z"
   },
   {
    "duration": 11,
    "start_time": "2024-10-29T04:30:01.700Z"
   },
   {
    "duration": 8,
    "start_time": "2024-10-29T04:30:01.712Z"
   },
   {
    "duration": 7,
    "start_time": "2024-10-29T04:30:01.722Z"
   },
   {
    "duration": 10,
    "start_time": "2024-10-29T04:30:01.734Z"
   },
   {
    "duration": 28,
    "start_time": "2024-10-29T04:30:01.746Z"
   },
   {
    "duration": 10,
    "start_time": "2024-10-29T04:30:01.776Z"
   },
   {
    "duration": 7,
    "start_time": "2024-10-29T04:30:01.787Z"
   },
   {
    "duration": 8,
    "start_time": "2024-10-29T04:30:01.796Z"
   },
   {
    "duration": 7,
    "start_time": "2024-10-29T04:30:01.806Z"
   },
   {
    "duration": 8,
    "start_time": "2024-10-29T04:30:01.815Z"
   },
   {
    "duration": 47,
    "start_time": "2024-10-29T04:30:01.825Z"
   },
   {
    "duration": 6,
    "start_time": "2024-10-29T04:30:01.874Z"
   },
   {
    "duration": 9,
    "start_time": "2024-10-29T04:30:01.881Z"
   },
   {
    "duration": 14,
    "start_time": "2024-10-29T04:30:01.892Z"
   },
   {
    "duration": 7,
    "start_time": "2024-10-29T04:30:01.907Z"
   },
   {
    "duration": 87,
    "start_time": "2024-10-29T04:30:01.916Z"
   },
   {
    "duration": 50,
    "start_time": "2024-10-29T04:30:02.005Z"
   },
   {
    "duration": 20,
    "start_time": "2024-10-29T04:30:02.056Z"
   },
   {
    "duration": 55,
    "start_time": "2024-10-29T04:30:02.078Z"
   },
   {
    "duration": 36,
    "start_time": "2024-10-29T04:30:02.135Z"
   },
   {
    "duration": 6,
    "start_time": "2024-10-29T04:30:02.173Z"
   },
   {
    "duration": 15,
    "start_time": "2024-10-29T04:30:02.184Z"
   },
   {
    "duration": 17,
    "start_time": "2024-10-29T04:30:02.201Z"
   },
   {
    "duration": 7,
    "start_time": "2024-10-29T04:30:02.219Z"
   },
   {
    "duration": 51,
    "start_time": "2024-10-29T04:30:02.227Z"
   },
   {
    "duration": 14,
    "start_time": "2024-10-29T04:30:02.280Z"
   },
   {
    "duration": 7,
    "start_time": "2024-10-29T04:30:02.295Z"
   },
   {
    "duration": 40,
    "start_time": "2024-10-29T04:30:02.304Z"
   },
   {
    "duration": 29,
    "start_time": "2024-10-29T04:30:02.345Z"
   },
   {
    "duration": 21,
    "start_time": "2024-10-29T04:30:02.376Z"
   },
   {
    "duration": 7,
    "start_time": "2024-10-29T04:30:02.399Z"
   },
   {
    "duration": 26,
    "start_time": "2024-10-29T04:30:02.408Z"
   },
   {
    "duration": 50,
    "start_time": "2024-10-29T04:30:02.435Z"
   },
   {
    "duration": 17,
    "start_time": "2024-10-29T04:30:02.487Z"
   },
   {
    "duration": 18,
    "start_time": "2024-10-29T04:30:02.506Z"
   },
   {
    "duration": 6,
    "start_time": "2024-10-29T04:30:02.526Z"
   },
   {
    "duration": 52,
    "start_time": "2024-10-29T04:30:02.534Z"
   },
   {
    "duration": 17,
    "start_time": "2024-10-29T04:30:02.588Z"
   },
   {
    "duration": 5,
    "start_time": "2024-10-29T04:30:02.607Z"
   },
   {
    "duration": 81,
    "start_time": "2024-10-29T04:30:02.614Z"
   },
   {
    "duration": 247,
    "start_time": "2024-10-29T04:30:02.697Z"
   },
   {
    "duration": 172,
    "start_time": "2024-10-29T04:30:02.946Z"
   },
   {
    "duration": 5,
    "start_time": "2024-10-29T04:30:03.120Z"
   },
   {
    "duration": 180,
    "start_time": "2024-10-29T04:30:03.127Z"
   },
   {
    "duration": 15,
    "start_time": "2024-10-29T04:30:03.309Z"
   },
   {
    "duration": 230,
    "start_time": "2024-10-29T04:30:03.326Z"
   },
   {
    "duration": 19,
    "start_time": "2024-10-29T04:30:03.559Z"
   },
   {
    "duration": 152,
    "start_time": "2024-10-29T04:30:03.579Z"
   },
   {
    "duration": 5,
    "start_time": "2024-10-29T04:30:03.733Z"
   },
   {
    "duration": 178,
    "start_time": "2024-10-29T04:30:03.740Z"
   },
   {
    "duration": 181,
    "start_time": "2024-10-29T04:30:03.920Z"
   },
   {
    "duration": 17,
    "start_time": "2024-10-29T04:30:04.102Z"
   },
   {
    "duration": 174,
    "start_time": "2024-10-29T04:30:04.121Z"
   },
   {
    "duration": 13,
    "start_time": "2024-10-29T04:30:04.297Z"
   },
   {
    "duration": 182,
    "start_time": "2024-10-29T04:30:04.312Z"
   },
   {
    "duration": 3,
    "start_time": "2024-10-29T04:30:04.496Z"
   },
   {
    "duration": 5,
    "start_time": "2024-10-29T04:30:04.502Z"
   },
   {
    "duration": 5,
    "start_time": "2024-10-29T04:30:04.508Z"
   },
   {
    "duration": 5,
    "start_time": "2024-10-29T04:30:04.514Z"
   },
   {
    "duration": 14,
    "start_time": "2024-10-29T04:30:04.520Z"
   }
  ],
  "kernelspec": {
   "display_name": "Python 3 (ipykernel)",
   "language": "python",
   "name": "python3"
  },
  "language_info": {
   "codemirror_mode": {
    "name": "ipython",
    "version": 3
   },
   "file_extension": ".py",
   "mimetype": "text/x-python",
   "name": "python",
   "nbconvert_exporter": "python",
   "pygments_lexer": "ipython3",
   "version": "3.12.7"
  },
  "toc": {
   "base_numbering": 1,
   "nav_menu": {},
   "number_sections": true,
   "sideBar": true,
   "skip_h1_title": false,
   "title_cell": "Table of Contents",
   "title_sidebar": "Contents",
   "toc_cell": false,
   "toc_position": {
    "height": "calc(100% - 180px)",
    "left": "10px",
    "top": "150px",
    "width": "461px"
   },
   "toc_section_display": true,
   "toc_window_display": true
  }
 },
 "nbformat": 4,
 "nbformat_minor": 4
}
