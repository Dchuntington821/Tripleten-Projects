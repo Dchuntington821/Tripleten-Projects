{
 "cells": [
  {
   "cell_type": "markdown",
   "id": "8a7cfadf",
   "metadata": {},
   "source": [
    "<div style=\"border:solid blue 2px; padding: 20px\">\n",
    "\n",
    "    \n",
    "Hello Daniel,\n",
    "\n",
    "Thank you for thoroughly addressing all the points raised in the previous reviews.\n",
    "\n",
    "I truly appreciate the care you’ve taken in fixing each issue. The project looks excellent now.\n",
    "\n",
    "Congratulations once again on your journey and accomplishments. Your project has been accepted — fantastic work! This is just the beginning of many exciting milestones ahead, and I’m confident you’ll continue to grow and excel with each step you take.\n",
    "\n",
    "Keep up the amazing work! 🪄"
   ]
  },
  {
   "cell_type": "markdown",
   "id": "02ac01af",
   "metadata": {},
   "source": [
    "<div style=\"border:solid blue 2px; padding: 20px\">\n",
    "  \n",
    "Hello Daniel,\n",
    "\n",
    "A couple of red comments remained. Please try to fix those.\n",
    "\n",
    "Looking forward to the update version.\n",
    "    "
   ]
  },
  {
   "cell_type": "markdown",
   "id": "6273d7c4",
   "metadata": {},
   "source": [
    "<div style=\"border:solid blue 2px; padding: 20px\">\n",
    "  \n",
    "Hello Daniel,\n",
    "\n",
    "Thanks for thoroughly updating the points from the previous review. Just a few moments left. Please try to fix and resubmit when you are ready.\n",
    "\n",
    "    \n",
    "    "
   ]
  },
  {
   "cell_type": "markdown",
   "id": "31aad5f0",
   "metadata": {},
   "source": [
    "<div style=\"border:solid blue 2px; padding: 20px\">\n",
    "  \n",
    "Hello Daniel,\n",
    "\n",
    "Congratulations on submitting your second python practical project! 🎉\n",
    "\n",
    "Another project submitted — fantastic work! Every step you take brings you closer to mastering the skills needed to excel in Data. It’s clear you’re putting in the effort, and that dedication is something to be proud of.\n",
    "\n",
    "Keep up the great momentum, and let’s dive into this project together! You’ll find specific notes inside the project file, marked green, yellow or red.\n",
    "    \n",
    "\n",
    "**Note:** Please do not remove or change my comments - they will help me in the future reviews and will make the process smoother for both of us. \n",
    "\n",
    "<div class=\"alert alert-success\"; style=\"border-left: 7px solid green\">\n",
    "<b>✅ Reviewer's comment</b> \n",
    "    \n",
    "Such comment will mark efficient solutions and good ideas that can be used in other projects. It will also point at the document formatting, which was done for you in this project, but you will need to do it yourself in the future ones.\n",
    "</div>\n",
    "\n",
    "<div class=\"alert alert-warning\"; style=\"border-left: 7px solid gold\">\n",
    "<b>⚠️ Reviewer's comment</b> \n",
    "    \n",
    "The parts marked with yellow comments indicate that there is room for optimisation. Though the correction is not necessary it is good if you implement it.\n",
    "</div>\n",
    "\n",
    "<div class=\"alert alert-danger\"; style=\"border-left: 7px solid red\">\n",
    "<b>⛔️ Reviewer's comment</b> \n",
    "    \n",
    "If you see such a comment, it means that there is a problem that needs to be fixed. Please note that I won't be able to accept your project until the issue is resolved.\n",
    "</div>\n",
    "\n",
    "You are also very welcome to leave your comments, describe the corrections you've done or ask me questions, marking them with a different colour. You can use the example below (copy the code and use it in Markdown-type cell): \n",
    "\n",
    "<div class=\"alert alert-info\"; style=\"border-left: 7px solid blue\">\n",
    "<b>Student's comment</b></div>\n",
    "    \n",
    "    \n",
    "Don’t be discouraged - revisions are part of the learning process! Take your time to review the feedback and make the necessary adjustments. Resubmit when you’re ready, and I’m confident you’ll nail it on the next go. Remember, every challenge is an opportunity to grow. You’ve got this! 🏄\n",
    "    \n",
    "    "
   ]
  },
  {
   "cell_type": "markdown",
   "id": "4d33e3a2",
   "metadata": {},
   "source": [
    "# InstaCart Orders Analysis"
   ]
  },
  {
   "cell_type": "markdown",
   "id": "42ae470e",
   "metadata": {},
   "source": [
    "The objective of this analysis is to use five datasets to find trends and patterns of instacart orders and users to try and determine when users are most active, the types of orders they make, and how often they make those orders. \n",
    "\n",
    "Answering these questions will provide us with an understanding of exactly how the majority customers are using instacart."
   ]
  },
  {
   "cell_type": "markdown",
   "id": "3da67975",
   "metadata": {},
   "source": [
    "<div class=\"alert alert-warning\"; style=\"border-left: 7px solid gold\">\n",
    "<b>⚠️ Reviewer's comment, v. 2</b> \n",
    "\n",
    "It would also be good to add the project description.\n",
    "    \n",
    "\n",
    "    \n",
    "<div class=\"alert alert-danger\"; style=\"border-left: 7px solid red\">\n",
    "<b>⛔️ Reviewer's comment, v. 1</b> \n",
    "\n",
    "\n",
    "A project title and introduction are essential to provide context and clarity to your work. Please ensure these elements are included.\n",
    "\n",
    "For the introduction, it would be most effective to cover the following:\n",
    "\n",
    "- A brief overview of the situation or problem being addressed;\n",
    "- A clear statement of the project's objective, outlining what you aim to achieve;\n",
    "- A description of the dataset(s) you'll be using, highlighting key attributes and any relevant details;\n",
    "- A brief plan or strategy detailing how you intend to reach your goal.\n",
    "\n",
    "</div>\n"
   ]
  },
  {
   "cell_type": "markdown",
   "id": "f26b5eed",
   "metadata": {},
   "source": [
    "<div class=\"alert alert-success\"; style=\"border-left: 7px solid green\">\n",
    "<b>✅ Reviewer's comment, v. 2</b> \n",
    "    \n",
    "✔️ \n",
    "    \n",
    "\n",
    "\n",
    "<div class=\"alert alert-warning\"; style=\"border-left: 7px solid gold\">\n",
    "<b>⚠️ Reviewer's Comment, v. 1</b>\n",
    "\n",
    "I noticed that the cell count in your notebook doesn’t start from 1. It’s highly recommended to **restart the kernel and run all cells** before submitting the project.\n",
    "\n",
    "To do this, please go to the menu and select **Kernel -> Restart and Run All**.\n",
    "\n",
    "Restarting the kernel is important to ensure that all variables and methods stored in memory are cleared. This helps guarantee that the results you’re seeing are exactly what the reviewer will see."
   ]
  },
  {
   "cell_type": "code",
   "execution_count": 1,
   "id": "6529fd31",
   "metadata": {},
   "outputs": [],
   "source": [
    "import pandas as pd\n",
    "import matplotlib.pyplot as plt"
   ]
  },
  {
   "cell_type": "markdown",
   "id": "2439439d",
   "metadata": {},
   "source": [
    "<div class=\"alert alert-success\"; style=\"border-left: 7px solid green\">\n",
    "<b>✅ Reviewer's comment, v. 2</b> \n",
    "    \n",
    "✔️ \n",
    "    \n",
    "\n",
    "\n",
    "<div class=\"alert alert-warning\"; style=\"border-left: 7px solid gold\">\n",
    "<b>⚠️ Reviewer's comment, v. 1</b> \n",
    "\n",
    "It's advisable to import all necessary libraries in a separate, dedicated cell at the beginning of the notebook. This approach offers several advantages:\n",
    "\n",
    "- If you need to add another library later in the project, you won’t have to reload the dataset or rerun previous cells.\n",
    "- It improves the overall structure of the notebook, making it easier to manage dependencies and ensuring that all required libraries are imported before any code execution."
   ]
  },
  {
   "cell_type": "code",
   "execution_count": 2,
   "id": "fbf1adab",
   "metadata": {},
   "outputs": [
    {
     "data": {
      "text/html": [
       "<div>\n",
       "<style scoped>\n",
       "    .dataframe tbody tr th:only-of-type {\n",
       "        vertical-align: middle;\n",
       "    }\n",
       "\n",
       "    .dataframe tbody tr th {\n",
       "        vertical-align: top;\n",
       "    }\n",
       "\n",
       "    .dataframe thead th {\n",
       "        text-align: right;\n",
       "    }\n",
       "</style>\n",
       "<table border=\"1\" class=\"dataframe\">\n",
       "  <thead>\n",
       "    <tr style=\"text-align: right;\">\n",
       "      <th></th>\n",
       "      <th>order_id</th>\n",
       "      <th>user_id</th>\n",
       "      <th>order_number</th>\n",
       "      <th>order_dow</th>\n",
       "      <th>order_hour_of_day</th>\n",
       "      <th>days_since_prior_order</th>\n",
       "    </tr>\n",
       "  </thead>\n",
       "  <tbody>\n",
       "    <tr>\n",
       "      <th>0</th>\n",
       "      <td>1515936</td>\n",
       "      <td>183418</td>\n",
       "      <td>11</td>\n",
       "      <td>6</td>\n",
       "      <td>13</td>\n",
       "      <td>30.0</td>\n",
       "    </tr>\n",
       "    <tr>\n",
       "      <th>1</th>\n",
       "      <td>1690866</td>\n",
       "      <td>163593</td>\n",
       "      <td>5</td>\n",
       "      <td>5</td>\n",
       "      <td>12</td>\n",
       "      <td>9.0</td>\n",
       "    </tr>\n",
       "    <tr>\n",
       "      <th>2</th>\n",
       "      <td>1454967</td>\n",
       "      <td>39980</td>\n",
       "      <td>4</td>\n",
       "      <td>5</td>\n",
       "      <td>19</td>\n",
       "      <td>2.0</td>\n",
       "    </tr>\n",
       "    <tr>\n",
       "      <th>3</th>\n",
       "      <td>1768857</td>\n",
       "      <td>82516</td>\n",
       "      <td>56</td>\n",
       "      <td>0</td>\n",
       "      <td>20</td>\n",
       "      <td>10.0</td>\n",
       "    </tr>\n",
       "    <tr>\n",
       "      <th>4</th>\n",
       "      <td>3007858</td>\n",
       "      <td>196724</td>\n",
       "      <td>2</td>\n",
       "      <td>4</td>\n",
       "      <td>12</td>\n",
       "      <td>17.0</td>\n",
       "    </tr>\n",
       "  </tbody>\n",
       "</table>\n",
       "</div>"
      ],
      "text/plain": [
       "   order_id  user_id  order_number  order_dow  order_hour_of_day  \\\n",
       "0   1515936   183418            11          6                 13   \n",
       "1   1690866   163593             5          5                 12   \n",
       "2   1454967    39980             4          5                 19   \n",
       "3   1768857    82516            56          0                 20   \n",
       "4   3007858   196724             2          4                 12   \n",
       "\n",
       "   days_since_prior_order  \n",
       "0                    30.0  \n",
       "1                     9.0  \n",
       "2                     2.0  \n",
       "3                    10.0  \n",
       "4                    17.0  "
      ]
     },
     "execution_count": 2,
     "metadata": {},
     "output_type": "execute_result"
    }
   ],
   "source": [
    "df_instacart_orders = pd.read_csv('/datasets/instacart_orders.csv', sep = ';') #properly separated values\n",
    "df_instacart_orders.head()"
   ]
  },
  {
   "cell_type": "code",
   "execution_count": 3,
   "id": "ad36396d",
   "metadata": {},
   "outputs": [
    {
     "data": {
      "text/html": [
       "<div>\n",
       "<style scoped>\n",
       "    .dataframe tbody tr th:only-of-type {\n",
       "        vertical-align: middle;\n",
       "    }\n",
       "\n",
       "    .dataframe tbody tr th {\n",
       "        vertical-align: top;\n",
       "    }\n",
       "\n",
       "    .dataframe thead th {\n",
       "        text-align: right;\n",
       "    }\n",
       "</style>\n",
       "<table border=\"1\" class=\"dataframe\">\n",
       "  <thead>\n",
       "    <tr style=\"text-align: right;\">\n",
       "      <th></th>\n",
       "      <th>product_id</th>\n",
       "      <th>product_name</th>\n",
       "      <th>aisle_id</th>\n",
       "      <th>department_id</th>\n",
       "    </tr>\n",
       "  </thead>\n",
       "  <tbody>\n",
       "    <tr>\n",
       "      <th>0</th>\n",
       "      <td>1</td>\n",
       "      <td>Chocolate Sandwich Cookies</td>\n",
       "      <td>61</td>\n",
       "      <td>19</td>\n",
       "    </tr>\n",
       "    <tr>\n",
       "      <th>1</th>\n",
       "      <td>2</td>\n",
       "      <td>All-Seasons Salt</td>\n",
       "      <td>104</td>\n",
       "      <td>13</td>\n",
       "    </tr>\n",
       "    <tr>\n",
       "      <th>2</th>\n",
       "      <td>3</td>\n",
       "      <td>Robust Golden Unsweetened Oolong Tea</td>\n",
       "      <td>94</td>\n",
       "      <td>7</td>\n",
       "    </tr>\n",
       "    <tr>\n",
       "      <th>3</th>\n",
       "      <td>4</td>\n",
       "      <td>Smart Ones Classic Favorites Mini Rigatoni Wit...</td>\n",
       "      <td>38</td>\n",
       "      <td>1</td>\n",
       "    </tr>\n",
       "    <tr>\n",
       "      <th>4</th>\n",
       "      <td>5</td>\n",
       "      <td>Green Chile Anytime Sauce</td>\n",
       "      <td>5</td>\n",
       "      <td>13</td>\n",
       "    </tr>\n",
       "  </tbody>\n",
       "</table>\n",
       "</div>"
      ],
      "text/plain": [
       "   product_id                                       product_name  aisle_id  \\\n",
       "0           1                         Chocolate Sandwich Cookies        61   \n",
       "1           2                                   All-Seasons Salt       104   \n",
       "2           3               Robust Golden Unsweetened Oolong Tea        94   \n",
       "3           4  Smart Ones Classic Favorites Mini Rigatoni Wit...        38   \n",
       "4           5                          Green Chile Anytime Sauce         5   \n",
       "\n",
       "   department_id  \n",
       "0             19  \n",
       "1             13  \n",
       "2              7  \n",
       "3              1  \n",
       "4             13  "
      ]
     },
     "execution_count": 3,
     "metadata": {},
     "output_type": "execute_result"
    }
   ],
   "source": [
    "df_products = pd.read_csv('/datasets/products.csv', sep=';') #properly separated values\n",
    "df_products.head()"
   ]
  },
  {
   "cell_type": "code",
   "execution_count": 4,
   "id": "ad6a1efa",
   "metadata": {},
   "outputs": [
    {
     "data": {
      "text/html": [
       "<div>\n",
       "<style scoped>\n",
       "    .dataframe tbody tr th:only-of-type {\n",
       "        vertical-align: middle;\n",
       "    }\n",
       "\n",
       "    .dataframe tbody tr th {\n",
       "        vertical-align: top;\n",
       "    }\n",
       "\n",
       "    .dataframe thead th {\n",
       "        text-align: right;\n",
       "    }\n",
       "</style>\n",
       "<table border=\"1\" class=\"dataframe\">\n",
       "  <thead>\n",
       "    <tr style=\"text-align: right;\">\n",
       "      <th></th>\n",
       "      <th>aisle_id</th>\n",
       "      <th>aisle</th>\n",
       "    </tr>\n",
       "  </thead>\n",
       "  <tbody>\n",
       "    <tr>\n",
       "      <th>0</th>\n",
       "      <td>1</td>\n",
       "      <td>prepared soups salads</td>\n",
       "    </tr>\n",
       "    <tr>\n",
       "      <th>1</th>\n",
       "      <td>2</td>\n",
       "      <td>specialty cheeses</td>\n",
       "    </tr>\n",
       "    <tr>\n",
       "      <th>2</th>\n",
       "      <td>3</td>\n",
       "      <td>energy granola bars</td>\n",
       "    </tr>\n",
       "    <tr>\n",
       "      <th>3</th>\n",
       "      <td>4</td>\n",
       "      <td>instant foods</td>\n",
       "    </tr>\n",
       "    <tr>\n",
       "      <th>4</th>\n",
       "      <td>5</td>\n",
       "      <td>marinades meat preparation</td>\n",
       "    </tr>\n",
       "  </tbody>\n",
       "</table>\n",
       "</div>"
      ],
      "text/plain": [
       "   aisle_id                       aisle\n",
       "0         1       prepared soups salads\n",
       "1         2           specialty cheeses\n",
       "2         3         energy granola bars\n",
       "3         4               instant foods\n",
       "4         5  marinades meat preparation"
      ]
     },
     "execution_count": 4,
     "metadata": {},
     "output_type": "execute_result"
    }
   ],
   "source": [
    "df_aisles = pd.read_csv('/datasets/aisles.csv', sep=';') #properly separated values\n",
    "df_aisles.head()"
   ]
  },
  {
   "cell_type": "code",
   "execution_count": 5,
   "id": "5130e05e",
   "metadata": {},
   "outputs": [
    {
     "data": {
      "text/html": [
       "<div>\n",
       "<style scoped>\n",
       "    .dataframe tbody tr th:only-of-type {\n",
       "        vertical-align: middle;\n",
       "    }\n",
       "\n",
       "    .dataframe tbody tr th {\n",
       "        vertical-align: top;\n",
       "    }\n",
       "\n",
       "    .dataframe thead th {\n",
       "        text-align: right;\n",
       "    }\n",
       "</style>\n",
       "<table border=\"1\" class=\"dataframe\">\n",
       "  <thead>\n",
       "    <tr style=\"text-align: right;\">\n",
       "      <th></th>\n",
       "      <th>department_id</th>\n",
       "      <th>department</th>\n",
       "    </tr>\n",
       "  </thead>\n",
       "  <tbody>\n",
       "    <tr>\n",
       "      <th>0</th>\n",
       "      <td>1</td>\n",
       "      <td>frozen</td>\n",
       "    </tr>\n",
       "    <tr>\n",
       "      <th>1</th>\n",
       "      <td>2</td>\n",
       "      <td>other</td>\n",
       "    </tr>\n",
       "    <tr>\n",
       "      <th>2</th>\n",
       "      <td>3</td>\n",
       "      <td>bakery</td>\n",
       "    </tr>\n",
       "    <tr>\n",
       "      <th>3</th>\n",
       "      <td>4</td>\n",
       "      <td>produce</td>\n",
       "    </tr>\n",
       "    <tr>\n",
       "      <th>4</th>\n",
       "      <td>5</td>\n",
       "      <td>alcohol</td>\n",
       "    </tr>\n",
       "  </tbody>\n",
       "</table>\n",
       "</div>"
      ],
      "text/plain": [
       "   department_id department\n",
       "0              1     frozen\n",
       "1              2      other\n",
       "2              3     bakery\n",
       "3              4    produce\n",
       "4              5    alcohol"
      ]
     },
     "execution_count": 5,
     "metadata": {},
     "output_type": "execute_result"
    }
   ],
   "source": [
    "df_departments=pd.read_csv('/datasets/departments.csv', sep=';') #properly separated values\n",
    "df_departments.head()"
   ]
  },
  {
   "cell_type": "code",
   "execution_count": 6,
   "id": "d8370c05",
   "metadata": {},
   "outputs": [
    {
     "data": {
      "text/html": [
       "<div>\n",
       "<style scoped>\n",
       "    .dataframe tbody tr th:only-of-type {\n",
       "        vertical-align: middle;\n",
       "    }\n",
       "\n",
       "    .dataframe tbody tr th {\n",
       "        vertical-align: top;\n",
       "    }\n",
       "\n",
       "    .dataframe thead th {\n",
       "        text-align: right;\n",
       "    }\n",
       "</style>\n",
       "<table border=\"1\" class=\"dataframe\">\n",
       "  <thead>\n",
       "    <tr style=\"text-align: right;\">\n",
       "      <th></th>\n",
       "      <th>order_id</th>\n",
       "      <th>product_id</th>\n",
       "      <th>add_to_cart_order</th>\n",
       "      <th>reordered</th>\n",
       "    </tr>\n",
       "  </thead>\n",
       "  <tbody>\n",
       "    <tr>\n",
       "      <th>0</th>\n",
       "      <td>2141543</td>\n",
       "      <td>11440</td>\n",
       "      <td>17.0</td>\n",
       "      <td>0</td>\n",
       "    </tr>\n",
       "    <tr>\n",
       "      <th>1</th>\n",
       "      <td>567889</td>\n",
       "      <td>1560</td>\n",
       "      <td>1.0</td>\n",
       "      <td>1</td>\n",
       "    </tr>\n",
       "    <tr>\n",
       "      <th>2</th>\n",
       "      <td>2261212</td>\n",
       "      <td>26683</td>\n",
       "      <td>1.0</td>\n",
       "      <td>1</td>\n",
       "    </tr>\n",
       "    <tr>\n",
       "      <th>3</th>\n",
       "      <td>491251</td>\n",
       "      <td>8670</td>\n",
       "      <td>35.0</td>\n",
       "      <td>1</td>\n",
       "    </tr>\n",
       "    <tr>\n",
       "      <th>4</th>\n",
       "      <td>2571142</td>\n",
       "      <td>1940</td>\n",
       "      <td>5.0</td>\n",
       "      <td>1</td>\n",
       "    </tr>\n",
       "  </tbody>\n",
       "</table>\n",
       "</div>"
      ],
      "text/plain": [
       "   order_id  product_id  add_to_cart_order  reordered\n",
       "0   2141543       11440               17.0          0\n",
       "1    567889        1560                1.0          1\n",
       "2   2261212       26683                1.0          1\n",
       "3    491251        8670               35.0          1\n",
       "4   2571142        1940                5.0          1"
      ]
     },
     "execution_count": 6,
     "metadata": {},
     "output_type": "execute_result"
    }
   ],
   "source": [
    "df_order_products = pd.read_csv('/datasets/order_products.csv', sep=';') #properly separated values\n",
    "df_order_products.head()"
   ]
  },
  {
   "cell_type": "code",
   "execution_count": 7,
   "id": "59e2090f",
   "metadata": {},
   "outputs": [
    {
     "name": "stdout",
     "output_type": "stream",
     "text": [
      "<class 'pandas.core.frame.DataFrame'>\n",
      "RangeIndex: 478967 entries, 0 to 478966\n",
      "Data columns (total 6 columns):\n",
      " #   Column                  Non-Null Count   Dtype  \n",
      "---  ------                  --------------   -----  \n",
      " 0   order_id                478967 non-null  int64  \n",
      " 1   user_id                 478967 non-null  int64  \n",
      " 2   order_number            478967 non-null  int64  \n",
      " 3   order_dow               478967 non-null  int64  \n",
      " 4   order_hour_of_day       478967 non-null  int64  \n",
      " 5   days_since_prior_order  450148 non-null  float64\n",
      "dtypes: float64(1), int64(5)\n",
      "memory usage: 21.9 MB\n",
      "\n",
      "<class 'pandas.core.frame.DataFrame'>\n",
      "RangeIndex: 49694 entries, 0 to 49693\n",
      "Data columns (total 4 columns):\n",
      " #   Column         Non-Null Count  Dtype \n",
      "---  ------         --------------  ----- \n",
      " 0   product_id     49694 non-null  int64 \n",
      " 1   product_name   48436 non-null  object\n",
      " 2   aisle_id       49694 non-null  int64 \n",
      " 3   department_id  49694 non-null  int64 \n",
      "dtypes: int64(3), object(1)\n",
      "memory usage: 1.5+ MB\n"
     ]
    }
   ],
   "source": [
    "df_instacart_orders.info()\n",
    "print()\n",
    "df_products.info()"
   ]
  },
  {
   "cell_type": "code",
   "execution_count": 8,
   "id": "6fc81694",
   "metadata": {},
   "outputs": [
    {
     "name": "stdout",
     "output_type": "stream",
     "text": [
      "<class 'pandas.core.frame.DataFrame'>\n",
      "RangeIndex: 134 entries, 0 to 133\n",
      "Data columns (total 2 columns):\n",
      " #   Column    Non-Null Count  Dtype \n",
      "---  ------    --------------  ----- \n",
      " 0   aisle_id  134 non-null    int64 \n",
      " 1   aisle     134 non-null    object\n",
      "dtypes: int64(1), object(1)\n",
      "memory usage: 2.2+ KB\n",
      "\n",
      "<class 'pandas.core.frame.DataFrame'>\n",
      "RangeIndex: 21 entries, 0 to 20\n",
      "Data columns (total 2 columns):\n",
      " #   Column         Non-Null Count  Dtype \n",
      "---  ------         --------------  ----- \n",
      " 0   department_id  21 non-null     int64 \n",
      " 1   department     21 non-null     object\n",
      "dtypes: int64(1), object(1)\n",
      "memory usage: 464.0+ bytes\n",
      "\n",
      "<class 'pandas.core.frame.DataFrame'>\n",
      "RangeIndex: 4545007 entries, 0 to 4545006\n",
      "Data columns (total 4 columns):\n",
      " #   Column             Non-Null Count    Dtype  \n",
      "---  ------             --------------    -----  \n",
      " 0   order_id           4545007 non-null  int64  \n",
      " 1   product_id         4545007 non-null  int64  \n",
      " 2   add_to_cart_order  4544171 non-null  float64\n",
      " 3   reordered          4545007 non-null  int64  \n",
      "dtypes: float64(1), int64(3)\n",
      "memory usage: 138.7 MB\n"
     ]
    }
   ],
   "source": [
    "df_aisles.info()\n",
    "print()\n",
    "df_departments.info()\n",
    "print()\n",
    "df_order_products.info(show_counts=True)"
   ]
  },
  {
   "cell_type": "markdown",
   "id": "47ac9618",
   "metadata": {},
   "source": [
    "Both the Instacart_orders and the order_products dataframes have some missing values that will have to be dealt with.\n",
    "The rest of the data frames appear to be complete. "
   ]
  },
  {
   "cell_type": "markdown",
   "id": "11e16deb",
   "metadata": {},
   "source": [
    "<div class=\"alert alert-success\"; style=\"border-left: 7px solid green\">\n",
    "<b>✅ Reviewer's comment, v. 2</b> \n",
    "    \n",
    "✔️ Well done.\n",
    "    \n",
    "\n",
    "\n",
    "<div class=\"alert alert-danger\"; style=\"border-left: 7px solid red\">\n",
    "<b>⛔️ Reviewer's comment, v. 1</b> \n",
    "\n",
    "\n",
    "\n",
    "Once you've explored the data, please write a brief summary of your observations. This will help in identifying any initial issues or insights, and understanding the structure of the dataset before moving on to deeper analysis."
   ]
  },
  {
   "cell_type": "markdown",
   "id": "07357848-dc64-4156-9cc3-01ff4365226d",
   "metadata": {},
   "source": [
    "## Find and remove duplicate values (and describe why you make your choices)"
   ]
  },
  {
   "cell_type": "markdown",
   "id": "f179f0a9",
   "metadata": {},
   "source": [
    "### `orders` data frame"
   ]
  },
  {
   "cell_type": "code",
   "execution_count": 9,
   "id": "b99297a5-405a-463d-8535-9adc3da4ad74",
   "metadata": {},
   "outputs": [
    {
     "name": "stdout",
     "output_type": "stream",
     "text": [
      "15\n"
     ]
    }
   ],
   "source": [
    "# Check for duplicated orders\n",
    "duplicates = df_instacart_orders.duplicated().sum() #Finding the number of duplicates (15)\n",
    "print(duplicates)"
   ]
  },
  {
   "cell_type": "markdown",
   "id": "a7a7486b",
   "metadata": {},
   "source": [
    "<div class=\"alert alert-success\"; style=\"border-left: 7px solid green\">\n",
    "<b>✅ Reviewer's comment, v. 2</b> \n",
    "    \n",
    "✔️ \n",
    "    \n",
    "\n",
    "\n",
    "<div class=\"alert alert-warning\"; style=\"border-left: 7px solid gold\">\n",
    "<b>⚠️ Reviewer's comment, v. 1</b> \n",
    "\n",
    "You don't need the info() method to check for the duplicates."
   ]
  },
  {
   "cell_type": "code",
   "execution_count": 10,
   "id": "0d44de5d",
   "metadata": {},
   "outputs": [
    {
     "name": "stdout",
     "output_type": "stream",
     "text": [
      "[13 12 19 20 11  8 18 15 16  9 22 10  0 14 17  1  7  6  2 21  3 23  5  4]\n",
      "       order_id  user_id  order_number  order_dow  order_hour_of_day  \\\n",
      "4838    2766110   162084            41          3                  2   \n",
      "5156    2190225   138285            18          3                  2   \n",
      "15506    553049    58599            13          3                  2   \n",
      "18420    382357   120200            19          3                  2   \n",
      "24691    690242    77357             2          3                  2   \n",
      "\n",
      "       days_since_prior_order  \n",
      "4838                     16.0  \n",
      "5156                     11.0  \n",
      "15506                     7.0  \n",
      "18420                    11.0  \n",
      "24691                     9.0  \n"
     ]
    }
   ],
   "source": [
    "# Check for all orders placed Wednesday at 2:00 AM\n",
    "print(df_instacart_orders['order_hour_of_day'].unique()) #understanding how the time values are structured\n",
    "wed_orders = df_instacart_orders[(df_instacart_orders['order_dow']==3) & (df_instacart_orders['order_hour_of_day']==2)]\n",
    "print(wed_orders.head())"
   ]
  },
  {
   "cell_type": "code",
   "execution_count": 11,
   "id": "480563c7",
   "metadata": {},
   "outputs": [],
   "source": [
    "# Remove duplicate orders\n",
    "df_instacart_orders=df_instacart_orders.drop_duplicates().reset_index(drop=True)"
   ]
  },
  {
   "cell_type": "markdown",
   "id": "97acc6a1",
   "metadata": {},
   "source": [
    "I decided to simply drop the duplicates as there's only 15 out of nearly 500k rows, the loss of data is negligeable.\n",
    "\n",
    "The wed_orders variable uses the assumption that Sunday==0, though the data doesn't explicitly say. "
   ]
  },
  {
   "cell_type": "markdown",
   "id": "8b83dcc6",
   "metadata": {},
   "source": [
    "<div class=\"alert alert-success\"; style=\"border-left: 7px solid green\">\n",
    "<b>✅ Reviewer's comment, v. 2</b> \n",
    "    \n",
    "✔️ \n",
    "    \n",
    "\n",
    "\n",
    "\n",
    "<div class=\"alert alert-warning\"; style=\"border-left: 7px solid gold\">\n",
    "<b>⚠️ Reviewer's comment, v. 1</b> \n",
    "\n",
    "Please use **Markdown** type cells for writing comments, explanations, and conclusions. Markdown cells help to structure your notebook and make your commentary more readable. In **code cells**, include only brief comments to explain specific code sections.\n",
    "\n",
    "To change the cell type to Markdown, use the toolbar at the top. Click the **`+`** button to add a new cell, then select the cell and change its type from **Raw** to **Markdown** in the dropdown menu.\n",
    "\n",
    "This will help keep your project organized and easy to follow."
   ]
  },
  {
   "cell_type": "code",
   "execution_count": 12,
   "id": "0b2396a2",
   "metadata": {},
   "outputs": [
    {
     "name": "stdout",
     "output_type": "stream",
     "text": [
      "0\n"
     ]
    }
   ],
   "source": [
    "# Double check for duplicate rows\n",
    "print(df_instacart_orders.duplicated().sum())"
   ]
  },
  {
   "cell_type": "code",
   "execution_count": 13,
   "id": "f6113ef1",
   "metadata": {},
   "outputs": [
    {
     "name": "stdout",
     "output_type": "stream",
     "text": [
      "0\n"
     ]
    }
   ],
   "source": [
    "# Double check for duplicate order IDs only\n",
    "print(df_instacart_orders['order_id'].duplicated().sum())"
   ]
  },
  {
   "cell_type": "markdown",
   "id": "5e8905ae",
   "metadata": {},
   "source": [
    "I decided to simply remove the duplicate rows as there were so few of them\n"
   ]
  },
  {
   "cell_type": "markdown",
   "id": "e2aeff33",
   "metadata": {},
   "source": [
    "<div class=\"alert alert-success\"; style=\"border-left: 7px solid green\"> <b>✅ Reviewer's comment, v. 1</b>\n",
    "\n",
    "Well done.\n",
    "\n",
    "</div>"
   ]
  },
  {
   "cell_type": "markdown",
   "id": "45e6bc46",
   "metadata": {},
   "source": [
    "### `products` data frame"
   ]
  },
  {
   "cell_type": "code",
   "execution_count": 14,
   "id": "5f526b5b-8175-46fa-a0fd-441767d50e64",
   "metadata": {},
   "outputs": [
    {
     "name": "stdout",
     "output_type": "stream",
     "text": [
      "0\n"
     ]
    }
   ],
   "source": [
    "# Check for fully duplicate rows\n",
    "print(df_products.duplicated().sum())\n"
   ]
  },
  {
   "cell_type": "code",
   "execution_count": 15,
   "id": "88daa4f4",
   "metadata": {},
   "outputs": [
    {
     "name": "stdout",
     "output_type": "stream",
     "text": [
      "0\n"
     ]
    }
   ],
   "source": [
    "# Check for just duplicate product IDs\n",
    "print(df_products['product_id'].duplicated().sum())\n"
   ]
  },
  {
   "cell_type": "code",
   "execution_count": 16,
   "id": "c773f0bf",
   "metadata": {},
   "outputs": [
    {
     "name": "stdout",
     "output_type": "stream",
     "text": [
      "<class 'pandas.core.frame.DataFrame'>\n",
      "RangeIndex: 49694 entries, 0 to 49693\n",
      "Data columns (total 4 columns):\n",
      " #   Column         Non-Null Count  Dtype \n",
      "---  ------         --------------  ----- \n",
      " 0   product_id     49694 non-null  int64 \n",
      " 1   product_name   48436 non-null  object\n",
      " 2   aisle_id       49694 non-null  int64 \n",
      " 3   department_id  49694 non-null  int64 \n",
      "dtypes: int64(3), object(1)\n",
      "memory usage: 1.5+ MB\n",
      "\n",
      "1361\n"
     ]
    }
   ],
   "source": [
    "# Check for just duplicate product names (convert names to lowercase to compare better)\n",
    "df_products.info()\n",
    "df_products['product_name']= df_products['product_name'].str.lower()\n",
    "print()\n",
    "print(df_products['product_name'].duplicated().sum())"
   ]
  },
  {
   "cell_type": "code",
   "execution_count": 17,
   "id": "01efd02e",
   "metadata": {},
   "outputs": [
    {
     "name": "stdout",
     "output_type": "stream",
     "text": [
      "104\n"
     ]
    }
   ],
   "source": [
    "# Check for duplicate product names that aren't missing\n",
    "product_duplicates = df_products[df_products['product_name'].notna()]\n",
    "\n",
    "print(product_duplicates['product_name'].duplicated().sum())\n"
   ]
  },
  {
   "cell_type": "markdown",
   "id": "685a06fb",
   "metadata": {},
   "source": [
    "<div class=\"alert alert-warning\"; style=\"border-left: 7px solid gold\">\n",
    "<b>⚠️ Reviewer's comment, v. 2</b> \n",
    "\n",
    "\n",
    "NaN is not equal to NaN, so you cannot use the condition above to filter out non NaN product names. Please see below how to do this correctly. Now you can see that most of the duplicates are missing values (they are considered duplicates, yes).\n",
    "<div class=\"alert alert-danger\"; style=\"border-left: 7px solid red\">\n",
    "<b>⛔️ Reviewer's comment, v. 1</b> \n",
    "\n",
    "\n",
    "`NaN` is not a text value, so you cannot filter them out this way. Please use `isna()` or `notna()` to select the rows with missing values.\n",
    "\n",
    "</div>\n"
   ]
  },
  {
   "cell_type": "code",
   "execution_count": 18,
   "id": "7da08112",
   "metadata": {},
   "outputs": [
    {
     "data": {
      "text/plain": [
       "False"
      ]
     },
     "execution_count": 18,
     "metadata": {},
     "output_type": "execute_result"
    }
   ],
   "source": [
    "# Added by reviewer \n",
    "\n",
    "import numpy as np\n",
    "\n",
    "np.NaN == np.NaN #NaN is not equal to NaN"
   ]
  },
  {
   "cell_type": "code",
   "execution_count": 19,
   "id": "99291816",
   "metadata": {},
   "outputs": [
    {
     "name": "stdout",
     "output_type": "stream",
     "text": [
      "104\n"
     ]
    }
   ],
   "source": [
    "#Added by reviewer\n",
    "\n",
    "product_duplicates = df_products[df_products['product_name'].notna()]\n",
    "\n",
    "print(product_duplicates['product_name'].duplicated().sum())\n",
    "\n"
   ]
  },
  {
   "cell_type": "markdown",
   "id": "9da8d293",
   "metadata": {},
   "source": [
    "It appears that there are only 104 duplicates that are of non-null value. The majority of the duplicates are coming from missing values. "
   ]
  },
  {
   "cell_type": "markdown",
   "id": "60f30db1",
   "metadata": {},
   "source": [
    "### `departments` data frame"
   ]
  },
  {
   "cell_type": "code",
   "execution_count": 20,
   "id": "fb410ad4-0fbf-4b80-bb09-23fdea79afe3",
   "metadata": {},
   "outputs": [
    {
     "name": "stdout",
     "output_type": "stream",
     "text": [
      "0\n"
     ]
    }
   ],
   "source": [
    "print(df_departments.duplicated().sum())"
   ]
  },
  {
   "cell_type": "code",
   "execution_count": 21,
   "id": "332b12bb",
   "metadata": {},
   "outputs": [
    {
     "name": "stdout",
     "output_type": "stream",
     "text": [
      "<class 'pandas.core.frame.DataFrame'>\n",
      "RangeIndex: 21 entries, 0 to 20\n",
      "Data columns (total 2 columns):\n",
      " #   Column         Non-Null Count  Dtype \n",
      "---  ------         --------------  ----- \n",
      " 0   department_id  21 non-null     int64 \n",
      " 1   department     21 non-null     object\n",
      "dtypes: int64(1), object(1)\n",
      "memory usage: 464.0+ bytes\n"
     ]
    }
   ],
   "source": [
    "df_departments.info()\n"
   ]
  },
  {
   "cell_type": "markdown",
   "id": "bd30d78e",
   "metadata": {},
   "source": [
    "No duplicates here"
   ]
  },
  {
   "cell_type": "markdown",
   "id": "889349c1",
   "metadata": {},
   "source": [
    "### `aisles` data frame"
   ]
  },
  {
   "cell_type": "code",
   "execution_count": 22,
   "id": "9da89fb9-4679-40f5-ad0d-c34df753a3f8",
   "metadata": {},
   "outputs": [
    {
     "name": "stdout",
     "output_type": "stream",
     "text": [
      "<class 'pandas.core.frame.DataFrame'>\n",
      "RangeIndex: 134 entries, 0 to 133\n",
      "Data columns (total 2 columns):\n",
      " #   Column    Non-Null Count  Dtype \n",
      "---  ------    --------------  ----- \n",
      " 0   aisle_id  134 non-null    int64 \n",
      " 1   aisle     134 non-null    object\n",
      "dtypes: int64(1), object(1)\n",
      "memory usage: 2.2+ KB\n"
     ]
    }
   ],
   "source": [
    "df_aisles.info()"
   ]
  },
  {
   "cell_type": "code",
   "execution_count": 23,
   "id": "da7c2822",
   "metadata": {},
   "outputs": [
    {
     "name": "stdout",
     "output_type": "stream",
     "text": [
      "0\n"
     ]
    }
   ],
   "source": [
    "print(df_aisles.duplicated().sum())"
   ]
  },
  {
   "cell_type": "markdown",
   "id": "ac63826f",
   "metadata": {},
   "source": [
    "No duplicates here"
   ]
  },
  {
   "cell_type": "markdown",
   "id": "8c75da7a",
   "metadata": {},
   "source": [
    "<div class=\"alert alert-success\"; style=\"border-left: 7px solid green\"> <b>✅ Reviewer's comment, v. 1</b>\n",
    "\n",
    "Yes, you are right.\n",
    "\n",
    "</div>"
   ]
  },
  {
   "cell_type": "markdown",
   "id": "274cd06a",
   "metadata": {},
   "source": [
    "### `order_products` data frame"
   ]
  },
  {
   "cell_type": "code",
   "execution_count": 24,
   "id": "52326689-84a8-4b8f-a881-7c68780f62c9",
   "metadata": {},
   "outputs": [
    {
     "name": "stdout",
     "output_type": "stream",
     "text": [
      "0\n",
      "<class 'pandas.core.frame.DataFrame'>\n",
      "RangeIndex: 4545007 entries, 0 to 4545006\n",
      "Data columns (total 4 columns):\n",
      " #   Column             Dtype  \n",
      "---  ------             -----  \n",
      " 0   order_id           int64  \n",
      " 1   product_id         int64  \n",
      " 2   add_to_cart_order  float64\n",
      " 3   reordered          int64  \n",
      "dtypes: float64(1), int64(3)\n",
      "memory usage: 138.7 MB\n"
     ]
    }
   ],
   "source": [
    "# Check for fullly duplicate rows\n",
    "print(df_order_products.duplicated().sum())\n",
    "df_order_products.info()"
   ]
  },
  {
   "cell_type": "code",
   "execution_count": 25,
   "id": "7b861391",
   "metadata": {},
   "outputs": [
    {
     "name": "stdout",
     "output_type": "stream",
     "text": [
      "0\n"
     ]
    }
   ],
   "source": [
    "# Double check for any other tricky duplicates\n",
    "print(df_order_products[['order_id','product_id']].duplicated().sum())"
   ]
  },
  {
   "cell_type": "markdown",
   "id": "afcb77a1",
   "metadata": {},
   "source": [
    "<div class=\"alert alert-success\"; style=\"border-left: 7px solid green\">\n",
    "<b>✅ Reviewer's comment, v. 2</b> \n",
    "    \n",
    "✔️ \n",
    "    \n",
    "\n",
    "\n",
    "<div class=\"alert alert-danger\"; style=\"border-left: 7px solid red\">\n",
    "<b>⛔️ Reviewer's comment, v. 1</b> \n",
    "\n",
    "\n",
    "When checking for duplicates, it's important to look beyond full duplicates and also verify the uniqueness of combinations that should be unique. In this case, we need to ensure that there are no repeated combinations of `order_id` and `product_id`. Could you please do that?"
   ]
  },
  {
   "cell_type": "markdown",
   "id": "0b890492",
   "metadata": {},
   "source": [
    "There doesn't seem to be any duplicates."
   ]
  },
  {
   "cell_type": "markdown",
   "id": "1e46de76",
   "metadata": {},
   "source": [
    "## Find and remove missing values\n"
   ]
  },
  {
   "cell_type": "markdown",
   "id": "c0aebd78",
   "metadata": {},
   "source": [
    "### `products` data frame"
   ]
  },
  {
   "cell_type": "code",
   "execution_count": 26,
   "id": "fe4a8b0f",
   "metadata": {},
   "outputs": [
    {
     "name": "stdout",
     "output_type": "stream",
     "text": [
      "product_id          0\n",
      "product_name     1258\n",
      "aisle_id            0\n",
      "department_id       0\n",
      "dtype: int64\n"
     ]
    }
   ],
   "source": [
    "print(df_products.isna().sum())\n"
   ]
  },
  {
   "cell_type": "code",
   "execution_count": 27,
   "id": "e96167bc",
   "metadata": {},
   "outputs": [
    {
     "name": "stdout",
     "output_type": "stream",
     "text": [
      "       product_id product_name  aisle_id  department_id\n",
      "37             38          NaN       100             21\n",
      "71             72          NaN       100             21\n",
      "109           110          NaN       100             21\n",
      "296           297          NaN       100             21\n",
      "416           417          NaN       100             21\n",
      "...           ...          ...       ...            ...\n",
      "49552       49553          NaN       100             21\n",
      "49574       49575          NaN       100             21\n",
      "49640       49641          NaN       100             21\n",
      "49663       49664          NaN       100             21\n",
      "49668       49669          NaN       100             21\n",
      "\n",
      "[1258 rows x 4 columns]\n"
     ]
    }
   ],
   "source": [
    "# Are all of the missing product names associated with aisle ID 100?\n",
    "aisles = df_products[(df_products['aisle_id']==100) & (df_products['product_name'].isna())]\n",
    "print(aisles)"
   ]
  },
  {
   "cell_type": "code",
   "execution_count": 28,
   "id": "8fd0a541",
   "metadata": {},
   "outputs": [
    {
     "name": "stdout",
     "output_type": "stream",
     "text": [
      "       product_id product_name  aisle_id  department_id\n",
      "37             38          NaN       100             21\n",
      "71             72          NaN       100             21\n",
      "109           110          NaN       100             21\n",
      "296           297          NaN       100             21\n",
      "416           417          NaN       100             21\n",
      "...           ...          ...       ...            ...\n",
      "49552       49553          NaN       100             21\n",
      "49574       49575          NaN       100             21\n",
      "49640       49641          NaN       100             21\n",
      "49663       49664          NaN       100             21\n",
      "49668       49669          NaN       100             21\n",
      "\n",
      "[1258 rows x 4 columns]\n"
     ]
    }
   ],
   "source": [
    "# Are all of the missing product names associated with department ID 21?\n",
    "department = df_products[(df_products['department_id']==21)&(df_products['product_name'].isna())]\n",
    "print(department)"
   ]
  },
  {
   "cell_type": "code",
   "execution_count": 29,
   "id": "325c3464",
   "metadata": {},
   "outputs": [
    {
     "name": "stdout",
     "output_type": "stream",
     "text": [
      "    department_id department\n",
      "20             21    missing\n",
      "\n",
      "    aisle_id    aisle\n",
      "99       100  missing\n"
     ]
    }
   ],
   "source": [
    "# What is this ailse and department?\n",
    "dept = df_departments[df_departments['department_id']==21]\n",
    "aisle100=df_aisles[df_aisles['aisle_id']==100]\n",
    "\n",
    "print(dept)\n",
    "\n",
    "print()\n",
    "\n",
    "print(aisle100)\n"
   ]
  },
  {
   "cell_type": "markdown",
   "id": "f9439ec5",
   "metadata": {},
   "source": [
    "<div class=\"alert alert-success\"; style=\"border-left: 7px solid green\">\n",
    "<b>✅ Reviewer's comment, v. 3</b> \n",
    "    \n",
    "✔️ \n",
    "    \n",
    "\n",
    "\n",
    "<div class=\"alert alert-danger\"; style=\"border-left: 7px solid red\">\n",
    "<b>⛔️ Reviewer's comment, v. 2</b> \n",
    "\n",
    "Department 21 name should be output from the dataframe with departments, not aisles.\n",
    "    \n",
    "<div class=\"alert alert-danger\" style=\"border-left: 7px solid red\">\n",
    "<b>⛔️ Reviewer's comment, v. 1</b> \n",
    "\n",
    "You need to display the **department** and **aisle** names directly from the relevant dataframes that contain this information. "
   ]
  },
  {
   "cell_type": "code",
   "execution_count": 30,
   "id": "6b295120",
   "metadata": {},
   "outputs": [
    {
     "name": "stdout",
     "output_type": "stream",
     "text": [
      "0\n",
      "     product_id product_name  aisle_id  department_id\n",
      "37           38      Unknown       100             21\n",
      "71           72      Unknown       100             21\n",
      "109         110      Unknown       100             21\n",
      "296         297      Unknown       100             21\n",
      "416         417      Unknown       100             21\n"
     ]
    }
   ],
   "source": [
    "# Fill missing product names with 'Unknown'\n",
    "df_products['product_name']=df_products['product_name'].fillna('Unknown')\n",
    "print(df_products['product_name'].isna().sum())\n",
    "print(df_products[df_products['product_name']=='Unknown'].head())"
   ]
  },
  {
   "cell_type": "markdown",
   "id": "fc70e5ad",
   "metadata": {},
   "source": [
    "1. It appears that all the missing values come from both aisle 100 and department 21.\n",
    "3. Both aisle 100 and department 21 are missing. \n",
    "2. Product names for aisle 100 and dept 21 are verified to have been replaced with 'Unknown'.\n"
   ]
  },
  {
   "cell_type": "markdown",
   "id": "2327d655",
   "metadata": {},
   "source": [
    "<div class=\"alert alert-success\"; style=\"border-left: 7px solid green\"> <b>✅ Reviewer's comment, v. 1</b>\n",
    "\n",
    "Great job, except for the minor comment above.\n",
    "\n",
    "</div>"
   ]
  },
  {
   "cell_type": "markdown",
   "id": "7eb45c86",
   "metadata": {},
   "source": [
    "### `orders` data frame"
   ]
  },
  {
   "cell_type": "code",
   "execution_count": 31,
   "id": "93e41d96",
   "metadata": {},
   "outputs": [
    {
     "name": "stdout",
     "output_type": "stream",
     "text": [
      "order_id                      0\n",
      "user_id                       0\n",
      "order_number                  0\n",
      "order_dow                     0\n",
      "order_hour_of_day             0\n",
      "days_since_prior_order    28817\n",
      "dtype: int64\n"
     ]
    }
   ],
   "source": [
    "#df_instacart_orders.info()\n",
    "print(df_instacart_orders.isna().sum())"
   ]
  },
  {
   "cell_type": "markdown",
   "id": "e3c5f42e",
   "metadata": {},
   "source": [
    "<div class=\"alert alert-success\"; style=\"border-left: 7px solid green\">\n",
    "<b>✅ Reviewer's comment, v. 2</b> \n",
    "    \n",
    "✔️ \n",
    "    \n",
    "\n",
    "\n",
    "<div class=\"alert alert-danger\"; style=\"border-left: 7px solid red\">\n",
    "<b>⛔️ Reviewer's comment, v. 1</b> \n",
    "\n",
    "Please start with checking the number of the missing values in the dataframe."
   ]
  },
  {
   "cell_type": "code",
   "execution_count": 32,
   "id": "166e5a86",
   "metadata": {},
   "outputs": [
    {
     "name": "stdout",
     "output_type": "stream",
     "text": [
      "order_id                  0\n",
      "user_id                   0\n",
      "order_number              0\n",
      "order_dow                 0\n",
      "order_hour_of_day         0\n",
      "days_since_prior_order    0\n",
      "dtype: int64\n"
     ]
    }
   ],
   "source": [
    "# Are there any missing values where it's not a customer's first order?\n",
    "missing = df_instacart_orders[df_instacart_orders['order_number']!=1] #applied a logical condition\n",
    "print(missing.isna().sum())#checking for missing values\n"
   ]
  },
  {
   "cell_type": "markdown",
   "id": "8a1d7c78",
   "metadata": {},
   "source": [
    "\n",
    "<div class=\"alert alert-success\"; style=\"border-left: 7px solid green\">\n",
    "<b>✅ Reviewer's comment, v. 3</b> \n",
    "    \n",
    "✔️ Yes, all the orders with missing values in `days_since_prior_order` are customers first orders, so the missing values are logical and don't need to be filled in.\n",
    "    \n",
    "\n",
    "\n",
    "<div class=\"alert alert-danger\"; style=\"border-left: 7px solid red\">\n",
    "<b>⛔️ Reviewer's comment, v. 3</b> \n",
    "\n",
    "\n",
    "Could you please make this check again. The first line of code is correct, but then you overwrote the result by saving the data about missing values into `missing` variable. Please after the first line, just try to check the number of the missing values in `missing` dataframe. And update the conclusion.    \n",
    "\n",
    "\n",
    "<div class=\"alert alert-danger\"; style=\"border-left: 7px solid red\">\n",
    "<b>⛔️ Reviewer's comment, v. 1</b> \n",
    "\n",
    "\n",
    "\n",
    "The customer's first order is the one where `order_number == 1`. Could you please check whether all the missing values in `days_since_prior_order` correspond to such orders?\n",
    "</div>"
   ]
  },
  {
   "cell_type": "markdown",
   "id": "4e23d089",
   "metadata": {},
   "source": [
    "There don't appear to me any missing values where it's not a the customers first order."
   ]
  },
  {
   "cell_type": "markdown",
   "id": "046452e2",
   "metadata": {},
   "source": [
    "<div class=\"alert alert-success\"; style=\"border-left: 7px solid green\">\n",
    "<b>✅ Reviewer's comment, v. 3</b> \n",
    "    \n",
    "✔️ \n",
    "    \n",
    "\n",
    "\n",
    "\n",
    "\n",
    "<div class=\"alert alert-danger\"; style=\"border-left: 7px solid red\">\n",
    "<b>⛔️ Reviewer's comment, v. 2</b> \n",
    "\n",
    "Could you please correct your conclusion?"
   ]
  },
  {
   "cell_type": "markdown",
   "id": "69dc9ca4",
   "metadata": {},
   "source": [
    "### `order_products` data frame"
   ]
  },
  {
   "cell_type": "code",
   "execution_count": 33,
   "id": "b8240253",
   "metadata": {},
   "outputs": [
    {
     "name": "stdout",
     "output_type": "stream",
     "text": [
      "order_id               0\n",
      "product_id             0\n",
      "add_to_cart_order    836\n",
      "reordered              0\n",
      "dtype: int64\n"
     ]
    }
   ],
   "source": [
    "print(df_order_products.isna().sum())"
   ]
  },
  {
   "cell_type": "markdown",
   "id": "208a3290",
   "metadata": {},
   "source": [
    "<div class=\"alert alert-success\"; style=\"border-left: 7px solid green\">\n",
    "<b>✅ Reviewer's comment, v. 2</b> \n",
    "    \n",
    "✔️ \n",
    "    \n",
    "\n",
    "\n",
    "<div class=\"alert alert-danger\"; style=\"border-left: 7px solid red\">\n",
    "<b>⛔️ Reviewer's comment, v. 1</b> \n",
    "\n",
    "Please start with checking the number of the missing values in the dataframe."
   ]
  },
  {
   "cell_type": "code",
   "execution_count": 34,
   "id": "9a78e5ee",
   "metadata": {},
   "outputs": [
    {
     "name": "stdout",
     "output_type": "stream",
     "text": [
      "The minimum values are: order_id             4.0\n",
      "product_id           1.0\n",
      "add_to_cart_order    1.0\n",
      "reordered            0.0\n",
      "dtype: float64\n",
      "\n",
      "The maximum values are: order_id             3421079.0\n",
      "product_id             49694.0\n",
      "add_to_cart_order         64.0\n",
      "reordered                  1.0\n",
      "dtype: float64\n"
     ]
    }
   ],
   "source": [
    "# What are the min and max values in this column?\n",
    "order_min = df_order_products.min()\n",
    "order_max = df_order_products.max()\n",
    "print(\"The minimum values are:\", order_min)\n",
    "print()\n",
    "print(\"The maximum values are:\", order_max)"
   ]
  },
  {
   "cell_type": "code",
   "execution_count": 35,
   "id": "ab9d0c2b",
   "metadata": {},
   "outputs": [],
   "source": [
    "# Save all order IDs with at least one missing value in 'add_to_cart_order'\n",
    "order_ids= df_order_products[df_order_products['add_to_cart_order'].isna()]['order_id'].tolist()\n",
    "\n",
    "new_df = df_order_products[df_order_products['order_id'].isin(order_ids)]\n",
    "\n",
    "new_df = new_df.groupby('order_id').size()"
   ]
  },
  {
   "cell_type": "code",
   "execution_count": 36,
   "id": "54c31695",
   "metadata": {},
   "outputs": [
    {
     "name": "stdout",
     "output_type": "stream",
     "text": [
      "65\n"
     ]
    }
   ],
   "source": [
    "# Do all orders with missing values have more than 64 products?\n",
    "print(new_df.min())"
   ]
  },
  {
   "cell_type": "code",
   "execution_count": 37,
   "id": "78d300a2",
   "metadata": {},
   "outputs": [
    {
     "data": {
      "text/plain": [
       "65"
      ]
     },
     "execution_count": 37,
     "metadata": {},
     "output_type": "execute_result"
    }
   ],
   "source": [
    "# Added by reviewer\n",
    "\n",
    "order_ids = df_order_products[df_order_products['add_to_cart_order'].isna()]['order_id'].tolist()\n",
    "\n",
    "new_df = df_order_products[df_order_products['order_id'].isin(order_ids)]\n",
    "\n",
    "new_df = new_df.groupby('order_id').size()\n",
    "\n",
    "new_df.min()"
   ]
  },
  {
   "cell_type": "markdown",
   "id": "3a89a4ed",
   "metadata": {},
   "source": [
    "Yes, the minimum order size for orders with missing values is 65. "
   ]
  },
  {
   "cell_type": "markdown",
   "id": "25fdceb1",
   "metadata": {},
   "source": [
    "<div class=\"alert alert-warning\"; style=\"border-left: 7px solid gold\">\n",
    "<b>⚠️ Reviewer's comment, v. 3</b> \n",
    "\n",
    "Please see the solution above.\n",
    "    \n",
    "We can see that in the dataset we have a maximum of 64 as the add-to-cart-order number. And all the orders with missing values in this field contain a minimum of 65 items (more than 64 items). So, we obviously have a problem of assigning an add-to-cart-order number if the item is added to the cart after 64th. This is some technical issue. In real life we would need to report it to a relevant team to get it fixed.\n",
    "    \n",
    "<div class=\"alert alert-danger\"; style=\"border-left: 7px solid red\">\n",
    "<b>⛔️ Reviewer's comment, v. 2</b> \n",
    "\n",
    "Up to creating `new_df` everything is correct. But afterwards, you need to group `new_df` by order_id and check the size of each order (you can use `size()`, `count()`, `value_counts()` function to do that).\n",
    "    \n",
    "<div class=\"alert alert-danger\"; style=\"border-left: 7px solid red\">\n",
    "<b>⛔️ Reviewer's comment, v. 1</b> \n",
    "\n",
    "To answer the question you need to: \n",
    "    \n",
    "1. Save the IDs of the orders with missing `add_to_cart_order` to a list. \n",
    "2. Select all the entries attributed to those order IDs into a separate dataframe.\n",
    "3. Group this new dataframe by order ID and check sizes of those groups - to find the minimum size.\n",
    "    \n",
    "Could you please try to do this?"
   ]
  },
  {
   "cell_type": "code",
   "execution_count": 38,
   "id": "7a987d08",
   "metadata": {},
   "outputs": [
    {
     "data": {
      "text/plain": [
       "dtype('int64')"
      ]
     },
     "execution_count": 38,
     "metadata": {},
     "output_type": "execute_result"
    }
   ],
   "source": [
    "# Replace missing values with 999 and convert column to integer type\n",
    "df_order_products['add_to_cart_order'] = df_order_products['add_to_cart_order'].fillna(999)\n",
    "df_order_products['add_to_cart_order'] = df_order_products['add_to_cart_order'].astype('int64')\n",
    "df_order_products['add_to_cart_order'].dtypes"
   ]
  },
  {
   "cell_type": "markdown",
   "id": "fea4bcc7",
   "metadata": {},
   "source": [
    "Found minimum and maximum values for this datframe.\n",
    "Saved all order IDs that had missing values\n",
    "replaced missing values with 999 and converted 'add_to_cart_order' to int64"
   ]
  },
  {
   "cell_type": "markdown",
   "id": "turkish-kidney",
   "metadata": {},
   "source": [
    "# [A] Easy (must complete all to pass)"
   ]
  },
  {
   "cell_type": "markdown",
   "id": "short-capability",
   "metadata": {},
   "source": [
    "### [A1] Verify that the `'order_hour_of_day'` and `'order_dow'` values in the `orders` tables are sensible (i.e. `'order_hour_of_day'` ranges from 0 to 23 and `'order_dow'` ranges from 0 to 6)"
   ]
  },
  {
   "cell_type": "code",
   "execution_count": 39,
   "id": "growing-fruit",
   "metadata": {},
   "outputs": [
    {
     "name": "stdout",
     "output_type": "stream",
     "text": [
      "<class 'pandas.core.frame.DataFrame'>\n",
      "RangeIndex: 478952 entries, 0 to 478951\n",
      "Data columns (total 6 columns):\n",
      " #   Column                  Non-Null Count   Dtype  \n",
      "---  ------                  --------------   -----  \n",
      " 0   order_id                478952 non-null  int64  \n",
      " 1   user_id                 478952 non-null  int64  \n",
      " 2   order_number            478952 non-null  int64  \n",
      " 3   order_dow               478952 non-null  int64  \n",
      " 4   order_hour_of_day       478952 non-null  int64  \n",
      " 5   days_since_prior_order  450135 non-null  float64\n",
      "dtypes: float64(1), int64(5)\n",
      "memory usage: 21.9 MB\n",
      "\n"
     ]
    },
    {
     "data": {
      "text/html": [
       "<div>\n",
       "<style scoped>\n",
       "    .dataframe tbody tr th:only-of-type {\n",
       "        vertical-align: middle;\n",
       "    }\n",
       "\n",
       "    .dataframe tbody tr th {\n",
       "        vertical-align: top;\n",
       "    }\n",
       "\n",
       "    .dataframe thead th {\n",
       "        text-align: right;\n",
       "    }\n",
       "</style>\n",
       "<table border=\"1\" class=\"dataframe\">\n",
       "  <thead>\n",
       "    <tr style=\"text-align: right;\">\n",
       "      <th></th>\n",
       "      <th>order_id</th>\n",
       "      <th>user_id</th>\n",
       "      <th>order_number</th>\n",
       "      <th>order_dow</th>\n",
       "      <th>order_hour_of_day</th>\n",
       "      <th>days_since_prior_order</th>\n",
       "    </tr>\n",
       "  </thead>\n",
       "  <tbody>\n",
       "    <tr>\n",
       "      <th>0</th>\n",
       "      <td>1515936</td>\n",
       "      <td>183418</td>\n",
       "      <td>11</td>\n",
       "      <td>6</td>\n",
       "      <td>13</td>\n",
       "      <td>30.0</td>\n",
       "    </tr>\n",
       "    <tr>\n",
       "      <th>1</th>\n",
       "      <td>1690866</td>\n",
       "      <td>163593</td>\n",
       "      <td>5</td>\n",
       "      <td>5</td>\n",
       "      <td>12</td>\n",
       "      <td>9.0</td>\n",
       "    </tr>\n",
       "    <tr>\n",
       "      <th>2</th>\n",
       "      <td>1454967</td>\n",
       "      <td>39980</td>\n",
       "      <td>4</td>\n",
       "      <td>5</td>\n",
       "      <td>19</td>\n",
       "      <td>2.0</td>\n",
       "    </tr>\n",
       "    <tr>\n",
       "      <th>3</th>\n",
       "      <td>1768857</td>\n",
       "      <td>82516</td>\n",
       "      <td>56</td>\n",
       "      <td>0</td>\n",
       "      <td>20</td>\n",
       "      <td>10.0</td>\n",
       "    </tr>\n",
       "    <tr>\n",
       "      <th>4</th>\n",
       "      <td>3007858</td>\n",
       "      <td>196724</td>\n",
       "      <td>2</td>\n",
       "      <td>4</td>\n",
       "      <td>12</td>\n",
       "      <td>17.0</td>\n",
       "    </tr>\n",
       "  </tbody>\n",
       "</table>\n",
       "</div>"
      ],
      "text/plain": [
       "   order_id  user_id  order_number  order_dow  order_hour_of_day  \\\n",
       "0   1515936   183418            11          6                 13   \n",
       "1   1690866   163593             5          5                 12   \n",
       "2   1454967    39980             4          5                 19   \n",
       "3   1768857    82516            56          0                 20   \n",
       "4   3007858   196724             2          4                 12   \n",
       "\n",
       "   days_since_prior_order  \n",
       "0                    30.0  \n",
       "1                     9.0  \n",
       "2                     2.0  \n",
       "3                    10.0  \n",
       "4                    17.0  "
      ]
     },
     "execution_count": 39,
     "metadata": {},
     "output_type": "execute_result"
    }
   ],
   "source": [
    "df_instacart_orders.info()\n",
    "print()\n",
    "df_instacart_orders.head()"
   ]
  },
  {
   "cell_type": "code",
   "execution_count": 40,
   "id": "accessory-malaysia",
   "metadata": {},
   "outputs": [
    {
     "name": "stdout",
     "output_type": "stream",
     "text": [
      "order_hour_of_day values: [0, 1, 2, 3, 4, 5, 6, 7, 8, 9, 10, 11, 12, 13, 14, 15, 16, 17, 18, 19, 20, 21, 22, 23]\n",
      "\n",
      "order_dow values: [0, 1, 2, 3, 4, 5, 6]\n"
     ]
    }
   ],
   "source": [
    "print(\"order_hour_of_day values:\", sorted(df_instacart_orders['order_hour_of_day'].unique()))\n",
    "#all values in ['order_hour_of_day'] are between 0 and 23\n",
    "print()\n",
    "print(\"order_dow values:\", sorted(df_instacart_orders['order_dow'].unique()))\n",
    "#all values in ['order_dow'] are between 0 and 6"
   ]
  },
  {
   "cell_type": "markdown",
   "id": "a6743a70",
   "metadata": {},
   "source": [
    "### [A2] What time of day do people shop for groceries?"
   ]
  },
  {
   "cell_type": "code",
   "execution_count": 41,
   "id": "a36cca27",
   "metadata": {},
   "outputs": [
    {
     "name": "stdout",
     "output_type": "stream",
     "text": [
      "0      3180\n",
      "1      1763\n",
      "2       989\n",
      "3       770\n",
      "4       765\n",
      "5      1371\n",
      "6      4215\n",
      "7     13043\n",
      "8     25024\n",
      "9     35896\n",
      "10    40578\n",
      "11    40032\n",
      "12    38034\n",
      "13    39007\n",
      "14    39631\n",
      "15    39789\n",
      "16    38112\n",
      "17    31930\n",
      "18    25510\n",
      "19    19547\n",
      "20    14624\n",
      "21    11019\n",
      "22     8512\n",
      "23     5611\n",
      "Name: order_hour_of_day, dtype: int64\n",
      "\n",
      "9     35896\n",
      "10    40578\n",
      "11    40032\n",
      "12    38034\n",
      "13    39007\n",
      "14    39631\n",
      "15    39789\n",
      "16    38112\n",
      "17    31930\n",
      "Name: order_hour_of_day, dtype: int64\n",
      "\n",
      "40578\n"
     ]
    },
    {
     "data": {
      "image/png": "[encoded data removed]",
      "text/plain": [
       "<Figure size 640x480 with 1 Axes>"
      ]
     },
     "metadata": {},
     "output_type": "display_data"
    }
   ],
   "source": [
    "shop_time = df_instacart_orders['order_hour_of_day'].value_counts().sort_index() #index=hour_of_day\n",
    "print(shop_time)\n",
    "print()\n",
    "print(shop_time[shop_time > 30000].sort_index())\n",
    "print()\n",
    "print(shop_time.max())\n",
    "\n",
    "shop_time.plot(title='Time of day that people shop for groceries', xlabel='Hour of Day', ylabel='Amount of orders')\n",
    "plt.show()"
   ]
  },
  {
   "cell_type": "markdown",
   "id": "cfab1ba6",
   "metadata": {},
   "source": [
    "<div class=\"alert alert-success\"; style=\"border-left: 7px solid green\">\n",
    "<b>✅ Reviewer's comment, v. 1</b> \n",
    "    \n",
    "You've plotted an excellent chart with all required elements - a title, axes labels, scales. And made correct conclusions from it."
   ]
  },
  {
   "cell_type": "markdown",
   "id": "7958423b",
   "metadata": {},
   "source": [
    "<div class=\"alert alert-success\"; style=\"border-left: 7px solid green\">\n",
    "<b>✅ Reviewer's comment, v. 2</b> \n",
    "    \n",
    "✔️ \n",
    "    \n",
    "\n",
    "\n",
    "<div class=\"alert alert-danger\" style=\"border-left: 7px solid red\">\n",
    "<b>⛔️ Reviewer's comment, v. 1</b> \n",
    "\n",
    "Please remove the `print()` statement when using `plt.show()`. It's a function that should be executed directly, not printed.\n",
    "</div>"
   ]
  },
  {
   "cell_type": "markdown",
   "id": "11270eed",
   "metadata": {},
   "source": [
    "It appears that the most popular times of day for grocery shopping is between hours 9:00am and 5:00pm (9 and 17) with the most popular being 10:00am"
   ]
  },
  {
   "cell_type": "markdown",
   "id": "documented-command",
   "metadata": {},
   "source": [
    "### [A3] What day of the week do people shop for groceries?"
   ]
  },
  {
   "cell_type": "code",
   "execution_count": 42,
   "id": "chief-digit",
   "metadata": {},
   "outputs": [
    {
     "name": "stdout",
     "output_type": "stream",
     "text": [
      "0         6\n",
      "1         5\n",
      "2         5\n",
      "3         0\n",
      "4         4\n",
      "         ..\n",
      "478947    1\n",
      "478948    3\n",
      "478949    2\n",
      "478950    3\n",
      "478951    1\n",
      "Name: order_dow, Length: 478952, dtype: int64\n",
      "\n",
      "6\n"
     ]
    },
    {
     "data": {
      "image/png": "[encoded data removed]",
      "text/plain": [
       "<Figure size 640x480 with 1 Axes>"
      ]
     },
     "metadata": {},
     "output_type": "display_data"
    }
   ],
   "source": [
    "shop_day = df_instacart_orders['order_dow']\n",
    "print(shop_day)\n",
    "print()\n",
    "print(shop_day.max())\n",
    "\n",
    "shop_day.plot(kind='hist', bins=7, title=\"Orders Per Day of Week\")\n",
    "plt.show()"
   ]
  },
  {
   "cell_type": "markdown",
   "id": "802076fa",
   "metadata": {},
   "source": [
    "<div class=\"alert alert-success\"; style=\"border-left: 7px solid green\">\n",
    "<b>✅ Reviewer's comment, v. 2</b> \n",
    "    \n",
    "✔️ Well done.\n",
    "    \n",
    "\n",
    "\n",
    "<div class=\"alert alert-danger\" style=\"border-left: 7px solid red\">\n",
    "<b>⛔️ Reviewer's comment, v. 1</b> \n",
    "\n",
    "In this section and the one below, please ensure that you also include the corresponding charts.\n",
    "</div>"
   ]
  },
  {
   "cell_type": "markdown",
   "id": "dominant-lightning",
   "metadata": {},
   "source": [
    "Assuming that '0' is Sunday, then Sunday is the most popular day of week. \n",
    "\n",
    "However, it's possible that 0 is actually Saturday seing that days 2-6 the totals drop quite a bit (during the work week), so, day 0 may be saturday and day 1 may actually be sunday. "
   ]
  },
  {
   "cell_type": "markdown",
   "id": "cutting-concert",
   "metadata": {},
   "source": [
    "### [A4] How long do people wait until placing another order?"
   ]
  },
  {
   "cell_type": "code",
   "execution_count": 43,
   "id": "c231f523",
   "metadata": {},
   "outputs": [
    {
     "name": "stdout",
     "output_type": "stream",
     "text": [
      "The average wait time is: 11\n",
      "The maximum wait time is: 30\n",
      "The minimum wait time is: 0\n"
     ]
    }
   ],
   "source": [
    "df_instacart_orders.head()\n",
    "\n",
    "avg_wait = df_instacart_orders['days_since_prior_order'].mean()\n",
    "max_wait = df_instacart_orders['days_since_prior_order'].max()\n",
    "min_wait = df_instacart_orders['days_since_prior_order'].min()\n",
    "print(\"The average wait time is:\", avg_wait.astype(int))\n",
    "print(\"The maximum wait time is:\", max_wait.astype(int))\n",
    "print(\"The minimum wait time is:\", min_wait.astype(int))\n",
    "\n"
   ]
  },
  {
   "cell_type": "markdown",
   "id": "discrete-vertex",
   "metadata": {},
   "source": [
    "The average amount of time that people wait until placing an order is 11 days. \n",
    "However, the data shows that some people wait up to 30 days while others have placed more than one in a day. "
   ]
  },
  {
   "cell_type": "code",
   "execution_count": 44,
   "id": "exciting-fantasy",
   "metadata": {},
   "outputs": [
    {
     "data": {
      "text/plain": [
       "<AxesSubplot:title={'center':'Distribution of Days Since Last Order'}, ylabel='Frequency'>"
      ]
     },
     "execution_count": 44,
     "metadata": {},
     "output_type": "execute_result"
    },
    {
     "data": {
      "image/png": "[encoded data removed]",
      "text/plain": [
       "<Figure size 640x480 with 1 Axes>"
      ]
     },
     "metadata": {},
     "output_type": "display_data"
    }
   ],
   "source": [
    "df_instacart_orders['days_since_prior_order'].plot(kind='hist', bins=30, title='Distribution of Days Since Last Order')\n"
   ]
  },
  {
   "cell_type": "markdown",
   "id": "8d926614",
   "metadata": {},
   "source": [
    "Though the average wait time until the next order is 11 days, there is large number of people who order 30 days later which certainly skews the average quite a bit. "
   ]
  },
  {
   "cell_type": "markdown",
   "id": "05654482",
   "metadata": {},
   "source": [
    "<div class=\"alert alert-success\"; style=\"border-left: 7px solid green\">\n",
    "<b>✅ Reviewer's comment, v. 2</b> \n",
    "    \n",
    "✔️ Yes, it seems there is a weekly and monthly patterns."
   ]
  },
  {
   "cell_type": "markdown",
   "id": "tight-staff",
   "metadata": {},
   "source": [
    "# [B] Medium (must complete all to pass)"
   ]
  },
  {
   "cell_type": "markdown",
   "id": "packed-classic",
   "metadata": {},
   "source": [
    "### [B1] Is there a difference in `'order_hour_of_day'` distributions on Wednesdays and Saturdays? Plot the histograms for both days and describe the differences that you see."
   ]
  },
  {
   "cell_type": "code",
   "execution_count": 45,
   "id": "d89b8403",
   "metadata": {},
   "outputs": [],
   "source": [
    "wed_hour = df_instacart_orders[df_instacart_orders['order_dow']==3]\n",
    "sat_hour = df_instacart_orders[df_instacart_orders['order_dow']==6] \n",
    "\n"
   ]
  },
  {
   "cell_type": "code",
   "execution_count": 46,
   "id": "94e54e8a",
   "metadata": {},
   "outputs": [
    {
     "data": {
      "image/png": "[encoded data removed]",
      "text/plain": [
       "<Figure size 640x480 with 1 Axes>"
      ]
     },
     "metadata": {},
     "output_type": "display_data"
    }
   ],
   "source": [
    "wed_hour['order_hour_of_day'].plot(kind='hist', bins=24, title='Wednesday Orders VS Saturday Orders')\n",
    "sat_hour['order_hour_of_day'].plot(kind='hist', bins=24, alpha=0.6)\n",
    "plt.legend(['Wed', 'Sat'])\n",
    "plt.show()"
   ]
  },
  {
   "cell_type": "markdown",
   "id": "e4ea63be",
   "metadata": {},
   "source": [
    "<div class=\"alert alert-success\"; style=\"border-left: 7px solid green\">\n",
    "<b>✅ Reviewer's comment, v. 2</b> \n",
    "    \n",
    "✔️ You are absolutely right.\n",
    "    \n",
    "\n",
    "\n",
    "<div class=\"alert alert-danger\" style=\"border-left: 7px solid red\">\n",
    "<b>⛔️ Reviewer's comment, v. 1</b> \n",
    "\n",
    "To better understand the time periods when consumer behavior remains consistent and when it differs, it would be helpful to split the data into bins matching the number of unique values in the series (i.e., 24). Could you please make this adjustment?\n",
    "    \n",
    "   \n",
    "---\n",
    "    \n",
    "Additionally, please do not forget to use `plt.show()`.\n",
    "    \n",
    "   \n",
    "</div>"
   ]
  },
  {
   "cell_type": "code",
   "execution_count": null,
   "id": "797c90a8",
   "metadata": {},
   "outputs": [],
   "source": []
  },
  {
   "cell_type": "code",
   "execution_count": null,
   "id": "35bcea30",
   "metadata": {},
   "outputs": [],
   "source": []
  },
  {
   "cell_type": "markdown",
   "id": "charitable-congo",
   "metadata": {},
   "source": [
    "While the trend is actually very similar for both days, saturday seems to be a busier shopping day than wednesday, especially betwen the hours of 10 and 15, "
   ]
  },
  {
   "cell_type": "markdown",
   "id": "e3891143",
   "metadata": {},
   "source": [
    "### [B2] What's the distribution for the number of orders per customer?"
   ]
  },
  {
   "cell_type": "code",
   "execution_count": 47,
   "id": "d8c26c23",
   "metadata": {},
   "outputs": [
    {
     "data": {
      "image/png": "[encoded data removed]",
      "text/plain": [
       "<Figure size 640x480 with 1 Axes>"
      ]
     },
     "metadata": {},
     "output_type": "display_data"
    }
   ],
   "source": [
    "df_instacart_orders.head()\n",
    "\n",
    "df_instacart_orders['order_number'].plot(kind='hist', bins=25, title='distribution of orders per customer')\n",
    "plt.show()"
   ]
  },
  {
   "cell_type": "code",
   "execution_count": 48,
   "id": "0f11e73d",
   "metadata": {},
   "outputs": [
    {
     "name": "stdout",
     "output_type": "stream",
     "text": [
      "The average amount of orders is: 17.157562762030434\n"
     ]
    }
   ],
   "source": [
    "orders = df_instacart_orders['order_number'].mean()\n",
    "print('The average amount of orders is:', orders)"
   ]
  },
  {
   "cell_type": "markdown",
   "id": "d2eff7d5",
   "metadata": {},
   "source": [
    "The plot above shows what the distribution looks like for the amount of orders per customer. With the average amount being around 17 orders. "
   ]
  },
  {
   "cell_type": "markdown",
   "id": "3a6221e5",
   "metadata": {},
   "source": [
    "<div class=\"alert alert-success\"; style=\"border-left: 7px solid green\">\n",
    "<b>✅ Reviewer's comment, v. 2</b> \n",
    "    \n",
    "✔️ \n",
    "    \n",
    "\n",
    "\n",
    "<div class=\"alert alert-danger\"; style=\"border-left: 7px solid red\">\n",
    "<b>⛔️ Reviewer's comment, v. 1</b> \n",
    "\n",
    "You need to include a chart here."
   ]
  },
  {
   "cell_type": "markdown",
   "id": "54a0319c",
   "metadata": {},
   "source": [
    "### [B3] What are the top 20 popular products (display their id and name)?"
   ]
  },
  {
   "cell_type": "code",
   "execution_count": 49,
   "id": "exterior-arizona",
   "metadata": {},
   "outputs": [
    {
     "data": {
      "text/html": [
       "<div>\n",
       "<style scoped>\n",
       "    .dataframe tbody tr th:only-of-type {\n",
       "        vertical-align: middle;\n",
       "    }\n",
       "\n",
       "    .dataframe tbody tr th {\n",
       "        vertical-align: top;\n",
       "    }\n",
       "\n",
       "    .dataframe thead th {\n",
       "        text-align: right;\n",
       "    }\n",
       "</style>\n",
       "<table border=\"1\" class=\"dataframe\">\n",
       "  <thead>\n",
       "    <tr style=\"text-align: right;\">\n",
       "      <th></th>\n",
       "      <th>product_id</th>\n",
       "      <th>product_name</th>\n",
       "      <th>aisle_id</th>\n",
       "      <th>department_id</th>\n",
       "      <th>order_id</th>\n",
       "      <th>add_to_cart_order</th>\n",
       "      <th>reordered</th>\n",
       "    </tr>\n",
       "  </thead>\n",
       "  <tbody>\n",
       "    <tr>\n",
       "      <th>0</th>\n",
       "      <td>1</td>\n",
       "      <td>chocolate sandwich cookies</td>\n",
       "      <td>61</td>\n",
       "      <td>19</td>\n",
       "      <td>1104373</td>\n",
       "      <td>11</td>\n",
       "      <td>1</td>\n",
       "    </tr>\n",
       "    <tr>\n",
       "      <th>1</th>\n",
       "      <td>1</td>\n",
       "      <td>chocolate sandwich cookies</td>\n",
       "      <td>61</td>\n",
       "      <td>19</td>\n",
       "      <td>1774977</td>\n",
       "      <td>4</td>\n",
       "      <td>1</td>\n",
       "    </tr>\n",
       "    <tr>\n",
       "      <th>2</th>\n",
       "      <td>1</td>\n",
       "      <td>chocolate sandwich cookies</td>\n",
       "      <td>61</td>\n",
       "      <td>19</td>\n",
       "      <td>652770</td>\n",
       "      <td>10</td>\n",
       "      <td>0</td>\n",
       "    </tr>\n",
       "    <tr>\n",
       "      <th>3</th>\n",
       "      <td>1</td>\n",
       "      <td>chocolate sandwich cookies</td>\n",
       "      <td>61</td>\n",
       "      <td>19</td>\n",
       "      <td>1000035</td>\n",
       "      <td>6</td>\n",
       "      <td>1</td>\n",
       "    </tr>\n",
       "    <tr>\n",
       "      <th>4</th>\n",
       "      <td>1</td>\n",
       "      <td>chocolate sandwich cookies</td>\n",
       "      <td>61</td>\n",
       "      <td>19</td>\n",
       "      <td>1679949</td>\n",
       "      <td>9</td>\n",
       "      <td>0</td>\n",
       "    </tr>\n",
       "  </tbody>\n",
       "</table>\n",
       "</div>"
      ],
      "text/plain": [
       "   product_id                product_name  aisle_id  department_id  order_id  \\\n",
       "0           1  chocolate sandwich cookies        61             19   1104373   \n",
       "1           1  chocolate sandwich cookies        61             19   1774977   \n",
       "2           1  chocolate sandwich cookies        61             19    652770   \n",
       "3           1  chocolate sandwich cookies        61             19   1000035   \n",
       "4           1  chocolate sandwich cookies        61             19   1679949   \n",
       "\n",
       "   add_to_cart_order  reordered  \n",
       "0                 11          1  \n",
       "1                  4          1  \n",
       "2                 10          0  \n",
       "3                  6          1  \n",
       "4                  9          0  "
      ]
     },
     "execution_count": 49,
     "metadata": {},
     "output_type": "execute_result"
    }
   ],
   "source": [
    "df_order_products.head()\n",
    "\n",
    "df_order_products.head()\n",
    "df_top_20 = df_products.merge(df_order_products, on='product_id')\n",
    "df_top_20.head()"
   ]
  },
  {
   "cell_type": "code",
   "execution_count": 50,
   "id": "bbcdd20b",
   "metadata": {},
   "outputs": [
    {
     "data": {
      "text/plain": [
       "product_name              product_id\n",
       "banana                    24852         66050\n",
       "bag of organic bananas    13176         53297\n",
       "organic strawberries      21137         37039\n",
       "organic baby spinach      21903         33971\n",
       "organic hass avocado      47209         29773\n",
       "organic avocado           47766         24689\n",
       "large lemon               47626         21495\n",
       "strawberries              16797         20018\n",
       "limes                     26209         19690\n",
       "organic whole milk        27845         19600\n",
       "organic raspberries       27966         19197\n",
       "organic yellow onion      22935         15898\n",
       "organic garlic            24964         15292\n",
       "organic zucchini          45007         14584\n",
       "organic blueberries       39275         13879\n",
       "cucumber kirby            49683         13675\n",
       "organic fuji apple        28204         12544\n",
       "organic lemon             5876          12232\n",
       "apple honeycrisp organic  8277          11993\n",
       "organic grape tomatoes    40706         11781\n",
       "Name: product_id, dtype: int64"
      ]
     },
     "execution_count": 50,
     "metadata": {},
     "output_type": "execute_result"
    }
   ],
   "source": [
    "grouped=df_top_20.groupby('product_name')['product_id'].value_counts().sort_values(ascending=False)\n",
    "grouped.head(20)"
   ]
  },
  {
   "cell_type": "markdown",
   "id": "032e1c6f",
   "metadata": {},
   "source": [
    "<div class=\"alert alert-success\"; style=\"border-left: 7px solid green\">\n",
    "<b>✅ Reviewer's comment, v. 3</b> \n",
    "    \n",
    "    \n",
    "Well done, this is a correct list.\n",
    "    \n",
    "<div class=\"alert alert-danger\"; style=\"border-left: 7px solid red\">\n",
    "<b>⛔️ Reviewer's comment, v. 2</b> \n",
    "\n",
    "Please try to first merge the dataframes and only then find and display top 20. Now, the product names are incorrect.\n",
    "    \n",
    "<div class=\"alert alert-danger\"; style=\"border-left: 7px solid red\">\n",
    "<b>⛔️ Reviewer's comment, v. 1</b> \n",
    "\n",
    "You correctly found the top 20 products. Just add the product names to them from a different dataframe by using `merge()`."
   ]
  },
  {
   "cell_type": "markdown",
   "id": "7df00f47",
   "metadata": {},
   "source": []
  },
  {
   "cell_type": "markdown",
   "id": "gross-theme",
   "metadata": {},
   "source": [
    "# [C] Hard (must complete at least two to pass)"
   ]
  },
  {
   "cell_type": "markdown",
   "id": "romantic-deposit",
   "metadata": {},
   "source": [
    "### [C1] How many items do people typically buy in one order? What does the distribution look like?"
   ]
  },
  {
   "cell_type": "code",
   "execution_count": 51,
   "id": "virtual-punch",
   "metadata": {},
   "outputs": [
    {
     "data": {
      "image/png": "[encoded data removed]",
      "text/plain": [
       "<Figure size 640x480 with 1 Axes>"
      ]
     },
     "metadata": {},
     "output_type": "display_data"
    }
   ],
   "source": [
    "df_instacart_orders.head()\n",
    "df_item_count=df_order_products.groupby('order_id')['product_id'].count().sort_values(ascending=False)\n",
    "\n",
    "df_item_count.plot(kind='hist', title='Items Bought in One Order', bins=25)\n",
    "plt.show()"
   ]
  },
  {
   "cell_type": "markdown",
   "id": "6389b9f7",
   "metadata": {},
   "source": [
    "<div class=\"alert alert-success\"; style=\"border-left: 7px solid green\">\n",
    "<b>✅ Reviewer's comment, v. 3</b> \n",
    "    \n",
    "✔️ \n",
    "    \n",
    "\n",
    "\n",
    "<div class=\"alert alert-danger\"; style=\"border-left: 7px solid red\">\n",
    "<b>⛔️ Reviewer's comment, v. 2</b> \n",
    "\n",
    "Sorry, my explanation was misleading. You need to plot the distribution (use `hist()` method) for `df_item_count`. the rest is not needed. \n",
    "    \n",
    "<div class=\"alert alert-danger\"; style=\"border-left: 7px solid red\">\n",
    "<b>⛔️ Reviewer's comment, v. 1</b> \n",
    "\n",
    "You need to find a number of orders for each individual user and then visualise the distribution."
   ]
  },
  {
   "cell_type": "markdown",
   "id": "designed-mortality",
   "metadata": {},
   "source": [
    "It appears that the typical first order contains around 10 items percustomer. The plot seems to reflect this, though there are many orders that contain less than 10 items, some are well above which skews the data. "
   ]
  },
  {
   "cell_type": "markdown",
   "id": "5e6b5537",
   "metadata": {},
   "source": [
    "### [C2] What are the top 20 items that are reordered most frequently (display their names and product IDs)?"
   ]
  },
  {
   "cell_type": "code",
   "execution_count": 52,
   "id": "9374e55a",
   "metadata": {},
   "outputs": [],
   "source": [
    "df_order_products.head()\n",
    "\n",
    "df_order_products.head()\n",
    "df_top_20 = df_products.merge(df_order_products, on='product_id')\n",
    "df_top_20.head()\n",
    "\n",
    "df_top_20_reordered = df_top_20[df_top_20['reordered']==1]"
   ]
  },
  {
   "cell_type": "code",
   "execution_count": 53,
   "id": "possible-change",
   "metadata": {
    "scrolled": true
   },
   "outputs": [],
   "source": [
    "top_20_reorders = df_top_20_reordered.groupby('product_name')['product_id'].value_counts().sort_values(ascending=False)"
   ]
  },
  {
   "cell_type": "code",
   "execution_count": 54,
   "id": "professional-surfing",
   "metadata": {},
   "outputs": [
    {
     "data": {
      "text/plain": [
       "product_name              product_id\n",
       "banana                    24852         55763\n",
       "bag of organic bananas    13176         44450\n",
       "organic strawberries      21137         28639\n",
       "organic baby spinach      21903         26233\n",
       "organic hass avocado      47209         23629\n",
       "organic avocado           47766         18743\n",
       "organic whole milk        27845         16251\n",
       "large lemon               47626         15044\n",
       "organic raspberries       27966         14748\n",
       "strawberries              16797         13945\n",
       "limes                     26209         13327\n",
       "organic yellow onion      22935         11145\n",
       "organic garlic            24964         10411\n",
       "organic zucchini          45007         10076\n",
       "cucumber kirby            49683          9538\n",
       "organic fuji apple        28204          8989\n",
       "apple honeycrisp organic  8277           8836\n",
       "organic blueberries       39275          8799\n",
       "organic lemon             5876           8412\n",
       "organic half & half       49235          8389\n",
       "Name: product_id, dtype: int64"
      ]
     },
     "execution_count": 54,
     "metadata": {},
     "output_type": "execute_result"
    }
   ],
   "source": [
    "top_20_reorders.head(20)"
   ]
  },
  {
   "cell_type": "markdown",
   "id": "80e70c74",
   "metadata": {},
   "source": [
    "Looks like all top 20 products are also reordered most frequently"
   ]
  },
  {
   "cell_type": "markdown",
   "id": "79390f58",
   "metadata": {},
   "source": [
    "<div class=\"alert alert-success\"; style=\"border-left: 7px solid green\">\n",
    "<b>✅ Reviewer's comment, v. 2</b> \n",
    "    \n",
    "✔️ Excellent.\n",
    "    \n",
    "\n",
    "\n",
    "<div class=\"alert alert-danger\"; style=\"border-left: 7px solid red\">\n",
    "<b>⛔️ Reviewer's comment, v. 2</b> \n",
    "\n",
    "Here also, please try to merge the dataframes first, then select reorders and get the top 20.\n",
    "    \n",
    "<div class=\"alert alert-danger\"; style=\"border-left: 7px solid red\">\n",
    "<b>⛔️ Reviewer's comment, v. 1</b> \n",
    "\n",
    "Just select the reorders and do the same thing you did in 2.10, just add the product names."
   ]
  },
  {
   "cell_type": "markdown",
   "id": "9d312b14",
   "metadata": {},
   "source": [
    "### [C3] For each product, what proportion of its orders are reorders?"
   ]
  },
  {
   "cell_type": "code",
   "execution_count": null,
   "id": "8ae9f4b1",
   "metadata": {},
   "outputs": [],
   "source": [
    "\n"
   ]
  },
  {
   "cell_type": "code",
   "execution_count": null,
   "id": "103e7fe1",
   "metadata": {},
   "outputs": [],
   "source": []
  },
  {
   "cell_type": "code",
   "execution_count": null,
   "id": "social-individual",
   "metadata": {},
   "outputs": [],
   "source": []
  },
  {
   "cell_type": "markdown",
   "id": "subject-boxing",
   "metadata": {},
   "source": [
    "### [C4] For each customer, what proportion of their products ordered are reorders?"
   ]
  },
  {
   "cell_type": "code",
   "execution_count": null,
   "id": "medical-couple",
   "metadata": {
    "scrolled": true
   },
   "outputs": [],
   "source": []
  },
  {
   "cell_type": "code",
   "execution_count": null,
   "id": "8892e4b4",
   "metadata": {},
   "outputs": [],
   "source": []
  },
  {
   "cell_type": "markdown",
   "id": "92d35137",
   "metadata": {},
   "source": [
    "### [C5] What are the top 20 items that people put in their carts first? "
   ]
  },
  {
   "cell_type": "code",
   "execution_count": 55,
   "id": "0ae57274",
   "metadata": {
    "scrolled": true
   },
   "outputs": [],
   "source": [
    "df_top_20.head()\n",
    "top_20_incart1 = df_top_20[df_top_20['add_to_cart_order']==1]"
   ]
  },
  {
   "cell_type": "code",
   "execution_count": 56,
   "id": "forty-netherlands",
   "metadata": {
    "scrolled": true
   },
   "outputs": [],
   "source": [
    "top_20_incart1 = top_20_incart1.groupby('product_name')['product_id'].value_counts().sort_values(ascending=False)"
   ]
  },
  {
   "cell_type": "code",
   "execution_count": 57,
   "id": "08e41ec2",
   "metadata": {},
   "outputs": [
    {
     "data": {
      "text/plain": [
       "product_name                 product_id\n",
       "banana                       24852         15562\n",
       "bag of organic bananas       13176         11026\n",
       "organic whole milk           27845          4363\n",
       "organic strawberries         21137          3946\n",
       "organic hass avocado         47209          3390\n",
       "organic baby spinach         21903          3336\n",
       "organic avocado              47766          3044\n",
       "spring water                 19660          2336\n",
       "strawberries                 16797          2308\n",
       "organic raspberries          27966          2024\n",
       "sparkling water grapefruit   44632          1914\n",
       "organic half & half          49235          1797\n",
       "large lemon                  47626          1737\n",
       "soda                         196            1733\n",
       "organic reduced fat milk     38689          1397\n",
       "limes                        26209          1370\n",
       "hass avocados                12341          1340\n",
       "organic reduced fat 2% milk  5785           1310\n",
       "half & half                  27086          1309\n",
       "raspberries                  43352          1246\n",
       "Name: product_id, dtype: int64"
      ]
     },
     "execution_count": 57,
     "metadata": {},
     "output_type": "execute_result"
    }
   ],
   "source": [
    "top_20_incart1.head(20)"
   ]
  },
  {
   "cell_type": "markdown",
   "id": "0f9f4af0",
   "metadata": {},
   "source": [
    "<div class=\"alert alert-success\"; style=\"border-left: 7px solid green\">\n",
    "<b>✅ Reviewer's comment, v. 3</b> \n",
    "    \n",
    "\n",
    "Awesome job! You're really mastering this concept!\n",
    "\n",
    "\n",
    "\n",
    "<div class=\"alert alert-danger\"; style=\"border-left: 7px solid red\">\n",
    "<b>⛔️ Reviewer's comment, v. 2</b> \n",
    "\n",
    "Use the same algorithm here.\n",
    "    \n",
    "<div class=\"alert alert-danger\"; style=\"border-left: 7px solid red\">\n",
    "<b>⛔️ Reviewer's comment, v. 1</b> \n",
    "\n",
    "Just select the products with add_to_cart_order == 1 and do the same thing you did in 2.10, just add the product names."
   ]
  },
  {
   "cell_type": "markdown",
   "id": "28ce9872",
   "metadata": {},
   "source": [
    "Instacarts is busiest on Sunday and Monday (assuming day 0 was Sunday), especially between 8am and 5pm. Overall, instacart seems to be doing well retaining customers. Most customers make more than one order with an overall average of 17 orders per customer. \n",
    "\n",
    "The average items in an order is around 10, which leads me to believe that people don't use instacart for their larger shopping trips and more as a convenient way to get groceries between large shopping trips that they do themselves. There may be a way to encourage users to look to instacart for their larger shopping trips too.\n",
    "\n",
    "Instacart recieves less orders from Tuesday-Saturday which aligns with most of the work week. I would imagine that Saturday's orders are less than Sunday and Monday because many people have that day off and shop for themselves.\n",
    "\n",
    "The convenience of instacart seems to encourage most customers to reorder within 9 days, though it appears to be pretty common for customers to also wait up to 30 days to reorder. Maybe there's an actionable way to reduce the time between orders.\n",
    "\n",
    "The top 20 products seem to match pretty closely with the top 20 reordered and the top 20 put in the cart first which shows that many people use instacart for the products that perish rather quickly. \n",
    "\n",
    "This confirms that people tend to use instacart for smaller shopping trips to replace staple/perishable items rather than for large shopping trips. "
   ]
  },
  {
   "cell_type": "markdown",
   "id": "3745bfec",
   "metadata": {},
   "source": [
    "<div class=\"alert alert-warning\"; style=\"border-left: 7px solid gold\">\n",
    "<b>⚠️ Reviewer's comment, v. 2</b> \n",
    "\n",
    "Please see if it needs updating after you make the changes above.\n",
    "    \n",
    "\n",
    "    \n",
    "<div class=\"alert alert-danger\"; style=\"border-left: 7px solid red\">\n",
    "<b>⛔️ Reviewer's comment, v. 1</b> \n",
    "\n",
    "Could you please add an overall conclusion summarizing the main findings from your analysis?\n",
    "\n",
    "Including a conclusion is a critical part of your project, as it effectively ties together all of the key insights and demonstrates the business impact of your work. It gives readers a clear and concise understanding of the data’s story, how the findings can be applied, and what decisions or actions might follow. "
   ]
  }
 ],
 "metadata": {
  "ExecuteTimeLog": [
   {
    "duration": 157,
    "start_time": "2024-10-10T22:01:09.258Z"
   },
   {
    "duration": 568,
    "start_time": "2024-10-10T22:01:20.156Z"
   },
   {
    "duration": 128,
    "start_time": "2024-10-10T22:01:34.307Z"
   },
   {
    "duration": 61,
    "start_time": "2024-10-10T22:03:19.778Z"
   },
   {
    "duration": 35,
    "start_time": "2024-10-10T22:03:30.012Z"
   },
   {
    "duration": 10,
    "start_time": "2024-10-10T22:04:08.674Z"
   },
   {
    "duration": 10,
    "start_time": "2024-10-10T22:04:15.957Z"
   },
   {
    "duration": 10,
    "start_time": "2024-10-10T22:04:44.927Z"
   },
   {
    "duration": 9,
    "start_time": "2024-10-10T22:04:50.056Z"
   },
   {
    "duration": 1917,
    "start_time": "2024-10-10T22:05:25.618Z"
   },
   {
    "duration": 717,
    "start_time": "2024-10-10T22:05:33.698Z"
   },
   {
    "duration": 19,
    "start_time": "2024-10-10T22:07:10.192Z"
   },
   {
    "duration": 16,
    "start_time": "2024-10-10T22:07:12.798Z"
   },
   {
    "duration": 43,
    "start_time": "2024-10-10T22:18:49.899Z"
   },
   {
    "duration": 32,
    "start_time": "2024-10-10T22:19:00.254Z"
   },
   {
    "duration": 13,
    "start_time": "2024-10-10T22:20:22.720Z"
   },
   {
    "duration": 21,
    "start_time": "2024-10-10T22:20:32.070Z"
   },
   {
    "duration": 14,
    "start_time": "2024-10-10T22:20:38.358Z"
   },
   {
    "duration": 10,
    "start_time": "2024-10-10T22:20:46.131Z"
   },
   {
    "duration": 83,
    "start_time": "2024-10-10T22:21:22.856Z"
   },
   {
    "duration": 78,
    "start_time": "2024-10-10T22:21:31.280Z"
   },
   {
    "duration": 83,
    "start_time": "2024-10-10T22:21:40.440Z"
   },
   {
    "duration": 69,
    "start_time": "2024-10-10T22:21:45.903Z"
   },
   {
    "duration": 12,
    "start_time": "2024-10-10T22:22:09.211Z"
   },
   {
    "duration": 70,
    "start_time": "2024-10-10T22:22:15.962Z"
   },
   {
    "duration": 71,
    "start_time": "2024-10-10T22:22:24.019Z"
   },
   {
    "duration": 72,
    "start_time": "2024-10-10T22:25:50.242Z"
   },
   {
    "duration": 84,
    "start_time": "2024-10-10T22:25:53.659Z"
   },
   {
    "duration": 74,
    "start_time": "2024-10-10T22:26:59.464Z"
   },
   {
    "duration": 106,
    "start_time": "2024-10-10T22:27:28.541Z"
   },
   {
    "duration": 110,
    "start_time": "2024-10-10T22:28:11.868Z"
   },
   {
    "duration": 83,
    "start_time": "2024-10-10T22:28:27.836Z"
   },
   {
    "duration": 73,
    "start_time": "2024-10-10T22:29:40.871Z"
   },
   {
    "duration": 75,
    "start_time": "2024-10-10T22:29:47.181Z"
   },
   {
    "duration": 75,
    "start_time": "2024-10-10T22:29:56.837Z"
   },
   {
    "duration": 77,
    "start_time": "2024-10-10T22:30:02.079Z"
   },
   {
    "duration": 142,
    "start_time": "2024-10-10T22:30:58.419Z"
   },
   {
    "duration": 13,
    "start_time": "2024-10-10T22:35:01.116Z"
   },
   {
    "duration": 404,
    "start_time": "2024-10-10T22:35:17.048Z"
   },
   {
    "duration": 41,
    "start_time": "2024-10-10T22:35:17.455Z"
   },
   {
    "duration": 8,
    "start_time": "2024-10-10T22:35:17.497Z"
   },
   {
    "duration": 9,
    "start_time": "2024-10-10T22:35:17.507Z"
   },
   {
    "duration": 729,
    "start_time": "2024-10-10T22:35:17.519Z"
   },
   {
    "duration": 17,
    "start_time": "2024-10-10T22:35:18.251Z"
   },
   {
    "duration": 44,
    "start_time": "2024-10-10T22:35:18.269Z"
   },
   {
    "duration": 197,
    "start_time": "2024-10-10T22:35:18.315Z"
   },
   {
    "duration": 532,
    "start_time": "2024-10-10T22:35:18.513Z"
   },
   {
    "duration": 0,
    "start_time": "2024-10-10T22:35:19.049Z"
   },
   {
    "duration": 0,
    "start_time": "2024-10-10T22:35:19.050Z"
   },
   {
    "duration": 0,
    "start_time": "2024-10-10T22:35:19.051Z"
   },
   {
    "duration": 0,
    "start_time": "2024-10-10T22:35:19.052Z"
   },
   {
    "duration": 0,
    "start_time": "2024-10-10T22:35:19.053Z"
   },
   {
    "duration": 0,
    "start_time": "2024-10-10T22:35:19.054Z"
   },
   {
    "duration": 0,
    "start_time": "2024-10-10T22:35:19.055Z"
   },
   {
    "duration": 0,
    "start_time": "2024-10-10T22:35:19.056Z"
   },
   {
    "duration": 0,
    "start_time": "2024-10-10T22:35:19.057Z"
   },
   {
    "duration": 0,
    "start_time": "2024-10-10T22:35:19.058Z"
   },
   {
    "duration": 1,
    "start_time": "2024-10-10T22:35:19.059Z"
   },
   {
    "duration": 0,
    "start_time": "2024-10-10T22:35:19.061Z"
   },
   {
    "duration": 1,
    "start_time": "2024-10-10T22:35:19.062Z"
   },
   {
    "duration": 0,
    "start_time": "2024-10-10T22:35:19.063Z"
   },
   {
    "duration": 0,
    "start_time": "2024-10-10T22:35:19.086Z"
   },
   {
    "duration": 0,
    "start_time": "2024-10-10T22:35:19.087Z"
   },
   {
    "duration": 0,
    "start_time": "2024-10-10T22:35:19.089Z"
   },
   {
    "duration": 0,
    "start_time": "2024-10-10T22:35:19.090Z"
   },
   {
    "duration": 5,
    "start_time": "2024-10-10T22:35:54.705Z"
   },
   {
    "duration": 181,
    "start_time": "2024-10-10T22:37:15.214Z"
   },
   {
    "duration": 102,
    "start_time": "2024-10-10T22:37:21.903Z"
   },
   {
    "duration": 150,
    "start_time": "2024-10-10T22:37:28.210Z"
   },
   {
    "duration": 427,
    "start_time": "2024-10-10T22:37:37.030Z"
   },
   {
    "duration": 48,
    "start_time": "2024-10-10T22:37:37.459Z"
   },
   {
    "duration": 9,
    "start_time": "2024-10-10T22:37:37.509Z"
   },
   {
    "duration": 8,
    "start_time": "2024-10-10T22:37:37.520Z"
   },
   {
    "duration": 748,
    "start_time": "2024-10-10T22:37:37.529Z"
   },
   {
    "duration": 22,
    "start_time": "2024-10-10T22:37:38.279Z"
   },
   {
    "duration": 31,
    "start_time": "2024-10-10T22:37:38.302Z"
   },
   {
    "duration": 108,
    "start_time": "2024-10-10T22:37:38.335Z"
   },
   {
    "duration": 4,
    "start_time": "2024-10-10T22:37:38.445Z"
   },
   {
    "duration": 2,
    "start_time": "2024-10-10T22:37:38.453Z"
   },
   {
    "duration": 3,
    "start_time": "2024-10-10T22:37:38.456Z"
   },
   {
    "duration": 3,
    "start_time": "2024-10-10T22:37:38.460Z"
   },
   {
    "duration": 2,
    "start_time": "2024-10-10T22:37:38.487Z"
   },
   {
    "duration": 2,
    "start_time": "2024-10-10T22:37:38.491Z"
   },
   {
    "duration": 2,
    "start_time": "2024-10-10T22:37:38.495Z"
   },
   {
    "duration": 2,
    "start_time": "2024-10-10T22:37:38.499Z"
   },
   {
    "duration": 3,
    "start_time": "2024-10-10T22:37:38.502Z"
   },
   {
    "duration": 3,
    "start_time": "2024-10-10T22:37:38.507Z"
   },
   {
    "duration": 2,
    "start_time": "2024-10-10T22:37:38.511Z"
   },
   {
    "duration": 2,
    "start_time": "2024-10-10T22:37:38.515Z"
   },
   {
    "duration": 3,
    "start_time": "2024-10-10T22:37:38.518Z"
   },
   {
    "duration": 2,
    "start_time": "2024-10-10T22:37:38.523Z"
   },
   {
    "duration": 2,
    "start_time": "2024-10-10T22:37:38.527Z"
   },
   {
    "duration": 55,
    "start_time": "2024-10-10T22:37:38.531Z"
   },
   {
    "duration": 2,
    "start_time": "2024-10-10T22:37:38.588Z"
   },
   {
    "duration": 3,
    "start_time": "2024-10-10T22:37:38.592Z"
   },
   {
    "duration": 2,
    "start_time": "2024-10-10T22:37:38.596Z"
   },
   {
    "duration": 173,
    "start_time": "2024-10-10T22:37:56.423Z"
   },
   {
    "duration": 6,
    "start_time": "2024-10-10T22:40:28.654Z"
   },
   {
    "duration": 6,
    "start_time": "2024-10-10T22:40:43.625Z"
   },
   {
    "duration": 172,
    "start_time": "2024-10-10T22:40:56.668Z"
   },
   {
    "duration": 13,
    "start_time": "2024-10-10T22:41:08.532Z"
   },
   {
    "duration": 13,
    "start_time": "2024-10-10T22:41:17.989Z"
   },
   {
    "duration": 6,
    "start_time": "2024-10-10T22:41:23.689Z"
   },
   {
    "duration": 14,
    "start_time": "2024-10-10T22:41:48.809Z"
   },
   {
    "duration": 7,
    "start_time": "2024-10-10T22:42:16.107Z"
   },
   {
    "duration": 17,
    "start_time": "2024-10-10T22:42:57.798Z"
   },
   {
    "duration": 19,
    "start_time": "2024-10-10T22:43:26.371Z"
   },
   {
    "duration": 409,
    "start_time": "2024-10-10T22:43:31.370Z"
   },
   {
    "duration": 44,
    "start_time": "2024-10-10T22:43:31.781Z"
   },
   {
    "duration": 9,
    "start_time": "2024-10-10T22:43:31.826Z"
   },
   {
    "duration": 7,
    "start_time": "2024-10-10T22:43:31.836Z"
   },
   {
    "duration": 719,
    "start_time": "2024-10-10T22:43:31.846Z"
   },
   {
    "duration": 26,
    "start_time": "2024-10-10T22:43:32.566Z"
   },
   {
    "duration": 33,
    "start_time": "2024-10-10T22:43:32.594Z"
   },
   {
    "duration": 199,
    "start_time": "2024-10-10T22:43:32.629Z"
   },
   {
    "duration": 185,
    "start_time": "2024-10-10T22:43:32.829Z"
   },
   {
    "duration": 0,
    "start_time": "2024-10-10T22:43:33.016Z"
   },
   {
    "duration": 0,
    "start_time": "2024-10-10T22:43:33.017Z"
   },
   {
    "duration": 0,
    "start_time": "2024-10-10T22:43:33.018Z"
   },
   {
    "duration": 0,
    "start_time": "2024-10-10T22:43:33.019Z"
   },
   {
    "duration": 0,
    "start_time": "2024-10-10T22:43:33.020Z"
   },
   {
    "duration": 0,
    "start_time": "2024-10-10T22:43:33.021Z"
   },
   {
    "duration": 0,
    "start_time": "2024-10-10T22:43:33.025Z"
   },
   {
    "duration": 0,
    "start_time": "2024-10-10T22:43:33.026Z"
   },
   {
    "duration": 0,
    "start_time": "2024-10-10T22:43:33.027Z"
   },
   {
    "duration": 0,
    "start_time": "2024-10-10T22:43:33.028Z"
   },
   {
    "duration": 0,
    "start_time": "2024-10-10T22:43:33.029Z"
   },
   {
    "duration": 0,
    "start_time": "2024-10-10T22:43:33.030Z"
   },
   {
    "duration": 0,
    "start_time": "2024-10-10T22:43:33.031Z"
   },
   {
    "duration": 0,
    "start_time": "2024-10-10T22:43:33.032Z"
   },
   {
    "duration": 0,
    "start_time": "2024-10-10T22:43:33.034Z"
   },
   {
    "duration": 0,
    "start_time": "2024-10-10T22:43:33.035Z"
   },
   {
    "duration": 0,
    "start_time": "2024-10-10T22:43:33.036Z"
   },
   {
    "duration": 0,
    "start_time": "2024-10-10T22:43:33.038Z"
   },
   {
    "duration": 17,
    "start_time": "2024-10-10T22:43:55.404Z"
   },
   {
    "duration": 15,
    "start_time": "2024-10-10T22:45:08.235Z"
   },
   {
    "duration": 7,
    "start_time": "2024-10-10T22:45:16.220Z"
   },
   {
    "duration": 4,
    "start_time": "2024-10-10T22:45:42.735Z"
   },
   {
    "duration": 7,
    "start_time": "2024-10-10T22:45:52.882Z"
   },
   {
    "duration": 16,
    "start_time": "2024-10-10T22:46:00.372Z"
   },
   {
    "duration": 10,
    "start_time": "2024-10-10T22:46:06.367Z"
   },
   {
    "duration": 8,
    "start_time": "2024-10-10T22:46:22.407Z"
   },
   {
    "duration": 95,
    "start_time": "2024-10-10T22:46:49.320Z"
   },
   {
    "duration": 8,
    "start_time": "2024-10-10T22:46:51.801Z"
   },
   {
    "duration": 453,
    "start_time": "2024-10-10T22:47:01.708Z"
   },
   {
    "duration": 44,
    "start_time": "2024-10-10T22:47:02.163Z"
   },
   {
    "duration": 9,
    "start_time": "2024-10-10T22:47:02.208Z"
   },
   {
    "duration": 9,
    "start_time": "2024-10-10T22:47:02.220Z"
   },
   {
    "duration": 722,
    "start_time": "2024-10-10T22:47:02.231Z"
   },
   {
    "duration": 17,
    "start_time": "2024-10-10T22:47:02.955Z"
   },
   {
    "duration": 43,
    "start_time": "2024-10-10T22:47:02.974Z"
   },
   {
    "duration": 105,
    "start_time": "2024-10-10T22:47:03.019Z"
   },
   {
    "duration": 10,
    "start_time": "2024-10-10T22:47:03.125Z"
   },
   {
    "duration": 120,
    "start_time": "2024-10-10T22:47:03.138Z"
   },
   {
    "duration": 2,
    "start_time": "2024-10-10T22:47:03.260Z"
   },
   {
    "duration": 2,
    "start_time": "2024-10-10T22:47:03.264Z"
   },
   {
    "duration": 2,
    "start_time": "2024-10-10T22:47:03.268Z"
   },
   {
    "duration": 14,
    "start_time": "2024-10-10T22:47:03.272Z"
   },
   {
    "duration": 4,
    "start_time": "2024-10-10T22:47:03.289Z"
   },
   {
    "duration": 3,
    "start_time": "2024-10-10T22:47:03.295Z"
   },
   {
    "duration": 3,
    "start_time": "2024-10-10T22:47:03.300Z"
   },
   {
    "duration": 2,
    "start_time": "2024-10-10T22:47:03.305Z"
   },
   {
    "duration": 2,
    "start_time": "2024-10-10T22:47:03.309Z"
   },
   {
    "duration": 2,
    "start_time": "2024-10-10T22:47:03.313Z"
   },
   {
    "duration": 3,
    "start_time": "2024-10-10T22:47:03.317Z"
   },
   {
    "duration": 2,
    "start_time": "2024-10-10T22:47:03.323Z"
   },
   {
    "duration": 3,
    "start_time": "2024-10-10T22:47:03.326Z"
   },
   {
    "duration": 3,
    "start_time": "2024-10-10T22:47:03.330Z"
   },
   {
    "duration": 2,
    "start_time": "2024-10-10T22:47:03.335Z"
   },
   {
    "duration": 50,
    "start_time": "2024-10-10T22:47:03.338Z"
   },
   {
    "duration": 4,
    "start_time": "2024-10-10T22:47:03.390Z"
   },
   {
    "duration": 3,
    "start_time": "2024-10-10T22:47:30.476Z"
   },
   {
    "duration": 82,
    "start_time": "2024-10-10T22:47:50.625Z"
   },
   {
    "duration": 3,
    "start_time": "2024-10-10T22:48:11.426Z"
   },
   {
    "duration": 32,
    "start_time": "2024-10-10T22:48:20.720Z"
   },
   {
    "duration": 159,
    "start_time": "2024-10-11T15:12:48.014Z"
   },
   {
    "duration": 423,
    "start_time": "2024-10-11T15:12:55.241Z"
   },
   {
    "duration": 40,
    "start_time": "2024-10-11T15:12:55.667Z"
   },
   {
    "duration": 8,
    "start_time": "2024-10-11T15:12:55.708Z"
   },
   {
    "duration": 8,
    "start_time": "2024-10-11T15:12:55.718Z"
   },
   {
    "duration": 742,
    "start_time": "2024-10-11T15:12:55.727Z"
   },
   {
    "duration": 16,
    "start_time": "2024-10-11T15:12:56.471Z"
   },
   {
    "duration": 32,
    "start_time": "2024-10-11T15:12:56.489Z"
   },
   {
    "duration": 121,
    "start_time": "2024-10-11T15:12:56.523Z"
   },
   {
    "duration": 9,
    "start_time": "2024-10-11T15:12:56.646Z"
   },
   {
    "duration": 108,
    "start_time": "2024-10-11T15:12:56.659Z"
   },
   {
    "duration": 87,
    "start_time": "2024-10-11T15:12:56.768Z"
   },
   {
    "duration": 27,
    "start_time": "2024-10-11T15:12:56.857Z"
   },
   {
    "duration": 11,
    "start_time": "2024-10-11T15:12:56.886Z"
   },
   {
    "duration": 2,
    "start_time": "2024-10-11T15:12:56.899Z"
   },
   {
    "duration": 2,
    "start_time": "2024-10-11T15:12:56.903Z"
   },
   {
    "duration": 3,
    "start_time": "2024-10-11T15:12:56.906Z"
   },
   {
    "duration": 32,
    "start_time": "2024-10-11T15:12:56.911Z"
   },
   {
    "duration": 3,
    "start_time": "2024-10-11T15:12:56.944Z"
   },
   {
    "duration": 3,
    "start_time": "2024-10-11T15:12:56.949Z"
   },
   {
    "duration": 2,
    "start_time": "2024-10-11T15:12:56.954Z"
   },
   {
    "duration": 2,
    "start_time": "2024-10-11T15:12:56.958Z"
   },
   {
    "duration": 2,
    "start_time": "2024-10-11T15:12:56.962Z"
   },
   {
    "duration": 3,
    "start_time": "2024-10-11T15:12:56.965Z"
   },
   {
    "duration": 2,
    "start_time": "2024-10-11T15:12:56.969Z"
   },
   {
    "duration": 2,
    "start_time": "2024-10-11T15:12:56.973Z"
   },
   {
    "duration": 3,
    "start_time": "2024-10-11T15:12:56.976Z"
   },
   {
    "duration": 2,
    "start_time": "2024-10-11T15:12:56.981Z"
   },
   {
    "duration": 14,
    "start_time": "2024-10-11T15:13:11.754Z"
   },
   {
    "duration": 12,
    "start_time": "2024-10-11T15:13:29.927Z"
   },
   {
    "duration": 542,
    "start_time": "2024-10-11T15:15:18.204Z"
   },
   {
    "duration": 4,
    "start_time": "2024-10-11T15:15:24.551Z"
   },
   {
    "duration": 6,
    "start_time": "2024-10-11T15:15:39.398Z"
   },
   {
    "duration": 11,
    "start_time": "2024-10-11T15:16:02.049Z"
   },
   {
    "duration": 21,
    "start_time": "2024-10-11T15:16:40.118Z"
   },
   {
    "duration": 19,
    "start_time": "2024-10-11T15:16:44.937Z"
   },
   {
    "duration": 20,
    "start_time": "2024-10-11T15:16:55.476Z"
   },
   {
    "duration": 18,
    "start_time": "2024-10-11T15:18:55.778Z"
   },
   {
    "duration": 23,
    "start_time": "2024-10-11T15:19:23.828Z"
   },
   {
    "duration": 22,
    "start_time": "2024-10-11T15:20:01.672Z"
   },
   {
    "duration": 24,
    "start_time": "2024-10-11T15:20:41.020Z"
   },
   {
    "duration": 28,
    "start_time": "2024-10-11T15:20:50.301Z"
   },
   {
    "duration": 10,
    "start_time": "2024-10-11T15:23:30.075Z"
   },
   {
    "duration": 18,
    "start_time": "2024-10-11T15:24:16.971Z"
   },
   {
    "duration": 13,
    "start_time": "2024-10-11T15:24:24.881Z"
   },
   {
    "duration": 12,
    "start_time": "2024-10-11T15:24:36.417Z"
   },
   {
    "duration": 13,
    "start_time": "2024-10-11T15:24:42.735Z"
   },
   {
    "duration": 7,
    "start_time": "2024-10-11T15:24:54.402Z"
   },
   {
    "duration": 6,
    "start_time": "2024-10-11T15:25:03.694Z"
   },
   {
    "duration": 10,
    "start_time": "2024-10-11T15:25:17.853Z"
   },
   {
    "duration": 6,
    "start_time": "2024-10-11T15:27:37.350Z"
   },
   {
    "duration": 24,
    "start_time": "2024-10-11T15:30:36.207Z"
   },
   {
    "duration": 4,
    "start_time": "2024-10-11T15:31:40.323Z"
   },
   {
    "duration": 25,
    "start_time": "2024-10-11T15:31:48.175Z"
   },
   {
    "duration": 60,
    "start_time": "2024-10-11T15:31:57.906Z"
   },
   {
    "duration": 26,
    "start_time": "2024-10-11T15:32:01.290Z"
   },
   {
    "duration": 517,
    "start_time": "2024-10-11T15:32:23.522Z"
   },
   {
    "duration": 15,
    "start_time": "2024-10-11T15:33:50.513Z"
   },
   {
    "duration": 16,
    "start_time": "2024-10-11T15:33:55.940Z"
   },
   {
    "duration": 168,
    "start_time": "2024-10-11T15:34:20.535Z"
   },
   {
    "duration": 485,
    "start_time": "2024-10-11T15:34:28.675Z"
   },
   {
    "duration": 66,
    "start_time": "2024-10-11T15:34:29.163Z"
   },
   {
    "duration": 12,
    "start_time": "2024-10-11T15:34:29.231Z"
   },
   {
    "duration": 10,
    "start_time": "2024-10-11T15:34:29.245Z"
   },
   {
    "duration": 821,
    "start_time": "2024-10-11T15:34:29.256Z"
   },
   {
    "duration": 17,
    "start_time": "2024-10-11T15:34:30.078Z"
   },
   {
    "duration": 46,
    "start_time": "2024-10-11T15:34:30.097Z"
   },
   {
    "duration": 102,
    "start_time": "2024-10-11T15:34:30.145Z"
   },
   {
    "duration": 9,
    "start_time": "2024-10-11T15:34:30.249Z"
   },
   {
    "duration": 103,
    "start_time": "2024-10-11T15:34:30.262Z"
   },
   {
    "duration": 91,
    "start_time": "2024-10-11T15:34:30.367Z"
   },
   {
    "duration": 34,
    "start_time": "2024-10-11T15:34:30.460Z"
   },
   {
    "duration": 20,
    "start_time": "2024-10-11T15:34:30.496Z"
   },
   {
    "duration": 4,
    "start_time": "2024-10-11T15:34:30.517Z"
   },
   {
    "duration": 714,
    "start_time": "2024-10-11T15:34:30.523Z"
   },
   {
    "duration": 0,
    "start_time": "2024-10-11T15:34:31.239Z"
   },
   {
    "duration": 0,
    "start_time": "2024-10-11T15:34:31.240Z"
   },
   {
    "duration": 0,
    "start_time": "2024-10-11T15:34:31.240Z"
   },
   {
    "duration": 0,
    "start_time": "2024-10-11T15:34:31.243Z"
   },
   {
    "duration": 0,
    "start_time": "2024-10-11T15:34:31.244Z"
   },
   {
    "duration": 0,
    "start_time": "2024-10-11T15:34:31.245Z"
   },
   {
    "duration": 0,
    "start_time": "2024-10-11T15:34:31.246Z"
   },
   {
    "duration": 0,
    "start_time": "2024-10-11T15:34:31.248Z"
   },
   {
    "duration": 0,
    "start_time": "2024-10-11T15:34:31.249Z"
   },
   {
    "duration": 0,
    "start_time": "2024-10-11T15:34:31.250Z"
   },
   {
    "duration": 0,
    "start_time": "2024-10-11T15:34:31.251Z"
   },
   {
    "duration": 0,
    "start_time": "2024-10-11T15:34:31.252Z"
   },
   {
    "duration": 159,
    "start_time": "2024-10-11T15:35:04.877Z"
   },
   {
    "duration": 526,
    "start_time": "2024-10-11T15:35:12.556Z"
   },
   {
    "duration": 69,
    "start_time": "2024-10-11T15:35:13.085Z"
   },
   {
    "duration": 9,
    "start_time": "2024-10-11T15:35:13.156Z"
   },
   {
    "duration": 8,
    "start_time": "2024-10-11T15:35:13.167Z"
   },
   {
    "duration": 806,
    "start_time": "2024-10-11T15:35:13.178Z"
   },
   {
    "duration": 17,
    "start_time": "2024-10-11T15:35:13.986Z"
   },
   {
    "duration": 45,
    "start_time": "2024-10-11T15:35:14.004Z"
   },
   {
    "duration": 107,
    "start_time": "2024-10-11T15:35:14.051Z"
   },
   {
    "duration": 9,
    "start_time": "2024-10-11T15:35:14.160Z"
   },
   {
    "duration": 108,
    "start_time": "2024-10-11T15:35:14.171Z"
   },
   {
    "duration": 93,
    "start_time": "2024-10-11T15:35:14.281Z"
   },
   {
    "duration": 30,
    "start_time": "2024-10-11T15:35:14.377Z"
   },
   {
    "duration": 11,
    "start_time": "2024-10-11T15:35:14.409Z"
   },
   {
    "duration": 20,
    "start_time": "2024-10-11T15:35:14.423Z"
   },
   {
    "duration": 684,
    "start_time": "2024-10-11T15:35:14.445Z"
   },
   {
    "duration": 0,
    "start_time": "2024-10-11T15:35:15.131Z"
   },
   {
    "duration": 0,
    "start_time": "2024-10-11T15:35:15.132Z"
   },
   {
    "duration": 0,
    "start_time": "2024-10-11T15:35:15.143Z"
   },
   {
    "duration": 0,
    "start_time": "2024-10-11T15:35:15.144Z"
   },
   {
    "duration": 0,
    "start_time": "2024-10-11T15:35:15.145Z"
   },
   {
    "duration": 0,
    "start_time": "2024-10-11T15:35:15.146Z"
   },
   {
    "duration": 0,
    "start_time": "2024-10-11T15:35:15.148Z"
   },
   {
    "duration": 0,
    "start_time": "2024-10-11T15:35:15.149Z"
   },
   {
    "duration": 0,
    "start_time": "2024-10-11T15:35:15.150Z"
   },
   {
    "duration": 0,
    "start_time": "2024-10-11T15:35:15.151Z"
   },
   {
    "duration": 0,
    "start_time": "2024-10-11T15:35:15.152Z"
   },
   {
    "duration": 0,
    "start_time": "2024-10-11T15:35:15.152Z"
   },
   {
    "duration": 74,
    "start_time": "2024-10-11T15:35:21.380Z"
   },
   {
    "duration": 167,
    "start_time": "2024-10-11T15:36:01.146Z"
   },
   {
    "duration": 519,
    "start_time": "2024-10-11T15:36:28.553Z"
   },
   {
    "duration": 67,
    "start_time": "2024-10-11T15:36:29.074Z"
   },
   {
    "duration": 11,
    "start_time": "2024-10-11T15:36:29.143Z"
   },
   {
    "duration": 8,
    "start_time": "2024-10-11T15:36:29.155Z"
   },
   {
    "duration": 818,
    "start_time": "2024-10-11T15:36:29.166Z"
   },
   {
    "duration": 17,
    "start_time": "2024-10-11T15:36:29.986Z"
   },
   {
    "duration": 50,
    "start_time": "2024-10-11T15:36:30.005Z"
   },
   {
    "duration": 102,
    "start_time": "2024-10-11T15:36:30.057Z"
   },
   {
    "duration": 9,
    "start_time": "2024-10-11T15:36:30.162Z"
   },
   {
    "duration": 109,
    "start_time": "2024-10-11T15:36:30.172Z"
   },
   {
    "duration": 87,
    "start_time": "2024-10-11T15:36:30.283Z"
   },
   {
    "duration": 30,
    "start_time": "2024-10-11T15:36:30.372Z"
   },
   {
    "duration": 12,
    "start_time": "2024-10-11T15:36:30.404Z"
   },
   {
    "duration": 3,
    "start_time": "2024-10-11T15:36:30.418Z"
   },
   {
    "duration": 714,
    "start_time": "2024-10-11T15:36:30.442Z"
   },
   {
    "duration": 0,
    "start_time": "2024-10-11T15:36:31.157Z"
   },
   {
    "duration": 0,
    "start_time": "2024-10-11T15:36:31.160Z"
   },
   {
    "duration": 0,
    "start_time": "2024-10-11T15:36:31.160Z"
   },
   {
    "duration": 0,
    "start_time": "2024-10-11T15:36:31.162Z"
   },
   {
    "duration": 0,
    "start_time": "2024-10-11T15:36:31.164Z"
   },
   {
    "duration": 0,
    "start_time": "2024-10-11T15:36:31.165Z"
   },
   {
    "duration": 0,
    "start_time": "2024-10-11T15:36:31.167Z"
   },
   {
    "duration": 0,
    "start_time": "2024-10-11T15:36:31.168Z"
   },
   {
    "duration": 0,
    "start_time": "2024-10-11T15:36:31.170Z"
   },
   {
    "duration": 0,
    "start_time": "2024-10-11T15:36:31.172Z"
   },
   {
    "duration": 0,
    "start_time": "2024-10-11T15:36:31.173Z"
   },
   {
    "duration": 0,
    "start_time": "2024-10-11T15:36:31.174Z"
   },
   {
    "duration": 6,
    "start_time": "2024-10-11T15:36:52.808Z"
   },
   {
    "duration": 27,
    "start_time": "2024-10-11T15:36:55.462Z"
   },
   {
    "duration": 173,
    "start_time": "2024-10-11T15:38:03.164Z"
   },
   {
    "duration": 5,
    "start_time": "2024-10-11T15:39:05.070Z"
   },
   {
    "duration": 4,
    "start_time": "2024-10-11T15:39:12.429Z"
   },
   {
    "duration": 13,
    "start_time": "2024-10-11T15:39:23.367Z"
   },
   {
    "duration": 15,
    "start_time": "2024-10-11T15:39:29.448Z"
   },
   {
    "duration": 506,
    "start_time": "2024-10-11T15:39:34.749Z"
   },
   {
    "duration": 71,
    "start_time": "2024-10-11T15:39:35.258Z"
   },
   {
    "duration": 9,
    "start_time": "2024-10-11T15:39:35.331Z"
   },
   {
    "duration": 8,
    "start_time": "2024-10-11T15:39:35.342Z"
   },
   {
    "duration": 821,
    "start_time": "2024-10-11T15:39:35.353Z"
   },
   {
    "duration": 17,
    "start_time": "2024-10-11T15:39:36.176Z"
   },
   {
    "duration": 32,
    "start_time": "2024-10-11T15:39:36.194Z"
   },
   {
    "duration": 101,
    "start_time": "2024-10-11T15:39:36.243Z"
   },
   {
    "duration": 9,
    "start_time": "2024-10-11T15:39:36.345Z"
   },
   {
    "duration": 112,
    "start_time": "2024-10-11T15:39:36.355Z"
   },
   {
    "duration": 91,
    "start_time": "2024-10-11T15:39:36.469Z"
   },
   {
    "duration": 32,
    "start_time": "2024-10-11T15:39:36.562Z"
   },
   {
    "duration": 13,
    "start_time": "2024-10-11T15:39:36.595Z"
   },
   {
    "duration": 3,
    "start_time": "2024-10-11T15:39:36.611Z"
   },
   {
    "duration": 52,
    "start_time": "2024-10-11T15:39:36.615Z"
   },
   {
    "duration": 195,
    "start_time": "2024-10-11T15:39:36.669Z"
   },
   {
    "duration": 0,
    "start_time": "2024-10-11T15:39:36.866Z"
   },
   {
    "duration": 0,
    "start_time": "2024-10-11T15:39:36.868Z"
   },
   {
    "duration": 0,
    "start_time": "2024-10-11T15:39:36.869Z"
   },
   {
    "duration": 0,
    "start_time": "2024-10-11T15:39:36.871Z"
   },
   {
    "duration": 0,
    "start_time": "2024-10-11T15:39:36.872Z"
   },
   {
    "duration": 0,
    "start_time": "2024-10-11T15:39:36.874Z"
   },
   {
    "duration": 0,
    "start_time": "2024-10-11T15:39:36.875Z"
   },
   {
    "duration": 0,
    "start_time": "2024-10-11T15:39:36.877Z"
   },
   {
    "duration": 0,
    "start_time": "2024-10-11T15:39:36.878Z"
   },
   {
    "duration": 0,
    "start_time": "2024-10-11T15:39:36.880Z"
   },
   {
    "duration": 0,
    "start_time": "2024-10-11T15:39:36.881Z"
   },
   {
    "duration": 16,
    "start_time": "2024-10-11T15:39:47.002Z"
   },
   {
    "duration": 12,
    "start_time": "2024-10-11T15:40:37.699Z"
   },
   {
    "duration": 13,
    "start_time": "2024-10-11T15:40:57.122Z"
   },
   {
    "duration": 20,
    "start_time": "2024-10-11T15:41:09.060Z"
   },
   {
    "duration": 28,
    "start_time": "2024-10-11T15:41:12.812Z"
   },
   {
    "duration": 5,
    "start_time": "2024-10-11T15:42:16.729Z"
   },
   {
    "duration": 20,
    "start_time": "2024-10-11T15:42:20.076Z"
   },
   {
    "duration": 148,
    "start_time": "2024-10-11T15:42:47.899Z"
   },
   {
    "duration": 7,
    "start_time": "2024-10-11T15:43:10.169Z"
   },
   {
    "duration": 13,
    "start_time": "2024-10-11T15:43:25.174Z"
   },
   {
    "duration": 8,
    "start_time": "2024-10-11T15:43:30.726Z"
   },
   {
    "duration": 5,
    "start_time": "2024-10-11T15:43:54.084Z"
   },
   {
    "duration": 79,
    "start_time": "2024-10-11T15:43:59.032Z"
   },
   {
    "duration": 17,
    "start_time": "2024-10-11T15:44:54.881Z"
   },
   {
    "duration": 12,
    "start_time": "2024-10-11T15:44:59.939Z"
   },
   {
    "duration": 11,
    "start_time": "2024-10-11T15:45:14.474Z"
   },
   {
    "duration": 5,
    "start_time": "2024-10-11T15:45:39.785Z"
   },
   {
    "duration": 21,
    "start_time": "2024-10-11T15:45:42.327Z"
   },
   {
    "duration": 19,
    "start_time": "2024-10-11T15:45:47.933Z"
   },
   {
    "duration": 20,
    "start_time": "2024-10-11T15:45:51.735Z"
   },
   {
    "duration": 12,
    "start_time": "2024-10-11T15:46:04.838Z"
   },
   {
    "duration": 9,
    "start_time": "2024-10-11T15:46:20.876Z"
   },
   {
    "duration": 10,
    "start_time": "2024-10-11T15:46:49.202Z"
   },
   {
    "duration": 28,
    "start_time": "2024-10-11T15:47:08.264Z"
   },
   {
    "duration": 444,
    "start_time": "2024-10-11T15:47:14.189Z"
   },
   {
    "duration": 40,
    "start_time": "2024-10-11T15:47:14.635Z"
   },
   {
    "duration": 9,
    "start_time": "2024-10-11T15:47:14.677Z"
   },
   {
    "duration": 7,
    "start_time": "2024-10-11T15:47:14.689Z"
   },
   {
    "duration": 750,
    "start_time": "2024-10-11T15:47:14.698Z"
   },
   {
    "duration": 17,
    "start_time": "2024-10-11T15:47:15.450Z"
   },
   {
    "duration": 43,
    "start_time": "2024-10-11T15:47:15.470Z"
   },
   {
    "duration": 119,
    "start_time": "2024-10-11T15:47:15.514Z"
   },
   {
    "duration": 13,
    "start_time": "2024-10-11T15:47:15.635Z"
   },
   {
    "duration": 104,
    "start_time": "2024-10-11T15:47:15.651Z"
   },
   {
    "duration": 91,
    "start_time": "2024-10-11T15:47:15.757Z"
   },
   {
    "duration": 33,
    "start_time": "2024-10-11T15:47:15.850Z"
   },
   {
    "duration": 12,
    "start_time": "2024-10-11T15:47:15.884Z"
   },
   {
    "duration": 3,
    "start_time": "2024-10-11T15:47:15.897Z"
   },
   {
    "duration": 51,
    "start_time": "2024-10-11T15:47:15.902Z"
   },
   {
    "duration": 7,
    "start_time": "2024-10-11T15:47:15.955Z"
   },
   {
    "duration": 2,
    "start_time": "2024-10-11T15:47:15.964Z"
   },
   {
    "duration": 2,
    "start_time": "2024-10-11T15:47:15.968Z"
   },
   {
    "duration": 2,
    "start_time": "2024-10-11T15:47:15.972Z"
   },
   {
    "duration": 2,
    "start_time": "2024-10-11T15:47:15.977Z"
   },
   {
    "duration": 3,
    "start_time": "2024-10-11T15:47:15.980Z"
   },
   {
    "duration": 2,
    "start_time": "2024-10-11T15:47:15.985Z"
   },
   {
    "duration": 2,
    "start_time": "2024-10-11T15:47:15.989Z"
   },
   {
    "duration": 2,
    "start_time": "2024-10-11T15:47:15.993Z"
   },
   {
    "duration": 2,
    "start_time": "2024-10-11T15:47:15.997Z"
   },
   {
    "duration": 44,
    "start_time": "2024-10-11T15:47:16.000Z"
   },
   {
    "duration": 2,
    "start_time": "2024-10-11T15:47:16.046Z"
   },
   {
    "duration": 177,
    "start_time": "2024-10-11T15:47:52.679Z"
   },
   {
    "duration": 7,
    "start_time": "2024-10-11T15:48:21.852Z"
   },
   {
    "duration": 8,
    "start_time": "2024-10-11T15:48:53.360Z"
   },
   {
    "duration": 12,
    "start_time": "2024-10-11T15:49:33.716Z"
   },
   {
    "duration": 21,
    "start_time": "2024-10-11T15:50:10.394Z"
   },
   {
    "duration": 10,
    "start_time": "2024-10-11T15:50:31.774Z"
   },
   {
    "duration": 11,
    "start_time": "2024-10-11T15:50:36.519Z"
   },
   {
    "duration": 11,
    "start_time": "2024-10-11T15:50:40.849Z"
   },
   {
    "duration": 14,
    "start_time": "2024-10-11T15:50:48.424Z"
   },
   {
    "duration": 18,
    "start_time": "2024-10-11T15:51:04.676Z"
   },
   {
    "duration": 26,
    "start_time": "2024-10-11T15:51:44.782Z"
   },
   {
    "duration": 4,
    "start_time": "2024-10-11T15:54:11.927Z"
   },
   {
    "duration": 6,
    "start_time": "2024-10-11T15:54:21.474Z"
   },
   {
    "duration": 6,
    "start_time": "2024-10-11T15:54:36.774Z"
   },
   {
    "duration": 6,
    "start_time": "2024-10-11T15:54:42.145Z"
   },
   {
    "duration": 11,
    "start_time": "2024-10-11T15:54:47.203Z"
   },
   {
    "duration": 11,
    "start_time": "2024-10-11T15:54:53.782Z"
   },
   {
    "duration": 9,
    "start_time": "2024-10-11T15:54:56.729Z"
   },
   {
    "duration": 10,
    "start_time": "2024-10-11T15:55:36.763Z"
   },
   {
    "duration": 9,
    "start_time": "2024-10-11T15:55:57.049Z"
   },
   {
    "duration": 10,
    "start_time": "2024-10-11T15:56:05.643Z"
   },
   {
    "duration": 8,
    "start_time": "2024-10-11T15:56:27.947Z"
   },
   {
    "duration": 4,
    "start_time": "2024-10-11T15:56:42.196Z"
   },
   {
    "duration": 790,
    "start_time": "2024-10-11T15:57:15.105Z"
   },
   {
    "duration": 796,
    "start_time": "2024-10-11T15:57:32.195Z"
   },
   {
    "duration": 12,
    "start_time": "2024-10-11T15:59:12.354Z"
   },
   {
    "duration": 235,
    "start_time": "2024-10-11T16:01:17.537Z"
   },
   {
    "duration": 304,
    "start_time": "2024-10-11T16:01:42.418Z"
   },
   {
    "duration": 367,
    "start_time": "2024-10-11T16:01:49.207Z"
   },
   {
    "duration": 358,
    "start_time": "2024-10-11T16:02:08.828Z"
   },
   {
    "duration": 334,
    "start_time": "2024-10-11T16:02:38.804Z"
   },
   {
    "duration": 535,
    "start_time": "2024-10-11T16:03:03.765Z"
   },
   {
    "duration": 715,
    "start_time": "2024-10-11T16:03:24.025Z"
   },
   {
    "duration": 764,
    "start_time": "2024-10-11T16:03:45.833Z"
   },
   {
    "duration": 740,
    "start_time": "2024-10-11T16:03:53.025Z"
   },
   {
    "duration": 4,
    "start_time": "2024-10-11T16:04:50.414Z"
   },
   {
    "duration": 697,
    "start_time": "2024-10-11T16:04:58.868Z"
   },
   {
    "duration": 647,
    "start_time": "2024-10-11T16:05:14.751Z"
   },
   {
    "duration": 658,
    "start_time": "2024-10-11T16:05:24.197Z"
   },
   {
    "duration": 682,
    "start_time": "2024-10-11T16:07:30.432Z"
   },
   {
    "duration": 644,
    "start_time": "2024-10-11T16:07:43.515Z"
   },
   {
    "duration": 810,
    "start_time": "2024-10-11T16:08:09.701Z"
   },
   {
    "duration": 763,
    "start_time": "2024-10-11T16:08:26.836Z"
   },
   {
    "duration": 7,
    "start_time": "2024-10-11T16:12:19.546Z"
   },
   {
    "duration": 8,
    "start_time": "2024-10-11T16:12:24.748Z"
   },
   {
    "duration": 4,
    "start_time": "2024-10-11T16:12:29.996Z"
   },
   {
    "duration": 7,
    "start_time": "2024-10-11T16:12:32.377Z"
   },
   {
    "duration": 15,
    "start_time": "2024-10-11T16:14:51.053Z"
   },
   {
    "duration": 6,
    "start_time": "2024-10-11T16:15:02.913Z"
   },
   {
    "duration": 6,
    "start_time": "2024-10-11T16:15:08.583Z"
   },
   {
    "duration": 4,
    "start_time": "2024-10-11T16:15:19.835Z"
   },
   {
    "duration": 11,
    "start_time": "2024-10-11T16:15:31.122Z"
   },
   {
    "duration": 6,
    "start_time": "2024-10-11T16:17:17.193Z"
   },
   {
    "duration": 5,
    "start_time": "2024-10-11T16:17:24.985Z"
   },
   {
    "duration": 10,
    "start_time": "2024-10-11T16:17:27.337Z"
   },
   {
    "duration": 4,
    "start_time": "2024-10-11T16:19:28.958Z"
   },
   {
    "duration": 5,
    "start_time": "2024-10-11T16:19:34.615Z"
   },
   {
    "duration": 389,
    "start_time": "2024-10-11T16:20:19.185Z"
   },
   {
    "duration": 7,
    "start_time": "2024-10-11T16:20:26.781Z"
   },
   {
    "duration": 12,
    "start_time": "2024-10-11T16:20:45.208Z"
   },
   {
    "duration": 16,
    "start_time": "2024-10-11T16:20:56.798Z"
   },
   {
    "duration": 7,
    "start_time": "2024-10-11T16:21:02.021Z"
   },
   {
    "duration": 6,
    "start_time": "2024-10-11T16:21:24.981Z"
   },
   {
    "duration": 13,
    "start_time": "2024-10-11T16:21:31.383Z"
   },
   {
    "duration": 8,
    "start_time": "2024-10-11T16:21:40.507Z"
   },
   {
    "duration": 3,
    "start_time": "2024-10-11T16:22:31.834Z"
   },
   {
    "duration": 155,
    "start_time": "2024-10-11T16:22:37.557Z"
   },
   {
    "duration": 3,
    "start_time": "2024-10-11T16:23:29.849Z"
   },
   {
    "duration": 4,
    "start_time": "2024-10-11T16:23:40.347Z"
   },
   {
    "duration": 143,
    "start_time": "2024-10-11T16:23:56.368Z"
   },
   {
    "duration": 5,
    "start_time": "2024-10-11T16:24:11.631Z"
   },
   {
    "duration": 6,
    "start_time": "2024-10-11T16:25:14.553Z"
   },
   {
    "duration": 499,
    "start_time": "2024-10-11T20:09:56.393Z"
   },
   {
    "duration": 449,
    "start_time": "2024-10-11T20:10:03.898Z"
   },
   {
    "duration": 75,
    "start_time": "2024-10-11T20:10:04.349Z"
   },
   {
    "duration": 12,
    "start_time": "2024-10-11T20:10:04.426Z"
   },
   {
    "duration": 9,
    "start_time": "2024-10-11T20:10:04.440Z"
   },
   {
    "duration": 828,
    "start_time": "2024-10-11T20:10:04.450Z"
   },
   {
    "duration": 17,
    "start_time": "2024-10-11T20:10:05.279Z"
   },
   {
    "duration": 33,
    "start_time": "2024-10-11T20:10:05.298Z"
   },
   {
    "duration": 118,
    "start_time": "2024-10-11T20:10:05.333Z"
   },
   {
    "duration": 17,
    "start_time": "2024-10-11T20:10:05.453Z"
   },
   {
    "duration": 103,
    "start_time": "2024-10-11T20:10:05.473Z"
   },
   {
    "duration": 84,
    "start_time": "2024-10-11T20:10:05.578Z"
   },
   {
    "duration": 28,
    "start_time": "2024-10-11T20:10:05.670Z"
   },
   {
    "duration": 12,
    "start_time": "2024-10-11T20:10:05.700Z"
   },
   {
    "duration": 3,
    "start_time": "2024-10-11T20:10:05.714Z"
   },
   {
    "duration": 51,
    "start_time": "2024-10-11T20:10:05.719Z"
   },
   {
    "duration": 9,
    "start_time": "2024-10-11T20:10:05.772Z"
   },
   {
    "duration": 4,
    "start_time": "2024-10-11T20:10:05.782Z"
   },
   {
    "duration": 9,
    "start_time": "2024-10-11T20:10:05.787Z"
   },
   {
    "duration": 7,
    "start_time": "2024-10-11T20:10:05.798Z"
   },
   {
    "duration": 4,
    "start_time": "2024-10-11T20:10:05.807Z"
   },
   {
    "duration": 844,
    "start_time": "2024-10-11T20:10:05.812Z"
   },
   {
    "duration": 806,
    "start_time": "2024-10-11T20:10:06.659Z"
   },
   {
    "duration": 8,
    "start_time": "2024-10-11T20:10:07.467Z"
   },
   {
    "duration": 8,
    "start_time": "2024-10-11T20:10:07.476Z"
   },
   {
    "duration": 8,
    "start_time": "2024-10-11T20:10:07.486Z"
   },
   {
    "duration": 5,
    "start_time": "2024-10-11T20:10:07.496Z"
   },
   {
    "duration": 3,
    "start_time": "2024-10-11T20:10:07.502Z"
   },
   {
    "duration": 2,
    "start_time": "2024-10-11T20:10:07.509Z"
   },
   {
    "duration": 2,
    "start_time": "2024-10-11T20:10:07.513Z"
   },
   {
    "duration": 3,
    "start_time": "2024-10-11T20:10:07.517Z"
   },
   {
    "duration": 2,
    "start_time": "2024-10-11T20:10:07.521Z"
   },
   {
    "duration": 47,
    "start_time": "2024-10-11T20:10:07.524Z"
   },
   {
    "duration": 6,
    "start_time": "2024-10-11T20:10:50.054Z"
   },
   {
    "duration": 7,
    "start_time": "2024-10-11T20:11:03.677Z"
   },
   {
    "duration": 11,
    "start_time": "2024-10-11T20:11:13.248Z"
   },
   {
    "duration": 13,
    "start_time": "2024-10-11T20:11:41.449Z"
   },
   {
    "duration": 4,
    "start_time": "2024-10-11T20:12:43.299Z"
   },
   {
    "duration": 8,
    "start_time": "2024-10-11T20:12:45.726Z"
   },
   {
    "duration": 8,
    "start_time": "2024-10-11T20:12:54.223Z"
   },
   {
    "duration": 11,
    "start_time": "2024-10-11T20:13:29.830Z"
   },
   {
    "duration": 15,
    "start_time": "2024-10-11T20:13:58.643Z"
   },
   {
    "duration": 11,
    "start_time": "2024-10-11T20:14:08.738Z"
   },
   {
    "duration": 3,
    "start_time": "2024-10-11T20:15:39.820Z"
   },
   {
    "duration": 181,
    "start_time": "2024-10-11T20:15:42.069Z"
   },
   {
    "duration": 10,
    "start_time": "2024-10-11T20:16:16.950Z"
   },
   {
    "duration": 19,
    "start_time": "2024-10-11T20:17:28.110Z"
   },
   {
    "duration": 13,
    "start_time": "2024-10-11T20:17:32.697Z"
   },
   {
    "duration": 13,
    "start_time": "2024-10-11T20:17:43.816Z"
   },
   {
    "duration": 487,
    "start_time": "2024-10-11T20:20:40.991Z"
   },
   {
    "duration": 65,
    "start_time": "2024-10-11T20:20:41.480Z"
   },
   {
    "duration": 9,
    "start_time": "2024-10-11T20:20:41.547Z"
   },
   {
    "duration": 7,
    "start_time": "2024-10-11T20:20:41.559Z"
   },
   {
    "duration": 845,
    "start_time": "2024-10-11T20:20:41.568Z"
   },
   {
    "duration": 17,
    "start_time": "2024-10-11T20:20:42.416Z"
   },
   {
    "duration": 47,
    "start_time": "2024-10-11T20:20:42.434Z"
   },
   {
    "duration": 105,
    "start_time": "2024-10-11T20:20:42.483Z"
   },
   {
    "duration": 9,
    "start_time": "2024-10-11T20:20:42.590Z"
   },
   {
    "duration": 111,
    "start_time": "2024-10-11T20:20:42.603Z"
   },
   {
    "duration": 93,
    "start_time": "2024-10-11T20:20:42.716Z"
   },
   {
    "duration": 27,
    "start_time": "2024-10-11T20:20:42.810Z"
   },
   {
    "duration": 12,
    "start_time": "2024-10-11T20:20:42.838Z"
   },
   {
    "duration": 19,
    "start_time": "2024-10-11T20:20:42.852Z"
   },
   {
    "duration": 24,
    "start_time": "2024-10-11T20:20:42.873Z"
   },
   {
    "duration": 8,
    "start_time": "2024-10-11T20:20:42.898Z"
   },
   {
    "duration": 3,
    "start_time": "2024-10-11T20:20:42.908Z"
   },
   {
    "duration": 7,
    "start_time": "2024-10-11T20:20:42.913Z"
   },
   {
    "duration": 8,
    "start_time": "2024-10-11T20:20:42.921Z"
   },
   {
    "duration": 41,
    "start_time": "2024-10-11T20:20:42.930Z"
   },
   {
    "duration": 784,
    "start_time": "2024-10-11T20:20:42.973Z"
   },
   {
    "duration": 765,
    "start_time": "2024-10-11T20:20:43.759Z"
   },
   {
    "duration": 5,
    "start_time": "2024-10-11T20:20:44.529Z"
   },
   {
    "duration": 8,
    "start_time": "2024-10-11T20:20:44.536Z"
   },
   {
    "duration": 7,
    "start_time": "2024-10-11T20:20:44.545Z"
   },
   {
    "duration": 21,
    "start_time": "2024-10-11T20:20:44.553Z"
   },
   {
    "duration": 11,
    "start_time": "2024-10-11T20:20:44.575Z"
   },
   {
    "duration": 12,
    "start_time": "2024-10-11T20:20:44.590Z"
   },
   {
    "duration": 5,
    "start_time": "2024-10-11T20:20:44.604Z"
   },
   {
    "duration": 0,
    "start_time": "2024-10-11T20:20:44.610Z"
   },
   {
    "duration": 0,
    "start_time": "2024-10-11T20:20:44.611Z"
   },
   {
    "duration": 0,
    "start_time": "2024-10-11T20:20:44.613Z"
   },
   {
    "duration": 0,
    "start_time": "2024-10-11T20:20:44.614Z"
   },
   {
    "duration": 433,
    "start_time": "2024-10-11T20:21:38.359Z"
   },
   {
    "duration": 61,
    "start_time": "2024-10-11T20:21:38.795Z"
   },
   {
    "duration": 9,
    "start_time": "2024-10-11T20:21:38.858Z"
   },
   {
    "duration": 8,
    "start_time": "2024-10-11T20:21:38.868Z"
   },
   {
    "duration": 797,
    "start_time": "2024-10-11T20:21:38.879Z"
   },
   {
    "duration": 17,
    "start_time": "2024-10-11T20:21:39.679Z"
   },
   {
    "duration": 36,
    "start_time": "2024-10-11T20:21:39.698Z"
   },
   {
    "duration": 116,
    "start_time": "2024-10-11T20:21:39.736Z"
   },
   {
    "duration": 17,
    "start_time": "2024-10-11T20:21:39.854Z"
   },
   {
    "duration": 92,
    "start_time": "2024-10-11T20:21:39.872Z"
   },
   {
    "duration": 82,
    "start_time": "2024-10-11T20:21:39.970Z"
   },
   {
    "duration": 40,
    "start_time": "2024-10-11T20:21:40.054Z"
   },
   {
    "duration": 12,
    "start_time": "2024-10-11T20:21:40.096Z"
   },
   {
    "duration": 3,
    "start_time": "2024-10-11T20:21:40.112Z"
   },
   {
    "duration": 23,
    "start_time": "2024-10-11T20:21:40.118Z"
   },
   {
    "duration": 29,
    "start_time": "2024-10-11T20:21:40.143Z"
   },
   {
    "duration": 4,
    "start_time": "2024-10-11T20:21:40.173Z"
   },
   {
    "duration": 7,
    "start_time": "2024-10-11T20:21:40.179Z"
   },
   {
    "duration": 8,
    "start_time": "2024-10-11T20:21:40.188Z"
   },
   {
    "duration": 3,
    "start_time": "2024-10-11T20:21:40.198Z"
   },
   {
    "duration": 812,
    "start_time": "2024-10-11T20:21:40.203Z"
   },
   {
    "duration": 753,
    "start_time": "2024-10-11T20:21:41.017Z"
   },
   {
    "duration": 6,
    "start_time": "2024-10-11T20:21:41.771Z"
   },
   {
    "duration": 8,
    "start_time": "2024-10-11T20:21:41.779Z"
   },
   {
    "duration": 8,
    "start_time": "2024-10-11T20:21:41.788Z"
   },
   {
    "duration": 5,
    "start_time": "2024-10-11T20:21:41.798Z"
   },
   {
    "duration": 10,
    "start_time": "2024-10-11T20:21:41.805Z"
   },
   {
    "duration": 12,
    "start_time": "2024-10-11T20:21:41.818Z"
   },
   {
    "duration": 434,
    "start_time": "2024-10-11T20:22:12.747Z"
   },
   {
    "duration": 65,
    "start_time": "2024-10-11T20:22:13.184Z"
   },
   {
    "duration": 9,
    "start_time": "2024-10-11T20:22:13.251Z"
   },
   {
    "duration": 8,
    "start_time": "2024-10-11T20:22:13.262Z"
   },
   {
    "duration": 805,
    "start_time": "2024-10-11T20:22:13.271Z"
   },
   {
    "duration": 17,
    "start_time": "2024-10-11T20:22:14.077Z"
   },
   {
    "duration": 30,
    "start_time": "2024-10-11T20:22:14.096Z"
   },
   {
    "duration": 114,
    "start_time": "2024-10-11T20:22:14.128Z"
   },
   {
    "duration": 9,
    "start_time": "2024-10-11T20:22:14.244Z"
   },
   {
    "duration": 101,
    "start_time": "2024-10-11T20:22:14.256Z"
   },
   {
    "duration": 85,
    "start_time": "2024-10-11T20:22:14.358Z"
   },
   {
    "duration": 40,
    "start_time": "2024-10-11T20:22:14.445Z"
   },
   {
    "duration": 11,
    "start_time": "2024-10-11T20:22:14.488Z"
   },
   {
    "duration": 3,
    "start_time": "2024-10-11T20:22:14.500Z"
   },
   {
    "duration": 24,
    "start_time": "2024-10-11T20:22:14.505Z"
   },
   {
    "duration": 10,
    "start_time": "2024-10-11T20:22:14.530Z"
   },
   {
    "duration": 4,
    "start_time": "2024-10-11T20:22:14.571Z"
   },
   {
    "duration": 7,
    "start_time": "2024-10-11T20:22:14.577Z"
   },
   {
    "duration": 7,
    "start_time": "2024-10-11T20:22:14.586Z"
   },
   {
    "duration": 3,
    "start_time": "2024-10-11T20:22:14.595Z"
   },
   {
    "duration": 817,
    "start_time": "2024-10-11T20:22:14.601Z"
   },
   {
    "duration": 789,
    "start_time": "2024-10-11T20:22:15.420Z"
   },
   {
    "duration": 6,
    "start_time": "2024-10-11T20:22:16.211Z"
   },
   {
    "duration": 10,
    "start_time": "2024-10-11T20:22:16.219Z"
   },
   {
    "duration": 9,
    "start_time": "2024-10-11T20:22:16.230Z"
   },
   {
    "duration": 33,
    "start_time": "2024-10-11T20:22:16.241Z"
   },
   {
    "duration": 13,
    "start_time": "2024-10-11T20:22:16.276Z"
   },
   {
    "duration": 12,
    "start_time": "2024-10-11T20:22:16.292Z"
   },
   {
    "duration": 157,
    "start_time": "2024-10-11T20:23:36.554Z"
   },
   {
    "duration": 13,
    "start_time": "2024-10-11T20:23:56.663Z"
   },
   {
    "duration": 434,
    "start_time": "2024-10-11T20:24:00.246Z"
   },
   {
    "duration": 70,
    "start_time": "2024-10-11T20:24:00.683Z"
   },
   {
    "duration": 8,
    "start_time": "2024-10-11T20:24:00.755Z"
   },
   {
    "duration": 7,
    "start_time": "2024-10-11T20:24:00.765Z"
   },
   {
    "duration": 829,
    "start_time": "2024-10-11T20:24:00.774Z"
   },
   {
    "duration": 17,
    "start_time": "2024-10-11T20:24:01.604Z"
   },
   {
    "duration": 49,
    "start_time": "2024-10-11T20:24:01.622Z"
   },
   {
    "duration": 99,
    "start_time": "2024-10-11T20:24:01.672Z"
   },
   {
    "duration": 10,
    "start_time": "2024-10-11T20:24:01.773Z"
   },
   {
    "duration": 103,
    "start_time": "2024-10-11T20:24:01.787Z"
   },
   {
    "duration": 89,
    "start_time": "2024-10-11T20:24:01.891Z"
   },
   {
    "duration": 30,
    "start_time": "2024-10-11T20:24:01.982Z"
   },
   {
    "duration": 13,
    "start_time": "2024-10-11T20:24:02.014Z"
   },
   {
    "duration": 4,
    "start_time": "2024-10-11T20:24:02.028Z"
   },
   {
    "duration": 60,
    "start_time": "2024-10-11T20:24:02.034Z"
   },
   {
    "duration": 11,
    "start_time": "2024-10-11T20:24:02.096Z"
   },
   {
    "duration": 4,
    "start_time": "2024-10-11T20:24:02.108Z"
   },
   {
    "duration": 10,
    "start_time": "2024-10-11T20:24:02.114Z"
   },
   {
    "duration": 9,
    "start_time": "2024-10-11T20:24:02.125Z"
   },
   {
    "duration": 35,
    "start_time": "2024-10-11T20:24:02.135Z"
   },
   {
    "duration": 766,
    "start_time": "2024-10-11T20:24:02.172Z"
   },
   {
    "duration": 768,
    "start_time": "2024-10-11T20:24:02.940Z"
   },
   {
    "duration": 6,
    "start_time": "2024-10-11T20:24:03.710Z"
   },
   {
    "duration": 9,
    "start_time": "2024-10-11T20:24:03.717Z"
   },
   {
    "duration": 8,
    "start_time": "2024-10-11T20:24:03.728Z"
   },
   {
    "duration": 32,
    "start_time": "2024-10-11T20:24:03.738Z"
   },
   {
    "duration": 12,
    "start_time": "2024-10-11T20:24:03.772Z"
   },
   {
    "duration": 12,
    "start_time": "2024-10-11T20:24:03.787Z"
   },
   {
    "duration": 465,
    "start_time": "2024-10-11T20:24:18.909Z"
   },
   {
    "duration": 66,
    "start_time": "2024-10-11T20:24:19.376Z"
   },
   {
    "duration": 9,
    "start_time": "2024-10-11T20:24:19.444Z"
   },
   {
    "duration": 8,
    "start_time": "2024-10-11T20:24:19.454Z"
   },
   {
    "duration": 808,
    "start_time": "2024-10-11T20:24:19.464Z"
   },
   {
    "duration": 16,
    "start_time": "2024-10-11T20:24:20.274Z"
   },
   {
    "duration": 31,
    "start_time": "2024-10-11T20:24:20.292Z"
   },
   {
    "duration": 107,
    "start_time": "2024-10-11T20:24:20.325Z"
   },
   {
    "duration": 10,
    "start_time": "2024-10-11T20:24:20.434Z"
   },
   {
    "duration": 102,
    "start_time": "2024-10-11T20:24:20.448Z"
   },
   {
    "duration": 90,
    "start_time": "2024-10-11T20:24:20.552Z"
   },
   {
    "duration": 35,
    "start_time": "2024-10-11T20:24:20.644Z"
   },
   {
    "duration": 13,
    "start_time": "2024-10-11T20:24:20.681Z"
   },
   {
    "duration": 3,
    "start_time": "2024-10-11T20:24:20.696Z"
   },
   {
    "duration": 25,
    "start_time": "2024-10-11T20:24:20.701Z"
   },
   {
    "duration": 9,
    "start_time": "2024-10-11T20:24:20.728Z"
   },
   {
    "duration": 31,
    "start_time": "2024-10-11T20:24:20.739Z"
   },
   {
    "duration": 8,
    "start_time": "2024-10-11T20:24:20.772Z"
   },
   {
    "duration": 7,
    "start_time": "2024-10-11T20:24:20.782Z"
   },
   {
    "duration": 4,
    "start_time": "2024-10-11T20:24:20.790Z"
   },
   {
    "duration": 796,
    "start_time": "2024-10-11T20:24:20.795Z"
   },
   {
    "duration": 755,
    "start_time": "2024-10-11T20:24:21.593Z"
   },
   {
    "duration": 5,
    "start_time": "2024-10-11T20:24:22.350Z"
   },
   {
    "duration": 20,
    "start_time": "2024-10-11T20:24:22.357Z"
   },
   {
    "duration": 7,
    "start_time": "2024-10-11T20:24:22.379Z"
   },
   {
    "duration": 5,
    "start_time": "2024-10-11T20:24:22.388Z"
   },
   {
    "duration": 10,
    "start_time": "2024-10-11T20:24:22.396Z"
   },
   {
    "duration": 12,
    "start_time": "2024-10-11T20:24:22.410Z"
   },
   {
    "duration": 2,
    "start_time": "2024-10-11T20:24:22.423Z"
   },
   {
    "duration": 2,
    "start_time": "2024-10-11T20:24:22.427Z"
   },
   {
    "duration": 3,
    "start_time": "2024-10-11T20:24:22.469Z"
   },
   {
    "duration": 6,
    "start_time": "2024-10-11T20:24:22.473Z"
   },
   {
    "duration": 2,
    "start_time": "2024-10-11T20:24:22.480Z"
   },
   {
    "duration": 124,
    "start_time": "2024-10-11T20:24:44.351Z"
   },
   {
    "duration": 34,
    "start_time": "2024-10-11T20:24:44.477Z"
   },
   {
    "duration": 7,
    "start_time": "2024-10-11T20:24:44.512Z"
   },
   {
    "duration": 8,
    "start_time": "2024-10-11T20:24:44.522Z"
   },
   {
    "duration": 712,
    "start_time": "2024-10-11T20:24:44.533Z"
   },
   {
    "duration": 17,
    "start_time": "2024-10-11T20:24:45.248Z"
   },
   {
    "duration": 31,
    "start_time": "2024-10-11T20:24:45.266Z"
   },
   {
    "duration": 93,
    "start_time": "2024-10-11T20:24:45.299Z"
   },
   {
    "duration": 8,
    "start_time": "2024-10-11T20:24:45.394Z"
   },
   {
    "duration": 96,
    "start_time": "2024-10-11T20:24:45.404Z"
   },
   {
    "duration": 78,
    "start_time": "2024-10-11T20:24:45.502Z"
   },
   {
    "duration": 22,
    "start_time": "2024-10-11T20:24:45.581Z"
   },
   {
    "duration": 12,
    "start_time": "2024-10-11T20:24:45.605Z"
   },
   {
    "duration": 3,
    "start_time": "2024-10-11T20:24:45.620Z"
   },
   {
    "duration": 49,
    "start_time": "2024-10-11T20:24:45.625Z"
   },
   {
    "duration": 11,
    "start_time": "2024-10-11T20:24:45.675Z"
   },
   {
    "duration": 4,
    "start_time": "2024-10-11T20:24:45.687Z"
   },
   {
    "duration": 7,
    "start_time": "2024-10-11T20:24:45.693Z"
   },
   {
    "duration": 7,
    "start_time": "2024-10-11T20:24:45.702Z"
   },
   {
    "duration": 3,
    "start_time": "2024-10-11T20:24:45.711Z"
   },
   {
    "duration": 801,
    "start_time": "2024-10-11T20:24:45.716Z"
   },
   {
    "duration": 787,
    "start_time": "2024-10-11T20:24:46.519Z"
   },
   {
    "duration": 5,
    "start_time": "2024-10-11T20:24:47.308Z"
   },
   {
    "duration": 8,
    "start_time": "2024-10-11T20:24:47.315Z"
   },
   {
    "duration": 8,
    "start_time": "2024-10-11T20:24:47.324Z"
   },
   {
    "duration": 6,
    "start_time": "2024-10-11T20:24:47.333Z"
   },
   {
    "duration": 36,
    "start_time": "2024-10-11T20:24:47.342Z"
   },
   {
    "duration": 14,
    "start_time": "2024-10-11T20:24:47.380Z"
   },
   {
    "duration": 2,
    "start_time": "2024-10-11T20:24:47.396Z"
   },
   {
    "duration": 2,
    "start_time": "2024-10-11T20:24:47.400Z"
   },
   {
    "duration": 2,
    "start_time": "2024-10-11T20:24:47.404Z"
   },
   {
    "duration": 2,
    "start_time": "2024-10-11T20:24:47.408Z"
   },
   {
    "duration": 2,
    "start_time": "2024-10-11T20:24:47.412Z"
   },
   {
    "duration": 504,
    "start_time": "2024-10-11T20:26:46.177Z"
   },
   {
    "duration": 65,
    "start_time": "2024-10-11T20:26:46.684Z"
   },
   {
    "duration": 9,
    "start_time": "2024-10-11T20:26:46.751Z"
   },
   {
    "duration": 12,
    "start_time": "2024-10-11T20:26:46.763Z"
   },
   {
    "duration": 804,
    "start_time": "2024-10-11T20:26:46.777Z"
   },
   {
    "duration": 18,
    "start_time": "2024-10-11T20:26:47.584Z"
   },
   {
    "duration": 32,
    "start_time": "2024-10-11T20:26:47.603Z"
   },
   {
    "duration": 122,
    "start_time": "2024-10-11T20:26:47.637Z"
   },
   {
    "duration": 16,
    "start_time": "2024-10-11T20:26:47.761Z"
   },
   {
    "duration": 102,
    "start_time": "2024-10-11T20:26:47.780Z"
   },
   {
    "duration": 86,
    "start_time": "2024-10-11T20:26:47.884Z"
   },
   {
    "duration": 27,
    "start_time": "2024-10-11T20:26:47.971Z"
   },
   {
    "duration": 11,
    "start_time": "2024-10-11T20:26:48.000Z"
   },
   {
    "duration": 2,
    "start_time": "2024-10-11T20:26:48.013Z"
   },
   {
    "duration": 23,
    "start_time": "2024-10-11T20:26:48.017Z"
   },
   {
    "duration": 32,
    "start_time": "2024-10-11T20:26:48.042Z"
   },
   {
    "duration": 4,
    "start_time": "2024-10-11T20:26:48.076Z"
   },
   {
    "duration": 8,
    "start_time": "2024-10-11T20:26:48.082Z"
   },
   {
    "duration": 7,
    "start_time": "2024-10-11T20:26:48.091Z"
   },
   {
    "duration": 4,
    "start_time": "2024-10-11T20:26:48.099Z"
   },
   {
    "duration": 787,
    "start_time": "2024-10-11T20:26:48.104Z"
   },
   {
    "duration": 751,
    "start_time": "2024-10-11T20:26:48.893Z"
   },
   {
    "duration": 6,
    "start_time": "2024-10-11T20:26:49.645Z"
   },
   {
    "duration": 20,
    "start_time": "2024-10-11T20:26:49.653Z"
   },
   {
    "duration": 7,
    "start_time": "2024-10-11T20:26:49.674Z"
   },
   {
    "duration": 5,
    "start_time": "2024-10-11T20:26:49.683Z"
   },
   {
    "duration": 12,
    "start_time": "2024-10-11T20:26:49.689Z"
   },
   {
    "duration": 11,
    "start_time": "2024-10-11T20:26:49.704Z"
   },
   {
    "duration": 13,
    "start_time": "2024-10-11T20:26:49.717Z"
   },
   {
    "duration": 2,
    "start_time": "2024-10-11T20:26:49.731Z"
   },
   {
    "duration": 2,
    "start_time": "2024-10-11T20:26:49.770Z"
   },
   {
    "duration": 2,
    "start_time": "2024-10-11T20:26:49.774Z"
   },
   {
    "duration": 2,
    "start_time": "2024-10-11T20:26:49.778Z"
   },
   {
    "duration": 13,
    "start_time": "2024-10-11T20:26:55.375Z"
   },
   {
    "duration": 13,
    "start_time": "2024-10-11T20:27:15.272Z"
   },
   {
    "duration": 14,
    "start_time": "2024-10-11T20:27:20.613Z"
   },
   {
    "duration": 6,
    "start_time": "2024-10-11T20:27:53.581Z"
   },
   {
    "duration": 16,
    "start_time": "2024-10-11T20:27:55.831Z"
   },
   {
    "duration": 16,
    "start_time": "2024-10-11T20:28:00.984Z"
   },
   {
    "duration": 182,
    "start_time": "2024-10-11T20:30:35.347Z"
   },
   {
    "duration": 13,
    "start_time": "2024-10-11T20:31:55.384Z"
   },
   {
    "duration": 13,
    "start_time": "2024-10-11T20:32:42.750Z"
   },
   {
    "duration": 7,
    "start_time": "2024-10-11T20:33:05.904Z"
   },
   {
    "duration": 10,
    "start_time": "2024-10-11T20:33:14.061Z"
   },
   {
    "duration": 10,
    "start_time": "2024-10-11T20:33:18.783Z"
   },
   {
    "duration": 22,
    "start_time": "2024-10-11T20:34:40.122Z"
   },
   {
    "duration": 23,
    "start_time": "2024-10-11T20:34:44.912Z"
   },
   {
    "duration": 42,
    "start_time": "2024-10-11T20:35:29.051Z"
   },
   {
    "duration": 43,
    "start_time": "2024-10-11T20:35:58.926Z"
   },
   {
    "duration": 394,
    "start_time": "2024-10-11T20:37:02.408Z"
   },
   {
    "duration": 3,
    "start_time": "2024-10-11T20:37:16.839Z"
   },
   {
    "duration": 5,
    "start_time": "2024-10-11T20:37:21.726Z"
   },
   {
    "duration": 6,
    "start_time": "2024-10-11T20:37:27.175Z"
   },
   {
    "duration": 6,
    "start_time": "2024-10-11T20:38:22.198Z"
   },
   {
    "duration": 7,
    "start_time": "2024-10-11T20:38:29.683Z"
   },
   {
    "duration": 12,
    "start_time": "2024-10-11T20:38:54.644Z"
   },
   {
    "duration": 42,
    "start_time": "2024-10-11T20:41:26.033Z"
   },
   {
    "duration": 45,
    "start_time": "2024-10-11T20:41:31.443Z"
   },
   {
    "duration": 45,
    "start_time": "2024-10-11T20:41:45.044Z"
   },
   {
    "duration": 8,
    "start_time": "2024-10-11T20:43:03.133Z"
   },
   {
    "duration": 6,
    "start_time": "2024-10-11T20:43:45.806Z"
   },
   {
    "duration": 7,
    "start_time": "2024-10-11T20:43:49.409Z"
   },
   {
    "duration": 31,
    "start_time": "2024-10-11T20:44:21.940Z"
   },
   {
    "duration": 4,
    "start_time": "2024-10-11T20:45:03.749Z"
   },
   {
    "duration": 3,
    "start_time": "2024-10-11T20:45:13.383Z"
   },
   {
    "duration": 4,
    "start_time": "2024-10-11T20:45:23.548Z"
   },
   {
    "duration": 4,
    "start_time": "2024-10-11T20:45:36.081Z"
   },
   {
    "duration": 4,
    "start_time": "2024-10-11T20:45:45.700Z"
   },
   {
    "duration": 3,
    "start_time": "2024-10-11T20:45:56.246Z"
   },
   {
    "duration": 6,
    "start_time": "2024-10-11T20:46:02.299Z"
   },
   {
    "duration": 6,
    "start_time": "2024-10-11T20:46:43.312Z"
   },
   {
    "duration": 10,
    "start_time": "2024-10-11T20:47:02.546Z"
   },
   {
    "duration": 78,
    "start_time": "2024-10-11T20:48:05.027Z"
   },
   {
    "duration": 2,
    "start_time": "2024-10-11T20:48:12.170Z"
   },
   {
    "duration": 16,
    "start_time": "2024-10-11T20:48:20.578Z"
   },
   {
    "duration": 1219,
    "start_time": "2024-10-11T20:48:38.926Z"
   },
   {
    "duration": 1276,
    "start_time": "2024-10-11T20:48:42.707Z"
   },
   {
    "duration": 13,
    "start_time": "2024-10-11T20:49:45.524Z"
   },
   {
    "duration": 162,
    "start_time": "2024-10-11T20:49:52.693Z"
   },
   {
    "duration": 193,
    "start_time": "2024-10-11T20:50:08.907Z"
   },
   {
    "duration": 172,
    "start_time": "2024-10-11T20:50:16.883Z"
   },
   {
    "duration": 160,
    "start_time": "2024-10-11T20:50:22.323Z"
   },
   {
    "duration": 5,
    "start_time": "2024-10-11T20:50:36.850Z"
   },
   {
    "duration": 6,
    "start_time": "2024-10-11T20:50:43.391Z"
   },
   {
    "duration": 4,
    "start_time": "2024-10-11T20:51:01.989Z"
   },
   {
    "duration": 7,
    "start_time": "2024-10-11T20:51:07.485Z"
   },
   {
    "duration": 3,
    "start_time": "2024-10-11T20:51:25.379Z"
   },
   {
    "duration": 437,
    "start_time": "2024-10-11T20:51:31.105Z"
   },
   {
    "duration": 45,
    "start_time": "2024-10-11T20:51:31.544Z"
   },
   {
    "duration": 9,
    "start_time": "2024-10-11T20:51:31.590Z"
   },
   {
    "duration": 7,
    "start_time": "2024-10-11T20:51:31.601Z"
   },
   {
    "duration": 726,
    "start_time": "2024-10-11T20:51:31.610Z"
   },
   {
    "duration": 17,
    "start_time": "2024-10-11T20:51:32.340Z"
   },
   {
    "duration": 42,
    "start_time": "2024-10-11T20:51:32.358Z"
   },
   {
    "duration": 102,
    "start_time": "2024-10-11T20:51:32.402Z"
   },
   {
    "duration": 9,
    "start_time": "2024-10-11T20:51:32.506Z"
   },
   {
    "duration": 107,
    "start_time": "2024-10-11T20:51:32.517Z"
   },
   {
    "duration": 89,
    "start_time": "2024-10-11T20:51:32.625Z"
   },
   {
    "duration": 30,
    "start_time": "2024-10-11T20:51:32.716Z"
   },
   {
    "duration": 26,
    "start_time": "2024-10-11T20:51:32.748Z"
   },
   {
    "duration": 3,
    "start_time": "2024-10-11T20:51:32.777Z"
   },
   {
    "duration": 24,
    "start_time": "2024-10-11T20:51:32.782Z"
   },
   {
    "duration": 9,
    "start_time": "2024-10-11T20:51:32.807Z"
   },
   {
    "duration": 4,
    "start_time": "2024-10-11T20:51:32.817Z"
   },
   {
    "duration": 8,
    "start_time": "2024-10-11T20:51:32.822Z"
   },
   {
    "duration": 42,
    "start_time": "2024-10-11T20:51:32.832Z"
   },
   {
    "duration": 3,
    "start_time": "2024-10-11T20:51:32.876Z"
   },
   {
    "duration": 778,
    "start_time": "2024-10-11T20:51:32.881Z"
   },
   {
    "duration": 761,
    "start_time": "2024-10-11T20:51:33.661Z"
   },
   {
    "duration": 7,
    "start_time": "2024-10-11T20:51:34.424Z"
   },
   {
    "duration": 10,
    "start_time": "2024-10-11T20:51:34.434Z"
   },
   {
    "duration": 25,
    "start_time": "2024-10-11T20:51:34.446Z"
   },
   {
    "duration": 7,
    "start_time": "2024-10-11T20:51:34.472Z"
   },
   {
    "duration": 12,
    "start_time": "2024-10-11T20:51:34.480Z"
   },
   {
    "duration": 12,
    "start_time": "2024-10-11T20:51:34.494Z"
   },
   {
    "duration": 16,
    "start_time": "2024-10-11T20:51:34.508Z"
   },
   {
    "duration": 45,
    "start_time": "2024-10-11T20:51:34.525Z"
   },
   {
    "duration": 48,
    "start_time": "2024-10-11T20:51:34.572Z"
   },
   {
    "duration": 3,
    "start_time": "2024-10-11T20:51:34.622Z"
   },
   {
    "duration": 2,
    "start_time": "2024-10-11T20:51:34.627Z"
   },
   {
    "duration": 2,
    "start_time": "2024-10-11T20:51:34.631Z"
   },
   {
    "duration": 6,
    "start_time": "2024-10-11T20:51:43.563Z"
   },
   {
    "duration": 9,
    "start_time": "2024-10-11T20:52:25.464Z"
   },
   {
    "duration": 48,
    "start_time": "2024-10-11T20:52:37.475Z"
   },
   {
    "duration": 51,
    "start_time": "2024-10-11T20:54:12.093Z"
   },
   {
    "duration": 10,
    "start_time": "2024-10-11T20:54:17.239Z"
   },
   {
    "duration": 11,
    "start_time": "2024-10-11T20:54:28.224Z"
   },
   {
    "duration": 3,
    "start_time": "2024-10-11T20:55:59.299Z"
   },
   {
    "duration": 6,
    "start_time": "2024-10-11T20:56:03.295Z"
   },
   {
    "duration": 5,
    "start_time": "2024-10-11T20:56:25.620Z"
   },
   {
    "duration": 3,
    "start_time": "2024-10-11T20:56:33.379Z"
   },
   {
    "duration": 8,
    "start_time": "2024-10-11T20:56:35.958Z"
   },
   {
    "duration": 6,
    "start_time": "2024-10-11T20:57:27.555Z"
   },
   {
    "duration": 11,
    "start_time": "2024-10-11T20:57:33.315Z"
   },
   {
    "duration": 10,
    "start_time": "2024-10-11T20:57:47.805Z"
   },
   {
    "duration": 10,
    "start_time": "2024-10-11T20:58:12.378Z"
   },
   {
    "duration": 10,
    "start_time": "2024-10-11T20:58:28.222Z"
   },
   {
    "duration": 3,
    "start_time": "2024-10-11T21:01:06.176Z"
   },
   {
    "duration": 661,
    "start_time": "2024-10-11T21:03:28.919Z"
   },
   {
    "duration": 19,
    "start_time": "2024-10-11T21:03:49.356Z"
   },
   {
    "duration": 36,
    "start_time": "2024-10-11T21:04:01.524Z"
   },
   {
    "duration": 31,
    "start_time": "2024-10-11T21:04:07.460Z"
   },
   {
    "duration": 30,
    "start_time": "2024-10-11T21:04:11.121Z"
   },
   {
    "duration": 41,
    "start_time": "2024-10-11T21:04:21.460Z"
   },
   {
    "duration": 40,
    "start_time": "2024-10-11T21:04:27.913Z"
   },
   {
    "duration": 5,
    "start_time": "2024-10-11T21:04:32.745Z"
   },
   {
    "duration": 4,
    "start_time": "2024-10-11T21:04:36.271Z"
   },
   {
    "duration": 39,
    "start_time": "2024-10-11T21:04:42.801Z"
   },
   {
    "duration": 51,
    "start_time": "2024-10-11T21:04:46.652Z"
   },
   {
    "duration": 40,
    "start_time": "2024-10-11T21:04:54.445Z"
   },
   {
    "duration": 34,
    "start_time": "2024-10-11T21:05:00.583Z"
   },
   {
    "duration": 35,
    "start_time": "2024-10-11T21:05:07.222Z"
   },
   {
    "duration": 95,
    "start_time": "2024-10-11T21:06:25.765Z"
   },
   {
    "duration": 34,
    "start_time": "2024-10-11T21:06:34.713Z"
   },
   {
    "duration": 33,
    "start_time": "2024-10-11T21:08:24.387Z"
   },
   {
    "duration": 545,
    "start_time": "2024-10-13T01:31:00.197Z"
   },
   {
    "duration": 76,
    "start_time": "2024-10-13T01:31:00.749Z"
   },
   {
    "duration": 11,
    "start_time": "2024-10-13T01:31:00.828Z"
   },
   {
    "duration": 13,
    "start_time": "2024-10-13T01:31:00.842Z"
   },
   {
    "duration": 893,
    "start_time": "2024-10-13T01:31:00.857Z"
   },
   {
    "duration": 17,
    "start_time": "2024-10-13T01:31:01.752Z"
   },
   {
    "duration": 31,
    "start_time": "2024-10-13T01:31:01.771Z"
   },
   {
    "duration": 118,
    "start_time": "2024-10-13T01:31:01.804Z"
   },
   {
    "duration": 18,
    "start_time": "2024-10-13T01:31:01.924Z"
   },
   {
    "duration": 103,
    "start_time": "2024-10-13T01:31:01.946Z"
   },
   {
    "duration": 81,
    "start_time": "2024-10-13T01:31:02.051Z"
   },
   {
    "duration": 31,
    "start_time": "2024-10-13T01:31:02.134Z"
   },
   {
    "duration": 11,
    "start_time": "2024-10-13T01:31:02.167Z"
   },
   {
    "duration": 3,
    "start_time": "2024-10-13T01:31:02.180Z"
   },
   {
    "duration": 24,
    "start_time": "2024-10-13T01:31:02.184Z"
   },
   {
    "duration": 40,
    "start_time": "2024-10-13T01:31:02.209Z"
   },
   {
    "duration": 4,
    "start_time": "2024-10-13T01:31:02.250Z"
   },
   {
    "duration": 8,
    "start_time": "2024-10-13T01:31:02.255Z"
   },
   {
    "duration": 8,
    "start_time": "2024-10-13T01:31:02.264Z"
   },
   {
    "duration": 3,
    "start_time": "2024-10-13T01:31:02.273Z"
   },
   {
    "duration": 813,
    "start_time": "2024-10-13T01:31:02.278Z"
   },
   {
    "duration": 775,
    "start_time": "2024-10-13T01:31:03.093Z"
   },
   {
    "duration": 6,
    "start_time": "2024-10-13T01:31:03.870Z"
   },
   {
    "duration": 8,
    "start_time": "2024-10-13T01:31:03.878Z"
   },
   {
    "duration": 10,
    "start_time": "2024-10-13T01:31:03.888Z"
   },
   {
    "duration": 6,
    "start_time": "2024-10-13T01:31:03.900Z"
   },
   {
    "duration": 44,
    "start_time": "2024-10-13T01:31:03.908Z"
   },
   {
    "duration": 15,
    "start_time": "2024-10-13T01:31:03.956Z"
   },
   {
    "duration": 17,
    "start_time": "2024-10-13T01:31:03.973Z"
   },
   {
    "duration": 12,
    "start_time": "2024-10-13T01:31:03.992Z"
   },
   {
    "duration": 82,
    "start_time": "2024-10-13T01:31:04.006Z"
   },
   {
    "duration": 10,
    "start_time": "2024-10-13T01:31:04.090Z"
   },
   {
    "duration": 3,
    "start_time": "2024-10-13T01:31:04.101Z"
   },
   {
    "duration": 65,
    "start_time": "2024-10-13T01:31:04.105Z"
   },
   {
    "duration": 14,
    "start_time": "2024-10-13T01:32:54.364Z"
   },
   {
    "duration": 5,
    "start_time": "2024-10-13T01:34:27.068Z"
   },
   {
    "duration": 6,
    "start_time": "2024-10-13T01:34:38.379Z"
   },
   {
    "duration": 5,
    "start_time": "2024-10-13T01:34:41.565Z"
   },
   {
    "duration": 7,
    "start_time": "2024-10-13T01:36:24.483Z"
   },
   {
    "duration": 6,
    "start_time": "2024-10-13T01:36:46.597Z"
   },
   {
    "duration": 6,
    "start_time": "2024-10-13T01:37:05.349Z"
   },
   {
    "duration": 3,
    "start_time": "2024-10-13T01:39:59.465Z"
   },
   {
    "duration": 4,
    "start_time": "2024-10-13T01:40:04.795Z"
   },
   {
    "duration": 4,
    "start_time": "2024-10-13T01:40:09.989Z"
   },
   {
    "duration": 4,
    "start_time": "2024-10-13T01:40:32.572Z"
   },
   {
    "duration": 407,
    "start_time": "2024-10-13T01:41:03.326Z"
   },
   {
    "duration": 59,
    "start_time": "2024-10-13T01:41:34.295Z"
   },
   {
    "duration": 4,
    "start_time": "2024-10-13T01:41:49.126Z"
   },
   {
    "duration": 17,
    "start_time": "2024-10-13T01:41:57.149Z"
   },
   {
    "duration": 12,
    "start_time": "2024-10-13T01:42:16.439Z"
   },
   {
    "duration": 21,
    "start_time": "2024-10-13T01:42:30.160Z"
   },
   {
    "duration": 17,
    "start_time": "2024-10-13T01:42:33.959Z"
   },
   {
    "duration": 3,
    "start_time": "2024-10-13T01:42:37.914Z"
   },
   {
    "duration": 3,
    "start_time": "2024-10-13T01:42:42.532Z"
   },
   {
    "duration": 25,
    "start_time": "2024-10-13T01:42:47.412Z"
   },
   {
    "duration": 16,
    "start_time": "2024-10-13T01:43:01.355Z"
   },
   {
    "duration": 16,
    "start_time": "2024-10-13T01:43:09.906Z"
   },
   {
    "duration": 3,
    "start_time": "2024-10-13T01:44:00.514Z"
   },
   {
    "duration": 4,
    "start_time": "2024-10-13T01:44:04.978Z"
   },
   {
    "duration": 11,
    "start_time": "2024-10-13T01:44:12.326Z"
   },
   {
    "duration": 6,
    "start_time": "2024-10-13T01:44:15.000Z"
   },
   {
    "duration": 6,
    "start_time": "2024-10-13T01:44:33.233Z"
   },
   {
    "duration": 5,
    "start_time": "2024-10-13T01:44:38.026Z"
   },
   {
    "duration": 6,
    "start_time": "2024-10-13T01:44:44.258Z"
   },
   {
    "duration": 8,
    "start_time": "2024-10-13T01:44:50.947Z"
   },
   {
    "duration": 6,
    "start_time": "2024-10-13T01:44:54.884Z"
   },
   {
    "duration": 3,
    "start_time": "2024-10-13T01:46:46.466Z"
   },
   {
    "duration": 8,
    "start_time": "2024-10-13T01:46:50.125Z"
   },
   {
    "duration": 1968,
    "start_time": "2024-10-13T01:48:13.106Z"
   },
   {
    "duration": 121,
    "start_time": "2024-10-13T01:48:17.810Z"
   },
   {
    "duration": 109,
    "start_time": "2024-10-13T01:48:31.610Z"
   },
   {
    "duration": 123,
    "start_time": "2024-10-13T01:48:44.388Z"
   },
   {
    "duration": 109,
    "start_time": "2024-10-13T01:48:51.463Z"
   },
   {
    "duration": 117,
    "start_time": "2024-10-13T01:49:10.516Z"
   },
   {
    "duration": 99,
    "start_time": "2024-10-13T01:49:16.162Z"
   },
   {
    "duration": 180,
    "start_time": "2024-10-13T01:54:10.275Z"
   },
   {
    "duration": 115,
    "start_time": "2024-10-13T01:54:56.475Z"
   },
   {
    "duration": 4,
    "start_time": "2024-10-13T01:55:54.627Z"
   },
   {
    "duration": 6,
    "start_time": "2024-10-13T01:56:17.933Z"
   },
   {
    "duration": 606,
    "start_time": "2024-10-13T01:56:36.474Z"
   },
   {
    "duration": 40,
    "start_time": "2024-10-13T01:56:37.082Z"
   },
   {
    "duration": 19,
    "start_time": "2024-10-13T01:56:37.124Z"
   },
   {
    "duration": 10,
    "start_time": "2024-10-13T01:56:37.145Z"
   },
   {
    "duration": 739,
    "start_time": "2024-10-13T01:56:37.158Z"
   },
   {
    "duration": 16,
    "start_time": "2024-10-13T01:56:37.899Z"
   },
   {
    "duration": 47,
    "start_time": "2024-10-13T01:56:37.916Z"
   },
   {
    "duration": 108,
    "start_time": "2024-10-13T01:56:37.964Z"
   },
   {
    "duration": 9,
    "start_time": "2024-10-13T01:56:38.073Z"
   },
   {
    "duration": 114,
    "start_time": "2024-10-13T01:56:38.083Z"
   },
   {
    "duration": 95,
    "start_time": "2024-10-13T01:56:38.199Z"
   },
   {
    "duration": 27,
    "start_time": "2024-10-13T01:56:38.296Z"
   },
   {
    "duration": 24,
    "start_time": "2024-10-13T01:56:38.325Z"
   },
   {
    "duration": 3,
    "start_time": "2024-10-13T01:56:38.353Z"
   },
   {
    "duration": 23,
    "start_time": "2024-10-13T01:56:38.359Z"
   },
   {
    "duration": 9,
    "start_time": "2024-10-13T01:56:38.384Z"
   },
   {
    "duration": 3,
    "start_time": "2024-10-13T01:56:38.395Z"
   },
   {
    "duration": 43,
    "start_time": "2024-10-13T01:56:38.400Z"
   },
   {
    "duration": 8,
    "start_time": "2024-10-13T01:56:38.445Z"
   },
   {
    "duration": 5,
    "start_time": "2024-10-13T01:56:38.455Z"
   },
   {
    "duration": 794,
    "start_time": "2024-10-13T01:56:38.462Z"
   },
   {
    "duration": 782,
    "start_time": "2024-10-13T01:56:39.258Z"
   },
   {
    "duration": 5,
    "start_time": "2024-10-13T01:56:40.043Z"
   },
   {
    "duration": 8,
    "start_time": "2024-10-13T01:56:40.050Z"
   },
   {
    "duration": 8,
    "start_time": "2024-10-13T01:56:40.059Z"
   },
   {
    "duration": 5,
    "start_time": "2024-10-13T01:56:40.069Z"
   },
   {
    "duration": 12,
    "start_time": "2024-10-13T01:56:40.076Z"
   },
   {
    "duration": 12,
    "start_time": "2024-10-13T01:56:40.089Z"
   },
   {
    "duration": 56,
    "start_time": "2024-10-13T01:56:40.102Z"
   },
   {
    "duration": 11,
    "start_time": "2024-10-13T01:56:40.159Z"
   },
   {
    "duration": 71,
    "start_time": "2024-10-13T01:56:40.172Z"
   },
   {
    "duration": 10,
    "start_time": "2024-10-13T01:56:40.245Z"
   },
   {
    "duration": 3,
    "start_time": "2024-10-13T01:56:40.256Z"
   },
   {
    "duration": 37,
    "start_time": "2024-10-13T01:56:40.261Z"
   },
   {
    "duration": 14,
    "start_time": "2024-10-13T01:56:40.300Z"
   },
   {
    "duration": 32,
    "start_time": "2024-10-13T01:56:40.315Z"
   },
   {
    "duration": 5,
    "start_time": "2024-10-13T01:56:40.348Z"
   },
   {
    "duration": 4,
    "start_time": "2024-10-13T01:56:47.664Z"
   },
   {
    "duration": 5,
    "start_time": "2024-10-13T01:56:56.931Z"
   },
   {
    "duration": 4,
    "start_time": "2024-10-13T01:57:02.235Z"
   },
   {
    "duration": 122,
    "start_time": "2024-10-13T01:57:09.037Z"
   },
   {
    "duration": 119,
    "start_time": "2024-10-13T01:57:29.057Z"
   },
   {
    "duration": 5,
    "start_time": "2024-10-13T01:57:40.386Z"
   },
   {
    "duration": 114,
    "start_time": "2024-10-13T01:57:44.350Z"
   },
   {
    "duration": 3,
    "start_time": "2024-10-13T01:58:01.830Z"
   },
   {
    "duration": 112,
    "start_time": "2024-10-13T01:58:11.408Z"
   },
   {
    "duration": 118,
    "start_time": "2024-10-13T01:58:57.656Z"
   },
   {
    "duration": 113,
    "start_time": "2024-10-13T01:59:47.235Z"
   },
   {
    "duration": 116,
    "start_time": "2024-10-13T02:00:03.297Z"
   },
   {
    "duration": 9,
    "start_time": "2024-10-13T02:00:52.967Z"
   },
   {
    "duration": 114,
    "start_time": "2024-10-13T02:01:04.426Z"
   },
   {
    "duration": 113,
    "start_time": "2024-10-13T02:01:18.388Z"
   },
   {
    "duration": 114,
    "start_time": "2024-10-13T02:01:23.385Z"
   },
   {
    "duration": 7,
    "start_time": "2024-10-13T02:01:47.504Z"
   },
   {
    "duration": 4,
    "start_time": "2024-10-13T02:02:45.869Z"
   },
   {
    "duration": 25,
    "start_time": "2024-10-13T02:02:50.729Z"
   },
   {
    "duration": 4,
    "start_time": "2024-10-13T02:02:56.733Z"
   },
   {
    "duration": 160,
    "start_time": "2024-10-13T02:02:59.618Z"
   },
   {
    "duration": 267,
    "start_time": "2024-10-13T02:03:05.560Z"
   },
   {
    "duration": 6,
    "start_time": "2024-10-13T02:03:22.145Z"
   },
   {
    "duration": 7,
    "start_time": "2024-10-13T02:03:35.136Z"
   },
   {
    "duration": 8,
    "start_time": "2024-10-13T02:06:40.577Z"
   },
   {
    "duration": 5,
    "start_time": "2024-10-13T02:07:11.418Z"
   },
   {
    "duration": 5,
    "start_time": "2024-10-13T02:07:17.834Z"
   },
   {
    "duration": 8,
    "start_time": "2024-10-13T02:07:58.112Z"
   },
   {
    "duration": 10,
    "start_time": "2024-10-13T02:08:31.651Z"
   },
   {
    "duration": 8,
    "start_time": "2024-10-13T02:09:04.415Z"
   },
   {
    "duration": 9,
    "start_time": "2024-10-13T02:09:40.927Z"
   },
   {
    "duration": 8,
    "start_time": "2024-10-13T02:11:38.938Z"
   },
   {
    "duration": 8,
    "start_time": "2024-10-13T02:14:29.458Z"
   },
   {
    "duration": 15,
    "start_time": "2024-10-13T02:18:17.493Z"
   },
   {
    "duration": 755,
    "start_time": "2024-10-13T02:20:02.097Z"
   },
   {
    "duration": 173,
    "start_time": "2024-10-13T02:20:59.064Z"
   },
   {
    "duration": 118,
    "start_time": "2024-10-13T02:21:20.654Z"
   },
   {
    "duration": 179,
    "start_time": "2024-10-13T02:22:01.275Z"
   },
   {
    "duration": 146,
    "start_time": "2024-10-13T02:22:11.614Z"
   },
   {
    "duration": 7,
    "start_time": "2024-10-13T02:22:15.569Z"
   },
   {
    "duration": 161,
    "start_time": "2024-10-13T02:22:18.236Z"
   },
   {
    "duration": 154,
    "start_time": "2024-10-13T02:22:22.876Z"
   },
   {
    "duration": 183,
    "start_time": "2024-10-13T02:22:29.391Z"
   },
   {
    "duration": 145,
    "start_time": "2024-10-13T02:22:33.049Z"
   },
   {
    "duration": 145,
    "start_time": "2024-10-13T02:22:44.353Z"
   },
   {
    "duration": 174,
    "start_time": "2024-10-13T02:22:49.594Z"
   },
   {
    "duration": 280,
    "start_time": "2024-10-13T02:23:16.342Z"
   },
   {
    "duration": 193,
    "start_time": "2024-10-13T02:23:27.794Z"
   },
   {
    "duration": 166,
    "start_time": "2024-10-13T02:23:34.574Z"
   },
   {
    "duration": 173,
    "start_time": "2024-10-13T02:23:37.254Z"
   },
   {
    "duration": 7,
    "start_time": "2024-10-13T02:32:10.197Z"
   },
   {
    "duration": 165,
    "start_time": "2024-10-13T02:33:35.736Z"
   },
   {
    "duration": 3,
    "start_time": "2024-10-13T02:37:08.021Z"
   },
   {
    "duration": 59,
    "start_time": "2024-10-13T02:37:14.971Z"
   },
   {
    "duration": 39,
    "start_time": "2024-10-13T02:37:38.173Z"
   },
   {
    "duration": 4,
    "start_time": "2024-10-13T02:37:45.934Z"
   },
   {
    "duration": 75,
    "start_time": "2024-10-13T02:37:50.085Z"
   },
   {
    "duration": 41,
    "start_time": "2024-10-13T02:39:05.728Z"
   },
   {
    "duration": 41,
    "start_time": "2024-10-13T02:39:13.015Z"
   },
   {
    "duration": 40,
    "start_time": "2024-10-13T02:39:19.780Z"
   },
   {
    "duration": 5,
    "start_time": "2024-10-13T02:39:58.101Z"
   },
   {
    "duration": 4,
    "start_time": "2024-10-13T02:40:02.298Z"
   },
   {
    "duration": 3,
    "start_time": "2024-10-13T02:40:36.473Z"
   },
   {
    "duration": 4,
    "start_time": "2024-10-13T02:40:42.337Z"
   },
   {
    "duration": 11,
    "start_time": "2024-10-13T02:41:07.079Z"
   },
   {
    "duration": 4,
    "start_time": "2024-10-13T02:41:20.711Z"
   },
   {
    "duration": 4,
    "start_time": "2024-10-13T02:41:26.631Z"
   },
   {
    "duration": 3,
    "start_time": "2024-10-13T02:42:10.772Z"
   },
   {
    "duration": 5,
    "start_time": "2024-10-13T02:44:00.539Z"
   },
   {
    "duration": 7,
    "start_time": "2024-10-13T02:47:54.983Z"
   },
   {
    "duration": 14,
    "start_time": "2024-10-13T02:48:14.502Z"
   },
   {
    "duration": 13,
    "start_time": "2024-10-13T02:48:21.500Z"
   },
   {
    "duration": 10,
    "start_time": "2024-10-13T02:48:33.076Z"
   },
   {
    "duration": 5,
    "start_time": "2024-10-13T02:48:41.241Z"
   },
   {
    "duration": 6,
    "start_time": "2024-10-13T02:48:44.748Z"
   },
   {
    "duration": 6,
    "start_time": "2024-10-13T02:48:51.237Z"
   },
   {
    "duration": 6,
    "start_time": "2024-10-13T02:48:53.384Z"
   },
   {
    "duration": 6,
    "start_time": "2024-10-13T02:48:58.630Z"
   },
   {
    "duration": 3,
    "start_time": "2024-10-13T02:50:36.032Z"
   },
   {
    "duration": 9,
    "start_time": "2024-10-13T02:50:39.416Z"
   },
   {
    "duration": 3,
    "start_time": "2024-10-13T02:51:09.401Z"
   },
   {
    "duration": 3,
    "start_time": "2024-10-13T02:51:15.421Z"
   },
   {
    "duration": 292,
    "start_time": "2024-10-13T02:51:19.868Z"
   },
   {
    "duration": 966,
    "start_time": "2024-10-13T02:51:35.725Z"
   },
   {
    "duration": 3,
    "start_time": "2024-10-13T02:51:43.231Z"
   },
   {
    "duration": 977,
    "start_time": "2024-10-13T02:51:52.624Z"
   },
   {
    "duration": 1016,
    "start_time": "2024-10-13T02:52:04.385Z"
   },
   {
    "duration": 983,
    "start_time": "2024-10-13T02:54:39.576Z"
   },
   {
    "duration": 3381,
    "start_time": "2024-10-13T02:55:05.474Z"
   },
   {
    "duration": 993,
    "start_time": "2024-10-13T02:55:21.336Z"
   },
   {
    "duration": 1000,
    "start_time": "2024-10-13T02:55:28.071Z"
   },
   {
    "duration": 1008,
    "start_time": "2024-10-13T02:55:32.756Z"
   },
   {
    "duration": 959,
    "start_time": "2024-10-13T02:55:47.616Z"
   },
   {
    "duration": 7,
    "start_time": "2024-10-13T02:56:46.874Z"
   },
   {
    "duration": 30,
    "start_time": "2024-10-13T02:57:32.544Z"
   },
   {
    "duration": 5,
    "start_time": "2024-10-13T02:58:23.609Z"
   },
   {
    "duration": 42,
    "start_time": "2024-10-13T02:58:36.735Z"
   },
   {
    "duration": 18,
    "start_time": "2024-10-13T02:58:42.896Z"
   },
   {
    "duration": 349,
    "start_time": "2024-10-13T03:00:11.387Z"
   },
   {
    "duration": 6,
    "start_time": "2024-10-13T03:00:16.389Z"
   },
   {
    "duration": 59,
    "start_time": "2024-10-13T03:01:54.908Z"
   },
   {
    "duration": 19,
    "start_time": "2024-10-13T03:02:12.665Z"
   },
   {
    "duration": 12,
    "start_time": "2024-10-13T03:02:15.767Z"
   },
   {
    "duration": 143,
    "start_time": "2024-10-13T03:03:14.169Z"
   },
   {
    "duration": 7,
    "start_time": "2024-10-13T03:05:49.227Z"
   },
   {
    "duration": 18,
    "start_time": "2024-10-13T03:06:28.324Z"
   },
   {
    "duration": 3,
    "start_time": "2024-10-13T03:06:39.710Z"
   },
   {
    "duration": 3,
    "start_time": "2024-10-13T03:06:44.484Z"
   },
   {
    "duration": 0,
    "start_time": "2024-10-13T03:07:17.681Z"
   },
   {
    "duration": 581,
    "start_time": "2024-10-13T03:07:27.487Z"
   },
   {
    "duration": 41,
    "start_time": "2024-10-13T03:07:28.070Z"
   },
   {
    "duration": 9,
    "start_time": "2024-10-13T03:07:28.113Z"
   },
   {
    "duration": 17,
    "start_time": "2024-10-13T03:07:28.125Z"
   },
   {
    "duration": 726,
    "start_time": "2024-10-13T03:07:28.144Z"
   },
   {
    "duration": 16,
    "start_time": "2024-10-13T03:07:28.873Z"
   },
   {
    "duration": 33,
    "start_time": "2024-10-13T03:07:28.891Z"
   },
   {
    "duration": 120,
    "start_time": "2024-10-13T03:07:28.925Z"
   },
   {
    "duration": 10,
    "start_time": "2024-10-13T03:07:29.048Z"
   },
   {
    "duration": 118,
    "start_time": "2024-10-13T03:07:29.061Z"
   },
   {
    "duration": 103,
    "start_time": "2024-10-13T03:07:29.181Z"
   },
   {
    "duration": 29,
    "start_time": "2024-10-13T03:07:29.286Z"
   },
   {
    "duration": 31,
    "start_time": "2024-10-13T03:07:29.316Z"
   },
   {
    "duration": 4,
    "start_time": "2024-10-13T03:07:29.349Z"
   },
   {
    "duration": 28,
    "start_time": "2024-10-13T03:07:29.355Z"
   },
   {
    "duration": 9,
    "start_time": "2024-10-13T03:07:29.384Z"
   },
   {
    "duration": 4,
    "start_time": "2024-10-13T03:07:29.395Z"
   },
   {
    "duration": 8,
    "start_time": "2024-10-13T03:07:29.400Z"
   },
   {
    "duration": 40,
    "start_time": "2024-10-13T03:07:29.410Z"
   },
   {
    "duration": 3,
    "start_time": "2024-10-13T03:07:29.453Z"
   },
   {
    "duration": 791,
    "start_time": "2024-10-13T03:07:29.458Z"
   },
   {
    "duration": 815,
    "start_time": "2024-10-13T03:07:30.251Z"
   },
   {
    "duration": 6,
    "start_time": "2024-10-13T03:07:31.068Z"
   },
   {
    "duration": 8,
    "start_time": "2024-10-13T03:07:31.075Z"
   },
   {
    "duration": 8,
    "start_time": "2024-10-13T03:07:31.084Z"
   },
   {
    "duration": 5,
    "start_time": "2024-10-13T03:07:31.094Z"
   },
   {
    "duration": 42,
    "start_time": "2024-10-13T03:07:31.100Z"
   },
   {
    "duration": 16,
    "start_time": "2024-10-13T03:07:31.147Z"
   },
   {
    "duration": 16,
    "start_time": "2024-10-13T03:07:31.165Z"
   },
   {
    "duration": 11,
    "start_time": "2024-10-13T03:07:31.183Z"
   },
   {
    "duration": 84,
    "start_time": "2024-10-13T03:07:31.196Z"
   },
   {
    "duration": 9,
    "start_time": "2024-10-13T03:07:31.282Z"
   },
   {
    "duration": 3,
    "start_time": "2024-10-13T03:07:31.292Z"
   },
   {
    "duration": 57,
    "start_time": "2024-10-13T03:07:31.297Z"
   },
   {
    "duration": 15,
    "start_time": "2024-10-13T03:07:31.356Z"
   },
   {
    "duration": 7,
    "start_time": "2024-10-13T03:07:31.373Z"
   },
   {
    "duration": 145,
    "start_time": "2024-10-13T03:07:31.382Z"
   },
   {
    "duration": 14,
    "start_time": "2024-10-13T03:07:31.529Z"
   },
   {
    "duration": 8,
    "start_time": "2024-10-13T03:07:31.544Z"
   },
   {
    "duration": 8,
    "start_time": "2024-10-13T03:07:31.554Z"
   },
   {
    "duration": 192,
    "start_time": "2024-10-13T03:07:31.564Z"
   },
   {
    "duration": 5,
    "start_time": "2024-10-13T03:07:31.758Z"
   },
   {
    "duration": 4,
    "start_time": "2024-10-13T03:07:31.764Z"
   },
   {
    "duration": 6,
    "start_time": "2024-10-13T03:07:31.775Z"
   },
   {
    "duration": 3,
    "start_time": "2024-10-13T03:07:31.783Z"
   },
   {
    "duration": 284,
    "start_time": "2024-10-13T03:07:37.231Z"
   },
   {
    "duration": 320,
    "start_time": "2024-10-13T03:08:05.647Z"
   },
   {
    "duration": 369,
    "start_time": "2024-10-13T03:08:15.594Z"
   },
   {
    "duration": 256,
    "start_time": "2024-10-13T03:09:22.333Z"
   },
   {
    "duration": 18,
    "start_time": "2024-10-13T03:09:33.166Z"
   },
   {
    "duration": 2,
    "start_time": "2024-10-13T03:10:20.949Z"
   },
   {
    "duration": 5,
    "start_time": "2024-10-13T03:10:24.833Z"
   },
   {
    "duration": 16,
    "start_time": "2024-10-13T03:10:29.403Z"
   },
   {
    "duration": 3,
    "start_time": "2024-10-13T03:13:47.820Z"
   },
   {
    "duration": 15,
    "start_time": "2024-10-13T03:13:59.352Z"
   },
   {
    "duration": 6,
    "start_time": "2024-10-13T03:15:24.616Z"
   },
   {
    "duration": 60,
    "start_time": "2024-10-13T03:16:01.863Z"
   },
   {
    "duration": 7,
    "start_time": "2024-10-13T03:18:39.360Z"
   },
   {
    "duration": 6,
    "start_time": "2024-10-13T03:19:01.705Z"
   },
   {
    "duration": 7,
    "start_time": "2024-10-13T03:19:08.806Z"
   },
   {
    "duration": 16,
    "start_time": "2024-10-13T03:19:15.653Z"
   },
   {
    "duration": 88,
    "start_time": "2024-10-13T03:19:17.595Z"
   },
   {
    "duration": 6,
    "start_time": "2024-10-13T03:19:28.241Z"
   },
   {
    "duration": 81,
    "start_time": "2024-10-13T03:22:06.746Z"
   },
   {
    "duration": 6,
    "start_time": "2024-10-13T03:23:17.677Z"
   },
   {
    "duration": 86,
    "start_time": "2024-10-13T03:25:59.477Z"
   },
   {
    "duration": 89,
    "start_time": "2024-10-13T03:26:11.404Z"
   },
   {
    "duration": 90,
    "start_time": "2024-10-13T03:26:17.144Z"
   },
   {
    "duration": 88,
    "start_time": "2024-10-13T03:26:34.340Z"
   },
   {
    "duration": 86,
    "start_time": "2024-10-13T03:27:20.317Z"
   },
   {
    "duration": 13,
    "start_time": "2024-10-13T03:27:46.765Z"
   },
   {
    "duration": 14,
    "start_time": "2024-10-13T03:27:57.020Z"
   },
   {
    "duration": 14,
    "start_time": "2024-10-13T03:28:03.570Z"
   },
   {
    "duration": 13,
    "start_time": "2024-10-13T03:28:48.642Z"
   },
   {
    "duration": 12,
    "start_time": "2024-10-13T03:28:56.202Z"
   },
   {
    "duration": 333,
    "start_time": "2024-10-13T03:29:15.981Z"
   },
   {
    "duration": 2,
    "start_time": "2024-10-13T03:29:59.767Z"
   },
   {
    "duration": 5,
    "start_time": "2024-10-13T03:30:06.375Z"
   },
   {
    "duration": 3,
    "start_time": "2024-10-13T03:30:09.706Z"
   },
   {
    "duration": 4,
    "start_time": "2024-10-13T03:30:14.512Z"
   },
   {
    "duration": 7,
    "start_time": "2024-10-13T03:30:30.368Z"
   },
   {
    "duration": 438,
    "start_time": "2024-10-13T03:31:25.076Z"
   },
   {
    "duration": 117,
    "start_time": "2024-10-13T03:31:43.882Z"
   },
   {
    "duration": 121,
    "start_time": "2024-10-13T03:31:49.794Z"
   },
   {
    "duration": 96,
    "start_time": "2024-10-13T03:32:49.459Z"
   },
   {
    "duration": 128,
    "start_time": "2024-10-13T03:32:55.824Z"
   },
   {
    "duration": 108,
    "start_time": "2024-10-13T03:33:24.380Z"
   },
   {
    "duration": 113,
    "start_time": "2024-10-13T03:33:29.267Z"
   },
   {
    "duration": 95,
    "start_time": "2024-10-13T03:33:43.334Z"
   },
   {
    "duration": 112,
    "start_time": "2024-10-13T03:34:11.868Z"
   },
   {
    "duration": 94,
    "start_time": "2024-10-13T03:35:12.837Z"
   },
   {
    "duration": 91,
    "start_time": "2024-10-13T03:35:17.017Z"
   },
   {
    "duration": 89,
    "start_time": "2024-10-13T03:35:26.672Z"
   },
   {
    "duration": 90,
    "start_time": "2024-10-13T03:36:40.901Z"
   },
   {
    "duration": 104,
    "start_time": "2024-10-13T03:41:59.420Z"
   },
   {
    "duration": 87,
    "start_time": "2024-10-13T03:42:04.707Z"
   },
   {
    "duration": 97,
    "start_time": "2024-10-13T03:42:31.461Z"
   },
   {
    "duration": 99,
    "start_time": "2024-10-13T03:42:38.828Z"
   },
   {
    "duration": 423,
    "start_time": "2024-10-13T03:44:32.099Z"
   },
   {
    "duration": 160,
    "start_time": "2024-10-13T03:44:46.220Z"
   },
   {
    "duration": 2435,
    "start_time": "2024-10-13T22:49:46.080Z"
   },
   {
    "duration": 67,
    "start_time": "2024-10-13T22:49:48.518Z"
   },
   {
    "duration": 12,
    "start_time": "2024-10-13T22:49:48.588Z"
   },
   {
    "duration": 10,
    "start_time": "2024-10-13T22:49:48.602Z"
   },
   {
    "duration": 803,
    "start_time": "2024-10-13T22:49:48.614Z"
   },
   {
    "duration": 25,
    "start_time": "2024-10-13T22:49:49.419Z"
   },
   {
    "duration": 35,
    "start_time": "2024-10-13T22:49:49.445Z"
   },
   {
    "duration": 117,
    "start_time": "2024-10-13T22:49:49.482Z"
   },
   {
    "duration": 10,
    "start_time": "2024-10-13T22:49:49.601Z"
   },
   {
    "duration": 121,
    "start_time": "2024-10-13T22:49:49.615Z"
   },
   {
    "duration": 107,
    "start_time": "2024-10-13T22:49:49.737Z"
   },
   {
    "duration": 33,
    "start_time": "2024-10-13T22:49:49.847Z"
   },
   {
    "duration": 15,
    "start_time": "2024-10-13T22:49:49.882Z"
   },
   {
    "duration": 4,
    "start_time": "2024-10-13T22:49:49.899Z"
   },
   {
    "duration": 26,
    "start_time": "2024-10-13T22:49:49.932Z"
   },
   {
    "duration": 11,
    "start_time": "2024-10-13T22:49:49.959Z"
   },
   {
    "duration": 3,
    "start_time": "2024-10-13T22:49:49.972Z"
   },
   {
    "duration": 8,
    "start_time": "2024-10-13T22:49:49.978Z"
   },
   {
    "duration": 8,
    "start_time": "2024-10-13T22:49:49.988Z"
   },
   {
    "duration": 37,
    "start_time": "2024-10-13T22:49:49.997Z"
   },
   {
    "duration": 850,
    "start_time": "2024-10-13T22:49:50.036Z"
   },
   {
    "duration": 818,
    "start_time": "2024-10-13T22:49:50.888Z"
   },
   {
    "duration": 6,
    "start_time": "2024-10-13T22:49:51.708Z"
   },
   {
    "duration": 20,
    "start_time": "2024-10-13T22:49:51.716Z"
   },
   {
    "duration": 9,
    "start_time": "2024-10-13T22:49:51.738Z"
   },
   {
    "duration": 5,
    "start_time": "2024-10-13T22:49:51.749Z"
   },
   {
    "duration": 12,
    "start_time": "2024-10-13T22:49:51.756Z"
   },
   {
    "duration": 16,
    "start_time": "2024-10-13T22:49:51.772Z"
   },
   {
    "duration": 57,
    "start_time": "2024-10-13T22:49:51.790Z"
   },
   {
    "duration": 11,
    "start_time": "2024-10-13T22:49:51.849Z"
   },
   {
    "duration": 51,
    "start_time": "2024-10-13T22:49:51.862Z"
   },
   {
    "duration": 11,
    "start_time": "2024-10-13T22:49:51.931Z"
   },
   {
    "duration": 3,
    "start_time": "2024-10-13T22:49:51.944Z"
   },
   {
    "duration": 42,
    "start_time": "2024-10-13T22:49:51.948Z"
   },
   {
    "duration": 41,
    "start_time": "2024-10-13T22:49:51.991Z"
   },
   {
    "duration": 7,
    "start_time": "2024-10-13T22:49:52.033Z"
   },
   {
    "duration": 149,
    "start_time": "2024-10-13T22:49:52.042Z"
   },
   {
    "duration": 8,
    "start_time": "2024-10-13T22:49:52.192Z"
   },
   {
    "duration": 8,
    "start_time": "2024-10-13T22:49:52.202Z"
   },
   {
    "duration": 27,
    "start_time": "2024-10-13T22:49:52.212Z"
   },
   {
    "duration": 232,
    "start_time": "2024-10-13T22:49:52.240Z"
   },
   {
    "duration": 4,
    "start_time": "2024-10-13T22:49:52.474Z"
   },
   {
    "duration": 2,
    "start_time": "2024-10-13T22:49:52.480Z"
   },
   {
    "duration": 109,
    "start_time": "2024-10-13T22:49:52.484Z"
   },
   {
    "duration": 6,
    "start_time": "2024-10-13T22:49:52.603Z"
   },
   {
    "duration": 82,
    "start_time": "2024-10-13T22:50:02.651Z"
   },
   {
    "duration": 81,
    "start_time": "2024-10-13T22:50:06.811Z"
   },
   {
    "duration": 6,
    "start_time": "2024-10-13T22:50:12.674Z"
   },
   {
    "duration": 83,
    "start_time": "2024-10-13T22:51:32.732Z"
   },
   {
    "duration": 87,
    "start_time": "2024-10-13T22:51:47.377Z"
   },
   {
    "duration": 595,
    "start_time": "2024-10-13T22:52:00.686Z"
   },
   {
    "duration": 82,
    "start_time": "2024-10-13T22:52:04.087Z"
   },
   {
    "duration": 80,
    "start_time": "2024-10-13T22:52:08.507Z"
   },
   {
    "duration": 83,
    "start_time": "2024-10-13T22:52:28.674Z"
   },
   {
    "duration": 87,
    "start_time": "2024-10-13T22:52:42.254Z"
   },
   {
    "duration": 86,
    "start_time": "2024-10-13T22:52:53.547Z"
   },
   {
    "duration": 4,
    "start_time": "2024-10-13T22:53:17.138Z"
   },
   {
    "duration": 78,
    "start_time": "2024-10-13T22:53:36.141Z"
   },
   {
    "duration": 886,
    "start_time": "2024-10-13T22:54:14.839Z"
   },
   {
    "duration": 119,
    "start_time": "2024-10-13T22:54:24.450Z"
   },
   {
    "duration": 82,
    "start_time": "2024-10-13T22:54:46.126Z"
   },
   {
    "duration": 81,
    "start_time": "2024-10-13T22:54:51.271Z"
   },
   {
    "duration": 80,
    "start_time": "2024-10-13T22:55:01.990Z"
   },
   {
    "duration": 81,
    "start_time": "2024-10-13T22:55:15.087Z"
   },
   {
    "duration": 81,
    "start_time": "2024-10-13T22:55:21.235Z"
   },
   {
    "duration": 81,
    "start_time": "2024-10-13T22:55:28.987Z"
   },
   {
    "duration": 82,
    "start_time": "2024-10-13T22:55:47.672Z"
   },
   {
    "duration": 84,
    "start_time": "2024-10-13T22:56:07.913Z"
   },
   {
    "duration": 97,
    "start_time": "2024-10-13T22:56:21.834Z"
   },
   {
    "duration": 85,
    "start_time": "2024-10-13T22:56:31.876Z"
   },
   {
    "duration": 80,
    "start_time": "2024-10-13T22:56:45.219Z"
   },
   {
    "duration": 99,
    "start_time": "2024-10-13T22:56:50.328Z"
   },
   {
    "duration": 92,
    "start_time": "2024-10-13T22:56:53.896Z"
   },
   {
    "duration": 85,
    "start_time": "2024-10-13T22:56:58.506Z"
   },
   {
    "duration": 6,
    "start_time": "2024-10-13T22:57:13.397Z"
   },
   {
    "duration": 111,
    "start_time": "2024-10-13T22:58:15.610Z"
   },
   {
    "duration": 115,
    "start_time": "2024-10-13T22:58:21.741Z"
   },
   {
    "duration": 83,
    "start_time": "2024-10-13T22:58:44.281Z"
   },
   {
    "duration": 13,
    "start_time": "2024-10-13T22:59:33.692Z"
   },
   {
    "duration": 8,
    "start_time": "2024-10-13T22:59:37.342Z"
   },
   {
    "duration": 7,
    "start_time": "2024-10-13T22:59:44.399Z"
   },
   {
    "duration": 5,
    "start_time": "2024-10-13T23:01:21.965Z"
   },
   {
    "duration": 5,
    "start_time": "2024-10-13T23:02:25.861Z"
   },
   {
    "duration": 7,
    "start_time": "2024-10-13T23:02:29.150Z"
   },
   {
    "duration": 7,
    "start_time": "2024-10-13T23:02:33.875Z"
   },
   {
    "duration": 8,
    "start_time": "2024-10-13T23:02:56.639Z"
   },
   {
    "duration": 9,
    "start_time": "2024-10-13T23:03:07.346Z"
   },
   {
    "duration": 8,
    "start_time": "2024-10-13T23:03:15.878Z"
   },
   {
    "duration": 6,
    "start_time": "2024-10-13T23:03:47.391Z"
   },
   {
    "duration": 9,
    "start_time": "2024-10-13T23:04:48.499Z"
   },
   {
    "duration": 9,
    "start_time": "2024-10-13T23:04:54.070Z"
   },
   {
    "duration": 14,
    "start_time": "2024-10-13T23:09:06.038Z"
   },
   {
    "duration": 179,
    "start_time": "2024-10-13T23:09:15.210Z"
   },
   {
    "duration": 12,
    "start_time": "2024-10-13T23:10:15.484Z"
   },
   {
    "duration": 6,
    "start_time": "2024-10-13T23:10:19.268Z"
   },
   {
    "duration": 11,
    "start_time": "2024-10-13T23:10:51.018Z"
   },
   {
    "duration": 3,
    "start_time": "2024-10-13T23:11:24.507Z"
   },
   {
    "duration": 252,
    "start_time": "2024-10-13T23:11:48.873Z"
   },
   {
    "duration": 6,
    "start_time": "2024-10-13T23:12:59.082Z"
   },
   {
    "duration": 7,
    "start_time": "2024-10-13T23:13:10.194Z"
   },
   {
    "duration": 6,
    "start_time": "2024-10-13T23:13:12.740Z"
   },
   {
    "duration": 66,
    "start_time": "2024-10-13T23:13:49.866Z"
   },
   {
    "duration": 3,
    "start_time": "2024-10-13T23:14:03.135Z"
   },
   {
    "duration": 3,
    "start_time": "2024-10-13T23:14:08.745Z"
   },
   {
    "duration": 52,
    "start_time": "2024-10-13T23:15:22.276Z"
   },
   {
    "duration": 4,
    "start_time": "2024-10-13T23:15:47.614Z"
   },
   {
    "duration": 53,
    "start_time": "2024-10-13T23:15:51.131Z"
   },
   {
    "duration": 3,
    "start_time": "2024-10-13T23:15:56.733Z"
   },
   {
    "duration": 4,
    "start_time": "2024-10-13T23:15:59.900Z"
   },
   {
    "duration": 55,
    "start_time": "2024-10-13T23:16:23.550Z"
   },
   {
    "duration": 53,
    "start_time": "2024-10-13T23:16:27.304Z"
   },
   {
    "duration": 28,
    "start_time": "2024-10-13T23:17:21.002Z"
   },
   {
    "duration": 54,
    "start_time": "2024-10-13T23:17:44.018Z"
   },
   {
    "duration": 55,
    "start_time": "2024-10-13T23:17:48.700Z"
   },
   {
    "duration": 52,
    "start_time": "2024-10-13T23:18:13.339Z"
   },
   {
    "duration": 56,
    "start_time": "2024-10-13T23:18:16.989Z"
   },
   {
    "duration": 71,
    "start_time": "2024-10-13T23:18:49.855Z"
   },
   {
    "duration": 41,
    "start_time": "2024-10-13T23:18:54.155Z"
   },
   {
    "duration": 63,
    "start_time": "2024-10-13T23:19:08.284Z"
   },
   {
    "duration": 61,
    "start_time": "2024-10-13T23:19:23.223Z"
   },
   {
    "duration": 7,
    "start_time": "2024-10-13T23:19:37.625Z"
   },
   {
    "duration": 63,
    "start_time": "2024-10-13T23:20:30.006Z"
   },
   {
    "duration": 4,
    "start_time": "2024-10-13T23:20:37.757Z"
   },
   {
    "duration": 94,
    "start_time": "2024-10-13T23:20:47.571Z"
   },
   {
    "duration": 62,
    "start_time": "2024-10-13T23:20:55.837Z"
   },
   {
    "duration": 155,
    "start_time": "2024-10-13T23:21:03.208Z"
   },
   {
    "duration": 69,
    "start_time": "2024-10-13T23:21:18.320Z"
   },
   {
    "duration": 5,
    "start_time": "2024-10-13T23:21:29.487Z"
   },
   {
    "duration": 93,
    "start_time": "2024-10-13T23:22:04.590Z"
   },
   {
    "duration": 80,
    "start_time": "2024-10-13T23:22:08.939Z"
   },
   {
    "duration": 79,
    "start_time": "2024-10-13T23:23:16.727Z"
   },
   {
    "duration": 9582,
    "start_time": "2024-10-13T23:29:43.031Z"
   },
   {
    "duration": 4,
    "start_time": "2024-10-13T23:30:35.261Z"
   },
   {
    "duration": 5,
    "start_time": "2024-10-13T23:30:59.167Z"
   },
   {
    "duration": 4,
    "start_time": "2024-10-13T23:31:23.436Z"
   },
   {
    "duration": 5661,
    "start_time": "2024-10-13T23:31:29.331Z"
   },
   {
    "duration": 764,
    "start_time": "2024-10-13T23:31:47.169Z"
   },
   {
    "duration": 758,
    "start_time": "2024-10-13T23:32:00.702Z"
   },
   {
    "duration": 767,
    "start_time": "2024-10-13T23:32:04.830Z"
   },
   {
    "duration": 7617,
    "start_time": "2024-10-13T23:32:17.916Z"
   },
   {
    "duration": 7,
    "start_time": "2024-10-13T23:33:27.146Z"
   },
   {
    "duration": 631,
    "start_time": "2024-10-13T23:33:33.431Z"
   },
   {
    "duration": 42,
    "start_time": "2024-10-13T23:33:34.064Z"
   },
   {
    "duration": 10,
    "start_time": "2024-10-13T23:33:34.110Z"
   },
   {
    "duration": 10,
    "start_time": "2024-10-13T23:33:34.131Z"
   },
   {
    "duration": 735,
    "start_time": "2024-10-13T23:33:34.144Z"
   },
   {
    "duration": 16,
    "start_time": "2024-10-13T23:33:34.881Z"
   },
   {
    "duration": 52,
    "start_time": "2024-10-13T23:33:34.899Z"
   },
   {
    "duration": 115,
    "start_time": "2024-10-13T23:33:34.953Z"
   },
   {
    "duration": 10,
    "start_time": "2024-10-13T23:33:35.069Z"
   },
   {
    "duration": 117,
    "start_time": "2024-10-13T23:33:35.081Z"
   },
   {
    "duration": 96,
    "start_time": "2024-10-13T23:33:35.201Z"
   },
   {
    "duration": 43,
    "start_time": "2024-10-13T23:33:35.299Z"
   },
   {
    "duration": 15,
    "start_time": "2024-10-13T23:33:35.344Z"
   },
   {
    "duration": 4,
    "start_time": "2024-10-13T23:33:35.363Z"
   },
   {
    "duration": 32,
    "start_time": "2024-10-13T23:33:35.369Z"
   },
   {
    "duration": 35,
    "start_time": "2024-10-13T23:33:35.403Z"
   },
   {
    "duration": 4,
    "start_time": "2024-10-13T23:33:35.439Z"
   },
   {
    "duration": 8,
    "start_time": "2024-10-13T23:33:35.445Z"
   },
   {
    "duration": 8,
    "start_time": "2024-10-13T23:33:35.454Z"
   },
   {
    "duration": 4,
    "start_time": "2024-10-13T23:33:35.463Z"
   },
   {
    "duration": 812,
    "start_time": "2024-10-13T23:33:35.468Z"
   },
   {
    "duration": 793,
    "start_time": "2024-10-13T23:33:36.281Z"
   },
   {
    "duration": 5,
    "start_time": "2024-10-13T23:33:37.076Z"
   },
   {
    "duration": 8,
    "start_time": "2024-10-13T23:33:37.083Z"
   },
   {
    "duration": 9,
    "start_time": "2024-10-13T23:33:37.092Z"
   },
   {
    "duration": 34,
    "start_time": "2024-10-13T23:33:37.102Z"
   },
   {
    "duration": 12,
    "start_time": "2024-10-13T23:33:37.137Z"
   },
   {
    "duration": 13,
    "start_time": "2024-10-13T23:33:37.150Z"
   },
   {
    "duration": 16,
    "start_time": "2024-10-13T23:33:37.164Z"
   },
   {
    "duration": 12,
    "start_time": "2024-10-13T23:33:37.182Z"
   },
   {
    "duration": 51,
    "start_time": "2024-10-13T23:33:37.231Z"
   },
   {
    "duration": 10,
    "start_time": "2024-10-13T23:33:37.285Z"
   },
   {
    "duration": 2,
    "start_time": "2024-10-13T23:33:37.297Z"
   },
   {
    "duration": 63,
    "start_time": "2024-10-13T23:33:37.301Z"
   },
   {
    "duration": 14,
    "start_time": "2024-10-13T23:33:37.366Z"
   },
   {
    "duration": 7,
    "start_time": "2024-10-13T23:33:37.382Z"
   },
   {
    "duration": 156,
    "start_time": "2024-10-13T23:33:37.391Z"
   },
   {
    "duration": 8,
    "start_time": "2024-10-13T23:33:37.549Z"
   },
   {
    "duration": 8,
    "start_time": "2024-10-13T23:33:37.559Z"
   },
   {
    "duration": 9,
    "start_time": "2024-10-13T23:33:37.568Z"
   },
   {
    "duration": 213,
    "start_time": "2024-10-13T23:33:37.581Z"
   },
   {
    "duration": 4,
    "start_time": "2024-10-13T23:33:37.795Z"
   },
   {
    "duration": 2,
    "start_time": "2024-10-13T23:33:37.803Z"
   },
   {
    "duration": 105,
    "start_time": "2024-10-13T23:33:37.807Z"
   },
   {
    "duration": 17,
    "start_time": "2024-10-13T23:33:37.914Z"
   },
   {
    "duration": 7,
    "start_time": "2024-10-13T23:33:37.943Z"
   },
   {
    "duration": 7584,
    "start_time": "2024-10-13T23:34:27.836Z"
   },
   {
    "duration": 574,
    "start_time": "2024-10-13T23:34:36.919Z"
   },
   {
    "duration": 682,
    "start_time": "2024-10-13T23:34:45.385Z"
   },
   {
    "duration": 3200,
    "start_time": "2024-10-13T23:34:52.249Z"
   },
   {
    "duration": 595,
    "start_time": "2024-10-13T23:35:00.323Z"
   },
   {
    "duration": 562,
    "start_time": "2024-10-13T23:35:21.040Z"
   },
   {
    "duration": 573,
    "start_time": "2024-10-13T23:35:52.050Z"
   },
   {
    "duration": 1457,
    "start_time": "2024-10-13T23:36:14.114Z"
   },
   {
    "duration": 9976,
    "start_time": "2024-10-13T23:36:17.846Z"
   },
   {
    "duration": 10,
    "start_time": "2024-10-13T23:37:25.629Z"
   },
   {
    "duration": 92,
    "start_time": "2024-10-13T23:41:34.767Z"
   },
   {
    "duration": 386,
    "start_time": "2024-10-13T23:41:39.529Z"
   },
   {
    "duration": 79,
    "start_time": "2024-10-13T23:42:07.929Z"
   },
   {
    "duration": 89,
    "start_time": "2024-10-13T23:42:18.041Z"
   },
   {
    "duration": 101,
    "start_time": "2024-10-13T23:42:34.718Z"
   },
   {
    "duration": 94,
    "start_time": "2024-10-13T23:42:39.704Z"
   },
   {
    "duration": 3,
    "start_time": "2024-10-13T23:43:56.835Z"
   },
   {
    "duration": 4,
    "start_time": "2024-10-13T23:43:59.229Z"
   },
   {
    "duration": 286,
    "start_time": "2024-10-13T23:44:03.684Z"
   },
   {
    "duration": 60,
    "start_time": "2024-10-13T23:44:59.820Z"
   },
   {
    "duration": 3,
    "start_time": "2024-10-13T23:45:42.588Z"
   },
   {
    "duration": 691,
    "start_time": "2024-10-13T23:46:01.808Z"
   },
   {
    "duration": 47,
    "start_time": "2024-10-13T23:46:02.501Z"
   },
   {
    "duration": 12,
    "start_time": "2024-10-13T23:46:02.550Z"
   },
   {
    "duration": 15,
    "start_time": "2024-10-13T23:46:02.565Z"
   },
   {
    "duration": 866,
    "start_time": "2024-10-13T23:46:02.582Z"
   },
   {
    "duration": 17,
    "start_time": "2024-10-13T23:46:03.451Z"
   },
   {
    "duration": 35,
    "start_time": "2024-10-13T23:46:03.470Z"
   },
   {
    "duration": 146,
    "start_time": "2024-10-13T23:46:03.507Z"
   },
   {
    "duration": 14,
    "start_time": "2024-10-13T23:46:03.655Z"
   },
   {
    "duration": 142,
    "start_time": "2024-10-13T23:46:03.673Z"
   },
   {
    "duration": 95,
    "start_time": "2024-10-13T23:46:03.817Z"
   },
   {
    "duration": 38,
    "start_time": "2024-10-13T23:46:03.914Z"
   },
   {
    "duration": 16,
    "start_time": "2024-10-13T23:46:03.954Z"
   },
   {
    "duration": 6,
    "start_time": "2024-10-13T23:46:03.973Z"
   },
   {
    "duration": 26,
    "start_time": "2024-10-13T23:46:03.981Z"
   },
   {
    "duration": 29,
    "start_time": "2024-10-13T23:46:04.008Z"
   },
   {
    "duration": 4,
    "start_time": "2024-10-13T23:46:04.039Z"
   },
   {
    "duration": 11,
    "start_time": "2024-10-13T23:46:04.045Z"
   },
   {
    "duration": 8,
    "start_time": "2024-10-13T23:46:04.058Z"
   },
   {
    "duration": 4,
    "start_time": "2024-10-13T23:46:04.068Z"
   },
   {
    "duration": 151,
    "start_time": "2024-10-13T23:46:08.870Z"
   },
   {
    "duration": 52,
    "start_time": "2024-10-13T23:46:09.023Z"
   },
   {
    "duration": 10,
    "start_time": "2024-10-13T23:46:09.078Z"
   },
   {
    "duration": 8,
    "start_time": "2024-10-13T23:46:09.090Z"
   },
   {
    "duration": 793,
    "start_time": "2024-10-13T23:46:09.100Z"
   },
   {
    "duration": 16,
    "start_time": "2024-10-13T23:46:09.895Z"
   },
   {
    "duration": 42,
    "start_time": "2024-10-13T23:46:09.914Z"
   },
   {
    "duration": 95,
    "start_time": "2024-10-13T23:46:09.958Z"
   },
   {
    "duration": 12,
    "start_time": "2024-10-13T23:46:10.056Z"
   },
   {
    "duration": 112,
    "start_time": "2024-10-13T23:46:10.072Z"
   },
   {
    "duration": 94,
    "start_time": "2024-10-13T23:46:10.186Z"
   },
   {
    "duration": 26,
    "start_time": "2024-10-13T23:46:10.281Z"
   },
   {
    "duration": 26,
    "start_time": "2024-10-13T23:46:10.308Z"
   },
   {
    "duration": 4,
    "start_time": "2024-10-13T23:46:10.336Z"
   },
   {
    "duration": 28,
    "start_time": "2024-10-13T23:46:10.342Z"
   },
   {
    "duration": 12,
    "start_time": "2024-10-13T23:46:10.374Z"
   },
   {
    "duration": 4,
    "start_time": "2024-10-13T23:46:10.388Z"
   },
   {
    "duration": 9,
    "start_time": "2024-10-13T23:46:10.394Z"
   },
   {
    "duration": 10,
    "start_time": "2024-10-13T23:46:10.432Z"
   },
   {
    "duration": 5,
    "start_time": "2024-10-13T23:46:10.445Z"
   },
   {
    "duration": 1022,
    "start_time": "2024-10-13T23:46:10.451Z"
   },
   {
    "duration": 893,
    "start_time": "2024-10-13T23:46:11.474Z"
   },
   {
    "duration": 8,
    "start_time": "2024-10-13T23:46:12.370Z"
   },
   {
    "duration": 10,
    "start_time": "2024-10-13T23:46:12.380Z"
   },
   {
    "duration": 8,
    "start_time": "2024-10-13T23:46:12.392Z"
   },
   {
    "duration": 6,
    "start_time": "2024-10-13T23:46:12.402Z"
   },
   {
    "duration": 38,
    "start_time": "2024-10-13T23:46:12.409Z"
   },
   {
    "duration": 18,
    "start_time": "2024-10-13T23:46:12.453Z"
   },
   {
    "duration": 15,
    "start_time": "2024-10-13T23:46:12.473Z"
   },
   {
    "duration": 42,
    "start_time": "2024-10-13T23:46:12.490Z"
   },
   {
    "duration": 70,
    "start_time": "2024-10-13T23:46:12.534Z"
   },
   {
    "duration": 9,
    "start_time": "2024-10-13T23:46:12.606Z"
   },
   {
    "duration": 3,
    "start_time": "2024-10-13T23:46:12.632Z"
   },
   {
    "duration": 48,
    "start_time": "2024-10-13T23:46:12.637Z"
   },
   {
    "duration": 14,
    "start_time": "2024-10-13T23:46:12.687Z"
   },
   {
    "duration": 34,
    "start_time": "2024-10-13T23:46:12.703Z"
   },
   {
    "duration": 153,
    "start_time": "2024-10-13T23:46:12.741Z"
   },
   {
    "duration": 7,
    "start_time": "2024-10-13T23:46:12.896Z"
   },
   {
    "duration": 8,
    "start_time": "2024-10-13T23:46:12.905Z"
   },
   {
    "duration": 11,
    "start_time": "2024-10-13T23:46:12.932Z"
   },
   {
    "duration": 236,
    "start_time": "2024-10-13T23:46:12.945Z"
   },
   {
    "duration": 5,
    "start_time": "2024-10-13T23:46:13.183Z"
   },
   {
    "duration": 3,
    "start_time": "2024-10-13T23:46:13.190Z"
   },
   {
    "duration": 119,
    "start_time": "2024-10-13T23:46:13.194Z"
   },
   {
    "duration": 18,
    "start_time": "2024-10-13T23:46:13.315Z"
   },
   {
    "duration": 8,
    "start_time": "2024-10-13T23:46:13.336Z"
   },
   {
    "duration": 2278,
    "start_time": "2024-10-14T03:38:28.626Z"
   },
   {
    "duration": 65,
    "start_time": "2024-10-14T03:38:30.905Z"
   },
   {
    "duration": 9,
    "start_time": "2024-10-14T03:38:30.972Z"
   },
   {
    "duration": 9,
    "start_time": "2024-10-14T03:38:30.983Z"
   },
   {
    "duration": 831,
    "start_time": "2024-10-14T03:38:30.993Z"
   },
   {
    "duration": 16,
    "start_time": "2024-10-14T03:38:31.826Z"
   },
   {
    "duration": 44,
    "start_time": "2024-10-14T03:38:31.844Z"
   },
   {
    "duration": 101,
    "start_time": "2024-10-14T03:38:31.891Z"
   },
   {
    "duration": 9,
    "start_time": "2024-10-14T03:38:31.994Z"
   },
   {
    "duration": 110,
    "start_time": "2024-10-14T03:38:32.007Z"
   },
   {
    "duration": 92,
    "start_time": "2024-10-14T03:38:32.119Z"
   },
   {
    "duration": 26,
    "start_time": "2024-10-14T03:38:32.213Z"
   },
   {
    "duration": 20,
    "start_time": "2024-10-14T03:38:32.241Z"
   },
   {
    "duration": 3,
    "start_time": "2024-10-14T03:38:32.263Z"
   },
   {
    "duration": 38,
    "start_time": "2024-10-14T03:38:32.268Z"
   },
   {
    "duration": 10,
    "start_time": "2024-10-14T03:38:32.308Z"
   },
   {
    "duration": 3,
    "start_time": "2024-10-14T03:38:32.320Z"
   },
   {
    "duration": 7,
    "start_time": "2024-10-14T03:38:32.325Z"
   },
   {
    "duration": 7,
    "start_time": "2024-10-14T03:38:32.334Z"
   },
   {
    "duration": 4,
    "start_time": "2024-10-14T03:38:32.343Z"
   },
   {
    "duration": 777,
    "start_time": "2024-10-14T03:38:32.349Z"
   },
   {
    "duration": 792,
    "start_time": "2024-10-14T03:38:33.129Z"
   },
   {
    "duration": 6,
    "start_time": "2024-10-14T03:38:33.923Z"
   },
   {
    "duration": 9,
    "start_time": "2024-10-14T03:38:33.930Z"
   },
   {
    "duration": 7,
    "start_time": "2024-10-14T03:38:33.941Z"
   },
   {
    "duration": 4,
    "start_time": "2024-10-14T03:38:33.950Z"
   },
   {
    "duration": 40,
    "start_time": "2024-10-14T03:38:33.956Z"
   },
   {
    "duration": 12,
    "start_time": "2024-10-14T03:38:34.000Z"
   },
   {
    "duration": 18,
    "start_time": "2024-10-14T03:38:34.014Z"
   },
   {
    "duration": 10,
    "start_time": "2024-10-14T03:38:34.034Z"
   },
   {
    "duration": 77,
    "start_time": "2024-10-14T03:38:34.046Z"
   },
   {
    "duration": 8,
    "start_time": "2024-10-14T03:38:34.125Z"
   },
   {
    "duration": 2,
    "start_time": "2024-10-14T03:38:34.135Z"
   },
   {
    "duration": 50,
    "start_time": "2024-10-14T03:38:34.138Z"
   },
   {
    "duration": 14,
    "start_time": "2024-10-14T03:38:34.190Z"
   },
   {
    "duration": 6,
    "start_time": "2024-10-14T03:38:34.206Z"
   },
   {
    "duration": 143,
    "start_time": "2024-10-14T03:38:34.214Z"
   },
   {
    "duration": 7,
    "start_time": "2024-10-14T03:38:34.359Z"
   },
   {
    "duration": 20,
    "start_time": "2024-10-14T03:38:34.367Z"
   },
   {
    "duration": 9,
    "start_time": "2024-10-14T03:38:34.389Z"
   },
   {
    "duration": 182,
    "start_time": "2024-10-14T03:38:34.400Z"
   },
   {
    "duration": 4,
    "start_time": "2024-10-14T03:38:34.587Z"
   },
   {
    "duration": 4,
    "start_time": "2024-10-14T03:38:34.592Z"
   },
   {
    "duration": 105,
    "start_time": "2024-10-14T03:38:34.598Z"
   },
   {
    "duration": 7,
    "start_time": "2024-10-14T03:38:34.705Z"
   },
   {
    "duration": 112,
    "start_time": "2024-10-14T03:52:00.270Z"
   },
   {
    "duration": 2178,
    "start_time": "2024-10-15T02:36:32.063Z"
   },
   {
    "duration": 420,
    "start_time": "2024-10-15T02:43:59.376Z"
   },
   {
    "duration": 182,
    "start_time": "2024-10-15T02:43:59.798Z"
   },
   {
    "duration": 58,
    "start_time": "2024-10-15T02:43:59.982Z"
   },
   {
    "duration": 9,
    "start_time": "2024-10-15T02:44:00.042Z"
   },
   {
    "duration": 10,
    "start_time": "2024-10-15T02:44:00.053Z"
   },
   {
    "duration": 799,
    "start_time": "2024-10-15T02:44:00.065Z"
   },
   {
    "duration": 25,
    "start_time": "2024-10-15T02:44:00.866Z"
   },
   {
    "duration": 32,
    "start_time": "2024-10-15T02:44:00.893Z"
   },
   {
    "duration": 90,
    "start_time": "2024-10-15T02:44:00.927Z"
   },
   {
    "duration": 10,
    "start_time": "2024-10-15T02:44:01.018Z"
   },
   {
    "duration": 101,
    "start_time": "2024-10-15T02:44:01.030Z"
   },
   {
    "duration": 83,
    "start_time": "2024-10-15T02:44:01.133Z"
   },
   {
    "duration": 25,
    "start_time": "2024-10-15T02:44:01.218Z"
   },
   {
    "duration": 12,
    "start_time": "2024-10-15T02:44:01.248Z"
   },
   {
    "duration": 3,
    "start_time": "2024-10-15T02:44:01.262Z"
   },
   {
    "duration": 24,
    "start_time": "2024-10-15T02:44:01.287Z"
   },
   {
    "duration": 8,
    "start_time": "2024-10-15T02:44:01.313Z"
   },
   {
    "duration": 3,
    "start_time": "2024-10-15T02:44:01.322Z"
   },
   {
    "duration": 8,
    "start_time": "2024-10-15T02:44:01.327Z"
   },
   {
    "duration": 7,
    "start_time": "2024-10-15T02:44:01.337Z"
   },
   {
    "duration": 3,
    "start_time": "2024-10-15T02:44:01.386Z"
   },
   {
    "duration": 733,
    "start_time": "2024-10-15T02:44:01.391Z"
   },
   {
    "duration": 745,
    "start_time": "2024-10-15T02:44:02.126Z"
   },
   {
    "duration": 14,
    "start_time": "2024-10-15T02:44:02.873Z"
   },
   {
    "duration": 7,
    "start_time": "2024-10-15T02:44:02.889Z"
   },
   {
    "duration": 7,
    "start_time": "2024-10-15T02:44:02.898Z"
   },
   {
    "duration": 5,
    "start_time": "2024-10-15T02:44:02.907Z"
   },
   {
    "duration": 10,
    "start_time": "2024-10-15T02:44:02.915Z"
   },
   {
    "duration": 12,
    "start_time": "2024-10-15T02:44:02.927Z"
   },
   {
    "duration": 51,
    "start_time": "2024-10-15T02:44:02.940Z"
   },
   {
    "duration": 10,
    "start_time": "2024-10-15T02:44:02.993Z"
   },
   {
    "duration": 62,
    "start_time": "2024-10-15T02:44:03.004Z"
   },
   {
    "duration": 9,
    "start_time": "2024-10-15T02:44:03.067Z"
   },
   {
    "duration": 11,
    "start_time": "2024-10-15T02:44:03.077Z"
   },
   {
    "duration": 36,
    "start_time": "2024-10-15T02:44:03.089Z"
   },
   {
    "duration": 15,
    "start_time": "2024-10-15T02:44:03.127Z"
   },
   {
    "duration": 7,
    "start_time": "2024-10-15T02:44:03.143Z"
   },
   {
    "duration": 168,
    "start_time": "2024-10-15T02:44:03.152Z"
   },
   {
    "duration": 7,
    "start_time": "2024-10-15T02:44:03.322Z"
   },
   {
    "duration": 7,
    "start_time": "2024-10-15T02:44:03.330Z"
   },
   {
    "duration": 8,
    "start_time": "2024-10-15T02:44:03.342Z"
   },
   {
    "duration": 200,
    "start_time": "2024-10-15T02:44:03.353Z"
   },
   {
    "duration": 6,
    "start_time": "2024-10-15T02:44:03.554Z"
   },
   {
    "duration": 3,
    "start_time": "2024-10-15T02:44:03.561Z"
   },
   {
    "duration": 100,
    "start_time": "2024-10-15T02:44:03.566Z"
   },
   {
    "duration": 8,
    "start_time": "2024-10-15T02:44:03.668Z"
   },
   {
    "duration": 5,
    "start_time": "2024-10-15T02:44:29.733Z"
   },
   {
    "duration": 13,
    "start_time": "2024-10-15T02:45:11.475Z"
   },
   {
    "duration": 106,
    "start_time": "2024-10-15T02:47:01.776Z"
   },
   {
    "duration": 68,
    "start_time": "2024-10-15T02:47:11.175Z"
   },
   {
    "duration": 412,
    "start_time": "2024-10-15T02:48:59.992Z"
   },
   {
    "duration": 160,
    "start_time": "2024-10-15T02:49:00.406Z"
   },
   {
    "duration": 44,
    "start_time": "2024-10-15T02:49:00.568Z"
   },
   {
    "duration": 8,
    "start_time": "2024-10-15T02:49:00.614Z"
   },
   {
    "duration": 8,
    "start_time": "2024-10-15T02:49:00.624Z"
   },
   {
    "duration": 719,
    "start_time": "2024-10-15T02:49:00.633Z"
   },
   {
    "duration": 16,
    "start_time": "2024-10-15T02:49:01.353Z"
   },
   {
    "duration": 43,
    "start_time": "2024-10-15T02:49:01.371Z"
   },
   {
    "duration": 113,
    "start_time": "2024-10-15T02:49:01.416Z"
   },
   {
    "duration": 9,
    "start_time": "2024-10-15T02:49:01.531Z"
   },
   {
    "duration": 99,
    "start_time": "2024-10-15T02:49:01.542Z"
   },
   {
    "duration": 88,
    "start_time": "2024-10-15T02:49:01.643Z"
   },
   {
    "duration": 26,
    "start_time": "2024-10-15T02:49:01.734Z"
   },
   {
    "duration": 23,
    "start_time": "2024-10-15T02:49:01.765Z"
   },
   {
    "duration": 4,
    "start_time": "2024-10-15T02:49:01.789Z"
   },
   {
    "duration": 23,
    "start_time": "2024-10-15T02:49:01.795Z"
   },
   {
    "duration": 11,
    "start_time": "2024-10-15T02:49:01.819Z"
   },
   {
    "duration": 5,
    "start_time": "2024-10-15T02:49:01.832Z"
   },
   {
    "duration": 7,
    "start_time": "2024-10-15T02:49:01.838Z"
   },
   {
    "duration": 40,
    "start_time": "2024-10-15T02:49:01.847Z"
   },
   {
    "duration": 3,
    "start_time": "2024-10-15T02:49:01.889Z"
   },
   {
    "duration": 749,
    "start_time": "2024-10-15T02:49:01.894Z"
   },
   {
    "duration": 6,
    "start_time": "2024-10-15T02:49:22.363Z"
   },
   {
    "duration": 21,
    "start_time": "2024-10-15T02:49:22.371Z"
   },
   {
    "duration": 8,
    "start_time": "2024-10-15T02:49:22.393Z"
   },
   {
    "duration": 6,
    "start_time": "2024-10-15T02:49:22.402Z"
   },
   {
    "duration": 10,
    "start_time": "2024-10-15T02:49:22.409Z"
   },
   {
    "duration": 11,
    "start_time": "2024-10-15T02:49:22.421Z"
   },
   {
    "duration": 19,
    "start_time": "2024-10-15T02:49:22.434Z"
   },
   {
    "duration": 39,
    "start_time": "2024-10-15T02:49:22.454Z"
   },
   {
    "duration": 48,
    "start_time": "2024-10-15T02:49:22.495Z"
   },
   {
    "duration": 9,
    "start_time": "2024-10-15T02:49:22.545Z"
   },
   {
    "duration": 2,
    "start_time": "2024-10-15T02:49:22.555Z"
   },
   {
    "duration": 33,
    "start_time": "2024-10-15T02:49:22.587Z"
   },
   {
    "duration": 15,
    "start_time": "2024-10-15T02:49:22.622Z"
   },
   {
    "duration": 7,
    "start_time": "2024-10-15T02:49:22.639Z"
   },
   {
    "duration": 157,
    "start_time": "2024-10-15T02:49:22.649Z"
   },
   {
    "duration": 6,
    "start_time": "2024-10-15T02:49:22.808Z"
   },
   {
    "duration": 8,
    "start_time": "2024-10-15T02:49:22.815Z"
   },
   {
    "duration": 7,
    "start_time": "2024-10-15T02:49:22.827Z"
   },
   {
    "duration": 197,
    "start_time": "2024-10-15T02:49:22.836Z"
   },
   {
    "duration": 4,
    "start_time": "2024-10-15T02:49:23.034Z"
   },
   {
    "duration": 2,
    "start_time": "2024-10-15T02:49:23.040Z"
   },
   {
    "duration": 128,
    "start_time": "2024-10-15T02:49:23.045Z"
   },
   {
    "duration": 15,
    "start_time": "2024-10-15T02:49:23.175Z"
   },
   {
    "duration": 83,
    "start_time": "2024-10-15T02:49:43.320Z"
   },
   {
    "duration": 2,
    "start_time": "2024-10-15T02:50:25.832Z"
   },
   {
    "duration": 227,
    "start_time": "2024-10-15T02:50:42.053Z"
   },
   {
    "duration": 255,
    "start_time": "2024-10-15T02:50:49.104Z"
   },
   {
    "duration": 238,
    "start_time": "2024-10-15T02:51:01.169Z"
   },
   {
    "duration": 4,
    "start_time": "2024-10-15T02:51:22.576Z"
   },
   {
    "duration": 12,
    "start_time": "2024-10-15T02:51:38.800Z"
   },
   {
    "duration": 5,
    "start_time": "2024-10-15T02:51:47.223Z"
   },
   {
    "duration": 13,
    "start_time": "2024-10-15T02:51:50.299Z"
   },
   {
    "duration": 3,
    "start_time": "2024-10-15T02:51:55.810Z"
   },
   {
    "duration": 5,
    "start_time": "2024-10-15T02:52:02.363Z"
   },
   {
    "duration": 140,
    "start_time": "2024-10-15T02:53:46.131Z"
   },
   {
    "duration": 232,
    "start_time": "2024-10-15T02:54:02.733Z"
   },
   {
    "duration": 90,
    "start_time": "2024-10-15T02:54:15.175Z"
   },
   {
    "duration": 89,
    "start_time": "2024-10-15T02:56:11.396Z"
   },
   {
    "duration": 5,
    "start_time": "2024-10-15T02:56:16.399Z"
   },
   {
    "duration": 88,
    "start_time": "2024-10-15T02:56:22.828Z"
   },
   {
    "duration": 86,
    "start_time": "2024-10-15T02:56:35.578Z"
   },
   {
    "duration": 14,
    "start_time": "2024-10-15T02:57:33.457Z"
   },
   {
    "duration": 13,
    "start_time": "2024-10-15T02:57:36.562Z"
   },
   {
    "duration": 61,
    "start_time": "2024-10-15T02:57:48.882Z"
   },
   {
    "duration": 14,
    "start_time": "2024-10-15T02:57:54.879Z"
   },
   {
    "duration": 14,
    "start_time": "2024-10-15T02:57:59.478Z"
   },
   {
    "duration": 328,
    "start_time": "2024-10-15T02:58:18.202Z"
   },
   {
    "duration": 687,
    "start_time": "2024-10-15T02:58:30.487Z"
   },
   {
    "duration": 643,
    "start_time": "2024-10-15T02:58:41.058Z"
   },
   {
    "duration": 685,
    "start_time": "2024-10-15T02:59:47.952Z"
   },
   {
    "duration": 1290,
    "start_time": "2024-10-15T02:59:53.370Z"
   },
   {
    "duration": 621,
    "start_time": "2024-10-15T02:59:58.630Z"
   },
   {
    "duration": 6,
    "start_time": "2024-10-15T03:02:07.143Z"
   },
   {
    "duration": 7,
    "start_time": "2024-10-15T03:02:12.746Z"
   },
   {
    "duration": 7,
    "start_time": "2024-10-15T03:03:23.685Z"
   },
   {
    "duration": 7,
    "start_time": "2024-10-15T03:04:09.188Z"
   },
   {
    "duration": 5,
    "start_time": "2024-10-15T03:04:17.227Z"
   },
   {
    "duration": 89,
    "start_time": "2024-10-15T03:04:41.019Z"
   },
   {
    "duration": 7,
    "start_time": "2024-10-15T03:04:47.117Z"
   },
   {
    "duration": 111,
    "start_time": "2024-10-15T03:05:30.529Z"
   },
   {
    "duration": 258,
    "start_time": "2024-10-15T03:05:38.687Z"
   },
   {
    "duration": 8,
    "start_time": "2024-10-15T03:06:15.201Z"
   },
   {
    "duration": 8,
    "start_time": "2024-10-15T03:06:24.916Z"
   },
   {
    "duration": 7,
    "start_time": "2024-10-15T03:06:31.233Z"
   },
   {
    "duration": 7,
    "start_time": "2024-10-15T03:06:36.561Z"
   },
   {
    "duration": 7,
    "start_time": "2024-10-15T03:07:26.085Z"
   },
   {
    "duration": 6,
    "start_time": "2024-10-15T03:07:38.770Z"
   },
   {
    "duration": 6,
    "start_time": "2024-10-15T03:09:02.160Z"
   },
   {
    "duration": 8,
    "start_time": "2024-10-15T03:09:12.519Z"
   },
   {
    "duration": 7,
    "start_time": "2024-10-15T03:09:27.041Z"
   },
   {
    "duration": 7,
    "start_time": "2024-10-15T03:09:32.559Z"
   },
   {
    "duration": 7,
    "start_time": "2024-10-15T03:09:37.413Z"
   },
   {
    "duration": 10,
    "start_time": "2024-10-15T03:10:12.034Z"
   },
   {
    "duration": 12,
    "start_time": "2024-10-15T03:10:31.766Z"
   },
   {
    "duration": 7,
    "start_time": "2024-10-15T03:11:12.287Z"
   },
   {
    "duration": 7,
    "start_time": "2024-10-15T03:11:16.933Z"
   },
   {
    "duration": 13,
    "start_time": "2024-10-15T03:12:11.449Z"
   },
   {
    "duration": 13,
    "start_time": "2024-10-15T03:17:32.536Z"
   },
   {
    "duration": 10,
    "start_time": "2024-10-15T03:18:51.555Z"
   },
   {
    "duration": 7,
    "start_time": "2024-10-15T03:20:02.997Z"
   },
   {
    "duration": 11,
    "start_time": "2024-10-15T03:20:53.721Z"
   },
   {
    "duration": 9,
    "start_time": "2024-10-15T03:21:04.494Z"
   },
   {
    "duration": 10,
    "start_time": "2024-10-15T03:21:12.657Z"
   },
   {
    "duration": 4,
    "start_time": "2024-10-15T03:21:48.903Z"
   },
   {
    "duration": 9,
    "start_time": "2024-10-15T03:21:52.676Z"
   },
   {
    "duration": 43,
    "start_time": "2024-10-15T03:22:36.920Z"
   },
   {
    "duration": 119,
    "start_time": "2024-10-15T03:22:43.968Z"
   },
   {
    "duration": 50,
    "start_time": "2024-10-15T03:22:55.298Z"
   },
   {
    "duration": 6,
    "start_time": "2024-10-15T03:24:08.546Z"
   },
   {
    "duration": 6,
    "start_time": "2024-10-15T03:24:13.172Z"
   },
   {
    "duration": 3,
    "start_time": "2024-10-15T03:24:27.192Z"
   },
   {
    "duration": 399,
    "start_time": "2024-10-15T03:24:32.644Z"
   },
   {
    "duration": 181,
    "start_time": "2024-10-15T03:24:33.045Z"
   },
   {
    "duration": 48,
    "start_time": "2024-10-15T03:24:33.228Z"
   },
   {
    "duration": 15,
    "start_time": "2024-10-15T03:24:33.278Z"
   },
   {
    "duration": 9,
    "start_time": "2024-10-15T03:24:33.297Z"
   },
   {
    "duration": 735,
    "start_time": "2024-10-15T03:24:33.308Z"
   },
   {
    "duration": 17,
    "start_time": "2024-10-15T03:24:34.045Z"
   },
   {
    "duration": 45,
    "start_time": "2024-10-15T03:24:34.064Z"
   },
   {
    "duration": 90,
    "start_time": "2024-10-15T03:24:34.111Z"
   },
   {
    "duration": 9,
    "start_time": "2024-10-15T03:24:34.203Z"
   },
   {
    "duration": 103,
    "start_time": "2024-10-15T03:24:34.213Z"
   },
   {
    "duration": 91,
    "start_time": "2024-10-15T03:24:34.318Z"
   },
   {
    "duration": 24,
    "start_time": "2024-10-15T03:24:34.411Z"
   },
   {
    "duration": 11,
    "start_time": "2024-10-15T03:24:34.440Z"
   },
   {
    "duration": 3,
    "start_time": "2024-10-15T03:24:34.452Z"
   },
   {
    "duration": 48,
    "start_time": "2024-10-15T03:24:34.458Z"
   },
   {
    "duration": 11,
    "start_time": "2024-10-15T03:24:34.507Z"
   },
   {
    "duration": 4,
    "start_time": "2024-10-15T03:24:34.519Z"
   },
   {
    "duration": 7,
    "start_time": "2024-10-15T03:24:34.525Z"
   },
   {
    "duration": 8,
    "start_time": "2024-10-15T03:24:34.533Z"
   },
   {
    "duration": 3,
    "start_time": "2024-10-15T03:24:34.543Z"
   },
   {
    "duration": 795,
    "start_time": "2024-10-15T03:24:34.548Z"
   },
   {
    "duration": 665,
    "start_time": "2024-10-15T03:24:35.344Z"
   },
   {
    "duration": 6,
    "start_time": "2024-10-15T03:24:36.011Z"
   },
   {
    "duration": 7,
    "start_time": "2024-10-15T03:24:36.019Z"
   },
   {
    "duration": 7,
    "start_time": "2024-10-15T03:24:36.028Z"
   },
   {
    "duration": 7,
    "start_time": "2024-10-15T03:24:36.037Z"
   },
   {
    "duration": 43,
    "start_time": "2024-10-15T03:24:36.046Z"
   },
   {
    "duration": 6,
    "start_time": "2024-10-15T03:24:36.090Z"
   },
   {
    "duration": 13,
    "start_time": "2024-10-15T03:24:36.097Z"
   },
   {
    "duration": 14,
    "start_time": "2024-10-15T03:24:36.112Z"
   },
   {
    "duration": 73,
    "start_time": "2024-10-15T03:24:36.128Z"
   },
   {
    "duration": 7,
    "start_time": "2024-10-15T03:24:36.202Z"
   },
   {
    "duration": 2,
    "start_time": "2024-10-15T03:24:36.210Z"
   },
   {
    "duration": 2,
    "start_time": "2024-10-15T03:24:36.214Z"
   },
   {
    "duration": 14,
    "start_time": "2024-10-15T03:24:36.218Z"
   },
   {
    "duration": 6,
    "start_time": "2024-10-15T03:24:36.234Z"
   },
   {
    "duration": 161,
    "start_time": "2024-10-15T03:24:36.241Z"
   },
   {
    "duration": 6,
    "start_time": "2024-10-15T03:24:36.405Z"
   },
   {
    "duration": 7,
    "start_time": "2024-10-15T03:24:36.413Z"
   },
   {
    "duration": 8,
    "start_time": "2024-10-15T03:24:36.424Z"
   },
   {
    "duration": 194,
    "start_time": "2024-10-15T03:24:36.433Z"
   },
   {
    "duration": 5,
    "start_time": "2024-10-15T03:24:36.629Z"
   },
   {
    "duration": 3,
    "start_time": "2024-10-15T03:24:36.636Z"
   },
   {
    "duration": 108,
    "start_time": "2024-10-15T03:24:36.640Z"
   },
   {
    "duration": 8,
    "start_time": "2024-10-15T03:24:36.750Z"
   },
   {
    "duration": 176,
    "start_time": "2024-10-15T03:24:42.785Z"
   },
   {
    "duration": 164,
    "start_time": "2024-10-15T03:24:54.175Z"
   },
   {
    "duration": 115,
    "start_time": "2024-10-15T03:25:28.670Z"
   },
   {
    "duration": 4,
    "start_time": "2024-10-15T03:25:42.255Z"
   },
   {
    "duration": 7,
    "start_time": "2024-10-15T03:25:44.742Z"
   },
   {
    "duration": 17,
    "start_time": "2024-10-15T03:27:12.551Z"
   },
   {
    "duration": 9,
    "start_time": "2024-10-15T03:27:17.873Z"
   },
   {
    "duration": 6,
    "start_time": "2024-10-15T03:27:38.873Z"
   },
   {
    "duration": 14,
    "start_time": "2024-10-15T03:27:43.146Z"
   },
   {
    "duration": 6,
    "start_time": "2024-10-15T03:28:36.034Z"
   },
   {
    "duration": 6,
    "start_time": "2024-10-15T03:28:40.815Z"
   },
   {
    "duration": 6,
    "start_time": "2024-10-15T03:28:45.188Z"
   },
   {
    "duration": 6,
    "start_time": "2024-10-15T03:29:50.132Z"
   },
   {
    "duration": 8,
    "start_time": "2024-10-15T03:29:56.046Z"
   },
   {
    "duration": 7,
    "start_time": "2024-10-15T03:30:05.532Z"
   },
   {
    "duration": 6,
    "start_time": "2024-10-15T03:30:16.815Z"
   },
   {
    "duration": 347,
    "start_time": "2024-10-15T03:31:42.432Z"
   },
   {
    "duration": 2,
    "start_time": "2024-10-15T03:32:39.955Z"
   },
   {
    "duration": 4,
    "start_time": "2024-10-15T03:35:56.786Z"
   },
   {
    "duration": 14,
    "start_time": "2024-10-15T03:36:01.704Z"
   },
   {
    "duration": 3,
    "start_time": "2024-10-15T03:37:09.872Z"
   },
   {
    "duration": 408,
    "start_time": "2024-10-15T03:40:51.861Z"
   },
   {
    "duration": 158,
    "start_time": "2024-10-15T03:40:52.271Z"
   },
   {
    "duration": 41,
    "start_time": "2024-10-15T03:40:52.430Z"
   },
   {
    "duration": 17,
    "start_time": "2024-10-15T03:40:52.474Z"
   },
   {
    "duration": 9,
    "start_time": "2024-10-15T03:40:52.493Z"
   },
   {
    "duration": 725,
    "start_time": "2024-10-15T03:40:52.503Z"
   },
   {
    "duration": 17,
    "start_time": "2024-10-15T03:40:53.230Z"
   },
   {
    "duration": 50,
    "start_time": "2024-10-15T03:40:53.248Z"
   },
   {
    "duration": 95,
    "start_time": "2024-10-15T03:40:53.300Z"
   },
   {
    "duration": 9,
    "start_time": "2024-10-15T03:40:53.398Z"
   },
   {
    "duration": 116,
    "start_time": "2024-10-15T03:40:53.409Z"
   },
   {
    "duration": 89,
    "start_time": "2024-10-15T03:40:53.527Z"
   },
   {
    "duration": 31,
    "start_time": "2024-10-15T03:40:53.618Z"
   },
   {
    "duration": 15,
    "start_time": "2024-10-15T03:40:53.652Z"
   },
   {
    "duration": 19,
    "start_time": "2024-10-15T03:40:53.669Z"
   },
   {
    "duration": 27,
    "start_time": "2024-10-15T03:40:53.690Z"
   },
   {
    "duration": 11,
    "start_time": "2024-10-15T03:40:53.719Z"
   },
   {
    "duration": 4,
    "start_time": "2024-10-15T03:40:53.731Z"
   },
   {
    "duration": 7,
    "start_time": "2024-10-15T03:40:53.736Z"
   },
   {
    "duration": 8,
    "start_time": "2024-10-15T03:40:53.745Z"
   },
   {
    "duration": 36,
    "start_time": "2024-10-15T03:40:53.754Z"
   },
   {
    "duration": 733,
    "start_time": "2024-10-15T03:40:53.792Z"
   },
   {
    "duration": 661,
    "start_time": "2024-10-15T03:40:54.527Z"
   },
   {
    "duration": 6,
    "start_time": "2024-10-15T03:40:55.190Z"
   },
   {
    "duration": 8,
    "start_time": "2024-10-15T03:40:55.198Z"
   },
   {
    "duration": 7,
    "start_time": "2024-10-15T03:40:55.208Z"
   },
   {
    "duration": 7,
    "start_time": "2024-10-15T03:40:55.217Z"
   },
   {
    "duration": 11,
    "start_time": "2024-10-15T03:40:55.228Z"
   },
   {
    "duration": 5,
    "start_time": "2024-10-15T03:40:55.240Z"
   },
   {
    "duration": 51,
    "start_time": "2024-10-15T03:40:55.246Z"
   },
   {
    "duration": 15,
    "start_time": "2024-10-15T03:40:55.299Z"
   },
   {
    "duration": 49,
    "start_time": "2024-10-15T03:40:55.316Z"
   },
   {
    "duration": 29,
    "start_time": "2024-10-15T03:40:55.367Z"
   },
   {
    "duration": 392,
    "start_time": "2024-10-15T03:43:47.962Z"
   },
   {
    "duration": 160,
    "start_time": "2024-10-15T03:43:48.356Z"
   },
   {
    "duration": 39,
    "start_time": "2024-10-15T03:43:48.518Z"
   },
   {
    "duration": 7,
    "start_time": "2024-10-15T03:43:48.559Z"
   },
   {
    "duration": 20,
    "start_time": "2024-10-15T03:43:48.569Z"
   },
   {
    "duration": 717,
    "start_time": "2024-10-15T03:43:48.590Z"
   },
   {
    "duration": 18,
    "start_time": "2024-10-15T03:43:49.309Z"
   },
   {
    "duration": 32,
    "start_time": "2024-10-15T03:43:49.328Z"
   },
   {
    "duration": 107,
    "start_time": "2024-10-15T03:43:49.362Z"
   },
   {
    "duration": 18,
    "start_time": "2024-10-15T03:43:49.471Z"
   },
   {
    "duration": 107,
    "start_time": "2024-10-15T03:43:49.491Z"
   },
   {
    "duration": 87,
    "start_time": "2024-10-15T03:43:49.600Z"
   },
   {
    "duration": 26,
    "start_time": "2024-10-15T03:43:49.688Z"
   },
   {
    "duration": 11,
    "start_time": "2024-10-15T03:43:49.717Z"
   },
   {
    "duration": 3,
    "start_time": "2024-10-15T03:43:49.730Z"
   },
   {
    "duration": 24,
    "start_time": "2024-10-15T03:43:49.734Z"
   },
   {
    "duration": 35,
    "start_time": "2024-10-15T03:43:49.760Z"
   },
   {
    "duration": 3,
    "start_time": "2024-10-15T03:43:49.796Z"
   },
   {
    "duration": 7,
    "start_time": "2024-10-15T03:43:49.801Z"
   },
   {
    "duration": 7,
    "start_time": "2024-10-15T03:43:49.810Z"
   },
   {
    "duration": 3,
    "start_time": "2024-10-15T03:43:49.819Z"
   },
   {
    "duration": 784,
    "start_time": "2024-10-15T03:43:49.824Z"
   },
   {
    "duration": 667,
    "start_time": "2024-10-15T03:43:50.610Z"
   },
   {
    "duration": 11,
    "start_time": "2024-10-15T03:43:51.280Z"
   },
   {
    "duration": 8,
    "start_time": "2024-10-15T03:43:51.293Z"
   },
   {
    "duration": 9,
    "start_time": "2024-10-15T03:43:51.304Z"
   },
   {
    "duration": 7,
    "start_time": "2024-10-15T03:43:51.315Z"
   },
   {
    "duration": 11,
    "start_time": "2024-10-15T03:43:51.324Z"
   },
   {
    "duration": 5,
    "start_time": "2024-10-15T03:43:51.336Z"
   },
   {
    "duration": 46,
    "start_time": "2024-10-15T03:43:51.343Z"
   },
   {
    "duration": 14,
    "start_time": "2024-10-15T03:43:51.391Z"
   },
   {
    "duration": 49,
    "start_time": "2024-10-15T03:43:51.407Z"
   },
   {
    "duration": 36,
    "start_time": "2024-10-15T03:43:51.459Z"
   },
   {
    "duration": 310,
    "start_time": "2024-10-15T03:43:51.496Z"
   },
   {
    "duration": 0,
    "start_time": "2024-10-15T03:43:51.808Z"
   },
   {
    "duration": 0,
    "start_time": "2024-10-15T03:43:51.809Z"
   },
   {
    "duration": 0,
    "start_time": "2024-10-15T03:43:51.810Z"
   },
   {
    "duration": 0,
    "start_time": "2024-10-15T03:43:51.811Z"
   },
   {
    "duration": 0,
    "start_time": "2024-10-15T03:43:51.812Z"
   },
   {
    "duration": 0,
    "start_time": "2024-10-15T03:43:51.813Z"
   },
   {
    "duration": 0,
    "start_time": "2024-10-15T03:43:51.814Z"
   },
   {
    "duration": 0,
    "start_time": "2024-10-15T03:43:51.816Z"
   },
   {
    "duration": 0,
    "start_time": "2024-10-15T03:43:51.817Z"
   },
   {
    "duration": 0,
    "start_time": "2024-10-15T03:43:51.818Z"
   },
   {
    "duration": 0,
    "start_time": "2024-10-15T03:43:51.819Z"
   },
   {
    "duration": 0,
    "start_time": "2024-10-15T03:43:51.820Z"
   },
   {
    "duration": 20,
    "start_time": "2024-10-15T03:49:26.357Z"
   },
   {
    "duration": 22,
    "start_time": "2024-10-15T03:49:34.714Z"
   },
   {
    "duration": 21,
    "start_time": "2024-10-15T03:50:19.474Z"
   },
   {
    "duration": 21,
    "start_time": "2024-10-15T03:50:55.132Z"
   },
   {
    "duration": 93,
    "start_time": "2024-10-15T03:51:09.907Z"
   },
   {
    "duration": 36,
    "start_time": "2024-10-15T03:51:18.552Z"
   },
   {
    "duration": 24,
    "start_time": "2024-10-15T03:52:39.640Z"
   },
   {
    "duration": 25,
    "start_time": "2024-10-15T03:52:50.147Z"
   },
   {
    "duration": 24,
    "start_time": "2024-10-15T03:53:19.864Z"
   },
   {
    "duration": 28,
    "start_time": "2024-10-15T03:53:34.653Z"
   },
   {
    "duration": 34,
    "start_time": "2024-10-15T03:53:52.062Z"
   },
   {
    "duration": 23,
    "start_time": "2024-10-15T03:53:54.834Z"
   },
   {
    "duration": 25,
    "start_time": "2024-10-15T03:54:00.206Z"
   },
   {
    "duration": 22,
    "start_time": "2024-10-15T03:54:05.828Z"
   },
   {
    "duration": 25,
    "start_time": "2024-10-15T03:54:09.958Z"
   },
   {
    "duration": 23,
    "start_time": "2024-10-15T03:56:15.773Z"
   },
   {
    "duration": 29,
    "start_time": "2024-10-15T03:56:40.919Z"
   },
   {
    "duration": 174,
    "start_time": "2024-10-15T03:56:54.095Z"
   },
   {
    "duration": 29,
    "start_time": "2024-10-15T03:56:57.374Z"
   },
   {
    "duration": 29,
    "start_time": "2024-10-15T03:57:02.056Z"
   },
   {
    "duration": 27,
    "start_time": "2024-10-15T03:57:08.618Z"
   },
   {
    "duration": 22,
    "start_time": "2024-10-15T03:58:05.951Z"
   },
   {
    "duration": 4,
    "start_time": "2024-10-15T03:58:40.000Z"
   },
   {
    "duration": 30,
    "start_time": "2024-10-15T03:58:43.285Z"
   },
   {
    "duration": 28,
    "start_time": "2024-10-15T04:00:16.001Z"
   },
   {
    "duration": 28,
    "start_time": "2024-10-15T04:00:22.743Z"
   },
   {
    "duration": 35,
    "start_time": "2024-10-15T04:00:54.450Z"
   },
   {
    "duration": 132,
    "start_time": "2024-10-15T04:01:05.200Z"
   },
   {
    "duration": 7,
    "start_time": "2024-10-15T04:02:07.562Z"
   },
   {
    "duration": 7,
    "start_time": "2024-10-15T04:02:43.866Z"
   },
   {
    "duration": 9,
    "start_time": "2024-10-15T04:02:45.854Z"
   },
   {
    "duration": 164,
    "start_time": "2024-10-15T04:02:47.880Z"
   },
   {
    "duration": 110,
    "start_time": "2024-10-15T04:03:11.179Z"
   },
   {
    "duration": 104,
    "start_time": "2024-10-15T04:03:19.083Z"
   },
   {
    "duration": 132,
    "start_time": "2024-10-15T04:03:52.534Z"
   },
   {
    "duration": 44,
    "start_time": "2024-10-15T04:04:16.626Z"
   },
   {
    "duration": 25,
    "start_time": "2024-10-15T04:04:18.762Z"
   },
   {
    "duration": 133,
    "start_time": "2024-10-15T04:04:28.579Z"
   },
   {
    "duration": 133,
    "start_time": "2024-10-15T04:05:25.347Z"
   },
   {
    "duration": 134,
    "start_time": "2024-10-15T04:05:32.352Z"
   },
   {
    "duration": 139,
    "start_time": "2024-10-15T04:05:40.247Z"
   },
   {
    "duration": 8,
    "start_time": "2024-10-15T04:06:13.915Z"
   },
   {
    "duration": 13,
    "start_time": "2024-10-15T04:06:54.575Z"
   },
   {
    "duration": 1814,
    "start_time": "2024-10-15T04:06:59.082Z"
   },
   {
    "duration": 146,
    "start_time": "2024-10-15T04:07:53.073Z"
   },
   {
    "duration": 13,
    "start_time": "2024-10-15T04:08:26.069Z"
   },
   {
    "duration": 128,
    "start_time": "2024-10-15T04:08:34.371Z"
   },
   {
    "duration": 151,
    "start_time": "2024-10-15T04:08:52.388Z"
   },
   {
    "duration": 171,
    "start_time": "2024-10-15T04:09:17.941Z"
   },
   {
    "duration": 149,
    "start_time": "2024-10-15T04:10:57.684Z"
   },
   {
    "duration": 154,
    "start_time": "2024-10-15T04:11:05.184Z"
   },
   {
    "duration": 17,
    "start_time": "2024-10-15T04:13:38.251Z"
   },
   {
    "duration": 4,
    "start_time": "2024-10-15T04:13:42.188Z"
   },
   {
    "duration": 13,
    "start_time": "2024-10-15T04:13:43.912Z"
   },
   {
    "duration": 168,
    "start_time": "2024-10-15T04:14:19.297Z"
   },
   {
    "duration": 14,
    "start_time": "2024-10-15T04:14:37.030Z"
   },
   {
    "duration": 14,
    "start_time": "2024-10-15T04:15:05.047Z"
   },
   {
    "duration": 14,
    "start_time": "2024-10-15T04:15:17.356Z"
   },
   {
    "duration": 4,
    "start_time": "2024-10-15T04:15:32.126Z"
   },
   {
    "duration": 96,
    "start_time": "2024-10-15T04:15:35.145Z"
   },
   {
    "duration": 3,
    "start_time": "2024-10-15T04:15:44.341Z"
   },
   {
    "duration": 28,
    "start_time": "2024-10-15T04:16:17.089Z"
   },
   {
    "duration": 346,
    "start_time": "2024-10-15T04:16:29.196Z"
   },
   {
    "duration": 2282,
    "start_time": "2024-10-15T04:16:35.517Z"
   },
   {
    "duration": 1515,
    "start_time": "2024-10-15T04:16:39.971Z"
   },
   {
    "duration": 32,
    "start_time": "2024-10-15T04:17:33.572Z"
   },
   {
    "duration": 30,
    "start_time": "2024-10-15T04:17:40.358Z"
   },
   {
    "duration": 31,
    "start_time": "2024-10-15T04:17:55.124Z"
   },
   {
    "duration": 5,
    "start_time": "2024-10-15T04:18:06.702Z"
   },
   {
    "duration": 3287,
    "start_time": "2024-10-15T04:18:19.812Z"
   },
   {
    "duration": 3336,
    "start_time": "2024-10-15T04:18:34.052Z"
   },
   {
    "duration": 16,
    "start_time": "2024-10-15T04:18:44.549Z"
   },
   {
    "duration": 118,
    "start_time": "2024-10-15T04:18:49.091Z"
   },
   {
    "duration": 887,
    "start_time": "2024-10-15T04:19:12.921Z"
   },
   {
    "duration": 13,
    "start_time": "2024-10-15T04:20:01.990Z"
   },
   {
    "duration": 52,
    "start_time": "2024-10-15T04:20:07.075Z"
   },
   {
    "duration": 13,
    "start_time": "2024-10-15T04:20:36.969Z"
   },
   {
    "duration": 14,
    "start_time": "2024-10-15T04:20:47.527Z"
   },
   {
    "duration": 46,
    "start_time": "2024-10-15T04:20:54.652Z"
   },
   {
    "duration": 873,
    "start_time": "2024-10-15T04:22:21.976Z"
   },
   {
    "duration": 878,
    "start_time": "2024-10-15T04:22:26.385Z"
   },
   {
    "duration": 3,
    "start_time": "2024-10-15T04:22:51.077Z"
   },
   {
    "duration": 5,
    "start_time": "2024-10-15T04:26:33.656Z"
   },
   {
    "duration": 3,
    "start_time": "2024-10-15T04:26:44.281Z"
   },
   {
    "duration": 4,
    "start_time": "2024-10-15T04:26:50.969Z"
   },
   {
    "duration": 48,
    "start_time": "2024-10-15T04:27:00.996Z"
   },
   {
    "duration": 65,
    "start_time": "2024-10-15T04:28:56.022Z"
   },
   {
    "duration": 4,
    "start_time": "2024-10-15T04:29:15.936Z"
   },
   {
    "duration": 44,
    "start_time": "2024-10-15T04:29:29.467Z"
   },
   {
    "duration": 50,
    "start_time": "2024-10-15T04:29:37.048Z"
   },
   {
    "duration": 4,
    "start_time": "2024-10-15T04:30:06.295Z"
   },
   {
    "duration": 4,
    "start_time": "2024-10-15T04:30:08.823Z"
   },
   {
    "duration": 12,
    "start_time": "2024-10-15T04:30:11.103Z"
   },
   {
    "duration": 45,
    "start_time": "2024-10-15T04:30:22.534Z"
   },
   {
    "duration": 880,
    "start_time": "2024-10-15T04:30:37.581Z"
   },
   {
    "duration": 972,
    "start_time": "2024-10-15T04:30:45.507Z"
   },
   {
    "duration": 960,
    "start_time": "2024-10-15T04:30:49.079Z"
   },
   {
    "duration": 3,
    "start_time": "2024-10-15T04:32:00.606Z"
   },
   {
    "duration": 13,
    "start_time": "2024-10-15T04:32:11.662Z"
   },
   {
    "duration": 3,
    "start_time": "2024-10-15T04:32:32.791Z"
   },
   {
    "duration": 5,
    "start_time": "2024-10-15T04:32:37.326Z"
   },
   {
    "duration": 5,
    "start_time": "2024-10-15T05:07:50.571Z"
   },
   {
    "duration": 15,
    "start_time": "2024-10-15T05:08:44.967Z"
   },
   {
    "duration": 5,
    "start_time": "2024-10-15T05:09:06.146Z"
   },
   {
    "duration": 15,
    "start_time": "2024-10-15T05:09:21.602Z"
   },
   {
    "duration": 27,
    "start_time": "2024-10-15T05:09:30.196Z"
   },
   {
    "duration": 24,
    "start_time": "2024-10-15T05:09:33.306Z"
   },
   {
    "duration": 3221,
    "start_time": "2024-10-15T05:09:42.371Z"
   },
   {
    "duration": 28,
    "start_time": "2024-10-15T05:10:24.591Z"
   },
   {
    "duration": 203,
    "start_time": "2024-10-15T05:10:33.891Z"
   },
   {
    "duration": 5,
    "start_time": "2024-10-15T05:12:05.891Z"
   },
   {
    "duration": 452,
    "start_time": "2024-10-15T05:12:52.077Z"
   },
   {
    "duration": 209,
    "start_time": "2024-10-15T05:12:54.195Z"
   },
   {
    "duration": 296,
    "start_time": "2024-10-15T05:12:59.030Z"
   },
   {
    "duration": 107,
    "start_time": "2024-10-15T05:13:08.849Z"
   },
   {
    "duration": 233,
    "start_time": "2024-10-15T05:13:24.940Z"
   },
   {
    "duration": 290,
    "start_time": "2024-10-15T05:13:34.875Z"
   },
   {
    "duration": 117,
    "start_time": "2024-10-15T05:13:39.782Z"
   },
   {
    "duration": 110,
    "start_time": "2024-10-15T05:13:54.205Z"
   },
   {
    "duration": 108,
    "start_time": "2024-10-15T05:14:18.174Z"
   },
   {
    "duration": 110,
    "start_time": "2024-10-15T05:14:26.998Z"
   },
   {
    "duration": 4,
    "start_time": "2024-10-15T05:14:37.434Z"
   },
   {
    "duration": 49,
    "start_time": "2024-10-15T05:14:40.347Z"
   },
   {
    "duration": 429,
    "start_time": "2024-10-15T05:15:30.731Z"
   },
   {
    "duration": 159,
    "start_time": "2024-10-15T05:15:31.162Z"
   },
   {
    "duration": 39,
    "start_time": "2024-10-15T05:15:31.323Z"
   },
   {
    "duration": 7,
    "start_time": "2024-10-15T05:15:31.365Z"
   },
   {
    "duration": 8,
    "start_time": "2024-10-15T05:15:31.386Z"
   },
   {
    "duration": 746,
    "start_time": "2024-10-15T05:15:31.396Z"
   },
   {
    "duration": 16,
    "start_time": "2024-10-15T05:15:32.143Z"
   },
   {
    "duration": 43,
    "start_time": "2024-10-15T05:15:32.161Z"
   },
   {
    "duration": 93,
    "start_time": "2024-10-15T05:15:32.206Z"
   },
   {
    "duration": 8,
    "start_time": "2024-10-15T05:15:32.302Z"
   },
   {
    "duration": 107,
    "start_time": "2024-10-15T05:15:32.312Z"
   },
   {
    "duration": 86,
    "start_time": "2024-10-15T05:15:32.421Z"
   },
   {
    "duration": 25,
    "start_time": "2024-10-15T05:15:32.508Z"
   },
   {
    "duration": 12,
    "start_time": "2024-10-15T05:15:32.534Z"
   },
   {
    "duration": 4,
    "start_time": "2024-10-15T05:15:32.547Z"
   },
   {
    "duration": 49,
    "start_time": "2024-10-15T05:15:32.552Z"
   },
   {
    "duration": 12,
    "start_time": "2024-10-15T05:15:32.603Z"
   },
   {
    "duration": 4,
    "start_time": "2024-10-15T05:15:32.616Z"
   },
   {
    "duration": 8,
    "start_time": "2024-10-15T05:15:32.621Z"
   },
   {
    "duration": 8,
    "start_time": "2024-10-15T05:15:32.631Z"
   },
   {
    "duration": 4,
    "start_time": "2024-10-15T05:15:32.640Z"
   },
   {
    "duration": 820,
    "start_time": "2024-10-15T05:15:32.646Z"
   },
   {
    "duration": 721,
    "start_time": "2024-10-15T05:15:33.468Z"
   },
   {
    "duration": 7,
    "start_time": "2024-10-15T05:15:34.191Z"
   },
   {
    "duration": 8,
    "start_time": "2024-10-15T05:15:34.200Z"
   },
   {
    "duration": 7,
    "start_time": "2024-10-15T05:15:34.209Z"
   },
   {
    "duration": 7,
    "start_time": "2024-10-15T05:15:34.218Z"
   },
   {
    "duration": 11,
    "start_time": "2024-10-15T05:15:34.229Z"
   },
   {
    "duration": 5,
    "start_time": "2024-10-15T05:15:34.241Z"
   },
   {
    "duration": 49,
    "start_time": "2024-10-15T05:15:34.247Z"
   },
   {
    "duration": 14,
    "start_time": "2024-10-15T05:15:34.298Z"
   },
   {
    "duration": 49,
    "start_time": "2024-10-15T05:15:34.313Z"
   },
   {
    "duration": 32,
    "start_time": "2024-10-15T05:15:34.363Z"
   },
   {
    "duration": 29,
    "start_time": "2024-10-15T05:15:34.397Z"
   },
   {
    "duration": 34,
    "start_time": "2024-10-15T05:15:34.428Z"
   },
   {
    "duration": 34,
    "start_time": "2024-10-15T05:15:34.464Z"
   },
   {
    "duration": 7,
    "start_time": "2024-10-15T05:15:34.499Z"
   },
   {
    "duration": 145,
    "start_time": "2024-10-15T05:15:34.507Z"
   },
   {
    "duration": 143,
    "start_time": "2024-10-15T05:15:34.653Z"
   },
   {
    "duration": 8,
    "start_time": "2024-10-15T05:15:34.798Z"
   },
   {
    "duration": 171,
    "start_time": "2024-10-15T05:15:34.808Z"
   },
   {
    "duration": 9,
    "start_time": "2024-10-15T05:15:34.986Z"
   },
   {
    "duration": 178,
    "start_time": "2024-10-15T05:15:34.996Z"
   },
   {
    "duration": 4,
    "start_time": "2024-10-15T05:15:35.176Z"
   },
   {
    "duration": 402,
    "start_time": "2024-10-15T05:18:29.840Z"
   },
   {
    "duration": 167,
    "start_time": "2024-10-15T05:18:30.244Z"
   },
   {
    "duration": 39,
    "start_time": "2024-10-15T05:18:30.413Z"
   },
   {
    "duration": 8,
    "start_time": "2024-10-15T05:18:30.454Z"
   },
   {
    "duration": 7,
    "start_time": "2024-10-15T05:18:30.464Z"
   },
   {
    "duration": 712,
    "start_time": "2024-10-15T05:18:30.487Z"
   },
   {
    "duration": 16,
    "start_time": "2024-10-15T05:18:31.201Z"
   },
   {
    "duration": 31,
    "start_time": "2024-10-15T05:18:31.219Z"
   },
   {
    "duration": 107,
    "start_time": "2024-10-15T05:18:31.252Z"
   },
   {
    "duration": 10,
    "start_time": "2024-10-15T05:18:31.363Z"
   },
   {
    "duration": 119,
    "start_time": "2024-10-15T05:18:31.374Z"
   },
   {
    "duration": 81,
    "start_time": "2024-10-15T05:18:31.495Z"
   },
   {
    "duration": 26,
    "start_time": "2024-10-15T05:18:31.586Z"
   },
   {
    "duration": 12,
    "start_time": "2024-10-15T05:18:31.613Z"
   },
   {
    "duration": 4,
    "start_time": "2024-10-15T05:18:31.626Z"
   },
   {
    "duration": 23,
    "start_time": "2024-10-15T05:18:31.631Z"
   },
   {
    "duration": 35,
    "start_time": "2024-10-15T05:18:31.656Z"
   },
   {
    "duration": 3,
    "start_time": "2024-10-15T05:18:31.693Z"
   },
   {
    "duration": 7,
    "start_time": "2024-10-15T05:18:31.698Z"
   },
   {
    "duration": 7,
    "start_time": "2024-10-15T05:18:31.706Z"
   },
   {
    "duration": 3,
    "start_time": "2024-10-15T05:18:31.715Z"
   },
   {
    "duration": 794,
    "start_time": "2024-10-15T05:18:31.720Z"
   },
   {
    "duration": 670,
    "start_time": "2024-10-15T05:18:32.516Z"
   },
   {
    "duration": 7,
    "start_time": "2024-10-15T05:18:33.188Z"
   },
   {
    "duration": 9,
    "start_time": "2024-10-15T05:18:33.196Z"
   },
   {
    "duration": 8,
    "start_time": "2024-10-15T05:18:33.207Z"
   },
   {
    "duration": 7,
    "start_time": "2024-10-15T05:18:33.217Z"
   },
   {
    "duration": 10,
    "start_time": "2024-10-15T05:18:33.229Z"
   },
   {
    "duration": 4,
    "start_time": "2024-10-15T05:18:33.241Z"
   },
   {
    "duration": 66,
    "start_time": "2024-10-15T05:18:33.247Z"
   },
   {
    "duration": 15,
    "start_time": "2024-10-15T05:18:33.315Z"
   },
   {
    "duration": 54,
    "start_time": "2024-10-15T05:18:33.332Z"
   },
   {
    "duration": 12,
    "start_time": "2024-10-15T05:18:33.388Z"
   },
   {
    "duration": 28,
    "start_time": "2024-10-15T05:18:33.403Z"
   },
   {
    "duration": 35,
    "start_time": "2024-10-15T05:18:33.433Z"
   },
   {
    "duration": 16,
    "start_time": "2024-10-15T05:18:33.487Z"
   },
   {
    "duration": 7,
    "start_time": "2024-10-15T05:18:33.504Z"
   },
   {
    "duration": 150,
    "start_time": "2024-10-15T05:18:33.512Z"
   },
   {
    "duration": 147,
    "start_time": "2024-10-15T05:18:33.665Z"
   },
   {
    "duration": 8,
    "start_time": "2024-10-15T05:18:33.814Z"
   },
   {
    "duration": 177,
    "start_time": "2024-10-15T05:18:33.823Z"
   },
   {
    "duration": 9,
    "start_time": "2024-10-15T05:18:34.003Z"
   },
   {
    "duration": 179,
    "start_time": "2024-10-15T05:18:34.014Z"
   },
   {
    "duration": 4,
    "start_time": "2024-10-15T05:18:34.195Z"
   },
   {
    "duration": 141,
    "start_time": "2024-10-15T05:18:34.201Z"
   },
   {
    "duration": 94,
    "start_time": "2024-10-15T05:18:34.344Z"
   },
   {
    "duration": 8,
    "start_time": "2024-10-15T05:18:34.439Z"
   },
   {
    "duration": 261,
    "start_time": "2024-10-15T05:18:44.505Z"
   },
   {
    "duration": 128,
    "start_time": "2024-10-15T05:18:53.432Z"
   },
   {
    "duration": 50,
    "start_time": "2024-10-15T05:18:59.065Z"
   },
   {
    "duration": 401,
    "start_time": "2024-10-15T05:20:07.044Z"
   },
   {
    "duration": 163,
    "start_time": "2024-10-15T05:20:07.447Z"
   },
   {
    "duration": 39,
    "start_time": "2024-10-15T05:20:07.612Z"
   },
   {
    "duration": 8,
    "start_time": "2024-10-15T05:20:07.653Z"
   },
   {
    "duration": 27,
    "start_time": "2024-10-15T05:20:07.663Z"
   },
   {
    "duration": 734,
    "start_time": "2024-10-15T05:20:07.692Z"
   },
   {
    "duration": 16,
    "start_time": "2024-10-15T05:20:08.428Z"
   },
   {
    "duration": 44,
    "start_time": "2024-10-15T05:20:08.446Z"
   },
   {
    "duration": 96,
    "start_time": "2024-10-15T05:20:08.492Z"
   },
   {
    "duration": 10,
    "start_time": "2024-10-15T05:20:08.591Z"
   },
   {
    "duration": 107,
    "start_time": "2024-10-15T05:20:08.602Z"
   },
   {
    "duration": 97,
    "start_time": "2024-10-15T05:20:08.710Z"
   },
   {
    "duration": 30,
    "start_time": "2024-10-15T05:20:08.808Z"
   },
   {
    "duration": 12,
    "start_time": "2024-10-15T05:20:08.839Z"
   },
   {
    "duration": 3,
    "start_time": "2024-10-15T05:20:08.852Z"
   },
   {
    "duration": 49,
    "start_time": "2024-10-15T05:20:08.857Z"
   },
   {
    "duration": 11,
    "start_time": "2024-10-15T05:20:08.907Z"
   },
   {
    "duration": 3,
    "start_time": "2024-10-15T05:20:08.919Z"
   },
   {
    "duration": 8,
    "start_time": "2024-10-15T05:20:08.924Z"
   },
   {
    "duration": 7,
    "start_time": "2024-10-15T05:20:08.934Z"
   },
   {
    "duration": 4,
    "start_time": "2024-10-15T05:20:08.942Z"
   },
   {
    "duration": 773,
    "start_time": "2024-10-15T05:20:08.948Z"
   },
   {
    "duration": 685,
    "start_time": "2024-10-15T05:20:09.723Z"
   },
   {
    "duration": 6,
    "start_time": "2024-10-15T05:20:10.410Z"
   },
   {
    "duration": 8,
    "start_time": "2024-10-15T05:20:10.418Z"
   },
   {
    "duration": 8,
    "start_time": "2024-10-15T05:20:10.427Z"
   },
   {
    "duration": 6,
    "start_time": "2024-10-15T05:20:10.437Z"
   },
   {
    "duration": 41,
    "start_time": "2024-10-15T05:20:10.447Z"
   },
   {
    "duration": 6,
    "start_time": "2024-10-15T05:20:10.490Z"
   },
   {
    "duration": 14,
    "start_time": "2024-10-15T05:20:10.498Z"
   },
   {
    "duration": 15,
    "start_time": "2024-10-15T05:20:10.513Z"
   },
   {
    "duration": 74,
    "start_time": "2024-10-15T05:20:10.529Z"
   },
   {
    "duration": 11,
    "start_time": "2024-10-15T05:20:10.605Z"
   },
   {
    "duration": 28,
    "start_time": "2024-10-15T05:20:10.618Z"
   },
   {
    "duration": 54,
    "start_time": "2024-10-15T05:20:10.648Z"
   },
   {
    "duration": 14,
    "start_time": "2024-10-15T05:20:10.704Z"
   },
   {
    "duration": 7,
    "start_time": "2024-10-15T05:20:10.720Z"
   },
   {
    "duration": 142,
    "start_time": "2024-10-15T05:20:10.728Z"
   },
   {
    "duration": 148,
    "start_time": "2024-10-15T05:20:10.872Z"
   },
   {
    "duration": 8,
    "start_time": "2024-10-15T05:20:11.021Z"
   },
   {
    "duration": 169,
    "start_time": "2024-10-15T05:20:11.032Z"
   },
   {
    "duration": 8,
    "start_time": "2024-10-15T05:20:11.203Z"
   },
   {
    "duration": 173,
    "start_time": "2024-10-15T05:20:11.213Z"
   },
   {
    "duration": 4,
    "start_time": "2024-10-15T05:20:11.388Z"
   },
   {
    "duration": 56,
    "start_time": "2024-10-15T05:20:11.393Z"
   },
   {
    "duration": 106,
    "start_time": "2024-10-15T05:20:11.451Z"
   },
   {
    "duration": 12,
    "start_time": "2024-10-15T05:20:11.559Z"
   },
   {
    "duration": 249,
    "start_time": "2024-10-15T05:20:17.766Z"
   },
   {
    "duration": 3,
    "start_time": "2024-10-15T05:21:20.592Z"
   },
   {
    "duration": 12,
    "start_time": "2024-10-15T05:21:22.762Z"
   },
   {
    "duration": 2,
    "start_time": "2024-10-15T05:21:29.261Z"
   },
   {
    "duration": 2,
    "start_time": "2024-10-15T05:21:34.301Z"
   },
   {
    "duration": 121,
    "start_time": "2024-10-15T05:21:36.573Z"
   },
   {
    "duration": 115,
    "start_time": "2024-10-15T05:21:40.092Z"
   },
   {
    "duration": 197,
    "start_time": "2024-10-15T05:22:04.017Z"
   },
   {
    "duration": 136,
    "start_time": "2024-10-15T05:23:32.291Z"
   },
   {
    "duration": 3346,
    "start_time": "2024-10-15T05:23:37.859Z"
   },
   {
    "duration": 3271,
    "start_time": "2024-10-15T05:23:43.542Z"
   },
   {
    "duration": 139,
    "start_time": "2024-10-15T05:23:51.073Z"
   },
   {
    "duration": 291,
    "start_time": "2024-10-15T05:23:54.767Z"
   },
   {
    "duration": 1220,
    "start_time": "2024-10-15T05:24:09.452Z"
   },
   {
    "duration": 476,
    "start_time": "2024-10-15T05:24:15.993Z"
   },
   {
    "duration": 3220,
    "start_time": "2024-10-15T05:24:25.455Z"
   },
   {
    "duration": 291,
    "start_time": "2024-10-15T05:24:48.537Z"
   },
   {
    "duration": 442,
    "start_time": "2024-10-15T05:25:49.189Z"
   },
   {
    "duration": 147,
    "start_time": "2024-10-15T05:26:10.549Z"
   },
   {
    "duration": 531,
    "start_time": "2024-10-15T05:26:20.969Z"
   },
   {
    "duration": 195,
    "start_time": "2024-10-15T05:26:31.508Z"
   },
   {
    "duration": 176,
    "start_time": "2024-10-15T05:26:55.712Z"
   },
   {
    "duration": 218,
    "start_time": "2024-10-15T05:27:03.922Z"
   },
   {
    "duration": 318,
    "start_time": "2024-10-15T05:27:27.059Z"
   },
   {
    "duration": 222,
    "start_time": "2024-10-15T05:27:33.104Z"
   },
   {
    "duration": 559,
    "start_time": "2024-10-15T05:28:27.854Z"
   },
   {
    "duration": 163,
    "start_time": "2024-10-15T05:28:41.794Z"
   },
   {
    "duration": 3,
    "start_time": "2024-10-15T05:28:51.864Z"
   },
   {
    "duration": 13,
    "start_time": "2024-10-15T05:28:54.066Z"
   },
   {
    "duration": 205,
    "start_time": "2024-10-15T05:29:02.247Z"
   },
   {
    "duration": 272,
    "start_time": "2024-10-15T05:30:12.340Z"
   },
   {
    "duration": 208,
    "start_time": "2024-10-15T05:30:24.016Z"
   },
   {
    "duration": 74,
    "start_time": "2024-10-15T05:31:47.799Z"
   },
   {
    "duration": 13,
    "start_time": "2024-10-15T05:35:38.466Z"
   },
   {
    "duration": 65,
    "start_time": "2024-10-15T05:35:53.318Z"
   },
   {
    "duration": 12,
    "start_time": "2024-10-15T05:35:55.246Z"
   },
   {
    "duration": 9,
    "start_time": "2024-10-15T05:36:23.084Z"
   },
   {
    "duration": 19,
    "start_time": "2024-10-15T05:36:44.846Z"
   },
   {
    "duration": 12,
    "start_time": "2024-10-15T05:37:03.216Z"
   },
   {
    "duration": 12,
    "start_time": "2024-10-15T05:37:12.270Z"
   },
   {
    "duration": 19,
    "start_time": "2024-10-15T05:37:42.419Z"
   },
   {
    "duration": 138,
    "start_time": "2024-10-15T05:38:32.758Z"
   },
   {
    "duration": 19,
    "start_time": "2024-10-15T05:38:46.226Z"
   },
   {
    "duration": 4,
    "start_time": "2024-10-15T05:39:13.098Z"
   },
   {
    "duration": 11,
    "start_time": "2024-10-15T05:39:34.040Z"
   },
   {
    "duration": 10,
    "start_time": "2024-10-15T05:39:36.286Z"
   },
   {
    "duration": 13,
    "start_time": "2024-10-15T05:39:42.373Z"
   },
   {
    "duration": 24,
    "start_time": "2024-10-15T05:40:28.559Z"
   },
   {
    "duration": 504,
    "start_time": "2024-10-15T05:40:40.145Z"
   },
   {
    "duration": 24,
    "start_time": "2024-10-15T05:40:57.820Z"
   },
   {
    "duration": 10,
    "start_time": "2024-10-15T05:41:04.357Z"
   },
   {
    "duration": 20,
    "start_time": "2024-10-15T05:41:12.178Z"
   },
   {
    "duration": 11,
    "start_time": "2024-10-15T05:41:17.568Z"
   },
   {
    "duration": 11,
    "start_time": "2024-10-15T05:41:36.078Z"
   },
   {
    "duration": 12,
    "start_time": "2024-10-15T05:41:41.035Z"
   },
   {
    "duration": 68,
    "start_time": "2024-10-15T05:41:57.467Z"
   },
   {
    "duration": 13,
    "start_time": "2024-10-15T05:42:01.974Z"
   },
   {
    "duration": 11,
    "start_time": "2024-10-15T05:42:06.806Z"
   },
   {
    "duration": 77,
    "start_time": "2024-10-15T05:42:46.645Z"
   },
   {
    "duration": 194,
    "start_time": "2024-10-15T05:42:53.338Z"
   },
   {
    "duration": 68,
    "start_time": "2024-10-15T05:43:03.317Z"
   },
   {
    "duration": 11,
    "start_time": "2024-10-15T05:43:38.408Z"
   },
   {
    "duration": 69,
    "start_time": "2024-10-15T05:45:13.018Z"
   },
   {
    "duration": 75,
    "start_time": "2024-10-15T05:45:23.231Z"
   },
   {
    "duration": 67,
    "start_time": "2024-10-15T05:45:28.872Z"
   },
   {
    "duration": 87,
    "start_time": "2024-10-15T05:45:43.129Z"
   },
   {
    "duration": 8,
    "start_time": "2024-10-15T05:45:48.549Z"
   },
   {
    "duration": 10,
    "start_time": "2024-10-15T05:45:54.894Z"
   },
   {
    "duration": 10,
    "start_time": "2024-10-15T05:46:04.198Z"
   },
   {
    "duration": 11,
    "start_time": "2024-10-15T05:47:27.766Z"
   },
   {
    "duration": 13,
    "start_time": "2024-10-15T05:47:34.902Z"
   },
   {
    "duration": 10,
    "start_time": "2024-10-15T05:47:40.785Z"
   },
   {
    "duration": 10,
    "start_time": "2024-10-15T05:50:17.228Z"
   },
   {
    "duration": 13,
    "start_time": "2024-10-15T05:50:23.832Z"
   },
   {
    "duration": 1135,
    "start_time": "2024-10-15T05:52:09.646Z"
   },
   {
    "duration": 1138,
    "start_time": "2024-10-15T05:52:11.548Z"
   },
   {
    "duration": 1136,
    "start_time": "2024-10-15T05:52:20.264Z"
   },
   {
    "duration": 6,
    "start_time": "2024-10-15T05:52:33.577Z"
   },
   {
    "duration": 185,
    "start_time": "2024-10-15T05:53:02.908Z"
   },
   {
    "duration": 184,
    "start_time": "2024-10-15T05:53:05.754Z"
   },
   {
    "duration": 317,
    "start_time": "2024-10-15T05:53:24.683Z"
   },
   {
    "duration": 310,
    "start_time": "2024-10-15T05:53:33.363Z"
   },
   {
    "duration": 374,
    "start_time": "2024-10-15T05:53:40.856Z"
   },
   {
    "duration": 199,
    "start_time": "2024-10-15T05:53:51.018Z"
   },
   {
    "duration": 216,
    "start_time": "2024-10-15T05:54:08.019Z"
   },
   {
    "duration": 286,
    "start_time": "2024-10-15T05:54:30.718Z"
   },
   {
    "duration": 292,
    "start_time": "2024-10-15T05:54:38.702Z"
   },
   {
    "duration": 357,
    "start_time": "2024-10-15T05:55:10.251Z"
   },
   {
    "duration": 226,
    "start_time": "2024-10-15T05:55:24.171Z"
   },
   {
    "duration": 249,
    "start_time": "2024-10-15T05:55:49.136Z"
   },
   {
    "duration": 228,
    "start_time": "2024-10-15T05:56:14.554Z"
   },
   {
    "duration": 404,
    "start_time": "2024-10-15T05:57:59.651Z"
   },
   {
    "duration": 163,
    "start_time": "2024-10-15T05:58:00.058Z"
   },
   {
    "duration": 41,
    "start_time": "2024-10-15T05:58:00.222Z"
   },
   {
    "duration": 21,
    "start_time": "2024-10-15T05:58:00.266Z"
   },
   {
    "duration": 8,
    "start_time": "2024-10-15T05:58:00.288Z"
   },
   {
    "duration": 726,
    "start_time": "2024-10-15T05:58:00.297Z"
   },
   {
    "duration": 16,
    "start_time": "2024-10-15T05:58:01.026Z"
   },
   {
    "duration": 45,
    "start_time": "2024-10-15T05:58:01.043Z"
   },
   {
    "duration": 85,
    "start_time": "2024-10-15T05:58:01.090Z"
   },
   {
    "duration": 9,
    "start_time": "2024-10-15T05:58:01.187Z"
   },
   {
    "duration": 106,
    "start_time": "2024-10-15T05:58:01.198Z"
   },
   {
    "duration": 93,
    "start_time": "2024-10-15T05:58:01.306Z"
   },
   {
    "duration": 26,
    "start_time": "2024-10-15T05:58:01.401Z"
   },
   {
    "duration": 17,
    "start_time": "2024-10-15T05:58:01.428Z"
   },
   {
    "duration": 4,
    "start_time": "2024-10-15T05:58:01.448Z"
   },
   {
    "duration": 47,
    "start_time": "2024-10-15T05:58:01.454Z"
   },
   {
    "duration": 11,
    "start_time": "2024-10-15T05:58:01.503Z"
   },
   {
    "duration": 4,
    "start_time": "2024-10-15T05:58:01.515Z"
   },
   {
    "duration": 8,
    "start_time": "2024-10-15T05:58:01.520Z"
   },
   {
    "duration": 7,
    "start_time": "2024-10-15T05:58:01.529Z"
   },
   {
    "duration": 3,
    "start_time": "2024-10-15T05:58:01.538Z"
   },
   {
    "duration": 777,
    "start_time": "2024-10-15T05:58:01.543Z"
   },
   {
    "duration": 697,
    "start_time": "2024-10-15T05:58:02.322Z"
   },
   {
    "duration": 6,
    "start_time": "2024-10-15T05:58:03.021Z"
   },
   {
    "duration": 7,
    "start_time": "2024-10-15T05:58:03.029Z"
   },
   {
    "duration": 7,
    "start_time": "2024-10-15T05:58:03.038Z"
   },
   {
    "duration": 7,
    "start_time": "2024-10-15T05:58:03.047Z"
   },
   {
    "duration": 36,
    "start_time": "2024-10-15T05:58:03.058Z"
   },
   {
    "duration": 7,
    "start_time": "2024-10-15T05:58:03.095Z"
   },
   {
    "duration": 20,
    "start_time": "2024-10-15T05:58:03.103Z"
   },
   {
    "duration": 22,
    "start_time": "2024-10-15T05:58:03.125Z"
   },
   {
    "duration": 73,
    "start_time": "2024-10-15T05:58:03.151Z"
   },
   {
    "duration": 12,
    "start_time": "2024-10-15T05:58:03.226Z"
   },
   {
    "duration": 29,
    "start_time": "2024-10-15T05:58:03.240Z"
   },
   {
    "duration": 48,
    "start_time": "2024-10-15T05:58:03.270Z"
   },
   {
    "duration": 14,
    "start_time": "2024-10-15T05:58:03.320Z"
   },
   {
    "duration": 6,
    "start_time": "2024-10-15T05:58:03.335Z"
   },
   {
    "duration": 156,
    "start_time": "2024-10-15T05:58:03.343Z"
   },
   {
    "duration": 188,
    "start_time": "2024-10-15T05:58:03.500Z"
   },
   {
    "duration": 12,
    "start_time": "2024-10-15T05:58:03.696Z"
   },
   {
    "duration": 238,
    "start_time": "2024-10-15T05:58:03.715Z"
   },
   {
    "duration": 11,
    "start_time": "2024-10-15T05:58:03.957Z"
   },
   {
    "duration": 216,
    "start_time": "2024-10-15T05:58:03.974Z"
   },
   {
    "duration": 6,
    "start_time": "2024-10-15T05:58:04.191Z"
   },
   {
    "duration": 242,
    "start_time": "2024-10-15T05:58:04.199Z"
   },
   {
    "duration": 115,
    "start_time": "2024-10-15T05:58:04.443Z"
   },
   {
    "duration": 14,
    "start_time": "2024-10-15T05:58:04.562Z"
   },
   {
    "duration": 430,
    "start_time": "2024-10-15T06:00:17.613Z"
   },
   {
    "duration": 195,
    "start_time": "2024-10-15T06:00:18.045Z"
   },
   {
    "duration": 54,
    "start_time": "2024-10-15T06:00:18.242Z"
   },
   {
    "duration": 10,
    "start_time": "2024-10-15T06:00:18.298Z"
   },
   {
    "duration": 9,
    "start_time": "2024-10-15T06:00:18.310Z"
   },
   {
    "duration": 824,
    "start_time": "2024-10-15T06:00:18.320Z"
   },
   {
    "duration": 16,
    "start_time": "2024-10-15T06:00:19.146Z"
   },
   {
    "duration": 39,
    "start_time": "2024-10-15T06:00:19.164Z"
   },
   {
    "duration": 90,
    "start_time": "2024-10-15T06:00:19.205Z"
   },
   {
    "duration": 9,
    "start_time": "2024-10-15T06:00:19.299Z"
   },
   {
    "duration": 107,
    "start_time": "2024-10-15T06:00:19.309Z"
   },
   {
    "duration": 92,
    "start_time": "2024-10-15T06:00:19.418Z"
   },
   {
    "duration": 26,
    "start_time": "2024-10-15T06:00:19.512Z"
   },
   {
    "duration": 12,
    "start_time": "2024-10-15T06:00:19.540Z"
   },
   {
    "duration": 3,
    "start_time": "2024-10-15T06:00:19.554Z"
   },
   {
    "duration": 46,
    "start_time": "2024-10-15T06:00:19.559Z"
   },
   {
    "duration": 10,
    "start_time": "2024-10-15T06:00:19.607Z"
   },
   {
    "duration": 3,
    "start_time": "2024-10-15T06:00:19.619Z"
   },
   {
    "duration": 8,
    "start_time": "2024-10-15T06:00:19.624Z"
   },
   {
    "duration": 8,
    "start_time": "2024-10-15T06:00:19.633Z"
   },
   {
    "duration": 3,
    "start_time": "2024-10-15T06:00:19.643Z"
   },
   {
    "duration": 780,
    "start_time": "2024-10-15T06:00:19.647Z"
   },
   {
    "duration": 672,
    "start_time": "2024-10-15T06:00:20.429Z"
   },
   {
    "duration": 6,
    "start_time": "2024-10-15T06:00:21.103Z"
   },
   {
    "duration": 8,
    "start_time": "2024-10-15T06:00:21.111Z"
   },
   {
    "duration": 8,
    "start_time": "2024-10-15T06:00:21.121Z"
   },
   {
    "duration": 6,
    "start_time": "2024-10-15T06:00:21.130Z"
   },
   {
    "duration": 11,
    "start_time": "2024-10-15T06:00:21.140Z"
   },
   {
    "duration": 35,
    "start_time": "2024-10-15T06:00:21.152Z"
   },
   {
    "duration": 13,
    "start_time": "2024-10-15T06:00:21.189Z"
   },
   {
    "duration": 15,
    "start_time": "2024-10-15T06:00:21.203Z"
   },
   {
    "duration": 69,
    "start_time": "2024-10-15T06:00:21.219Z"
   },
   {
    "duration": 11,
    "start_time": "2024-10-15T06:00:21.290Z"
   },
   {
    "duration": 28,
    "start_time": "2024-10-15T06:00:21.302Z"
   },
   {
    "duration": 55,
    "start_time": "2024-10-15T06:00:21.332Z"
   },
   {
    "duration": 14,
    "start_time": "2024-10-15T06:00:21.389Z"
   },
   {
    "duration": 6,
    "start_time": "2024-10-15T06:00:21.405Z"
   },
   {
    "duration": 147,
    "start_time": "2024-10-15T06:00:21.412Z"
   },
   {
    "duration": 150,
    "start_time": "2024-10-15T06:00:21.560Z"
   },
   {
    "duration": 8,
    "start_time": "2024-10-15T06:00:21.712Z"
   },
   {
    "duration": 168,
    "start_time": "2024-10-15T06:00:21.721Z"
   },
   {
    "duration": 9,
    "start_time": "2024-10-15T06:00:21.891Z"
   },
   {
    "duration": 176,
    "start_time": "2024-10-15T06:00:21.902Z"
   },
   {
    "duration": 9,
    "start_time": "2024-10-15T06:00:22.080Z"
   },
   {
    "duration": 227,
    "start_time": "2024-10-15T06:00:22.090Z"
   },
   {
    "duration": 102,
    "start_time": "2024-10-15T06:00:22.319Z"
   },
   {
    "duration": 10,
    "start_time": "2024-10-15T06:00:22.424Z"
   },
   {
    "duration": 5,
    "start_time": "2024-10-15T06:00:22.435Z"
   },
   {
    "duration": 1074,
    "start_time": "2024-10-15T06:00:58.908Z"
   },
   {
    "duration": 489,
    "start_time": "2024-10-15T06:01:05.368Z"
   },
   {
    "duration": 3,
    "start_time": "2024-10-15T06:01:33.644Z"
   },
   {
    "duration": 3,
    "start_time": "2024-10-15T06:01:48.724Z"
   },
   {
    "duration": 124,
    "start_time": "2024-10-15T06:01:48.730Z"
   },
   {
    "duration": 40,
    "start_time": "2024-10-15T06:01:48.857Z"
   },
   {
    "duration": 8,
    "start_time": "2024-10-15T06:01:48.898Z"
   },
   {
    "duration": 8,
    "start_time": "2024-10-15T06:01:48.908Z"
   },
   {
    "duration": 728,
    "start_time": "2024-10-15T06:01:48.919Z"
   },
   {
    "duration": 16,
    "start_time": "2024-10-15T06:01:49.650Z"
   },
   {
    "duration": 46,
    "start_time": "2024-10-15T06:01:49.667Z"
   },
   {
    "duration": 77,
    "start_time": "2024-10-15T06:01:49.715Z"
   },
   {
    "duration": 8,
    "start_time": "2024-10-15T06:01:49.794Z"
   },
   {
    "duration": 88,
    "start_time": "2024-10-15T06:01:49.803Z"
   },
   {
    "duration": 76,
    "start_time": "2024-10-15T06:01:49.894Z"
   },
   {
    "duration": 27,
    "start_time": "2024-10-15T06:01:49.973Z"
   },
   {
    "duration": 12,
    "start_time": "2024-10-15T06:01:50.002Z"
   },
   {
    "duration": 3,
    "start_time": "2024-10-15T06:01:50.018Z"
   },
   {
    "duration": 24,
    "start_time": "2024-10-15T06:01:50.022Z"
   },
   {
    "duration": 43,
    "start_time": "2024-10-15T06:01:50.048Z"
   },
   {
    "duration": 3,
    "start_time": "2024-10-15T06:01:50.093Z"
   },
   {
    "duration": 7,
    "start_time": "2024-10-15T06:01:50.098Z"
   },
   {
    "duration": 8,
    "start_time": "2024-10-15T06:01:50.107Z"
   },
   {
    "duration": 3,
    "start_time": "2024-10-15T06:01:50.116Z"
   },
   {
    "duration": 766,
    "start_time": "2024-10-15T06:01:50.121Z"
   },
   {
    "duration": 652,
    "start_time": "2024-10-15T06:01:50.888Z"
   },
   {
    "duration": 7,
    "start_time": "2024-10-15T06:01:51.541Z"
   },
   {
    "duration": 8,
    "start_time": "2024-10-15T06:01:51.549Z"
   },
   {
    "duration": 8,
    "start_time": "2024-10-15T06:01:51.559Z"
   },
   {
    "duration": 6,
    "start_time": "2024-10-15T06:01:51.587Z"
   },
   {
    "duration": 12,
    "start_time": "2024-10-15T06:01:51.594Z"
   },
   {
    "duration": 5,
    "start_time": "2024-10-15T06:01:51.607Z"
   },
   {
    "duration": 13,
    "start_time": "2024-10-15T06:01:51.614Z"
   },
   {
    "duration": 15,
    "start_time": "2024-10-15T06:01:51.628Z"
   },
   {
    "duration": 83,
    "start_time": "2024-10-15T06:01:51.645Z"
   },
   {
    "duration": 11,
    "start_time": "2024-10-15T06:01:51.729Z"
   },
   {
    "duration": 30,
    "start_time": "2024-10-15T06:01:51.741Z"
   },
   {
    "duration": 34,
    "start_time": "2024-10-15T06:01:51.786Z"
   },
   {
    "duration": 14,
    "start_time": "2024-10-15T06:01:51.822Z"
   },
   {
    "duration": 7,
    "start_time": "2024-10-15T06:01:51.837Z"
   },
   {
    "duration": 140,
    "start_time": "2024-10-15T06:01:51.846Z"
   },
   {
    "duration": 153,
    "start_time": "2024-10-15T06:01:51.988Z"
   },
   {
    "duration": 7,
    "start_time": "2024-10-15T06:01:52.143Z"
   },
   {
    "duration": 171,
    "start_time": "2024-10-15T06:01:52.152Z"
   },
   {
    "duration": 9,
    "start_time": "2024-10-15T06:01:52.327Z"
   },
   {
    "duration": 222,
    "start_time": "2024-10-15T06:01:52.338Z"
   },
   {
    "duration": 5,
    "start_time": "2024-10-15T06:01:52.561Z"
   },
   {
    "duration": 223,
    "start_time": "2024-10-15T06:01:52.567Z"
   },
   {
    "duration": 96,
    "start_time": "2024-10-15T06:01:52.792Z"
   },
   {
    "duration": 10,
    "start_time": "2024-10-15T06:01:52.890Z"
   },
   {
    "duration": 2,
    "start_time": "2024-10-15T06:01:52.902Z"
   },
   {
    "duration": 6,
    "start_time": "2024-10-15T06:02:37.612Z"
   },
   {
    "duration": 8,
    "start_time": "2024-10-15T06:02:46.855Z"
   },
   {
    "duration": 8,
    "start_time": "2024-10-15T06:02:53.489Z"
   },
   {
    "duration": 6,
    "start_time": "2024-10-15T06:03:41.540Z"
   },
   {
    "duration": 6,
    "start_time": "2024-10-15T06:03:43.577Z"
   },
   {
    "duration": 5,
    "start_time": "2024-10-15T06:04:11.491Z"
   },
   {
    "duration": 22,
    "start_time": "2024-10-15T06:04:35.871Z"
   },
   {
    "duration": 6,
    "start_time": "2024-10-15T06:06:45.697Z"
   },
   {
    "duration": 8,
    "start_time": "2024-10-15T06:06:53.025Z"
   },
   {
    "duration": 3,
    "start_time": "2024-10-15T06:07:04.981Z"
   },
   {
    "duration": 5,
    "start_time": "2024-10-15T06:07:09.558Z"
   },
   {
    "duration": 8,
    "start_time": "2024-10-15T06:07:54.806Z"
   },
   {
    "duration": 10,
    "start_time": "2024-10-15T06:07:59.252Z"
   },
   {
    "duration": 8,
    "start_time": "2024-10-15T06:08:12.345Z"
   },
   {
    "duration": 824,
    "start_time": "2024-10-15T06:08:56.408Z"
   },
   {
    "duration": 40,
    "start_time": "2024-10-15T06:09:12.128Z"
   },
   {
    "duration": 11,
    "start_time": "2024-10-15T06:09:19.283Z"
   },
   {
    "duration": 21,
    "start_time": "2024-10-15T06:09:36.755Z"
   },
   {
    "duration": 14,
    "start_time": "2024-10-15T06:09:44.812Z"
   },
   {
    "duration": 20,
    "start_time": "2024-10-15T06:10:53.553Z"
   },
   {
    "duration": 424,
    "start_time": "2024-10-15T06:10:58.916Z"
   },
   {
    "duration": 159,
    "start_time": "2024-10-15T06:10:59.342Z"
   },
   {
    "duration": 40,
    "start_time": "2024-10-15T06:10:59.503Z"
   },
   {
    "duration": 7,
    "start_time": "2024-10-15T06:10:59.545Z"
   },
   {
    "duration": 7,
    "start_time": "2024-10-15T06:10:59.554Z"
   },
   {
    "duration": 728,
    "start_time": "2024-10-15T06:10:59.563Z"
   },
   {
    "duration": 17,
    "start_time": "2024-10-15T06:11:00.292Z"
   },
   {
    "duration": 31,
    "start_time": "2024-10-15T06:11:00.311Z"
   },
   {
    "duration": 102,
    "start_time": "2024-10-15T06:11:00.343Z"
   },
   {
    "duration": 9,
    "start_time": "2024-10-15T06:11:00.448Z"
   },
   {
    "duration": 105,
    "start_time": "2024-10-15T06:11:00.460Z"
   },
   {
    "duration": 88,
    "start_time": "2024-10-15T06:11:00.567Z"
   },
   {
    "duration": 30,
    "start_time": "2024-10-15T06:11:00.657Z"
   },
   {
    "duration": 13,
    "start_time": "2024-10-15T06:11:00.688Z"
   },
   {
    "duration": 3,
    "start_time": "2024-10-15T06:11:00.703Z"
   },
   {
    "duration": 23,
    "start_time": "2024-10-15T06:11:00.708Z"
   },
   {
    "duration": 11,
    "start_time": "2024-10-15T06:11:00.733Z"
   },
   {
    "duration": 3,
    "start_time": "2024-10-15T06:11:00.746Z"
   },
   {
    "duration": 41,
    "start_time": "2024-10-15T06:11:00.751Z"
   },
   {
    "duration": 6,
    "start_time": "2024-10-15T06:11:00.794Z"
   },
   {
    "duration": 4,
    "start_time": "2024-10-15T06:11:00.802Z"
   },
   {
    "duration": 754,
    "start_time": "2024-10-15T06:11:00.807Z"
   },
   {
    "duration": 658,
    "start_time": "2024-10-15T06:11:01.563Z"
   },
   {
    "duration": 6,
    "start_time": "2024-10-15T06:11:02.223Z"
   },
   {
    "duration": 8,
    "start_time": "2024-10-15T06:11:02.231Z"
   },
   {
    "duration": 8,
    "start_time": "2024-10-15T06:11:02.241Z"
   },
   {
    "duration": 7,
    "start_time": "2024-10-15T06:11:02.250Z"
   },
   {
    "duration": 36,
    "start_time": "2024-10-15T06:11:02.260Z"
   },
   {
    "duration": 5,
    "start_time": "2024-10-15T06:11:02.297Z"
   },
   {
    "duration": 12,
    "start_time": "2024-10-15T06:11:02.304Z"
   },
   {
    "duration": 15,
    "start_time": "2024-10-15T06:11:02.318Z"
   },
   {
    "duration": 82,
    "start_time": "2024-10-15T06:11:02.334Z"
   },
   {
    "duration": 11,
    "start_time": "2024-10-15T06:11:02.417Z"
   },
   {
    "duration": 31,
    "start_time": "2024-10-15T06:11:02.430Z"
   },
   {
    "duration": 51,
    "start_time": "2024-10-15T06:11:02.462Z"
   },
   {
    "duration": 14,
    "start_time": "2024-10-15T06:11:02.515Z"
   },
   {
    "duration": 6,
    "start_time": "2024-10-15T06:11:02.530Z"
   },
   {
    "duration": 147,
    "start_time": "2024-10-15T06:11:02.537Z"
   },
   {
    "duration": 143,
    "start_time": "2024-10-15T06:11:02.687Z"
   },
   {
    "duration": 8,
    "start_time": "2024-10-15T06:11:02.831Z"
   },
   {
    "duration": 169,
    "start_time": "2024-10-15T06:11:02.840Z"
   },
   {
    "duration": 9,
    "start_time": "2024-10-15T06:11:03.011Z"
   },
   {
    "duration": 219,
    "start_time": "2024-10-15T06:11:03.021Z"
   },
   {
    "duration": 3,
    "start_time": "2024-10-15T06:11:03.242Z"
   },
   {
    "duration": 230,
    "start_time": "2024-10-15T06:11:03.247Z"
   },
   {
    "duration": 99,
    "start_time": "2024-10-15T06:11:03.479Z"
   },
   {
    "duration": 16,
    "start_time": "2024-10-15T06:11:03.579Z"
   },
   {
    "duration": 70,
    "start_time": "2024-10-15T06:11:03.597Z"
   },
   {
    "duration": 25,
    "start_time": "2024-10-15T06:11:03.669Z"
   },
   {
    "duration": 12,
    "start_time": "2024-10-15T06:11:03.696Z"
   },
   {
    "duration": 6,
    "start_time": "2024-10-15T06:12:16.867Z"
   },
   {
    "duration": 10,
    "start_time": "2024-10-15T06:13:00.272Z"
   },
   {
    "duration": 36,
    "start_time": "2024-10-15T06:13:08.946Z"
   },
   {
    "duration": 31,
    "start_time": "2024-10-15T06:13:15.531Z"
   },
   {
    "duration": 5,
    "start_time": "2024-10-15T06:13:34.912Z"
   },
   {
    "duration": 6,
    "start_time": "2024-10-15T06:13:39.641Z"
   },
   {
    "duration": 6,
    "start_time": "2024-10-15T06:13:44.297Z"
   },
   {
    "duration": 3,
    "start_time": "2024-10-15T06:13:52.657Z"
   },
   {
    "duration": 6,
    "start_time": "2024-10-15T06:13:55.719Z"
   },
   {
    "duration": 403,
    "start_time": "2024-10-15T06:14:03.276Z"
   },
   {
    "duration": 164,
    "start_time": "2024-10-15T06:14:03.686Z"
   },
   {
    "duration": 45,
    "start_time": "2024-10-15T06:14:03.852Z"
   },
   {
    "duration": 7,
    "start_time": "2024-10-15T06:14:03.899Z"
   },
   {
    "duration": 9,
    "start_time": "2024-10-15T06:14:03.908Z"
   },
   {
    "duration": 737,
    "start_time": "2024-10-15T06:14:03.918Z"
   },
   {
    "duration": 17,
    "start_time": "2024-10-15T06:14:04.657Z"
   },
   {
    "duration": 33,
    "start_time": "2024-10-15T06:14:04.687Z"
   },
   {
    "duration": 95,
    "start_time": "2024-10-15T06:14:04.722Z"
   },
   {
    "duration": 9,
    "start_time": "2024-10-15T06:14:04.821Z"
   },
   {
    "duration": 107,
    "start_time": "2024-10-15T06:14:04.831Z"
   },
   {
    "duration": 88,
    "start_time": "2024-10-15T06:14:04.940Z"
   },
   {
    "duration": 25,
    "start_time": "2024-10-15T06:14:05.030Z"
   },
   {
    "duration": 12,
    "start_time": "2024-10-15T06:14:05.057Z"
   },
   {
    "duration": 3,
    "start_time": "2024-10-15T06:14:05.086Z"
   },
   {
    "duration": 24,
    "start_time": "2024-10-15T06:14:05.091Z"
   },
   {
    "duration": 11,
    "start_time": "2024-10-15T06:14:05.116Z"
   },
   {
    "duration": 3,
    "start_time": "2024-10-15T06:14:05.129Z"
   },
   {
    "duration": 8,
    "start_time": "2024-10-15T06:14:05.133Z"
   },
   {
    "duration": 8,
    "start_time": "2024-10-15T06:14:05.142Z"
   },
   {
    "duration": 4,
    "start_time": "2024-10-15T06:14:05.186Z"
   },
   {
    "duration": 728,
    "start_time": "2024-10-15T06:14:05.192Z"
   },
   {
    "duration": 675,
    "start_time": "2024-10-15T06:14:05.922Z"
   },
   {
    "duration": 6,
    "start_time": "2024-10-15T06:14:06.599Z"
   },
   {
    "duration": 9,
    "start_time": "2024-10-15T06:14:06.607Z"
   },
   {
    "duration": 8,
    "start_time": "2024-10-15T06:14:06.617Z"
   },
   {
    "duration": 7,
    "start_time": "2024-10-15T06:14:06.627Z"
   },
   {
    "duration": 11,
    "start_time": "2024-10-15T06:14:06.637Z"
   },
   {
    "duration": 41,
    "start_time": "2024-10-15T06:14:06.650Z"
   },
   {
    "duration": 13,
    "start_time": "2024-10-15T06:14:06.692Z"
   },
   {
    "duration": 14,
    "start_time": "2024-10-15T06:14:06.707Z"
   },
   {
    "duration": 71,
    "start_time": "2024-10-15T06:14:06.723Z"
   },
   {
    "duration": 14,
    "start_time": "2024-10-15T06:14:06.796Z"
   },
   {
    "duration": 38,
    "start_time": "2024-10-15T06:14:06.812Z"
   },
   {
    "duration": 56,
    "start_time": "2024-10-15T06:14:06.852Z"
   },
   {
    "duration": 14,
    "start_time": "2024-10-15T06:14:06.910Z"
   },
   {
    "duration": 7,
    "start_time": "2024-10-15T06:14:06.926Z"
   },
   {
    "duration": 160,
    "start_time": "2024-10-15T06:14:06.935Z"
   },
   {
    "duration": 148,
    "start_time": "2024-10-15T06:14:07.097Z"
   },
   {
    "duration": 7,
    "start_time": "2024-10-15T06:14:07.247Z"
   },
   {
    "duration": 170,
    "start_time": "2024-10-15T06:14:07.256Z"
   },
   {
    "duration": 8,
    "start_time": "2024-10-15T06:14:07.428Z"
   },
   {
    "duration": 178,
    "start_time": "2024-10-15T06:14:07.438Z"
   },
   {
    "duration": 4,
    "start_time": "2024-10-15T06:14:07.618Z"
   },
   {
    "duration": 239,
    "start_time": "2024-10-15T06:14:07.624Z"
   },
   {
    "duration": 102,
    "start_time": "2024-10-15T06:14:07.865Z"
   },
   {
    "duration": 18,
    "start_time": "2024-10-15T06:14:07.969Z"
   },
   {
    "duration": 6,
    "start_time": "2024-10-15T06:14:07.988Z"
   },
   {
    "duration": 72,
    "start_time": "2024-10-15T06:14:07.995Z"
   },
   {
    "duration": 20,
    "start_time": "2024-10-15T06:14:08.069Z"
   },
   {
    "duration": 11,
    "start_time": "2024-10-15T06:14:08.091Z"
   },
   {
    "duration": 7,
    "start_time": "2024-10-15T06:15:08.700Z"
   },
   {
    "duration": 3,
    "start_time": "2024-10-15T06:15:45.358Z"
   },
   {
    "duration": 9,
    "start_time": "2024-10-15T06:16:56.751Z"
   },
   {
    "duration": 13,
    "start_time": "2024-10-15T06:17:19.742Z"
   },
   {
    "duration": 11,
    "start_time": "2024-10-15T06:17:21.404Z"
   },
   {
    "duration": 6,
    "start_time": "2024-10-15T06:17:45.675Z"
   },
   {
    "duration": 10,
    "start_time": "2024-10-15T06:17:48.413Z"
   },
   {
    "duration": 10,
    "start_time": "2024-10-15T06:18:06.654Z"
   },
   {
    "duration": 6,
    "start_time": "2024-10-15T06:18:07.987Z"
   },
   {
    "duration": 11,
    "start_time": "2024-10-15T06:18:09.550Z"
   },
   {
    "duration": 11,
    "start_time": "2024-10-15T06:18:22.675Z"
   },
   {
    "duration": 5,
    "start_time": "2024-10-15T06:18:24.104Z"
   },
   {
    "duration": 11,
    "start_time": "2024-10-15T06:18:25.479Z"
   },
   {
    "duration": 6,
    "start_time": "2024-10-15T06:18:38.249Z"
   },
   {
    "duration": 8,
    "start_time": "2024-10-15T06:18:41.750Z"
   },
   {
    "duration": 6,
    "start_time": "2024-10-15T06:18:44.205Z"
   },
   {
    "duration": 7,
    "start_time": "2024-10-15T06:18:59.223Z"
   },
   {
    "duration": 10,
    "start_time": "2024-10-15T06:19:10.515Z"
   },
   {
    "duration": 426,
    "start_time": "2024-10-15T06:19:16.017Z"
   },
   {
    "duration": 162,
    "start_time": "2024-10-15T06:19:16.446Z"
   },
   {
    "duration": 41,
    "start_time": "2024-10-15T06:19:16.609Z"
   },
   {
    "duration": 9,
    "start_time": "2024-10-15T06:19:16.652Z"
   },
   {
    "duration": 8,
    "start_time": "2024-10-15T06:19:16.663Z"
   },
   {
    "duration": 726,
    "start_time": "2024-10-15T06:19:16.687Z"
   },
   {
    "duration": 16,
    "start_time": "2024-10-15T06:19:17.415Z"
   },
   {
    "duration": 33,
    "start_time": "2024-10-15T06:19:17.433Z"
   },
   {
    "duration": 82,
    "start_time": "2024-10-15T06:19:17.486Z"
   },
   {
    "duration": 17,
    "start_time": "2024-10-15T06:19:17.570Z"
   },
   {
    "duration": 98,
    "start_time": "2024-10-15T06:19:17.589Z"
   },
   {
    "duration": 81,
    "start_time": "2024-10-15T06:19:17.689Z"
   },
   {
    "duration": 37,
    "start_time": "2024-10-15T06:19:17.772Z"
   },
   {
    "duration": 11,
    "start_time": "2024-10-15T06:19:17.812Z"
   },
   {
    "duration": 3,
    "start_time": "2024-10-15T06:19:17.825Z"
   },
   {
    "duration": 24,
    "start_time": "2024-10-15T06:19:17.830Z"
   },
   {
    "duration": 32,
    "start_time": "2024-10-15T06:19:17.859Z"
   },
   {
    "duration": 4,
    "start_time": "2024-10-15T06:19:17.892Z"
   },
   {
    "duration": 9,
    "start_time": "2024-10-15T06:19:17.897Z"
   },
   {
    "duration": 9,
    "start_time": "2024-10-15T06:19:17.907Z"
   },
   {
    "duration": 3,
    "start_time": "2024-10-15T06:19:17.918Z"
   },
   {
    "duration": 777,
    "start_time": "2024-10-15T06:19:17.923Z"
   },
   {
    "duration": 655,
    "start_time": "2024-10-15T06:19:18.702Z"
   },
   {
    "duration": 6,
    "start_time": "2024-10-15T06:19:19.359Z"
   },
   {
    "duration": 24,
    "start_time": "2024-10-15T06:19:19.367Z"
   },
   {
    "duration": 8,
    "start_time": "2024-10-15T06:19:19.392Z"
   },
   {
    "duration": 6,
    "start_time": "2024-10-15T06:19:19.402Z"
   },
   {
    "duration": 10,
    "start_time": "2024-10-15T06:19:19.409Z"
   },
   {
    "duration": 6,
    "start_time": "2024-10-15T06:19:19.421Z"
   },
   {
    "duration": 13,
    "start_time": "2024-10-15T06:19:19.428Z"
   },
   {
    "duration": 47,
    "start_time": "2024-10-15T06:19:19.443Z"
   },
   {
    "duration": 48,
    "start_time": "2024-10-15T06:19:19.492Z"
   },
   {
    "duration": 11,
    "start_time": "2024-10-15T06:19:19.542Z"
   },
   {
    "duration": 51,
    "start_time": "2024-10-15T06:19:19.555Z"
   },
   {
    "duration": 34,
    "start_time": "2024-10-15T06:19:19.608Z"
   },
   {
    "duration": 13,
    "start_time": "2024-10-15T06:19:19.644Z"
   },
   {
    "duration": 28,
    "start_time": "2024-10-15T06:19:19.659Z"
   },
   {
    "duration": 130,
    "start_time": "2024-10-15T06:19:19.688Z"
   },
   {
    "duration": 145,
    "start_time": "2024-10-15T06:19:19.820Z"
   },
   {
    "duration": 7,
    "start_time": "2024-10-15T06:19:19.967Z"
   },
   {
    "duration": 162,
    "start_time": "2024-10-15T06:19:19.986Z"
   },
   {
    "duration": 9,
    "start_time": "2024-10-15T06:19:20.150Z"
   },
   {
    "duration": 177,
    "start_time": "2024-10-15T06:19:20.160Z"
   },
   {
    "duration": 4,
    "start_time": "2024-10-15T06:19:20.339Z"
   },
   {
    "duration": 231,
    "start_time": "2024-10-15T06:19:20.345Z"
   },
   {
    "duration": 101,
    "start_time": "2024-10-15T06:19:20.578Z"
   },
   {
    "duration": 9,
    "start_time": "2024-10-15T06:19:20.688Z"
   },
   {
    "duration": 115,
    "start_time": "2024-10-15T06:19:20.699Z"
   },
   {
    "duration": 210,
    "start_time": "2024-10-15T06:19:20.816Z"
   },
   {
    "duration": 0,
    "start_time": "2024-10-15T06:19:21.027Z"
   },
   {
    "duration": 0,
    "start_time": "2024-10-15T06:19:21.028Z"
   },
   {
    "duration": 0,
    "start_time": "2024-10-15T06:19:21.029Z"
   },
   {
    "duration": 0,
    "start_time": "2024-10-15T06:19:21.030Z"
   },
   {
    "duration": 0,
    "start_time": "2024-10-15T06:19:21.031Z"
   },
   {
    "duration": 29,
    "start_time": "2024-10-15T06:19:26.710Z"
   },
   {
    "duration": 24,
    "start_time": "2024-10-15T06:19:28.772Z"
   },
   {
    "duration": 93,
    "start_time": "2024-10-15T06:19:45.938Z"
   },
   {
    "duration": 10,
    "start_time": "2024-10-15T06:19:50.704Z"
   },
   {
    "duration": 89,
    "start_time": "2024-10-15T06:20:04.245Z"
   },
   {
    "duration": 89,
    "start_time": "2024-10-15T06:20:26.866Z"
   },
   {
    "duration": 27,
    "start_time": "2024-10-15T06:20:38.946Z"
   },
   {
    "duration": 19,
    "start_time": "2024-10-15T06:20:40.635Z"
   },
   {
    "duration": 22,
    "start_time": "2024-10-15T06:21:01.640Z"
   },
   {
    "duration": 19,
    "start_time": "2024-10-15T06:21:07.826Z"
   },
   {
    "duration": 4,
    "start_time": "2024-10-15T06:21:12.921Z"
   },
   {
    "duration": 88,
    "start_time": "2024-10-15T06:21:44.074Z"
   },
   {
    "duration": 76,
    "start_time": "2024-10-15T06:22:20.356Z"
   },
   {
    "duration": 56,
    "start_time": "2024-10-15T06:22:29.338Z"
   },
   {
    "duration": 92,
    "start_time": "2024-10-15T06:22:31.240Z"
   },
   {
    "duration": 10,
    "start_time": "2024-10-15T06:22:33.397Z"
   },
   {
    "duration": 26,
    "start_time": "2024-10-15T06:22:45.727Z"
   },
   {
    "duration": 11,
    "start_time": "2024-10-15T06:22:47.255Z"
   },
   {
    "duration": 11,
    "start_time": "2024-10-15T06:22:48.856Z"
   },
   {
    "duration": 2197,
    "start_time": "2024-10-15T17:46:28.451Z"
   },
   {
    "duration": 160,
    "start_time": "2024-10-15T17:46:30.651Z"
   },
   {
    "duration": 58,
    "start_time": "2024-10-15T17:46:30.812Z"
   },
   {
    "duration": 11,
    "start_time": "2024-10-15T17:46:30.872Z"
   },
   {
    "duration": 11,
    "start_time": "2024-10-15T17:46:30.885Z"
   },
   {
    "duration": 785,
    "start_time": "2024-10-15T17:46:30.898Z"
   },
   {
    "duration": 17,
    "start_time": "2024-10-15T17:46:31.684Z"
   },
   {
    "duration": 42,
    "start_time": "2024-10-15T17:46:31.702Z"
   },
   {
    "duration": 98,
    "start_time": "2024-10-15T17:46:31.747Z"
   },
   {
    "duration": 9,
    "start_time": "2024-10-15T17:46:31.848Z"
   },
   {
    "duration": 109,
    "start_time": "2024-10-15T17:46:31.859Z"
   },
   {
    "duration": 83,
    "start_time": "2024-10-15T17:46:31.970Z"
   },
   {
    "duration": 26,
    "start_time": "2024-10-15T17:46:32.055Z"
   },
   {
    "duration": 28,
    "start_time": "2024-10-15T17:46:32.086Z"
   },
   {
    "duration": 3,
    "start_time": "2024-10-15T17:46:32.116Z"
   },
   {
    "duration": 2260,
    "start_time": "2024-10-15T18:25:53.727Z"
   },
   {
    "duration": 151,
    "start_time": "2024-10-15T18:25:55.990Z"
   },
   {
    "duration": 55,
    "start_time": "2024-10-15T18:25:56.143Z"
   },
   {
    "duration": 9,
    "start_time": "2024-10-15T18:25:56.201Z"
   },
   {
    "duration": 10,
    "start_time": "2024-10-15T18:25:56.212Z"
   },
   {
    "duration": 823,
    "start_time": "2024-10-15T18:25:56.224Z"
   },
   {
    "duration": 18,
    "start_time": "2024-10-15T18:25:57.049Z"
   },
   {
    "duration": 50,
    "start_time": "2024-10-15T18:25:57.069Z"
   },
   {
    "duration": 91,
    "start_time": "2024-10-15T18:25:57.121Z"
   },
   {
    "duration": 10,
    "start_time": "2024-10-15T18:25:57.216Z"
   },
   {
    "duration": 118,
    "start_time": "2024-10-15T18:25:57.228Z"
   },
   {
    "duration": 92,
    "start_time": "2024-10-15T18:25:57.348Z"
   },
   {
    "duration": 25,
    "start_time": "2024-10-15T18:25:57.442Z"
   },
   {
    "duration": 11,
    "start_time": "2024-10-15T18:25:57.469Z"
   },
   {
    "duration": 3,
    "start_time": "2024-10-15T18:25:57.482Z"
   },
   {
    "duration": 47,
    "start_time": "2024-10-15T18:25:57.487Z"
   },
   {
    "duration": 12,
    "start_time": "2024-10-15T18:25:57.536Z"
   },
   {
    "duration": 3,
    "start_time": "2024-10-15T18:25:57.549Z"
   },
   {
    "duration": 8,
    "start_time": "2024-10-15T18:25:57.554Z"
   },
   {
    "duration": 8,
    "start_time": "2024-10-15T18:25:57.563Z"
   },
   {
    "duration": 4,
    "start_time": "2024-10-15T18:25:57.572Z"
   },
   {
    "duration": 839,
    "start_time": "2024-10-15T18:25:57.577Z"
   },
   {
    "duration": 722,
    "start_time": "2024-10-15T18:25:58.418Z"
   },
   {
    "duration": 6,
    "start_time": "2024-10-15T18:25:59.144Z"
   },
   {
    "duration": 9,
    "start_time": "2024-10-15T18:25:59.152Z"
   },
   {
    "duration": 8,
    "start_time": "2024-10-15T18:25:59.163Z"
   },
   {
    "duration": 8,
    "start_time": "2024-10-15T18:25:59.174Z"
   },
   {
    "duration": 12,
    "start_time": "2024-10-15T18:25:59.214Z"
   },
   {
    "duration": 5,
    "start_time": "2024-10-15T18:25:59.228Z"
   },
   {
    "duration": 14,
    "start_time": "2024-10-15T18:25:59.235Z"
   },
   {
    "duration": 16,
    "start_time": "2024-10-15T18:25:59.251Z"
   },
   {
    "duration": 83,
    "start_time": "2024-10-15T18:25:59.269Z"
   },
   {
    "duration": 13,
    "start_time": "2024-10-15T18:25:59.354Z"
   },
   {
    "duration": 42,
    "start_time": "2024-10-15T18:25:59.369Z"
   },
   {
    "duration": 35,
    "start_time": "2024-10-15T18:25:59.414Z"
   },
   {
    "duration": 14,
    "start_time": "2024-10-15T18:25:59.450Z"
   },
   {
    "duration": 7,
    "start_time": "2024-10-15T18:25:59.466Z"
   },
   {
    "duration": 154,
    "start_time": "2024-10-15T18:25:59.474Z"
   },
   {
    "duration": 179,
    "start_time": "2024-10-15T18:25:59.629Z"
   },
   {
    "duration": 8,
    "start_time": "2024-10-15T18:25:59.810Z"
   },
   {
    "duration": 170,
    "start_time": "2024-10-15T18:25:59.820Z"
   },
   {
    "duration": 8,
    "start_time": "2024-10-15T18:25:59.992Z"
   },
   {
    "duration": 172,
    "start_time": "2024-10-15T18:26:00.011Z"
   },
   {
    "duration": 5,
    "start_time": "2024-10-15T18:26:00.184Z"
   },
   {
    "duration": 238,
    "start_time": "2024-10-15T18:26:00.190Z"
   },
   {
    "duration": 87,
    "start_time": "2024-10-15T18:26:00.430Z"
   },
   {
    "duration": 11,
    "start_time": "2024-10-15T18:26:00.519Z"
   },
   {
    "duration": 117,
    "start_time": "2024-10-15T18:26:00.533Z"
   },
   {
    "duration": 84,
    "start_time": "2024-10-15T18:26:00.652Z"
   },
   {
    "duration": 10,
    "start_time": "2024-10-15T18:26:00.738Z"
   },
   {
    "duration": 6,
    "start_time": "2024-10-15T18:26:00.749Z"
   },
   {
    "duration": 22,
    "start_time": "2024-10-15T18:26:00.757Z"
   },
   {
    "duration": 31,
    "start_time": "2024-10-15T18:26:00.781Z"
   },
   {
    "duration": 11,
    "start_time": "2024-10-15T18:26:00.814Z"
   },
   {
    "duration": 2189,
    "start_time": "2024-10-15T19:26:11.847Z"
   },
   {
    "duration": 152,
    "start_time": "2024-10-15T19:26:14.038Z"
   },
   {
    "duration": 58,
    "start_time": "2024-10-15T19:26:14.192Z"
   },
   {
    "duration": 8,
    "start_time": "2024-10-15T19:26:14.254Z"
   },
   {
    "duration": 9,
    "start_time": "2024-10-15T19:26:14.265Z"
   },
   {
    "duration": 843,
    "start_time": "2024-10-15T19:26:14.275Z"
   },
   {
    "duration": 16,
    "start_time": "2024-10-15T19:26:15.122Z"
   },
   {
    "duration": 32,
    "start_time": "2024-10-15T19:26:15.140Z"
   },
   {
    "duration": 89,
    "start_time": "2024-10-15T19:26:15.187Z"
   },
   {
    "duration": 9,
    "start_time": "2024-10-15T19:26:15.286Z"
   },
   {
    "duration": 118,
    "start_time": "2024-10-15T19:26:15.297Z"
   },
   {
    "duration": 94,
    "start_time": "2024-10-15T19:26:15.417Z"
   },
   {
    "duration": 31,
    "start_time": "2024-10-15T19:26:15.513Z"
   },
   {
    "duration": 14,
    "start_time": "2024-10-15T19:26:15.549Z"
   },
   {
    "duration": 22,
    "start_time": "2024-10-15T19:26:15.566Z"
   },
   {
    "duration": 25,
    "start_time": "2024-10-15T19:26:15.590Z"
   },
   {
    "duration": 12,
    "start_time": "2024-10-15T19:26:15.617Z"
   },
   {
    "duration": 3,
    "start_time": "2024-10-15T19:26:15.631Z"
   },
   {
    "duration": 7,
    "start_time": "2024-10-15T19:26:15.636Z"
   },
   {
    "duration": 8,
    "start_time": "2024-10-15T19:26:15.645Z"
   },
   {
    "duration": 3,
    "start_time": "2024-10-15T19:26:15.687Z"
   },
   {
    "duration": 778,
    "start_time": "2024-10-15T19:26:15.692Z"
   },
   {
    "duration": 705,
    "start_time": "2024-10-15T19:26:16.472Z"
   },
   {
    "duration": 7,
    "start_time": "2024-10-15T19:26:17.187Z"
   },
   {
    "duration": 7,
    "start_time": "2024-10-15T19:26:17.196Z"
   },
   {
    "duration": 8,
    "start_time": "2024-10-15T19:26:17.204Z"
   },
   {
    "duration": 7,
    "start_time": "2024-10-15T19:26:17.213Z"
   },
   {
    "duration": 11,
    "start_time": "2024-10-15T19:26:17.221Z"
   },
   {
    "duration": 6,
    "start_time": "2024-10-15T19:26:17.234Z"
   },
   {
    "duration": 50,
    "start_time": "2024-10-15T19:26:17.242Z"
   },
   {
    "duration": 15,
    "start_time": "2024-10-15T19:26:17.295Z"
   },
   {
    "duration": 49,
    "start_time": "2024-10-15T19:26:17.312Z"
   },
   {
    "duration": 32,
    "start_time": "2024-10-15T19:26:17.363Z"
   },
   {
    "duration": 29,
    "start_time": "2024-10-15T19:26:17.397Z"
   },
   {
    "duration": 36,
    "start_time": "2024-10-15T19:26:17.427Z"
   },
   {
    "duration": 31,
    "start_time": "2024-10-15T19:26:17.465Z"
   },
   {
    "duration": 7,
    "start_time": "2024-10-15T19:26:17.498Z"
   },
   {
    "duration": 146,
    "start_time": "2024-10-15T19:26:17.506Z"
   },
   {
    "duration": 160,
    "start_time": "2024-10-15T19:26:17.654Z"
   },
   {
    "duration": 8,
    "start_time": "2024-10-15T19:26:17.817Z"
   },
   {
    "duration": 211,
    "start_time": "2024-10-15T19:26:17.830Z"
   },
   {
    "duration": 9,
    "start_time": "2024-10-15T19:26:18.042Z"
   },
   {
    "duration": 190,
    "start_time": "2024-10-15T19:26:18.053Z"
   },
   {
    "duration": 4,
    "start_time": "2024-10-15T19:26:18.246Z"
   },
   {
    "duration": 236,
    "start_time": "2024-10-15T19:26:18.252Z"
   },
   {
    "duration": 97,
    "start_time": "2024-10-15T19:26:18.491Z"
   },
   {
    "duration": 10,
    "start_time": "2024-10-15T19:26:18.590Z"
   },
   {
    "duration": 119,
    "start_time": "2024-10-15T19:26:18.602Z"
   },
   {
    "duration": 106,
    "start_time": "2024-10-15T19:26:18.723Z"
   },
   {
    "duration": 10,
    "start_time": "2024-10-15T19:26:18.831Z"
   },
   {
    "duration": 5,
    "start_time": "2024-10-15T19:26:18.844Z"
   },
   {
    "duration": 39,
    "start_time": "2024-10-15T19:26:18.851Z"
   },
   {
    "duration": 8,
    "start_time": "2024-10-15T19:26:18.892Z"
   },
   {
    "duration": 11,
    "start_time": "2024-10-15T19:26:18.902Z"
   },
   {
    "duration": 209,
    "start_time": "2024-10-15T19:26:32.021Z"
   },
   {
    "duration": 225,
    "start_time": "2024-10-15T19:26:37.743Z"
   },
   {
    "duration": 214,
    "start_time": "2024-10-15T19:26:41.544Z"
   },
   {
    "duration": 11,
    "start_time": "2024-10-15T19:27:20.785Z"
   },
   {
    "duration": 8,
    "start_time": "2024-10-15T19:27:56.110Z"
   },
   {
    "duration": 2165,
    "start_time": "2024-10-16T03:22:03.068Z"
   },
   {
    "duration": 154,
    "start_time": "2024-10-16T03:22:05.235Z"
   },
   {
    "duration": 57,
    "start_time": "2024-10-16T03:22:05.390Z"
   },
   {
    "duration": 10,
    "start_time": "2024-10-16T03:22:05.449Z"
   },
   {
    "duration": 9,
    "start_time": "2024-10-16T03:22:05.461Z"
   },
   {
    "duration": 847,
    "start_time": "2024-10-16T03:22:05.471Z"
   },
   {
    "duration": 17,
    "start_time": "2024-10-16T03:22:06.320Z"
   },
   {
    "duration": 47,
    "start_time": "2024-10-16T03:22:06.339Z"
   },
   {
    "duration": 88,
    "start_time": "2024-10-16T03:22:06.389Z"
   },
   {
    "duration": 13,
    "start_time": "2024-10-16T03:22:06.480Z"
   },
   {
    "duration": 113,
    "start_time": "2024-10-16T03:22:06.495Z"
   },
   {
    "duration": 91,
    "start_time": "2024-10-16T03:22:06.609Z"
   },
   {
    "duration": 27,
    "start_time": "2024-10-16T03:22:06.701Z"
   },
   {
    "duration": 11,
    "start_time": "2024-10-16T03:22:06.730Z"
   },
   {
    "duration": 3,
    "start_time": "2024-10-16T03:22:06.743Z"
   },
   {
    "duration": 53,
    "start_time": "2024-10-16T03:22:06.748Z"
   },
   {
    "duration": 14,
    "start_time": "2024-10-16T03:22:06.803Z"
   },
   {
    "duration": 4,
    "start_time": "2024-10-16T03:22:06.819Z"
   },
   {
    "duration": 9,
    "start_time": "2024-10-16T03:22:06.825Z"
   },
   {
    "duration": 8,
    "start_time": "2024-10-16T03:22:06.837Z"
   },
   {
    "duration": 4,
    "start_time": "2024-10-16T03:22:06.847Z"
   },
   {
    "duration": 778,
    "start_time": "2024-10-16T03:22:06.852Z"
   },
   {
    "duration": 694,
    "start_time": "2024-10-16T03:22:07.631Z"
   },
   {
    "duration": 6,
    "start_time": "2024-10-16T03:22:08.328Z"
   },
   {
    "duration": 9,
    "start_time": "2024-10-16T03:22:08.336Z"
   },
   {
    "duration": 7,
    "start_time": "2024-10-16T03:22:08.347Z"
   },
   {
    "duration": 31,
    "start_time": "2024-10-16T03:22:08.355Z"
   },
   {
    "duration": 10,
    "start_time": "2024-10-16T03:22:08.391Z"
   },
   {
    "duration": 6,
    "start_time": "2024-10-16T03:22:08.403Z"
   },
   {
    "duration": 12,
    "start_time": "2024-10-16T03:22:08.412Z"
   },
   {
    "duration": 15,
    "start_time": "2024-10-16T03:22:08.427Z"
   },
   {
    "duration": 78,
    "start_time": "2024-10-16T03:22:08.444Z"
   },
   {
    "duration": 11,
    "start_time": "2024-10-16T03:22:08.524Z"
   },
   {
    "duration": 49,
    "start_time": "2024-10-16T03:22:08.537Z"
   },
   {
    "duration": 36,
    "start_time": "2024-10-16T03:22:08.588Z"
   },
   {
    "duration": 14,
    "start_time": "2024-10-16T03:22:08.625Z"
   },
   {
    "duration": 6,
    "start_time": "2024-10-16T03:22:08.641Z"
   },
   {
    "duration": 155,
    "start_time": "2024-10-16T03:22:08.648Z"
   },
   {
    "duration": 148,
    "start_time": "2024-10-16T03:22:08.806Z"
   },
   {
    "duration": 9,
    "start_time": "2024-10-16T03:22:08.956Z"
   },
   {
    "duration": 177,
    "start_time": "2024-10-16T03:22:08.967Z"
   },
   {
    "duration": 9,
    "start_time": "2024-10-16T03:22:09.146Z"
   },
   {
    "duration": 211,
    "start_time": "2024-10-16T03:22:09.157Z"
   },
   {
    "duration": 17,
    "start_time": "2024-10-16T03:22:09.370Z"
   },
   {
    "duration": 222,
    "start_time": "2024-10-16T03:22:09.390Z"
   },
   {
    "duration": 95,
    "start_time": "2024-10-16T03:22:09.614Z"
   },
   {
    "duration": 10,
    "start_time": "2024-10-16T03:22:09.711Z"
   },
   {
    "duration": 117,
    "start_time": "2024-10-16T03:22:09.723Z"
   },
   {
    "duration": 92,
    "start_time": "2024-10-16T03:22:09.842Z"
   },
   {
    "duration": 10,
    "start_time": "2024-10-16T03:22:09.935Z"
   },
   {
    "duration": 5,
    "start_time": "2024-10-16T03:22:09.947Z"
   },
   {
    "duration": 42,
    "start_time": "2024-10-16T03:22:09.954Z"
   },
   {
    "duration": 10,
    "start_time": "2024-10-16T03:22:09.998Z"
   },
   {
    "duration": 12,
    "start_time": "2024-10-16T03:22:10.009Z"
   },
   {
    "duration": 41,
    "start_time": "2024-10-16T03:23:51.621Z"
   },
   {
    "duration": 39,
    "start_time": "2024-10-16T03:24:17.287Z"
   },
   {
    "duration": 104,
    "start_time": "2024-10-16T03:24:39.739Z"
   },
   {
    "duration": 108,
    "start_time": "2024-10-16T03:24:51.112Z"
   },
   {
    "duration": 121,
    "start_time": "2024-10-16T03:25:03.078Z"
   },
   {
    "duration": 104,
    "start_time": "2024-10-16T03:25:06.716Z"
   },
   {
    "duration": 128,
    "start_time": "2024-10-16T03:26:48.066Z"
   },
   {
    "duration": 182,
    "start_time": "2024-10-16T03:26:55.226Z"
   },
   {
    "duration": 1001,
    "start_time": "2024-10-16T03:27:06.952Z"
   },
   {
    "duration": 137,
    "start_time": "2024-10-16T03:27:15.898Z"
   },
   {
    "duration": 222,
    "start_time": "2024-10-16T03:27:21.409Z"
   },
   {
    "duration": 137,
    "start_time": "2024-10-16T03:29:27.222Z"
   },
   {
    "duration": 194,
    "start_time": "2024-10-16T03:29:32.034Z"
   },
   {
    "duration": 6,
    "start_time": "2024-10-16T03:33:34.959Z"
   },
   {
    "duration": 7,
    "start_time": "2024-10-16T03:35:22.855Z"
   },
   {
    "duration": 6,
    "start_time": "2024-10-16T03:35:26.351Z"
   },
   {
    "duration": 6,
    "start_time": "2024-10-16T03:35:35.753Z"
   },
   {
    "duration": 113,
    "start_time": "2024-10-16T03:36:44.520Z"
   },
   {
    "duration": 120,
    "start_time": "2024-10-16T03:36:52.957Z"
   },
   {
    "duration": 263,
    "start_time": "2024-10-16T03:37:05.739Z"
   },
   {
    "duration": 212,
    "start_time": "2024-10-16T03:37:07.920Z"
   },
   {
    "duration": 224,
    "start_time": "2024-10-16T03:37:15.334Z"
   },
   {
    "duration": 232,
    "start_time": "2024-10-16T03:37:30.344Z"
   },
   {
    "duration": 10,
    "start_time": "2024-10-16T03:39:47.341Z"
   },
   {
    "duration": 233,
    "start_time": "2024-10-16T03:40:06.236Z"
   },
   {
    "duration": 219,
    "start_time": "2024-10-16T03:40:15.753Z"
   },
   {
    "duration": 232,
    "start_time": "2024-10-16T03:40:21.237Z"
   },
   {
    "duration": 121,
    "start_time": "2024-10-16T03:40:46.787Z"
   },
   {
    "duration": 116,
    "start_time": "2024-10-16T03:41:18.064Z"
   },
   {
    "duration": 117,
    "start_time": "2024-10-16T03:41:27.969Z"
   },
   {
    "duration": 109,
    "start_time": "2024-10-16T03:41:31.939Z"
   },
   {
    "duration": 109,
    "start_time": "2024-10-16T03:41:37.068Z"
   },
   {
    "duration": 117,
    "start_time": "2024-10-16T03:43:48.738Z"
   },
   {
    "duration": 168,
    "start_time": "2024-10-16T03:43:55.759Z"
   },
   {
    "duration": 167,
    "start_time": "2024-10-16T03:44:05.900Z"
   },
   {
    "duration": 193,
    "start_time": "2024-10-16T03:44:53.550Z"
   },
   {
    "duration": 198,
    "start_time": "2024-10-16T03:45:02.284Z"
   },
   {
    "duration": 981,
    "start_time": "2024-10-16T03:45:31.652Z"
   },
   {
    "duration": 205,
    "start_time": "2024-10-16T03:45:50.194Z"
   },
   {
    "duration": 212,
    "start_time": "2024-10-16T03:45:54.547Z"
   },
   {
    "duration": 211,
    "start_time": "2024-10-16T03:46:03.643Z"
   },
   {
    "duration": 214,
    "start_time": "2024-10-16T03:46:21.683Z"
   },
   {
    "duration": 214,
    "start_time": "2024-10-16T03:46:27.173Z"
   },
   {
    "duration": 206,
    "start_time": "2024-10-16T03:47:38.429Z"
   },
   {
    "duration": 145,
    "start_time": "2024-10-16T03:47:58.864Z"
   },
   {
    "duration": 223,
    "start_time": "2024-10-16T03:48:20.308Z"
   },
   {
    "duration": 198,
    "start_time": "2024-10-16T03:49:31.107Z"
   },
   {
    "duration": 167,
    "start_time": "2024-10-16T03:49:33.179Z"
   },
   {
    "duration": 226,
    "start_time": "2024-10-16T03:50:13.699Z"
   },
   {
    "duration": 433,
    "start_time": "2024-10-16T03:51:14.891Z"
   },
   {
    "duration": 166,
    "start_time": "2024-10-16T03:51:15.326Z"
   },
   {
    "duration": 40,
    "start_time": "2024-10-16T03:51:15.494Z"
   },
   {
    "duration": 8,
    "start_time": "2024-10-16T03:51:15.537Z"
   },
   {
    "duration": 8,
    "start_time": "2024-10-16T03:51:15.547Z"
   },
   {
    "duration": 734,
    "start_time": "2024-10-16T03:51:15.556Z"
   },
   {
    "duration": 17,
    "start_time": "2024-10-16T03:51:16.292Z"
   },
   {
    "duration": 32,
    "start_time": "2024-10-16T03:51:16.311Z"
   },
   {
    "duration": 107,
    "start_time": "2024-10-16T03:51:16.345Z"
   },
   {
    "duration": 9,
    "start_time": "2024-10-16T03:51:16.456Z"
   },
   {
    "duration": 104,
    "start_time": "2024-10-16T03:51:16.466Z"
   },
   {
    "duration": 95,
    "start_time": "2024-10-16T03:51:16.571Z"
   },
   {
    "duration": 34,
    "start_time": "2024-10-16T03:51:16.668Z"
   },
   {
    "duration": 12,
    "start_time": "2024-10-16T03:51:16.704Z"
   },
   {
    "duration": 4,
    "start_time": "2024-10-16T03:51:16.717Z"
   },
   {
    "duration": 24,
    "start_time": "2024-10-16T03:51:16.722Z"
   },
   {
    "duration": 11,
    "start_time": "2024-10-16T03:51:16.748Z"
   },
   {
    "duration": 4,
    "start_time": "2024-10-16T03:51:16.787Z"
   },
   {
    "duration": 7,
    "start_time": "2024-10-16T03:51:16.793Z"
   },
   {
    "duration": 8,
    "start_time": "2024-10-16T03:51:16.802Z"
   },
   {
    "duration": 4,
    "start_time": "2024-10-16T03:51:16.812Z"
   },
   {
    "duration": 784,
    "start_time": "2024-10-16T03:51:16.818Z"
   },
   {
    "duration": 698,
    "start_time": "2024-10-16T03:51:17.604Z"
   },
   {
    "duration": 6,
    "start_time": "2024-10-16T03:51:18.304Z"
   },
   {
    "duration": 8,
    "start_time": "2024-10-16T03:51:18.312Z"
   },
   {
    "duration": 8,
    "start_time": "2024-10-16T03:51:18.321Z"
   },
   {
    "duration": 7,
    "start_time": "2024-10-16T03:51:18.330Z"
   },
   {
    "duration": 10,
    "start_time": "2024-10-16T03:51:18.341Z"
   },
   {
    "duration": 6,
    "start_time": "2024-10-16T03:51:18.387Z"
   },
   {
    "duration": 13,
    "start_time": "2024-10-16T03:51:18.395Z"
   },
   {
    "duration": 14,
    "start_time": "2024-10-16T03:51:18.410Z"
   },
   {
    "duration": 70,
    "start_time": "2024-10-16T03:51:18.426Z"
   },
   {
    "duration": 12,
    "start_time": "2024-10-16T03:51:18.498Z"
   },
   {
    "duration": 29,
    "start_time": "2024-10-16T03:51:18.512Z"
   },
   {
    "duration": 54,
    "start_time": "2024-10-16T03:51:18.543Z"
   },
   {
    "duration": 14,
    "start_time": "2024-10-16T03:51:18.598Z"
   },
   {
    "duration": 7,
    "start_time": "2024-10-16T03:51:18.613Z"
   },
   {
    "duration": 143,
    "start_time": "2024-10-16T03:51:18.621Z"
   },
   {
    "duration": 149,
    "start_time": "2024-10-16T03:51:18.766Z"
   },
   {
    "duration": 8,
    "start_time": "2024-10-16T03:51:18.916Z"
   },
   {
    "duration": 171,
    "start_time": "2024-10-16T03:51:18.925Z"
   },
   {
    "duration": 9,
    "start_time": "2024-10-16T03:51:19.098Z"
   },
   {
    "duration": 180,
    "start_time": "2024-10-16T03:51:19.108Z"
   },
   {
    "duration": 41,
    "start_time": "2024-10-16T03:51:19.290Z"
   },
   {
    "duration": 160,
    "start_time": "2024-10-16T03:51:19.332Z"
   },
   {
    "duration": 87,
    "start_time": "2024-10-16T03:51:19.494Z"
   },
   {
    "duration": 10,
    "start_time": "2024-10-16T03:51:19.587Z"
   },
   {
    "duration": 423,
    "start_time": "2024-10-16T03:51:19.599Z"
   },
   {
    "duration": 411,
    "start_time": "2024-10-16T03:52:14.846Z"
   },
   {
    "duration": 165,
    "start_time": "2024-10-16T03:52:15.260Z"
   },
   {
    "duration": 41,
    "start_time": "2024-10-16T03:52:15.427Z"
   },
   {
    "duration": 19,
    "start_time": "2024-10-16T03:52:15.470Z"
   },
   {
    "duration": 8,
    "start_time": "2024-10-16T03:52:15.492Z"
   },
   {
    "duration": 730,
    "start_time": "2024-10-16T03:52:15.501Z"
   },
   {
    "duration": 16,
    "start_time": "2024-10-16T03:52:16.232Z"
   },
   {
    "duration": 44,
    "start_time": "2024-10-16T03:52:16.250Z"
   },
   {
    "duration": 89,
    "start_time": "2024-10-16T03:52:16.297Z"
   },
   {
    "duration": 9,
    "start_time": "2024-10-16T03:52:16.388Z"
   },
   {
    "duration": 109,
    "start_time": "2024-10-16T03:52:16.398Z"
   },
   {
    "duration": 87,
    "start_time": "2024-10-16T03:52:16.509Z"
   },
   {
    "duration": 26,
    "start_time": "2024-10-16T03:52:16.598Z"
   },
   {
    "duration": 11,
    "start_time": "2024-10-16T03:52:16.628Z"
   },
   {
    "duration": 3,
    "start_time": "2024-10-16T03:52:16.641Z"
   },
   {
    "duration": 48,
    "start_time": "2024-10-16T03:52:16.646Z"
   },
   {
    "duration": 12,
    "start_time": "2024-10-16T03:52:16.696Z"
   },
   {
    "duration": 3,
    "start_time": "2024-10-16T03:52:16.709Z"
   },
   {
    "duration": 8,
    "start_time": "2024-10-16T03:52:16.714Z"
   },
   {
    "duration": 7,
    "start_time": "2024-10-16T03:52:16.724Z"
   },
   {
    "duration": 3,
    "start_time": "2024-10-16T03:52:16.732Z"
   },
   {
    "duration": 786,
    "start_time": "2024-10-16T03:52:16.737Z"
   },
   {
    "duration": 705,
    "start_time": "2024-10-16T03:52:17.525Z"
   },
   {
    "duration": 8,
    "start_time": "2024-10-16T03:52:18.232Z"
   },
   {
    "duration": 8,
    "start_time": "2024-10-16T03:52:18.242Z"
   },
   {
    "duration": 8,
    "start_time": "2024-10-16T03:52:18.251Z"
   },
   {
    "duration": 25,
    "start_time": "2024-10-16T03:52:18.261Z"
   },
   {
    "duration": 10,
    "start_time": "2024-10-16T03:52:18.288Z"
   },
   {
    "duration": 5,
    "start_time": "2024-10-16T03:52:18.300Z"
   },
   {
    "duration": 12,
    "start_time": "2024-10-16T03:52:18.307Z"
   },
   {
    "duration": 15,
    "start_time": "2024-10-16T03:52:18.321Z"
   },
   {
    "duration": 82,
    "start_time": "2024-10-16T03:52:18.338Z"
   },
   {
    "duration": 11,
    "start_time": "2024-10-16T03:52:18.422Z"
   },
   {
    "duration": 29,
    "start_time": "2024-10-16T03:52:18.435Z"
   },
   {
    "duration": 51,
    "start_time": "2024-10-16T03:52:18.465Z"
   },
   {
    "duration": 14,
    "start_time": "2024-10-16T03:52:18.518Z"
   },
   {
    "duration": 6,
    "start_time": "2024-10-16T03:52:18.533Z"
   },
   {
    "duration": 150,
    "start_time": "2024-10-16T03:52:18.541Z"
   },
   {
    "duration": 151,
    "start_time": "2024-10-16T03:52:18.692Z"
   },
   {
    "duration": 8,
    "start_time": "2024-10-16T03:52:18.845Z"
   },
   {
    "duration": 183,
    "start_time": "2024-10-16T03:52:18.858Z"
   },
   {
    "duration": 9,
    "start_time": "2024-10-16T03:52:19.043Z"
   },
   {
    "duration": 183,
    "start_time": "2024-10-16T03:52:19.053Z"
   },
   {
    "duration": 40,
    "start_time": "2024-10-16T03:52:19.237Z"
   },
   {
    "duration": 153,
    "start_time": "2024-10-16T03:52:19.279Z"
   },
   {
    "duration": 93,
    "start_time": "2024-10-16T03:52:19.434Z"
   },
   {
    "duration": 10,
    "start_time": "2024-10-16T03:52:19.529Z"
   },
   {
    "duration": 429,
    "start_time": "2024-10-16T03:52:19.541Z"
   },
   {
    "duration": 117,
    "start_time": "2024-10-16T03:52:19.972Z"
   },
   {
    "duration": 95,
    "start_time": "2024-10-16T03:52:20.091Z"
   },
   {
    "duration": 10,
    "start_time": "2024-10-16T03:52:20.188Z"
   },
   {
    "duration": 5,
    "start_time": "2024-10-16T03:52:20.200Z"
   },
   {
    "duration": 23,
    "start_time": "2024-10-16T03:52:20.207Z"
   },
   {
    "duration": 9,
    "start_time": "2024-10-16T03:52:20.232Z"
   },
   {
    "duration": 10,
    "start_time": "2024-10-16T03:52:20.243Z"
   },
   {
    "duration": 403,
    "start_time": "2024-10-16T03:53:14.451Z"
   },
   {
    "duration": 162,
    "start_time": "2024-10-16T03:53:14.856Z"
   },
   {
    "duration": 44,
    "start_time": "2024-10-16T03:53:15.020Z"
   },
   {
    "duration": 8,
    "start_time": "2024-10-16T03:53:15.067Z"
   },
   {
    "duration": 16,
    "start_time": "2024-10-16T03:53:15.076Z"
   },
   {
    "duration": 720,
    "start_time": "2024-10-16T03:53:15.094Z"
   },
   {
    "duration": 17,
    "start_time": "2024-10-16T03:53:15.816Z"
   },
   {
    "duration": 33,
    "start_time": "2024-10-16T03:53:15.834Z"
   },
   {
    "duration": 85,
    "start_time": "2024-10-16T03:53:15.887Z"
   },
   {
    "duration": 9,
    "start_time": "2024-10-16T03:53:15.986Z"
   },
   {
    "duration": 103,
    "start_time": "2024-10-16T03:53:15.997Z"
   },
   {
    "duration": 90,
    "start_time": "2024-10-16T03:53:16.102Z"
   },
   {
    "duration": 25,
    "start_time": "2024-10-16T03:53:16.194Z"
   },
   {
    "duration": 12,
    "start_time": "2024-10-16T03:53:16.221Z"
   },
   {
    "duration": 4,
    "start_time": "2024-10-16T03:53:16.234Z"
   },
   {
    "duration": 25,
    "start_time": "2024-10-16T03:53:16.239Z"
   },
   {
    "duration": 12,
    "start_time": "2024-10-16T03:53:16.287Z"
   },
   {
    "duration": 3,
    "start_time": "2024-10-16T03:53:16.301Z"
   },
   {
    "duration": 7,
    "start_time": "2024-10-16T03:53:16.306Z"
   },
   {
    "duration": 8,
    "start_time": "2024-10-16T03:53:16.314Z"
   },
   {
    "duration": 3,
    "start_time": "2024-10-16T03:53:16.324Z"
   },
   {
    "duration": 818,
    "start_time": "2024-10-16T03:53:16.329Z"
   },
   {
    "duration": 721,
    "start_time": "2024-10-16T03:53:17.149Z"
   },
   {
    "duration": 7,
    "start_time": "2024-10-16T03:53:17.872Z"
   },
   {
    "duration": 12,
    "start_time": "2024-10-16T03:53:17.881Z"
   },
   {
    "duration": 9,
    "start_time": "2024-10-16T03:53:17.895Z"
   },
   {
    "duration": 7,
    "start_time": "2024-10-16T03:53:17.906Z"
   },
   {
    "duration": 11,
    "start_time": "2024-10-16T03:53:17.917Z"
   },
   {
    "duration": 5,
    "start_time": "2024-10-16T03:53:17.930Z"
   },
   {
    "duration": 13,
    "start_time": "2024-10-16T03:53:17.937Z"
   },
   {
    "duration": 47,
    "start_time": "2024-10-16T03:53:17.952Z"
   },
   {
    "duration": 51,
    "start_time": "2024-10-16T03:53:18.000Z"
   },
   {
    "duration": 12,
    "start_time": "2024-10-16T03:53:18.053Z"
   },
   {
    "duration": 30,
    "start_time": "2024-10-16T03:53:18.087Z"
   },
   {
    "duration": 38,
    "start_time": "2024-10-16T03:53:18.119Z"
   },
   {
    "duration": 31,
    "start_time": "2024-10-16T03:53:18.160Z"
   },
   {
    "duration": 7,
    "start_time": "2024-10-16T03:53:18.194Z"
   },
   {
    "duration": 146,
    "start_time": "2024-10-16T03:53:18.203Z"
   },
   {
    "duration": 143,
    "start_time": "2024-10-16T03:53:18.351Z"
   },
   {
    "duration": 8,
    "start_time": "2024-10-16T03:53:18.496Z"
   },
   {
    "duration": 164,
    "start_time": "2024-10-16T03:53:18.505Z"
   },
   {
    "duration": 18,
    "start_time": "2024-10-16T03:53:18.670Z"
   },
   {
    "duration": 175,
    "start_time": "2024-10-16T03:53:18.689Z"
   },
   {
    "duration": 47,
    "start_time": "2024-10-16T03:53:18.866Z"
   },
   {
    "duration": 150,
    "start_time": "2024-10-16T03:53:18.914Z"
   },
   {
    "duration": 98,
    "start_time": "2024-10-16T03:53:19.066Z"
   },
   {
    "duration": 12,
    "start_time": "2024-10-16T03:53:19.165Z"
   },
   {
    "duration": 383,
    "start_time": "2024-10-16T03:53:19.178Z"
   },
   {
    "duration": 2,
    "start_time": "2024-10-16T03:53:19.563Z"
   },
   {
    "duration": 123,
    "start_time": "2024-10-16T03:53:19.567Z"
   },
   {
    "duration": 115,
    "start_time": "2024-10-16T03:53:19.692Z"
   },
   {
    "duration": 16,
    "start_time": "2024-10-16T03:53:19.809Z"
   },
   {
    "duration": 6,
    "start_time": "2024-10-16T03:53:19.828Z"
   },
   {
    "duration": 23,
    "start_time": "2024-10-16T03:53:19.836Z"
   },
   {
    "duration": 25,
    "start_time": "2024-10-16T03:53:19.861Z"
   },
   {
    "duration": 9,
    "start_time": "2024-10-16T03:53:19.888Z"
   },
   {
    "duration": 217,
    "start_time": "2024-10-16T03:53:23.244Z"
   },
   {
    "duration": 379,
    "start_time": "2024-10-16T03:53:26.074Z"
   },
   {
    "duration": 422,
    "start_time": "2024-10-16T03:55:42.968Z"
   },
   {
    "duration": 172,
    "start_time": "2024-10-16T03:55:43.392Z"
   },
   {
    "duration": 50,
    "start_time": "2024-10-16T03:55:43.565Z"
   },
   {
    "duration": 8,
    "start_time": "2024-10-16T03:55:43.618Z"
   },
   {
    "duration": 7,
    "start_time": "2024-10-16T03:55:43.627Z"
   },
   {
    "duration": 733,
    "start_time": "2024-10-16T03:55:43.635Z"
   },
   {
    "duration": 25,
    "start_time": "2024-10-16T03:55:44.370Z"
   },
   {
    "duration": 33,
    "start_time": "2024-10-16T03:55:44.397Z"
   },
   {
    "duration": 100,
    "start_time": "2024-10-16T03:55:44.432Z"
   },
   {
    "duration": 9,
    "start_time": "2024-10-16T03:55:44.535Z"
   },
   {
    "duration": 122,
    "start_time": "2024-10-16T03:55:44.545Z"
   },
   {
    "duration": 91,
    "start_time": "2024-10-16T03:55:44.668Z"
   },
   {
    "duration": 42,
    "start_time": "2024-10-16T03:55:44.762Z"
   },
   {
    "duration": 12,
    "start_time": "2024-10-16T03:55:44.807Z"
   },
   {
    "duration": 3,
    "start_time": "2024-10-16T03:55:44.821Z"
   },
   {
    "duration": 24,
    "start_time": "2024-10-16T03:55:44.825Z"
   },
   {
    "duration": 36,
    "start_time": "2024-10-16T03:55:44.851Z"
   },
   {
    "duration": 3,
    "start_time": "2024-10-16T03:55:44.889Z"
   },
   {
    "duration": 8,
    "start_time": "2024-10-16T03:55:44.894Z"
   },
   {
    "duration": 8,
    "start_time": "2024-10-16T03:55:44.904Z"
   },
   {
    "duration": 3,
    "start_time": "2024-10-16T03:55:44.914Z"
   },
   {
    "duration": 798,
    "start_time": "2024-10-16T03:55:44.919Z"
   },
   {
    "duration": 699,
    "start_time": "2024-10-16T03:55:45.719Z"
   },
   {
    "duration": 6,
    "start_time": "2024-10-16T03:55:46.420Z"
   },
   {
    "duration": 8,
    "start_time": "2024-10-16T03:55:46.428Z"
   },
   {
    "duration": 8,
    "start_time": "2024-10-16T03:55:46.438Z"
   },
   {
    "duration": 7,
    "start_time": "2024-10-16T03:55:46.447Z"
   },
   {
    "duration": 11,
    "start_time": "2024-10-16T03:55:46.486Z"
   },
   {
    "duration": 6,
    "start_time": "2024-10-16T03:55:46.498Z"
   },
   {
    "duration": 13,
    "start_time": "2024-10-16T03:55:46.505Z"
   },
   {
    "duration": 15,
    "start_time": "2024-10-16T03:55:46.520Z"
   },
   {
    "duration": 74,
    "start_time": "2024-10-16T03:55:46.538Z"
   },
   {
    "duration": 12,
    "start_time": "2024-10-16T03:55:46.613Z"
   },
   {
    "duration": 30,
    "start_time": "2024-10-16T03:55:46.626Z"
   },
   {
    "duration": 59,
    "start_time": "2024-10-16T03:55:46.658Z"
   },
   {
    "duration": 14,
    "start_time": "2024-10-16T03:55:46.719Z"
   },
   {
    "duration": 8,
    "start_time": "2024-10-16T03:55:46.735Z"
   },
   {
    "duration": 146,
    "start_time": "2024-10-16T03:55:46.744Z"
   },
   {
    "duration": 146,
    "start_time": "2024-10-16T03:55:46.892Z"
   },
   {
    "duration": 8,
    "start_time": "2024-10-16T03:55:47.040Z"
   },
   {
    "duration": 168,
    "start_time": "2024-10-16T03:55:47.050Z"
   },
   {
    "duration": 9,
    "start_time": "2024-10-16T03:55:47.220Z"
   },
   {
    "duration": 178,
    "start_time": "2024-10-16T03:55:47.231Z"
   },
   {
    "duration": 42,
    "start_time": "2024-10-16T03:55:47.411Z"
   },
   {
    "duration": 163,
    "start_time": "2024-10-16T03:55:47.454Z"
   },
   {
    "duration": 99,
    "start_time": "2024-10-16T03:55:47.619Z"
   },
   {
    "duration": 10,
    "start_time": "2024-10-16T03:55:47.720Z"
   },
   {
    "duration": 420,
    "start_time": "2024-10-16T03:56:49.027Z"
   },
   {
    "duration": 164,
    "start_time": "2024-10-16T03:56:49.449Z"
   },
   {
    "duration": 40,
    "start_time": "2024-10-16T03:56:49.615Z"
   },
   {
    "duration": 9,
    "start_time": "2024-10-16T03:56:49.657Z"
   },
   {
    "duration": 21,
    "start_time": "2024-10-16T03:56:49.669Z"
   },
   {
    "duration": 727,
    "start_time": "2024-10-16T03:56:49.691Z"
   },
   {
    "duration": 18,
    "start_time": "2024-10-16T03:56:50.420Z"
   },
   {
    "duration": 44,
    "start_time": "2024-10-16T03:56:50.442Z"
   },
   {
    "duration": 85,
    "start_time": "2024-10-16T03:56:50.488Z"
   },
   {
    "duration": 18,
    "start_time": "2024-10-16T03:56:50.575Z"
   },
   {
    "duration": 103,
    "start_time": "2024-10-16T03:56:50.595Z"
   },
   {
    "duration": 87,
    "start_time": "2024-10-16T03:56:50.699Z"
   },
   {
    "duration": 26,
    "start_time": "2024-10-16T03:56:50.788Z"
   },
   {
    "duration": 11,
    "start_time": "2024-10-16T03:56:50.818Z"
   },
   {
    "duration": 3,
    "start_time": "2024-10-16T03:56:50.831Z"
   },
   {
    "duration": 24,
    "start_time": "2024-10-16T03:56:50.836Z"
   },
   {
    "duration": 11,
    "start_time": "2024-10-16T03:56:50.886Z"
   },
   {
    "duration": 4,
    "start_time": "2024-10-16T03:56:50.898Z"
   },
   {
    "duration": 8,
    "start_time": "2024-10-16T03:56:50.904Z"
   },
   {
    "duration": 8,
    "start_time": "2024-10-16T03:56:50.913Z"
   },
   {
    "duration": 5,
    "start_time": "2024-10-16T03:56:50.922Z"
   },
   {
    "duration": 815,
    "start_time": "2024-10-16T03:56:50.928Z"
   },
   {
    "duration": 671,
    "start_time": "2024-10-16T03:56:51.745Z"
   },
   {
    "duration": 8,
    "start_time": "2024-10-16T03:56:52.418Z"
   },
   {
    "duration": 9,
    "start_time": "2024-10-16T03:56:52.427Z"
   },
   {
    "duration": 8,
    "start_time": "2024-10-16T03:56:52.437Z"
   },
   {
    "duration": 6,
    "start_time": "2024-10-16T03:56:52.447Z"
   },
   {
    "duration": 35,
    "start_time": "2024-10-16T03:56:52.455Z"
   },
   {
    "duration": 5,
    "start_time": "2024-10-16T03:56:52.491Z"
   },
   {
    "duration": 13,
    "start_time": "2024-10-16T03:56:52.498Z"
   },
   {
    "duration": 15,
    "start_time": "2024-10-16T03:56:52.513Z"
   },
   {
    "duration": 85,
    "start_time": "2024-10-16T03:56:52.530Z"
   },
   {
    "duration": 12,
    "start_time": "2024-10-16T03:56:52.617Z"
   },
   {
    "duration": 31,
    "start_time": "2024-10-16T03:56:52.631Z"
   },
   {
    "duration": 51,
    "start_time": "2024-10-16T03:56:52.664Z"
   },
   {
    "duration": 14,
    "start_time": "2024-10-16T03:56:52.717Z"
   },
   {
    "duration": 6,
    "start_time": "2024-10-16T03:56:52.733Z"
   },
   {
    "duration": 151,
    "start_time": "2024-10-16T03:56:52.740Z"
   },
   {
    "duration": 144,
    "start_time": "2024-10-16T03:56:52.892Z"
   },
   {
    "duration": 9,
    "start_time": "2024-10-16T03:56:53.038Z"
   },
   {
    "duration": 182,
    "start_time": "2024-10-16T03:56:53.051Z"
   },
   {
    "duration": 9,
    "start_time": "2024-10-16T03:56:53.235Z"
   },
   {
    "duration": 180,
    "start_time": "2024-10-16T03:56:53.246Z"
   },
   {
    "duration": 39,
    "start_time": "2024-10-16T03:56:53.428Z"
   },
   {
    "duration": 166,
    "start_time": "2024-10-16T03:56:53.469Z"
   },
   {
    "duration": 103,
    "start_time": "2024-10-16T03:56:53.637Z"
   },
   {
    "duration": 10,
    "start_time": "2024-10-16T03:56:53.742Z"
   },
   {
    "duration": 428,
    "start_time": "2024-10-16T03:56:53.753Z"
   },
   {
    "duration": 116,
    "start_time": "2024-10-16T03:56:54.182Z"
   },
   {
    "duration": 100,
    "start_time": "2024-10-16T03:56:54.300Z"
   },
   {
    "duration": 10,
    "start_time": "2024-10-16T03:56:54.402Z"
   },
   {
    "duration": 23,
    "start_time": "2024-10-16T03:56:54.414Z"
   },
   {
    "duration": 9,
    "start_time": "2024-10-16T03:56:54.439Z"
   },
   {
    "duration": 10,
    "start_time": "2024-10-16T03:56:54.450Z"
   },
   {
    "duration": 408,
    "start_time": "2024-10-16T03:59:10.348Z"
   },
   {
    "duration": 163,
    "start_time": "2024-10-16T03:59:10.758Z"
   },
   {
    "duration": 40,
    "start_time": "2024-10-16T03:59:10.922Z"
   },
   {
    "duration": 9,
    "start_time": "2024-10-16T03:59:10.964Z"
   },
   {
    "duration": 17,
    "start_time": "2024-10-16T03:59:10.976Z"
   },
   {
    "duration": 726,
    "start_time": "2024-10-16T03:59:10.995Z"
   },
   {
    "duration": 17,
    "start_time": "2024-10-16T03:59:11.723Z"
   },
   {
    "duration": 48,
    "start_time": "2024-10-16T03:59:11.742Z"
   },
   {
    "duration": 97,
    "start_time": "2024-10-16T03:59:11.791Z"
   },
   {
    "duration": 9,
    "start_time": "2024-10-16T03:59:11.889Z"
   },
   {
    "duration": 112,
    "start_time": "2024-10-16T03:59:11.900Z"
   },
   {
    "duration": 93,
    "start_time": "2024-10-16T03:59:12.013Z"
   },
   {
    "duration": 26,
    "start_time": "2024-10-16T03:59:12.108Z"
   },
   {
    "duration": 12,
    "start_time": "2024-10-16T03:59:12.138Z"
   },
   {
    "duration": 3,
    "start_time": "2024-10-16T03:59:12.151Z"
   },
   {
    "duration": 49,
    "start_time": "2024-10-16T03:59:12.156Z"
   },
   {
    "duration": 12,
    "start_time": "2024-10-16T03:59:12.207Z"
   },
   {
    "duration": 4,
    "start_time": "2024-10-16T03:59:12.220Z"
   },
   {
    "duration": 7,
    "start_time": "2024-10-16T03:59:12.226Z"
   },
   {
    "duration": 7,
    "start_time": "2024-10-16T03:59:12.236Z"
   },
   {
    "duration": 4,
    "start_time": "2024-10-16T03:59:12.245Z"
   },
   {
    "duration": 802,
    "start_time": "2024-10-16T03:59:12.251Z"
   },
   {
    "duration": 756,
    "start_time": "2024-10-16T03:59:13.055Z"
   },
   {
    "duration": 6,
    "start_time": "2024-10-16T03:59:13.813Z"
   },
   {
    "duration": 8,
    "start_time": "2024-10-16T03:59:13.822Z"
   },
   {
    "duration": 8,
    "start_time": "2024-10-16T03:59:13.831Z"
   },
   {
    "duration": 7,
    "start_time": "2024-10-16T03:59:13.840Z"
   },
   {
    "duration": 40,
    "start_time": "2024-10-16T03:59:13.848Z"
   },
   {
    "duration": 6,
    "start_time": "2024-10-16T03:59:13.889Z"
   },
   {
    "duration": 13,
    "start_time": "2024-10-16T03:59:13.897Z"
   },
   {
    "duration": 15,
    "start_time": "2024-10-16T03:59:13.912Z"
   },
   {
    "duration": 73,
    "start_time": "2024-10-16T03:59:13.928Z"
   },
   {
    "duration": 11,
    "start_time": "2024-10-16T03:59:14.004Z"
   },
   {
    "duration": 31,
    "start_time": "2024-10-16T03:59:14.017Z"
   },
   {
    "duration": 59,
    "start_time": "2024-10-16T03:59:14.050Z"
   },
   {
    "duration": 15,
    "start_time": "2024-10-16T03:59:14.111Z"
   },
   {
    "duration": 6,
    "start_time": "2024-10-16T03:59:14.128Z"
   },
   {
    "duration": 152,
    "start_time": "2024-10-16T03:59:14.136Z"
   },
   {
    "duration": 144,
    "start_time": "2024-10-16T03:59:14.290Z"
   },
   {
    "duration": 7,
    "start_time": "2024-10-16T03:59:14.435Z"
   },
   {
    "duration": 168,
    "start_time": "2024-10-16T03:59:14.447Z"
   },
   {
    "duration": 9,
    "start_time": "2024-10-16T03:59:14.617Z"
   },
   {
    "duration": 182,
    "start_time": "2024-10-16T03:59:14.627Z"
   },
   {
    "duration": 41,
    "start_time": "2024-10-16T03:59:14.811Z"
   },
   {
    "duration": 158,
    "start_time": "2024-10-16T03:59:14.854Z"
   },
   {
    "duration": 106,
    "start_time": "2024-10-16T03:59:15.014Z"
   },
   {
    "duration": 13,
    "start_time": "2024-10-16T03:59:15.122Z"
   },
   {
    "duration": 437,
    "start_time": "2024-10-16T04:00:38.119Z"
   },
   {
    "duration": 167,
    "start_time": "2024-10-16T04:00:38.558Z"
   },
   {
    "duration": 39,
    "start_time": "2024-10-16T04:00:38.727Z"
   },
   {
    "duration": 20,
    "start_time": "2024-10-16T04:00:38.767Z"
   },
   {
    "duration": 8,
    "start_time": "2024-10-16T04:00:38.790Z"
   },
   {
    "duration": 730,
    "start_time": "2024-10-16T04:00:38.799Z"
   },
   {
    "duration": 17,
    "start_time": "2024-10-16T04:00:39.531Z"
   },
   {
    "duration": 49,
    "start_time": "2024-10-16T04:00:39.550Z"
   },
   {
    "duration": 93,
    "start_time": "2024-10-16T04:00:39.600Z"
   },
   {
    "duration": 8,
    "start_time": "2024-10-16T04:00:39.695Z"
   },
   {
    "duration": 111,
    "start_time": "2024-10-16T04:00:39.705Z"
   },
   {
    "duration": 95,
    "start_time": "2024-10-16T04:00:39.818Z"
   },
   {
    "duration": 27,
    "start_time": "2024-10-16T04:00:39.915Z"
   },
   {
    "duration": 11,
    "start_time": "2024-10-16T04:00:39.946Z"
   },
   {
    "duration": 3,
    "start_time": "2024-10-16T04:00:39.959Z"
   },
   {
    "duration": 25,
    "start_time": "2024-10-16T04:00:39.986Z"
   },
   {
    "duration": 11,
    "start_time": "2024-10-16T04:00:40.013Z"
   },
   {
    "duration": 3,
    "start_time": "2024-10-16T04:00:40.026Z"
   },
   {
    "duration": 8,
    "start_time": "2024-10-16T04:00:40.031Z"
   },
   {
    "duration": 7,
    "start_time": "2024-10-16T04:00:40.040Z"
   },
   {
    "duration": 38,
    "start_time": "2024-10-16T04:00:40.049Z"
   },
   {
    "duration": 765,
    "start_time": "2024-10-16T04:00:40.088Z"
   },
   {
    "duration": 746,
    "start_time": "2024-10-16T04:00:40.855Z"
   },
   {
    "duration": 7,
    "start_time": "2024-10-16T04:00:41.603Z"
   },
   {
    "duration": 8,
    "start_time": "2024-10-16T04:00:41.612Z"
   },
   {
    "duration": 10,
    "start_time": "2024-10-16T04:00:41.622Z"
   },
   {
    "duration": 10,
    "start_time": "2024-10-16T04:00:41.635Z"
   },
   {
    "duration": 43,
    "start_time": "2024-10-16T04:00:41.646Z"
   },
   {
    "duration": 6,
    "start_time": "2024-10-16T04:00:41.691Z"
   },
   {
    "duration": 21,
    "start_time": "2024-10-16T04:00:41.700Z"
   },
   {
    "duration": 19,
    "start_time": "2024-10-16T04:00:41.723Z"
   },
   {
    "duration": 71,
    "start_time": "2024-10-16T04:00:41.744Z"
   },
   {
    "duration": 12,
    "start_time": "2024-10-16T04:00:41.816Z"
   },
   {
    "duration": 28,
    "start_time": "2024-10-16T04:00:41.830Z"
   },
   {
    "duration": 56,
    "start_time": "2024-10-16T04:00:41.860Z"
   },
   {
    "duration": 19,
    "start_time": "2024-10-16T04:00:41.918Z"
   },
   {
    "duration": 8,
    "start_time": "2024-10-16T04:00:41.938Z"
   },
   {
    "duration": 202,
    "start_time": "2024-10-16T04:00:41.948Z"
   },
   {
    "duration": 203,
    "start_time": "2024-10-16T04:00:42.152Z"
   },
   {
    "duration": 9,
    "start_time": "2024-10-16T04:00:42.357Z"
   },
   {
    "duration": 170,
    "start_time": "2024-10-16T04:00:42.371Z"
   },
   {
    "duration": 10,
    "start_time": "2024-10-16T04:00:42.544Z"
   },
   {
    "duration": 180,
    "start_time": "2024-10-16T04:00:42.556Z"
   },
   {
    "duration": 48,
    "start_time": "2024-10-16T04:00:42.738Z"
   },
   {
    "duration": 153,
    "start_time": "2024-10-16T04:00:42.788Z"
   },
   {
    "duration": 101,
    "start_time": "2024-10-16T04:00:42.942Z"
   },
   {
    "duration": 13,
    "start_time": "2024-10-16T04:00:43.044Z"
   },
   {
    "duration": 872,
    "start_time": "2024-10-16T04:00:43.059Z"
   },
   {
    "duration": 5,
    "start_time": "2024-10-16T04:00:43.933Z"
   },
   {
    "duration": 0,
    "start_time": "2024-10-16T04:00:43.941Z"
   },
   {
    "duration": 0,
    "start_time": "2024-10-16T04:00:43.942Z"
   },
   {
    "duration": 0,
    "start_time": "2024-10-16T04:00:43.943Z"
   },
   {
    "duration": 0,
    "start_time": "2024-10-16T04:00:43.944Z"
   },
   {
    "duration": 0,
    "start_time": "2024-10-16T04:00:43.945Z"
   },
   {
    "duration": 0,
    "start_time": "2024-10-16T04:00:43.946Z"
   },
   {
    "duration": 433,
    "start_time": "2024-10-16T04:03:39.388Z"
   },
   {
    "duration": 181,
    "start_time": "2024-10-16T04:03:39.823Z"
   },
   {
    "duration": 56,
    "start_time": "2024-10-16T04:03:40.006Z"
   },
   {
    "duration": 9,
    "start_time": "2024-10-16T04:03:40.065Z"
   },
   {
    "duration": 9,
    "start_time": "2024-10-16T04:03:40.077Z"
   },
   {
    "duration": 824,
    "start_time": "2024-10-16T04:03:40.089Z"
   },
   {
    "duration": 16,
    "start_time": "2024-10-16T04:03:40.915Z"
   },
   {
    "duration": 31,
    "start_time": "2024-10-16T04:03:40.934Z"
   },
   {
    "duration": 104,
    "start_time": "2024-10-16T04:03:40.967Z"
   },
   {
    "duration": 19,
    "start_time": "2024-10-16T04:03:41.073Z"
   },
   {
    "duration": 116,
    "start_time": "2024-10-16T04:03:41.093Z"
   },
   {
    "duration": 87,
    "start_time": "2024-10-16T04:03:41.211Z"
   },
   {
    "duration": 25,
    "start_time": "2024-10-16T04:03:41.301Z"
   },
   {
    "duration": 11,
    "start_time": "2024-10-16T04:03:41.331Z"
   },
   {
    "duration": 2,
    "start_time": "2024-10-16T04:03:41.344Z"
   },
   {
    "duration": 48,
    "start_time": "2024-10-16T04:03:41.348Z"
   },
   {
    "duration": 15,
    "start_time": "2024-10-16T04:03:41.398Z"
   },
   {
    "duration": 8,
    "start_time": "2024-10-16T04:03:41.415Z"
   },
   {
    "duration": 7,
    "start_time": "2024-10-16T04:03:41.424Z"
   },
   {
    "duration": 7,
    "start_time": "2024-10-16T04:03:41.434Z"
   },
   {
    "duration": 4,
    "start_time": "2024-10-16T04:03:41.442Z"
   },
   {
    "duration": 771,
    "start_time": "2024-10-16T04:03:41.447Z"
   },
   {
    "duration": 680,
    "start_time": "2024-10-16T04:03:42.220Z"
   },
   {
    "duration": 6,
    "start_time": "2024-10-16T04:03:42.902Z"
   },
   {
    "duration": 8,
    "start_time": "2024-10-16T04:03:42.909Z"
   },
   {
    "duration": 8,
    "start_time": "2024-10-16T04:03:42.919Z"
   },
   {
    "duration": 7,
    "start_time": "2024-10-16T04:03:42.928Z"
   },
   {
    "duration": 10,
    "start_time": "2024-10-16T04:03:42.937Z"
   },
   {
    "duration": 40,
    "start_time": "2024-10-16T04:03:42.948Z"
   },
   {
    "duration": 13,
    "start_time": "2024-10-16T04:03:42.989Z"
   },
   {
    "duration": 15,
    "start_time": "2024-10-16T04:03:43.004Z"
   },
   {
    "duration": 71,
    "start_time": "2024-10-16T04:03:43.021Z"
   },
   {
    "duration": 13,
    "start_time": "2024-10-16T04:03:43.094Z"
   },
   {
    "duration": 33,
    "start_time": "2024-10-16T04:03:43.109Z"
   },
   {
    "duration": 63,
    "start_time": "2024-10-16T04:03:43.144Z"
   },
   {
    "duration": 14,
    "start_time": "2024-10-16T04:03:43.209Z"
   },
   {
    "duration": 7,
    "start_time": "2024-10-16T04:03:43.224Z"
   },
   {
    "duration": 155,
    "start_time": "2024-10-16T04:03:43.233Z"
   },
   {
    "duration": 152,
    "start_time": "2024-10-16T04:03:43.390Z"
   },
   {
    "duration": 7,
    "start_time": "2024-10-16T04:03:43.544Z"
   },
   {
    "duration": 174,
    "start_time": "2024-10-16T04:03:43.555Z"
   },
   {
    "duration": 9,
    "start_time": "2024-10-16T04:03:43.730Z"
   },
   {
    "duration": 184,
    "start_time": "2024-10-16T04:03:43.741Z"
   },
   {
    "duration": 41,
    "start_time": "2024-10-16T04:03:43.927Z"
   },
   {
    "duration": 156,
    "start_time": "2024-10-16T04:03:43.969Z"
   },
   {
    "duration": 93,
    "start_time": "2024-10-16T04:03:44.127Z"
   },
   {
    "duration": 11,
    "start_time": "2024-10-16T04:03:44.222Z"
   },
   {
    "duration": 392,
    "start_time": "2024-10-16T04:03:44.235Z"
   },
   {
    "duration": 191,
    "start_time": "2024-10-16T04:03:44.628Z"
   },
   {
    "duration": 0,
    "start_time": "2024-10-16T04:03:44.821Z"
   },
   {
    "duration": 0,
    "start_time": "2024-10-16T04:03:44.823Z"
   },
   {
    "duration": 1,
    "start_time": "2024-10-16T04:03:44.824Z"
   },
   {
    "duration": 0,
    "start_time": "2024-10-16T04:03:44.826Z"
   },
   {
    "duration": 0,
    "start_time": "2024-10-16T04:03:44.827Z"
   },
   {
    "duration": 0,
    "start_time": "2024-10-16T04:03:44.829Z"
   },
   {
    "duration": 14,
    "start_time": "2024-10-16T04:03:48.158Z"
   },
   {
    "duration": 6,
    "start_time": "2024-10-16T04:03:55.222Z"
   },
   {
    "duration": 4,
    "start_time": "2024-10-16T04:04:40.318Z"
   },
   {
    "duration": 4,
    "start_time": "2024-10-16T04:04:47.344Z"
   },
   {
    "duration": 14,
    "start_time": "2024-10-16T04:06:02.138Z"
   },
   {
    "duration": 4,
    "start_time": "2024-10-16T04:06:08.645Z"
   },
   {
    "duration": 4,
    "start_time": "2024-10-16T04:06:16.884Z"
   },
   {
    "duration": 5,
    "start_time": "2024-10-16T04:06:21.151Z"
   },
   {
    "duration": 5,
    "start_time": "2024-10-16T04:07:13.068Z"
   },
   {
    "duration": 5,
    "start_time": "2024-10-16T04:07:18.118Z"
   },
   {
    "duration": 5,
    "start_time": "2024-10-16T04:07:26.584Z"
   },
   {
    "duration": 5,
    "start_time": "2024-10-16T04:08:08.178Z"
   },
   {
    "duration": 5,
    "start_time": "2024-10-16T04:08:17.067Z"
   },
   {
    "duration": 5,
    "start_time": "2024-10-16T04:08:32.305Z"
   },
   {
    "duration": 6,
    "start_time": "2024-10-16T04:08:36.636Z"
   },
   {
    "duration": 6,
    "start_time": "2024-10-16T04:08:39.548Z"
   },
   {
    "duration": 5,
    "start_time": "2024-10-16T04:08:46.302Z"
   },
   {
    "duration": 76,
    "start_time": "2024-10-16T04:09:03.065Z"
   },
   {
    "duration": 5,
    "start_time": "2024-10-16T04:09:10.797Z"
   },
   {
    "duration": 4,
    "start_time": "2024-10-16T04:10:07.194Z"
   },
   {
    "duration": 3,
    "start_time": "2024-10-16T04:10:11.103Z"
   },
   {
    "duration": 4,
    "start_time": "2024-10-16T04:10:14.132Z"
   },
   {
    "duration": 5,
    "start_time": "2024-10-16T04:10:22.762Z"
   },
   {
    "duration": 368,
    "start_time": "2024-10-16T04:10:51.982Z"
   },
   {
    "duration": 6,
    "start_time": "2024-10-16T04:10:53.491Z"
   },
   {
    "duration": 398,
    "start_time": "2024-10-16T04:10:59.979Z"
   },
   {
    "duration": 421,
    "start_time": "2024-10-16T04:19:24.629Z"
   },
   {
    "duration": 163,
    "start_time": "2024-10-16T04:19:25.052Z"
   },
   {
    "duration": 41,
    "start_time": "2024-10-16T04:19:25.216Z"
   },
   {
    "duration": 8,
    "start_time": "2024-10-16T04:19:25.259Z"
   },
   {
    "duration": 19,
    "start_time": "2024-10-16T04:19:25.270Z"
   },
   {
    "duration": 719,
    "start_time": "2024-10-16T04:19:25.291Z"
   },
   {
    "duration": 18,
    "start_time": "2024-10-16T04:19:26.011Z"
   },
   {
    "duration": 33,
    "start_time": "2024-10-16T04:19:26.032Z"
   },
   {
    "duration": 111,
    "start_time": "2024-10-16T04:19:26.067Z"
   },
   {
    "duration": 10,
    "start_time": "2024-10-16T04:19:26.186Z"
   },
   {
    "duration": 107,
    "start_time": "2024-10-16T04:19:26.198Z"
   },
   {
    "duration": 90,
    "start_time": "2024-10-16T04:19:26.307Z"
   },
   {
    "duration": 27,
    "start_time": "2024-10-16T04:19:26.398Z"
   },
   {
    "duration": 12,
    "start_time": "2024-10-16T04:19:26.429Z"
   },
   {
    "duration": 3,
    "start_time": "2024-10-16T04:19:26.442Z"
   },
   {
    "duration": 47,
    "start_time": "2024-10-16T04:19:26.447Z"
   },
   {
    "duration": 12,
    "start_time": "2024-10-16T04:19:26.496Z"
   },
   {
    "duration": 3,
    "start_time": "2024-10-16T04:19:26.509Z"
   },
   {
    "duration": 8,
    "start_time": "2024-10-16T04:19:26.514Z"
   },
   {
    "duration": 8,
    "start_time": "2024-10-16T04:19:26.523Z"
   },
   {
    "duration": 3,
    "start_time": "2024-10-16T04:19:26.532Z"
   },
   {
    "duration": 776,
    "start_time": "2024-10-16T04:19:26.537Z"
   },
   {
    "duration": 689,
    "start_time": "2024-10-16T04:19:27.315Z"
   },
   {
    "duration": 6,
    "start_time": "2024-10-16T04:19:28.006Z"
   },
   {
    "duration": 8,
    "start_time": "2024-10-16T04:19:28.014Z"
   },
   {
    "duration": 7,
    "start_time": "2024-10-16T04:19:28.024Z"
   },
   {
    "duration": 7,
    "start_time": "2024-10-16T04:19:28.032Z"
   },
   {
    "duration": 11,
    "start_time": "2024-10-16T04:19:28.040Z"
   },
   {
    "duration": 5,
    "start_time": "2024-10-16T04:19:28.087Z"
   },
   {
    "duration": 13,
    "start_time": "2024-10-16T04:19:28.093Z"
   },
   {
    "duration": 16,
    "start_time": "2024-10-16T04:19:28.107Z"
   },
   {
    "duration": 78,
    "start_time": "2024-10-16T04:19:28.125Z"
   },
   {
    "duration": 12,
    "start_time": "2024-10-16T04:19:28.205Z"
   },
   {
    "duration": 29,
    "start_time": "2024-10-16T04:19:28.218Z"
   },
   {
    "duration": 58,
    "start_time": "2024-10-16T04:19:28.249Z"
   },
   {
    "duration": 14,
    "start_time": "2024-10-16T04:19:28.308Z"
   },
   {
    "duration": 6,
    "start_time": "2024-10-16T04:19:28.324Z"
   },
   {
    "duration": 144,
    "start_time": "2024-10-16T04:19:28.331Z"
   },
   {
    "duration": 148,
    "start_time": "2024-10-16T04:19:28.477Z"
   },
   {
    "duration": 8,
    "start_time": "2024-10-16T04:19:28.626Z"
   },
   {
    "duration": 168,
    "start_time": "2024-10-16T04:19:28.639Z"
   },
   {
    "duration": 10,
    "start_time": "2024-10-16T04:19:28.809Z"
   },
   {
    "duration": 182,
    "start_time": "2024-10-16T04:19:28.820Z"
   },
   {
    "duration": 42,
    "start_time": "2024-10-16T04:19:29.003Z"
   },
   {
    "duration": 160,
    "start_time": "2024-10-16T04:19:29.046Z"
   },
   {
    "duration": 102,
    "start_time": "2024-10-16T04:19:29.208Z"
   },
   {
    "duration": 11,
    "start_time": "2024-10-16T04:19:29.312Z"
   },
   {
    "duration": 199,
    "start_time": "2024-10-16T04:19:29.326Z"
   },
   {
    "duration": 0,
    "start_time": "2024-10-16T04:19:29.526Z"
   },
   {
    "duration": 0,
    "start_time": "2024-10-16T04:19:29.527Z"
   },
   {
    "duration": 0,
    "start_time": "2024-10-16T04:19:29.529Z"
   },
   {
    "duration": 0,
    "start_time": "2024-10-16T04:19:29.530Z"
   },
   {
    "duration": 0,
    "start_time": "2024-10-16T04:19:29.531Z"
   },
   {
    "duration": 0,
    "start_time": "2024-10-16T04:19:29.533Z"
   },
   {
    "duration": 0,
    "start_time": "2024-10-16T04:19:29.534Z"
   },
   {
    "duration": 459,
    "start_time": "2024-10-16T04:19:48.911Z"
   },
   {
    "duration": 351,
    "start_time": "2024-10-16T04:20:15.694Z"
   },
   {
    "duration": 3,
    "start_time": "2024-10-16T04:20:31.179Z"
   },
   {
    "duration": 437,
    "start_time": "2024-10-16T04:22:34.602Z"
   },
   {
    "duration": 161,
    "start_time": "2024-10-16T04:22:35.042Z"
   },
   {
    "duration": 39,
    "start_time": "2024-10-16T04:22:35.206Z"
   },
   {
    "duration": 8,
    "start_time": "2024-10-16T04:22:35.248Z"
   },
   {
    "duration": 8,
    "start_time": "2024-10-16T04:22:35.258Z"
   },
   {
    "duration": 729,
    "start_time": "2024-10-16T04:22:35.269Z"
   },
   {
    "duration": 17,
    "start_time": "2024-10-16T04:22:36.000Z"
   },
   {
    "duration": 33,
    "start_time": "2024-10-16T04:22:36.019Z"
   },
   {
    "duration": 116,
    "start_time": "2024-10-16T04:22:36.054Z"
   },
   {
    "duration": 17,
    "start_time": "2024-10-16T04:22:36.174Z"
   },
   {
    "duration": 102,
    "start_time": "2024-10-16T04:22:36.193Z"
   },
   {
    "duration": 80,
    "start_time": "2024-10-16T04:22:36.297Z"
   },
   {
    "duration": 29,
    "start_time": "2024-10-16T04:22:36.386Z"
   },
   {
    "duration": 12,
    "start_time": "2024-10-16T04:22:36.416Z"
   },
   {
    "duration": 3,
    "start_time": "2024-10-16T04:22:36.430Z"
   },
   {
    "duration": 25,
    "start_time": "2024-10-16T04:22:36.435Z"
   },
   {
    "duration": 11,
    "start_time": "2024-10-16T04:22:36.487Z"
   },
   {
    "duration": 3,
    "start_time": "2024-10-16T04:22:36.500Z"
   },
   {
    "duration": 8,
    "start_time": "2024-10-16T04:22:36.504Z"
   },
   {
    "duration": 6,
    "start_time": "2024-10-16T04:22:36.514Z"
   },
   {
    "duration": 3,
    "start_time": "2024-10-16T04:22:36.522Z"
   },
   {
    "duration": 789,
    "start_time": "2024-10-16T04:22:36.527Z"
   },
   {
    "duration": 683,
    "start_time": "2024-10-16T04:22:37.318Z"
   },
   {
    "duration": 8,
    "start_time": "2024-10-16T04:22:38.005Z"
   },
   {
    "duration": 8,
    "start_time": "2024-10-16T04:22:38.015Z"
   },
   {
    "duration": 7,
    "start_time": "2024-10-16T04:22:38.025Z"
   },
   {
    "duration": 6,
    "start_time": "2024-10-16T04:22:38.034Z"
   },
   {
    "duration": 41,
    "start_time": "2024-10-16T04:22:38.045Z"
   },
   {
    "duration": 5,
    "start_time": "2024-10-16T04:22:38.088Z"
   },
   {
    "duration": 12,
    "start_time": "2024-10-16T04:22:38.095Z"
   },
   {
    "duration": 24,
    "start_time": "2024-10-16T04:22:38.109Z"
   },
   {
    "duration": 68,
    "start_time": "2024-10-16T04:22:38.135Z"
   },
   {
    "duration": 11,
    "start_time": "2024-10-16T04:22:38.204Z"
   },
   {
    "duration": 29,
    "start_time": "2024-10-16T04:22:38.217Z"
   },
   {
    "duration": 57,
    "start_time": "2024-10-16T04:22:38.248Z"
   },
   {
    "duration": 14,
    "start_time": "2024-10-16T04:22:38.306Z"
   },
   {
    "duration": 6,
    "start_time": "2024-10-16T04:22:38.322Z"
   },
   {
    "duration": 141,
    "start_time": "2024-10-16T04:22:38.330Z"
   },
   {
    "duration": 147,
    "start_time": "2024-10-16T04:22:38.473Z"
   },
   {
    "duration": 8,
    "start_time": "2024-10-16T04:22:38.623Z"
   },
   {
    "duration": 166,
    "start_time": "2024-10-16T04:22:38.632Z"
   },
   {
    "duration": 9,
    "start_time": "2024-10-16T04:22:38.800Z"
   },
   {
    "duration": 175,
    "start_time": "2024-10-16T04:22:38.811Z"
   },
   {
    "duration": 41,
    "start_time": "2024-10-16T04:22:38.988Z"
   },
   {
    "duration": 154,
    "start_time": "2024-10-16T04:22:39.033Z"
   },
   {
    "duration": 97,
    "start_time": "2024-10-16T04:22:39.189Z"
   },
   {
    "duration": 10,
    "start_time": "2024-10-16T04:22:39.288Z"
   },
   {
    "duration": 386,
    "start_time": "2024-10-16T04:22:39.300Z"
   },
   {
    "duration": 124,
    "start_time": "2024-10-16T04:22:39.690Z"
   },
   {
    "duration": 110,
    "start_time": "2024-10-16T04:22:39.816Z"
   },
   {
    "duration": 97,
    "start_time": "2024-10-16T04:22:39.927Z"
   },
   {
    "duration": 10,
    "start_time": "2024-10-16T04:22:40.026Z"
   },
   {
    "duration": 23,
    "start_time": "2024-10-16T04:22:40.038Z"
   },
   {
    "duration": 8,
    "start_time": "2024-10-16T04:22:40.063Z"
   },
   {
    "duration": 10,
    "start_time": "2024-10-16T04:22:40.087Z"
   },
   {
    "duration": 119,
    "start_time": "2024-10-16T04:23:01.841Z"
   },
   {
    "duration": 117,
    "start_time": "2024-10-16T04:23:17.652Z"
   },
   {
    "duration": 381,
    "start_time": "2024-10-16T04:23:32.433Z"
   },
   {
    "duration": 1233,
    "start_time": "2024-10-16T04:23:51.061Z"
   },
   {
    "duration": 315,
    "start_time": "2024-10-16T04:24:01.569Z"
   },
   {
    "duration": 333,
    "start_time": "2024-10-16T04:25:45.481Z"
   },
   {
    "duration": 332,
    "start_time": "2024-10-16T04:26:08.297Z"
   },
   {
    "duration": 402,
    "start_time": "2024-10-16T04:27:24.823Z"
   },
   {
    "duration": 317,
    "start_time": "2024-10-16T04:27:30.510Z"
   },
   {
    "duration": 288,
    "start_time": "2024-10-16T04:29:20.990Z"
   },
   {
    "duration": 373,
    "start_time": "2024-10-16T04:29:29.899Z"
   },
   {
    "duration": 288,
    "start_time": "2024-10-16T04:29:37.319Z"
   },
   {
    "duration": 335,
    "start_time": "2024-10-16T04:30:03.584Z"
   },
   {
    "duration": 297,
    "start_time": "2024-10-16T04:30:36.820Z"
   },
   {
    "duration": 329,
    "start_time": "2024-10-16T04:30:49.209Z"
   },
   {
    "duration": 321,
    "start_time": "2024-10-16T04:30:57.037Z"
   },
   {
    "duration": 342,
    "start_time": "2024-10-16T04:31:03.162Z"
   },
   {
    "duration": 331,
    "start_time": "2024-10-16T04:31:07.478Z"
   },
   {
    "duration": 4,
    "start_time": "2024-10-16T04:45:20.786Z"
   },
   {
    "duration": 5,
    "start_time": "2024-10-16T04:45:24.826Z"
   },
   {
    "duration": 13,
    "start_time": "2024-10-16T04:45:32.486Z"
   },
   {
    "duration": 46,
    "start_time": "2024-10-16T04:45:42.690Z"
   },
   {
    "duration": 52,
    "start_time": "2024-10-16T04:45:46.133Z"
   },
   {
    "duration": 41,
    "start_time": "2024-10-16T04:45:53.918Z"
   },
   {
    "duration": 16,
    "start_time": "2024-10-16T04:48:56.317Z"
   },
   {
    "duration": 3,
    "start_time": "2024-10-16T04:48:59.488Z"
   },
   {
    "duration": 5,
    "start_time": "2024-10-16T04:49:05.437Z"
   },
   {
    "duration": 39,
    "start_time": "2024-10-16T04:49:27.315Z"
   },
   {
    "duration": 146,
    "start_time": "2024-10-16T04:49:28.974Z"
   },
   {
    "duration": 76,
    "start_time": "2024-10-16T04:49:39.897Z"
   },
   {
    "duration": 3,
    "start_time": "2024-10-16T04:49:42.657Z"
   },
   {
    "duration": 396,
    "start_time": "2024-10-16T04:50:26.452Z"
   },
   {
    "duration": 179,
    "start_time": "2024-10-16T04:50:26.849Z"
   },
   {
    "duration": 49,
    "start_time": "2024-10-16T04:50:27.030Z"
   },
   {
    "duration": 10,
    "start_time": "2024-10-16T04:50:27.087Z"
   },
   {
    "duration": 11,
    "start_time": "2024-10-16T04:50:27.101Z"
   },
   {
    "duration": 783,
    "start_time": "2024-10-16T04:50:27.113Z"
   },
   {
    "duration": 23,
    "start_time": "2024-10-16T04:50:27.898Z"
   },
   {
    "duration": 38,
    "start_time": "2024-10-16T04:50:27.923Z"
   },
   {
    "duration": 140,
    "start_time": "2024-10-16T04:50:27.966Z"
   },
   {
    "duration": 11,
    "start_time": "2024-10-16T04:50:28.107Z"
   },
   {
    "duration": 120,
    "start_time": "2024-10-16T04:50:28.123Z"
   },
   {
    "duration": 101,
    "start_time": "2024-10-16T04:50:28.245Z"
   },
   {
    "duration": 38,
    "start_time": "2024-10-16T04:50:28.349Z"
   },
   {
    "duration": 14,
    "start_time": "2024-10-16T04:50:28.391Z"
   },
   {
    "duration": 3,
    "start_time": "2024-10-16T04:50:28.407Z"
   },
   {
    "duration": 24,
    "start_time": "2024-10-16T04:50:28.412Z"
   },
   {
    "duration": 12,
    "start_time": "2024-10-16T04:50:28.437Z"
   },
   {
    "duration": 3,
    "start_time": "2024-10-16T04:50:28.452Z"
   },
   {
    "duration": 8,
    "start_time": "2024-10-16T04:50:28.487Z"
   },
   {
    "duration": 8,
    "start_time": "2024-10-16T04:50:28.496Z"
   },
   {
    "duration": 4,
    "start_time": "2024-10-16T04:50:28.506Z"
   },
   {
    "duration": 799,
    "start_time": "2024-10-16T04:50:28.512Z"
   },
   {
    "duration": 694,
    "start_time": "2024-10-16T04:50:29.313Z"
   },
   {
    "duration": 6,
    "start_time": "2024-10-16T04:50:30.009Z"
   },
   {
    "duration": 9,
    "start_time": "2024-10-16T04:50:30.016Z"
   },
   {
    "duration": 8,
    "start_time": "2024-10-16T04:50:30.026Z"
   },
   {
    "duration": 6,
    "start_time": "2024-10-16T04:50:30.035Z"
   },
   {
    "duration": 10,
    "start_time": "2024-10-16T04:50:30.043Z"
   },
   {
    "duration": 6,
    "start_time": "2024-10-16T04:50:30.087Z"
   },
   {
    "duration": 15,
    "start_time": "2024-10-16T04:50:30.094Z"
   },
   {
    "duration": 15,
    "start_time": "2024-10-16T04:50:30.111Z"
   },
   {
    "duration": 73,
    "start_time": "2024-10-16T04:50:30.128Z"
   },
   {
    "duration": 11,
    "start_time": "2024-10-16T04:50:30.203Z"
   },
   {
    "duration": 30,
    "start_time": "2024-10-16T04:50:30.216Z"
   },
   {
    "duration": 54,
    "start_time": "2024-10-16T04:50:30.248Z"
   },
   {
    "duration": 13,
    "start_time": "2024-10-16T04:50:30.304Z"
   },
   {
    "duration": 6,
    "start_time": "2024-10-16T04:50:30.319Z"
   },
   {
    "duration": 145,
    "start_time": "2024-10-16T04:50:30.326Z"
   },
   {
    "duration": 156,
    "start_time": "2024-10-16T04:50:30.473Z"
   },
   {
    "duration": 9,
    "start_time": "2024-10-16T04:50:30.631Z"
   },
   {
    "duration": 167,
    "start_time": "2024-10-16T04:50:30.645Z"
   },
   {
    "duration": 8,
    "start_time": "2024-10-16T04:50:30.814Z"
   },
   {
    "duration": 173,
    "start_time": "2024-10-16T04:50:30.824Z"
   },
   {
    "duration": 38,
    "start_time": "2024-10-16T04:50:30.999Z"
   },
   {
    "duration": 160,
    "start_time": "2024-10-16T04:50:31.038Z"
   },
   {
    "duration": 199,
    "start_time": "2024-10-16T04:50:31.200Z"
   },
   {
    "duration": 0,
    "start_time": "2024-10-16T04:50:31.401Z"
   },
   {
    "duration": 0,
    "start_time": "2024-10-16T04:50:31.402Z"
   },
   {
    "duration": 0,
    "start_time": "2024-10-16T04:50:31.404Z"
   },
   {
    "duration": 0,
    "start_time": "2024-10-16T04:50:31.405Z"
   },
   {
    "duration": 0,
    "start_time": "2024-10-16T04:50:31.406Z"
   },
   {
    "duration": 0,
    "start_time": "2024-10-16T04:50:31.407Z"
   },
   {
    "duration": 0,
    "start_time": "2024-10-16T04:50:31.408Z"
   },
   {
    "duration": 0,
    "start_time": "2024-10-16T04:50:31.410Z"
   },
   {
    "duration": 0,
    "start_time": "2024-10-16T04:50:31.410Z"
   },
   {
    "duration": 0,
    "start_time": "2024-10-16T04:50:31.411Z"
   },
   {
    "duration": 3,
    "start_time": "2024-10-16T04:51:04.016Z"
   },
   {
    "duration": 441,
    "start_time": "2024-10-16T04:51:31.093Z"
   },
   {
    "duration": 162,
    "start_time": "2024-10-16T04:51:31.536Z"
   },
   {
    "duration": 41,
    "start_time": "2024-10-16T04:51:31.700Z"
   },
   {
    "duration": 9,
    "start_time": "2024-10-16T04:51:31.744Z"
   },
   {
    "duration": 7,
    "start_time": "2024-10-16T04:51:31.755Z"
   },
   {
    "duration": 823,
    "start_time": "2024-10-16T04:51:31.764Z"
   },
   {
    "duration": 17,
    "start_time": "2024-10-16T04:51:32.589Z"
   },
   {
    "duration": 34,
    "start_time": "2024-10-16T04:51:32.608Z"
   },
   {
    "duration": 108,
    "start_time": "2024-10-16T04:51:32.644Z"
   },
   {
    "duration": 13,
    "start_time": "2024-10-16T04:51:32.756Z"
   },
   {
    "duration": 109,
    "start_time": "2024-10-16T04:51:32.770Z"
   },
   {
    "duration": 82,
    "start_time": "2024-10-16T04:51:32.880Z"
   },
   {
    "duration": 38,
    "start_time": "2024-10-16T04:51:32.964Z"
   },
   {
    "duration": 13,
    "start_time": "2024-10-16T04:51:33.004Z"
   },
   {
    "duration": 3,
    "start_time": "2024-10-16T04:51:33.019Z"
   },
   {
    "duration": 23,
    "start_time": "2024-10-16T04:51:33.025Z"
   },
   {
    "duration": 11,
    "start_time": "2024-10-16T04:51:33.050Z"
   },
   {
    "duration": 29,
    "start_time": "2024-10-16T04:51:33.062Z"
   },
   {
    "duration": 9,
    "start_time": "2024-10-16T04:51:33.092Z"
   },
   {
    "duration": 13,
    "start_time": "2024-10-16T04:51:33.102Z"
   },
   {
    "duration": 6,
    "start_time": "2024-10-16T04:51:33.116Z"
   },
   {
    "duration": 829,
    "start_time": "2024-10-16T04:51:33.126Z"
   },
   {
    "duration": 741,
    "start_time": "2024-10-16T04:51:33.957Z"
   },
   {
    "duration": 5,
    "start_time": "2024-10-16T04:51:34.700Z"
   },
   {
    "duration": 8,
    "start_time": "2024-10-16T04:51:34.707Z"
   },
   {
    "duration": 7,
    "start_time": "2024-10-16T04:51:34.717Z"
   },
   {
    "duration": 7,
    "start_time": "2024-10-16T04:51:34.726Z"
   },
   {
    "duration": 11,
    "start_time": "2024-10-16T04:51:34.738Z"
   },
   {
    "duration": 41,
    "start_time": "2024-10-16T04:51:34.750Z"
   },
   {
    "duration": 13,
    "start_time": "2024-10-16T04:51:34.792Z"
   },
   {
    "duration": 15,
    "start_time": "2024-10-16T04:51:34.806Z"
   },
   {
    "duration": 75,
    "start_time": "2024-10-16T04:51:34.823Z"
   },
   {
    "duration": 12,
    "start_time": "2024-10-16T04:51:34.900Z"
   },
   {
    "duration": 29,
    "start_time": "2024-10-16T04:51:34.913Z"
   },
   {
    "duration": 54,
    "start_time": "2024-10-16T04:51:34.944Z"
   },
   {
    "duration": 14,
    "start_time": "2024-10-16T04:51:35.000Z"
   },
   {
    "duration": 7,
    "start_time": "2024-10-16T04:51:35.015Z"
   },
   {
    "duration": 147,
    "start_time": "2024-10-16T04:51:35.025Z"
   },
   {
    "duration": 150,
    "start_time": "2024-10-16T04:51:35.174Z"
   },
   {
    "duration": 9,
    "start_time": "2024-10-16T04:51:35.326Z"
   },
   {
    "duration": 162,
    "start_time": "2024-10-16T04:51:35.336Z"
   },
   {
    "duration": 9,
    "start_time": "2024-10-16T04:51:35.499Z"
   },
   {
    "duration": 184,
    "start_time": "2024-10-16T04:51:35.510Z"
   },
   {
    "duration": 3,
    "start_time": "2024-10-16T04:51:35.696Z"
   },
   {
    "duration": 396,
    "start_time": "2024-10-16T04:54:11.674Z"
   },
   {
    "duration": 178,
    "start_time": "2024-10-16T04:54:12.072Z"
   },
   {
    "duration": 47,
    "start_time": "2024-10-16T04:54:12.252Z"
   },
   {
    "duration": 7,
    "start_time": "2024-10-16T04:54:12.302Z"
   },
   {
    "duration": 7,
    "start_time": "2024-10-16T04:54:12.311Z"
   },
   {
    "duration": 733,
    "start_time": "2024-10-16T04:54:12.319Z"
   },
   {
    "duration": 17,
    "start_time": "2024-10-16T04:54:13.054Z"
   },
   {
    "duration": 41,
    "start_time": "2024-10-16T04:54:13.073Z"
   },
   {
    "duration": 127,
    "start_time": "2024-10-16T04:54:13.116Z"
   },
   {
    "duration": 9,
    "start_time": "2024-10-16T04:54:13.246Z"
   },
   {
    "duration": 112,
    "start_time": "2024-10-16T04:54:13.258Z"
   },
   {
    "duration": 95,
    "start_time": "2024-10-16T04:54:13.372Z"
   },
   {
    "duration": 38,
    "start_time": "2024-10-16T04:54:13.469Z"
   },
   {
    "duration": 11,
    "start_time": "2024-10-16T04:54:13.509Z"
   },
   {
    "duration": 3,
    "start_time": "2024-10-16T04:54:13.522Z"
   },
   {
    "duration": 22,
    "start_time": "2024-10-16T04:54:13.527Z"
   },
   {
    "duration": 37,
    "start_time": "2024-10-16T04:54:13.551Z"
   },
   {
    "duration": 6,
    "start_time": "2024-10-16T04:54:13.590Z"
   },
   {
    "duration": 8,
    "start_time": "2024-10-16T04:54:13.598Z"
   },
   {
    "duration": 7,
    "start_time": "2024-10-16T04:54:13.608Z"
   },
   {
    "duration": 4,
    "start_time": "2024-10-16T04:54:13.616Z"
   },
   {
    "duration": 786,
    "start_time": "2024-10-16T04:54:13.622Z"
   },
   {
    "duration": 696,
    "start_time": "2024-10-16T04:54:14.409Z"
   },
   {
    "duration": 6,
    "start_time": "2024-10-16T04:54:15.107Z"
   },
   {
    "duration": 8,
    "start_time": "2024-10-16T04:54:15.115Z"
   },
   {
    "duration": 7,
    "start_time": "2024-10-16T04:54:15.124Z"
   },
   {
    "duration": 7,
    "start_time": "2024-10-16T04:54:15.133Z"
   },
   {
    "duration": 10,
    "start_time": "2024-10-16T04:54:15.145Z"
   },
   {
    "duration": 5,
    "start_time": "2024-10-16T04:54:15.186Z"
   },
   {
    "duration": 13,
    "start_time": "2024-10-16T04:54:15.192Z"
   },
   {
    "duration": 14,
    "start_time": "2024-10-16T04:54:15.207Z"
   },
   {
    "duration": 77,
    "start_time": "2024-10-16T04:54:15.223Z"
   },
   {
    "duration": 12,
    "start_time": "2024-10-16T04:54:15.302Z"
   },
   {
    "duration": 30,
    "start_time": "2024-10-16T04:54:15.316Z"
   },
   {
    "duration": 55,
    "start_time": "2024-10-16T04:54:15.348Z"
   },
   {
    "duration": 14,
    "start_time": "2024-10-16T04:54:15.405Z"
   },
   {
    "duration": 7,
    "start_time": "2024-10-16T04:54:15.421Z"
   },
   {
    "duration": 146,
    "start_time": "2024-10-16T04:54:15.430Z"
   },
   {
    "duration": 150,
    "start_time": "2024-10-16T04:54:15.577Z"
   },
   {
    "duration": 8,
    "start_time": "2024-10-16T04:54:15.729Z"
   },
   {
    "duration": 163,
    "start_time": "2024-10-16T04:54:15.740Z"
   },
   {
    "duration": 9,
    "start_time": "2024-10-16T04:54:15.905Z"
   },
   {
    "duration": 179,
    "start_time": "2024-10-16T04:54:15.916Z"
   },
   {
    "duration": 3,
    "start_time": "2024-10-16T04:54:16.097Z"
   },
   {
    "duration": 447,
    "start_time": "2024-10-16T05:02:02.704Z"
   },
   {
    "duration": 179,
    "start_time": "2024-10-16T05:02:03.154Z"
   },
   {
    "duration": 42,
    "start_time": "2024-10-16T05:02:03.335Z"
   },
   {
    "duration": 10,
    "start_time": "2024-10-16T05:02:03.387Z"
   },
   {
    "duration": 8,
    "start_time": "2024-10-16T05:02:03.400Z"
   },
   {
    "duration": 761,
    "start_time": "2024-10-16T05:02:03.409Z"
   },
   {
    "duration": 25,
    "start_time": "2024-10-16T05:02:04.172Z"
   },
   {
    "duration": 32,
    "start_time": "2024-10-16T05:02:04.199Z"
   },
   {
    "duration": 96,
    "start_time": "2024-10-16T05:02:04.232Z"
   },
   {
    "duration": 9,
    "start_time": "2024-10-16T05:02:04.332Z"
   },
   {
    "duration": 106,
    "start_time": "2024-10-16T05:02:04.342Z"
   },
   {
    "duration": 87,
    "start_time": "2024-10-16T05:02:04.450Z"
   },
   {
    "duration": 26,
    "start_time": "2024-10-16T05:02:04.539Z"
   },
   {
    "duration": 24,
    "start_time": "2024-10-16T05:02:04.567Z"
   },
   {
    "duration": 2,
    "start_time": "2024-10-16T05:02:04.593Z"
   },
   {
    "duration": 24,
    "start_time": "2024-10-16T05:02:04.597Z"
   },
   {
    "duration": 11,
    "start_time": "2024-10-16T05:02:04.622Z"
   },
   {
    "duration": 4,
    "start_time": "2024-10-16T05:02:04.634Z"
   },
   {
    "duration": 7,
    "start_time": "2024-10-16T05:02:04.640Z"
   },
   {
    "duration": 44,
    "start_time": "2024-10-16T05:02:04.648Z"
   },
   {
    "duration": 4,
    "start_time": "2024-10-16T05:02:04.694Z"
   },
   {
    "duration": 771,
    "start_time": "2024-10-16T05:02:04.700Z"
   },
   {
    "duration": 676,
    "start_time": "2024-10-16T05:02:05.473Z"
   },
   {
    "duration": 6,
    "start_time": "2024-10-16T05:02:06.151Z"
   },
   {
    "duration": 8,
    "start_time": "2024-10-16T05:02:06.158Z"
   },
   {
    "duration": 22,
    "start_time": "2024-10-16T05:02:06.168Z"
   },
   {
    "duration": 7,
    "start_time": "2024-10-16T05:02:06.193Z"
   },
   {
    "duration": 11,
    "start_time": "2024-10-16T05:02:06.205Z"
   },
   {
    "duration": 5,
    "start_time": "2024-10-16T05:02:06.218Z"
   },
   {
    "duration": 13,
    "start_time": "2024-10-16T05:02:06.224Z"
   },
   {
    "duration": 47,
    "start_time": "2024-10-16T05:02:06.239Z"
   },
   {
    "duration": 50,
    "start_time": "2024-10-16T05:02:06.289Z"
   },
   {
    "duration": 11,
    "start_time": "2024-10-16T05:02:06.341Z"
   },
   {
    "duration": 50,
    "start_time": "2024-10-16T05:02:06.353Z"
   },
   {
    "duration": 36,
    "start_time": "2024-10-16T05:02:06.404Z"
   },
   {
    "duration": 14,
    "start_time": "2024-10-16T05:02:06.441Z"
   },
   {
    "duration": 31,
    "start_time": "2024-10-16T05:02:06.458Z"
   },
   {
    "duration": 132,
    "start_time": "2024-10-16T05:02:06.491Z"
   },
   {
    "duration": 152,
    "start_time": "2024-10-16T05:02:06.624Z"
   },
   {
    "duration": 14,
    "start_time": "2024-10-16T05:02:06.778Z"
   },
   {
    "duration": 165,
    "start_time": "2024-10-16T05:02:06.793Z"
   },
   {
    "duration": 9,
    "start_time": "2024-10-16T05:02:06.961Z"
   },
   {
    "duration": 181,
    "start_time": "2024-10-16T05:02:06.972Z"
   },
   {
    "duration": 48,
    "start_time": "2024-10-16T05:02:07.154Z"
   },
   {
    "duration": 104,
    "start_time": "2024-10-16T05:02:07.203Z"
   },
   {
    "duration": 189,
    "start_time": "2024-10-16T05:02:07.310Z"
   },
   {
    "duration": 0,
    "start_time": "2024-10-16T05:02:07.501Z"
   },
   {
    "duration": 0,
    "start_time": "2024-10-16T05:02:07.502Z"
   },
   {
    "duration": 0,
    "start_time": "2024-10-16T05:02:07.504Z"
   },
   {
    "duration": 0,
    "start_time": "2024-10-16T05:02:07.505Z"
   },
   {
    "duration": 0,
    "start_time": "2024-10-16T05:02:07.506Z"
   },
   {
    "duration": 0,
    "start_time": "2024-10-16T05:02:07.507Z"
   },
   {
    "duration": 0,
    "start_time": "2024-10-16T05:02:07.508Z"
   },
   {
    "duration": 0,
    "start_time": "2024-10-16T05:02:07.509Z"
   },
   {
    "duration": 0,
    "start_time": "2024-10-16T05:02:07.510Z"
   },
   {
    "duration": 0,
    "start_time": "2024-10-16T05:02:07.511Z"
   },
   {
    "duration": 102,
    "start_time": "2024-10-16T05:02:20.725Z"
   },
   {
    "duration": 204,
    "start_time": "2024-10-16T05:02:27.837Z"
   },
   {
    "duration": 144,
    "start_time": "2024-10-16T05:02:42.312Z"
   },
   {
    "duration": 5,
    "start_time": "2024-10-16T05:03:04.235Z"
   },
   {
    "duration": 7,
    "start_time": "2024-10-16T05:03:07.829Z"
   },
   {
    "duration": 8,
    "start_time": "2024-10-16T05:03:52.783Z"
   },
   {
    "duration": 9,
    "start_time": "2024-10-16T05:03:55.695Z"
   },
   {
    "duration": 6,
    "start_time": "2024-10-16T05:04:06.659Z"
   },
   {
    "duration": 3,
    "start_time": "2024-10-16T05:05:03.256Z"
   },
   {
    "duration": 128,
    "start_time": "2024-10-16T05:05:03.261Z"
   },
   {
    "duration": 34,
    "start_time": "2024-10-16T05:05:03.391Z"
   },
   {
    "duration": 9,
    "start_time": "2024-10-16T05:05:03.427Z"
   },
   {
    "duration": 8,
    "start_time": "2024-10-16T05:05:03.439Z"
   },
   {
    "duration": 752,
    "start_time": "2024-10-16T05:05:03.449Z"
   },
   {
    "duration": 16,
    "start_time": "2024-10-16T05:05:04.204Z"
   },
   {
    "duration": 34,
    "start_time": "2024-10-16T05:05:04.222Z"
   },
   {
    "duration": 87,
    "start_time": "2024-10-16T05:05:04.259Z"
   },
   {
    "duration": 9,
    "start_time": "2024-10-16T05:05:04.349Z"
   },
   {
    "duration": 99,
    "start_time": "2024-10-16T05:05:04.360Z"
   },
   {
    "duration": 81,
    "start_time": "2024-10-16T05:05:04.461Z"
   },
   {
    "duration": 21,
    "start_time": "2024-10-16T05:05:04.544Z"
   },
   {
    "duration": 20,
    "start_time": "2024-10-16T05:05:04.569Z"
   },
   {
    "duration": 4,
    "start_time": "2024-10-16T05:05:04.590Z"
   },
   {
    "duration": 24,
    "start_time": "2024-10-16T05:05:04.595Z"
   },
   {
    "duration": 15,
    "start_time": "2024-10-16T05:05:04.621Z"
   },
   {
    "duration": 4,
    "start_time": "2024-10-16T05:05:04.638Z"
   },
   {
    "duration": 49,
    "start_time": "2024-10-16T05:05:04.644Z"
   },
   {
    "duration": 9,
    "start_time": "2024-10-16T05:05:04.694Z"
   },
   {
    "duration": 3,
    "start_time": "2024-10-16T05:05:04.705Z"
   },
   {
    "duration": 732,
    "start_time": "2024-10-16T05:05:04.710Z"
   },
   {
    "duration": 633,
    "start_time": "2024-10-16T05:05:05.443Z"
   },
   {
    "duration": 9,
    "start_time": "2024-10-16T05:05:06.078Z"
   },
   {
    "duration": 9,
    "start_time": "2024-10-16T05:05:06.089Z"
   },
   {
    "duration": 8,
    "start_time": "2024-10-16T05:05:06.099Z"
   },
   {
    "duration": 8,
    "start_time": "2024-10-16T05:05:06.110Z"
   },
   {
    "duration": 11,
    "start_time": "2024-10-16T05:05:06.120Z"
   },
   {
    "duration": 6,
    "start_time": "2024-10-16T05:05:06.132Z"
   },
   {
    "duration": 58,
    "start_time": "2024-10-16T05:05:06.139Z"
   },
   {
    "duration": 14,
    "start_time": "2024-10-16T05:05:06.199Z"
   },
   {
    "duration": 50,
    "start_time": "2024-10-16T05:05:06.215Z"
   },
   {
    "duration": 13,
    "start_time": "2024-10-16T05:05:06.286Z"
   },
   {
    "duration": 28,
    "start_time": "2024-10-16T05:05:06.300Z"
   },
   {
    "duration": 59,
    "start_time": "2024-10-16T05:05:06.330Z"
   },
   {
    "duration": 15,
    "start_time": "2024-10-16T05:05:06.391Z"
   },
   {
    "duration": 7,
    "start_time": "2024-10-16T05:05:06.409Z"
   },
   {
    "duration": 137,
    "start_time": "2024-10-16T05:05:06.418Z"
   },
   {
    "duration": 150,
    "start_time": "2024-10-16T05:05:06.557Z"
   },
   {
    "duration": 9,
    "start_time": "2024-10-16T05:05:06.709Z"
   },
   {
    "duration": 175,
    "start_time": "2024-10-16T05:05:06.724Z"
   },
   {
    "duration": 9,
    "start_time": "2024-10-16T05:05:06.901Z"
   },
   {
    "duration": 178,
    "start_time": "2024-10-16T05:05:06.912Z"
   },
   {
    "duration": 39,
    "start_time": "2024-10-16T05:05:07.092Z"
   },
   {
    "duration": 166,
    "start_time": "2024-10-16T05:05:07.133Z"
   },
   {
    "duration": 4,
    "start_time": "2024-10-16T05:05:07.300Z"
   },
   {
    "duration": 104,
    "start_time": "2024-10-16T05:05:07.306Z"
   },
   {
    "duration": 10,
    "start_time": "2024-10-16T05:05:07.412Z"
   },
   {
    "duration": 344,
    "start_time": "2024-10-16T05:05:07.423Z"
   },
   {
    "duration": 340,
    "start_time": "2024-10-16T05:05:07.769Z"
   },
   {
    "duration": 121,
    "start_time": "2024-10-16T05:05:08.111Z"
   },
   {
    "duration": 93,
    "start_time": "2024-10-16T05:05:08.234Z"
   },
   {
    "duration": 9,
    "start_time": "2024-10-16T05:05:08.329Z"
   },
   {
    "duration": 24,
    "start_time": "2024-10-16T05:05:08.340Z"
   },
   {
    "duration": 10,
    "start_time": "2024-10-16T05:05:08.386Z"
   },
   {
    "duration": 10,
    "start_time": "2024-10-16T05:05:08.397Z"
   },
   {
    "duration": 13,
    "start_time": "2024-10-16T05:06:11.913Z"
   },
   {
    "duration": 2233,
    "start_time": "2024-10-16T05:06:14.448Z"
   },
   {
    "duration": 108,
    "start_time": "2024-10-16T05:07:09.206Z"
   },
   {
    "duration": 158,
    "start_time": "2024-10-16T05:07:10.632Z"
   },
   {
    "duration": 3,
    "start_time": "2024-10-16T05:07:17.917Z"
   },
   {
    "duration": 0,
    "start_time": "2024-10-16T05:07:54.889Z"
   },
   {
    "duration": 0,
    "start_time": "2024-10-16T05:07:54.893Z"
   },
   {
    "duration": 49765,
    "start_time": "2024-10-16T05:08:00.486Z"
   },
   {
    "duration": 327,
    "start_time": "2024-10-16T05:10:35.108Z"
   },
   {
    "duration": 0,
    "start_time": "2024-10-16T05:11:45.686Z"
   },
   {
    "duration": 0,
    "start_time": "2024-10-16T05:11:45.688Z"
   },
   {
    "duration": 38,
    "start_time": "2024-10-16T05:11:47.120Z"
   },
   {
    "duration": 0,
    "start_time": "2024-10-16T05:13:57.532Z"
   },
   {
    "duration": 2,
    "start_time": "2024-10-16T05:14:17.935Z"
   },
   {
    "duration": 0,
    "start_time": "2024-10-16T05:16:42.793Z"
   },
   {
    "duration": 12,
    "start_time": "2024-10-16T05:16:46.914Z"
   },
   {
    "duration": 448,
    "start_time": "2024-10-16T05:16:59.720Z"
   },
   {
    "duration": 185,
    "start_time": "2024-10-16T05:17:00.170Z"
   },
   {
    "duration": 57,
    "start_time": "2024-10-16T05:17:00.358Z"
   },
   {
    "duration": 9,
    "start_time": "2024-10-16T05:17:00.417Z"
   },
   {
    "duration": 9,
    "start_time": "2024-10-16T05:17:00.428Z"
   },
   {
    "duration": 807,
    "start_time": "2024-10-16T05:17:00.439Z"
   },
   {
    "duration": 17,
    "start_time": "2024-10-16T05:17:01.249Z"
   },
   {
    "duration": 48,
    "start_time": "2024-10-16T05:17:01.268Z"
   },
   {
    "duration": 102,
    "start_time": "2024-10-16T05:17:01.318Z"
   },
   {
    "duration": 10,
    "start_time": "2024-10-16T05:17:01.425Z"
   },
   {
    "duration": 125,
    "start_time": "2024-10-16T05:17:01.437Z"
   },
   {
    "duration": 100,
    "start_time": "2024-10-16T05:17:01.563Z"
   },
   {
    "duration": 35,
    "start_time": "2024-10-16T05:17:01.665Z"
   },
   {
    "duration": 11,
    "start_time": "2024-10-16T05:17:01.702Z"
   },
   {
    "duration": 3,
    "start_time": "2024-10-16T05:17:01.715Z"
   },
   {
    "duration": 24,
    "start_time": "2024-10-16T05:17:01.720Z"
   },
   {
    "duration": 40,
    "start_time": "2024-10-16T05:17:01.747Z"
   },
   {
    "duration": 4,
    "start_time": "2024-10-16T05:17:01.789Z"
   },
   {
    "duration": 8,
    "start_time": "2024-10-16T05:17:01.794Z"
   },
   {
    "duration": 7,
    "start_time": "2024-10-16T05:17:01.805Z"
   },
   {
    "duration": 4,
    "start_time": "2024-10-16T05:17:01.813Z"
   },
   {
    "duration": 782,
    "start_time": "2024-10-16T05:17:01.819Z"
   },
   {
    "duration": 722,
    "start_time": "2024-10-16T05:17:02.603Z"
   },
   {
    "duration": 7,
    "start_time": "2024-10-16T05:17:03.328Z"
   },
   {
    "duration": 8,
    "start_time": "2024-10-16T05:17:03.336Z"
   },
   {
    "duration": 7,
    "start_time": "2024-10-16T05:17:03.346Z"
   },
   {
    "duration": 37,
    "start_time": "2024-10-16T05:17:03.355Z"
   },
   {
    "duration": 12,
    "start_time": "2024-10-16T05:17:03.398Z"
   },
   {
    "duration": 5,
    "start_time": "2024-10-16T05:17:03.412Z"
   },
   {
    "duration": 13,
    "start_time": "2024-10-16T05:17:03.419Z"
   },
   {
    "duration": 16,
    "start_time": "2024-10-16T05:17:03.433Z"
   },
   {
    "duration": 84,
    "start_time": "2024-10-16T05:17:03.451Z"
   },
   {
    "duration": 14,
    "start_time": "2024-10-16T05:17:03.539Z"
   },
   {
    "duration": 53,
    "start_time": "2024-10-16T05:17:03.555Z"
   },
   {
    "duration": 35,
    "start_time": "2024-10-16T05:17:03.610Z"
   },
   {
    "duration": 15,
    "start_time": "2024-10-16T05:17:03.646Z"
   },
   {
    "duration": 10,
    "start_time": "2024-10-16T05:17:03.687Z"
   },
   {
    "duration": 138,
    "start_time": "2024-10-16T05:17:03.700Z"
   },
   {
    "duration": 155,
    "start_time": "2024-10-16T05:17:03.841Z"
   },
   {
    "duration": 10,
    "start_time": "2024-10-16T05:17:03.998Z"
   },
   {
    "duration": 167,
    "start_time": "2024-10-16T05:17:04.010Z"
   },
   {
    "duration": 8,
    "start_time": "2024-10-16T05:17:04.187Z"
   },
   {
    "duration": 177,
    "start_time": "2024-10-16T05:17:04.197Z"
   },
   {
    "duration": 3,
    "start_time": "2024-10-16T05:17:04.375Z"
   },
   {
    "duration": 708,
    "start_time": "2024-10-16T05:17:04.380Z"
   },
   {
    "duration": 5,
    "start_time": "2024-10-16T05:17:05.090Z"
   },
   {
    "duration": 0,
    "start_time": "2024-10-16T05:17:05.097Z"
   },
   {
    "duration": 0,
    "start_time": "2024-10-16T05:17:05.098Z"
   },
   {
    "duration": 0,
    "start_time": "2024-10-16T05:17:05.099Z"
   },
   {
    "duration": 0,
    "start_time": "2024-10-16T05:17:05.100Z"
   },
   {
    "duration": 0,
    "start_time": "2024-10-16T05:17:05.102Z"
   },
   {
    "duration": 0,
    "start_time": "2024-10-16T05:17:05.103Z"
   },
   {
    "duration": 0,
    "start_time": "2024-10-16T05:17:05.104Z"
   },
   {
    "duration": 0,
    "start_time": "2024-10-16T05:17:05.105Z"
   },
   {
    "duration": 0,
    "start_time": "2024-10-16T05:17:05.106Z"
   },
   {
    "duration": 0,
    "start_time": "2024-10-16T05:17:05.107Z"
   },
   {
    "duration": 7,
    "start_time": "2024-10-16T05:17:32.336Z"
   },
   {
    "duration": 124,
    "start_time": "2024-10-16T05:17:42.890Z"
   },
   {
    "duration": 206,
    "start_time": "2024-10-16T05:18:03.973Z"
   },
   {
    "duration": 136,
    "start_time": "2024-10-16T05:18:12.261Z"
   },
   {
    "duration": 141,
    "start_time": "2024-10-16T05:19:08.787Z"
   },
   {
    "duration": 4,
    "start_time": "2024-10-16T05:19:50.221Z"
   },
   {
    "duration": 195,
    "start_time": "2024-10-16T05:20:20.809Z"
   },
   {
    "duration": 143,
    "start_time": "2024-10-16T05:20:29.376Z"
   },
   {
    "duration": 136,
    "start_time": "2024-10-16T05:20:40.642Z"
   },
   {
    "duration": 138,
    "start_time": "2024-10-16T05:20:44.401Z"
   },
   {
    "duration": 145,
    "start_time": "2024-10-16T05:21:15.605Z"
   },
   {
    "duration": 142,
    "start_time": "2024-10-16T05:21:20.948Z"
   },
   {
    "duration": 76,
    "start_time": "2024-10-16T05:25:21.505Z"
   },
   {
    "duration": 12,
    "start_time": "2024-10-16T05:25:23.172Z"
   },
   {
    "duration": 283,
    "start_time": "2024-10-16T05:25:30.413Z"
   },
   {
    "duration": 311,
    "start_time": "2024-10-16T05:25:32.151Z"
   },
   {
    "duration": 267,
    "start_time": "2024-10-16T05:26:01.264Z"
   },
   {
    "duration": 109,
    "start_time": "2024-10-16T05:26:06.083Z"
   },
   {
    "duration": 91,
    "start_time": "2024-10-16T05:26:07.407Z"
   },
   {
    "duration": 11,
    "start_time": "2024-10-16T05:26:08.935Z"
   },
   {
    "duration": 58,
    "start_time": "2024-10-16T05:27:02.522Z"
   },
   {
    "duration": 93,
    "start_time": "2024-10-16T05:27:04.788Z"
   },
   {
    "duration": 11,
    "start_time": "2024-10-16T05:27:06.212Z"
   },
   {
    "duration": 13,
    "start_time": "2024-10-16T05:27:17.072Z"
   },
   {
    "duration": 24,
    "start_time": "2024-10-16T05:27:19.584Z"
   },
   {
    "duration": 9,
    "start_time": "2024-10-16T05:27:20.967Z"
   },
   {
    "duration": 11,
    "start_time": "2024-10-16T05:27:22.384Z"
   },
   {
    "duration": 427,
    "start_time": "2024-10-16T05:39:24.127Z"
   },
   {
    "duration": 169,
    "start_time": "2024-10-16T05:39:24.560Z"
   },
   {
    "duration": 41,
    "start_time": "2024-10-16T05:39:24.731Z"
   },
   {
    "duration": 18,
    "start_time": "2024-10-16T05:39:24.775Z"
   },
   {
    "duration": 8,
    "start_time": "2024-10-16T05:39:24.794Z"
   },
   {
    "duration": 736,
    "start_time": "2024-10-16T05:39:24.803Z"
   },
   {
    "duration": 16,
    "start_time": "2024-10-16T05:39:25.541Z"
   },
   {
    "duration": 45,
    "start_time": "2024-10-16T05:39:25.560Z"
   },
   {
    "duration": 99,
    "start_time": "2024-10-16T05:39:25.608Z"
   },
   {
    "duration": 10,
    "start_time": "2024-10-16T05:39:25.711Z"
   },
   {
    "duration": 112,
    "start_time": "2024-10-16T05:39:25.724Z"
   },
   {
    "duration": 92,
    "start_time": "2024-10-16T05:39:25.838Z"
   },
   {
    "duration": 26,
    "start_time": "2024-10-16T05:39:25.931Z"
   },
   {
    "duration": 27,
    "start_time": "2024-10-16T05:39:25.959Z"
   },
   {
    "duration": 4,
    "start_time": "2024-10-16T05:39:25.988Z"
   },
   {
    "duration": 25,
    "start_time": "2024-10-16T05:39:25.994Z"
   },
   {
    "duration": 11,
    "start_time": "2024-10-16T05:39:26.020Z"
   },
   {
    "duration": 4,
    "start_time": "2024-10-16T05:39:26.032Z"
   },
   {
    "duration": 8,
    "start_time": "2024-10-16T05:39:26.037Z"
   },
   {
    "duration": 8,
    "start_time": "2024-10-16T05:39:26.086Z"
   },
   {
    "duration": 4,
    "start_time": "2024-10-16T05:39:26.095Z"
   },
   {
    "duration": 795,
    "start_time": "2024-10-16T05:39:26.101Z"
   },
   {
    "duration": 678,
    "start_time": "2024-10-16T05:39:26.898Z"
   },
   {
    "duration": 11,
    "start_time": "2024-10-16T05:39:27.578Z"
   },
   {
    "duration": 7,
    "start_time": "2024-10-16T05:39:27.591Z"
   },
   {
    "duration": 8,
    "start_time": "2024-10-16T05:39:27.600Z"
   },
   {
    "duration": 7,
    "start_time": "2024-10-16T05:39:27.610Z"
   },
   {
    "duration": 12,
    "start_time": "2024-10-16T05:39:27.620Z"
   },
   {
    "duration": 5,
    "start_time": "2024-10-16T05:39:27.633Z"
   },
   {
    "duration": 14,
    "start_time": "2024-10-16T05:39:27.686Z"
   },
   {
    "duration": 17,
    "start_time": "2024-10-16T05:39:27.703Z"
   },
   {
    "duration": 72,
    "start_time": "2024-10-16T05:39:27.722Z"
   },
   {
    "duration": 11,
    "start_time": "2024-10-16T05:39:27.796Z"
   },
   {
    "duration": 29,
    "start_time": "2024-10-16T05:39:27.809Z"
   },
   {
    "duration": 62,
    "start_time": "2024-10-16T05:39:27.840Z"
   },
   {
    "duration": 14,
    "start_time": "2024-10-16T05:39:27.904Z"
   },
   {
    "duration": 6,
    "start_time": "2024-10-16T05:39:27.920Z"
   },
   {
    "duration": 146,
    "start_time": "2024-10-16T05:39:27.927Z"
   },
   {
    "duration": 155,
    "start_time": "2024-10-16T05:39:28.086Z"
   },
   {
    "duration": 7,
    "start_time": "2024-10-16T05:39:28.243Z"
   },
   {
    "duration": 174,
    "start_time": "2024-10-16T05:39:28.252Z"
   },
   {
    "duration": 10,
    "start_time": "2024-10-16T05:39:28.428Z"
   },
   {
    "duration": 189,
    "start_time": "2024-10-16T05:39:28.440Z"
   },
   {
    "duration": 165,
    "start_time": "2024-10-16T05:39:28.630Z"
   },
   {
    "duration": 4,
    "start_time": "2024-10-16T05:39:28.797Z"
   },
   {
    "duration": 112,
    "start_time": "2024-10-16T05:39:28.803Z"
   },
   {
    "duration": 10,
    "start_time": "2024-10-16T05:39:28.917Z"
   },
   {
    "duration": 377,
    "start_time": "2024-10-16T05:39:28.928Z"
   },
   {
    "duration": 330,
    "start_time": "2024-10-16T05:39:29.307Z"
   },
   {
    "duration": 118,
    "start_time": "2024-10-16T05:39:29.639Z"
   },
   {
    "duration": 111,
    "start_time": "2024-10-16T05:39:29.759Z"
   },
   {
    "duration": 16,
    "start_time": "2024-10-16T05:39:29.871Z"
   },
   {
    "duration": 24,
    "start_time": "2024-10-16T05:39:29.889Z"
   },
   {
    "duration": 10,
    "start_time": "2024-10-16T05:39:29.916Z"
   },
   {
    "duration": 10,
    "start_time": "2024-10-16T05:39:29.928Z"
   },
   {
    "duration": 433,
    "start_time": "2024-10-16T05:43:14.312Z"
   },
   {
    "duration": 162,
    "start_time": "2024-10-16T05:43:14.747Z"
   },
   {
    "duration": 41,
    "start_time": "2024-10-16T05:43:14.911Z"
   },
   {
    "duration": 7,
    "start_time": "2024-10-16T05:43:14.954Z"
   },
   {
    "duration": 24,
    "start_time": "2024-10-16T05:43:14.963Z"
   },
   {
    "duration": 735,
    "start_time": "2024-10-16T05:43:14.989Z"
   },
   {
    "duration": 18,
    "start_time": "2024-10-16T05:43:15.725Z"
   },
   {
    "duration": 50,
    "start_time": "2024-10-16T05:43:15.745Z"
   },
   {
    "duration": 99,
    "start_time": "2024-10-16T05:43:15.798Z"
   },
   {
    "duration": 8,
    "start_time": "2024-10-16T05:43:15.901Z"
   },
   {
    "duration": 119,
    "start_time": "2024-10-16T05:43:15.911Z"
   },
   {
    "duration": 96,
    "start_time": "2024-10-16T05:43:16.031Z"
   },
   {
    "duration": 28,
    "start_time": "2024-10-16T05:43:16.129Z"
   },
   {
    "duration": 34,
    "start_time": "2024-10-16T05:43:16.159Z"
   },
   {
    "duration": 3,
    "start_time": "2024-10-16T05:43:16.195Z"
   },
   {
    "duration": 26,
    "start_time": "2024-10-16T05:43:16.200Z"
   },
   {
    "duration": 11,
    "start_time": "2024-10-16T05:43:16.228Z"
   },
   {
    "duration": 4,
    "start_time": "2024-10-16T05:43:16.241Z"
   },
   {
    "duration": 45,
    "start_time": "2024-10-16T05:43:16.246Z"
   },
   {
    "duration": 9,
    "start_time": "2024-10-16T05:43:16.293Z"
   },
   {
    "duration": 4,
    "start_time": "2024-10-16T05:43:16.304Z"
   },
   {
    "duration": 768,
    "start_time": "2024-10-16T05:43:16.310Z"
   },
   {
    "duration": 678,
    "start_time": "2024-10-16T05:43:17.080Z"
   },
   {
    "duration": 8,
    "start_time": "2024-10-16T05:43:17.760Z"
   },
   {
    "duration": 23,
    "start_time": "2024-10-16T05:43:17.770Z"
   },
   {
    "duration": 8,
    "start_time": "2024-10-16T05:43:17.794Z"
   },
   {
    "duration": 8,
    "start_time": "2024-10-16T05:43:17.803Z"
   },
   {
    "duration": 10,
    "start_time": "2024-10-16T05:43:17.816Z"
   },
   {
    "duration": 5,
    "start_time": "2024-10-16T05:43:17.828Z"
   },
   {
    "duration": 55,
    "start_time": "2024-10-16T05:43:17.834Z"
   },
   {
    "duration": 15,
    "start_time": "2024-10-16T05:43:17.890Z"
   },
   {
    "duration": 50,
    "start_time": "2024-10-16T05:43:17.907Z"
   },
   {
    "duration": 36,
    "start_time": "2024-10-16T05:43:17.959Z"
   },
   {
    "duration": 28,
    "start_time": "2024-10-16T05:43:17.996Z"
   },
   {
    "duration": 36,
    "start_time": "2024-10-16T05:43:18.027Z"
   },
   {
    "duration": 34,
    "start_time": "2024-10-16T05:43:18.064Z"
   },
   {
    "duration": 6,
    "start_time": "2024-10-16T05:43:18.100Z"
   },
   {
    "duration": 149,
    "start_time": "2024-10-16T05:43:18.107Z"
   },
   {
    "duration": 151,
    "start_time": "2024-10-16T05:43:18.258Z"
   },
   {
    "duration": 9,
    "start_time": "2024-10-16T05:43:18.411Z"
   },
   {
    "duration": 174,
    "start_time": "2024-10-16T05:43:18.421Z"
   },
   {
    "duration": 8,
    "start_time": "2024-10-16T05:43:18.597Z"
   },
   {
    "duration": 182,
    "start_time": "2024-10-16T05:43:18.607Z"
   },
   {
    "duration": 161,
    "start_time": "2024-10-16T05:43:18.791Z"
   },
   {
    "duration": 4,
    "start_time": "2024-10-16T05:43:18.954Z"
   },
   {
    "duration": 108,
    "start_time": "2024-10-16T05:43:18.960Z"
   },
   {
    "duration": 19,
    "start_time": "2024-10-16T05:43:19.069Z"
   },
   {
    "duration": 363,
    "start_time": "2024-10-16T05:43:19.089Z"
   },
   {
    "duration": 341,
    "start_time": "2024-10-16T05:43:19.454Z"
   },
   {
    "duration": 122,
    "start_time": "2024-10-16T05:43:19.797Z"
   },
   {
    "duration": 93,
    "start_time": "2024-10-16T05:43:19.920Z"
   },
   {
    "duration": 10,
    "start_time": "2024-10-16T05:43:20.015Z"
   },
   {
    "duration": 24,
    "start_time": "2024-10-16T05:43:20.027Z"
   },
   {
    "duration": 35,
    "start_time": "2024-10-16T05:43:20.053Z"
   },
   {
    "duration": 10,
    "start_time": "2024-10-16T05:43:20.090Z"
   },
   {
    "duration": 177,
    "start_time": "2024-10-16T08:11:26.156Z"
   },
   {
    "duration": 5,
    "start_time": "2024-10-16T08:11:35.356Z"
   },
   {
    "duration": 182,
    "start_time": "2024-10-16T08:12:28.496Z"
   },
   {
    "duration": 2123,
    "start_time": "2024-10-16T08:12:36.425Z"
   },
   {
    "duration": 152,
    "start_time": "2024-10-16T08:12:38.550Z"
   },
   {
    "duration": 56,
    "start_time": "2024-10-16T08:12:38.705Z"
   },
   {
    "duration": 10,
    "start_time": "2024-10-16T08:12:38.763Z"
   },
   {
    "duration": 9,
    "start_time": "2024-10-16T08:12:38.774Z"
   },
   {
    "duration": 796,
    "start_time": "2024-10-16T08:12:38.784Z"
   },
   {
    "duration": 25,
    "start_time": "2024-10-16T08:12:39.582Z"
   },
   {
    "duration": 32,
    "start_time": "2024-10-16T08:12:39.608Z"
   },
   {
    "duration": 96,
    "start_time": "2024-10-16T08:12:39.642Z"
   },
   {
    "duration": 9,
    "start_time": "2024-10-16T08:12:39.741Z"
   },
   {
    "duration": 108,
    "start_time": "2024-10-16T08:12:39.751Z"
   },
   {
    "duration": 87,
    "start_time": "2024-10-16T08:12:39.861Z"
   },
   {
    "duration": 25,
    "start_time": "2024-10-16T08:12:39.951Z"
   },
   {
    "duration": 11,
    "start_time": "2024-10-16T08:12:39.978Z"
   },
   {
    "duration": 3,
    "start_time": "2024-10-16T08:12:40.006Z"
   },
   {
    "duration": 24,
    "start_time": "2024-10-16T08:12:40.011Z"
   },
   {
    "duration": 11,
    "start_time": "2024-10-16T08:12:40.037Z"
   },
   {
    "duration": 9,
    "start_time": "2024-10-16T08:12:40.049Z"
   },
   {
    "duration": 4,
    "start_time": "2024-10-16T08:12:40.059Z"
   },
   {
    "duration": 3,
    "start_time": "2024-10-16T08:12:40.064Z"
   },
   {
    "duration": 8,
    "start_time": "2024-10-16T08:12:40.106Z"
   },
   {
    "duration": 8,
    "start_time": "2024-10-16T08:12:40.115Z"
   },
   {
    "duration": 4,
    "start_time": "2024-10-16T08:12:40.125Z"
   },
   {
    "duration": 776,
    "start_time": "2024-10-16T08:12:40.131Z"
   },
   {
    "duration": 721,
    "start_time": "2024-10-16T08:12:40.908Z"
   },
   {
    "duration": 6,
    "start_time": "2024-10-16T08:12:41.632Z"
   },
   {
    "duration": 8,
    "start_time": "2024-10-16T08:12:41.640Z"
   },
   {
    "duration": 8,
    "start_time": "2024-10-16T08:12:41.652Z"
   },
   {
    "duration": 7,
    "start_time": "2024-10-16T08:12:41.662Z"
   },
   {
    "duration": 46,
    "start_time": "2024-10-16T08:12:41.671Z"
   },
   {
    "duration": 5,
    "start_time": "2024-10-16T08:12:41.719Z"
   },
   {
    "duration": 13,
    "start_time": "2024-10-16T08:12:41.726Z"
   },
   {
    "duration": 15,
    "start_time": "2024-10-16T08:12:41.741Z"
   },
   {
    "duration": 85,
    "start_time": "2024-10-16T08:12:41.758Z"
   },
   {
    "duration": 12,
    "start_time": "2024-10-16T08:12:41.845Z"
   },
   {
    "duration": 29,
    "start_time": "2024-10-16T08:12:41.859Z"
   },
   {
    "duration": 36,
    "start_time": "2024-10-16T08:12:41.905Z"
   },
   {
    "duration": 15,
    "start_time": "2024-10-16T08:12:41.943Z"
   },
   {
    "duration": 6,
    "start_time": "2024-10-16T08:12:41.960Z"
   },
   {
    "duration": 159,
    "start_time": "2024-10-16T08:12:41.968Z"
   },
   {
    "duration": 155,
    "start_time": "2024-10-16T08:12:42.129Z"
   },
   {
    "duration": 12,
    "start_time": "2024-10-16T08:12:42.286Z"
   },
   {
    "duration": 167,
    "start_time": "2024-10-16T08:12:42.305Z"
   },
   {
    "duration": 10,
    "start_time": "2024-10-16T08:12:42.475Z"
   },
   {
    "duration": 238,
    "start_time": "2024-10-16T08:12:42.487Z"
   },
   {
    "duration": 162,
    "start_time": "2024-10-16T08:12:42.727Z"
   },
   {
    "duration": 4,
    "start_time": "2024-10-16T08:12:42.890Z"
   },
   {
    "duration": 105,
    "start_time": "2024-10-16T08:12:42.905Z"
   },
   {
    "duration": 15,
    "start_time": "2024-10-16T08:12:43.013Z"
   },
   {
    "duration": 459,
    "start_time": "2024-10-16T08:12:43.030Z"
   },
   {
    "duration": 338,
    "start_time": "2024-10-16T08:12:43.490Z"
   },
   {
    "duration": 122,
    "start_time": "2024-10-16T08:12:43.831Z"
   },
   {
    "duration": 106,
    "start_time": "2024-10-16T08:12:43.955Z"
   },
   {
    "duration": 13,
    "start_time": "2024-10-16T08:12:44.063Z"
   },
   {
    "duration": 38,
    "start_time": "2024-10-16T08:12:44.078Z"
   },
   {
    "duration": 9,
    "start_time": "2024-10-16T08:12:44.117Z"
   },
   {
    "duration": 12,
    "start_time": "2024-10-16T08:12:44.128Z"
   },
   {
    "duration": 9,
    "start_time": "2024-10-16T08:32:41.018Z"
   },
   {
    "duration": 11,
    "start_time": "2024-10-16T08:32:43.965Z"
   },
   {
    "duration": 511,
    "start_time": "2024-10-16T08:35:11.591Z"
   },
   {
    "duration": 110,
    "start_time": "2024-10-16T08:35:24.746Z"
   },
   {
    "duration": 2244,
    "start_time": "2024-10-16T17:03:57.851Z"
   },
   {
    "duration": 205,
    "start_time": "2024-10-16T17:04:00.097Z"
   },
   {
    "duration": 69,
    "start_time": "2024-10-16T17:04:00.304Z"
   },
   {
    "duration": 11,
    "start_time": "2024-10-16T17:04:00.375Z"
   },
   {
    "duration": 10,
    "start_time": "2024-10-16T17:04:00.387Z"
   },
   {
    "duration": 866,
    "start_time": "2024-10-16T17:04:00.400Z"
   },
   {
    "duration": 26,
    "start_time": "2024-10-16T17:04:01.269Z"
   },
   {
    "duration": 45,
    "start_time": "2024-10-16T17:04:01.297Z"
   },
   {
    "duration": 130,
    "start_time": "2024-10-16T17:04:01.344Z"
   },
   {
    "duration": 16,
    "start_time": "2024-10-16T17:04:01.478Z"
   },
   {
    "duration": 141,
    "start_time": "2024-10-16T17:04:01.496Z"
   },
   {
    "duration": 98,
    "start_time": "2024-10-16T17:04:01.638Z"
   },
   {
    "duration": 33,
    "start_time": "2024-10-16T17:04:01.738Z"
   },
   {
    "duration": 26,
    "start_time": "2024-10-16T17:04:01.773Z"
   },
   {
    "duration": 4,
    "start_time": "2024-10-16T17:04:01.801Z"
   },
   {
    "duration": 26,
    "start_time": "2024-10-16T17:04:01.807Z"
   },
   {
    "duration": 14,
    "start_time": "2024-10-16T17:04:01.835Z"
   },
   {
    "duration": 4,
    "start_time": "2024-10-16T17:04:01.851Z"
   },
   {
    "duration": 9,
    "start_time": "2024-10-16T17:04:01.887Z"
   },
   {
    "duration": 4,
    "start_time": "2024-10-16T17:04:01.898Z"
   },
   {
    "duration": 9,
    "start_time": "2024-10-16T17:04:01.904Z"
   },
   {
    "duration": 9,
    "start_time": "2024-10-16T17:04:01.915Z"
   },
   {
    "duration": 3,
    "start_time": "2024-10-16T17:04:01.927Z"
   },
   {
    "duration": 926,
    "start_time": "2024-10-16T17:04:01.932Z"
   },
   {
    "duration": 805,
    "start_time": "2024-10-16T17:04:02.860Z"
   },
   {
    "duration": 8,
    "start_time": "2024-10-16T17:04:03.667Z"
   },
   {
    "duration": 17,
    "start_time": "2024-10-16T17:04:03.677Z"
   },
   {
    "duration": 9,
    "start_time": "2024-10-16T17:04:03.699Z"
   },
   {
    "duration": 8,
    "start_time": "2024-10-16T17:04:03.709Z"
   },
   {
    "duration": 13,
    "start_time": "2024-10-16T17:04:03.719Z"
   },
   {
    "duration": 6,
    "start_time": "2024-10-16T17:04:03.735Z"
   },
   {
    "duration": 47,
    "start_time": "2024-10-16T17:04:03.743Z"
   },
   {
    "duration": 18,
    "start_time": "2024-10-16T17:04:03.796Z"
   },
   {
    "duration": 77,
    "start_time": "2024-10-16T17:04:03.816Z"
   },
   {
    "duration": 12,
    "start_time": "2024-10-16T17:04:03.895Z"
   },
   {
    "duration": 31,
    "start_time": "2024-10-16T17:04:03.909Z"
   },
   {
    "duration": 62,
    "start_time": "2024-10-16T17:04:03.942Z"
   },
   {
    "duration": 17,
    "start_time": "2024-10-16T17:04:04.006Z"
   },
   {
    "duration": 9,
    "start_time": "2024-10-16T17:04:04.024Z"
   },
   {
    "duration": 174,
    "start_time": "2024-10-16T17:04:04.035Z"
   },
   {
    "duration": 148,
    "start_time": "2024-10-16T17:04:04.211Z"
   },
   {
    "duration": 10,
    "start_time": "2024-10-16T17:04:04.361Z"
   },
   {
    "duration": 214,
    "start_time": "2024-10-16T17:04:04.374Z"
   },
   {
    "duration": 11,
    "start_time": "2024-10-16T17:04:04.591Z"
   },
   {
    "duration": 221,
    "start_time": "2024-10-16T17:04:04.605Z"
   },
   {
    "duration": 176,
    "start_time": "2024-10-16T17:04:04.829Z"
   },
   {
    "duration": 6,
    "start_time": "2024-10-16T17:04:05.007Z"
   },
   {
    "duration": 102,
    "start_time": "2024-10-16T17:04:05.015Z"
   },
   {
    "duration": 11,
    "start_time": "2024-10-16T17:04:05.121Z"
   },
   {
    "duration": 569,
    "start_time": "2024-10-16T17:04:05.134Z"
   },
   {
    "duration": 328,
    "start_time": "2024-10-16T17:04:05.705Z"
   },
   {
    "duration": 124,
    "start_time": "2024-10-16T17:04:06.035Z"
   },
   {
    "duration": 103,
    "start_time": "2024-10-16T17:04:06.161Z"
   },
   {
    "duration": 20,
    "start_time": "2024-10-16T17:04:06.266Z"
   },
   {
    "duration": 27,
    "start_time": "2024-10-16T17:04:06.289Z"
   },
   {
    "duration": 11,
    "start_time": "2024-10-16T17:04:06.318Z"
   },
   {
    "duration": 11,
    "start_time": "2024-10-16T17:04:06.331Z"
   },
   {
    "duration": 223,
    "start_time": "2024-10-16T17:05:38.310Z"
   },
   {
    "duration": 335,
    "start_time": "2024-10-16T17:05:46.424Z"
   },
   {
    "duration": 3,
    "start_time": "2024-10-16T17:06:04.982Z"
   },
   {
    "duration": 131,
    "start_time": "2024-10-16T17:06:04.988Z"
   },
   {
    "duration": 46,
    "start_time": "2024-10-16T17:06:05.122Z"
   },
   {
    "duration": 18,
    "start_time": "2024-10-16T17:06:05.170Z"
   },
   {
    "duration": 8,
    "start_time": "2024-10-16T17:06:05.190Z"
   },
   {
    "duration": 736,
    "start_time": "2024-10-16T17:06:05.200Z"
   },
   {
    "duration": 17,
    "start_time": "2024-10-16T17:06:05.938Z"
   },
   {
    "duration": 52,
    "start_time": "2024-10-16T17:06:05.958Z"
   },
   {
    "duration": 96,
    "start_time": "2024-10-16T17:06:06.012Z"
   },
   {
    "duration": 11,
    "start_time": "2024-10-16T17:06:06.110Z"
   },
   {
    "duration": 107,
    "start_time": "2024-10-16T17:06:06.123Z"
   },
   {
    "duration": 118,
    "start_time": "2024-10-16T17:06:06.232Z"
   },
   {
    "duration": 27,
    "start_time": "2024-10-16T17:06:06.352Z"
   },
   {
    "duration": 17,
    "start_time": "2024-10-16T17:06:06.390Z"
   },
   {
    "duration": 4,
    "start_time": "2024-10-16T17:06:06.409Z"
   },
   {
    "duration": 35,
    "start_time": "2024-10-16T17:06:06.415Z"
   },
   {
    "duration": 44,
    "start_time": "2024-10-16T17:06:06.452Z"
   },
   {
    "duration": 5,
    "start_time": "2024-10-16T17:06:06.498Z"
   },
   {
    "duration": 16,
    "start_time": "2024-10-16T17:06:06.505Z"
   },
   {
    "duration": 4,
    "start_time": "2024-10-16T17:06:06.523Z"
   },
   {
    "duration": 10,
    "start_time": "2024-10-16T17:06:06.530Z"
   },
   {
    "duration": 45,
    "start_time": "2024-10-16T17:06:06.542Z"
   },
   {
    "duration": 4,
    "start_time": "2024-10-16T17:06:06.590Z"
   },
   {
    "duration": 908,
    "start_time": "2024-10-16T17:06:06.596Z"
   },
   {
    "duration": 881,
    "start_time": "2024-10-16T17:06:07.506Z"
   },
   {
    "duration": 7,
    "start_time": "2024-10-16T17:06:08.390Z"
   },
   {
    "duration": 11,
    "start_time": "2024-10-16T17:06:08.398Z"
   },
   {
    "duration": 9,
    "start_time": "2024-10-16T17:06:08.411Z"
   },
   {
    "duration": 8,
    "start_time": "2024-10-16T17:06:08.423Z"
   },
   {
    "duration": 13,
    "start_time": "2024-10-16T17:06:08.432Z"
   },
   {
    "duration": 44,
    "start_time": "2024-10-16T17:06:08.447Z"
   },
   {
    "duration": 14,
    "start_time": "2024-10-16T17:06:08.493Z"
   },
   {
    "duration": 15,
    "start_time": "2024-10-16T17:06:08.509Z"
   },
   {
    "duration": 77,
    "start_time": "2024-10-16T17:06:08.526Z"
   },
   {
    "duration": 16,
    "start_time": "2024-10-16T17:06:08.605Z"
   },
   {
    "duration": 32,
    "start_time": "2024-10-16T17:06:08.623Z"
   },
   {
    "duration": 57,
    "start_time": "2024-10-16T17:06:08.657Z"
   },
   {
    "duration": 15,
    "start_time": "2024-10-16T17:06:08.716Z"
   },
   {
    "duration": 7,
    "start_time": "2024-10-16T17:06:08.733Z"
   },
   {
    "duration": 173,
    "start_time": "2024-10-16T17:06:08.742Z"
   },
   {
    "duration": 197,
    "start_time": "2024-10-16T17:06:08.921Z"
   },
   {
    "duration": 10,
    "start_time": "2024-10-16T17:06:09.121Z"
   },
   {
    "duration": 176,
    "start_time": "2024-10-16T17:06:09.132Z"
   },
   {
    "duration": 9,
    "start_time": "2024-10-16T17:06:09.310Z"
   },
   {
    "duration": 197,
    "start_time": "2024-10-16T17:06:09.321Z"
   },
   {
    "duration": 162,
    "start_time": "2024-10-16T17:06:09.520Z"
   },
   {
    "duration": 4,
    "start_time": "2024-10-16T17:06:09.686Z"
   },
   {
    "duration": 106,
    "start_time": "2024-10-16T17:06:09.692Z"
   },
   {
    "duration": 11,
    "start_time": "2024-10-16T17:06:09.799Z"
   },
   {
    "duration": 765,
    "start_time": "2024-10-16T17:06:09.812Z"
   },
   {
    "duration": 325,
    "start_time": "2024-10-16T17:06:10.587Z"
   },
   {
    "duration": 130,
    "start_time": "2024-10-16T17:06:10.914Z"
   },
   {
    "duration": 97,
    "start_time": "2024-10-16T17:06:11.047Z"
   },
   {
    "duration": 11,
    "start_time": "2024-10-16T17:06:11.146Z"
   },
   {
    "duration": 35,
    "start_time": "2024-10-16T17:06:11.160Z"
   },
   {
    "duration": 10,
    "start_time": "2024-10-16T17:06:11.198Z"
   },
   {
    "duration": 11,
    "start_time": "2024-10-16T17:06:11.210Z"
   },
   {
    "duration": 323,
    "start_time": "2024-10-16T17:06:22.319Z"
   },
   {
    "duration": 6,
    "start_time": "2024-10-16T17:06:37.488Z"
   },
   {
    "duration": 141,
    "start_time": "2024-10-16T17:06:37.499Z"
   },
   {
    "duration": 34,
    "start_time": "2024-10-16T17:06:37.643Z"
   },
   {
    "duration": 13,
    "start_time": "2024-10-16T17:06:37.679Z"
   },
   {
    "duration": 9,
    "start_time": "2024-10-16T17:06:37.695Z"
   },
   {
    "duration": 744,
    "start_time": "2024-10-16T17:06:37.708Z"
   },
   {
    "duration": 17,
    "start_time": "2024-10-16T17:06:38.454Z"
   },
   {
    "duration": 44,
    "start_time": "2024-10-16T17:06:38.473Z"
   },
   {
    "duration": 97,
    "start_time": "2024-10-16T17:06:38.519Z"
   },
   {
    "duration": 11,
    "start_time": "2024-10-16T17:06:38.618Z"
   },
   {
    "duration": 117,
    "start_time": "2024-10-16T17:06:38.631Z"
   },
   {
    "duration": 84,
    "start_time": "2024-10-16T17:06:38.750Z"
   },
   {
    "duration": 27,
    "start_time": "2024-10-16T17:06:38.836Z"
   },
   {
    "duration": 32,
    "start_time": "2024-10-16T17:06:38.864Z"
   },
   {
    "duration": 4,
    "start_time": "2024-10-16T17:06:38.900Z"
   },
   {
    "duration": 30,
    "start_time": "2024-10-16T17:06:38.906Z"
   },
   {
    "duration": 13,
    "start_time": "2024-10-16T17:06:38.939Z"
   },
   {
    "duration": 4,
    "start_time": "2024-10-16T17:06:38.954Z"
   },
   {
    "duration": 34,
    "start_time": "2024-10-16T17:06:38.960Z"
   },
   {
    "duration": 5,
    "start_time": "2024-10-16T17:06:38.996Z"
   },
   {
    "duration": 9,
    "start_time": "2024-10-16T17:06:39.003Z"
   },
   {
    "duration": 11,
    "start_time": "2024-10-16T17:06:39.013Z"
   },
   {
    "duration": 5,
    "start_time": "2024-10-16T17:06:39.025Z"
   },
   {
    "duration": 939,
    "start_time": "2024-10-16T17:06:39.031Z"
   },
   {
    "duration": 781,
    "start_time": "2024-10-16T17:06:39.972Z"
   },
   {
    "duration": 8,
    "start_time": "2024-10-16T17:06:40.755Z"
   },
   {
    "duration": 25,
    "start_time": "2024-10-16T17:06:40.765Z"
   },
   {
    "duration": 14,
    "start_time": "2024-10-16T17:06:40.792Z"
   },
   {
    "duration": 7,
    "start_time": "2024-10-16T17:06:40.808Z"
   },
   {
    "duration": 11,
    "start_time": "2024-10-16T17:06:40.817Z"
   },
   {
    "duration": 6,
    "start_time": "2024-10-16T17:06:40.830Z"
   },
   {
    "duration": 18,
    "start_time": "2024-10-16T17:06:40.838Z"
   },
   {
    "duration": 41,
    "start_time": "2024-10-16T17:06:40.858Z"
   },
   {
    "duration": 86,
    "start_time": "2024-10-16T17:06:40.901Z"
   },
   {
    "duration": 15,
    "start_time": "2024-10-16T17:06:40.989Z"
   },
   {
    "duration": 40,
    "start_time": "2024-10-16T17:06:41.006Z"
   },
   {
    "duration": 63,
    "start_time": "2024-10-16T17:06:41.048Z"
   },
   {
    "duration": 15,
    "start_time": "2024-10-16T17:06:41.114Z"
   },
   {
    "duration": 8,
    "start_time": "2024-10-16T17:06:41.131Z"
   },
   {
    "duration": 154,
    "start_time": "2024-10-16T17:06:41.141Z"
   },
   {
    "duration": 150,
    "start_time": "2024-10-16T17:06:41.297Z"
   },
   {
    "duration": 9,
    "start_time": "2024-10-16T17:06:41.453Z"
   },
   {
    "duration": 182,
    "start_time": "2024-10-16T17:06:41.464Z"
   },
   {
    "duration": 12,
    "start_time": "2024-10-16T17:06:41.648Z"
   },
   {
    "duration": 198,
    "start_time": "2024-10-16T17:06:41.662Z"
   },
   {
    "duration": 176,
    "start_time": "2024-10-16T17:06:41.861Z"
   },
   {
    "duration": 4,
    "start_time": "2024-10-16T17:06:42.039Z"
   },
   {
    "duration": 122,
    "start_time": "2024-10-16T17:06:42.046Z"
   },
   {
    "duration": 14,
    "start_time": "2024-10-16T17:06:42.170Z"
   },
   {
    "duration": 446,
    "start_time": "2024-10-16T17:06:42.187Z"
   },
   {
    "duration": 408,
    "start_time": "2024-10-16T17:06:42.634Z"
   },
   {
    "duration": 147,
    "start_time": "2024-10-16T17:06:43.044Z"
   },
   {
    "duration": 136,
    "start_time": "2024-10-16T17:06:43.193Z"
   },
   {
    "duration": 19,
    "start_time": "2024-10-16T17:06:43.332Z"
   },
   {
    "duration": 36,
    "start_time": "2024-10-16T17:06:43.353Z"
   },
   {
    "duration": 14,
    "start_time": "2024-10-16T17:06:43.391Z"
   },
   {
    "duration": 11,
    "start_time": "2024-10-16T17:06:43.407Z"
   },
   {
    "duration": 244,
    "start_time": "2024-10-16T17:07:11.776Z"
   },
   {
    "duration": 327,
    "start_time": "2024-10-16T17:07:16.694Z"
   },
   {
    "duration": 2,
    "start_time": "2024-10-16T17:07:21.834Z"
   },
   {
    "duration": 112,
    "start_time": "2024-10-16T17:07:21.842Z"
   },
   {
    "duration": 47,
    "start_time": "2024-10-16T17:07:21.956Z"
   },
   {
    "duration": 9,
    "start_time": "2024-10-16T17:07:22.006Z"
   },
   {
    "duration": 10,
    "start_time": "2024-10-16T17:07:22.017Z"
   },
   {
    "duration": 685,
    "start_time": "2024-10-16T17:07:22.029Z"
   },
   {
    "duration": 17,
    "start_time": "2024-10-16T17:07:22.716Z"
   },
   {
    "duration": 32,
    "start_time": "2024-10-16T17:07:22.735Z"
   },
   {
    "duration": 76,
    "start_time": "2024-10-16T17:07:22.787Z"
   },
   {
    "duration": 22,
    "start_time": "2024-10-16T17:07:22.864Z"
   },
   {
    "duration": 97,
    "start_time": "2024-10-16T17:07:22.889Z"
   },
   {
    "duration": 85,
    "start_time": "2024-10-16T17:07:22.988Z"
   },
   {
    "duration": 38,
    "start_time": "2024-10-16T17:07:23.075Z"
   },
   {
    "duration": 24,
    "start_time": "2024-10-16T17:07:23.115Z"
   },
   {
    "duration": 3,
    "start_time": "2024-10-16T17:07:23.146Z"
   },
   {
    "duration": 62,
    "start_time": "2024-10-16T17:07:23.152Z"
   },
   {
    "duration": 17,
    "start_time": "2024-10-16T17:07:23.217Z"
   },
   {
    "duration": 5,
    "start_time": "2024-10-16T17:07:23.236Z"
   },
   {
    "duration": 11,
    "start_time": "2024-10-16T17:07:23.243Z"
   },
   {
    "duration": 7,
    "start_time": "2024-10-16T17:07:23.258Z"
   },
   {
    "duration": 29,
    "start_time": "2024-10-16T17:07:23.267Z"
   },
   {
    "duration": 10,
    "start_time": "2024-10-16T17:07:23.299Z"
   },
   {
    "duration": 4,
    "start_time": "2024-10-16T17:07:23.311Z"
   },
   {
    "duration": 1051,
    "start_time": "2024-10-16T17:07:23.317Z"
   },
   {
    "duration": 786,
    "start_time": "2024-10-16T17:07:24.370Z"
   },
   {
    "duration": 7,
    "start_time": "2024-10-16T17:07:25.158Z"
   },
   {
    "duration": 19,
    "start_time": "2024-10-16T17:07:25.167Z"
   },
   {
    "duration": 10,
    "start_time": "2024-10-16T17:07:25.188Z"
   },
   {
    "duration": 8,
    "start_time": "2024-10-16T17:07:25.201Z"
   },
   {
    "duration": 12,
    "start_time": "2024-10-16T17:07:25.211Z"
   },
   {
    "duration": 7,
    "start_time": "2024-10-16T17:07:25.225Z"
   },
   {
    "duration": 19,
    "start_time": "2024-10-16T17:07:25.233Z"
   },
   {
    "duration": 39,
    "start_time": "2024-10-16T17:07:25.269Z"
   },
   {
    "duration": 86,
    "start_time": "2024-10-16T17:07:25.310Z"
   },
   {
    "duration": 15,
    "start_time": "2024-10-16T17:07:25.399Z"
   },
   {
    "duration": 34,
    "start_time": "2024-10-16T17:07:25.417Z"
   },
   {
    "duration": 60,
    "start_time": "2024-10-16T17:07:25.453Z"
   },
   {
    "duration": 14,
    "start_time": "2024-10-16T17:07:25.515Z"
   },
   {
    "duration": 9,
    "start_time": "2024-10-16T17:07:25.531Z"
   },
   {
    "duration": 147,
    "start_time": "2024-10-16T17:07:25.543Z"
   },
   {
    "duration": 148,
    "start_time": "2024-10-16T17:07:25.692Z"
   },
   {
    "duration": 9,
    "start_time": "2024-10-16T17:07:25.845Z"
   },
   {
    "duration": 166,
    "start_time": "2024-10-16T17:07:25.856Z"
   },
   {
    "duration": 9,
    "start_time": "2024-10-16T17:07:26.023Z"
   },
   {
    "duration": 193,
    "start_time": "2024-10-16T17:07:26.034Z"
   },
   {
    "duration": 157,
    "start_time": "2024-10-16T17:07:26.229Z"
   },
   {
    "duration": 5,
    "start_time": "2024-10-16T17:07:26.389Z"
   },
   {
    "duration": 107,
    "start_time": "2024-10-16T17:07:26.396Z"
   },
   {
    "duration": 12,
    "start_time": "2024-10-16T17:07:26.506Z"
   },
   {
    "duration": 456,
    "start_time": "2024-10-16T17:07:26.536Z"
   },
   {
    "duration": 493,
    "start_time": "2024-10-16T17:07:36.231Z"
   },
   {
    "duration": 459,
    "start_time": "2024-10-16T17:07:42.130Z"
   },
   {
    "duration": 427,
    "start_time": "2024-10-16T17:07:48.246Z"
   },
   {
    "duration": 91,
    "start_time": "2024-10-16T17:09:42.268Z"
   },
   {
    "duration": 639,
    "start_time": "2024-10-16T17:10:52.714Z"
   },
   {
    "duration": 757,
    "start_time": "2024-10-16T17:11:08.867Z"
   },
   {
    "duration": 777,
    "start_time": "2024-10-16T17:11:15.492Z"
   },
   {
    "duration": 17,
    "start_time": "2024-10-16T17:11:28.580Z"
   },
   {
    "duration": 52,
    "start_time": "2024-10-16T17:12:44.571Z"
   },
   {
    "duration": 272,
    "start_time": "2024-10-16T17:13:02.572Z"
   },
   {
    "duration": 55,
    "start_time": "2024-10-16T17:13:52.972Z"
   },
   {
    "duration": 54,
    "start_time": "2024-10-16T17:14:17.224Z"
   },
   {
    "duration": 51,
    "start_time": "2024-10-16T17:14:22.937Z"
   },
   {
    "duration": 71,
    "start_time": "2024-10-16T17:14:26.631Z"
   },
   {
    "duration": 144,
    "start_time": "2024-10-16T17:16:23.377Z"
   },
   {
    "duration": 627,
    "start_time": "2024-10-16T17:16:32.089Z"
   },
   {
    "duration": 2586,
    "start_time": "2024-10-16T17:18:06.522Z"
   },
   {
    "duration": 640,
    "start_time": "2024-10-16T17:18:20.764Z"
   },
   {
    "duration": 45,
    "start_time": "2024-10-16T17:18:52.880Z"
   },
   {
    "duration": 22,
    "start_time": "2024-10-16T17:19:04.508Z"
   },
   {
    "duration": 15,
    "start_time": "2024-10-16T17:19:15.547Z"
   },
   {
    "duration": 531,
    "start_time": "2024-10-16T17:19:19.814Z"
   },
   {
    "duration": 498,
    "start_time": "2024-10-16T17:20:29.909Z"
   },
   {
    "duration": 488,
    "start_time": "2024-10-16T17:20:34.028Z"
   },
   {
    "duration": 485,
    "start_time": "2024-10-16T17:20:39.680Z"
   },
   {
    "duration": 483,
    "start_time": "2024-10-16T17:20:46.971Z"
   },
   {
    "duration": 649,
    "start_time": "2024-10-16T17:23:56.213Z"
   },
   {
    "duration": 6,
    "start_time": "2024-10-16T17:24:57.610Z"
   },
   {
    "duration": 681,
    "start_time": "2024-10-16T17:25:01.326Z"
   },
   {
    "duration": 289,
    "start_time": "2024-10-16T17:25:03.451Z"
   },
   {
    "duration": 10,
    "start_time": "2024-10-16T17:25:05.335Z"
   },
   {
    "duration": 74,
    "start_time": "2024-10-16T17:26:32.071Z"
   },
   {
    "duration": 33,
    "start_time": "2024-10-16T17:27:26.459Z"
   },
   {
    "duration": 67,
    "start_time": "2024-10-16T17:28:08.530Z"
   },
   {
    "duration": 12,
    "start_time": "2024-10-16T17:28:16.861Z"
   },
   {
    "duration": 9,
    "start_time": "2024-10-16T17:36:13.922Z"
   },
   {
    "duration": 11,
    "start_time": "2024-10-16T17:36:24.782Z"
   },
   {
    "duration": 3,
    "start_time": "2024-10-16T17:36:32.156Z"
   },
   {
    "duration": 105,
    "start_time": "2024-10-16T17:36:32.163Z"
   },
   {
    "duration": 41,
    "start_time": "2024-10-16T17:36:32.270Z"
   },
   {
    "duration": 8,
    "start_time": "2024-10-16T17:36:32.313Z"
   },
   {
    "duration": 7,
    "start_time": "2024-10-16T17:36:32.322Z"
   },
   {
    "duration": 652,
    "start_time": "2024-10-16T17:36:32.332Z"
   },
   {
    "duration": 17,
    "start_time": "2024-10-16T17:36:32.987Z"
   },
   {
    "duration": 30,
    "start_time": "2024-10-16T17:36:33.005Z"
   },
   {
    "duration": 97,
    "start_time": "2024-10-16T17:36:33.037Z"
   },
   {
    "duration": 11,
    "start_time": "2024-10-16T17:36:33.136Z"
   },
   {
    "duration": 91,
    "start_time": "2024-10-16T17:36:33.150Z"
   },
   {
    "duration": 79,
    "start_time": "2024-10-16T17:36:33.242Z"
   },
   {
    "duration": 23,
    "start_time": "2024-10-16T17:36:33.322Z"
   },
   {
    "duration": 12,
    "start_time": "2024-10-16T17:36:33.346Z"
   },
   {
    "duration": 3,
    "start_time": "2024-10-16T17:36:33.361Z"
   },
   {
    "duration": 25,
    "start_time": "2024-10-16T17:36:33.386Z"
   },
   {
    "duration": 10,
    "start_time": "2024-10-16T17:36:36.117Z"
   },
   {
    "duration": 16,
    "start_time": "2024-10-16T17:38:46.601Z"
   },
   {
    "duration": 1471,
    "start_time": "2024-10-16T17:39:41.530Z"
   },
   {
    "duration": 3,
    "start_time": "2024-10-16T17:39:51.971Z"
   },
   {
    "duration": 115,
    "start_time": "2024-10-16T17:39:51.980Z"
   },
   {
    "duration": 33,
    "start_time": "2024-10-16T17:39:52.097Z"
   },
   {
    "duration": 8,
    "start_time": "2024-10-16T17:39:52.132Z"
   },
   {
    "duration": 7,
    "start_time": "2024-10-16T17:39:52.141Z"
   },
   {
    "duration": 677,
    "start_time": "2024-10-16T17:39:52.150Z"
   },
   {
    "duration": 15,
    "start_time": "2024-10-16T17:39:52.829Z"
   },
   {
    "duration": 41,
    "start_time": "2024-10-16T17:39:52.846Z"
   },
   {
    "duration": 64,
    "start_time": "2024-10-16T17:39:52.888Z"
   },
   {
    "duration": 9,
    "start_time": "2024-10-16T17:39:52.954Z"
   },
   {
    "duration": 89,
    "start_time": "2024-10-16T17:39:52.964Z"
   },
   {
    "duration": 78,
    "start_time": "2024-10-16T17:39:53.054Z"
   },
   {
    "duration": 27,
    "start_time": "2024-10-16T17:39:53.133Z"
   },
   {
    "duration": 30,
    "start_time": "2024-10-16T17:39:53.163Z"
   },
   {
    "duration": 4,
    "start_time": "2024-10-16T17:39:53.198Z"
   },
   {
    "duration": 24,
    "start_time": "2024-10-16T17:39:53.204Z"
   },
   {
    "duration": 8,
    "start_time": "2024-10-16T17:39:53.230Z"
   },
   {
    "duration": 4,
    "start_time": "2024-10-16T17:39:53.240Z"
   },
   {
    "duration": 7,
    "start_time": "2024-10-16T17:39:53.246Z"
   },
   {
    "duration": 33,
    "start_time": "2024-10-16T17:39:53.254Z"
   },
   {
    "duration": 10,
    "start_time": "2024-10-16T17:39:53.289Z"
   },
   {
    "duration": 8,
    "start_time": "2024-10-16T17:39:53.301Z"
   },
   {
    "duration": 3,
    "start_time": "2024-10-16T17:39:53.311Z"
   },
   {
    "duration": 749,
    "start_time": "2024-10-16T17:39:53.316Z"
   },
   {
    "duration": 613,
    "start_time": "2024-10-16T17:39:54.066Z"
   },
   {
    "duration": 10,
    "start_time": "2024-10-16T17:39:54.681Z"
   },
   {
    "duration": 9,
    "start_time": "2024-10-16T17:39:54.693Z"
   },
   {
    "duration": 7,
    "start_time": "2024-10-16T17:39:54.703Z"
   },
   {
    "duration": 6,
    "start_time": "2024-10-16T17:39:54.712Z"
   },
   {
    "duration": 11,
    "start_time": "2024-10-16T17:39:54.719Z"
   },
   {
    "duration": 6,
    "start_time": "2024-10-16T17:39:54.732Z"
   },
   {
    "duration": 50,
    "start_time": "2024-10-16T17:39:54.739Z"
   },
   {
    "duration": 14,
    "start_time": "2024-10-16T17:39:54.791Z"
   },
   {
    "duration": 59,
    "start_time": "2024-10-16T17:39:54.807Z"
   },
   {
    "duration": 15,
    "start_time": "2024-10-16T17:39:58.814Z"
   },
   {
    "duration": 1492,
    "start_time": "2024-10-16T17:40:01.060Z"
   },
   {
    "duration": 208,
    "start_time": "2024-10-16T17:41:10.540Z"
   },
   {
    "duration": 12,
    "start_time": "2024-10-16T17:42:25.721Z"
   },
   {
    "duration": 10,
    "start_time": "2024-10-16T17:42:31.666Z"
   },
   {
    "duration": 571,
    "start_time": "2024-10-16T17:43:27.820Z"
   },
   {
    "duration": 194,
    "start_time": "2024-10-16T17:43:38.318Z"
   },
   {
    "duration": 10,
    "start_time": "2024-10-16T17:44:23.238Z"
   },
   {
    "duration": 197,
    "start_time": "2024-10-16T17:44:25.803Z"
   },
   {
    "duration": 6,
    "start_time": "2024-10-16T17:45:27.482Z"
   },
   {
    "duration": 4,
    "start_time": "2024-10-16T17:45:51.557Z"
   },
   {
    "duration": 4,
    "start_time": "2024-10-16T17:46:02.974Z"
   },
   {
    "duration": 5,
    "start_time": "2024-10-16T17:46:07.776Z"
   },
   {
    "duration": 5,
    "start_time": "2024-10-16T17:47:38.342Z"
   },
   {
    "duration": 6,
    "start_time": "2024-10-16T17:48:52.086Z"
   },
   {
    "duration": 143,
    "start_time": "2024-10-16T17:49:19.972Z"
   },
   {
    "duration": 18,
    "start_time": "2024-10-16T17:49:39.461Z"
   },
   {
    "duration": 17,
    "start_time": "2024-10-16T17:50:26.602Z"
   },
   {
    "duration": 18,
    "start_time": "2024-10-16T17:50:49.297Z"
   },
   {
    "duration": 6,
    "start_time": "2024-10-16T17:50:58.509Z"
   },
   {
    "duration": 93,
    "start_time": "2024-10-16T17:51:01.181Z"
   },
   {
    "duration": 29,
    "start_time": "2024-10-16T17:51:18.361Z"
   },
   {
    "duration": 30,
    "start_time": "2024-10-16T17:51:27.477Z"
   },
   {
    "duration": 16,
    "start_time": "2024-10-16T17:51:39.494Z"
   },
   {
    "duration": 8,
    "start_time": "2024-10-16T17:51:43.593Z"
   },
   {
    "duration": 6,
    "start_time": "2024-10-16T17:52:48.656Z"
   },
   {
    "duration": 16,
    "start_time": "2024-10-16T17:52:57.967Z"
   },
   {
    "duration": 3,
    "start_time": "2024-10-16T17:53:07.323Z"
   },
   {
    "duration": 110,
    "start_time": "2024-10-16T17:53:07.331Z"
   },
   {
    "duration": 38,
    "start_time": "2024-10-16T17:53:07.443Z"
   },
   {
    "duration": 10,
    "start_time": "2024-10-16T17:53:07.483Z"
   },
   {
    "duration": 8,
    "start_time": "2024-10-16T17:53:07.494Z"
   },
   {
    "duration": 671,
    "start_time": "2024-10-16T17:53:07.504Z"
   },
   {
    "duration": 19,
    "start_time": "2024-10-16T17:53:08.177Z"
   },
   {
    "duration": 29,
    "start_time": "2024-10-16T17:53:08.198Z"
   },
   {
    "duration": 79,
    "start_time": "2024-10-16T17:53:08.230Z"
   },
   {
    "duration": 8,
    "start_time": "2024-10-16T17:53:08.310Z"
   },
   {
    "duration": 83,
    "start_time": "2024-10-16T17:53:08.320Z"
   },
   {
    "duration": 95,
    "start_time": "2024-10-16T17:53:08.405Z"
   },
   {
    "duration": 23,
    "start_time": "2024-10-16T17:53:08.502Z"
   },
   {
    "duration": 11,
    "start_time": "2024-10-16T17:53:08.527Z"
   },
   {
    "duration": 3,
    "start_time": "2024-10-16T17:53:08.588Z"
   },
   {
    "duration": 25,
    "start_time": "2024-10-16T17:53:08.593Z"
   },
   {
    "duration": 8,
    "start_time": "2024-10-16T17:53:08.620Z"
   },
   {
    "duration": 3,
    "start_time": "2024-10-16T17:53:08.686Z"
   },
   {
    "duration": 7,
    "start_time": "2024-10-16T17:53:08.691Z"
   },
   {
    "duration": 3,
    "start_time": "2024-10-16T17:53:08.700Z"
   },
   {
    "duration": 7,
    "start_time": "2024-10-16T17:53:08.704Z"
   },
   {
    "duration": 7,
    "start_time": "2024-10-16T17:53:08.713Z"
   },
   {
    "duration": 4,
    "start_time": "2024-10-16T17:53:08.721Z"
   },
   {
    "duration": 745,
    "start_time": "2024-10-16T17:53:08.727Z"
   },
   {
    "duration": 611,
    "start_time": "2024-10-16T17:53:09.475Z"
   },
   {
    "duration": 8,
    "start_time": "2024-10-16T17:53:10.088Z"
   },
   {
    "duration": 9,
    "start_time": "2024-10-16T17:53:10.098Z"
   },
   {
    "duration": 9,
    "start_time": "2024-10-16T17:53:10.108Z"
   },
   {
    "duration": 8,
    "start_time": "2024-10-16T17:53:10.118Z"
   },
   {
    "duration": 14,
    "start_time": "2024-10-16T17:53:10.127Z"
   },
   {
    "duration": 6,
    "start_time": "2024-10-16T17:53:10.143Z"
   },
   {
    "duration": 13,
    "start_time": "2024-10-16T17:53:10.186Z"
   },
   {
    "duration": 14,
    "start_time": "2024-10-16T17:53:10.201Z"
   },
   {
    "duration": 49,
    "start_time": "2024-10-16T17:53:10.217Z"
   },
   {
    "duration": 23,
    "start_time": "2024-10-16T17:53:12.375Z"
   },
   {
    "duration": 9,
    "start_time": "2024-10-16T17:53:29.106Z"
   },
   {
    "duration": 9,
    "start_time": "2024-10-16T17:53:37.719Z"
   },
   {
    "duration": 4,
    "start_time": "2024-10-16T17:54:20.505Z"
   },
   {
    "duration": 3,
    "start_time": "2024-10-16T17:54:29.014Z"
   },
   {
    "duration": 4,
    "start_time": "2024-10-16T17:55:06.641Z"
   },
   {
    "duration": 439,
    "start_time": "2024-10-16T18:07:29.203Z"
   },
   {
    "duration": 161,
    "start_time": "2024-10-16T18:07:29.644Z"
   },
   {
    "duration": 40,
    "start_time": "2024-10-16T18:07:29.807Z"
   },
   {
    "duration": 8,
    "start_time": "2024-10-16T18:07:29.849Z"
   },
   {
    "duration": 8,
    "start_time": "2024-10-16T18:07:29.859Z"
   },
   {
    "duration": 748,
    "start_time": "2024-10-16T18:07:29.868Z"
   },
   {
    "duration": 17,
    "start_time": "2024-10-16T18:07:30.617Z"
   },
   {
    "duration": 33,
    "start_time": "2024-10-16T18:07:30.636Z"
   },
   {
    "duration": 93,
    "start_time": "2024-10-16T18:07:30.687Z"
   },
   {
    "duration": 9,
    "start_time": "2024-10-16T18:07:30.787Z"
   },
   {
    "duration": 112,
    "start_time": "2024-10-16T18:07:30.798Z"
   },
   {
    "duration": 95,
    "start_time": "2024-10-16T18:07:30.912Z"
   },
   {
    "duration": 31,
    "start_time": "2024-10-16T18:07:31.009Z"
   },
   {
    "duration": 11,
    "start_time": "2024-10-16T18:07:31.042Z"
   },
   {
    "duration": 4,
    "start_time": "2024-10-16T18:07:31.055Z"
   },
   {
    "duration": 41,
    "start_time": "2024-10-16T18:07:31.061Z"
   },
   {
    "duration": 8,
    "start_time": "2024-10-16T18:07:31.103Z"
   },
   {
    "duration": 6,
    "start_time": "2024-10-16T18:07:31.113Z"
   },
   {
    "duration": 8,
    "start_time": "2024-10-16T18:07:31.121Z"
   },
   {
    "duration": 4,
    "start_time": "2024-10-16T18:07:31.130Z"
   },
   {
    "duration": 8,
    "start_time": "2024-10-16T18:07:31.135Z"
   },
   {
    "duration": 43,
    "start_time": "2024-10-16T18:07:31.144Z"
   },
   {
    "duration": 3,
    "start_time": "2024-10-16T18:07:31.188Z"
   },
   {
    "duration": 770,
    "start_time": "2024-10-16T18:07:31.192Z"
   },
   {
    "duration": 686,
    "start_time": "2024-10-16T18:07:31.964Z"
   },
   {
    "duration": 6,
    "start_time": "2024-10-16T18:07:32.652Z"
   },
   {
    "duration": 8,
    "start_time": "2024-10-16T18:07:32.660Z"
   },
   {
    "duration": 7,
    "start_time": "2024-10-16T18:07:32.688Z"
   },
   {
    "duration": 7,
    "start_time": "2024-10-16T18:07:32.697Z"
   },
   {
    "duration": 11,
    "start_time": "2024-10-16T18:07:32.705Z"
   },
   {
    "duration": 5,
    "start_time": "2024-10-16T18:07:32.718Z"
   },
   {
    "duration": 18,
    "start_time": "2024-10-16T18:07:32.725Z"
   },
   {
    "duration": 47,
    "start_time": "2024-10-16T18:07:32.745Z"
   },
   {
    "duration": 49,
    "start_time": "2024-10-16T18:07:32.793Z"
   },
   {
    "duration": 12,
    "start_time": "2024-10-16T18:07:32.844Z"
   },
   {
    "duration": 4,
    "start_time": "2024-10-16T18:07:32.858Z"
   },
   {
    "duration": 35,
    "start_time": "2024-10-16T18:07:32.887Z"
   },
   {
    "duration": 14,
    "start_time": "2024-10-16T18:07:32.924Z"
   },
   {
    "duration": 7,
    "start_time": "2024-10-16T18:07:32.940Z"
   },
   {
    "duration": 160,
    "start_time": "2024-10-16T18:07:32.948Z"
   },
   {
    "duration": 163,
    "start_time": "2024-10-16T18:07:33.109Z"
   },
   {
    "duration": 14,
    "start_time": "2024-10-16T18:07:33.274Z"
   },
   {
    "duration": 175,
    "start_time": "2024-10-16T18:07:33.289Z"
   },
   {
    "duration": 9,
    "start_time": "2024-10-16T18:07:33.466Z"
   },
   {
    "duration": 195,
    "start_time": "2024-10-16T18:07:33.476Z"
   },
   {
    "duration": 160,
    "start_time": "2024-10-16T18:07:33.672Z"
   },
   {
    "duration": 3,
    "start_time": "2024-10-16T18:07:33.834Z"
   },
   {
    "duration": 593,
    "start_time": "2024-10-16T18:07:33.838Z"
   },
   {
    "duration": 499,
    "start_time": "2024-10-16T18:07:34.433Z"
   },
   {
    "duration": 400,
    "start_time": "2024-10-16T18:07:34.934Z"
   },
   {
    "duration": 702,
    "start_time": "2024-10-16T18:07:35.336Z"
   },
   {
    "duration": 306,
    "start_time": "2024-10-16T18:07:36.040Z"
   },
   {
    "duration": 11,
    "start_time": "2024-10-16T18:07:36.348Z"
   },
   {
    "duration": 45,
    "start_time": "2024-10-16T18:07:36.362Z"
   },
   {
    "duration": 69,
    "start_time": "2024-10-16T18:07:36.409Z"
   },
   {
    "duration": 7,
    "start_time": "2024-10-16T18:07:36.487Z"
   },
   {
    "duration": 2224,
    "start_time": "2024-10-17T03:37:25.461Z"
   },
   {
    "duration": 160,
    "start_time": "2024-10-17T03:37:27.687Z"
   },
   {
    "duration": 60,
    "start_time": "2024-10-17T03:37:27.849Z"
   },
   {
    "duration": 11,
    "start_time": "2024-10-17T03:37:27.912Z"
   },
   {
    "duration": 9,
    "start_time": "2024-10-17T03:37:27.926Z"
   },
   {
    "duration": 840,
    "start_time": "2024-10-17T03:37:27.936Z"
   },
   {
    "duration": 17,
    "start_time": "2024-10-17T03:37:28.778Z"
   },
   {
    "duration": 46,
    "start_time": "2024-10-17T03:37:28.796Z"
   },
   {
    "duration": 95,
    "start_time": "2024-10-17T03:37:28.844Z"
   },
   {
    "duration": 9,
    "start_time": "2024-10-17T03:37:28.942Z"
   },
   {
    "duration": 105,
    "start_time": "2024-10-17T03:37:28.953Z"
   },
   {
    "duration": 83,
    "start_time": "2024-10-17T03:37:29.060Z"
   },
   {
    "duration": 25,
    "start_time": "2024-10-17T03:37:29.145Z"
   },
   {
    "duration": 12,
    "start_time": "2024-10-17T03:37:29.172Z"
   },
   {
    "duration": 3,
    "start_time": "2024-10-17T03:37:29.185Z"
   },
   {
    "duration": 25,
    "start_time": "2024-10-17T03:37:29.213Z"
   },
   {
    "duration": 8,
    "start_time": "2024-10-17T03:37:29.240Z"
   },
   {
    "duration": 3,
    "start_time": "2024-10-17T03:37:29.251Z"
   },
   {
    "duration": 9,
    "start_time": "2024-10-17T03:37:29.255Z"
   },
   {
    "duration": 4,
    "start_time": "2024-10-17T03:37:29.266Z"
   },
   {
    "duration": 41,
    "start_time": "2024-10-17T03:37:29.271Z"
   },
   {
    "duration": 8,
    "start_time": "2024-10-17T03:37:29.314Z"
   },
   {
    "duration": 4,
    "start_time": "2024-10-17T03:37:29.323Z"
   },
   {
    "duration": 783,
    "start_time": "2024-10-17T03:37:29.328Z"
   },
   {
    "duration": 710,
    "start_time": "2024-10-17T03:37:30.114Z"
   },
   {
    "duration": 6,
    "start_time": "2024-10-17T03:37:30.826Z"
   },
   {
    "duration": 9,
    "start_time": "2024-10-17T03:37:30.833Z"
   },
   {
    "duration": 8,
    "start_time": "2024-10-17T03:37:30.846Z"
   },
   {
    "duration": 6,
    "start_time": "2024-10-17T03:37:30.856Z"
   },
   {
    "duration": 48,
    "start_time": "2024-10-17T03:37:30.864Z"
   },
   {
    "duration": 6,
    "start_time": "2024-10-17T03:37:30.914Z"
   },
   {
    "duration": 13,
    "start_time": "2024-10-17T03:37:30.922Z"
   },
   {
    "duration": 15,
    "start_time": "2024-10-17T03:37:30.936Z"
   },
   {
    "duration": 80,
    "start_time": "2024-10-17T03:37:30.953Z"
   },
   {
    "duration": 13,
    "start_time": "2024-10-17T03:37:31.035Z"
   },
   {
    "duration": 8,
    "start_time": "2024-10-17T03:37:31.050Z"
   },
   {
    "duration": 3,
    "start_time": "2024-10-17T03:37:31.059Z"
   },
   {
    "duration": 60,
    "start_time": "2024-10-17T03:37:31.064Z"
   },
   {
    "duration": 15,
    "start_time": "2024-10-17T03:37:31.126Z"
   },
   {
    "duration": 7,
    "start_time": "2024-10-17T03:37:31.143Z"
   },
   {
    "duration": 148,
    "start_time": "2024-10-17T03:37:31.152Z"
   },
   {
    "duration": 151,
    "start_time": "2024-10-17T03:37:31.311Z"
   },
   {
    "duration": 10,
    "start_time": "2024-10-17T03:37:31.464Z"
   },
   {
    "duration": 190,
    "start_time": "2024-10-17T03:37:31.475Z"
   },
   {
    "duration": 9,
    "start_time": "2024-10-17T03:37:31.668Z"
   },
   {
    "duration": 226,
    "start_time": "2024-10-17T03:37:31.678Z"
   },
   {
    "duration": 153,
    "start_time": "2024-10-17T03:37:31.912Z"
   },
   {
    "duration": 3,
    "start_time": "2024-10-17T03:37:32.068Z"
   },
   {
    "duration": 570,
    "start_time": "2024-10-17T03:37:32.073Z"
   },
   {
    "duration": 493,
    "start_time": "2024-10-17T03:37:32.645Z"
   },
   {
    "duration": 411,
    "start_time": "2024-10-17T03:37:33.140Z"
   },
   {
    "duration": 699,
    "start_time": "2024-10-17T03:37:33.553Z"
   },
   {
    "duration": 312,
    "start_time": "2024-10-17T03:37:34.254Z"
   },
   {
    "duration": 8,
    "start_time": "2024-10-17T03:37:34.568Z"
   },
   {
    "duration": 45,
    "start_time": "2024-10-17T03:37:34.578Z"
   },
   {
    "duration": 72,
    "start_time": "2024-10-17T03:37:34.625Z"
   },
   {
    "duration": 16,
    "start_time": "2024-10-17T03:37:34.699Z"
   },
   {
    "duration": 57,
    "start_time": "2024-10-17T03:39:59.031Z"
   },
   {
    "duration": 7,
    "start_time": "2024-10-17T03:40:54.674Z"
   },
   {
    "duration": 191,
    "start_time": "2024-10-17T03:41:16.144Z"
   },
   {
    "duration": 8,
    "start_time": "2024-10-17T03:41:21.666Z"
   },
   {
    "duration": 3,
    "start_time": "2024-10-17T03:41:32.966Z"
   },
   {
    "duration": 120,
    "start_time": "2024-10-17T03:41:32.971Z"
   },
   {
    "duration": 38,
    "start_time": "2024-10-17T03:41:33.093Z"
   },
   {
    "duration": 11,
    "start_time": "2024-10-17T03:41:33.134Z"
   },
   {
    "duration": 9,
    "start_time": "2024-10-17T03:41:33.146Z"
   },
   {
    "duration": 724,
    "start_time": "2024-10-17T03:41:33.157Z"
   },
   {
    "duration": 17,
    "start_time": "2024-10-17T03:41:33.882Z"
   },
   {
    "duration": 31,
    "start_time": "2024-10-17T03:41:33.911Z"
   },
   {
    "duration": 89,
    "start_time": "2024-10-17T03:41:33.944Z"
   },
   {
    "duration": 8,
    "start_time": "2024-10-17T03:41:34.038Z"
   },
   {
    "duration": 96,
    "start_time": "2024-10-17T03:41:34.048Z"
   },
   {
    "duration": 85,
    "start_time": "2024-10-17T03:41:34.145Z"
   },
   {
    "duration": 27,
    "start_time": "2024-10-17T03:41:34.232Z"
   },
   {
    "duration": 14,
    "start_time": "2024-10-17T03:41:34.261Z"
   },
   {
    "duration": 5,
    "start_time": "2024-10-17T03:41:34.277Z"
   },
   {
    "duration": 50,
    "start_time": "2024-10-17T03:41:34.284Z"
   },
   {
    "duration": 10,
    "start_time": "2024-10-17T03:41:34.336Z"
   },
   {
    "duration": 3,
    "start_time": "2024-10-17T03:41:34.348Z"
   },
   {
    "duration": 11,
    "start_time": "2024-10-17T03:41:34.353Z"
   },
   {
    "duration": 5,
    "start_time": "2024-10-17T03:41:34.365Z"
   },
   {
    "duration": 46,
    "start_time": "2024-10-17T03:41:34.371Z"
   },
   {
    "duration": 9,
    "start_time": "2024-10-17T03:41:34.419Z"
   },
   {
    "duration": 3,
    "start_time": "2024-10-17T03:41:34.430Z"
   },
   {
    "duration": 890,
    "start_time": "2024-10-17T03:41:34.435Z"
   },
   {
    "duration": 754,
    "start_time": "2024-10-17T03:41:35.327Z"
   },
   {
    "duration": 6,
    "start_time": "2024-10-17T03:41:36.083Z"
   },
   {
    "duration": 22,
    "start_time": "2024-10-17T03:41:36.090Z"
   },
   {
    "duration": 10,
    "start_time": "2024-10-17T03:41:36.116Z"
   },
   {
    "duration": 6,
    "start_time": "2024-10-17T03:41:36.128Z"
   },
   {
    "duration": 12,
    "start_time": "2024-10-17T03:41:36.136Z"
   },
   {
    "duration": 6,
    "start_time": "2024-10-17T03:41:36.149Z"
   },
   {
    "duration": 13,
    "start_time": "2024-10-17T03:41:36.157Z"
   },
   {
    "duration": 53,
    "start_time": "2024-10-17T03:41:36.172Z"
   },
   {
    "duration": 50,
    "start_time": "2024-10-17T03:41:36.227Z"
   },
   {
    "duration": 13,
    "start_time": "2024-10-17T03:41:36.279Z"
   },
   {
    "duration": 25,
    "start_time": "2024-10-17T03:41:36.311Z"
   },
   {
    "duration": 25,
    "start_time": "2024-10-17T03:41:56.148Z"
   },
   {
    "duration": 427,
    "start_time": "2024-10-17T03:44:32.358Z"
   },
   {
    "duration": 170,
    "start_time": "2024-10-17T03:44:32.787Z"
   },
   {
    "duration": 40,
    "start_time": "2024-10-17T03:44:32.959Z"
   },
   {
    "duration": 17,
    "start_time": "2024-10-17T03:44:33.001Z"
   },
   {
    "duration": 8,
    "start_time": "2024-10-17T03:44:33.020Z"
   },
   {
    "duration": 725,
    "start_time": "2024-10-17T03:44:33.029Z"
   },
   {
    "duration": 17,
    "start_time": "2024-10-17T03:44:33.756Z"
   },
   {
    "duration": 50,
    "start_time": "2024-10-17T03:44:33.774Z"
   },
   {
    "duration": 105,
    "start_time": "2024-10-17T03:44:33.826Z"
   },
   {
    "duration": 10,
    "start_time": "2024-10-17T03:44:33.935Z"
   },
   {
    "duration": 112,
    "start_time": "2024-10-17T03:44:33.946Z"
   },
   {
    "duration": 93,
    "start_time": "2024-10-17T03:44:34.059Z"
   },
   {
    "duration": 30,
    "start_time": "2024-10-17T03:44:34.154Z"
   },
   {
    "duration": 32,
    "start_time": "2024-10-17T03:44:34.186Z"
   },
   {
    "duration": 3,
    "start_time": "2024-10-17T03:44:34.220Z"
   },
   {
    "duration": 24,
    "start_time": "2024-10-17T03:44:34.225Z"
   },
   {
    "duration": 9,
    "start_time": "2024-10-17T03:44:34.250Z"
   },
   {
    "duration": 4,
    "start_time": "2024-10-17T03:44:34.260Z"
   },
   {
    "duration": 8,
    "start_time": "2024-10-17T03:44:34.266Z"
   },
   {
    "duration": 4,
    "start_time": "2024-10-17T03:44:34.275Z"
   },
   {
    "duration": 8,
    "start_time": "2024-10-17T03:44:34.313Z"
   },
   {
    "duration": 8,
    "start_time": "2024-10-17T03:44:34.322Z"
   },
   {
    "duration": 4,
    "start_time": "2024-10-17T03:44:34.333Z"
   },
   {
    "duration": 824,
    "start_time": "2024-10-17T03:44:34.339Z"
   },
   {
    "duration": 726,
    "start_time": "2024-10-17T03:44:35.165Z"
   },
   {
    "duration": 7,
    "start_time": "2024-10-17T03:44:35.893Z"
   },
   {
    "duration": 9,
    "start_time": "2024-10-17T03:44:35.913Z"
   },
   {
    "duration": 8,
    "start_time": "2024-10-17T03:44:35.926Z"
   },
   {
    "duration": 6,
    "start_time": "2024-10-17T03:44:35.937Z"
   },
   {
    "duration": 11,
    "start_time": "2024-10-17T03:44:35.945Z"
   },
   {
    "duration": 5,
    "start_time": "2024-10-17T03:44:35.958Z"
   },
   {
    "duration": 51,
    "start_time": "2024-10-17T03:44:35.964Z"
   },
   {
    "duration": 15,
    "start_time": "2024-10-17T03:44:36.018Z"
   },
   {
    "duration": 51,
    "start_time": "2024-10-17T03:44:36.034Z"
   },
   {
    "duration": 30,
    "start_time": "2024-10-17T03:44:36.086Z"
   },
   {
    "duration": 4,
    "start_time": "2024-10-17T03:44:36.117Z"
   },
   {
    "duration": 25,
    "start_time": "2024-10-17T03:44:36.122Z"
   },
   {
    "duration": 35,
    "start_time": "2024-10-17T03:44:36.148Z"
   },
   {
    "duration": 14,
    "start_time": "2024-10-17T03:44:36.212Z"
   },
   {
    "duration": 7,
    "start_time": "2024-10-17T03:44:36.228Z"
   },
   {
    "duration": 146,
    "start_time": "2024-10-17T03:44:36.236Z"
   },
   {
    "duration": 160,
    "start_time": "2024-10-17T03:44:36.383Z"
   },
   {
    "duration": 8,
    "start_time": "2024-10-17T03:44:36.546Z"
   },
   {
    "duration": 178,
    "start_time": "2024-10-17T03:44:36.556Z"
   },
   {
    "duration": 9,
    "start_time": "2024-10-17T03:44:36.736Z"
   },
   {
    "duration": 179,
    "start_time": "2024-10-17T03:44:36.747Z"
   },
   {
    "duration": 155,
    "start_time": "2024-10-17T03:44:36.928Z"
   },
   {
    "duration": 3,
    "start_time": "2024-10-17T03:44:37.085Z"
   },
   {
    "duration": 606,
    "start_time": "2024-10-17T03:44:37.090Z"
   },
   {
    "duration": 533,
    "start_time": "2024-10-17T03:44:37.698Z"
   },
   {
    "duration": 456,
    "start_time": "2024-10-17T03:44:38.233Z"
   },
   {
    "duration": 721,
    "start_time": "2024-10-17T03:44:38.691Z"
   },
   {
    "duration": 324,
    "start_time": "2024-10-17T03:44:39.413Z"
   },
   {
    "duration": 10,
    "start_time": "2024-10-17T03:44:39.738Z"
   },
   {
    "duration": 33,
    "start_time": "2024-10-17T03:44:39.750Z"
   },
   {
    "duration": 90,
    "start_time": "2024-10-17T03:44:39.785Z"
   },
   {
    "duration": 9,
    "start_time": "2024-10-17T03:44:39.877Z"
   },
   {
    "duration": 9,
    "start_time": "2024-10-17T04:55:54.513Z"
   },
   {
    "duration": 156,
    "start_time": "2024-10-17T04:56:05.699Z"
   },
   {
    "duration": 2196,
    "start_time": "2024-10-17T04:56:09.710Z"
   },
   {
    "duration": 189,
    "start_time": "2024-10-17T04:56:11.909Z"
   },
   {
    "duration": 65,
    "start_time": "2024-10-17T04:56:12.099Z"
   },
   {
    "duration": 12,
    "start_time": "2024-10-17T04:56:12.167Z"
   },
   {
    "duration": 11,
    "start_time": "2024-10-17T04:56:12.181Z"
   },
   {
    "duration": 838,
    "start_time": "2024-10-17T04:56:12.194Z"
   },
   {
    "duration": 20,
    "start_time": "2024-10-17T04:56:13.034Z"
   },
   {
    "duration": 55,
    "start_time": "2024-10-17T04:56:13.057Z"
   },
   {
    "duration": 105,
    "start_time": "2024-10-17T04:56:13.114Z"
   },
   {
    "duration": 10,
    "start_time": "2024-10-17T04:56:13.223Z"
   },
   {
    "duration": 127,
    "start_time": "2024-10-17T04:56:13.235Z"
   },
   {
    "duration": 94,
    "start_time": "2024-10-17T04:56:13.364Z"
   },
   {
    "duration": 31,
    "start_time": "2024-10-17T04:56:13.461Z"
   },
   {
    "duration": 26,
    "start_time": "2024-10-17T04:56:13.494Z"
   },
   {
    "duration": 3,
    "start_time": "2024-10-17T04:56:13.522Z"
   },
   {
    "duration": 24,
    "start_time": "2024-10-17T04:56:13.528Z"
   },
   {
    "duration": 9,
    "start_time": "2024-10-17T04:56:13.554Z"
   },
   {
    "duration": 3,
    "start_time": "2024-10-17T04:56:13.565Z"
   },
   {
    "duration": 42,
    "start_time": "2024-10-17T04:56:13.570Z"
   },
   {
    "duration": 4,
    "start_time": "2024-10-17T04:56:13.614Z"
   },
   {
    "duration": 8,
    "start_time": "2024-10-17T04:56:13.620Z"
   },
   {
    "duration": 7,
    "start_time": "2024-10-17T04:56:13.630Z"
   },
   {
    "duration": 4,
    "start_time": "2024-10-17T04:56:13.639Z"
   },
   {
    "duration": 847,
    "start_time": "2024-10-17T04:56:13.644Z"
   },
   {
    "duration": 768,
    "start_time": "2024-10-17T04:56:14.492Z"
   },
   {
    "duration": 6,
    "start_time": "2024-10-17T04:56:15.263Z"
   },
   {
    "duration": 9,
    "start_time": "2024-10-17T04:56:15.270Z"
   },
   {
    "duration": 30,
    "start_time": "2024-10-17T04:56:15.284Z"
   },
   {
    "duration": 10,
    "start_time": "2024-10-17T04:56:15.317Z"
   },
   {
    "duration": 13,
    "start_time": "2024-10-17T04:56:15.330Z"
   },
   {
    "duration": 6,
    "start_time": "2024-10-17T04:56:15.344Z"
   },
   {
    "duration": 19,
    "start_time": "2024-10-17T04:56:15.352Z"
   },
   {
    "duration": 47,
    "start_time": "2024-10-17T04:56:15.373Z"
   },
   {
    "duration": 53,
    "start_time": "2024-10-17T04:56:15.422Z"
   },
   {
    "duration": 35,
    "start_time": "2024-10-17T04:56:15.477Z"
   },
   {
    "duration": 3,
    "start_time": "2024-10-17T04:56:15.514Z"
   },
   {
    "duration": 26,
    "start_time": "2024-10-17T04:56:15.519Z"
   },
   {
    "duration": 36,
    "start_time": "2024-10-17T04:56:15.550Z"
   },
   {
    "duration": 37,
    "start_time": "2024-10-17T04:56:15.588Z"
   },
   {
    "duration": 7,
    "start_time": "2024-10-17T04:56:15.627Z"
   },
   {
    "duration": 154,
    "start_time": "2024-10-17T04:56:15.635Z"
   },
   {
    "duration": 161,
    "start_time": "2024-10-17T04:56:15.791Z"
   },
   {
    "duration": 9,
    "start_time": "2024-10-17T04:56:15.954Z"
   },
   {
    "duration": 188,
    "start_time": "2024-10-17T04:56:15.964Z"
   },
   {
    "duration": 9,
    "start_time": "2024-10-17T04:56:16.155Z"
   },
   {
    "duration": 182,
    "start_time": "2024-10-17T04:56:16.165Z"
   },
   {
    "duration": 170,
    "start_time": "2024-10-17T04:56:16.349Z"
   },
   {
    "duration": 4,
    "start_time": "2024-10-17T04:56:16.521Z"
   },
   {
    "duration": 587,
    "start_time": "2024-10-17T04:56:16.527Z"
   },
   {
    "duration": 514,
    "start_time": "2024-10-17T04:56:17.116Z"
   },
   {
    "duration": 477,
    "start_time": "2024-10-17T04:56:17.632Z"
   },
   {
    "duration": 720,
    "start_time": "2024-10-17T04:56:18.112Z"
   },
   {
    "duration": 327,
    "start_time": "2024-10-17T04:56:18.834Z"
   },
   {
    "duration": 10,
    "start_time": "2024-10-17T04:56:19.162Z"
   },
   {
    "duration": 43,
    "start_time": "2024-10-17T04:56:19.174Z"
   },
   {
    "duration": 73,
    "start_time": "2024-10-17T04:56:19.218Z"
   },
   {
    "duration": 26,
    "start_time": "2024-10-17T04:56:19.294Z"
   },
   {
    "duration": 56,
    "start_time": "2024-10-17T05:00:49.223Z"
   },
   {
    "duration": 3,
    "start_time": "2024-10-17T05:00:50.734Z"
   },
   {
    "duration": 2,
    "start_time": "2024-10-17T05:00:58.607Z"
   },
   {
    "duration": 124,
    "start_time": "2024-10-17T05:00:58.612Z"
   },
   {
    "duration": 34,
    "start_time": "2024-10-17T05:00:58.738Z"
   },
   {
    "duration": 9,
    "start_time": "2024-10-17T05:00:58.774Z"
   },
   {
    "duration": 8,
    "start_time": "2024-10-17T05:00:58.785Z"
   },
   {
    "duration": 707,
    "start_time": "2024-10-17T05:00:58.811Z"
   },
   {
    "duration": 16,
    "start_time": "2024-10-17T05:00:59.520Z"
   },
   {
    "duration": 32,
    "start_time": "2024-10-17T05:00:59.538Z"
   },
   {
    "duration": 92,
    "start_time": "2024-10-17T05:00:59.573Z"
   },
   {
    "duration": 9,
    "start_time": "2024-10-17T05:00:59.667Z"
   },
   {
    "duration": 98,
    "start_time": "2024-10-17T05:00:59.678Z"
   },
   {
    "duration": 87,
    "start_time": "2024-10-17T05:00:59.777Z"
   },
   {
    "duration": 24,
    "start_time": "2024-10-17T05:00:59.866Z"
   },
   {
    "duration": 23,
    "start_time": "2024-10-17T05:00:59.892Z"
   },
   {
    "duration": 4,
    "start_time": "2024-10-17T05:00:59.917Z"
   },
   {
    "duration": 27,
    "start_time": "2024-10-17T05:00:59.923Z"
   },
   {
    "duration": 13,
    "start_time": "2024-10-17T05:00:59.952Z"
   },
   {
    "duration": 4,
    "start_time": "2024-10-17T05:00:59.968Z"
   },
   {
    "duration": 40,
    "start_time": "2024-10-17T05:00:59.975Z"
   },
   {
    "duration": 4,
    "start_time": "2024-10-17T05:01:00.017Z"
   },
   {
    "duration": 8,
    "start_time": "2024-10-17T05:01:00.022Z"
   },
   {
    "duration": 8,
    "start_time": "2024-10-17T05:01:00.032Z"
   },
   {
    "duration": 4,
    "start_time": "2024-10-17T05:01:00.042Z"
   },
   {
    "duration": 835,
    "start_time": "2024-10-17T05:01:00.049Z"
   },
   {
    "duration": 730,
    "start_time": "2024-10-17T05:01:00.886Z"
   },
   {
    "duration": 7,
    "start_time": "2024-10-17T05:01:01.618Z"
   },
   {
    "duration": 8,
    "start_time": "2024-10-17T05:01:01.627Z"
   },
   {
    "duration": 8,
    "start_time": "2024-10-17T05:01:01.636Z"
   },
   {
    "duration": 7,
    "start_time": "2024-10-17T05:01:01.646Z"
   },
   {
    "duration": 12,
    "start_time": "2024-10-17T05:01:01.654Z"
   },
   {
    "duration": 46,
    "start_time": "2024-10-17T05:01:01.668Z"
   },
   {
    "duration": 13,
    "start_time": "2024-10-17T05:01:01.716Z"
   },
   {
    "duration": 15,
    "start_time": "2024-10-17T05:01:01.732Z"
   },
   {
    "duration": 71,
    "start_time": "2024-10-17T05:01:01.748Z"
   },
   {
    "duration": 32,
    "start_time": "2024-10-17T05:01:04.717Z"
   },
   {
    "duration": 4,
    "start_time": "2024-10-17T05:01:06.484Z"
   },
   {
    "duration": 2154,
    "start_time": "2024-10-17T14:40:54.966Z"
   },
   {
    "duration": 157,
    "start_time": "2024-10-17T14:40:57.122Z"
   },
   {
    "duration": 58,
    "start_time": "2024-10-17T14:40:57.282Z"
   },
   {
    "duration": 11,
    "start_time": "2024-10-17T14:40:57.343Z"
   },
   {
    "duration": 11,
    "start_time": "2024-10-17T14:40:57.355Z"
   },
   {
    "duration": 812,
    "start_time": "2024-10-17T14:40:57.368Z"
   },
   {
    "duration": 19,
    "start_time": "2024-10-17T14:40:58.183Z"
   },
   {
    "duration": 46,
    "start_time": "2024-10-17T14:40:58.205Z"
   },
   {
    "duration": 94,
    "start_time": "2024-10-17T14:40:58.253Z"
   },
   {
    "duration": 9,
    "start_time": "2024-10-17T14:40:58.350Z"
   },
   {
    "duration": 108,
    "start_time": "2024-10-17T14:40:58.361Z"
   },
   {
    "duration": 90,
    "start_time": "2024-10-17T14:40:58.472Z"
   },
   {
    "duration": 28,
    "start_time": "2024-10-17T14:40:58.564Z"
   },
   {
    "duration": 12,
    "start_time": "2024-10-17T14:40:58.594Z"
   },
   {
    "duration": 4,
    "start_time": "2024-10-17T14:40:58.608Z"
   },
   {
    "duration": 53,
    "start_time": "2024-10-17T14:40:58.613Z"
   },
   {
    "duration": 8,
    "start_time": "2024-10-17T14:40:58.667Z"
   },
   {
    "duration": 4,
    "start_time": "2024-10-17T14:40:58.677Z"
   },
   {
    "duration": 8,
    "start_time": "2024-10-17T14:40:58.684Z"
   },
   {
    "duration": 3,
    "start_time": "2024-10-17T14:40:58.693Z"
   },
   {
    "duration": 7,
    "start_time": "2024-10-17T14:40:58.698Z"
   },
   {
    "duration": 40,
    "start_time": "2024-10-17T14:40:58.707Z"
   },
   {
    "duration": 4,
    "start_time": "2024-10-17T14:40:58.748Z"
   },
   {
    "duration": 817,
    "start_time": "2024-10-17T14:40:58.754Z"
   },
   {
    "duration": 710,
    "start_time": "2024-10-17T14:40:59.573Z"
   },
   {
    "duration": 7,
    "start_time": "2024-10-17T14:41:00.285Z"
   },
   {
    "duration": 9,
    "start_time": "2024-10-17T14:41:00.293Z"
   },
   {
    "duration": 8,
    "start_time": "2024-10-17T14:41:00.305Z"
   },
   {
    "duration": 32,
    "start_time": "2024-10-17T14:41:00.315Z"
   },
   {
    "duration": 11,
    "start_time": "2024-10-17T14:41:00.348Z"
   },
   {
    "duration": 5,
    "start_time": "2024-10-17T14:41:00.361Z"
   },
   {
    "duration": 13,
    "start_time": "2024-10-17T14:41:00.367Z"
   },
   {
    "duration": 16,
    "start_time": "2024-10-17T14:41:00.382Z"
   },
   {
    "duration": 83,
    "start_time": "2024-10-17T14:41:00.399Z"
   },
   {
    "duration": 36,
    "start_time": "2024-10-17T14:41:00.487Z"
   },
   {
    "duration": 9,
    "start_time": "2024-10-17T14:41:00.524Z"
   },
   {
    "duration": 34,
    "start_time": "2024-10-17T14:41:00.534Z"
   },
   {
    "duration": 41,
    "start_time": "2024-10-17T14:41:00.570Z"
   },
   {
    "duration": 35,
    "start_time": "2024-10-17T14:41:00.613Z"
   },
   {
    "duration": 9,
    "start_time": "2024-10-17T14:41:00.649Z"
   },
   {
    "duration": 148,
    "start_time": "2024-10-17T14:41:00.660Z"
   },
   {
    "duration": 153,
    "start_time": "2024-10-17T14:41:00.810Z"
   },
   {
    "duration": 8,
    "start_time": "2024-10-17T14:41:00.965Z"
   },
   {
    "duration": 213,
    "start_time": "2024-10-17T14:41:00.975Z"
   },
   {
    "duration": 9,
    "start_time": "2024-10-17T14:41:01.190Z"
   },
   {
    "duration": 189,
    "start_time": "2024-10-17T14:41:01.201Z"
   },
   {
    "duration": 157,
    "start_time": "2024-10-17T14:41:01.391Z"
   },
   {
    "duration": 4,
    "start_time": "2024-10-17T14:41:01.550Z"
   },
   {
    "duration": 582,
    "start_time": "2024-10-17T14:41:01.555Z"
   },
   {
    "duration": 500,
    "start_time": "2024-10-17T14:41:02.138Z"
   },
   {
    "duration": 428,
    "start_time": "2024-10-17T14:41:02.640Z"
   },
   {
    "duration": 702,
    "start_time": "2024-10-17T14:41:03.070Z"
   },
   {
    "duration": 311,
    "start_time": "2024-10-17T14:41:03.774Z"
   },
   {
    "duration": 9,
    "start_time": "2024-10-17T14:41:04.086Z"
   },
   {
    "duration": 46,
    "start_time": "2024-10-17T14:41:04.097Z"
   },
   {
    "duration": 69,
    "start_time": "2024-10-17T14:41:04.145Z"
   },
   {
    "duration": 8,
    "start_time": "2024-10-17T14:41:04.215Z"
   },
   {
    "duration": 613,
    "start_time": "2024-10-17T14:42:44.709Z"
   },
   {
    "duration": 42,
    "start_time": "2024-10-17T14:42:54.551Z"
   },
   {
    "duration": 6,
    "start_time": "2024-10-17T14:43:08.766Z"
   },
   {
    "duration": 9,
    "start_time": "2024-10-17T14:44:32.424Z"
   },
   {
    "duration": 8,
    "start_time": "2024-10-17T14:45:52.946Z"
   },
   {
    "duration": 11,
    "start_time": "2024-10-17T14:47:43.546Z"
   },
   {
    "duration": 8,
    "start_time": "2024-10-17T14:48:06.238Z"
   },
   {
    "duration": 11,
    "start_time": "2024-10-17T14:48:50.482Z"
   },
   {
    "duration": 6,
    "start_time": "2024-10-17T14:51:20.885Z"
   },
   {
    "duration": 5,
    "start_time": "2024-10-17T14:52:38.501Z"
   },
   {
    "duration": 7,
    "start_time": "2024-10-17T14:53:41.723Z"
   },
   {
    "duration": 466,
    "start_time": "2024-10-17T15:29:18.851Z"
   },
   {
    "duration": 164,
    "start_time": "2024-10-17T15:29:19.320Z"
   },
   {
    "duration": 40,
    "start_time": "2024-10-17T15:29:19.486Z"
   },
   {
    "duration": 19,
    "start_time": "2024-10-17T15:29:19.528Z"
   },
   {
    "duration": 8,
    "start_time": "2024-10-17T15:29:19.549Z"
   },
   {
    "duration": 735,
    "start_time": "2024-10-17T15:29:19.558Z"
   },
   {
    "duration": 18,
    "start_time": "2024-10-17T15:29:20.295Z"
   },
   {
    "duration": 46,
    "start_time": "2024-10-17T15:29:20.315Z"
   },
   {
    "duration": 102,
    "start_time": "2024-10-17T15:29:20.363Z"
   },
   {
    "duration": 9,
    "start_time": "2024-10-17T15:29:20.468Z"
   },
   {
    "duration": 128,
    "start_time": "2024-10-17T15:29:20.479Z"
   },
   {
    "duration": 95,
    "start_time": "2024-10-17T15:29:20.608Z"
   },
   {
    "duration": 38,
    "start_time": "2024-10-17T15:29:20.705Z"
   },
   {
    "duration": 14,
    "start_time": "2024-10-17T15:29:20.745Z"
   },
   {
    "duration": 3,
    "start_time": "2024-10-17T15:29:20.761Z"
   },
   {
    "duration": 25,
    "start_time": "2024-10-17T15:29:20.765Z"
   },
   {
    "duration": 8,
    "start_time": "2024-10-17T15:29:20.792Z"
   },
   {
    "duration": 3,
    "start_time": "2024-10-17T15:29:20.802Z"
   },
   {
    "duration": 45,
    "start_time": "2024-10-17T15:29:20.808Z"
   },
   {
    "duration": 7,
    "start_time": "2024-10-17T15:29:20.855Z"
   },
   {
    "duration": 10,
    "start_time": "2024-10-17T15:29:20.864Z"
   },
   {
    "duration": 8,
    "start_time": "2024-10-17T15:29:20.875Z"
   },
   {
    "duration": 4,
    "start_time": "2024-10-17T15:29:20.885Z"
   },
   {
    "duration": 836,
    "start_time": "2024-10-17T15:29:20.890Z"
   },
   {
    "duration": 760,
    "start_time": "2024-10-17T15:29:21.728Z"
   },
   {
    "duration": 6,
    "start_time": "2024-10-17T15:29:22.490Z"
   },
   {
    "duration": 8,
    "start_time": "2024-10-17T15:29:22.498Z"
   },
   {
    "duration": 8,
    "start_time": "2024-10-17T15:29:22.510Z"
   },
   {
    "duration": 28,
    "start_time": "2024-10-17T15:29:22.519Z"
   },
   {
    "duration": 13,
    "start_time": "2024-10-17T15:29:22.549Z"
   },
   {
    "duration": 5,
    "start_time": "2024-10-17T15:29:22.563Z"
   },
   {
    "duration": 23,
    "start_time": "2024-10-17T15:29:22.570Z"
   },
   {
    "duration": 50,
    "start_time": "2024-10-17T15:29:22.595Z"
   },
   {
    "duration": 52,
    "start_time": "2024-10-17T15:29:22.647Z"
   },
   {
    "duration": 46,
    "start_time": "2024-10-17T15:29:22.701Z"
   },
   {
    "duration": 4,
    "start_time": "2024-10-17T15:29:22.748Z"
   },
   {
    "duration": 25,
    "start_time": "2024-10-17T15:29:22.753Z"
   },
   {
    "duration": 36,
    "start_time": "2024-10-17T15:29:22.780Z"
   },
   {
    "duration": 36,
    "start_time": "2024-10-17T15:29:22.818Z"
   },
   {
    "duration": 7,
    "start_time": "2024-10-17T15:29:22.856Z"
   },
   {
    "duration": 150,
    "start_time": "2024-10-17T15:29:22.865Z"
   },
   {
    "duration": 159,
    "start_time": "2024-10-17T15:29:23.017Z"
   },
   {
    "duration": 9,
    "start_time": "2024-10-17T15:29:23.178Z"
   },
   {
    "duration": 168,
    "start_time": "2024-10-17T15:29:23.188Z"
   },
   {
    "duration": 9,
    "start_time": "2024-10-17T15:29:23.358Z"
   },
   {
    "duration": 185,
    "start_time": "2024-10-17T15:29:23.369Z"
   },
   {
    "duration": 158,
    "start_time": "2024-10-17T15:29:23.556Z"
   },
   {
    "duration": 3,
    "start_time": "2024-10-17T15:29:23.716Z"
   },
   {
    "duration": 580,
    "start_time": "2024-10-17T15:29:23.721Z"
   },
   {
    "duration": 495,
    "start_time": "2024-10-17T15:29:24.302Z"
   },
   {
    "duration": 445,
    "start_time": "2024-10-17T15:29:24.799Z"
   },
   {
    "duration": 956,
    "start_time": "2024-10-17T15:29:25.246Z"
   },
   {
    "duration": 318,
    "start_time": "2024-10-17T15:29:26.204Z"
   },
   {
    "duration": 10,
    "start_time": "2024-10-17T15:29:26.523Z"
   },
   {
    "duration": 35,
    "start_time": "2024-10-17T15:29:26.542Z"
   },
   {
    "duration": 82,
    "start_time": "2024-10-17T15:29:26.578Z"
   },
   {
    "duration": 7,
    "start_time": "2024-10-17T15:29:26.662Z"
   },
   {
    "duration": 2166,
    "start_time": "2024-10-29T18:34:59.917Z"
   },
   {
    "duration": 157,
    "start_time": "2024-10-29T18:35:02.086Z"
   },
   {
    "duration": 57,
    "start_time": "2024-10-29T18:35:02.245Z"
   },
   {
    "duration": 11,
    "start_time": "2024-10-29T18:35:02.303Z"
   },
   {
    "duration": 9,
    "start_time": "2024-10-29T18:35:02.316Z"
   },
   {
    "duration": 852,
    "start_time": "2024-10-29T18:35:02.327Z"
   },
   {
    "duration": 17,
    "start_time": "2024-10-29T18:35:03.181Z"
   },
   {
    "duration": 44,
    "start_time": "2024-10-29T18:35:03.200Z"
   },
   {
    "duration": 97,
    "start_time": "2024-10-29T18:35:03.246Z"
   },
   {
    "duration": 9,
    "start_time": "2024-10-29T18:35:03.344Z"
   },
   {
    "duration": 117,
    "start_time": "2024-10-29T18:35:03.355Z"
   },
   {
    "duration": 93,
    "start_time": "2024-10-29T18:35:03.474Z"
   },
   {
    "duration": 34,
    "start_time": "2024-10-29T18:35:03.569Z"
   },
   {
    "duration": 12,
    "start_time": "2024-10-29T18:35:03.608Z"
   },
   {
    "duration": 3,
    "start_time": "2024-10-29T18:35:03.622Z"
   },
   {
    "duration": 25,
    "start_time": "2024-10-29T18:35:03.643Z"
   },
   {
    "duration": 8,
    "start_time": "2024-10-29T18:35:03.670Z"
   },
   {
    "duration": 3,
    "start_time": "2024-10-29T18:35:03.680Z"
   },
   {
    "duration": 8,
    "start_time": "2024-10-29T18:35:03.685Z"
   },
   {
    "duration": 3,
    "start_time": "2024-10-29T18:35:03.695Z"
   },
   {
    "duration": 44,
    "start_time": "2024-10-29T18:35:03.700Z"
   },
   {
    "duration": 7,
    "start_time": "2024-10-29T18:35:03.745Z"
   },
   {
    "duration": 4,
    "start_time": "2024-10-29T18:35:03.754Z"
   },
   {
    "duration": 818,
    "start_time": "2024-10-29T18:35:03.759Z"
   },
   {
    "duration": 699,
    "start_time": "2024-10-29T18:35:04.579Z"
   },
   {
    "duration": 7,
    "start_time": "2024-10-29T18:35:05.280Z"
   },
   {
    "duration": 11,
    "start_time": "2024-10-29T18:35:05.289Z"
   },
   {
    "duration": 9,
    "start_time": "2024-10-29T18:35:05.301Z"
   },
   {
    "duration": 6,
    "start_time": "2024-10-29T18:35:05.312Z"
   },
   {
    "duration": 13,
    "start_time": "2024-10-29T18:35:05.343Z"
   },
   {
    "duration": 5,
    "start_time": "2024-10-29T18:35:05.357Z"
   },
   {
    "duration": 13,
    "start_time": "2024-10-29T18:35:05.364Z"
   },
   {
    "duration": 16,
    "start_time": "2024-10-29T18:35:05.379Z"
   },
   {
    "duration": 82,
    "start_time": "2024-10-29T18:35:05.397Z"
   },
   {
    "duration": 29,
    "start_time": "2024-10-29T18:35:05.481Z"
   },
   {
    "duration": 3,
    "start_time": "2024-10-29T18:35:05.511Z"
   },
   {
    "duration": 46,
    "start_time": "2024-10-29T18:35:05.516Z"
   },
   {
    "duration": 38,
    "start_time": "2024-10-29T18:35:05.564Z"
   },
   {
    "duration": 16,
    "start_time": "2024-10-29T18:35:05.604Z"
   },
   {
    "duration": 23,
    "start_time": "2024-10-29T18:35:05.622Z"
   },
   {
    "duration": 139,
    "start_time": "2024-10-29T18:35:05.650Z"
   },
   {
    "duration": 151,
    "start_time": "2024-10-29T18:35:05.792Z"
   },
   {
    "duration": 7,
    "start_time": "2024-10-29T18:35:05.945Z"
   },
   {
    "duration": 169,
    "start_time": "2024-10-29T18:35:05.954Z"
   },
   {
    "duration": 17,
    "start_time": "2024-10-29T18:35:06.126Z"
   },
   {
    "duration": 215,
    "start_time": "2024-10-29T18:35:06.145Z"
   },
   {
    "duration": 157,
    "start_time": "2024-10-29T18:35:06.362Z"
   },
   {
    "duration": 4,
    "start_time": "2024-10-29T18:35:06.520Z"
   },
   {
    "duration": 577,
    "start_time": "2024-10-29T18:35:06.525Z"
   },
   {
    "duration": 500,
    "start_time": "2024-10-29T18:35:07.104Z"
   },
   {
    "duration": 418,
    "start_time": "2024-10-29T18:35:07.605Z"
   },
   {
    "duration": 718,
    "start_time": "2024-10-29T18:35:08.025Z"
   },
   {
    "duration": 313,
    "start_time": "2024-10-29T18:35:08.744Z"
   },
   {
    "duration": 11,
    "start_time": "2024-10-29T18:35:09.059Z"
   },
   {
    "duration": 34,
    "start_time": "2024-10-29T18:35:09.072Z"
   },
   {
    "duration": 85,
    "start_time": "2024-10-29T18:35:09.108Z"
   },
   {
    "duration": 8,
    "start_time": "2024-10-29T18:35:09.195Z"
   }
  ],
  "kernelspec": {
   "display_name": "Python 3 (ipykernel)",
   "language": "python",
   "name": "python3"
  },
  "language_info": {
   "codemirror_mode": {
    "name": "ipython",
    "version": 3
   },
   "file_extension": ".py",
   "mimetype": "text/x-python",
   "name": "python",
   "nbconvert_exporter": "python",
   "pygments_lexer": "ipython3",
   "version": "3.12.7"
  },
  "toc": {
   "base_numbering": 1,
   "nav_menu": {},
   "number_sections": true,
   "sideBar": true,
   "skip_h1_title": true,
   "title_cell": "Table of Contents",
   "title_sidebar": "Contents",
   "toc_cell": false,
   "toc_position": {},
   "toc_section_display": true,
   "toc_window_display": false
  },
  "vscode": {
   "interpreter": {
    "hash": "01a7be9ec63e704a62cefc5fe7a4756944464ee731be31632bdf42a4cb4688cf"
   }
  }
 },
 "nbformat": 4,
 "nbformat_minor": 5
}
